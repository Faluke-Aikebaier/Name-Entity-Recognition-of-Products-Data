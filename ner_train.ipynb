{
 "cells": [
  {
   "cell_type": "markdown",
   "metadata": {},
   "source": [
    "<h1><center> Name-Entity Recognition of Products Data </center></h1>"
   ]
  },
  {
   "cell_type": "markdown",
   "metadata": {},
   "source": [
    "## 1. Dataset"
   ]
  },
  {
   "cell_type": "code",
   "execution_count": 1,
   "metadata": {},
   "outputs": [],
   "source": [
    "import pandas as pd\n",
    "import numpy as np\n",
    "import plac\n",
    "import random\n",
    "from pathlib import Path\n",
    "import spacy\n",
    "from tqdm import tqdm \n",
    "from spacy.util import minibatch, compounding\n",
    "from spacy import displacy\n",
    "import string\n",
    "import pickle\n",
    "from spacy.gold import GoldParse\n",
    "from spacy.scorer import Scorer"
   ]
  },
  {
   "cell_type": "code",
   "execution_count": 2,
   "metadata": {},
   "outputs": [],
   "source": [
    "df = pd.read_csv(\"data.csv\")"
   ]
  },
  {
   "cell_type": "code",
   "execution_count": 3,
   "metadata": {},
   "outputs": [
    {
     "data": {
      "text/plain": [
       "(671621, 8)"
      ]
     },
     "execution_count": 3,
     "metadata": {},
     "output_type": "execute_result"
    }
   ],
   "source": [
    "df.shape"
   ]
  },
  {
   "cell_type": "code",
   "execution_count": 4,
   "metadata": {
    "scrolled": true
   },
   "outputs": [
    {
     "data": {
      "text/html": [
       "<div>\n",
       "<style scoped>\n",
       "    .dataframe tbody tr th:only-of-type {\n",
       "        vertical-align: middle;\n",
       "    }\n",
       "\n",
       "    .dataframe tbody tr th {\n",
       "        vertical-align: top;\n",
       "    }\n",
       "\n",
       "    .dataframe thead th {\n",
       "        text-align: right;\n",
       "    }\n",
       "</style>\n",
       "<table border=\"1\" class=\"dataframe\">\n",
       "  <thead>\n",
       "    <tr style=\"text-align: right;\">\n",
       "      <th></th>\n",
       "      <th>title</th>\n",
       "      <th>description</th>\n",
       "      <th>summary</th>\n",
       "      <th>brand</th>\n",
       "      <th>price</th>\n",
       "      <th>meta</th>\n",
       "      <th>provider_category</th>\n",
       "      <th>provider</th>\n",
       "    </tr>\n",
       "  </thead>\n",
       "  <tbody>\n",
       "    <tr>\n",
       "      <th>0</th>\n",
       "      <td>adidas Originals - Superstar - Valkoinen - US 5,5</td>\n",
       "      <td>NaN</td>\n",
       "      <td>NaN</td>\n",
       "      <td>adidas Originals</td>\n",
       "      <td>66.50</td>\n",
       "      <td>{\"SIZE\": [\"us 5,5\"], \"COLOR\": [\"valkoinen\"], \"...</td>\n",
       "      <td>17-muoti-ja-vaatetus</td>\n",
       "      <td>Caliroots</td>\n",
       "    </tr>\n",
       "    <tr>\n",
       "      <th>1</th>\n",
       "      <td>Sc-Erna Polvipituinen Hame Sininen Soyaconcept</td>\n",
       "      <td>SOYACONCEPT on tanskalainen brändi, joka luo e...</td>\n",
       "      <td>NaN</td>\n",
       "      <td>Soyaconcept</td>\n",
       "      <td>49.99</td>\n",
       "      <td>{\"SIZE\": [\"36\"], \"COLOR\": [\"cristal blue\"], \"G...</td>\n",
       "      <td>17-muoti-ja-vaatetus</td>\n",
       "      <td>Boozt</td>\n",
       "    </tr>\n",
       "    <tr>\n",
       "      <th>2</th>\n",
       "      <td>Dana Buchman Silmälasit Taren CARAMEL TORTOISE</td>\n",
       "      <td>Dana Buchman Taren Silmälasit. Collection:Men....</td>\n",
       "      <td>NaN</td>\n",
       "      <td>Dana Buchman</td>\n",
       "      <td>146.00</td>\n",
       "      <td>{\"SIZE\": [\"54\"], \"COLOR\": [\"tortoise\"], \"GENDE...</td>\n",
       "      <td>13-silmalasit-ja-piilolinssit</td>\n",
       "      <td>Smartbuy Glasses</td>\n",
       "    </tr>\n",
       "    <tr>\n",
       "      <th>3</th>\n",
       "      <td>Active Sports Woven Shorts B Shortsit Musta PUMA</td>\n",
       "      <td>PUMA Active Sports Woven Shorts B</td>\n",
       "      <td>NaN</td>\n",
       "      <td>PUMA</td>\n",
       "      <td>27.00</td>\n",
       "      <td>{\"SIZE\": [\"164\", \"128\", \"110\", \"116\", \"104\", \"...</td>\n",
       "      <td>17-muoti-ja-vaatetus</td>\n",
       "      <td>Boozt</td>\n",
       "    </tr>\n",
       "    <tr>\n",
       "      <th>4</th>\n",
       "      <td>Renata Polvipituinen Hame Musta Fall Winter Sp...</td>\n",
       "      <td>Fall Winter Spring Summer. A-linjainen.</td>\n",
       "      <td>NaN</td>\n",
       "      <td>Fall Winter Spring Summer</td>\n",
       "      <td>199.00</td>\n",
       "      <td>{\"SIZE\": [\"xs\"], \"COLOR\": [\"jet black\"], \"GEND...</td>\n",
       "      <td>17-muoti-ja-vaatetus</td>\n",
       "      <td>Boozt</td>\n",
       "    </tr>\n",
       "  </tbody>\n",
       "</table>\n",
       "</div>"
      ],
      "text/plain": [
       "                                               title  \\\n",
       "0  adidas Originals - Superstar - Valkoinen - US 5,5   \n",
       "1     Sc-Erna Polvipituinen Hame Sininen Soyaconcept   \n",
       "2     Dana Buchman Silmälasit Taren CARAMEL TORTOISE   \n",
       "3   Active Sports Woven Shorts B Shortsit Musta PUMA   \n",
       "4  Renata Polvipituinen Hame Musta Fall Winter Sp...   \n",
       "\n",
       "                                         description summary  \\\n",
       "0                                                NaN     NaN   \n",
       "1  SOYACONCEPT on tanskalainen brändi, joka luo e...     NaN   \n",
       "2  Dana Buchman Taren Silmälasit. Collection:Men....     NaN   \n",
       "3                  PUMA Active Sports Woven Shorts B     NaN   \n",
       "4            Fall Winter Spring Summer. A-linjainen.     NaN   \n",
       "\n",
       "                       brand   price  \\\n",
       "0           adidas Originals   66.50   \n",
       "1                Soyaconcept   49.99   \n",
       "2               Dana Buchman  146.00   \n",
       "3                       PUMA   27.00   \n",
       "4  Fall Winter Spring Summer  199.00   \n",
       "\n",
       "                                                meta  \\\n",
       "0  {\"SIZE\": [\"us 5,5\"], \"COLOR\": [\"valkoinen\"], \"...   \n",
       "1  {\"SIZE\": [\"36\"], \"COLOR\": [\"cristal blue\"], \"G...   \n",
       "2  {\"SIZE\": [\"54\"], \"COLOR\": [\"tortoise\"], \"GENDE...   \n",
       "3  {\"SIZE\": [\"164\", \"128\", \"110\", \"116\", \"104\", \"...   \n",
       "4  {\"SIZE\": [\"xs\"], \"COLOR\": [\"jet black\"], \"GEND...   \n",
       "\n",
       "               provider_category          provider  \n",
       "0           17-muoti-ja-vaatetus         Caliroots  \n",
       "1           17-muoti-ja-vaatetus             Boozt  \n",
       "2  13-silmalasit-ja-piilolinssit  Smartbuy Glasses  \n",
       "3           17-muoti-ja-vaatetus             Boozt  \n",
       "4           17-muoti-ja-vaatetus             Boozt  "
      ]
     },
     "execution_count": 4,
     "metadata": {},
     "output_type": "execute_result"
    }
   ],
   "source": [
    "df.head()"
   ]
  },
  {
   "cell_type": "code",
   "execution_count": 5,
   "metadata": {},
   "outputs": [
    {
     "name": "stdout",
     "output_type": "stream",
     "text": [
      "title                adidas Originals - Superstar - Valkoinen - US 5,5\n",
      "description                                                        NaN\n",
      "summary                                                            NaN\n",
      "brand                                                 adidas Originals\n",
      "price                                                             66.5\n",
      "meta                 {\"SIZE\": [\"us 5,5\"], \"COLOR\": [\"valkoinen\"], \"...\n",
      "provider_category                                 17-muoti-ja-vaatetus\n",
      "provider                                                     Caliroots\n",
      "Name: 0, dtype: object\n",
      "{\"SIZE\": [\"us 5,5\"], \"COLOR\": [\"valkoinen\"], \"GENDER\": [\"unisex\"]}\n"
     ]
    }
   ],
   "source": [
    "i=0\n",
    "print(df.loc[i])\n",
    "print(df['meta'].loc[i])"
   ]
  },
  {
   "cell_type": "code",
   "execution_count": 6,
   "metadata": {
    "scrolled": false
   },
   "outputs": [
    {
     "name": "stdout",
     "output_type": "stream",
     "text": [
      "title                   Sc-Erna Polvipituinen Hame Sininen Soyaconcept\n",
      "description          SOYACONCEPT on tanskalainen brändi, joka luo e...\n",
      "summary                                                            NaN\n",
      "brand                                                      Soyaconcept\n",
      "price                                                            49.99\n",
      "meta                 {\"SIZE\": [\"36\"], \"COLOR\": [\"cristal blue\"], \"G...\n",
      "provider_category                                 17-muoti-ja-vaatetus\n",
      "provider                                                         Boozt\n",
      "Name: 1, dtype: object\n",
      "{\"SIZE\": [\"36\"], \"COLOR\": [\"cristal blue\"], \"GENDER\": [\"women\"]}\n"
     ]
    }
   ],
   "source": [
    "i=1\n",
    "print(df.loc[i])\n",
    "print(df['meta'].loc[i])"
   ]
  },
  {
   "cell_type": "markdown",
   "metadata": {},
   "source": [
    "## 2. Entity and Entity Types\n",
    "\n",
    "One can obtain entity and entity types from the *meta* and *brand* columns. However, there are many words incorrectly written entities. These are deleted, and many entities obtained from the *title* and *descriptoin* columns are added by hand. The lengthy codes are omitted and the saved data (entity and entity labels, together with *title* and *description* columns with (first encountered) unit brands) are uploaded below: "
   ]
  },
  {
   "cell_type": "code",
   "execution_count": 7,
   "metadata": {},
   "outputs": [],
   "source": [
    "with open(\"entity.txt\", \"rb\") as fp:   # Unpickling\n",
    "    entity = pickle.load(fp)"
   ]
  },
  {
   "cell_type": "code",
   "execution_count": 8,
   "metadata": {},
   "outputs": [],
   "source": [
    "with open(\"entity_types.txt\", \"rb\") as fp:   # Unpickling\n",
    "    entity_types = pickle.load(fp)"
   ]
  },
  {
   "cell_type": "code",
   "execution_count": 9,
   "metadata": {},
   "outputs": [],
   "source": [
    "with open(\"titles_unique_brand.txt\", \"rb\") as fp:   # Unpickling\n",
    "    titles_unique_brand = pickle.load(fp)"
   ]
  },
  {
   "cell_type": "code",
   "execution_count": 10,
   "metadata": {},
   "outputs": [],
   "source": [
    "with open(\"description_unique_brand.txt\", \"rb\") as fp:   # Unpickling\n",
    "    description_unique_brand = pickle.load(fp)"
   ]
  },
  {
   "cell_type": "code",
   "execution_count": 11,
   "metadata": {},
   "outputs": [
    {
     "data": {
      "text/plain": [
       "['US 5,5',\n",
       " 'Valkoinen',\n",
       " '36',\n",
       " 'Cristal Blue',\n",
       " '54',\n",
       " 'Tortoise',\n",
       " '164',\n",
       " '128',\n",
       " '110',\n",
       " '116']"
      ]
     },
     "execution_count": 11,
     "metadata": {},
     "output_type": "execute_result"
    }
   ],
   "source": [
    "entity[0:10]"
   ]
  },
  {
   "cell_type": "code",
   "execution_count": 12,
   "metadata": {},
   "outputs": [
    {
     "data": {
      "text/plain": [
       "['SIZE',\n",
       " 'COLOR',\n",
       " 'SIZE',\n",
       " 'COLOR',\n",
       " 'SIZE',\n",
       " 'COLOR',\n",
       " 'SIZE',\n",
       " 'SIZE',\n",
       " 'SIZE',\n",
       " 'SIZE']"
      ]
     },
     "execution_count": 12,
     "metadata": {},
     "output_type": "execute_result"
    }
   ],
   "source": [
    "entity_types[0:10]"
   ]
  },
  {
   "cell_type": "markdown",
   "metadata": {},
   "source": [
    "## 3. Obtaining Training Data\n",
    "\n",
    "- Loop through the *title* column, and the *description* column, make a list extracted from *title/description* column which have (first encountered) unique brands.\n",
    "    - For the *description* column, we can drop rows include `&` and `<b>` signs, in order to increase the accuracy.\n",
    "- In each loop, use the entity and entity types lists:\n",
    "    - Construct annotation, but this annotation will be highly overlapped in the charactors' ranges. This is not allowed in the training process. \n",
    "    - Get rid of overlapped charactors' ranges, always choose the phrases with wider range\n",
    "    - Repeating the same process above, in case there are still overlapped charactors' ranges. This is due to the fact that, the wirtten code, only compares two phrases at once, and this may lead to some left over overlapping. "
   ]
  },
  {
   "cell_type": "code",
   "execution_count": 13,
   "metadata": {
    "scrolled": false
   },
   "outputs": [],
   "source": [
    "def obtain_annotation(title):\n",
    "    \n",
    "    # Initial annotation, charactors' ranges are highly overlapped\n",
    "    entity_set_list=[]\n",
    "    entity_dict={}\n",
    "    entity_set_range_list=[]\n",
    "    for m in range(0,len(entity)):\n",
    "        if entity[m] in title:\n",
    "            index_i=title.find(entity[m])\n",
    "            index_f=index_i+len(entity[m])\n",
    "            if (index_i != 0) and (index_f != len(title)):\n",
    "                if (title[index_i-1] == ' ' and title[index_f] == ' '):\n",
    "                    #print(entity[m])\n",
    "                    entity_tuple=(index_i, index_f, entity_types[m])\n",
    "                    entity_set_list.append(entity_tuple)\n",
    "                    entity_set_range_list.append(range(index_i, index_f))\n",
    "            if (index_i == 0) and (index_f != len(title)):\n",
    "                if (title[index_f] == ' '):\n",
    "                    #print(entity[m])\n",
    "                    entity_tuple=(index_i, index_f, entity_types[m])\n",
    "                    entity_set_list.append(entity_tuple)\n",
    "                    entity_set_range_list.append(range(index_i, index_f))\n",
    "            if (index_i != 0) and (index_f == len(title)):\n",
    "                if (title[index_i-1] == ' '):\n",
    "                    #print(entity[m], index_i, index_f)\n",
    "                    entity_tuple=(index_i, index_f, entity_types[m])\n",
    "                    entity_set_list.append(entity_tuple)\n",
    "                    entity_set_range_list.append(range(index_i, index_f))\n",
    "\n",
    "    # Second Step: Get rid of overlapped charactors' ranges\n",
    "    entity_set_list_2=[]\n",
    "    for n, entity_set_range_1 in enumerate(entity_set_range_list):\n",
    "        entity_set_range_test=set(entity_set_range_1)\n",
    "        inter=0\n",
    "        entity_set_list_2_temp=[]\n",
    "        for m, entity_set_range_2 in enumerate(entity_set_range_list):\n",
    "            if entity_set_range_1 != entity_set_range_2:\n",
    "                interss=entity_set_range_test.intersection(entity_set_range_2)\n",
    "                #entity_set_list_2_temp=[]\n",
    "                if interss==set():\n",
    "                    inter += 1\n",
    "                else:\n",
    "                    if set(entity_set_range_1)>set(entity_set_range_2):\n",
    "                        if entity_set_list[n] not in entity_set_list_2_temp:\n",
    "                            entity_set_list_2_temp.append(entity_set_list[n])\n",
    "                    elif set(entity_set_range_1)<set(entity_set_range_2):\n",
    "                        if entity_set_list[m] not in entity_set_list_2_temp:\n",
    "                            entity_set_list_2_temp.append(entity_set_list[m])\n",
    "            else:\n",
    "                if entity_set_list[n] not in entity_set_list_2_temp:\n",
    "                    entity_set_list_2_temp.append(entity_set_list[n])\n",
    "        if m == inter:\n",
    "            if entity_set_list[n] not in entity_set_list_2:\n",
    "                entity_set_list_2.append(entity_set_list[n])\n",
    "        else:\n",
    "            for entity_set_list_2_temp_item in entity_set_list_2_temp:\n",
    "                if entity_set_list_2_temp_item not in entity_set_list_2:\n",
    "                    entity_set_list_2.append(entity_set_list_2_temp_item)\n",
    "    \n",
    "    # Third Step: Get rid of overlapped charactors' ranges further if any\n",
    "    entity_set_list_3=[]\n",
    "    for n, item_1 in enumerate(entity_set_list_2):\n",
    "        item_1_range=range(item_1[0],item_1[1])\n",
    "        inter=0\n",
    "        entity_set_list_2_temp=[]\n",
    "        for m, item_2 in enumerate(entity_set_list_2):\n",
    "            item_2_range=range(item_2[0],item_2[1])\n",
    "            if item_1_range != item_2_range:\n",
    "                interss=set(item_1_range).intersection(item_2_range)\n",
    "                if interss == set():\n",
    "                    inter += 1\n",
    "                else:\n",
    "                    if set(item_1_range)>set(item_2_range):\n",
    "                        if item_1 not in entity_set_list_2_temp:\n",
    "                            entity_set_list_2_temp.append(item_1)\n",
    "                    elif set(item_1_range)<set(item_2_range):\n",
    "                        if item_2 not in entity_set_list_2_temp:\n",
    "                            entity_set_list_2_temp.append(item_2)\n",
    "        if m == inter:\n",
    "            entity_set_list_3.append(item_1)\n",
    "        else:\n",
    "            for entity_set_list_2_temp_item in entity_set_list_2_temp:\n",
    "                if entity_set_list_2_temp_item not in entity_set_list_3:\n",
    "                    entity_set_list_3.append(entity_set_list_2_temp_item)\n",
    "    \n",
    "    # Fourth Step: Get rid of overlapped charactors' ranges further if any\n",
    "    entity_set_list_4=[]\n",
    "    for n, item_1 in enumerate(entity_set_list_3):\n",
    "        item_1_range=range(item_1[0],item_1[1])\n",
    "        inter=0\n",
    "        entity_set_list_2_temp=[]\n",
    "        for m, item_2 in enumerate(entity_set_list_3):\n",
    "            item_2_range=range(item_2[0],item_2[1])\n",
    "            if item_1_range != item_2_range:\n",
    "                interss=set(item_1_range).intersection(item_2_range)\n",
    "                if interss == set():\n",
    "                    inter += 1\n",
    "                else:\n",
    "                    if set(item_1_range)>set(item_2_range):\n",
    "                        if item_1 not in entity_set_list_2_temp:\n",
    "                            entity_set_list_2_temp.append(item_1)\n",
    "                    elif set(item_1_range)<set(item_2_range):\n",
    "                        if item_2 not in entity_set_list_2_temp:\n",
    "                            entity_set_list_2_temp.append(item_2)\n",
    "        if m == inter:\n",
    "            entity_set_list_4.append(item_1)\n",
    "        else:\n",
    "            for entity_set_list_2_temp_item in entity_set_list_2_temp:\n",
    "                if entity_set_list_2_temp_item not in entity_set_list_4:\n",
    "                    entity_set_list_4.append(entity_set_list_2_temp_item)\n",
    "    \n",
    "    # Fifth Step: Get rid of overlapped charactors' ranges further if any\n",
    "    entity_set_list_5=[]\n",
    "    for n, item_1 in enumerate(entity_set_list_4):\n",
    "        item_1_range=range(item_1[0],item_1[1])\n",
    "        inter=0\n",
    "        entity_set_list_2_temp=[]\n",
    "        for m, item_2 in enumerate(entity_set_list_4):\n",
    "            item_2_range=range(item_2[0],item_2[1])\n",
    "            if item_1_range != item_2_range:\n",
    "                interss=set(item_1_range).intersection(item_2_range)\n",
    "                if interss == set():\n",
    "                    inter += 1\n",
    "                else:\n",
    "                    if set(item_1_range)>set(item_2_range):\n",
    "                        if item_1 not in entity_set_list_2_temp:\n",
    "                            entity_set_list_2_temp.append(item_1)\n",
    "                    elif set(item_1_range)<set(item_2_range):\n",
    "                        if item_2 not in entity_set_list_2_temp:\n",
    "                            entity_set_list_2_temp.append(item_2)\n",
    "        if m == inter:\n",
    "            entity_set_list_5.append(item_1)\n",
    "        else:\n",
    "            for entity_set_list_2_temp_item in entity_set_list_2_temp:\n",
    "                if entity_set_list_2_temp_item not in entity_set_list_5:\n",
    "                    entity_set_list_5.append(entity_set_list_2_temp_item)\n",
    "    \n",
    "    # Construct annotation\n",
    "    entity_dict['entities']=entity_set_list_5\n",
    "    annotation_n=(title, entity_dict)\n",
    "    return annotation_n"
   ]
  },
  {
   "cell_type": "code",
   "execution_count": 14,
   "metadata": {},
   "outputs": [],
   "source": [
    "# Loop through lists of titles with unique Brand names\n",
    "# One can also loop through the whole title column or the description column.\n",
    "TRAIN_DATA_0=[]\n",
    "for n in range(0,len(titles_unique_brand)):\n",
    "    annotation=obtain_annotation(titles_unique_brand[n])\n",
    "    if annotation[1]['entities']!=[]:\n",
    "        TRAIN_DATA_0.append(annotation)"
   ]
  },
  {
   "cell_type": "code",
   "execution_count": 15,
   "metadata": {},
   "outputs": [],
   "source": [
    "# Loop through lists of titles with unique Brand names\n",
    "# One can also loop through the whole title column or the description column.\n",
    "TRAIN_DATA_1=[]\n",
    "for n in range(0,len(description_unique_brand)):\n",
    "    if '<' not in description_unique_brand[n]:\n",
    "        if '&' not in description_unique_brand[n]:\n",
    "            annotation=obtain_annotation(description_unique_brand[n])\n",
    "            if annotation[1]['entities']!=[]:\n",
    "                TRAIN_DATA_1.append(annotation)"
   ]
  },
  {
   "cell_type": "code",
   "execution_count": 16,
   "metadata": {},
   "outputs": [],
   "source": [
    "TRAIN_DATA_0 = TRAIN_DATA_0 + TRAIN_DATA_1"
   ]
  },
  {
   "cell_type": "code",
   "execution_count": 17,
   "metadata": {},
   "outputs": [],
   "source": [
    "random.shuffle(TRAIN_DATA_0)"
   ]
  },
  {
   "cell_type": "code",
   "execution_count": 18,
   "metadata": {},
   "outputs": [
    {
     "data": {
      "text/plain": [
       "9280"
      ]
     },
     "execution_count": 18,
     "metadata": {},
     "output_type": "execute_result"
    }
   ],
   "source": [
    "len(TRAIN_DATA_0)"
   ]
  },
  {
   "cell_type": "code",
   "execution_count": 19,
   "metadata": {},
   "outputs": [
    {
     "data": {
      "text/plain": [
       "[('Sabatti Adler Lady 12/76 25\" Haulikko',\n",
       "  {'entities': [(8, 13, 'BRAND'), (0, 7, 'BRAND')]}),\n",
       " ('Kangassandaalit Love Moschino  MONICA', {'entities': [(16, 29, 'BRAND')]}),\n",
       " ('Owalo 7000 Riippuvalaisin Musta - Secto',\n",
       "  {'entities': [(26, 31, 'COLOR'), (34, 39, 'BRAND')]}),\n",
       " ('Mediheal Vita Lightbeam Essential Mask Beauty WOMEN Skin Care Face Sheet Mask Nude Mediheal',\n",
       "  {'entities': [(0, 8, 'BRAND'), (46, 51, 'GENDER')]}),\n",
       " ('Klara på fot lasi 30 cl',\n",
       "  {'entities': [(18, 20, 'SIZE'), (13, 17, 'MATERIAL')]}),\n",
       " ('Training ylä-äänipilli, koirapilli', {'entities': [(0, 8, 'BRAND')]}),\n",
       " ('Sandaalit edith ella doraen multicolour saatavana naisten kokoja 36,41',\n",
       "  {'entities': [(50, 57, 'GENDER'), (65, 70, 'SIZE')]}),\n",
       " ('Koiranruoka Rekku Complete 22/12 14kg',\n",
       "  {'entities': [(12, 17, 'BRAND'), (33, 37, 'WEIGHT')]}),\n",
       " ('Deodorantti täyttöpussi sitruunaruoho 90 ml',\n",
       "  {'entities': [(38, 43, 'SIZE')]}),\n",
       " ('Kauneus kohtaa ympäristön PureFlame X -USB-sytytin on erittäin tyylikäs ja ympäristöystävällinen. PureFame X on valmistettu kierrätysmateriaalista, ja siinä on tyylikäs kiillotettu metallipinta. Turvallisuus on meille tärkeää, ja siksi sytyttimessä on kaksoisturvakatkaisin.  Jääkylmä uutuus Perinteiset sytyttimet kuumenevat usein erittäin kuumiksi. PureFlame-sytytin ei kuumene.  Siinä ei ole liekkiä, vaan se pysyy viileänä ja on siksi helppo käyttää kaikissa asennoissa. Täydellinen pienten kakkukynttilöiden sytyttämiseen - tavallinen sytytin voi antaa liikaa lämpöä ja liian pitkän liekin, joka sulattaa kynttilät nopeasti.   Tulevaisuus on puhdasta energiaa Aika hylätä fossiiliset polttoaineet ja panostaa puhtaaseen energiaan. PureFlame USB -sytytin ladataan USB-johdolla. Käytä mukana toimitettavaa johtoa ja lataa sytytin, kun sen virta on loppunut. PureFlame-sytyttimen LED-merkkivalo ilmoittaa, kun se on täyteen ladattu.   Ei liekkiä, ei kaasua, ei ongelmia. PureFlame-sytyttimessä on ladattava litiumioniakku erotukseksi perinteisistä sytyttimistä, joissa käytetään tulenarkoja kaasuja. Ei liekkiä, ei nokea. PureFlame on täydellinen myrskylyhtyjen, nuotioiden ym. sytyttämiseen.   Miten se toimii?  Virran hypätessä 2 pisteen välillä verkkokaapelissa ilma ionisoituu, jolloin syntyy merkittävä, erittäin korkean lämmön antava kaari. Hypyn etäisyys määrittelee PureFlame-sytyttimen tarjoaman käytön, virrankulutuksen ja äänen. Uskomme löytäneemme näiden tekijöiden ihanteellisen suhteen parhaan mahdollisen kokemuksen saavuttamiseksi.  Tekniset tiedot: - Ladattava - Litiumioniakku - 19 cm - USB-johto mukana - Kierrätettyä materiaalia  - Tarjoaa hyvän otteen - Kaksinkertainen turvakatkaisin',\n",
       "  {'entities': [(1599, 1604, 'SIZE')]}),\n",
       " ('Day Sparrow Lyhyt Hame Ruskea Day Birger Et Mikkelsen',\n",
       "  {'entities': [(23, 29, 'COLOR')]}),\n",
       " ('Lastenkengät pablosky chiny red saatavana tyttöjen kokoja 24,26',\n",
       "  {'entities': [(28, 31, 'COLOR'), (58, 63, 'SIZE')]}),\n",
       " ('Casamorati Dama Bianca', {'entities': [(0, 10, 'BRAND')]}),\n",
       " ('Kengät kaiteki marrone 626dv91g multicolour saatavana miesten kokoja 40,41,42,43,44,45,46,47',\n",
       "  {'entities': [(54, 61, 'GENDER'), (69, 92, 'SIZE')]}),\n",
       " ('Flex Archery Flemish 18 säikeinen jänne pitkäjousille',\n",
       "  {'entities': [(21, 23, 'SIZE'), (0, 12, 'BRAND')]}),\n",
       " ('Korkokengät Couleur Pourpre  BRIGITTE', {'entities': [(12, 27, 'BRAND')]}),\n",
       " ('Palapeli 1000 palaa on Jan Van Haasterenin kuvittama. Palapelin aihe on tikanheittokilpailu ja siinä on useita yksityiskohtia, värejä ja paljon samanaikaisia tapahtumia. Palapelin tekeminen on hauska haaste. Palapeli on täydellinen aktiviteetti koko perheelle, kun haluaa viettää rauhallisen hetken tai sää ei salli ulkona olemista.',\n",
       "  {'entities': [(9, 13, 'SIZE')]}),\n",
       " ('Batman Mask', {'entities': [(0, 6, 'BRAND')]}),\n",
       " ('Suojaa pääsi Gilbertin Falcon 200 -pääsuojalla.  Väri: musta / sininen Kevyt toppaus Hengittävyyttä lisääviä ilmanreikiä Säädettävä',\n",
       "  {'entities': [(23, 29, 'COLOR'), (30, 33, 'SIZE'), (55, 70, 'COLOR')]}),\n",
       " ('Bringing retro ski fashion back on the slopes, the ROAM is a very capable jacket, designed to endure the most demanding days. With 10 000 waterproof and breathability ratings, taped seams and ventilation zippers, it provides solid all-around weather protection. Additional features include large zipped pockets and a removable snow skirt to add versatility and make the ROAM Jacket equally suitable for skiing, hiking or urban adventures. WearColour. Tuulenkestävä. Vedenkestävä: 10000 mm. Hengittävyys: 10000 g/m2/24h. Vedenkestävä. Hengittävä materiaali.',\n",
       "  {'entities': [(480, 489, 'SIZE'), (290, 295, 'SIZE')]}),\n",
       " ('Nutrilett Smoothie 330 ml Trooppinen',\n",
       "  {'entities': [(0, 9, 'BRAND'), (19, 25, 'SIZE')]}),\n",
       " ('Melanie Wrap Dress Polvipituinen Mekko Vihreä Residus',\n",
       "  {'entities': [(39, 45, 'COLOR'), (46, 53, 'BRAND')]}),\n",
       " ('Villasukat GHZ sininen',\n",
       "  {'entities': [(11, 14, 'BRAND'), (15, 22, 'COLOR')]}),\n",
       " (\"co'couture Ovida Smock Dress Black M\",\n",
       "  {'entities': [(29, 34, 'COLOR'), (35, 36, 'COLOR')]}),\n",
       " ('XTAR VC4 Li-ion Taloudellinen akkuparisto laturi digitaalisella näytöllä',\n",
       "  {'entities': [(0, 4, 'BRAND')]}),\n",
       " ('Ultra Soft DoubleRealistic 6,25″ DP', {'entities': [(0, 5, 'BRAND')]}),\n",
       " ('Lotto Collegehousut Athletica - Navy/Valkoinen',\n",
       "  {'entities': [(0, 5, 'BRAND'), (32, 46, 'COLOR')]}),\n",
       " ('Julbo BLOOM Kids Silmälasit. Collection:Men. Kehyksen Väri: Green. Kehysmateriaali: Plastic. Koko: 38.',\n",
       "  {'entities': [(0, 5, 'BRAND'),\n",
       "    (12, 16, 'AGE_GROUP'),\n",
       "    (84, 92, 'MATERIAL'),\n",
       "    (60, 66, 'COLOR'),\n",
       "    (99, 102, 'SIZE')]}),\n",
       " ('Swedish Grace lautanen syvä Jää 19 cm', {'entities': [(32, 37, 'SIZE')]}),\n",
       " ('Kengät barker toledo brown saatavana miesten kokoja 40,41,42,45',\n",
       "  {'entities': [(21, 26, 'COLOR'), (37, 44, 'GENDER'), (52, 63, 'SIZE')]}),\n",
       " ('Vipole 8000 PRO long vaellussauvat', {'entities': [(0, 6, 'BRAND')]}),\n",
       " ('Hairgum moustache wax viiksivaha', {'entities': [(0, 7, 'BRAND')]}),\n",
       " ('Alliance Farm Pro-846 ( 320/85 R34 133A8 TL )',\n",
       "  {'entities': [(0, 8, 'BRAND')]}),\n",
       " ('Sarva Rieban naisten nastakengät',\n",
       "  {'entities': [(0, 5, 'BRAND'), (13, 20, 'GENDER')]}),\n",
       " ('ICY BOX Heat sink set for M.2 2280 SSD, aluminium, 10 mm thick',\n",
       "  {'entities': [(51, 56, 'SIZE')]}),\n",
       " ('Priorin - ett kosttillskott från Bayer Health Care utvecklat för dig som lider av tillfälligt håravfall.',\n",
       "  {'entities': [(0, 7, 'BRAND'), (33, 38, 'BRAND')]}),\n",
       " ('Randolph Engineering Aurinkolasit Aviator CR12463',\n",
       "  {'entities': [(0, 20, 'BRAND')]}),\n",
       " ('Pieni Letto Bag Shopper Laukku Monivärinen/Kuvioitu Marimekko Home',\n",
       "  {'entities': [(52, 66, 'BRAND')]}),\n",
       " ('Sandaalit Keen  MEN CLEARWATER CNX',\n",
       "  {'entities': [(10, 14, 'BRAND'), (16, 19, 'GENDER')]}),\n",
       " ('iPhone huolto - Apple iPhone 6S Näytön ja etupaneelin korjaus',\n",
       "  {'entities': [(16, 21, 'BRAND')]}),\n",
       " ('Pugsley koiranpentu yksisarvisasussa', {'entities': [(0, 7, 'BRAND')]}),\n",
       " ('Poc Riippuvalaisin Ø16 Musta \\r\\nRiippuvalaisin joka tarpeeseen. Tämä kaunis valaisin on fantastinen lisä kotiin, ja tuo iloa sinne, minne se sijoitetaan! Klassisella ulkoasullaan ja esteettisyydellään tämä valaisin säilyy läpi elämän.',\n",
       "  {'entities': [(23, 28, 'COLOR')]}),\n",
       " ('BAD BOY ICON L/S T-SHIRT Its athletic cut and rib crew neck ensures perfect fit and real state of ease.',\n",
       "  {'entities': [(13, 16, 'SIZE')]}),\n",
       " ('Socks By X3 Sukat Monivärinen/Kuvioitu My Little Pony',\n",
       "  {'entities': [(39, 53, 'BRAND')]}),\n",
       " ('Kengät Abbey Dawn  PLATFORM BOOTEE', {'entities': [(7, 17, 'BRAND')]}),\n",
       " ('Bolon BL6057 Aurinkolasit. Collection:Women. Kehyksen Väri: Gold/Grey.  Linssin Väri: . Kehysmateriaali: Metal. Koko: 58.',\n",
       "  {'entities': [(0, 5, 'BRAND'),\n",
       "    (105, 111, 'MATERIAL'),\n",
       "    (118, 121, 'SIZE'),\n",
       "    (60, 70, 'COLOR')]}),\n",
       " ('Carlisle Turf Saver ( 18x8.50 -8 74A4 4PR TL NHS )',\n",
       "  {'entities': [(0, 8, 'BRAND')]}),\n",
       " ('Omega-3 Lemon', {'entities': [(8, 13, 'COLOR')]}),\n",
       " ('INVIGO Nutri Enrich Conditioner - Deep Nourishing 200 ml',\n",
       "  {'entities': [(50, 56, 'SIZE')]}),\n",
       " ('D&D Cat Basket Rebel koripeti', {'entities': [(15, 20, 'BRAND')]}),\n",
       " ('Sokeriton tummasuklaa mansikoilla 75g', {'entities': [(34, 37, 'WEIGHT')]}),\n",
       " ('Virtus Blag Hyper Stretch Training Pant',\n",
       "  {'entities': [(0, 6, 'BRAND'), (26, 34, 'BRAND')]}),\n",
       " ('Feathers Small Day Bag, Musta/White från Littlephant .',\n",
       "  {'entities': [(41, 52, 'BRAND'), (9, 14, 'SIZE'), (24, 35, 'COLOR')]}),\n",
       " ('THE SKIN HOUSE The Skin House Rose Heaven Cream',\n",
       "  {'entities': [(30, 34, 'COLOR'), (15, 29, 'BRAND')]}),\n",
       " ('Kengät D G  DS3553', {'entities': [(7, 10, 'BRAND')]}),\n",
       " ('Revlon Professional Equave Blonde Detanglingconditioner',\n",
       "  {'entities': [(27, 33, 'COLOR'), (0, 19, 'BRAND')]}),\n",
       " ('Neuleet / villatakit esprit vecky black saatavana naisten kokoja s,m,l,xs,xs,m,xl',\n",
       "  {'entities': [(50, 57, 'GENDER'), (34, 39, 'COLOR'), (65, 81, 'SIZE')]}),\n",
       " ('Lyhyt mekko Manoush  PLUMETIS STRASS', {'entities': [(12, 19, 'BRAND')]}),\n",
       " ('Spypoint 12v Akkusetti', {'entities': [(0, 8, 'BRAND')]}),\n",
       " ('Tuotekuvaus - Karl Kani -vyölaukku- Valmistettu 100 % polyesteristä- Vetoketjullinen päätasku- Vetoketjullinen ulkotasku edessä ja takana- Kirjailtu logo edessä- Säädettävä hihna Lataa lehdistökuva Malli: Malli on 184 cm pitkä ja käyttää kokoa Onesize. Tuotenro: 097666-0052',\n",
       "  {'entities': [(48, 51, 'SIZE'),\n",
       "    (14, 23, 'BRAND'),\n",
       "    (214, 220, 'SIZE'),\n",
       "    (54, 68, 'MATERIAL')]}),\n",
       " ('Sandaalit Spot on  F00159', {'entities': [(10, 17, 'BRAND')]}),\n",
       " ('TITAN Toro Action belt, Musta', {'entities': [(24, 29, 'COLOR')]}),\n",
       " ('Kengät nome footwear craquante black saatavana naisten kokoja 41',\n",
       "  {'entities': [(62, 64, 'SIZE'), (47, 54, 'GENDER'), (31, 36, 'COLOR')]}),\n",
       " ('Vapex D Koko PLUS Alkali (Alkaline) Paristo - 2 kpl',\n",
       "  {'entities': [(6, 7, 'SIZE'), (0, 5, 'BRAND')]}),\n",
       " ('Fendi Silmälasit FF M0005 SCL', {'entities': [(0, 5, 'BRAND')]}),\n",
       " ('Roam Jacket Outerwear Sport Jackets Keltainen WearColour',\n",
       "  {'entities': [(36, 45, 'COLOR'), (46, 56, 'BRAND')]}),\n",
       " ('Alexander McQueen Eyewear. 100% asetaatti. Wayfarer. Asetaatti on hypoallerginen, kestävä, kevyt ja valmistettu kierrätettävästä materiaalista.. Naarmunkestävä. Sisältää aurinkolasikotelon. Valmistettu  Italia.',\n",
       "  {'entities': [(0, 17, 'BRAND')]}),\n",
       " ('Ray-Ban Tech Aurinkolasit RB4224 Round Light Ray 650/6Q',\n",
       "  {'entities': [(0, 12, 'BRAND')]}),\n",
       " ('Sveico Maissihaarukat, 6 kpl', {'entities': [(0, 6, 'BRAND')]}),\n",
       " ('Pure Luxury Energising Conditioner/Shaving Cream 200 ml',\n",
       "  {'entities': [(49, 55, 'SIZE')]}),\n",
       " ('Tranbärskapslar 90 kapselia', {'entities': [(16, 18, 'SIZE')]}),\n",
       " ('Bankers Seinäkellon on suunnitellut Arne Jacobsen vuonna 1971 alunperin Tanskan Keskuspankin seinälle. Saatavana neljässä eri koossa.',\n",
       "  {'entities': [(36, 49, 'BRAND')]}),\n",
       " ('visvim - Fluxus 03 Chino - Vihreä - XL',\n",
       "  {'entities': [(36, 38, 'SIZE'),\n",
       "    (27, 33, 'COLOR'),\n",
       "    (19, 24, 'COLOR'),\n",
       "    (0, 6, 'BRAND')]}),\n",
       " ('Ecodenta valkaiseva hammastahna sisältää tummentumia poistavaa aktiivihiiltä sekä hammaskiven muodostumista ja bakteereja ehkäisevää Teavigoa (vihreäteeuute). Suu tuntuu pitkään raikkaalta ja puhtaalta. Suositellaan käyttämään kuuriluontoisesti. Hammaslääkärien testaama ja Liettuan Yliopiston Terveystiedekunnan hyväksymä. Pakkaus: 100 ml Ainesosat / INCI: Glycerin*, Aqua*, Hydrated Silica*, Sorbitol*, Sodium Pyrophosphate, Sodium Cocoyl Glutamate*, Aroma, Epigallocatechin Gallate*, Xanthan Gum*, Mentha Piperita (Peppermint) Oil*, Sodium Benzoate, Potassium Sorbate, Phenoxyethanol, Ethylhexylglycerin, Sodium Saccharin, CI 77266 (Carbon Black), CI 77499.* 96% ainesosista luonnollista alkuperääLisätiedot: vegaaninen',\n",
       "  {'entities': [(333, 339, 'SIZE'), (0, 8, 'BRAND')]}),\n",
       " ('MarQy, Sky SS Tee, Valkoinen, T-PAIDAT/PAIDAT till Pojat, 122-128',\n",
       "  {'entities': [(58, 65, 'SIZE'), (19, 29, 'COLOR')]}),\n",
       " ('Yololiv Yolobox Portable Live Stream Studio',\n",
       "  {'entities': [(37, 43, 'BRAND'), (0, 7, 'BRAND')]}),\n",
       " ('Kudi Pohjavilla Karsta Koko M', {'entities': [(28, 29, 'COLOR')]}),\n",
       " ('Moments New York Thea Dotted Gown Rust 42',\n",
       "  {'entities': [(39, 41, 'SIZE'),\n",
       "    (34, 38, 'COLOR'),\n",
       "    (17, 21, 'BRAND'),\n",
       "    (0, 16, 'BRAND')]}),\n",
       " ('Blink Refreshing Eye Mist 10 ml',\n",
       "  {'entities': [(21, 25, 'COLOR'), (0, 5, 'BRAND'), (26, 31, 'SIZE')]}),\n",
       " ('Metsästyskärki Muzzy Trocar', {'entities': [(15, 20, 'BRAND')]}),\n",
       " ('Manuka hunaja KF12 250g Wedderspoon',\n",
       "  {'entities': [(24, 35, 'BRAND'), (19, 23, 'WEIGHT')]}),\n",
       " ('Striped Flower Pussilakana 220x220cm, Lt Aqua från Simply Scandinavian .',\n",
       "  {'entities': [(51, 70, 'BRAND'), (27, 37, 'SIZE')]}),\n",
       " ('Cobeco BodyLube – Anal Liukuvoide 1000 ml',\n",
       "  {'entities': [(34, 41, 'SIZE'), (0, 6, 'BRAND')]}),\n",
       " ('Love Stories Isabel', {'entities': [(0, 12, 'BRAND')]}),\n",
       " ('Classic Stretch Chino W. Belt Chinot Housut Harmaa Lindbergh',\n",
       "  {'entities': [(44, 50, 'COLOR'), (16, 21, 'COLOR'), (0, 7, 'BRAND')]}),\n",
       " ('Return Label Naisten kello RETURN LABEL FI Palautustarra',\n",
       "  {'entities': [(0, 12, 'BRAND'), (13, 20, 'GENDER')]}),\n",
       " ('Nitedals Ljushållare Zigzag, Vit', {'entities': [(29, 32, 'COLOR')]}),\n",
       " ('Adventure Food Mousse au Chocolat',\n",
       "  {'entities': [(25, 33, 'COLOR'), (0, 14, 'BRAND')]}),\n",
       " ('Maidoton mansikkatoffe 150g Super Fudgio',\n",
       "  {'entities': [(28, 40, 'BRAND'), (23, 27, 'WEIGHT')]}),\n",
       " ('Ryppypintainen pitkä liivi Sara Lindholm Oliivi',\n",
       "  {'entities': [(41, 47, 'COLOR'), (27, 40, 'BRAND')]}),\n",
       " ('Diadora Turtleneck Baselayer Act - Musta',\n",
       "  {'entities': [(35, 40, 'COLOR'), (0, 7, 'BRAND')]}),\n",
       " ('Tracker Supra', {'entities': [(8, 13, 'BRAND'), (0, 7, 'BRAND')]}),\n",
       " ('Hajuttomat ja mauttomat Omenasiiderietikka Kapselit ovat suosittu tapa tukea painonhallintatavoitteita ja lisätä elinvoimaa! 180 kätevää kapselia tarjoavat tehokkaat 1027mg annokset, ja sisältävät lisäksi inkivääriä, kurkumaa sekä cayennepippuria jokaisessa annoksessa.',\n",
       "  {'entities': [(125, 128, 'SIZE'), (166, 172, 'WEIGHT')]}),\n",
       " ('Lindbergh. Ulkomateriaali: 98% kammattu puuvilla, 2% elastaani.',\n",
       "  {'entities': [(53, 63, 'MATERIAL'), (40, 49, 'MATERIAL')]}),\n",
       " ('MUSE Projection Clock radio', {'entities': [(0, 4, 'BRAND')]}),\n",
       " ('PAIKKA Cool Bowl Concrete viilentävä kuppi',\n",
       "  {'entities': [(17, 25, 'COLOR')]}),\n",
       " ('Estelle & Thild BioMineral Silky Eyeshadow 3 gr  Soft Plum',\n",
       "  {'entities': [(54, 58, 'COLOR'), (0, 15, 'BRAND'), (43, 47, 'WEIGHT')]}),\n",
       " ('Lyhythihainen t-paita Hom  SUPREME COTTON TSHIRT COL V PROFOND',\n",
       "  {'entities': [(22, 25, 'BRAND')]}),\n",
       " ('Ladattava sytytin \"LYX\" Gold', {'entities': [(24, 28, 'COLOR')]}),\n",
       " ('MOVO 200 gr', {'entities': [(5, 11, 'WEIGHT'), (0, 4, 'BRAND')]}),\n",
       " ('Tosibox Avain 200', {'entities': [(14, 17, 'SIZE'), (0, 7, 'BRAND')]}),\n",
       " ('Painepesuri, jonka työpaine on 160 baaria, kylmän veden enimmäisvirtaus 620 l/h ja puhdistusteho 2,9 kg. Painepesuri, joka sopii kevyisiin puhdistustöihin. Tehokas valinta pienille ja keskisuurille töille maatiloille, rakennusalalle, verstaille, autovuokraamoille jne.',\n",
       "  {'entities': [(31, 34, 'SIZE'), (97, 104, 'WEIGHT')]}),\n",
       " ('Rottweil Semimagnum 12/70 Haulikon patruuna',\n",
       "  {'entities': [(0, 8, 'BRAND')]}),\n",
       " ('Neubau T600 Andy Aurinkolasit. Collection:Men. Kehyksen Väri: Clear.  Linssin Väri: . Kehysmateriaali: . Koko: 52.',\n",
       "  {'entities': [(0, 6, 'BRAND'), (111, 114, 'SIZE'), (62, 68, 'COLOR')]}),\n",
       " ('Cool Maker Kumi Kreator 2-in-1 on uusi tapa tehdä hienoja ystävyysrannekkeita ja kaulakoruja. Lataa värikäs kela koneeseen, pyöritä ja koru on valmis muutamassa minuutissa. Koneella saa tehtyä jopa 5 rannekorua ja 2 kaulakorua ilman yhtäkään solmua.',\n",
       "  {'entities': [(0, 10, 'BRAND')]}),\n",
       " ('Inov-8 F-Lite 235 V11', {'entities': [(0, 6, 'BRAND')]}),\n",
       " ('Pabobo Automaattinen Yövalo', {'entities': [(0, 6, 'BRAND')]}),\n",
       " ('Orlebar Brown 4 C2 Wayfarer Aurinkolasit Ruskea Orlebar Brown Sunglasses',\n",
       "  {'entities': [(8, 13, 'COLOR'),\n",
       "    (41, 47, 'COLOR'),\n",
       "    (14, 15, 'SIZE'),\n",
       "    (48, 72, 'BRAND')]}),\n",
       " ('White Diamonds Lustre, EdT 100ml',\n",
       "  {'entities': [(0, 5, 'COLOR'), (27, 32, 'SIZE')]}),\n",
       " ('Stührling Original Aquadiver Concorso Miesten kello 985.02',\n",
       "  {'entities': [(0, 18, 'BRAND'), (38, 45, 'GENDER')]}),\n",
       " ('Balleriinat Van Dal  SEYMOUR', {'entities': [(12, 19, 'BRAND')]}),\n",
       " ('CHI Infra Silk Infusion on hiuksiin jätettävä tehoseerumi, joka sisältää silkki-, vehnä- ja soijaproteiinia.Vahvistaa hiuksia tehden niistä uskomattoman kiiltävät ja pehmeät.Sopii erityisesti käytettäväksi CHI-suoristuskäsittelyä ennen ja jälkeen yhdessä muiden CHI Infra -tuotteiden kanssa.',\n",
       "  {'entities': [(0, 3, 'BRAND')]}),\n",
       " ('Bio- Kesäkukkalannoite 750 g',\n",
       "  {'entities': [(23, 28, 'WEIGHT'), (0, 22, 'BRAND')]}),\n",
       " ('Mustepatruuna, Black', {'entities': [(15, 20, 'COLOR')]}),\n",
       " ('Fortis B-42 Marinemaster Miesten kello 671.15.45.L Musta/Nahka Ø42 mm',\n",
       "  {'entities': [(0, 6, 'BRAND'),\n",
       "    (51, 62, 'COLOR'),\n",
       "    (25, 32, 'GENDER'),\n",
       "    (63, 69, 'SIZE')]}),\n",
       " ('Arxus WarmProofArxus WarmProof on talvisaapas, joka on pääasiassa suunniteltu eristämään tehokkaasti kylmältä. 10 mm kuumaprässätty EVA-pohjallinen, jossa on suljetut ilmakennot, 8 mm neopreenivuori ja 5 mm eristävä lisäpohja luo maksimaalisen eristyksen maapohjasta. Saappaassa on 8 mm vedenpitävä neopreenivuori suljettuine ilmakennoineen, joka on todistetusti tehokas suoja kylmää vastaan. Teknologia perustuu suljettujen ilmakennojen määrän maksimoimiseen , mikä ehkäisee kylmän ilman pääsemisen muiden materiaalien läpi. Lukuisten ilmakennojen vuoksi saapas on myös äärimmäisen kevyt. Arxus saappaat on klassisesti muotoiltu ja niissä on nahkavahvikkeet varren suissa , vankka kuminen takaosa sekä vulkanoidut hihnat säären ympärillä, mikä vakauttaa neopreenivuoren luonnollista elastisuutta. Tällaisia koettelemuksia voivat olla talviset metsästysmuodot kuten ajopyynti, villisian pyynti ja pilkkiminen. WarmProof saappaat eivät sovi vaeltamiseen tai liikkuvaan metsästykseen, koska niitä ei ole suunniteltu jatkuvaan kävelemiseen. Vaelluksille ja liikkuvaan metsästykseen suositellaan käytettäväksi Arxus Primo Nord saapasta. Suunniteltu käytettäväksi jopa -40°C pakkasessa. Koot: 39-47',\n",
       "  {'entities': [(179, 183, 'SIZE'),\n",
       "    (1118, 1122, 'BRAND'),\n",
       "    (202, 206, 'SIZE'),\n",
       "    (111, 116, 'SIZE')]}),\n",
       " ('Schott NYC - Utah Jacket - Musta - XS',\n",
       "  {'entities': [(35, 37, 'SIZE'), (27, 32, 'COLOR'), (0, 10, 'BRAND')]}),\n",
       " ('Seeland Hawker scent control half zip', {'entities': [(0, 7, 'BRAND')]}),\n",
       " ('Missya. 80% polyamidi, 20% elastaani. Kloriinille herkkä materiaali saattaa haalistua ajan kuluessa.',\n",
       "  {'entities': [(27, 37, 'MATERIAL'), (12, 22, 'MATERIAL')]}),\n",
       " ('Tarvas 30-06 10,7g 165gr',\n",
       "  {'entities': [(0, 6, 'BRAND'), (19, 24, 'WEIGHT'), (13, 18, 'WEIGHT')]}),\n",
       " ('Dida Dingo Oil nahkahattu',\n",
       "  {'entities': [(0, 4, 'BRAND'), (5, 14, 'BRAND')]}),\n",
       " ('Naamioverkko Maastokuvio 3m x 1.4m Camo',\n",
       "  {'entities': [(35, 39, 'COLOR'), (25, 34, 'SIZE')]}),\n",
       " ('Aviator Pilottilasit Aurinkolasit Sininen Michael Kors Sunglasses',\n",
       "  {'entities': [(34, 41, 'COLOR'), (42, 65, 'BRAND')]}),\n",
       " ('Kenda K358 ( 16x6.50 -8 63A4 4PR TT kaksoistunnus  52A4, SET - Reifen mit Schlauch )',\n",
       "  {'entities': [(0, 5, 'BRAND')]}),\n",
       " ('Glutamine, 600 g', {'entities': [(11, 16, 'WEIGHT')]}),\n",
       " ('Actionkamera 4K FullHD Wi-FiSonyn 5,0 megapikselin CMOS-kenno 8,0 megapikselin valokuvaresoluutio Wi-Fi-yhteys Videoresoluutio: 4K/30fps, 1080/60fps 2\"näyttö 170° kuvauskulma Sisäänrakennettu mikrofoni Tukee 32gb asti Micro SD-kortteja Vedenpitävä 50m Akku 900mAh/3,7V',\n",
       "  {'entities': [(248, 251, 'SIZE')]}),\n",
       " ('Kengät Everlast  EVL SHADOW MID', {'entities': [(7, 15, 'BRAND')]}),\n",
       " ('Red, Deostick 75ml', {'entities': [(14, 18, 'SIZE'), (0, 4, 'COLOR')]}),\n",
       " ('Koivumaa Iso 2-Reikäinen Kuksa', {'entities': [(0, 8, 'BRAND')]}),\n",
       " ('Warming S8 Liukuvoide 125ml', {'entities': [(22, 27, 'SIZE')]}),\n",
       " ('48 tunnin suojan antava deodorantti.', {'entities': [(0, 2, 'SIZE')]}),\n",
       " ('Saappaat Elue par nous  DANCE', {'entities': [(9, 22, 'BRAND')]}),\n",
       " ('Wizies Taikapilvi-laukku + 8 hahmoa',\n",
       "  {'entities': [(27, 28, 'SIZE'), (0, 6, 'BRAND')]}),\n",
       " ('Nappihenkseli Helsingin Olkain', {'entities': [(14, 30, 'BRAND')]}),\n",
       " ('Ray Tyyny Outdoor 44x44cm, Dark Grey från Pappelina .',\n",
       "  {'entities': [(27, 36, 'COLOR'), (42, 51, 'BRAND'), (18, 26, 'SIZE')]}),\n",
       " ('Lechuza Nido Cottage 27 Amppeliruukku, harmaa',\n",
       "  {'entities': [(21, 23, 'SIZE'), (0, 7, 'BRAND'), (39, 45, 'COLOR')]}),\n",
       " ('New Albert Metal Accessories Belts Classic Belts Ruskea Levi’s Footwear & Acc',\n",
       "  {'entities': [(49, 55, 'COLOR'), (56, 77, 'BRAND'), (35, 42, 'BRAND')]}),\n",
       " ('Aarke Hiilihapotuslaite on täydellinen hiilihapotuslaite jokaiseen kotiin. Käytännöllisyys ja tyylikäs ulkomuoto takaavat että hiilihapotuslaite on loistava käyttää, ja erinomainen lisä jokaiseen keittiöön. Palkittu vuoden 2017 parhaana hiilihapotuslaitte',\n",
       "  {'entities': [(0, 5, 'BRAND')]}),\n",
       " ('Interstate Winter Claw Extreme Grip ( 155 R13 79T, nastarengas  )',\n",
       "  {'entities': [(38, 41, 'SIZE'), (23, 30, 'BRAND'), (0, 10, 'BRAND')]}),\n",
       " ('AMO Couture Roma Faux Fur Short Coat Pure White L (12)',\n",
       "  {'entities': [(42, 47, 'COLOR'), (48, 54, 'SIZE'), (0, 11, 'BRAND')]}),\n",
       " ('Kengät Cool shoe  DAKOTA', {'entities': [(7, 16, 'BRAND')]}),\n",
       " ('Kökspolka Tarjotin, Pyöreä 45 cm från Almedahls .',\n",
       "  {'entities': [(27, 32, 'SIZE'), (38, 47, 'BRAND')]}),\n",
       " ('Kengät Petite Mendigote  PRAGUE', {'entities': [(7, 23, 'BRAND')]}),\n",
       " ('Camelion Nappiparistosetti 2xCR2016 2xCR2025 2xCR2032 6 kpl pakkaus',\n",
       "  {'entities': [(0, 8, 'BRAND')]}),\n",
       " ('STEELSERIES Arctis 5 White 2019 Edition',\n",
       "  {'entities': [(21, 26, 'COLOR')]}),\n",
       " ('Le Parfum, Deospray 100ml', {'entities': [(20, 25, 'SIZE')]}),\n",
       " ('Rebel – Ladattava Eturauhaskiihotin', {'entities': [(0, 5, 'BRAND')]}),\n",
       " ('Sons of Owen Bryson -housut mukavaa, hieman joustavaa kangasta. Vyötärönauhassa vyölenkit, nappi ja nyöri. Etuhalkiossa vetoketju. Lahkeen sisäpituus n. 78 cm koossa 50.',\n",
       "  {'entities': [(153, 158, 'SIZE'), (0, 12, 'BRAND'), (166, 169, 'SIZE')]}),\n",
       " ('Umarex Mosquito 5,5mm', {'entities': [(0, 6, 'BRAND'), (16, 21, 'SIZE')]}),\n",
       " ('Hero Eggs Mini Playset', {'entities': [(0, 9, 'BRAND')]}),\n",
       " ('Neet N-RGL 13\" musta rannesuojaTäsysipitkä rannesuoja soveltuu hyvin jousimetsästykseen sekä aloittelijoille. Vinyylirakenne, neljä kiinnitysremmiä.',\n",
       "  {'entities': [(15, 20, 'COLOR')]}),\n",
       " ('Gastroline Frukt & Fiber 30 tablettia',\n",
       "  {'entities': [(25, 27, 'SIZE'), (0, 10, 'BRAND')]}),\n",
       " ('Saappaat Sendra boots  CLIFF', {'entities': [(9, 21, 'BRAND')]}),\n",
       " ('Corinne Hairpin Unisex',\n",
       "  {'entities': [(0, 7, 'BRAND'), (16, 22, 'GENDER')]}),\n",
       " ('Sandaalit Papillio  EVE', {'entities': [(10, 18, 'BRAND')]}),\n",
       " ('Kengät Bensimon  TENNIS ELLY', {'entities': [(7, 15, 'BRAND')]}),\n",
       " ('Gunnar Silmälasit Infinite Designed By Publish INF-00101',\n",
       "  {'entities': [(0, 6, 'BRAND')]}),\n",
       " ('Baby Jogger City Select lisäistuimen',\n",
       "  {'entities': [(17, 23, 'BRAND'), (0, 11, 'BRAND')]}),\n",
       " ('Guess GU 2827 Silmälasit. Collection:Women. Kehyksen Väri: Black. Kehysmateriaali: Plastic. Koko: 55.',\n",
       "  {'entities': [(0, 5, 'BRAND'),\n",
       "    (98, 101, 'SIZE'),\n",
       "    (83, 91, 'MATERIAL'),\n",
       "    (59, 65, 'COLOR')]}),\n",
       " ('Tefal So Tasty paistinpannu 24 cm',\n",
       "  {'entities': [(28, 33, 'SIZE'), (0, 5, 'BRAND')]}),\n",
       " ('Sjö & Hav Mygg Och Fästing Roll On 50 ml',\n",
       "  {'entities': [(35, 40, 'SIZE'), (32, 34, 'BRAND'), (0, 9, 'BRAND')]}),\n",
       " ('Sleek Smoothers Lingerie Shapewear Bottoms Beige Maidenform',\n",
       "  {'entities': [(43, 48, 'COLOR'), (49, 59, 'BRAND')]}),\n",
       " ('COX Flesh 009 – Tekopenis 23 cm', {'entities': [(26, 31, 'SIZE')]}),\n",
       " ('Laadukas huppari puuvillasekoitetta, paino 280 grammaa. Vetoketju, painatus rinnassa, kontrastivärinen kaulusnauha, tilkku niskassa, leveät nauhat. The Defender -merkki niskassa ja taskussa.',\n",
       "  {'entities': [(148, 160, 'BRAND')]}),\n",
       " ('Four Reasons Four Reasons Deep Cleanse Shampoo 300 ml',\n",
       "  {'entities': [(47, 53, 'SIZE'), (0, 12, 'BRAND')]}),\n",
       " ('Dapper Dan Shave Cream 100 ml',\n",
       "  {'entities': [(23, 29, 'SIZE'), (0, 10, 'BRAND')]}),\n",
       " ('Makuliukuvoide Watermelon 300 ml',\n",
       "  {'entities': [(15, 25, 'COLOR'), (26, 32, 'SIZE')]}),\n",
       " ('BioTrue ONEday 90 Pack Piilolinssit',\n",
       "  {'entities': [(15, 17, 'SIZE'), (0, 7, 'BRAND')]}),\n",
       " ('10 metriä silkkisen pehmeää ja monikäyttöistä Bondageköyttä!Täydellinen vaikka japanilaistyyliseen Kinbako sidontaan.',\n",
       "  {'entities': [(0, 9, 'SIZE')]}),\n",
       " ('Kengät lemon jelly ava blue saatavana naisten kokoja 36,38,39,40,41',\n",
       "  {'entities': [(23, 27, 'COLOR'), (38, 45, 'GENDER'), (53, 67, 'SIZE')]}),\n",
       " ('Mayfair Riippuvalaisin Matta Grafiitti Harmaa - Vibia',\n",
       "  {'entities': [(39, 45, 'COLOR'), (48, 53, 'BRAND')]}),\n",
       " ('Nordbo Rapid Cleanse 2x14 kapselia',\n",
       "  {'entities': [(7, 12, 'BRAND'), (0, 6, 'BRAND')]}),\n",
       " ('Kengät claé bradley white saatavana naisten kokoja 37,38,39,40,41',\n",
       "  {'entities': [(20, 25, 'COLOR'), (36, 43, 'GENDER'), (51, 65, 'SIZE')]}),\n",
       " ('Eco Masters Dermaroller 3kpl SÄÄSTÄ 15%', {'entities': [(4, 11, 'BRAND')]}),\n",
       " ('Aerolatte Compact-maidonvaahdotin', {'entities': [(0, 9, 'BRAND')]}),\n",
       " ('Helix teekannu ruostumaton teräs 1 l',\n",
       "  {'entities': [(15, 32, 'MATERIAL')]}),\n",
       " ('Powercell Decontaminating Mask Beauty WOMEN Skin Care Face Face Masks Vihreä Helena Rubinstein',\n",
       "  {'entities': [(70, 76, 'COLOR'), (77, 94, 'BRAND'), (38, 43, 'GENDER')]}),\n",
       " ('Sähkölämmitteiset hanskat todella kylmiin olosuhteisiin. Naisten koot.',\n",
       "  {'entities': [(57, 64, 'GENDER')]}),\n",
       " ('Giorgio Armani Sunglasses Metal Frame Sunglasses',\n",
       "  {'entities': [(0, 25, 'BRAND'), (32, 37, 'BRAND')]}),\n",
       " ('Pitkä mekko Heimstone  LAKE', {'entities': [(12, 21, 'BRAND')]}),\n",
       " ('H123D X4 Jet RTF Brushless Race Drone', {'entities': [(9, 12, 'COLOR')]}),\n",
       " ('Spiderwire Stealth Smooth x12, 150m, val',\n",
       "  {'entities': [(0, 10, 'BRAND'), (31, 36, 'SIZE')]}),\n",
       " ('Orium Road Go T ( 385/65 R22.5 160K )', {'entities': [(0, 5, 'BRAND')]}),\n",
       " ('Puhdas+ Premium Omega-7 60 kaps',\n",
       "  {'entities': [(24, 26, 'SIZE'), (0, 7, 'BRAND')]}),\n",
       " ('Manic Panic High Voltage Suoraväri 118ml - Pastel-Izer',\n",
       "  {'entities': [(0, 11, 'BRAND'), (35, 40, 'SIZE')]}),\n",
       " ('Zamberlan Hydrobloc -kylläste 110ml Kylläste joka on kehitetty erityisesti nupukkinahkaisille ja cordurakankaisille kengille. Tekee kankaasta vettä ja likaa hylkivän huonontamatta sen hengitysominaisuuksia. Soveltuu erinomaisesti Gore-Tex kengille',\n",
       "  {'entities': [(0, 9, 'BRAND'), (30, 35, 'SIZE')]}),\n",
       " ('Kengät melvin hamilton ethan 15 brown saatavana miesten kokoja 42',\n",
       "  {'entities': [(63, 65, 'SIZE'),\n",
       "    (29, 31, 'SIZE'),\n",
       "    (32, 37, 'COLOR'),\n",
       "    (48, 55, 'GENDER')]}),\n",
       " ('Mars Protein Bar, 59 g', {'entities': [(18, 22, 'WEIGHT')]}),\n",
       " ('Saphira Divine mineral mud 250 ml',\n",
       "  {'entities': [(27, 33, 'SIZE'), (0, 7, 'BRAND')]}),\n",
       " ('Ormsalva original 150 ml', {'entities': [(18, 24, 'SIZE')]}),\n",
       " ('Suomessa valmistettu ja testattu Na-fo-gps rannekoteloNafo rannekotelo on kehitetty kestämään rajujakin olosuhteita ja suojaamaan puhelintasi silti ollen samalla käytettävissä. Erityisen hyvä vaihtoehto esimerkiksi koirapaikannukseen. Seuranta on valmiina koko ajan ulottuvillasi, ilman että tarvitsee käydä jatkuvasti taskuilla. Soveltuu molempiin käsiin ja kotelo on suunnattu niin, että katsekontakti on suora laitteeseen. Hyvä lisätarvike kaikille luonnossa liikkuville.Ominaisuudet:S= laitteen max. koko 85x155mm M= laitteen max. koko 100x165mm Säänkestävyys -25 --> +30 astetta Läpinäkyvä kosketuskalvo ja neopreeninen taustarunko Mukana 40mm nailonvyö tukevalla solki/tarrakiinnityksellä Soveltuu oikea- ja vasenkätisille PRH hyödyllisyysmallisuojattu FI11554 Lisävarusteeksi metsästykseen, kalastukseen, kelkkailuun, retkeilyyn, vaellukseen yms.Esittelyvideo:',\n",
       "  {'entities': [(644, 648, 'SIZE')]}),\n",
       " ('Light Satin Hairspray Hiusten Muotoilu Nude Windle & Moodie',\n",
       "  {'entities': [(44, 59, 'BRAND')]}),\n",
       " ('Replica Under Lemon Trees Hajuvesi Eau De Toilette Nude Maison Margiela',\n",
       "  {'entities': [(14, 19, 'COLOR'), (56, 71, 'BRAND')]}),\n",
       " ('Anustappi, jonka ontto keskiosa avaa täysin uusia mahdollisuuksiaHygieeninen silikonimateriaali Ei sisällä ftalaatteja Ergonominen muotoilu Tunnelin läpi voi työntää vaikka vibraattorin Turvallinen käyttää ison jalustan ansiostaPehmeästä, turvallisesta ja hygieenisestä 100% silikonista valmistettu ontto anustappi mahdollistaa täysin uudenlaiset kokemukset ja leikit. Työnnä sen läpi vaikka sormi tai vibraattori ja saat anaaliseksistä täysin uusia ulottuvuuksia!Säästövinkki : Onhan sinulla jo liukuvoide? Mikäli ei, suosittelemme lämpimästi sen käyttöä tämän tuotteen kanssa maksimaalisen nautinnon saavuttamiseksi. Tilaa liukuvoide mukaan \"tarjouspaketit\" välilehdeltä ja säästät selvää rahaa. Säilytys Jotkut seksilelujen materiaalit saattavat reagoida keskenään. Emme siis suosittele seksilelujesi säilytystä lelulaatikossa. Säilytä seksilelusi erossa toisistaan, vaikka käärimällä ne harsoon tai muuhun tarkoitukseen soveltuvaan kankaaseen. Älä säilytä suosikkejasi auringonvalossa äläkä äärimmäisen kylmissä tai kuumissa oloissa. Seksilelut eivät myöskään pidä kosteudesta. Muista ottaa paristot pois leluista aina, kun et niitä käytä.Pituus 8cm Paksuus 3.2cm - 4.5cm Materiaali 100% silikoni',\n",
       "  {'entities': [(1150, 1153, 'SIZE'),\n",
       "    (275, 286, 'MATERIAL'),\n",
       "    (1162, 1175, 'SIZE')]}),\n",
       " ('Elflugan Grande hiilenmusta',\n",
       "  {'entities': [(0, 8, 'BRAND'), (16, 27, 'COLOR')]}),\n",
       " ('Hkt Hz Plr Flc Svetari Collegepaita Sininen HKT By Hackett',\n",
       "  {'entities': [(36, 43, 'COLOR'), (51, 58, 'BRAND')]}),\n",
       " ('- Classic Polo In Pique Quality With Clean Outlook Polos Short-sleeved Musta Scotch & Soda',\n",
       "  {'entities': [(71, 76, 'COLOR'),\n",
       "    (77, 90, 'BRAND'),\n",
       "    (37, 42, 'BRAND'),\n",
       "    (2, 9, 'BRAND')]}),\n",
       " ('Boots Chelsea-saappaat Bootsit Musta Carla F',\n",
       "  {'entities': [(31, 36, 'COLOR'), (37, 44, 'BRAND')]}),\n",
       " ('Kengät Elle  MABILLON', {'entities': [(7, 11, 'BRAND')]}),\n",
       " ('Outset Lemonaid', {'entities': [(0, 6, 'BRAND')]}),\n",
       " ('Kengät John Galliano  8507', {'entities': [(7, 20, 'BRAND')]}),\n",
       " ('MESSI Pro Training ball S3 Gold Edition on erinomainen harjoitellessa potkuja, volley, rintaosumia tai pallotemppuja. Tämä kultainen jalkapallo narulla ja kahvalla pitää pallon lähettyvilläsi.',\n",
       "  {'entities': [(27, 31, 'COLOR'), (24, 26, 'SIZE'), (10, 18, 'BRAND')]}),\n",
       " ('Kulmahiomakone 1300W, uudelleenkäynnistyssuoja ja karalukitus. 11000 kierr./min, laikan läpimitta 125 mm.',\n",
       "  {'entities': [(98, 105, 'SIZE')]}),\n",
       " ('Lean Back Loungestol Oak, Rusty Rose Velvet',\n",
       "  {'entities': [(26, 36, 'COLOR')]}),\n",
       " ('Chi Chi London Ardelle Floral Dress Mink L (UK14)',\n",
       "  {'entities': [(41, 49, 'SIZE'), (36, 40, 'COLOR'), (0, 14, 'BRAND')]}),\n",
       " ('Taffel Ranch Nuts vie sinut rapealle cayennepippurin, valkosipulin ja paprikan makuiselle seikkailulle rytmikkäästi rouskuten.',\n",
       "  {'entities': [(0, 6, 'BRAND')]}),\n",
       " ('Wally Solar Cell Wall Lamp 200/15Lm, Black',\n",
       "  {'entities': [(37, 42, 'COLOR')]}),\n",
       " ('Oriel Outerwear Snow/ski Clothing Snow/ski Suits & Sets Vaaleanpunainen MarMar Cph',\n",
       "  {'entities': [(56, 71, 'COLOR'), (72, 82, 'BRAND')]}),\n",
       " ('Lilo Loft Coat Topattu Pitkä Takki Ruskea WACAY',\n",
       "  {'entities': [(35, 41, 'COLOR')]}),\n",
       " ('Luonnonsulka Trueflight 3\" LW', {'entities': [(13, 23, 'BRAND')]}),\n",
       " ('Toppatakki Bellfield  GORIN', {'entities': [(11, 20, 'BRAND')]}),\n",
       " ('Doona Liki S1 Kolmipyörä Grey Hound',\n",
       "  {'entities': [(25, 29, 'COLOR'), (11, 13, 'SIZE'), (0, 5, 'BRAND')]}),\n",
       " ('Kengät millet hike up blue saatavana miesten kokoja 44,46,41 1/3,43 1/3,45 1/3',\n",
       "  {'entities': [(22, 26, 'COLOR'), (37, 44, 'GENDER'), (52, 78, 'SIZE')]}),\n",
       " ('Cargo shorts in from Adrian Hammond. These shorts have 6 pockets, a drawstring adjustable waist and a zip fly. Regular fit - Tucker shorts from Adrian Hammond - Regular fit - 6 pockets - Drawstring waist - 100% Cotton - Gentle machine wash at 40º',\n",
       "  {'entities': [(211, 217, 'MATERIAL')]}),\n",
       " ('Klein - Kid Sewing Machine (KL7901)', {'entities': [(0, 5, 'BRAND')]}),\n",
       " ('Lämpimät naisten hiihtokäsineet', {'entities': [(9, 16, 'GENDER')]}),\n",
       " ('Kinder Surprise Suklaamuna - 0% alennus', {'entities': [(0, 6, 'BRAND')]}),\n",
       " ('Kaksipuolinen perinteinen partaterä, jollaista käytetään kaksipuolisissa partahöylissä sekä puolitettuna esim. pienemmissä vaihtoteräisissä veitsissä.Rapira Swedish Supersteel on tunnettu terävyydestään ja onkin siksi sopiva sinulle, joka jo osaat perinteisen ajotyylin perusteet.Kuinka kauan partaterä pysyy miellyttävän terävänä ajossa riippuu terän ja karvan laadusta, käytetyistä aineista sekä ajotekniikasta.Useimmiten yhdellä terällä ajelee 4-7 kertaa. Sen jälkeen sen voi hävittää metallijätteen mukana.',\n",
       "  {'entities': [(447, 450, 'SIZE')]}),\n",
       " ('Yokohama W.drive (V905) ( 285/35 R21 105V XL, RPB )',\n",
       "  {'entities': [(0, 8, 'BRAND'), (42, 45, 'SIZE')]}),\n",
       " ('Tolomeo Mega Lattiavalaisin - Harmaa Satiini - Artemide',\n",
       "  {'entities': [(30, 44, 'BRAND'), (47, 55, 'BRAND')]}),\n",
       " ('L.A. Girl Fanatic Eyeshadow Palette Surreal Dream',\n",
       "  {'entities': [(44, 49, 'BRAND'), (0, 9, 'BRAND')]}),\n",
       " ('Rikas Ahiflower-oliiviöljy 200 ml', {'entities': [(27, 33, 'SIZE')]}),\n",
       " ('Shady_a_stay Black Tiukat Farkut Musta Won Hundred',\n",
       "  {'entities': [(13, 18, 'COLOR'), (33, 38, 'COLOR'), (39, 50, 'BRAND')]}),\n",
       " ('False Lash Effect Velvet Volume Mascara, Black',\n",
       "  {'entities': [(41, 46, 'COLOR')]}),\n",
       " ('Svetari urban classics basic zip hoody grey saatavana miesten kokoja xl',\n",
       "  {'entities': [(39, 43, 'COLOR'), (54, 61, 'GENDER'), (69, 71, 'SIZE')]}),\n",
       " ('Legginsit &amp; Sukkahousut Petit Bateau  FEBRA',\n",
       "  {'entities': [(28, 40, 'BRAND')]}),\n",
       " ('Nocco Bcaa', {'entities': [(0, 5, 'BRAND')]}),\n",
       " ('Aqua Monaco Luomu Cola 230ml',\n",
       "  {'entities': [(0, 11, 'BRAND'), (18, 22, 'COLOR'), (23, 28, 'SIZE')]}),\n",
       " ('Kengät Grisport  Nero Dakar 10309D109G',\n",
       "  {'entities': [(17, 21, 'COLOR'), (7, 15, 'BRAND')]}),\n",
       " ('Heather Bag Bags Small Shoulder Bags - Crossbody Bags Valkoinen Leowulff',\n",
       "  {'entities': [(54, 63, 'COLOR'), (64, 72, 'BRAND'), (17, 22, 'SIZE')]}),\n",
       " ('Carne Bollente - Men In Back - Valkoinen - XL',\n",
       "  {'entities': [(31, 40, 'COLOR'),\n",
       "    (43, 45, 'SIZE'),\n",
       "    (0, 14, 'BRAND'),\n",
       "    (17, 20, 'GENDER')]}),\n",
       " ('Snow Fox lämmitettävä käsine', {'entities': [(0, 8, 'BRAND')]}),\n",
       " ('Sulituslaite Beiter Tri Liner', {'entities': [(13, 19, 'BRAND')]}),\n",
       " ('Yhdistämällä harmonisia värejä ja kauniita ykistyiskohtia CREAM luo romanttisia vaatteita moderneille naisille.. V-pääntie. Etupituus: 89 cm. Takapituus: 86 cm.',\n",
       "  {'entities': [(154, 160, 'SIZE'), (135, 141, 'SIZE')]}),\n",
       " ('Happy Ii Ballerinat Musta Bundgaard',\n",
       "  {'entities': [(20, 25, 'COLOR'), (26, 35, 'BRAND')]}),\n",
       " ('Bushcraft Essentials Bushbox Set risukeitin',\n",
       "  {'entities': [(0, 20, 'BRAND')]}),\n",
       " ('Hemopump Adrenaline Rush, 250g, Winter Candy X-mas Edition',\n",
       "  {'entities': [(39, 44, 'BRAND'), (26, 31, 'WEIGHT')]}),\n",
       " ('Kurt Geiger London. Ylä: kangas. Ylävuori: synthetic. Ulkopohja: kumi. Koron korkeus: 4.5 cm.',\n",
       "  {'entities': [(86, 93, 'SIZE'),\n",
       "    (65, 70, 'MATERIAL'),\n",
       "    (43, 53, 'MATERIAL')]}),\n",
       " ('Patriot nostokoukku 145 cm',\n",
       "  {'entities': [(20, 26, 'SIZE'), (0, 7, 'BRAND')]}),\n",
       " ('Knoll Platner sohvapöytä, nikkeli - kirkas lasi',\n",
       "  {'entities': [(0, 5, 'BRAND'), (43, 47, 'MATERIAL')]}),\n",
       " ('Vintage Bloom, EdP 50ml',\n",
       "  {'entities': [(0, 7, 'BRAND'), (19, 23, 'SIZE')]}),\n",
       " ('SPONGE Sponge Block 8 pieces 8 kpl', {'entities': [(20, 21, 'SIZE')]}),\n",
       " ('Foreo Ufo Masks Glow Addict X 6',\n",
       "  {'entities': [(16, 20, 'COLOR'), (0, 5, 'BRAND')]}),\n",
       " ('Novio KT 7166 ( 195/50 B10 98N 8PR TL kaksoistunnus  18x8.00-10 )',\n",
       "  {'entities': [(0, 5, 'BRAND')]}),\n",
       " ('Sandaalit audley velia serpi brown saatavana naisten kokoja 40 1/2',\n",
       "  {'entities': [(60, 66, 'SIZE'), (45, 52, 'GENDER'), (29, 34, 'COLOR')]}),\n",
       " ('Lyhythihainen t-paita Billabong  X-CESS',\n",
       "  {'entities': [(22, 31, 'BRAND')]}),\n",
       " ('5-taskuiset housut Morgan  PIXIE', {'entities': [(19, 25, 'BRAND')]}),\n",
       " ('The Pendant Grafiitin Harma Wegner Nostettava/Laskettava Riippuvalaisin - Pand',\n",
       "  {'entities': [(74, 78, 'BRAND')]}),\n",
       " ('Jill Stuart 1 Day UV 30 Pack Piilolinssit. Valmistaja: Jill Stuart. Käyttöaika Daily Disposable. Vesipitoisuus: %',\n",
       "  {'entities': [(21, 23, 'SIZE'), (0, 11, 'BRAND')]}),\n",
       " ('Troag Kattovalaisin Iso, Valkoinen från Foscarini .',\n",
       "  {'entities': [(25, 34, 'COLOR'), (40, 49, 'BRAND')]}),\n",
       " ('Korvakoruissa on roikkuva, kiiltävä, värikäs muotoilu klipsillä ja kalvosinnappi. Valmistaudu kääntämään päitä!. Pituus: 10 cm / 3.93 in. Leveys: 4 cm / 1.57 in.',\n",
       "  {'entities': [(146, 161, 'SIZE'), (121, 137, 'SIZE')]}),\n",
       " ('Julbo Silmälasit BLOOM Kids JOP13243816',\n",
       "  {'entities': [(0, 5, 'BRAND'), (23, 27, 'AGE_GROUP')]}),\n",
       " ('Dell Scarf Huivi Monivärinen/Kuvioitu UNMADE Copenhagen',\n",
       "  {'entities': [(38, 55, 'BRAND')]}),\n",
       " ('Compression Tank-W T-shirts & Tops Sleeveless Musta 2XU',\n",
       "  {'entities': [(46, 51, 'COLOR'), (52, 55, 'BRAND')]}),\n",
       " ('Pretty Polly. 91% nailonia, 9% elastaani. Läpikuultava.',\n",
       "  {'entities': [(0, 6, 'COLOR'), (31, 41, 'MATERIAL'), (18, 27, 'MATERIAL')]}),\n",
       " ('Puukengät le comptoir scandinave ekralo violet saatavana naisten kokoja 33 kiiltonahkaa',\n",
       "  {'entities': [(72, 74, 'SIZE'), (57, 64, 'GENDER')]}),\n",
       " ('PlusEPA, 60 kapselia', {'entities': [(9, 11, 'SIZE')]}),\n",
       " ('Windforce SnowPower ( 195/55 R15 85H )', {'entities': [(0, 9, 'BRAND')]}),\n",
       " (\"Benelli M2 Comfortech LH 12/76 28''\",\n",
       "  {'entities': [(8, 10, 'SIZE'), (0, 7, 'BRAND')]}),\n",
       " ('Levenhuk Blaze BASE 70 ratakaukoputki',\n",
       "  {'entities': [(20, 22, 'SIZE'), (9, 14, 'COLOR'), (0, 8, 'BRAND')]}),\n",
       " ('Malatesta Polaris ( 205/55 R16 89H, nastoitettava, pinnoitettu )',\n",
       "  {'entities': [(0, 9, 'BRAND')]}),\n",
       " ('Roger Para harja, antistaattinen, ovaalinen muotoinen',\n",
       "  {'entities': [(0, 10, 'BRAND')]}),\n",
       " ('Ti-ti Nalle, 29 cm', {'entities': [(13, 18, 'SIZE')]}),\n",
       " ('Ghost Legend PWO', {'entities': [(0, 5, 'BRAND')]}),\n",
       " ('Ledlenser iW5R Työvalaisin', {'entities': [(0, 9, 'BRAND')]}),\n",
       " ('Mistress – Alexis Side Saddle Masturbaattori Vibralla',\n",
       "  {'entities': [(23, 29, 'COLOR'), (0, 8, 'BRAND')]}),\n",
       " ('Kengät blink pepper black saatavana naisten kokoja 40',\n",
       "  {'entities': [(51, 53, 'SIZE'), (36, 43, 'GENDER'), (20, 25, 'COLOR')]}),\n",
       " ('Kinetic Vänern Special 120mm 17g',\n",
       "  {'entities': [(0, 7, 'BRAND'), (23, 28, 'SIZE'), (29, 32, 'WEIGHT')]}),\n",
       " (\"Amy's Stories Farkkupaita Vittoria Musta\",\n",
       "  {'entities': [(35, 40, 'COLOR'), (0, 13, 'BRAND')]}),\n",
       " ('CLN Seamless Tights, Navy', {'entities': [(21, 25, 'COLOR')]}),\n",
       " ('Yhteensopiva Android- ja iPhone®-puhelimien kanssa. Matkapuhelimeen yhdistetyssä Emporio Armani Hybrid Smartwatch -älykellossa yhdistyvät Emporio Armanin vauhdikas tyyli ja tämän päivän kannettavan teknologian edut. Kellossa on automaattinen aikavyöhykkeen ja päivämäärän säätö, joka toimii langattoman teknologian avulla synkronoimalla kello matkapuhelimen kanssa. Matkapuhelimeen yhdistetty Emporio Armani Hybrid Smartwatch seuraa automaattisesti untasi, antaa sinun vastaanottaa viestejä ja yhdistää älypuhelimesi musiikkiin sekä käyttää aloita, lopeta, siirry seuraavaan tai palaa takaisin -toimintoja. Nappipariston ansiosta kelloa ei tarvitse ladata. Hybrid Smartwatch -kellossa on teksturoitu kellotaulu, teräskotelo ruostumatonta terästä ja ranneke. Kello näyttää päivämäärän ja seuraa päivittäisiä tavoitteitasi. Yhteensopivuus: Android 4.3 ja uudempi, IOS 9 ja uudempi.  - Älykello - Hybrid - Automaattinen asetus aikavyöhykkeille - Viisarit näyttävät tunnit, minuutit, sekunnit sekä päivämäärän - Yhteensopivuus: Android 4.3 ja uudempi, IOS 9 - Säädettävä ranneke - Mukana säilytysrasia',\n",
       "  {'entities': [(866, 867, 'SIZE'), (81, 95, 'BRAND')]}),\n",
       " ('Dermacol Hyaluron micellaire reinigingslotion 400 ml',\n",
       "  {'entities': [(46, 52, 'SIZE'), (0, 8, 'BRAND')]}),\n",
       " ('Transcend Drivepro 230 Dashcam 32Gb', {'entities': [(0, 9, 'BRAND')]}),\n",
       " ('Pusakka Otto Kern  LOREN', {'entities': [(8, 17, 'BRAND')]}),\n",
       " ('Four Sigmatic Mushroom coffee latte10pss',\n",
       "  {'entities': [(0, 13, 'BRAND')]}),\n",
       " ('Skyline Lux Kynttilälyhty, Small 15cm',\n",
       "  {'entities': [(33, 37, 'SIZE'), (27, 32, 'SIZE')]}),\n",
       " ('Mirage Extreme Stanziale on minimagnum latauksella ja pitkällä 22mm hylsynkannalla valmistettu haulikon patruuna. Haulimateriaalina on käytetty niklattua lyijyhaulia.Kaliiperi 12/70Lataus 40g',\n",
       "  {'entities': [(7, 14, 'BRAND'),\n",
       "    (0, 6, 'BRAND'),\n",
       "    (63, 67, 'SIZE'),\n",
       "    (188, 191, 'WEIGHT')]}),\n",
       " ('Milkyway 6kpl - 50% alennus', {'entities': [(0, 8, 'BRAND')]}),\n",
       " ('Sandaalit alberto gozzi iris brown saatavana naisten kokoja 40',\n",
       "  {'entities': [(60, 62, 'SIZE'), (45, 52, 'GENDER'), (29, 34, 'COLOR')]}),\n",
       " ('Lyhythihainen t-paita adidas  TREFOIL T-SHIRT',\n",
       "  {'entities': [(22, 28, 'BRAND')]}),\n",
       " ('Amber Romance, Hand & Body Cream 200ml',\n",
       "  {'entities': [(0, 5, 'COLOR'), (33, 38, 'SIZE')]}),\n",
       " ('Browgame Signature Slanted Tweezer Red', {'entities': [(35, 38, 'COLOR')]}),\n",
       " ('MAIA ON L21 Kattovalaisin Musta - Chors',\n",
       "  {'entities': [(26, 31, 'COLOR'), (34, 39, 'BRAND'), (0, 4, 'BRAND')]}),\n",
       " ('Megaline Kiväärikotelo, musta',\n",
       "  {'entities': [(0, 8, 'BRAND'), (24, 29, 'COLOR')]}),\n",
       " ('Burrel Edge HD riistakamera', {'entities': [(0, 6, 'BRAND')]}),\n",
       " ('Teddykompaniet Diinglisar LE Kettu Torkkuviltti',\n",
       "  {'entities': [(0, 14, 'BRAND')]}),\n",
       " ('The Good Vibes Sweatshirt by NA-KD Urban features a ribbed rounded neckline, cuffs, and bottom hem, a relaxed fit, and a statement printed on the chest.',\n",
       "  {'entities': [(9, 14, 'BRAND')]}),\n",
       " ('Orient Classic Miesten kello FAB0B002W9 Valkoinen/Teräs Ø43 mm',\n",
       "  {'entities': [(7, 14, 'BRAND'),\n",
       "    (0, 6, 'BRAND'),\n",
       "    (15, 22, 'GENDER'),\n",
       "    (40, 55, 'COLOR'),\n",
       "    (56, 62, 'SIZE')]}),\n",
       " ('Active Sports Woven Shorts B Shortsit Musta PUMA',\n",
       "  {'entities': [(38, 43, 'COLOR'), (44, 48, 'BRAND')]}),\n",
       " ('Pernille Corydon Love Necklace Adj. 40-45 Cm',\n",
       "  {'entities': [(36, 44, 'SIZE'), (0, 16, 'BRAND')]}),\n",
       " ('Md Triangle Push-Up Bra Lingerie Bras & Tops Push-up Bra Musta Marlies Dekkers',\n",
       "  {'entities': [(57, 62, 'COLOR'), (63, 78, 'BRAND'), (3, 11, 'BRAND')]}),\n",
       " ('Kahvipannu 2,5L Ruostumaton Teräs',\n",
       "  {'entities': [(16, 33, 'MATERIAL'), (11, 15, 'SIZE')]}),\n",
       " ('Hugo By Hugo Boss Hugo 0117 Silmälasit. Collection:Men. Kehyksen Väri: Black. Kehysmateriaali: Acetate. Koko: 52.',\n",
       "  {'entities': [(0, 17, 'BRAND'),\n",
       "    (110, 113, 'SIZE'),\n",
       "    (71, 77, 'COLOR'),\n",
       "    (95, 103, 'MATERIAL')]}),\n",
       " ('Kengät Dorotennis  BASKET NYLON ATTACHE', {'entities': [(7, 17, 'BRAND')]}),\n",
       " ('Nike Lab - Nrg Track Pant - Sininen - L',\n",
       "  {'entities': [(28, 35, 'COLOR'), (0, 8, 'BRAND')]}),\n",
       " ('Beppy WET irto tamponit 8kpl', {'entities': [(0, 5, 'BRAND')]}),\n",
       " ('Blaser pikajalka Swarovski',\n",
       "  {'entities': [(17, 26, 'BRAND'), (0, 6, 'BRAND')]}),\n",
       " ('Skogstad Sole 2-Layer Techincal Jacket', {'entities': [(0, 8, 'BRAND')]}),\n",
       " ('Wella SP Clear Scalp Mask - Intensiivihoito hilsettä vastaan 400 ml',\n",
       "  {'entities': [(61, 67, 'SIZE'), (0, 8, 'BRAND')]}),\n",
       " ('5-taskuiset housut ecko 435890-abaco-wash grey saatavana miesten kokoja us 30',\n",
       "  {'entities': [(72, 77, 'SIZE'), (42, 46, 'COLOR'), (57, 64, 'GENDER')]}),\n",
       " ('This is a belt in genuine leather from KAV. The belt has a silver-tone buckle and has five adjustable lengths - Adjustable length - 100% Leather',\n",
       "  {'entities': [(137, 144, 'MATERIAL'), (26, 33, 'MATERIAL')]}),\n",
       " ('Xtend – Scivationin suosittu ja mahtavasta makuprofiilistaan ylistetty Intra-Workout sisältää aminohapot kovan suorituskyvyn ylläpitämiseen koko treenien ajan!',\n",
       "  {'entities': [(0, 5, 'BRAND')]}),\n",
       " ('Baume & Mercier Clifton Miesten kello M0A10141 Hopea/Teräs Ø41',\n",
       "  {'entities': [(0, 15, 'BRAND'), (24, 31, 'GENDER'), (47, 58, 'COLOR')]}),\n",
       " ('Kengät Café Noir  MERYI', {'entities': [(7, 16, 'BRAND')]}),\n",
       " ('Bomber Puffer Jacket Bombertakki Takki Sininen IZOD',\n",
       "  {'entities': [(39, 46, 'COLOR'), (47, 51, 'BRAND')]}),\n",
       " ('Nilkkurit Ellen Verbeek  RICH ICE', {'entities': [(10, 23, 'BRAND')]}),\n",
       " ('Her Rechargeable Bullet', {'entities': [(0, 3, 'BRAND')]}),\n",
       " ('Tuote ei kuulu alennusten ja tarjousten piiriin, paitsi jos siinä on punainen hinta.  Musta T-paita, jossa painatus. Skick C8  Vintage-vaatteiden koko eroaa usein merkissä mainitusta koosta. Tähän voi olla syynä se, että vaatetta on pesty ja käsitelty monien vuosien ajan tai siluetit ja kokomerkinnät poikkeavat nykyisistä. Kokotaulukossa on nykypäivän standardin mukaan arvioitu koko, ei merkissä mainittu koko.',\n",
       "  {'entities': [(86, 91, 'COLOR'), (69, 77, 'COLOR')]}),\n",
       " ('Koululaukku Jacadi  EPURE 41',\n",
       "  {'entities': [(26, 28, 'SIZE'), (12, 18, 'BRAND')]}),\n",
       " ('ESR Urban Premium Series Simplicity Apple iPad 10.2 2019 Suojakotelo harmaa\"',\n",
       "  {'entities': [(36, 41, 'BRAND'),\n",
       "    (25, 35, 'BRAND'),\n",
       "    (0, 3, 'BRAND'),\n",
       "    (69, 76, 'COLOR')]}),\n",
       " ('Vimax - Luonnollinen Mieskuntoa Kohentava Ravintolisä - Auttaa Energisyyden, Erektion ja Seksuaalivietin Lisäämisessä - Ilman Reseptiä - 30 Kapselia',\n",
       "  {'entities': [(137, 139, 'SIZE')]}),\n",
       " ('Meater från Meater .', {'entities': [(0, 6, 'BRAND')]}),\n",
       " ('Marttiini Isopailakka', {'entities': [(0, 9, 'BRAND')]}),\n",
       " ('Stanley Quencher Travel Tumbler 30 matkamuki vihreä',\n",
       "  {'entities': [(32, 34, 'SIZE'), (0, 7, 'BRAND'), (45, 51, 'COLOR')]}),\n",
       " ('Topman Brg Nav Cardi Crew Puserot Burgundy',\n",
       "  {'entities': [(34, 42, 'COLOR'), (0, 6, 'BRAND')]}),\n",
       " ('F-SECURE Messaging Security Gateway P340 Appliance (IN)',\n",
       "  {'entities': [(19, 27, 'BRAND'), (28, 35, 'BRAND')]}),\n",
       " ('Riesen suklaapatukka sisältää maitosuklaalla päällystettyä suklaatoffeeta.',\n",
       "  {'entities': [(0, 6, 'BRAND')]}),\n",
       " ('Ihanat Pipsa Possu -hahmot kaksin kappalein.',\n",
       "  {'entities': [(7, 18, 'BRAND')]}),\n",
       " ('Debora Jumpsuit Jumpsuit Haalari Oranssi Storm & Marie',\n",
       "  {'entities': [(33, 40, 'COLOR'), (41, 54, 'BRAND')]}),\n",
       " ('Norma 6,5x55 Jaktmatch 6,5g',\n",
       "  {'entities': [(0, 5, 'BRAND'), (23, 27, 'WEIGHT')]}),\n",
       " ('Salsa \"Original\" 210g - 100% alennus', {'entities': [(17, 21, 'WEIGHT')]}),\n",
       " ('Swarovski Silmälasit SK5238 055', {'entities': [(0, 9, 'BRAND')]}),\n",
       " ('Purathrive - Helposti imeytyvä, aitoa liposomaalia kurkumaa.',\n",
       "  {'entities': [(0, 10, 'BRAND')]}),\n",
       " (\"Odyssey Stroke Lab Women's Putter\", {'entities': [(0, 7, 'BRAND')]}),\n",
       " ('Olkalaukut nanucci gurubi black saatavana naisten kokoja yksi koko',\n",
       "  {'entities': [(42, 49, 'GENDER'), (57, 66, 'SIZE'), (26, 31, 'COLOR')]}),\n",
       " ('Essential Inspirations Warm Wax 200ml', {'entities': [(32, 37, 'SIZE')]}),\n",
       " ('Karpalo & D-Mannoosi Kapselit - 2 Pack - Luonnollinen Tuki Virtsarakon Tulehduksen Välttämiseen - 120 Kapselia - ShytoBuy FI',\n",
       "  {'entities': [(98, 101, 'SIZE')]}),\n",
       " ('Play&Go Lelusäkki, Worldmap', {'entities': [(0, 7, 'BRAND')]}),\n",
       " ('Kengät vanessa wu klaus beige saatavana naisten kokoja 36,37',\n",
       "  {'entities': [(40, 47, 'GENDER'), (24, 29, 'COLOR'), (55, 60, 'SIZE')]}),\n",
       " ('Hauska Harry Potter 3D-palapeli Wrebbitiltä, Diagon Alleyltä. Palapelissä on 450 palaa, jotka on valmistettu ohuesta kartongista, takapuolellaan vaahtokumia ja ne ovat 6 mm paksuja.',\n",
       "  {'entities': [(77, 80, 'SIZE'), (7, 19, 'BRAND'), (168, 172, 'SIZE')]}),\n",
       " ('Persol Aurinkolasit PO2455S 107471', {'entities': [(0, 6, 'BRAND')]}),\n",
       " ('Viceiw Blazer Bleiseri Puvun Takki Ruskea InWear',\n",
       "  {'entities': [(35, 41, 'COLOR'), (42, 48, 'BRAND')]}),\n",
       " ('Diablo FAST Ops-Core Kypärä Camo - MultiCam',\n",
       "  {'entities': [(28, 32, 'COLOR'), (0, 6, 'BRAND')]}),\n",
       " ('Boskke Cube altakasteluruukku, pieni', {'entities': [(0, 6, 'BRAND')]}),\n",
       " ('T-PAIDAT/PAIDAT Lähettäjä Garcia till Pojat i Musta - 164-170 cm',\n",
       "  {'entities': [(46, 51, 'COLOR'), (54, 64, 'SIZE'), (26, 32, 'BRAND')]}),\n",
       " ('Viol With Zirconia Accessories Jewellery Earrings Studs Hopea Gaia Jewels',\n",
       "  {'entities': [(56, 61, 'COLOR'), (62, 73, 'BRAND')]}),\n",
       " ('Kaikki hiuslaadut, myös värjätyt. Raparperi sisältää runsaasti antioksidantteja sekä monia vitamiineja ja palauttaa hiusten luonnollisen elinvoiman. Aidot herkulliset appelsiinin ja kanelin eteeriset öljyt hemmottelevat hajuaisteja. pH 5,5. Pakkaus: 350 mlAinesosat / INCI: aqua, cocoamidopropyl betaine, sodium coco-sulfate, capryl/capryl glucoside, sea salt, benzoic acid, rheum officinale stern extract, citrus aurantium dulcis oil, cinnamomum verum oil, citric acid. Lisätiedot: vegaaninen',\n",
       "  {'entities': [(250, 253, 'SIZE')]}),\n",
       " ('3M Peltor X-series Kuulonsuojain X1P3, kypäräkiinnitys',\n",
       "  {'entities': [(0, 9, 'BRAND')]}),\n",
       " ('Tekniset áhkká-vaellusshortsit kevyttä, joustavaa, mukavaa ja runsaasti liikkumavapautta antavaa materiaalia. ÁphiTecQuick-käsittely tekee housuista nopeasti kuivuvat hikoilun tai sateen jälkeen, ja housut kuivuvat nopeasti myös vaativissa kuivatusolosuhteissa. Erinomainen ja kevyt ulkoiluvaate esimerkiksi vaellukselle tai melontaretkelle. Vyötärönauhassa vyölenkit ja kaksi painonappia edessä. Vyötärönauhan sisäpuolella luistamaton silikoninauha, joka pitää shortsit paikoillaan. Etuhalkiossa vetoketju. Kaksi reisitaskua ja yksi takatasku, kaikissa vetoketju. Lahkeen sisäpituus n. 27 cm koossa M.',\n",
       "  {'entities': [(587, 592, 'SIZE')]}),\n",
       " ('CRC Fix aerosol 300 ml', {'entities': [(16, 22, 'SIZE')]}),\n",
       " ('Aurinkovoide SPF15 100ml - 38% alennus', {'entities': [(19, 24, 'SIZE')]}),\n",
       " ('Pitkähihainen paitapusero les voiles de st tropez acoupa blue saatavana miesten kokoja s',\n",
       "  {'entities': [(57, 61, 'COLOR'), (72, 79, 'GENDER')]}),\n",
       " ('Cotton touch in a next to skin feel, the SKINS DNAmic SOFT Bra offers light support for those light movements. Designed with a flattering crisscross strap design for increased comfort and increased flexibility. Move freely with your body during low-impact training or Yoga, the SOFT Sports Bra will keep you covered and supported all day long. Skins. Matala tuki- Ideaalit aktiviteetteihin kuten pilates, jooga, banner ja hidastempoiseen kävelyyn. Pehmeät ja mukavat, joissa maksimoit helpon liikkumisen.. Joustava tuki. Hengittävä materiaali. Kosteutta siirtävä. Rinnanympärys: 79-84 cm.',\n",
       "  {'entities': [(579, 588, 'SIZE'), (0, 6, 'MATERIAL')]}),\n",
       " ('CRAZY LENS - Barbie Pink - zonder sterkte 2 lenses',\n",
       "  {'entities': [(13, 19, 'BRAND'), (20, 24, 'COLOR')]}),\n",
       " ('Tite Riippuvalaisin Raidallinen - Forcarini',\n",
       "  {'entities': [(34, 43, 'BRAND')]}),\n",
       " ('Flower Air Eau De Parfum Hajuvesi Eau De Parfum Nude Kenzo Fragrance',\n",
       "  {'entities': [(53, 68, 'BRAND')]}),\n",
       " ('Pinkit bokserit, 40 cm', {'entities': [(17, 22, 'SIZE')]}),\n",
       " ('Kengät premiata white lucy black saatavana naisten kokoja 36',\n",
       "  {'entities': [(58, 60, 'SIZE'),\n",
       "    (16, 21, 'COLOR'),\n",
       "    (43, 50, 'GENDER'),\n",
       "    (27, 32, 'COLOR')]}),\n",
       " ('14871/01/30 Solid - seinävalaisin, IP54, hämäräkytkimellä, E27, antrasiitti, Lucide, Focus Interiors',\n",
       "  {'entities': [(85, 100, 'BRAND'), (12, 17, 'BRAND')]}),\n",
       " ('Käsilaukku lauren ralph lauren heritage lock becket satchel small grey saatavana naisten kokoja yksi koko',\n",
       "  {'entities': [(66, 70, 'COLOR'), (81, 88, 'GENDER'), (96, 105, 'SIZE')]}),\n",
       " ('Bobo Choses Straight Line Bender Long Sleeve T-Shirt',\n",
       "  {'entities': [(0, 11, 'BRAND')]}),\n",
       " (\"Kengät Cassis Côte d'Azur  MARCIE\", {'entities': [(7, 25, 'BRAND')]}),\n",
       " (\"Tonymoly Tonymoly I'M Hand Cream Avocado 30ml\",\n",
       "  {'entities': [(0, 8, 'BRAND'), (41, 45, 'SIZE')]}),\n",
       " ('Petrol Pitkähihainen Pusero Paita Vaaleanpunainen MbyM',\n",
       "  {'entities': [(34, 49, 'COLOR'), (50, 54, 'BRAND'), (0, 6, 'BRAND')]}),\n",
       " ('Kengät Tosca Blu  EDEN', {'entities': [(7, 16, 'BRAND')]}),\n",
       " ('2010971003 Contina - seinävalaisin musta, opaalilasi, G9, Nordlux, Noortrade',\n",
       "  {'entities': [(35, 41, 'COLOR')]}),\n",
       " (\"Cultivator's Organic Herbal Hair Color Hiusväri, Mahogany\",\n",
       "  {'entities': [(49, 57, 'COLOR'), (0, 12, 'BRAND')]}),\n",
       " ('Tilt S Riippuvalaisin Valkoinen/Valkoinen - Nyta',\n",
       "  {'entities': [(5, 6, 'SIZE'), (22, 41, 'COLOR'), (44, 48, 'BRAND')]}),\n",
       " ('Sweet Sktbs Sweet Pepsi Logo Hood', {'entities': [(0, 11, 'BRAND')]}),\n",
       " ('Lucleon Black Lumber korttikotelo',\n",
       "  {'entities': [(8, 13, 'COLOR'), (0, 7, 'BRAND')]}),\n",
       " ('Parkatakki Deeluxe  SHARKSON', {'entities': [(11, 18, 'BRAND')]}),\n",
       " ('Polycom Savi W420. Oth Bin. Uc.Dect Euro.Aus/Nz In Accs',\n",
       "  {'entities': [(0, 7, 'BRAND')]}),\n",
       " ('Lotus Flower Hair Treatment 150ml',\n",
       "  {'entities': [(0, 5, 'BRAND'), (28, 33, 'SIZE')]}),\n",
       " ('Hamppu on erinomainen omega-3-, 6- ja 9-rasvahappojen, kuidun, kasviproteiinin ja hivenaineiden lähde. Hampun lisäksi yksikään muu öljy ei sisällä omega-6- ja omega-3-rasvahappoja suhteessa 3:1, joka on ihmiskehon kannalta optimaalinen suhde. Kokonainen hampunsiemen sisältää 25% proteiinia, joka puolestaan siältää kaikki 20 ihmiselle välttämätöntä aminohappoa. Hampun proteiini sisältää suhteellisen paljon myös kysteiiniä ja metioniinia, jotka ovat kaksi rikkipohjaista aminohappoa, jotka kasvisproteiineista yleensä puuttuvat. Luomuhampunsiemenistä valmistettu karkea jauho soveltuu mainiosti leivontaan ja ruuanlaittoon. Se tuo ruokiin miellyttävän pähkinäisen aromin ja tärkeitä ravintoaineita (esim. proteiinia 28%). Jauho on luontaisesti gluteeniton. Käyttö: Korvaa 8-10% ruokaan käytettävästä jauhosta hamppujauholla. Terveellinen ja maukas vaihtoehto myös keittojen ja kastikkeiden suurustamiseen.Käyttö: 30-40 g hampunsiemeniä riittää täyttämään päivittäisiä tarpeita. Siemenet sopivat ruuanlaittoon, leivontaan ja idätykseen.Ainesosat : Hampunsiemenjauho* 100%. * Luomu Lisätiedot : Luomu, vegaaninen Pakkaus : 500 g@page { margin: 2cm } P { margin-bottom: 0.21cm } Ravintoarvo per 100g Energiaa 395 kcal (1666 kJ) Proteiinia 27,9 g Hiilihydraatteja 50,7 g Rasvaa 8,9 g Pakkaus: 500 g @page { margin: 2cm } P { margin-bottom: 0.21cm }',\n",
       "  {'entities': [(323, 325, 'SIZE'),\n",
       "    (1123, 1126, 'SIZE'),\n",
       "    (1194, 1198, 'WEIGHT'),\n",
       "    (1144, 1147, 'SIZE'),\n",
       "    (1276, 1281, 'WEIGHT'),\n",
       "    (1169, 1175, 'SIZE'),\n",
       "    (1238, 1244, 'WEIGHT'),\n",
       "    (1262, 1268, 'WEIGHT')]}),\n",
       " ('Silva OMC Spectra rannekompassi',\n",
       "  {'entities': [(10, 17, 'BRAND'), (0, 5, 'BRAND')]}),\n",
       " ('Burberry Aurinkolasit BE4181 300187', {'entities': [(0, 8, 'BRAND')]}),\n",
       " ('Siistit treenihousut Anarchy Apparelilta pehmeän roosan värisenä!',\n",
       "  {'entities': [(21, 28, 'BRAND')]}),\n",
       " ('The Rebecca Leopart Boot by XLE the Label features a block heel, ankle length, an inner zipper, and a rounded toe.',\n",
       "  {'entities': [(28, 41, 'BRAND')]}),\n",
       " ('Gatcombe Hood Huppari Harmaa Henri Lloyd',\n",
       "  {'entities': [(22, 28, 'COLOR'), (29, 40, 'BRAND')]}),\n",
       " ('John Lennon JO0004 Nn Silmälasit. Collection:Men. Kehyksen Väri: Black. Kehysmateriaali: Metal. Koko: 50.',\n",
       "  {'entities': [(0, 11, 'BRAND'),\n",
       "    (89, 95, 'MATERIAL'),\n",
       "    (102, 105, 'SIZE'),\n",
       "    (65, 71, 'COLOR')]}),\n",
       " ('Petosaaliin Vetoväline Predator Drag', {'entities': [(23, 31, 'BRAND')]}),\n",
       " ('Kokkiveitsi 14 cm', {'entities': [(12, 17, 'SIZE')]}),\n",
       " ('Connected Pendant Neck 80 Rosé/Clear Accessories Jewellery Necklaces Dainty Necklaces Kulta SNÖ Of Sweden',\n",
       "  {'entities': [(23, 25, 'SIZE'), (86, 91, 'COLOR'), (26, 36, 'COLOR')]}),\n",
       " ('A-Creme parabenfri 120 gr', {'entities': [(19, 25, 'WEIGHT')]}),\n",
       " ('Kangassandaalit anaki malibun blue saatavana naisten kokoja 36',\n",
       "  {'entities': [(60, 62, 'SIZE'), (30, 34, 'COLOR'), (45, 52, 'GENDER')]}),\n",
       " ('Rudy Project ARA Kids Aurinkolasit. Collection:Kids. Kehyksen Väri: Purple.  Linssin Väri: . Kehysmateriaali: Plastic. Koko: 45.',\n",
       "  {'entities': [(0, 12, 'BRAND'),\n",
       "    (17, 21, 'AGE_GROUP'),\n",
       "    (110, 118, 'MATERIAL'),\n",
       "    (68, 75, 'COLOR'),\n",
       "    (125, 128, 'SIZE')]}),\n",
       " ('Barbecuekastike \"Hickory Bourbon\" 510g - 58% alennus',\n",
       "  {'entities': [(34, 38, 'WEIGHT')]}),\n",
       " ('Fartist Club Muncy Max -koirahahmo äänellä',\n",
       "  {'entities': [(0, 12, 'BRAND')]}),\n",
       " ('Kengät Miista  ALAYNA', {'entities': [(7, 13, 'BRAND')]}),\n",
       " ('Marimekko Home Pieni Letto Bag', {'entities': [(0, 14, 'BRAND')]}),\n",
       " ('Tourne De Transmission - Creep L/S Tee - Valkoinen - XL',\n",
       "  {'entities': [(41, 50, 'COLOR'),\n",
       "    (53, 55, 'SIZE'),\n",
       "    (0, 22, 'BRAND'),\n",
       "    (31, 34, 'SIZE')]}),\n",
       " ('Onldolly Long Puffer Coat Cc Otw Topattu Pitkä Takki Musta ONLY',\n",
       "  {'entities': [(53, 58, 'COLOR')]}),\n",
       " ('Nofred-Mouse Pöytä, Viininpunainen', {'entities': [(20, 34, 'COLOR')]}),\n",
       " ('All Black 20 Anuskiihotin', {'entities': [(10, 12, 'SIZE')]}),\n",
       " ('Pitkä mekko Manoukian  613356', {'entities': [(12, 21, 'BRAND')]}),\n",
       " ('Muskottipähkinä kokonainen 3kpl luomu Lebensbaum',\n",
       "  {'entities': [(38, 48, 'BRAND')]}),\n",
       " ('Yoko 310 Forest 130cm', {'entities': [(16, 21, 'SIZE')]}),\n",
       " ('T-PAIDAT/PAIDAT Lähettäjä Perrelli Street Wear till Pojat i Valkoinen - 134-140',\n",
       "  {'entities': [(60, 69, 'COLOR'), (72, 79, 'SIZE'), (26, 46, 'BRAND')]}),\n",
       " ('Tentsile UNA camouflage', {'entities': [(0, 8, 'BRAND')]}),\n",
       " ('Lamppu LED 4W (320lm) Candle Himmennettävissä E14 - Segula',\n",
       "  {'entities': [(52, 58, 'BRAND')]}),\n",
       " ('FRILUFTS Broby Padded Jacket Men - Caviar - Miehet - S',\n",
       "  {'entities': [(29, 32, 'GENDER'), (44, 50, 'GENDER')]}),\n",
       " ('FAST FULL Protein Bar, 67 g', {'entities': [(23, 27, 'WEIGHT')]}),\n",
       " ('Danny Saucedo x NA-KD Organza Cigarette Pants - Black',\n",
       "  {'entities': [(48, 53, 'COLOR'), (0, 21, 'BRAND')]}),\n",
       " ('Jogger Pant Farkut Sininen Just Junkies',\n",
       "  {'entities': [(19, 26, 'COLOR'), (27, 39, 'BRAND')]}),\n",
       " ('Christopher Cloos Paloma - Coal/V Silmälasit. Collection:Men. Kehyksen Väri: Black. Kehysmateriaali: Plastic. Koko: 46.',\n",
       "  {'entities': [(0, 17, 'BRAND'),\n",
       "    (101, 109, 'MATERIAL'),\n",
       "    (77, 83, 'COLOR'),\n",
       "    (116, 119, 'SIZE')]}),\n",
       " ('Ansmann CR123A', {'entities': [(0, 7, 'BRAND')]}),\n",
       " ('Beautiful jar with a cork lid from Gustavsbergs Porcelain factory with the classic Berså decor designed by Stig Lindberg.',\n",
       "  {'entities': [(48, 57, 'COLOR')]}),\n",
       " ('Aimé Leon Dore - Cable Trim Cardigan - Punainen - S',\n",
       "  {'entities': [(50, 51, 'SIZE'), (0, 14, 'BRAND'), (39, 47, 'COLOR')]}),\n",
       " ('Poopsie Sparkly Critters on maaginen slimeyllätys, joka sylkee ulos slimea. Avaa purkki ja saat nähtyä kaikki upeat yllätykset sen sisällä! Jokainen Sparkly Critter on suloinen pikkueläin yksisarvisen sarvella. Minkä saat tällä kertaa? Ruoki kimaltavaa otusta omalla ainutlaatuisella juomallaan ja näet miten se piereskelee tai sylkee. Muuta slime lisäämällä yksisarvisen taikaa, yksisarviskiillettä ja yksisarviskimalletta. Mukana myös tutti.',\n",
       "  {'entities': [(0, 7, 'BRAND')]}),\n",
       " ('Bleiseri Lola  VICTORIA DOPPIO', {'entities': [(9, 13, 'BRAND')]}),\n",
       " ('Lyhyt mekko yumi kimi black saatavana naisten kokoja de 38',\n",
       "  {'entities': [(53, 58, 'SIZE'), (38, 45, 'GENDER'), (22, 27, 'COLOR')]}),\n",
       " ('Korkokengät sarah chofakian shoe hat black saatavana naisten kokoja 36,37,40',\n",
       "  {'entities': [(53, 60, 'GENDER'), (37, 42, 'COLOR'), (68, 76, 'SIZE')]}),\n",
       " ('Beutelsbacher Omenaviinietikka 750 ml', {'entities': [(31, 37, 'SIZE')]}),\n",
       " ('223 REM Fiocchi 55gr/3,6g FMJ',\n",
       "  {'entities': [(8, 15, 'BRAND'), (16, 25, 'WEIGHT')]}),\n",
       " ('Silky Mist Hand Soap, 490 ml',\n",
       "  {'entities': [(6, 10, 'COLOR'), (22, 28, 'SIZE')]}),\n",
       " ('Ferplast maxi lindo muovialusta + kupit', {'entities': [(0, 8, 'BRAND')]}),\n",
       " ('Soundcare Superspikes - Spike 4 (M8)',\n",
       "  {'entities': [(30, 31, 'SIZE'), (0, 9, 'BRAND')]}),\n",
       " ('Common Projects - Original Achilles Low - Musta - US 6',\n",
       "  {'entities': [(42, 47, 'COLOR'),\n",
       "    (50, 54, 'SIZE'),\n",
       "    (27, 35, 'BRAND'),\n",
       "    (0, 15, 'BRAND')]}),\n",
       " ('Anustappi Hännällä, Pinkki', {'entities': [(20, 26, 'COLOR')]}),\n",
       " ('Pitkähihainen paitapusero façonnable jjmct502000ere blue saatavana miesten kokoja s',\n",
       "  {'entities': [(52, 56, 'COLOR'), (67, 74, 'GENDER')]}),\n",
       " ('Padded Playmat, Storm Grey från Sebra .',\n",
       "  {'entities': [(22, 26, 'COLOR'), (32, 37, 'BRAND'), (16, 21, 'BRAND')]}),\n",
       " ('Lastenkengät Unisa  DAYTONA', {'entities': [(13, 18, 'BRAND')]}),\n",
       " ('Midi Skrubbtvål Ekoolja 100 gr Marigold',\n",
       "  {'entities': [(24, 30, 'WEIGHT'), (31, 39, 'COLOR')]}),\n",
       " ('Penny Pitkähihainen Pusero Paita Punainen Dagmar',\n",
       "  {'entities': [(42, 48, 'BRAND'), (33, 41, 'COLOR')]}),\n",
       " (\"Zip up and stay heated in this juniors' Verona 1/4 Zip Hoodie from Rascal, exclusive to JD. In a black colourway with red highlights, this hoodie is made from soft polycotton with long sleeves and a 1/4 zip fastening. With a fixed hood, this hoodie is finished with a red Rascal logo. Machine washable.\",\n",
       "  {'entities': [(118, 121, 'COLOR'), (97, 102, 'COLOR')]}),\n",
       " ('Sandaalit Perlato  PLATINO', {'entities': [(10, 17, 'BRAND')]}),\n",
       " ('Radley RDO MALLORIE Silmälasit. Collection:Men. Kehyksen Väri: Brown/Navy Blue. Kehysmateriaali: Metal. Koko: 51.',\n",
       "  {'entities': [(0, 6, 'BRAND'),\n",
       "    (97, 103, 'MATERIAL'),\n",
       "    (110, 113, 'SIZE'),\n",
       "    (74, 79, 'COLOR')]}),\n",
       " ('Olkalaukut wylson atlos black saatavana miesten kokoja yksi koko',\n",
       "  {'entities': [(40, 47, 'GENDER'), (55, 64, 'SIZE'), (24, 29, 'COLOR')]}),\n",
       " ('DKNY kids Hooded Sweatshirt', {'entities': [(0, 9, 'BRAND')]}),\n",
       " ('Sunday Somewhere Aurinkolasit JESSE BRG', {'entities': [(0, 16, 'BRAND')]}),\n",
       " ('Panorama Antennas Mband Mimo Desk Mnt Ant 2M Ts9S Wrls',\n",
       "  {'entities': [(42, 44, 'SIZE'), (0, 17, 'BRAND')]}),\n",
       " ('Eskimo-3 kids chewable 27 tablettia',\n",
       "  {'entities': [(23, 25, 'SIZE'), (0, 8, 'BRAND')]}),\n",
       " ('CAT6 S /FTP Verkkokaapeli 3m',\n",
       "  {'entities': [(5, 6, 'SIZE'), (26, 28, 'SIZE')]}),\n",
       " ('Lamppu 35W Halogeeni 12V GU5.3 - GE', {'entities': [(33, 35, 'BRAND')]}),\n",
       " ('Spit 018483 P800 Akku Li-ion', {'entities': [(0, 4, 'BRAND')]}),\n",
       " ('Muotoilusuihke antaen sähköttömät hiukset -  Schwarzkopf',\n",
       "  {'entities': [(45, 56, 'BRAND')]}),\n",
       " ('Dianova Classic pitkä timanttiteroitin',\n",
       "  {'entities': [(0, 7, 'BRAND'), (8, 15, 'BRAND')]}),\n",
       " (\"Marc O'Polo Footwear Sutton 5a\", {'entities': [(0, 20, 'BRAND')]}),\n",
       " ('Feeder Concept muoviset syöttikorit pysyvät hyvin paikoillaan niiden tasaisen pohjarakenteen ansiosta. 55x38mm, koko pituus 90mm. Plastic feeders in the form of a cage. Due to the flattened shape of the base, to which the weight is attached, they perfectly stay on the bottom.',\n",
       "  {'entities': [(0, 14, 'BRAND'),\n",
       "    (130, 137, 'MATERIAL'),\n",
       "    (103, 111, 'SIZE'),\n",
       "    (124, 129, 'SIZE')]}),\n",
       " ('Tennarit sonia rykiel sonia by - sketch202 black saatavana naisten kokoja 36',\n",
       "  {'entities': [(74, 76, 'SIZE'), (59, 66, 'GENDER'), (43, 48, 'COLOR')]}),\n",
       " ('Imuletku Se 62 E Sähkötyökaluihin Stihl',\n",
       "  {'entities': [(12, 14, 'SIZE'), (34, 39, 'BRAND')]}),\n",
       " ('Eye Q 60 kapselia', {'entities': [(6, 8, 'SIZE')]}),\n",
       " ('Orrefors Jernverk Valurautapata 3.5L Valkoinen',\n",
       "  {'entities': [(37, 46, 'COLOR'), (0, 17, 'BRAND'), (32, 36, 'SIZE')]}),\n",
       " ('Zagg / Invisibleshield Invisibleshield Glass + Samsung Galaxy A40 Screen Accs',\n",
       "  {'entities': [(47, 54, 'BRAND'),\n",
       "    (0, 22, 'BRAND'),\n",
       "    (55, 61, 'BRAND'),\n",
       "    (39, 44, 'MATERIAL')]}),\n",
       " ('Lastenkengät Tom Tailor  JAVILOME', {'entities': [(13, 23, 'BRAND')]}),\n",
       " ('Myssyfarmin, eli Rauhansuun tilan hienon rypsiöljyn etiketti on emännän itsensä kuvittama: Siinä kukkii luomurypsi ja lentävät onnelliset mehiläiset. Kotimainen rypsinviljely on viime aikoina ollut paljon otsikoissa, kun mehiläiskuolemiin liitetyt neonikotidimyrkyt kiellettiin peittausaineena. Luomuviljelyssä myrkkyjä ei käytetä ja mehiläiset saavat elää vapaasti. Myös ruskea lasipullo on hartaudella valittu, sillä lasi ei taatusti reagoi öljyn kanssa mitenkään ja tumma väri suojaa laadukasta öljyä parhaiten valolta.Pakkaus:500mlAinesosat:LuomurypsiöljyLisätiedot:Luomu, vegaaninen',\n",
       "  {'entities': [(469, 474, 'COLOR')]}),\n",
       " ('Lascal BuggyBoard Max yleismalli seisomalauta rattaisiin',\n",
       "  {'entities': [(0, 6, 'BRAND')]}),\n",
       " ('Olkalaukut Ted Lapidus  TROPIQUES', {'entities': [(11, 22, 'BRAND')]}),\n",
       " ('Rally Sneakers Matalavartiset Sneakerit Tennarit Musta FitFlop',\n",
       "  {'entities': [(49, 54, 'COLOR'), (55, 62, 'BRAND')]}),\n",
       " ('Asafoetida compound 20g Suma',\n",
       "  {'entities': [(24, 28, 'BRAND'), (20, 23, 'WEIGHT')]}),\n",
       " ('HooÄssä pilkkijigipää 2 kpl/pkt', {'entities': [(0, 7, 'BRAND')]}),\n",
       " ('PULZ Farkut Carmen Highwaist Skinny Musta',\n",
       "  {'entities': [(36, 41, 'COLOR'), (0, 4, 'BRAND')]}),\n",
       " ('Himalaya Green Chai tea (L) 20p',\n",
       "  {'entities': [(9, 14, 'COLOR'), (15, 19, 'COLOR')]}),\n",
       " ('VG10 Leipäveitsi 20cm', {'entities': [(17, 21, 'SIZE')]}),\n",
       " ('Mirage Extreme Stanziale 12/70 40g',\n",
       "  {'entities': [(7, 14, 'BRAND'), (0, 6, 'BRAND'), (31, 34, 'WEIGHT')]}),\n",
       " ('Red Eagle Kattokiinnike TV 17\"-37\"', {'entities': [(0, 9, 'BRAND')]}),\n",
       " ('Steve Farrar`s Flash Blend', {'entities': [(21, 26, 'BRAND')]}),\n",
       " ('Baseus Autoteline / Koukku niskatukeen', {'entities': [(0, 6, 'BRAND')]}),\n",
       " ('Neulepusero armani jeans jaudo blue saatavana naisten kokoja de 34,de 36,de 38,de 40',\n",
       "  {'entities': [(61, 84, 'SIZE'), (31, 35, 'COLOR'), (46, 53, 'GENDER')]}),\n",
       " ('BioEffect EGF Day Serum 30 ml',\n",
       "  {'entities': [(24, 29, 'SIZE'), (0, 9, 'BRAND')]}),\n",
       " ('Aaro Kattovalaisin Musta - DCW',\n",
       "  {'entities': [(19, 24, 'COLOR'), (27, 30, 'BRAND')]}),\n",
       " ('UMA PARKER hienot tennarit aitoa nahkaa. Kengissä on nyöritys sekä strasseja ja takaosassa logo.- Normaali istuvuus- Aitoa nahkaaPohjan korkeus: 3 cm.',\n",
       "  {'entities': [(145, 150, 'SIZE'), (33, 40, 'MATERIAL')]}),\n",
       " ('Koululaukku Dessins Animés  CHICA VAMPIRO CARTABLE 38CM',\n",
       "  {'entities': [(12, 26, 'BRAND')]}),\n",
       " ('8848 Altitude Madina W Tee', {'entities': [(0, 13, 'BRAND')]}),\n",
       " ('NI Oriental Vihannesveitsi 15cm', {'entities': [(27, 31, 'SIZE')]}),\n",
       " ('Bathmate Hydromax7 penis pump crystal', {'entities': [(0, 8, 'BRAND')]}),\n",
       " ('Hyperice Acc Battery', {'entities': [(0, 8, 'BRAND')]}),\n",
       " ('Tuotekuvaus - Dr Denim -t-paita- Valmistettu 100 % puuvillasta- Pyöreä pääntie ribbineulotulla resorilla- Logoapplikaatio helmassa Lataa lehdistökuva Malli: Malli on 180 cm pitkä ja käyttää kokoa Medium. Tuotenro: 094311-0001',\n",
       "  {'entities': [(45, 48, 'SIZE'),\n",
       "    (166, 172, 'SIZE'),\n",
       "    (51, 63, 'MATERIAL'),\n",
       "    (196, 203, 'SIZE')]}),\n",
       " ('Kivääripussi Black Moose Classic Canvas',\n",
       "  {'entities': [(13, 24, 'BRAND'), (25, 32, 'BRAND'), (33, 39, 'MATERIAL')]}),\n",
       " ('Vaha joka pitää kampauksen paikallaan - Håkki',\n",
       "  {'entities': [(40, 45, 'BRAND')]}),\n",
       " ('Lastensaappaat Start Rite  GRACE LONG',\n",
       "  {'entities': [(33, 37, 'SIZE'), (15, 25, 'BRAND')]}),\n",
       " ('Proenza Schouler Arizona Collector Edition Eau De Parfum 50 Ml',\n",
       "  {'entities': [(57, 62, 'SIZE'), (0, 16, 'BRAND')]}),\n",
       " ('Paitapusero / Kauluspaita One Step  CERES',\n",
       "  {'entities': [(26, 34, 'BRAND')]}),\n",
       " ('Westlake SW606 FrostExtreme ( 225/65 R17 102T nastarengas  )',\n",
       "  {'entities': [(0, 8, 'BRAND')]}),\n",
       " ('Laukaisulaite Tru Fire Patriot taljajouselle',\n",
       "  {'entities': [(23, 30, 'BRAND')]}),\n",
       " ('Capture Cash Draw 410mm 4B/8C Black',\n",
       "  {'entities': [(30, 35, 'COLOR'), (0, 7, 'BRAND'), (18, 23, 'SIZE')]}),\n",
       " ('Esprit Socks 50 Den Ti',\n",
       "  {'entities': [(13, 15, 'SIZE'), (0, 12, 'BRAND')]}),\n",
       " ('Magimix terä blenderiin', {'entities': [(0, 7, 'BRAND')]}),\n",
       " ('Jill Stuart 1 Day UV 30 Pack Piilolinssit',\n",
       "  {'entities': [(21, 23, 'SIZE'), (0, 11, 'BRAND')]}),\n",
       " ('Kengät everlast evl shadow mid white saatavana miesten kokoja 43,44',\n",
       "  {'entities': [(31, 36, 'COLOR'), (47, 54, 'GENDER'), (62, 67, 'SIZE')]}),\n",
       " ('Kengät marithé francois girbaud arrow beige saatavana naisten kokoja 36',\n",
       "  {'entities': [(69, 71, 'SIZE'), (54, 61, 'GENDER'), (38, 43, 'COLOR')]}),\n",
       " ('Jeffree Star Cosmetics Liquid Frost Highlighter Frozen Peach',\n",
       "  {'entities': [(55, 60, 'COLOR'), (30, 35, 'BRAND'), (0, 22, 'BRAND')]}),\n",
       " ('Kengät Millet  HIKE UP', {'entities': [(7, 13, 'BRAND')]}),\n",
       " ('Samick Sage 20\" vastakaarijousen keskiosaSage riser on valmistettu laminoidusta Dymondwoodista (tammi ja vaahtera). Saatavilla oikea- ja vasenkätisenä.',\n",
       "  {'entities': [(7, 11, 'COLOR'), (0, 6, 'BRAND')]}),\n",
       " ('Pikakiinnitteinen Hihnalenkki 26mm 2kpl', {'entities': [(30, 34, 'SIZE')]}),\n",
       " ('Tip-pöytälamppu musta', {'entities': [(16, 21, 'COLOR')]}),\n",
       " ('Suklaapallo \"Maltesers\" 100g - 47% alennus',\n",
       "  {'entities': [(24, 28, 'WEIGHT')]}),\n",
       " ('Kengät KMB  SILVA', {'entities': [(7, 10, 'BRAND')]}),\n",
       " ('More & More Aurinkolasit 54344 920', {'entities': [(0, 11, 'BRAND')]}),\n",
       " ('Uniforms for the Dedicated - Track Coat - Sininen - 48',\n",
       "  {'entities': [(52, 54, 'SIZE'), (42, 49, 'COLOR'), (0, 26, 'BRAND')]}),\n",
       " ('Arppe Cuna Nido peti', {'entities': [(0, 5, 'BRAND')]}),\n",
       " ('METO Tickets T90 6 rolls pink',\n",
       "  {'entities': [(0, 4, 'BRAND'), (25, 29, 'COLOR')]}),\n",
       " (\"Kenkätarvikkeet lady's secret semelles à mémoire de forme - confort extrême beige saatavana naisten kokoja 36 / 37,38 / 39,40 / 41\",\n",
       "  {'entities': [(107, 130, 'SIZE'), (92, 99, 'GENDER'), (76, 81, 'COLOR')]}),\n",
       " ('Freezedried Peach, 14 g', {'entities': [(19, 23, 'WEIGHT')]}),\n",
       " ('223 REM Geco 55gr/3,6g FMJ Kiväärinpatruuna',\n",
       "  {'entities': [(8, 12, 'BRAND'), (13, 22, 'WEIGHT')]}),\n",
       " ('Adore – Heavenly Body', {'entities': [(0, 5, 'BRAND')]}),\n",
       " ('Rantasandaalit scholl biminois kulta saatavana naisten kokoja 36',\n",
       "  {'entities': [(62, 64, 'SIZE'), (47, 54, 'GENDER')]}),\n",
       " ('Lastenkengät babybotte kiwee pink saatavana tyttöjen kokoja 32',\n",
       "  {'entities': [(60, 62, 'SIZE'), (29, 33, 'COLOR')]}),\n",
       " ('Aikuisten bambuhammasharja Medium Cloud White TruthBrush',\n",
       "  {'entities': [(34, 45, 'COLOR'), (27, 33, 'SIZE')]}),\n",
       " ('Sandaalit Marian  CHANVRO', {'entities': [(10, 16, 'BRAND')]}),\n",
       " ('William Baxter Printed Tee -T-paita. Printtikuvioinen T-paita hieman hohtavaa materiaalia. Pyöreä pääntie. Normaali istuvuus.',\n",
       "  {'entities': [(0, 14, 'BRAND')]}),\n",
       " ('The Organic Tee T-shirts Short-sleeved Kermanvärinen By Garment Makers',\n",
       "  {'entities': [(53, 70, 'BRAND')]}),\n",
       " ('Marie Jo Anna', {'entities': [(0, 8, 'BRAND')]}),\n",
       " ('Toppaliivi WIN STAR Laivastonsininen', {'entities': [(20, 36, 'COLOR')]}),\n",
       " ('Grenlander Enri U08 ( 255/40 R18 99W XL )',\n",
       "  {'entities': [(37, 39, 'SIZE'), (0, 10, 'BRAND')]}),\n",
       " ('Nestesaippua Karpalo 150 ml - 23% alennus',\n",
       "  {'entities': [(21, 27, 'SIZE')]}),\n",
       " ('Jamo Studio Sb40 Soundbar Musta',\n",
       "  {'entities': [(26, 31, 'COLOR'), (5, 11, 'BRAND'), (0, 4, 'BRAND')]}),\n",
       " ('Our beloved timeless wool coat in a warm Shetland type wool, produced in a Portuguese fabric mill, to keep you warm and protected. The style comes in our most popular colours as well as new soft tones. With an inverted collar and lapel. Tailored with raglan shoulders and relaxed straight cut in the body it gives a modern urban touch, and comfortability that suits every occasion. Raglan sleeve. Front patch pockets. Fully lined Inside chest pockets. Brixtol Textiles. Sisävuori: 55% polyesteri, 45% viskoosi. Ulkomateriaali: 100% villa. Villa luo hengittävän ja eristävän materiaalin, joka pitää sinut lämpimänä kylminä päivinä..',\n",
       "  {'entities': [(21, 25, 'MATERIAL'),\n",
       "    (485, 496, 'MATERIAL'),\n",
       "    (501, 510, 'MATERIAL'),\n",
       "    (532, 538, 'MATERIAL')]}),\n",
       " ('Rodenstock Silmälasit R7108 D',\n",
       "  {'entities': [(28, 29, 'SIZE'), (0, 10, 'BRAND')]}),\n",
       " ('Allyssaln Cardigan Rws Neuletakki Kermanvärinen Lounge Nine',\n",
       "  {'entities': [(48, 59, 'BRAND'), (19, 22, 'BRAND')]}),\n",
       " ('Kengät Balsamik  LARGO', {'entities': [(7, 15, 'BRAND')]}),\n",
       " ('Nintendo Switch/Tarvikkeet/Laturit', {'entities': [(0, 8, 'BRAND')]}),\n",
       " ('Zumio – S Spirotip Klitoriskiihotin',\n",
       "  {'entities': [(8, 9, 'SIZE'), (0, 5, 'BRAND')]}),\n",
       " ('5-taskuiset farkut Pioneer Blue stone',\n",
       "  {'entities': [(27, 31, 'COLOR'), (19, 26, 'BRAND')]}),\n",
       " ('UNMADE Copenhagen Dell Scarf', {'entities': [(0, 17, 'BRAND')]}),\n",
       " ('Alfalfafrö EKO 500g 500 gr',\n",
       "  {'entities': [(20, 26, 'WEIGHT'), (15, 19, 'WEIGHT')]}),\n",
       " ('Cabochard, EdT 100ml', {'entities': [(15, 20, 'SIZE')]}),\n",
       " ('Elinvoima Kasviproteiini 225g', {'entities': [(25, 29, 'WEIGHT')]}),\n",
       " ('Solaray Mega-B-Stress on laaja ja tasapainotettu B-vitamiini yhdistelmä joka sisältää kaikki tärkeät B-vitamiinit. Solaray Mega-B-Stress on kehitetty siten, että C-, B-1-, B-2-, B-3- ja B-6 -vitamiinit sulavat ja imeytyvät kahdessa vaiheessa.',\n",
       "  {'entities': [(0, 7, 'BRAND')]}),\n",
       " ('OLens Holepop3 2 Pack Piilolinssit', {'entities': [(0, 5, 'BRAND')]}),\n",
       " ('Sof Sole Force Field -kenkämuotti - Mens, Valkoinen',\n",
       "  {'entities': [(42, 51, 'COLOR'), (0, 8, 'BRAND'), (36, 41, 'GENDER')]}),\n",
       " ('Kartionmallinen Lampunvarjostin N°215, Valkoinen från La Lampe Gras .',\n",
       "  {'entities': [(39, 48, 'COLOR'), (54, 67, 'BRAND')]}),\n",
       " ('Montana Furnituren Like-seinäpeili on graafisen tyylikäs kokovartalopeili, jota reunustavat maalatut kehykset. Peilin voi kiinnittää seinälle joko pysty- tai vaakasuunnassa.Like-seinäpeili kuuluu Montana Selection -kokoelmaan, jonka säilytyskalusteita ja sisustusesineitä hallitsevat graafisen selkeä muotokieli ja pohjoismaiseen kotiin sopivat raikkaat värit. Montana-tuotteet ovat tanskalaisen Peter J. Lassenin käsialaa, ja kaikki kokoelman esineet on suunniteltu ja valmistettu Tanskassa.',\n",
       "  {'entities': [(0, 7, 'BRAND')]}),\n",
       " ('A delicate, pink freshwater pearl in setals of silver. The pink pearl is a symbol of passion, faith and romance. The pearl is a cultured freshwater pearl. Designer: Lise Aagaard. Trollbeads. Silver 925. Jalokivi.',\n",
       "  {'entities': [(191, 197, 'COLOR'), (0, 1, 'COLOR'), (12, 16, 'COLOR')]}),\n",
       " ('Stella, Shw, Brief Bikinialaosa Sininen Zizzi',\n",
       "  {'entities': [(32, 39, 'COLOR'), (40, 45, 'BRAND')]}),\n",
       " ('Percy Nobleman Traditional Shaving Kit', {'entities': [(0, 14, 'BRAND')]}),\n",
       " ('Cancun Tyynynpäällinen 45x45cm, Hydro från Nina Kullberg .',\n",
       "  {'entities': [(43, 56, 'BRAND'), (23, 31, 'SIZE')]}),\n",
       " ('Kengät Daniel Hechter  MAZELA', {'entities': [(7, 21, 'BRAND')]}),\n",
       " ('Slender Chef Rice - Vähäkalorinen tuote, jota voit käyttää tavallisen riisin tai muiden hiilihydraattien sijaan.',\n",
       "  {'entities': [(0, 12, 'BRAND')]}),\n",
       " ('Kengät xti kavac black saatavana naisten kokoja 37,38,39,40',\n",
       "  {'entities': [(33, 40, 'GENDER'), (17, 22, 'COLOR'), (48, 59, 'SIZE')]}),\n",
       " ('Gloria Pinottava Kynttilälyhty Valkoinen, 4kpl',\n",
       "  {'entities': [(31, 41, 'COLOR')]}),\n",
       " ('Paul Mitchell Express Style Hot Off The Press 200ml lämpösuojasuihke',\n",
       "  {'entities': [(0, 13, 'BRAND'), (28, 31, 'BRAND'), (46, 51, 'SIZE')]}),\n",
       " ('SmartBuy Collection Brei Silmälasit. Collection:Men. Kehyksen Väri: Brown. Kehysmateriaali: Metal. Koko: 52.',\n",
       "  {'entities': [(0, 19, 'BRAND'),\n",
       "    (92, 98, 'MATERIAL'),\n",
       "    (105, 108, 'SIZE'),\n",
       "    (68, 74, 'COLOR')]}),\n",
       " ('LEGO Boost 17101 Luova työkalupakki', {'entities': [(0, 10, 'BRAND')]}),\n",
       " ('Seisomalauta Bumprider SIT, Musta',\n",
       "  {'entities': [(28, 33, 'COLOR'), (13, 22, 'BRAND')]}),\n",
       " ('Levis Altered - Altered Straight Pants - Sininen - W26',\n",
       "  {'entities': [(41, 48, 'COLOR'), (51, 54, 'SIZE'), (0, 13, 'BRAND')]}),\n",
       " ('Excelsior Black ( 4.00/4.25 -15 76P )',\n",
       "  {'entities': [(10, 15, 'COLOR'), (0, 9, 'BRAND')]}),\n",
       " ('SONO - Hollow Tunnel Butt Plug S, Nr 49 Clear',\n",
       "  {'entities': [(37, 39, 'SIZE'), (31, 33, 'SIZE')]}),\n",
       " ('Joelle Margarita -paita, jossa kietaisumallinen V-pääntie edessä, poimutettu sauma rinnan alla ja levenevä helma. Puolipitkät pallohihat, joissa joustavat hihansuut. Röyhelöt olkapäillä edessä ja takana. Pituus n. 63 cm koossa 34/36.',\n",
       "  {'entities': [(214, 219, 'SIZE'),\n",
       "    (7, 16, 'COLOR'),\n",
       "    (0, 6, 'BRAND'),\n",
       "    (227, 233, 'SIZE')]}),\n",
       " ('Van Slooten Pink Cadillacs - hedelmänmakuiset viinikumimakeiset.',\n",
       "  {'entities': [(0, 11, 'BRAND'), (12, 16, 'COLOR')]}),\n",
       " ('White Platinum, 250ml', {'entities': [(0, 5, 'COLOR'), (16, 21, 'SIZE')]}),\n",
       " ('Object Collectors Item Objganza L/S Dress a Wi',\n",
       "  {'entities': [(0, 22, 'BRAND'), (32, 35, 'SIZE')]}),\n",
       " ('Platil Ghost fluorocarbonperuke 2kpl/pkt',\n",
       "  {'entities': [(7, 12, 'BRAND'), (0, 6, 'BRAND')]}),\n",
       " ('Kengät Chie Mihara  GOLETA', {'entities': [(7, 18, 'BRAND')]}),\n",
       " ('NõBeru Moustache Wax - Light Hold - Sandalwood Beauty MEN Shaving Products Beard & Mustache Nude Nõberu',\n",
       "  {'entities': [(97, 103, 'BRAND'),\n",
       "    (36, 46, 'MATERIAL'),\n",
       "    (54, 57, 'GENDER')]}),\n",
       " ('Era Seinäkello S Ø24cm från Blomus .', {'entities': [(28, 34, 'BRAND')]}),\n",
       " ('Prestia Säilytyspurkki 13cm, Kirkas/Hopea',\n",
       "  {'entities': [(23, 28, 'SIZE'), (29, 41, 'COLOR')]}),\n",
       " ('Pitkähihainen paitapusero celio carrie grey saatavana miesten kokoja s',\n",
       "  {'entities': [(39, 43, 'COLOR'), (54, 61, 'GENDER')]}),\n",
       " ('Finnlumor paristonkorvaaja 2 x AAParistonkorvaaja 1,5 V paristoille.2 x AA -tuotteille 1,8 m liitosjohto Muuntaja 3 V 500 mA IP20 Vain sisäkäyttöön Huom! Ei ladattaville tuotteille! Ainoastaan 1,5 V paristotuotteille',\n",
       "  {'entities': [(118, 121, 'SIZE'), (0, 9, 'BRAND'), (87, 92, 'SIZE')]}),\n",
       " ('Genesis Alfalfa Rabbit 5 kg',\n",
       "  {'entities': [(0, 7, 'BRAND'), (23, 27, 'WEIGHT')]}),\n",
       " ('Kengät Nike  Air Vapormax Flyknit 3 AJ6900-004',\n",
       "  {'entities': [(7, 11, 'BRAND')]}),\n",
       " ('Vuokkoset Biohajoava Tamponi Normal 16 kpl',\n",
       "  {'entities': [(36, 38, 'SIZE'), (0, 9, 'BRAND')]}),\n",
       " ('Malin+Goetz Bergamot Hand Treatment', {'entities': [(0, 11, 'BRAND')]}),\n",
       " ('Astianpesuneste sitruuna 500ml Essential',\n",
       "  {'entities': [(25, 30, 'SIZE')]}),\n",
       " ('Juomapullo 600ml Purple Leaves',\n",
       "  {'entities': [(17, 23, 'COLOR'), (11, 16, 'SIZE')]}),\n",
       " ('FP Little People Interaktiivinen maatila',\n",
       "  {'entities': [(3, 16, 'BRAND')]}),\n",
       " ('Vista Readers Carina +1.50 Silmälasit. Collection:Men. Kehyksen Väri: Dark Blue. Kehysmateriaali: Plastic. Koko: +1.50.',\n",
       "  {'entities': [(21, 26, 'SIZE'),\n",
       "    (70, 80, 'COLOR'),\n",
       "    (0, 13, 'BRAND'),\n",
       "    (98, 106, 'MATERIAL'),\n",
       "    (113, 119, 'SIZE')]}),\n",
       " ('TOMBOW Correction tape MONO YXE6 6 x 16', {'entities': [(37, 39, 'SIZE')]}),\n",
       " ('Matkalaukku kipling darcey black saatavana miesten kokoja yksi koko',\n",
       "  {'entities': [(43, 50, 'GENDER'), (58, 67, 'SIZE'), (27, 32, 'COLOR')]}),\n",
       " ('Pusakka Lyle   Scott  FAFARLI', {'entities': [(8, 20, 'BRAND')]}),\n",
       " ('Kengät caprice brenda brown saatavana naisten kokoja 36',\n",
       "  {'entities': [(53, 55, 'SIZE'), (38, 45, 'GENDER'), (22, 27, 'COLOR')]}),\n",
       " ('Pinqponq-vyölaukku on valmistettu kierrätetyistä PET-pulloista. Vetoisuus 6 litraa. Säädettävä olkahihna. Kaksi ulkolokeroa. Päälokero suljetaan avovetoketjulla.   - Leveys: n. 17 cm - Pituus: n. 42 cm - Syvyys:  n. 4 cm',\n",
       "  {'entities': [(196, 201, 'SIZE'),\n",
       "    (177, 182, 'SIZE'),\n",
       "    (216, 220, 'SIZE'),\n",
       "    (74, 83, 'SIZE')]}),\n",
       " ('Piikaboo Uimaliivit Perhonen Vaaleanpunainen',\n",
       "  {'entities': [(29, 44, 'COLOR'), (0, 8, 'BRAND')]}),\n",
       " ('This bag by Anna Nooshin x NA-KD features a faux snake skin material, an adjustable shoulder strap, a main compartment with one inner pocket and a snap button closure.',\n",
       "  {'entities': [(12, 32, 'BRAND')]}),\n",
       " ('Design by Frandsen Venice-pöytävalaisin, valkoinen',\n",
       "  {'entities': [(0, 18, 'BRAND'), (41, 50, 'COLOR')]}),\n",
       " ('Toleriane Calming Eye Cream 20ml', {'entities': [(28, 32, 'SIZE')]}),\n",
       " ('Helppokäyttöinen hiusturbaani, valmistettu hienoimmista mikrokuiduista, Smart Microfiberiltä',\n",
       "  {'entities': [(72, 77, 'BRAND')]}),\n",
       " ('Don Shoes Business Laced Shoes Ruskea Lloyd',\n",
       "  {'entities': [(31, 37, 'COLOR'), (38, 43, 'BRAND')]}),\n",
       " ('Little Dutch Puujuna, vaaleanpunainen', {'entities': [(0, 12, 'BRAND')]}),\n",
       " ('Master & Dynamic MW07 True Wireless Earphone Pink Coral',\n",
       "  {'entities': [(45, 55, 'COLOR'), (0, 16, 'BRAND')]}),\n",
       " ('Tobacco Absolute Aroma Reeds Hu Tuoksu Nude Molton Brown',\n",
       "  {'entities': [(44, 56, 'BRAND'), (17, 22, 'BRAND')]}),\n",
       " ('Rittal Dk Velcro-Type Fastener 90Mm',\n",
       "  {'entities': [(0, 6, 'BRAND'), (31, 35, 'SIZE')]}),\n",
       " ('T-PAIDAT/PAIDAT Lähettäjä Retour till Pojat i Musta - 7-8 vuotta',\n",
       "  {'entities': [(46, 51, 'COLOR'), (26, 32, 'BRAND')]}),\n",
       " ('Hannalicious x NA-KD Belted Blazer - Red',\n",
       "  {'entities': [(37, 40, 'COLOR'), (0, 20, 'BRAND')]}),\n",
       " ('NETGEAR S350 Series 24-Port GiE Smart Switch',\n",
       "  {'entities': [(32, 37, 'BRAND')]}),\n",
       " ('Nikwax Kyllästesuihke nahalle ja kankaalle 125ml',\n",
       "  {'entities': [(0, 6, 'BRAND'), (43, 48, 'SIZE')]}),\n",
       " ('Kuivattu Ruusunnuppu (L) 80g', {'entities': [(25, 28, 'WEIGHT')]}),\n",
       " ('Nilkkurit keyté pouloi beige saatavana naisten kokoja 40',\n",
       "  {'entities': [(54, 56, 'SIZE'), (39, 46, 'GENDER'), (23, 28, 'COLOR')]}),\n",
       " ('Mater Terho riippuvalaisin, iso, musta',\n",
       "  {'entities': [(0, 5, 'BRAND'), (33, 38, 'COLOR')]}),\n",
       " ('Merimetso 11cm', {'entities': [(10, 14, 'SIZE')]}),\n",
       " ('Russell Athletic Iconic Twill Hoodie',\n",
       "  {'entities': [(0, 16, 'BRAND'), (24, 29, 'MATERIAL')]}),\n",
       " ('Anna Field Florial Fantasy -pusero, jossa lyhyet hihat. Yksivärinen takaosa mustaa trikoota. Etupuoli kangasta, jossa koristeellinen kukkakuvio. Pyöreä ja avara pääntie.',\n",
       "  {'entities': [(0, 10, 'BRAND')]}),\n",
       " ('Sterling Silver Knot Short Ditsy', {'entities': [(9, 15, 'COLOR')]}),\n",
       " ('LG 55SM5KE-B Signage Monitor 55inch FHD D-LED 450cd/m2 IPS 24/7 Built in Speaker WebOS Slot-On Optional OPS-Kit HDBaseT box 3YSDR',\n",
       "  {'entities': [(21, 28, 'BRAND')]}),\n",
       " ('Watchguard Firebox M200', {'entities': [(0, 10, 'BRAND')]}),\n",
       " ('Hedelmä kondomit 24 kpl', {'entities': [(17, 19, 'SIZE')]}),\n",
       " (\"Tyttöjen sandaalit birki's bari multicolour saatavana tyttöjen kokoja 24\",\n",
       "  {'entities': [(70, 72, 'SIZE')]}),\n",
       " ('Eurol DOT 4 on jarruneste hydraulisille rumpujarru- ja levyjarrujärjestelmille. Se on tarkoitettu erityisesti henkilöautojen, kuorma-autojen, mopojen, skoottereiden, moottoripyörien ja trukkien hydraulisille jarrujärjestelmille.',\n",
       "  {'entities': [(10, 11, 'SIZE'), (0, 5, 'BRAND')]}),\n",
       " ('Heliot Emil - Long Sleeve T-Shirt W. Print - Musta - L',\n",
       "  {'entities': [(45, 50, 'COLOR'), (0, 11, 'BRAND')]}),\n",
       " ('Eye Health - 2 kpl - Silmiä & näköä tukeva ravintolisä - 60 tablettia 1 kuukauden ajaksi',\n",
       "  {'entities': [(57, 59, 'SIZE')]}),\n",
       " ('Trijicon AccuPoint 2,5-10x56', {'entities': [(0, 8, 'BRAND')]}),\n",
       " ('Duraturn Mozzo Winter ( 225/75 R16 121/120R )',\n",
       "  {'entities': [(0, 8, 'BRAND')]}),\n",
       " ('Pixi Hydrating Milky Serum',\n",
       "  {'entities': [(15, 20, 'COLOR'), (0, 4, 'BRAND')]}),\n",
       " ('SPC-Flakes 450 gr', {'entities': [(11, 17, 'WEIGHT')]}),\n",
       " ('Strellson 11 Saturn 10008104',\n",
       "  {'entities': [(10, 12, 'SIZE'), (0, 9, 'BRAND')]}),\n",
       " ('Joie i-Gemm 2 Turvakaukalo i-Size', {'entities': [(0, 4, 'BRAND')]}),\n",
       " ('OWL R40 seinäpeili, pieni', {'entities': [(0, 3, 'BRAND')]}),\n",
       " ('Footjoy Canvas Duffel Bag',\n",
       "  {'entities': [(0, 7, 'BRAND'), (8, 14, 'MATERIAL')]}),\n",
       " ('Gazillion Big Bubble Wand', {'entities': [(0, 9, 'BRAND')]}),\n",
       " ('Perunalastut 45g - 60% alennus', {'entities': [(13, 16, 'WEIGHT')]}),\n",
       " ('LITTLE MISTRESS kaunis mekko. Mekon vyötäröllä on upea solmimisnauha, ja se sopii täydellisesti juhlaan.- Joustamatonta materiaalia- Vyötäröllä solmimisnauha (irrotettava) - One shoulder -malli- Yläosan takana resori- Alaosa sifonkia - Yläosa satiinia- VuoriTakapituus olalta 150 cm, rinnanympärys 79 cm koossa S(UK10). Malli on 178 cm pitkä ja käyttää kokoa S(UK10). Vain käsinpesu.',\n",
       "  {'entities': [(276, 283, 'SIZE'), (298, 303, 'SIZE'), (329, 335, 'SIZE')]}),\n",
       " ('Sonneti Novice Verryttelyasu Juniorit - Kids, Musta',\n",
       "  {'entities': [(46, 51, 'COLOR'), (0, 7, 'BRAND'), (40, 45, 'AGE_GROUP')]}),\n",
       " ('Premium Ashwagandha 90 kapselia', {'entities': [(20, 22, 'SIZE')]}),\n",
       " ('Easy Fishing 70 onkilaite 10g',\n",
       "  {'entities': [(13, 15, 'SIZE'), (0, 12, 'BRAND'), (26, 29, 'WEIGHT')]}),\n",
       " ('Kengät expander 9wl6020 other saatavana miesten kokoja 42,43,44,45,46',\n",
       "  {'entities': [(40, 47, 'GENDER'), (55, 69, 'SIZE')]}),\n",
       " ('Kengät supra breaker blue saatavana miesten kokoja 36',\n",
       "  {'entities': [(51, 53, 'SIZE'), (21, 25, 'COLOR'), (36, 43, 'GENDER')]}),\n",
       " ('Biolage SmoothProof Serum 89ml',\n",
       "  {'entities': [(0, 7, 'BRAND'), (26, 30, 'SIZE')]}),\n",
       " ('Pomellato PM0056S Aurinkolasit. Collection:Women. Kehyksen Väri: Gold.  Linssin Väri: . Kehysmateriaali: Metal. Koko: 57.',\n",
       "  {'entities': [(0, 9, 'BRAND'),\n",
       "    (105, 111, 'MATERIAL'),\n",
       "    (65, 70, 'COLOR'),\n",
       "    (118, 121, 'SIZE')]}),\n",
       " ('Dolls - Mechanic Bitch', {'entities': [(0, 5, 'BRAND')]}),\n",
       " ('Fortress Predator 5m perukesiima',\n",
       "  {'entities': [(9, 17, 'BRAND'), (18, 20, 'SIZE')]}),\n",
       " ('Sambucol Kids 120 ml',\n",
       "  {'entities': [(14, 20, 'SIZE'), (9, 13, 'AGE_GROUP')]}),\n",
       " ('Chrystie NYC - Varsity Logo Crewneck - Violetti - L',\n",
       "  {'entities': [(39, 47, 'COLOR'), (0, 12, 'BRAND')]}),\n",
       " ('Koh-Kae BBQ maapähkinä', {'entities': [(0, 7, 'BRAND')]}),\n",
       " ('Vauhti juomavyö Thermo musta',\n",
       "  {'entities': [(0, 6, 'BRAND'), (23, 28, 'COLOR')]}),\n",
       " ('Sandaalit So Size  DITRON', {'entities': [(10, 17, 'BRAND')]}),\n",
       " ('This is a green, rib-knit beanie from Woolrich. The beanie has a small blue patch with a logo and is knitted in a linen-blend - Green beanie - Patch detail - Rib knit - Linen blend - 70% Cotton, 30% Linen',\n",
       "  {'entities': [(128, 133, 'COLOR'),\n",
       "    (143, 148, 'BRAND'),\n",
       "    (71, 75, 'COLOR'),\n",
       "    (187, 194, 'MATERIAL'),\n",
       "    (169, 174, 'MATERIAL')]}),\n",
       " ('Woogie Milk Caramel sisältää herkullisia maidosta ja kermasta valmistettuja karamelleja. Makeiset säilyvät parhaiten kuivassa paikassa kuumuudelta suojattuna.',\n",
       "  {'entities': [(12, 19, 'COLOR'), (7, 11, 'COLOR'), (0, 6, 'BRAND')]}),\n",
       " ('Keraaminen kuorimaveitsi 11 cm valkoinen',\n",
       "  {'entities': [(25, 30, 'SIZE'), (31, 40, 'COLOR')]}),\n",
       " ('Bianco. Ylä: 100% polyesteri. Ylävuori: 100% nahka. Ulkopohja: 100% synthetic. Elegantti ja naisellinen. Tolppakorko. Koron korkeus: 6 cm.',\n",
       "  {'entities': [(133, 138, 'SIZE'),\n",
       "    (45, 51, 'MATERIAL'),\n",
       "    (18, 29, 'MATERIAL'),\n",
       "    (68, 78, 'MATERIAL')]}),\n",
       " ('Vibraattori Lubigel Nestemäinen Red Fruits',\n",
       "  {'entities': [(32, 35, 'COLOR')]}),\n",
       " ('Coach Fragrance Blue Eau De Toilette',\n",
       "  {'entities': [(16, 20, 'COLOR'), (0, 15, 'BRAND')]}),\n",
       " ('Bella Pitkähihainen Pusero Paita Punainen Hofmann Copenhagen',\n",
       "  {'entities': [(42, 60, 'BRAND'), (33, 41, 'COLOR')]}),\n",
       " ('Sandaalit Eva Turner  -', {'entities': [(10, 20, 'BRAND')]}),\n",
       " ('Pitkähihainen paitapusero Les voiles de St Tropez  ACOUPA',\n",
       "  {'entities': [(26, 49, 'BRAND')]}),\n",
       " ('Hünkyjunk – Clutch Cock & Ball Sling, Kirkas',\n",
       "  {'entities': [(0, 9, 'BRAND')]}),\n",
       " ('Kengät Kawasaki  RETRO', {'entities': [(7, 15, 'BRAND')]}),\n",
       " ('Kengät Red Wing  WACOUTA CAMP MOC', {'entities': [(7, 15, 'BRAND')]}),\n",
       " ('Cashewpähkinät 200g - 19% alennus', {'entities': [(15, 19, 'WEIGHT')]}),\n",
       " ('Nemo Lighting Projecteur 365 riippuvalaisin, yönsininen',\n",
       "  {'entities': [(25, 28, 'SIZE'), (0, 13, 'BRAND')]}),\n",
       " ('NasoKlar nässköljningskanna Sininen', {'entities': [(28, 35, 'COLOR')]}),\n",
       " ('CASE LOGIC EVA-foam 13 Inch Notebook Sleeve, slim-line, Black',\n",
       "  {'entities': [(56, 61, 'COLOR'), (20, 22, 'SIZE')]}),\n",
       " ('3188011 Celata - seinävalaisin, musta, 12V, 4W led, Garden Lights',\n",
       "  {'entities': [(52, 65, 'BRAND'), (32, 38, 'COLOR')]}),\n",
       " ('Rannekoru Milano 6mm', {'entities': [(17, 20, 'SIZE')]}),\n",
       " ('Sandaalit sam edelman allie black saatavana naisten kokoja 41',\n",
       "  {'entities': [(59, 61, 'SIZE'), (44, 51, 'GENDER'), (28, 33, 'COLOR')]}),\n",
       " ('Meiho SS vieherasia', {'entities': [(0, 5, 'BRAND')]}),\n",
       " ('Premiorri Solazo SPlus ( 205/50 R17 93V XL )',\n",
       "  {'entities': [(40, 42, 'SIZE'), (0, 9, 'BRAND')]}),\n",
       " ('The Original Playboy. Ylä: 100% mokkanahka. Ylävuori: 100% nahka. Pohjallinen: 100% nahka. Ulkopohja: 100% real crepe. Nauhakiinnitys. Valmistettu  Portugali.',\n",
       "  {'entities': [(32, 43, 'COLOR')]}),\n",
       " ('Kengät stéphane kelian eva brown saatavana naisten kokoja 40',\n",
       "  {'entities': [(58, 60, 'SIZE'), (43, 50, 'GENDER'), (27, 32, 'COLOR')]}),\n",
       " ('Beeswax Lip Balm 4 gr Pomegranate',\n",
       "  {'entities': [(17, 21, 'WEIGHT'), (0, 7, 'COLOR')]}),\n",
       " ('Bulget Silmälasit BG1456 06D', {'entities': [(0, 6, 'BRAND')]}),\n",
       " ('Ruffled Dress With Smock Waist And Batwing Sleeve Mekko Valkoinen Designers Remix Girls',\n",
       "  {'entities': [(56, 65, 'COLOR'), (82, 87, 'GENDER')]}),\n",
       " ('Adrien Lastic – Bonnie & Clyde Vibraattori Klitoriskiihottimella',\n",
       "  {'entities': [(0, 13, 'BRAND')]}),\n",
       " (\"EP Sommerlatte's Blend Foxy Brush\", {'entities': [(17, 22, 'BRAND')]}),\n",
       " ('Vetoketjullinen tikkiliivi Paola Vanharoosa',\n",
       "  {'entities': [(33, 43, 'COLOR'), (27, 32, 'BRAND')]}),\n",
       " ('Talvisaappaat moon boot far side low suede glitter black saatavana naisten kokoja 36,38,39,40,42',\n",
       "  {'entities': [(67, 74, 'GENDER'), (51, 56, 'COLOR'), (82, 96, 'SIZE')]}),\n",
       " ('ImmiFlex ® Kids koostuu 100 mg:sta Wellmune WGP:ää ja D-vitamiinista, joka tukee immuunijärjestelmän normaalia toimintaa.',\n",
       "  {'entities': [(24, 34, 'WEIGHT'), (11, 15, 'AGE_GROUP')]}),\n",
       " ('Enlighten Illuminating Serum, 30ml', {'entities': [(30, 34, 'SIZE')]}),\n",
       " ('Gelia 4063002001 Vikavirtasuoja nollajännitesuojalla',\n",
       "  {'entities': [(0, 5, 'BRAND')]}),\n",
       " ('Rantasandaalit Reef  SMOOTHY', {'entities': [(15, 19, 'BRAND')]}),\n",
       " ('Tyylikäs Abu Garcia Svartzonker huppari kalastukseen tai vapaa-aikaan.',\n",
       "  {'entities': [(9, 19, 'BRAND'), (20, 31, 'BRAND')]}),\n",
       " ('Hopps - I Hopps Ny Hoodie - Musta - L',\n",
       "  {'entities': [(28, 33, 'COLOR'), (36, 37, 'SIZE'), (0, 5, 'BRAND')]}),\n",
       " ('FinnRover Loue M34 Järvinen',\n",
       "  {'entities': [(19, 27, 'BRAND'), (0, 9, 'BRAND')]}),\n",
       " ('Tyylikäs seuralainen: kaikki välttämättömimmät kulkevat näppärästi mukana Turned Love -merkkisessä käsilaukussa. Käteviä sisätaskuja. Vetoketjusuljenta. Huom. magneetti: käyttöä ei suositella raskaana oleville eikä henkilöille, joilla on sydämentahdistin tai sisäinen defibrillaattori.',\n",
       "  {'entities': [(74, 85, 'BRAND')]}),\n",
       " ('Lerosett rasvaiselle iholle, kasvipohjainen, 70 ml',\n",
       "  {'entities': [(45, 50, 'SIZE'), (0, 8, 'BRAND')]}),\n",
       " ('Primeboots. Ylävuori: 100% nahka. Valmistettu korkealaatuisesta nahasta, joka muuttuu yhä kauniimmaksi käytön myötä. Tolppakorko. Valmistettu  Espanja. Koron korkeus: 6 cm.',\n",
       "  {'entities': [(167, 172, 'SIZE'), (27, 33, 'MATERIAL')]}),\n",
       " ('Sneum - Down Vest W. Single-Piece Leather Yoke - Musta - L',\n",
       "  {'entities': [(49, 54, 'COLOR'), (0, 5, 'BRAND'), (34, 41, 'MATERIAL')]}),\n",
       " ('Lastenkengät andré aimie black saatavana tyttöjen kokoja 37,38,39',\n",
       "  {'entities': [(25, 30, 'COLOR')]}),\n",
       " ('Colt – Nipple Pro-Suckers Nännipumput', {'entities': [(0, 4, 'BRAND')]}),\n",
       " ('Liss Unlimited Conditioner, 150ml', {'entities': [(28, 33, 'SIZE')]}),\n",
       " ('Wood Wood. Luomu.', {'entities': [(5, 10, 'MATERIAL')]}),\n",
       " ('Hammastahna Complete Care Mint 75ml Lavera',\n",
       "  {'entities': [(26, 30, 'COLOR'), (36, 42, 'BRAND'), (31, 35, 'SIZE')]}),\n",
       " ('Jane Top T-shirts & Tops Short-sleeved Valkoinen Ida Sjöstedt',\n",
       "  {'entities': [(39, 48, 'COLOR'), (49, 61, 'BRAND')]}),\n",
       " ('Pols Potten-Coralreef Maljakko, Valkoinen',\n",
       "  {'entities': [(32, 41, 'COLOR')]}),\n",
       " ('Olkalaukut desigual mex kiev mini black saatavana naisten kokoja yksi koko',\n",
       "  {'entities': [(50, 57, 'GENDER'), (65, 74, 'SIZE'), (34, 39, 'COLOR')]}),\n",
       " (\"Kynttilänjalka ''You Light Me Up'', 20 cm från Goebel .\",\n",
       "  {'entities': [(36, 41, 'SIZE'), (47, 53, 'BRAND')]}),\n",
       " ('Camo Gym Belt, Dark Green Camo',\n",
       "  {'entities': [(0, 4, 'COLOR'), (15, 30, 'COLOR')]}),\n",
       " ('Noblesse-viskilasi 30 cl 4-pack 30 cl', {'entities': [(19, 21, 'SIZE')]}),\n",
       " ('19 The Leather Skirt Lyhyt Hame Musta Denim Hunter',\n",
       "  {'entities': [(32, 37, 'COLOR'),\n",
       "    (0, 2, 'SIZE'),\n",
       "    (38, 50, 'BRAND'),\n",
       "    (7, 14, 'MATERIAL')]}),\n",
       " ('Bamix Mono 140W Sauvasekoitin, Valkoinen/Kromi från Bamix .',\n",
       "  {'entities': [(0, 5, 'BRAND'), (31, 46, 'COLOR')]}),\n",
       " ('Savic Hop-In hiekkalaatikko antrasiitti', {'entities': [(0, 5, 'BRAND')]}),\n",
       " ('Rantasandaalit Rider  INFINITY LIGHT SLIDE',\n",
       "  {'entities': [(31, 36, 'SIZE'), (15, 20, 'BRAND')]}),\n",
       " ('Mattapintaiseksi kuivuva huulilakkakokoelma sisältää 16 huikean väristä ja näyttävää sävyä. Pitkäkestoinen koostumus sisältää runsaasti mattaväripigmenttejä, jotka tekevät huulista samettisen näköiset ja tuntuiset.',\n",
       "  {'entities': [(53, 55, 'SIZE')]}),\n",
       " (\"Gunki D'Gigan 46F\", {'entities': [(0, 5, 'BRAND')]}),\n",
       " ('Source Patrol 35 l musta',\n",
       "  {'entities': [(14, 16, 'SIZE'), (0, 6, 'BRAND'), (19, 24, 'COLOR')]}),\n",
       " ('A dinner knife of quality design by Peter Svarrer for Rosendahl is an obvious choice for the table setting.',\n",
       "  {'entities': [(0, 1, 'COLOR'), (54, 63, 'BRAND')]}),\n",
       " ('Z Skinrepair Repair schampo 125 ml', {'entities': [(28, 34, 'SIZE')]}),\n",
       " ('Shibuya Ultima Magneettinen hylly vastakaarijouselle',\n",
       "  {'entities': [(0, 7, 'BRAND')]}),\n",
       " ('Weather Report Gabi Jacket', {'entities': [(0, 14, 'BRAND')]}),\n",
       " ('Sitting Bull säkkituoli, savi', {'entities': [(0, 12, 'BRAND')]}),\n",
       " ('Cleveland Golf UHX 7-Pw Naisten',\n",
       "  {'entities': [(0, 9, 'BRAND'), (24, 31, 'GENDER')]}),\n",
       " ('Le Toy Van - Nukkekoti - Lavender House',\n",
       "  {'entities': [(25, 33, 'COLOR'), (0, 10, 'BRAND')]}),\n",
       " ('Neroli Bigarade Oil Mask 50ml', {'entities': [(25, 29, 'SIZE')]}),\n",
       " ('Canada Snow. Ylä: 100% patent nahka. Ylävuori: 100% lana. Pohjallinen: 100% lana. Välipohja: 100% kumi. Ulkopohja: 100% kumi. Koron korkeus: 3 cm.',\n",
       "  {'entities': [(30, 36, 'MATERIAL'),\n",
       "    (141, 146, 'SIZE'),\n",
       "    (98, 103, 'MATERIAL')]}),\n",
       " ('Boss Casual Wear. 100% vuohennahka nahka. A modern twist on a classic design. Vetoketjukiinnitys edessä. Täysvuorattu.',\n",
       "  {'entities': [(42, 43, 'COLOR'), (23, 41, 'MATERIAL')]}),\n",
       " ('Quay Australia Aurinkolasit QC-000142 High Key SLV/BLUE',\n",
       "  {'entities': [(0, 14, 'BRAND'), (43, 46, 'BRAND')]}),\n",
       " ('Kengät n d c san manuel camarra slavato black saatavana naisten kokoja 36,35',\n",
       "  {'entities': [(56, 63, 'GENDER'), (40, 45, 'COLOR'), (71, 76, 'SIZE')]}),\n",
       " ('Annostelija 3ml', {'entities': [(12, 15, 'SIZE')]}),\n",
       " ('Monster Strive In Ear, Orange',\n",
       "  {'entities': [(23, 29, 'COLOR'), (0, 7, 'BRAND')]}),\n",
       " ('Cutler and Gross Round Gold Tortoise Aurinkolasit. Collection:Women. Kehyksen Väri: Gold.  Linssin Väri: . Kehysmateriaali: Acetate. Koko: 54.',\n",
       "  {'entities': [(23, 36, 'COLOR'),\n",
       "    (0, 16, 'BRAND'),\n",
       "    (139, 142, 'SIZE'),\n",
       "    (84, 89, 'COLOR'),\n",
       "    (124, 132, 'MATERIAL')]}),\n",
       " ('Shock Therapy – Silver Bullet', {'entities': [(16, 22, 'COLOR')]}),\n",
       " ('Core Cat Adult Ocean viljaton kuivaruoka aikuisille kissoille',\n",
       "  {'entities': [(0, 4, 'BRAND'), (9, 14, 'AGE_GROUP')]}),\n",
       " ('Aldo Nyderia', {'entities': [(0, 4, 'BRAND')]}),\n",
       " ('Moooi Random Light II riippuvalaisin, keskikokoinen, musta',\n",
       "  {'entities': [(0, 5, 'BRAND'), (53, 58, 'COLOR')]}),\n",
       " ('Emporio Armani -T-paita, jossa kullanvärinen logo rinnassa. Normaali istuvuus. Puuvillaa. Pyöristetty pääntie, jossa joustinneulosreunus. Suora helma.',\n",
       "  {'entities': [(0, 14, 'BRAND'), (79, 89, 'MATERIAL'), (31, 44, 'COLOR')]}),\n",
       " ('Ray-Ban Aurinkolasit RB2140 Original Wayfarer Denim 1162',\n",
       "  {'entities': [(0, 7, 'BRAND')]}),\n",
       " ('Rosa Suede Shoes Summer Shoes Flat Sandals Vaaleanpunainen ATP Atelier',\n",
       "  {'entities': [(0, 4, 'COLOR'), (43, 58, 'COLOR'), (59, 62, 'BRAND')]}),\n",
       " ('Sunflower - Classic Shirt - Musta - L',\n",
       "  {'entities': [(28, 33, 'COLOR'),\n",
       "    (36, 37, 'SIZE'),\n",
       "    (0, 9, 'BRAND'),\n",
       "    (12, 19, 'BRAND')]}),\n",
       " ('Bonbon Mågeklatter makeispussi sisältää kovia karamellinmakuisia makeisia.',\n",
       "  {'entities': [(0, 6, 'BRAND')]}),\n",
       " ('Marc Petitjean Magic Tool', {'entities': [(0, 14, 'BRAND')]}),\n",
       " ('Mighty Beanz Cars Pop Up Case', {'entities': [(0, 12, 'BRAND')]}),\n",
       " ('Butterfly Vase Black/White, S', {'entities': [(28, 29, 'SIZE')]}),\n",
       " ('Nokkela Suspending', {'entities': [(0, 7, 'BRAND')]}),\n",
       " ('Huomio heijastava Muumi-reppu 15L valkoinen',\n",
       "  {'entities': [(0, 6, 'BRAND'), (34, 43, 'COLOR')]}),\n",
       " ('Versa Gripps - PRO Series – Paras treenikumppanisi! Versa Grippseissä yhdistyvät treenihanskat, vetoremmit ja rannetuet! Optimaalinen pito ja tuplavahvistettu materiaali!',\n",
       "  {'entities': [(0, 12, 'BRAND')]}),\n",
       " ('Sun Mountain Kube Travel Cover', {'entities': [(0, 12, 'BRAND')]}),\n",
       " ('Lastenkengät gioseppo epsilon white saatavana tyttöjen kokoja 28,29,31',\n",
       "  {'entities': [(30, 35, 'COLOR'), (62, 70, 'SIZE')]}),\n",
       " ('Dkny 100% Dkny Top Long Sl. T-shirts & Tops Long-sleeved Musta DKNY Homewear',\n",
       "  {'entities': [(57, 62, 'COLOR'), (63, 76, 'BRAND')]}),\n",
       " ('Taulukärki Saunders Point Combo 11/32\"', {'entities': [(11, 19, 'BRAND')]}),\n",
       " ('Double Star DSR 116 ( 245/70 R19.5 136/134L 16PR )',\n",
       "  {'entities': [(16, 19, 'SIZE'), (0, 11, 'BRAND')]}),\n",
       " ('Farm King ATF 1360 R1 ( 18.4 -38 14PR TT )',\n",
       "  {'entities': [(0, 9, 'BRAND')]}),\n",
       " ('Leader Extra Strong Carnosin är en långtidsverkande och kraftig karnosinprodukt. Karnosin är kroppsegen och verkar naturligt i muskler, lever och hjärnan.',\n",
       "  {'entities': [(0, 6, 'BRAND')]}),\n",
       " ('Suuri nostokraana käsiohjaimella Dickie Toysilta. Nostokraana on erinomainen kone käytettäväksi rakennustyömaalla ja se kääntyy 350 astetta. Nostokraanan mukana tulee useita tarvikkeita.',\n",
       "  {'entities': [(128, 131, 'SIZE')]}),\n",
       " ('Macadamia Duo Deep Repair Masque 470ml, Healing Oil Treatment 125ml -',\n",
       "  {'entities': [(62, 67, 'SIZE'), (33, 39, 'SIZE')]}),\n",
       " ('Lenstown Lighly Pastel 20 Pack Piilolinssit. Valmistaja: Lenstown. Käyttöaika Daily Disposable. Vesipitoisuus: %',\n",
       "  {'entities': [(23, 25, 'SIZE'), (0, 8, 'BRAND')]}),\n",
       " ('Delta Mckenzie Speed bag taustaSpeed bag 24\" soveltuu erinomaisesti harjoitteluun lähes missä vaan. Kantokahvat helpottavat tausta kantamista mukana.Ominaisuudet:Mitat 60x60x25cm Paino n.15kg',\n",
       "  {'entities': [(0, 14, 'BRAND'), (15, 20, 'BRAND'), (168, 178, 'WEIGHT')]}),\n",
       " ('Aeolus AE21 ( 14.00 R20 164/160G 20PR TT )',\n",
       "  {'entities': [(0, 6, 'BRAND')]}),\n",
       " ('Sandaalit eva turner - brown saatavana naisten kokoja 40',\n",
       "  {'entities': [(54, 56, 'SIZE'), (39, 46, 'GENDER'), (23, 28, 'COLOR')]}),\n",
       " ('SIGEL Board eraser 130x60 mm black', {'entities': [(29, 34, 'COLOR')]}),\n",
       " ('Frozen 2 Toddler Doll Elsa + sauva', {'entities': [(9, 16, 'AGE_GROUP')]}),\n",
       " ('General Tractor V.Ply ( 20.8 -38 151A6 10PR TT )',\n",
       "  {'entities': [(0, 7, 'BRAND')]}),\n",
       " ('Kaura Pro on aivan uusi tapa syödä kauraa. Runsaskuituinen ja vatsaystävällinen kaura, proteiinien aatelia edustava heraproteiini sekä lukuisista hyödyllisistä vaikutuksista tuttu herkullinen mustikka löytyvät nyt helposti yhdestä ja\\xa0samasta tuotteesta. Hyvät ravintoaineet optimaalisessa suhteessa. Kaura, heraproteiini ja kuidut sekä maun kruunaava kotimainen mustikka pitävät nälän pitkään loitolla ja antavat pitkäkestoista energiaa ilman lisättyä sokeria tai lisäaineita.\\xa0Kaura Pron herkullinen mustikan maku tulee aidoista kotimaisista mustikista.\\xa0 Käyttöohje: Nauti herkullinen Kaura Pro päivittäin aamu-, ilta- tai välipalana esim. jogurtin, puuron tai smoothien joukossa. Sekoittamalla 2,5 dl nestettä sekä jäisiä marjoja mielesi mukaan, saat helpon, herkullisen ja terveellisen välipalan. Valmistaja: Voimaruoka',\n",
       "  {'entities': [(815, 825, 'BRAND'), (698, 704, 'SIZE')]}),\n",
       " ('Tennarit Skeleton Highrise Sneaker', {'entities': [(18, 26, 'COLOR')]}),\n",
       " ('MYKRONOZ Smartwatch Zefit4 HR', {'entities': [(27, 29, 'BRAND')]}),\n",
       " ('Miracle Cleanser, 120ml', {'entities': [(18, 23, 'SIZE')]}),\n",
       " ('Seven Seas Copenhagen Pollux', {'entities': [(0, 21, 'BRAND')]}),\n",
       " ('UCO telttakeppi LED-valolla 4 kpl',\n",
       "  {'entities': [(28, 29, 'SIZE'), (0, 3, 'BRAND')]}),\n",
       " ('Pechin Lingerie Hosiery Knee High Socks Musta Max Mara Hosiery',\n",
       "  {'entities': [(40, 45, 'COLOR'), (46, 62, 'BRAND')]}),\n",
       " ('Powerstretch Glove S', {'entities': [(19, 20, 'SIZE')]}),\n",
       " ('Close2you - Corallino', {'entities': [(0, 9, 'BRAND')]}),\n",
       " ('Fist It - Bottom Butter, 500 ml',\n",
       "  {'entities': [(25, 31, 'SIZE'), (0, 7, 'BRAND')]}),\n",
       " ('Ecodoo Puhdistuskivi', {'entities': [(0, 6, 'BRAND')]}),\n",
       " ('Kaltrunderneuerung WTA-S-Ringtread ( 385/65 R22.5 160J pinnoitettu, Karkassqualität FV )',\n",
       "  {'entities': [(0, 18, 'BRAND')]}),\n",
       " ('Mineraalisuoladeodorantti joka toimii. Kastele kraanan alla vedellä, hiero kainaloon n. 20 sekuntia ja sen jälkeen olet valmis päivän rientoihin.',\n",
       "  {'entities': [(88, 90, 'SIZE')]}),\n",
       " ('Van Well -merkkinen kahviastiasto viimeistelee kattauksen. Astiasto on valmistettu posliinista. Tilaat astiaston vaivattomasti verkkokaupastamme. Verkko-ostosten teko on nopeaa ja turvallista!',\n",
       "  {'entities': [(0, 8, 'BRAND')]}),\n",
       " ('Private, EdT 100ml', {'entities': [(13, 18, 'SIZE')]}),\n",
       " ('Gluteeniton spagetti, joka on valmistettu tummasta luomulaatuisesta täysjyväriisistä. Al dente -keittoaika viidestä minuutista eteenpäin. Näin se käy: keitä viisi minuuttia, jonka jälkeen maista pastaa jokainen minuutti, kunnes suutuntuma on täydellinen!Pakkaus: 500 gAinesosat / INCI: LuomutäysjyväriisijauhoLisätiedot: luomu, vegaaninen, gluteeniton',\n",
       "  {'entities': [(263, 266, 'SIZE')]}),\n",
       " ('Kengät Andrea Conti  SAMPI', {'entities': [(7, 19, 'BRAND')]}),\n",
       " ('Neighborhood - Souvenir / C-Tee . Ss - Musta - 100',\n",
       "  {'entities': [(39, 44, 'COLOR'), (47, 50, 'SIZE'), (0, 12, 'BRAND')]}),\n",
       " ('Georgia Table Lamp Jonathan Adler', {'entities': [(19, 33, 'BRAND')]}),\n",
       " ('Lodbrock – Käsikahle', {'entities': [(0, 8, 'BRAND')]}),\n",
       " ('Bottega Veneta Aurinkolasit BV0238S 004', {'entities': [(0, 14, 'BRAND')]}),\n",
       " ('International Cash Drawer Cash Drawer Hp-123 Manual Standard Black',\n",
       "  {'entities': [(61, 66, 'COLOR'), (0, 25, 'BRAND'), (52, 60, 'SIZE')]}),\n",
       " ('Urban Washed Tyynynpäällinen 50x50cm, Valkoinen från Urban Collective .',\n",
       "  {'entities': [(38, 47, 'COLOR'), (53, 69, 'BRAND'), (29, 37, 'SIZE')]}),\n",
       " ('Huivit antik batik zoe blue saatavana naisten kokoja yksi koko',\n",
       "  {'entities': [(23, 27, 'COLOR'), (38, 45, 'GENDER'), (53, 62, 'SIZE')]}),\n",
       " (\"Kengät un matin d'ete jobby hopea saatavana naisten kokoja 41\",\n",
       "  {'entities': [(59, 61, 'SIZE'), (44, 51, 'GENDER')]}),\n",
       " ('T-paita Gold Label Tee', {'entities': [(8, 12, 'COLOR')]}),\n",
       " ('Kengät british knights demon black saatavana naisten kokoja 36',\n",
       "  {'entities': [(60, 62, 'SIZE'), (45, 52, 'GENDER'), (29, 34, 'COLOR')]}),\n",
       " ('Koululaukku poids plume new light cartable 38 cm blue saatavana poikien kokoja yksi koko',\n",
       "  {'entities': [(43, 48, 'SIZE'),\n",
       "    (49, 53, 'COLOR'),\n",
       "    (64, 71, 'GENDER'),\n",
       "    (79, 88, 'SIZE')]}),\n",
       " ('Potkurin tasapainoitusakseli Yuneec Q500 potkurille. Akselissa molemmat kierteet. Tarvitset lisäksi tuotteen13499',\n",
       "  {'entities': [(29, 35, 'BRAND')]}),\n",
       " ('Happy Crazy Mine Sweet Moisturizing Conditioner 50 ml',\n",
       "  {'entities': [(48, 53, 'SIZE'), (0, 16, 'BRAND')]}),\n",
       " ('Swiss Clinic Cryogel Body Serum', {'entities': [(0, 12, 'BRAND')]}),\n",
       " ('JVC Wearable Wireless Speaker SP-A7WT', {'entities': [(0, 3, 'BRAND')]}),\n",
       " ('Robottiruohonleikkuri enintään 1 000 neliömetrin nurmikoiden leikkaamiseen. SensorCut-toiminnon ansiosta ruohonleikkuri ei jätä nurmikkoon raitoja. Leikkaa säässä kuin säässä ja toimii niin hiljaa, että sitä tuskin kuulee. Kompakti ja ketterä ruohonleikkuri, joka selviää jopa 30 prosentin kallistuksesta ja kapeista käytävistä.',\n",
       "  {'entities': [(277, 279, 'SIZE')]}),\n",
       " ('Newline Core Coolskin Singlet',\n",
       "  {'entities': [(0, 7, 'BRAND'), (8, 12, 'BRAND')]}),\n",
       " ('Primos StakeOut blind* Tuotteessa integroidut lasikuituiset tukikepit* Kosteutta hylkivä materiaali* 3D MossyOak kuvioleikkaus, kestävä kangas* Mitat: 0,7 x 3,6 m',\n",
       "  {'entities': [(0, 6, 'BRAND'), (151, 162, 'SIZE')]}),\n",
       " ('Rodenstock R7108 Silmälasit. Collection:Women. Kehyksen Väri: Grey Havana. Kehysmateriaali: Titanium. Koko: 52.',\n",
       "  {'entities': [(62, 66, 'COLOR'),\n",
       "    (0, 10, 'BRAND'),\n",
       "    (108, 111, 'SIZE'),\n",
       "    (67, 74, 'COLOR'),\n",
       "    (92, 101, 'MATERIAL')]}),\n",
       " ('Sport Fucker – Cum Stopper 2.0, Punainen',\n",
       "  {'entities': [(0, 12, 'BRAND'), (32, 40, 'COLOR')]}),\n",
       " ('Kengät camper peu cami grey saatavana naisten kokoja 36,37,38,39,40,41,42,35',\n",
       "  {'entities': [(23, 27, 'COLOR'), (53, 76, 'SIZE'), (38, 45, 'GENDER')]}),\n",
       " ('Otterbox Defender Iphone 11 Pro Max- Black',\n",
       "  {'entities': [(37, 42, 'COLOR'), (25, 27, 'SIZE'), (0, 8, 'BRAND')]}),\n",
       " ('Randolph Engineering Aviator Aurinkolasit. Collection:Men. Kehyksen Väri: Matte Black.  Linssin Väri: . Kehysmateriaali: Metal. Koko: 61.',\n",
       "  {'entities': [(0, 20, 'BRAND'),\n",
       "    (121, 127, 'MATERIAL'),\n",
       "    (134, 137, 'SIZE'),\n",
       "    (80, 86, 'COLOR')]}),\n",
       " ('Bleiseri Majestic  244', {'entities': [(9, 17, 'BRAND')]}),\n",
       " ('Love Beauty & Planet Happy And Hydrated Duo',\n",
       "  {'entities': [(0, 20, 'BRAND')]}),\n",
       " ('Huulivoide Vanilja 4g Cattier', {'entities': [(19, 21, 'WEIGHT')]}),\n",
       " ('Hamppuproteiini, 400 g', {'entities': [(17, 22, 'WEIGHT')]}),\n",
       " ('Zalo – Hero Pulsewave Vibraattori, Twilight Purple',\n",
       "  {'entities': [(44, 50, 'COLOR')]}),\n",
       " ('Les Délices de Nina, EdT 50ml', {'entities': [(25, 29, 'SIZE')]}),\n",
       " ('Gymstick original 2.0, strong-black',\n",
       "  {'entities': [(0, 8, 'BRAND'), (23, 35, 'COLOR')]}),\n",
       " ('Mitchell päärynäpainolajitelma', {'entities': [(0, 8, 'BRAND')]}),\n",
       " ('Viliv H - Hydrate Your Face, Gentle Hyaluronic Moisturiser Beauty WOMEN Skin Care Face Day Creams Nude Viliv',\n",
       "  {'entities': [(0, 5, 'BRAND'), (66, 71, 'GENDER')]}),\n",
       " ('Speedways SR-888 ( 380/85 R34 137A8 TL kaksoistunnus  14.9R34 137B )',\n",
       "  {'entities': [(0, 9, 'BRAND')]}),\n",
       " ('Fresh Start Kit Aha Mask Beauty WOMEN Skin Care Face Sheet Mask Nude Skintology',\n",
       "  {'entities': [(69, 79, 'BRAND'), (6, 11, 'BRAND'), (32, 37, 'GENDER')]}),\n",
       " ('Audioengine A5+ - White',\n",
       "  {'entities': [(18, 23, 'COLOR'), (0, 11, 'BRAND')]}),\n",
       " ('Moisturizing Sun Lotion SPF15, 200ml', {'entities': [(31, 36, 'SIZE')]}),\n",
       " ('Kettler Axos Sprinter 3 juoksumatto. Laadukas juoksumatto kaikentasoisille juoksijoille. Tukeva rakenne, joka kestää maksimissaan 110kg käyttäjäpainon.Juoksualustan koko 120 x 43 cm. Nopeudensäätö 1-12 km/h, 0,1 km/h tarkkuudella.Kolme valmista ohjelmaa, käsisensorit kahvoissa.Mitat taitettuna 100 x 78 x 133 cmMitat käyttöasennossa 154 x 78 x 125 cmTakuu 24 kk',\n",
       "  {'entities': [(357, 359, 'SIZE'),\n",
       "    (170, 182, 'SIZE'),\n",
       "    (295, 309, 'SIZE'),\n",
       "    (334, 348, 'SIZE'),\n",
       "    (0, 7, 'BRAND'),\n",
       "    (130, 135, 'WEIGHT')]}),\n",
       " ('Invisibobble Invisibobble Original Pretzel Brown',\n",
       "  {'entities': [(43, 48, 'COLOR')]}),\n",
       " ('Felgenband 16 Zoll 23 mm ( -16 )',\n",
       "  {'entities': [(19, 24, 'SIZE'), (11, 13, 'SIZE'), (0, 10, 'BRAND')]}),\n",
       " ('Satisfyer - Women Wand White',\n",
       "  {'entities': [(23, 28, 'COLOR'), (0, 9, 'BRAND'), (12, 17, 'GENDER')]}),\n",
       " ('Longchamp Aurinkolasit LO625S 001', {'entities': [(0, 9, 'BRAND')]}),\n",
       " ('Hcw Monogram Tshirt, Polvipituinen Mekko Sininen Hilfiger Collection',\n",
       "  {'entities': [(41, 48, 'COLOR'), (49, 68, 'BRAND')]}),\n",
       " ('Colmar. Sisävuori: 100% nailonia. Kokovetoketju. Ei-irrotettava huppu. Untuvaeriste. Täysvuorattu.',\n",
       "  {'entities': [(24, 33, 'MATERIAL')]}),\n",
       " ('L-Argiplex Total Man 90 tablettia',\n",
       "  {'entities': [(21, 23, 'SIZE'), (0, 10, 'BRAND'), (17, 20, 'GENDER')]}),\n",
       " ('Tri-Ace Snow White 2 ( 235/40 R18 95V XL, nastarengas  )',\n",
       "  {'entities': [(8, 18, 'COLOR'), (0, 7, 'BRAND'), (38, 41, 'SIZE')]}),\n",
       " ('Puuvillaiset housut oikeilla paloilla ja hyvällä istuvuudella.Kauniit yksityiskohdat. 80% puuvillaa, 20% polyesteriä.',\n",
       "  {'entities': [(90, 100, 'MATERIAL'), (105, 117, 'MATERIAL')]}),\n",
       " ('Kengät stonefly madame 2 black saatavana naisten kokoja 36,37,40',\n",
       "  {'entities': [(41, 48, 'GENDER'), (25, 30, 'COLOR'), (56, 64, 'SIZE')]}),\n",
       " ('Armor-X X-Mount X24K K-tyypin Alumiini tankokiinnike',\n",
       "  {'entities': [(0, 7, 'BRAND')]}),\n",
       " ('Kuvailu Topshop -mekko Suora ja väljä malli. Leveät olkaimet napeilla jotka risteävät selkäpuolella Koristeröyhelöitä alaosassa Kiinnitys vetoketjulla Materiaali ja hoito Materiaali 43% Viskoosia 57% Pellavaa Hellävarainen pesu 40 asteessa Ei valkaisua Ei rumpukuivausta Kemiallinen pesu liuottimella, mutta ei trikloorietyleenillä Silitä alhaisella lämmöllä Yksityiskohtia Merkki: Topshop Väri: Beige Tuotenro: 355314-0012 Vaatteet / Mekot / Väljät mekot Malli on 175 cm pitkä ja käyttää kokoa EU 36. Lataa lehdistökuva',\n",
       "  {'entities': [(228, 230, 'SIZE'),\n",
       "    (396, 401, 'COLOR'),\n",
       "    (465, 471, 'SIZE'),\n",
       "    (8, 15, 'BRAND'),\n",
       "    (186, 195, 'MATERIAL'),\n",
       "    (495, 501, 'SIZE'),\n",
       "    (200, 208, 'MATERIAL')]}),\n",
       " ('Eivy Icecold Pants', {'entities': [(0, 4, 'BRAND')]}),\n",
       " ('Chewsy purukumi piparminttu sokeriton 15g',\n",
       "  {'entities': [(38, 41, 'WEIGHT')]}),\n",
       " ('Kengät blackstone cw96 black saatavana naisten kokoja 36,37,38,39,40,41',\n",
       "  {'entities': [(39, 46, 'GENDER'), (54, 71, 'SIZE')]}),\n",
       " ('Turtle Wax lukkosula - pakkauskoko 40 ml - sisältää PTFE:tä - sulattaa ja voitelee lukot tehokkaasti',\n",
       "  {'entities': [(35, 40, 'SIZE'), (0, 10, 'BRAND')]}),\n",
       " ('Radital Liniment', {'entities': [(0, 7, 'BRAND')]}),\n",
       " ('Saappaat French Sole  PATCH', {'entities': [(9, 20, 'BRAND')]}),\n",
       " ('Kuka ei tulisi hyvälle tuulelle tämän palapelin kanssa? Palapeli 1000 Palaa - Funny dogs on laadukas Trefl-palapeli. Ehdoton kaikille koirafaneille!',\n",
       "  {'entities': [(65, 69, 'SIZE')]}),\n",
       " ('Oliiviöljy \"Di Oliva\" 250ml - 20% alennus',\n",
       "  {'entities': [(22, 27, 'SIZE')]}),\n",
       " ('Moheda Molly', {'entities': [(0, 6, 'BRAND')]}),\n",
       " ('CHIARA FORTHI naisellinen hame, jossa on kaunis kuvio. Takaa pitempi hame, jonka etuosassa on kietaisuleikkaus. - Joustamatonta materiaalia - Vuori joustavaa materiaalia - Vyötäröllä kullanvärinen Chiara-logo - Sivussa piilovetoketju Vaatteen kokonaispituus takaa koossa 36: 77 cm',\n",
       "  {'entities': [(275, 280, 'SIZE'), (183, 196, 'COLOR')]}),\n",
       " ('Oakley by Samuel Ross - Pant - Vihreä - XL',\n",
       "  {'entities': [(40, 42, 'SIZE'), (31, 37, 'COLOR'), (0, 21, 'BRAND')]}),\n",
       " ('F-Machine Double Trouble Lisäosa', {'entities': [(0, 9, 'BRAND')]}),\n",
       " ('Milk Shake Silver Shine Conditioning Whipped Cream 200 ml',\n",
       "  {'entities': [(11, 17, 'COLOR'), (0, 10, 'BRAND'), (51, 57, 'SIZE')]}),\n",
       " ('2000 W:n kuumailmapuhaltimessa on harjaton moottori, 3-vaiheinen ilmavirtaus maksimipainetta varten sekä sisäänrakennettu anturi tarkkaa lämpötilansäätöä varten. Antaa 100-600 °C:n lämpötilan. Lisäksi työkalussa on automaattinen jäähdytys, selkeä LED-näyttö ja vaihdettava ilmansuodatin. Pistooliosassa on moderni, kevyt ja ergonominen muotoilu.',\n",
       "  {'entities': [(0, 4, 'SIZE')]}),\n",
       " ('Smart Supps Koffein är ett prisvärt koffeintillskott av hög kvalitet. 200 mg koffein/tablett, 200 tabletter/förpackning.',\n",
       "  {'entities': [(70, 76, 'WEIGHT'), (0, 5, 'BRAND')]}),\n",
       " ('Vogue Eyewear VO5224 Silmälasit. Collection:Women. Kehyksen Väri: Red. Kehysmateriaali: Plastic. Koko: 51.',\n",
       "  {'entities': [(0, 13, 'BRAND'),\n",
       "    (88, 96, 'MATERIAL'),\n",
       "    (103, 106, 'SIZE'),\n",
       "    (66, 70, 'COLOR')]}),\n",
       " ('Vipp526 Riippuvalaisin Musta - Vipp', {'entities': [(23, 28, 'COLOR')]}),\n",
       " ('Grey Velvet – Korseletti', {'entities': [(0, 11, 'BRAND')]}),\n",
       " ('SLT - Easy Grip Masturbator XL, anal',\n",
       "  {'entities': [(0, 3, 'BRAND'), (28, 31, 'SIZE')]}),\n",
       " ('CliC Silmälasit VUNETIC TENORE Red',\n",
       "  {'entities': [(31, 34, 'COLOR'), (0, 4, 'BRAND')]}),\n",
       " ('Ukko Schnapps Koivu Ukko 2', {'entities': [(0, 13, 'BRAND')]}),\n",
       " ('RASPBERRY PI and Pi PoE HAT Case, black',\n",
       "  {'entities': [(34, 39, 'COLOR')]}),\n",
       " ('Veitsisetti By Bercato', {'entities': [(15, 22, 'BRAND')]}),\n",
       " ('Sonicwall Tz350', {'entities': [(0, 9, 'BRAND')]}),\n",
       " ('Hasbro - Pie Face Chain Reaction (E2762)', {'entities': [(0, 6, 'BRAND')]}),\n",
       " ('Tredelad värmekudde från Nyttadesign som gör gott för både människa och miljö! Kudden är fylld med fruktkärnor från körsbär eller druvor, en restprodukt från Europas vingårdar och fruktindustrier.',\n",
       "  {'entities': [(25, 36, 'BRAND')]}),\n",
       " ('Pusakka american college oregon w violet saatavana naisten kokoja xs',\n",
       "  {'entities': [(51, 58, 'GENDER'), (66, 68, 'SIZE')]}),\n",
       " ('Dirty Dog Aurinkolasit Boofer Polarized 53180',\n",
       "  {'entities': [(0, 9, 'BRAND')]}),\n",
       " ('Crock-Pot Express Multicooker 5.7 litraa Ruostumaton',\n",
       "  {'entities': [(0, 9, 'BRAND'), (30, 40, 'SIZE')]}),\n",
       " ('Belladot - Ebba, Large Vibrating Dildo',\n",
       "  {'entities': [(0, 8, 'BRAND'), (17, 22, 'SIZE')]}),\n",
       " ('Vapor X5 Next Gen - Muscletechin PWO, joka antaa erittäin voimakkaan energialatauksen ja intensiivisen lihaspumpin!',\n",
       "  {'entities': [(0, 5, 'COLOR')]}),\n",
       " ('Model 1 Lattiavalaisin Valkoinen - Grupa Products',\n",
       "  {'entities': [(23, 32, 'COLOR'), (35, 49, 'BRAND')]}),\n",
       " ('Apple Macbook Pro 13 MB990 A1322 Unibody 2009-2012 akku 5200 mAh musta\"',\n",
       "  {'entities': [(18, 20, 'SIZE'), (0, 5, 'BRAND'), (65, 71, 'COLOR')]}),\n",
       " ('The Book Club Silmälasit TBC1724403 03', {'entities': [(0, 13, 'BRAND')]}),\n",
       " ('Average Joe – The Nerd Sheldon Tekopenis',\n",
       "  {'entities': [(0, 11, 'BRAND')]}),\n",
       " ('T-Shirt Olaf T-shirts Long-sleeved T-shirts Harmaa Disney By Wheat',\n",
       "  {'entities': [(44, 50, 'COLOR'), (51, 57, 'BRAND')]}),\n",
       " ('Toalettilaukku / Meikkipussi Texier  THAIS',\n",
       "  {'entities': [(29, 35, 'BRAND')]}),\n",
       " ('Bronze kasviväri Sante', {'entities': [(17, 22, 'BRAND')]}),\n",
       " ('Formula ON-OFF STEER ( 315/80 R22.5 156/150K )',\n",
       "  {'entities': [(0, 7, 'BRAND')]}),\n",
       " ('Pusakka Element  DULCEY EXPLORER', {'entities': [(8, 15, 'BRAND')]}),\n",
       " ('Pure Effect All Clean Starter Kit',\n",
       "  {'entities': [(16, 21, 'BRAND'), (0, 11, 'BRAND'), (22, 29, 'BRAND')]}),\n",
       " ('Amaya Latex Trousers Leather Leggings/Housut Musta Ahlvar Gallery',\n",
       "  {'entities': [(45, 50, 'COLOR'),\n",
       "    (51, 65, 'BRAND'),\n",
       "    (6, 11, 'BRAND'),\n",
       "    (21, 28, 'MATERIAL')]}),\n",
       " ('Loft neliskulmainen kulho 15 cm', {'entities': [(26, 31, 'SIZE')]}),\n",
       " ('FAYT Porter Blazer - Purple',\n",
       "  {'entities': [(0, 4, 'BRAND'), (21, 27, 'COLOR')]}),\n",
       " (\"Chef's Knife from Per Morberg made in Japan of stainless steel and handle of oak.\",\n",
       "  {'entities': [(18, 29, 'BRAND'), (0, 6, 'BRAND')]}),\n",
       " ('Kengät dkode sarina black saatavana naisten kokoja 36',\n",
       "  {'entities': [(51, 53, 'SIZE'), (36, 43, 'GENDER'), (20, 25, 'COLOR')]}),\n",
       " ('Chino-housut / porkkanahousut selected shh three paris kaki saatavana miesten kokoja us 38 / 32,us 33 / 34',\n",
       "  {'entities': [(85, 106, 'SIZE'), (70, 77, 'GENDER')]}),\n",
       " ('Reflect Wind Jacket Outerwear Sport Jackets Musta Mizuno',\n",
       "  {'entities': [(44, 49, 'COLOR'), (50, 56, 'BRAND')]}),\n",
       " ('Paksu takki Suncoo  ELOI', {'entities': [(12, 18, 'BRAND')]}),\n",
       " ('Roselli Puukon Lahjalaatikko Iso', {'entities': [(0, 7, 'BRAND')]}),\n",
       " ('Kengät Bikkembergs  TRACK-ER 966 LEATHER',\n",
       "  {'entities': [(7, 18, 'BRAND')]}),\n",
       " ('Sixten 25 Snakeshead, Bordeaux',\n",
       "  {'entities': [(22, 30, 'COLOR'), (7, 9, 'SIZE')]}),\n",
       " ('Power Massage Penispumppu Musta', {'entities': [(26, 31, 'COLOR')]}),\n",
       " ('Strength Cure Best Blonde Shampoo 250ml',\n",
       "  {'entities': [(19, 25, 'COLOR'), (34, 39, 'SIZE')]}),\n",
       " ('Shirataki Mini Pearls, 200 grammaa', {'entities': [(23, 34, 'WEIGHT')]}),\n",
       " ('Team Sportia juomapullo 0,75L',\n",
       "  {'entities': [(0, 12, 'BRAND'), (24, 29, 'SIZE')]}),\n",
       " ('Panasonic Eneloop AAA-koko 750mAh 4kpl',\n",
       "  {'entities': [(0, 9, 'BRAND'), (10, 17, 'BRAND')]}),\n",
       " ('Hunaja lämmittämätön 450g Ohlsson', {'entities': [(21, 25, 'WEIGHT')]}),\n",
       " ('Igloo Termo lämpösaapas on äärettömän lämmin ja kevyt jalkine pilkille, metsälle, talviretkelle tai vaikka lumihommiin. Kenkä on valmistettu kevyestä EVA-materiaalista, jonka ominaisuuksia ovat erittäin hyvä lämmön eristys, se ei jäykisty tai ala pykimään pakkasessa ja se ei sisällä muovia tai kumia, joten käyttöikä sillä on pitempi kuin kumikengällä. Sisävuori on irrotettava ja helppo kuivata ja pitää puhtaana.',\n",
       "  {'entities': [(0, 5, 'BRAND')]}),\n",
       " ('Takit / Fleecet / Liivit Lähettäjä Parajumpers till Tytöt i Vihreä - L',\n",
       "  {'entities': [(60, 66, 'COLOR'), (35, 46, 'BRAND')]}),\n",
       " ('Hygge 3012 MSP3012BC-GR Musta/Nahka Ø39 mm',\n",
       "  {'entities': [(0, 5, 'BRAND'), (24, 35, 'COLOR'), (36, 42, 'SIZE')]}),\n",
       " ('Pomellato Aurinkolasit PM0056S 002', {'entities': [(0, 9, 'BRAND')]}),\n",
       " (\"Justin Bieber Collector's Edition, EdP 100ml\",\n",
       "  {'entities': [(0, 13, 'BRAND'), (39, 44, 'SIZE')]}),\n",
       " ('Denim Hunter. Etupituus: 46 cm. Takapituus: 48 cm.',\n",
       "  {'entities': [(44, 50, 'SIZE'), (25, 31, 'SIZE')]}),\n",
       " ('Maple - Cowboy Hat - Vihreä - ONE SIZE',\n",
       "  {'entities': [(30, 38, 'SIZE'), (21, 27, 'COLOR')]}),\n",
       " ('Nike Sportswear M Nsw Ce Pant Cf Wvn Trk Camo Housut Green',\n",
       "  {'entities': [(41, 45, 'COLOR'),\n",
       "    (53, 58, 'COLOR'),\n",
       "    (16, 17, 'COLOR'),\n",
       "    (0, 15, 'BRAND')]}),\n",
       " ('15 x Goodlife Low Sugar, 50 g, Salted Caramel, kort datum',\n",
       "  {'entities': [(25, 30, 'WEIGHT'), (0, 2, 'SIZE'), (5, 13, 'BRAND')]}),\n",
       " ('Natura Siberica Oblepikha Mask for Dry and Normal hair 300 ml',\n",
       "  {'entities': [(55, 61, 'SIZE'), (0, 15, 'BRAND')]}),\n",
       " ('Vitatabs E-vitamiini 50 mg', {'entities': [(21, 26, 'WEIGHT')]}),\n",
       " ('Spanx. 54% nailonia, 46% spandex, elastaani. Joustava tuki. Joustava vyötärönauha.',\n",
       "  {'entities': [(34, 44, 'MATERIAL'), (11, 20, 'MATERIAL')]}),\n",
       " ('Color Gloss 110ml', {'entities': [(12, 17, 'SIZE')]}),\n",
       " ('Pink Clay Mask 1 PCS', {'entities': [(0, 9, 'COLOR')]}),\n",
       " ('Lion Suklaapatukka - 25% alennus', {'entities': [(0, 4, 'BRAND')]}),\n",
       " ('Skyn - Elite Kondomi, 10 kpl', {'entities': [(7, 12, 'BRAND')]}),\n",
       " ('Red Ape Arengasokeri 250g',\n",
       "  {'entities': [(0, 3, 'COLOR'), (21, 25, 'WEIGHT')]}),\n",
       " ('TrueNorth Fleece Jacka', {'entities': [(0, 9, 'BRAND')]}),\n",
       " ('Apple Stem Celluar Energy - Anti-Aging Youth Boosting Soluti Seerumi Kasvot Ihonhoito Nude LING New York',\n",
       "  {'entities': [(91, 104, 'BRAND'), (0, 5, 'BRAND')]}),\n",
       " ('Donna EdT - 50 ml', {'entities': [(12, 17, 'SIZE')]}),\n",
       " ('Fabulous Feel Brazilian Alushousut Brief Tangat Musta WONDERBRA',\n",
       "  {'entities': [(48, 53, 'COLOR')]}),\n",
       " ('Pinnacle Soft 15-Pack', {'entities': [(0, 8, 'BRAND')]}),\n",
       " ('Toe Guard Rush Turvakenkä 45',\n",
       "  {'entities': [(26, 28, 'SIZE'), (0, 9, 'BRAND')]}),\n",
       " ('The Cropped Sweater by Zorannah for NA-KD features a ribbed neck and cuffs, a raw hem at waist, a cropped cut, and a stitched statement at back.',\n",
       "  {'entities': [(23, 41, 'BRAND')]}),\n",
       " ('Egtved, No Elastic, Rib, Wool, Underwear Socks Regular Socks Musta Egtved',\n",
       "  {'entities': [(61, 66, 'COLOR'),\n",
       "    (8, 19, 'MATERIAL'),\n",
       "    (25, 30, 'MATERIAL')]}),\n",
       " ('Lyhyt mekko Lili Gaufrette  FENDEN', {'entities': [(12, 26, 'BRAND')]}),\n",
       " ('EasyToys – Kaulapanta ja Käsikahleet ET278',\n",
       "  {'entities': [(0, 8, 'BRAND')]}),\n",
       " ('Kiss InstaWave Automatic Curler', {'entities': [(0, 4, 'BRAND')]}),\n",
       " (\"Paris Icone u'Select Salt Mill 18 cm, Black Lacquer\",\n",
       "  {'entities': [(38, 43, 'COLOR'), (31, 37, 'SIZE')]}),\n",
       " ('OmniDepå 180 tablettia', {'entities': [(9, 12, 'SIZE')]}),\n",
       " ('FDB Møbler D102 Søs sohvapöytä, iso', {'entities': [(0, 10, 'BRAND')]}),\n",
       " ('TRX Mini Bands', {'entities': [(0, 3, 'BRAND')]}),\n",
       " ('Procclusion 2. 0 - Okkluusiotreeniin perustuva, lihaskasvua tehostava varuste jaloille. 2-pack!',\n",
       "  {'entities': [(0, 11, 'BRAND')]}),\n",
       " ('Élémentaire Matte Pöytäveitsi, Ruostumaton Teräs från Christofle .',\n",
       "  {'entities': [(54, 64, 'BRAND'), (31, 48, 'MATERIAL')]}),\n",
       " ('Tom Ford Georgia FT0498 69T', {'entities': [(0, 8, 'BRAND')]}),\n",
       " ('Geomag opettaa leikin kautta kaikenikäisiä. Magneettien kanssa rakentelu stimuloi luovuutta ja sorminäppäryyttä. Sillä on myös stressiä lievittävä vaikutus. Tämä setti sisältää 32 eri osaa, koostuen pitkistä erivärisistä magneeteista, magneettikuulista ja paneeleista. Vain mielikuvitus on luomisen rajana.',\n",
       "  {'entities': [(177, 179, 'SIZE'), (0, 6, 'BRAND')]}),\n",
       " ('Srixon Soft Feel', {'entities': [(0, 6, 'BRAND')]}),\n",
       " ('Eberlestock X1 Euro II', {'entities': [(0, 11, 'BRAND')]}),\n",
       " ('Puukengät Le comptoir scandinave  EKRALO',\n",
       "  {'entities': [(10, 32, 'BRAND')]}),\n",
       " ('Next Tread Next Tread MST ( 385/65 R22.5 160J, pinnoitettu )',\n",
       "  {'entities': [(0, 10, 'BRAND')]}),\n",
       " ('Hals Shorts 10929 Räätälöidyt Shortsit Istuvat Shortsit Musta Samsøe Samsøe',\n",
       "  {'entities': [(56, 61, 'COLOR'), (62, 75, 'BRAND')]}),\n",
       " ('Italia Independent Aurinkolasit II 0305 149.032',\n",
       "  {'entities': [(0, 18, 'BRAND')]}),\n",
       " ('Kengät dorking brako grey saatavana naisten kokoja 38,39,41,35',\n",
       "  {'entities': [(21, 25, 'COLOR'), (36, 43, 'GENDER'), (51, 62, 'SIZE')]}),\n",
       " (\"Kengät pantofola d'oro caltaro uomo low white saatavana miesten kokoja 41,45\",\n",
       "  {'entities': [(40, 45, 'COLOR'), (56, 63, 'GENDER'), (71, 76, 'SIZE')]}),\n",
       " ('Reppu vans wm realm plus backpa bordeaux saatavana miesten kokoja yksi koko',\n",
       "  {'entities': [(51, 58, 'GENDER'), (66, 75, 'SIZE')]}),\n",
       " ('Mystim – The Opus E-Masturbator, Vagina', {'entities': [(0, 6, 'BRAND')]}),\n",
       " ('Reyn Spooner - Pacific Paradise Stripe Camp Shirt - Sininen - S',\n",
       "  {'entities': [(52, 59, 'COLOR'), (0, 12, 'BRAND')]}),\n",
       " ('Lastenkengät emu wallaby mini green saatavana tyttöjen kokoja 24,28,31,25 / 26,29 / 30',\n",
       "  {'entities': [(62, 86, 'SIZE'), (30, 35, 'COLOR')]}),\n",
       " ('Tumma Suklaa Salmiak Liquorice 100g - 42% alennus',\n",
       "  {'entities': [(21, 30, 'COLOR'), (31, 35, 'WEIGHT'), (0, 5, 'COLOR')]}),\n",
       " ('Bleiseri lola victoria doppio black saatavana naisten kokoja de 38,de 36',\n",
       "  {'entities': [(70, 72, 'SIZE'), (46, 53, 'GENDER'), (30, 35, 'COLOR')]}),\n",
       " ('Liukuvoide Anaaliseksiin Hot Lips 200ml',\n",
       "  {'entities': [(25, 33, 'BRAND'), (34, 39, 'SIZE')]}),\n",
       " ('essence this is me. semi shine lipstick 104',\n",
       "  {'entities': [(40, 43, 'SIZE'), (0, 7, 'BRAND')]}),\n",
       " ('Way Ink Girl, Leah College, Musta, NEULEET/NEULETAKIT till Tytöt, 134-140',\n",
       "  {'entities': [(66, 73, 'SIZE'), (0, 7, 'BRAND'), (28, 34, 'COLOR')]}),\n",
       " ('Korkokengät Minna Parikka  TBC', {'entities': [(12, 25, 'BRAND')]}),\n",
       " ('Neulepusero Armani jeans  JAUDO', {'entities': [(12, 24, 'BRAND')]}),\n",
       " ('William Strouch -kello. Ruostumatonta terästä ja verkkoranneke. Kellotaulu näyttää tunnit ja minuutit. Vesitiiviys jopa 5 ATM. Japanilainen koneisto. Mukana nahkaranneke.  - Ruostumatonta terästä - Mukana kaksi ranneketta - Kellotaulun halkaisija: 40 mm - Vesitiiviys: 5 ATM - Säädettävä',\n",
       "  {'entities': [(248, 253, 'SIZE'), (0, 15, 'BRAND')]}),\n",
       " ('Omega De Ville Ladymatic Co-Axial 34mm Naisten kello',\n",
       "  {'entities': [(0, 5, 'BRAND'), (34, 38, 'SIZE'), (39, 46, 'GENDER')]}),\n",
       " ('Misslisibell x NA-KD Rypytetty Laukku - Beige',\n",
       "  {'entities': [(40, 45, 'COLOR'), (0, 20, 'BRAND')]}),\n",
       " ('Korkokengät Lipsy  SABRINA', {'entities': [(12, 17, 'BRAND')]}),\n",
       " ('Pulpe De Vie CHAPEAU -kosteuttava hoitoaine ja hiusnaamio',\n",
       "  {'entities': [(0, 12, 'BRAND')]}),\n",
       " ('IHEALTH Blood Pressure Monitor', {'entities': [(23, 30, 'BRAND')]}),\n",
       " ('Kengät Bullboxer  490M80302AMCOG', {'entities': [(7, 16, 'BRAND')]}),\n",
       " ('SOS Health D-vitamiinisuihke 100 µg', {'entities': [(29, 35, 'WEIGHT')]}),\n",
       " ('Tukihansikkaat Vital Comfort harmaa',\n",
       "  {'entities': [(15, 28, 'BRAND'), (29, 35, 'COLOR')]}),\n",
       " ('Kengät bkr last man black saatavana miesten kokoja 39,40',\n",
       "  {'entities': [(36, 43, 'GENDER'), (51, 56, 'SIZE'), (20, 25, 'COLOR')]}),\n",
       " ('Kengät Xti  KAVAC', {'entities': [(7, 10, 'BRAND')]}),\n",
       " ('Glamorous Long Sleeve Crossover Dress', {'entities': [(0, 9, 'BRAND')]}),\n",
       " ('Oscar II Espressokone kahviloille ja konttoreille Musta',\n",
       "  {'entities': [(50, 55, 'COLOR')]}),\n",
       " ('Zanmai Mcusta Classic Damaskus Petty 11 cm',\n",
       "  {'entities': [(37, 42, 'SIZE'), (14, 21, 'BRAND'), (0, 13, 'BRAND')]}),\n",
       " (\"Nilkkurit Marc by Marc Jacobs  CASUAL 70'S ANKLE BOOT HEEL\",\n",
       "  {'entities': [(18, 29, 'BRAND')]}),\n",
       " ('Naisten tumput lasketteluun.', {'entities': [(0, 7, 'GENDER')]}),\n",
       " ('Tanskalaisen AYTM valmistama pyöreä elegantti seinäpeili.',\n",
       "  {'entities': [(13, 17, 'BRAND')]}),\n",
       " ('SEEK Compact, USB-C for Android, compact thermal camera, black',\n",
       "  {'entities': [(57, 62, 'COLOR')]}),\n",
       " ('Korkokengät Antonio Marras  ALINA', {'entities': [(12, 26, 'BRAND')]}),\n",
       " ('Bm Arancia Di Capri Lip Balm Huulirasva Huulivoide Valkoinen Acqua Di Parma',\n",
       "  {'entities': [(51, 60, 'COLOR'),\n",
       "    (3, 10, 'COLOR'),\n",
       "    (61, 75, 'BRAND'),\n",
       "    (14, 19, 'COLOR')]}),\n",
       " ('Cobra King SZ Tour Lenght Draiveri', {'entities': [(0, 5, 'BRAND')]}),\n",
       " ('Svetari philipp plein sport round air squat grey saatavana naisten kokoja s,m,l,xl',\n",
       "  {'entities': [(44, 48, 'COLOR'), (59, 66, 'GENDER'), (74, 82, 'SIZE')]}),\n",
       " ('Erick Pitkähihainen Pusero Paita Kermanvärinen Munthe',\n",
       "  {'entities': [(47, 53, 'BRAND')]}),\n",
       " ('Nestemäinen vibraattori?! Mitä ihmettä?Uusi mullistava koostumus räjäyttää orgasmipankin!Voiko vibraattori olla nestemäinen? Kyllä voi. Lubigel on uusi todella jännittävä kiihotusgeeli, joka tuntuu \"värisevän\" aivan kuin vibraattori.Ainulaatuinen koostumus joka tuntuu värisevän Uskomattoman nautinnollinen tunne Täysin turvallinen, sisältää tarkoin valittuja luonnollisia ainesosia Vaikutusaika noin 20 minuuttia kerrallaan Herkullinen punaisten hedelmien ja marjojen makuVärinä tuntuu esimerkiksi klitoriksella taivaallisen nautinnolliselta ja uskomattoman kiihottavalta. Värinä kestää kerrallan noin 20 minuuttia. Nestemäinen vibraattori on tämän hetken eittämättä tehokkain ja nautinnollisin kiihotusgeeli naisille.Lubigelin tarkkaan mietitty koostumus tuo naiselle täysin uuden kiihottuneisuuden tunteen, josta myös mies pääsee nauttimaan, sillä lubigel toimii myös miehellä. Täydellinen yhdistelmä!Riittoisa pulloko 30ml kestää jopa 50 käyttökertaa.',\n",
       "  {'entities': [(939, 941, 'SIZE'), (401, 403, 'SIZE'), (922, 926, 'SIZE')]}),\n",
       " ('MediGoo - Klamydiatesti, 1 kpl', {'entities': [(0, 7, 'BRAND')]}),\n",
       " ('Väre Pilkki 6cm', {'entities': [(12, 15, 'SIZE')]}),\n",
       " ('Presskanna 1L Dubbelväggig Rostfritt Stål',\n",
       "  {'entities': [(11, 13, 'SIZE')]}),\n",
       " ('Pyykkipussi 65L, Musta', {'entities': [(17, 22, 'COLOR')]}),\n",
       " ('Rapala kalatakuu, Taimen Kirkas Vesi', {'entities': [(0, 6, 'BRAND')]}),\n",
       " ('Lyhyt mekko Stella Forest  STILOU', {'entities': [(12, 25, 'BRAND')]}),\n",
       " ('Liivi K & N Schurwolle ruutu', {'entities': [(6, 22, 'BRAND')]}),\n",
       " ('Veka Ahven jigipäälajitelma 15kpl/pkt', {'entities': [(0, 4, 'BRAND')]}),\n",
       " ('WellPutt Putting Mat 5m', {'entities': [(21, 23, 'SIZE')]}),\n",
       " (\"Silk'n Cleansing Box - Silk'n Glide & Infinity Ihokarvanpoistolaitteen Puhdistamiseen - Hyödyllinen Lisäosa Laitteellesi - Puhdistaa 5-6 Minuutissa\",\n",
       "  {'entities': [(133, 136, 'SIZE'), (38, 46, 'BRAND')]}),\n",
       " ('Doomoo Softy Imetystyyny', {'entities': [(0, 6, 'BRAND')]}),\n",
       " (\"Let's Bands - Power Set Tube\", {'entities': [(0, 11, 'BRAND')]}),\n",
       " ('Kuivalihakundi Jerkku Naga kuivaliha', {'entities': [(0, 14, 'BRAND')]}),\n",
       " ('Makia Corner', {'entities': [(0, 5, 'BRAND')]}),\n",
       " ('Britt Sisseck Kune Pants', {'entities': [(0, 13, 'BRAND')]}),\n",
       " ('Lompakot hexagona - black saatavana naisten kokoja yksi koko',\n",
       "  {'entities': [(36, 43, 'GENDER'), (51, 60, 'SIZE'), (20, 25, 'COLOR')]}),\n",
       " ('Chloé B x NA-KD PU Belt Bag - Purple',\n",
       "  {'entities': [(0, 15, 'BRAND'), (30, 36, 'COLOR')]}),\n",
       " ('Joha Body Short Sleeves Ull/Silke', {'entities': [(0, 4, 'BRAND')]}),\n",
       " ('Pusakka bench alcantara biker jkt grey saatavana naisten kokoja m',\n",
       "  {'entities': [(34, 38, 'COLOR'), (49, 56, 'GENDER'), (64, 65, 'SIZE')]}),\n",
       " ('Biovegan suklaakastike', {'entities': [(0, 8, 'BRAND')]}),\n",
       " ('Kengät Be Only  CAVALIERE REPTILIUM', {'entities': [(7, 14, 'BRAND')]}),\n",
       " ('Master Fitness gummiklädda viktskivor som matchar skivstänger om 50 mm. Finns i flera olika vikter!',\n",
       "  {'entities': [(65, 71, 'SIZE'), (0, 14, 'BRAND')]}),\n",
       " ('Cozy by Dozy Cozy By Dozy Bath Robe', {'entities': [(0, 12, 'BRAND')]}),\n",
       " ('Anipuro Soft Croutons Pure Beef 50g kissan makupala',\n",
       "  {'entities': [(0, 7, 'BRAND'), (32, 35, 'WEIGHT')]}),\n",
       " ('Meopta Meopro Optika6 5-30x56 RD FFP',\n",
       "  {'entities': [(0, 6, 'BRAND'), (22, 29, 'SIZE')]}),\n",
       " ('Swiss Navy Water Based Lube 118ml',\n",
       "  {'entities': [(0, 10, 'BRAND'), (28, 33, 'SIZE')]}),\n",
       " ('Howlin by Morrison - Twisted Nerve Sweater - Punainen - M',\n",
       "  {'entities': [(0, 18, 'BRAND'), (45, 53, 'COLOR')]}),\n",
       " ('Canton Plus Mx.3', {'entities': [(0, 6, 'BRAND')]}),\n",
       " ('Shunga - Naughty Geisha Kit', {'entities': [(0, 6, 'BRAND')]}),\n",
       " ('Noa Noa Miniature. Nepparikiinnitys pääntiessä. Valmistettu  Portugali.',\n",
       "  {'entities': [(0, 7, 'BRAND')]}),\n",
       " ('Luxo L-1 pöytävalaisin, alumiininharmaa', {'entities': [(0, 4, 'BRAND')]}),\n",
       " ('Disney Princess - Shimmer - Snow White (E4161ES2)',\n",
       "  {'entities': [(28, 38, 'COLOR'), (0, 15, 'BRAND')]}),\n",
       " ('Braun & Wettberg kolmirivi harja', {'entities': [(0, 16, 'BRAND')]}),\n",
       " ('Henry Kole Evie Snake Brown',\n",
       "  {'entities': [(22, 27, 'COLOR'), (0, 10, 'BRAND')]}),\n",
       " ('Cooler Master CM HYPER 212 EVO LGA2011 / 1155 / AM3 / 3+',\n",
       "  {'entities': [(23, 26, 'SIZE'), (0, 13, 'BRAND')]}),\n",
       " ('CK Silmälasit 5862 748', {'entities': [(0, 2, 'BRAND')]}),\n",
       " ('Q10 120 mg 60 kapselia', {'entities': [(11, 13, 'SIZE'), (4, 7, 'SIZE')]}),\n",
       " ('adidas Originals by Alexander Wang - Bball Soccer - Musta - US 4,5',\n",
       "  {'entities': [(52, 57, 'COLOR'), (60, 66, 'SIZE'), (0, 34, 'BRAND')]}),\n",
       " ('Atelier Cologne Collection Clean Musks Bois Blonds Perfume 30 Ml',\n",
       "  {'entities': [(59, 64, 'SIZE'), (27, 32, 'BRAND'), (0, 15, 'BRAND')]}),\n",
       " ('Licabella Yksisarvinen äänellä 22cm', {'entities': [(31, 35, 'SIZE')]}),\n",
       " ('Achieve Hat-Wool Blend Accessories Headwear Beanies Sininen J. Lindeberg Ski',\n",
       "  {'entities': [(52, 59, 'COLOR'), (17, 22, 'BRAND'), (60, 76, 'BRAND')]}),\n",
       " ('Sandaalit Vialis  SELINE', {'entities': [(10, 16, 'BRAND')]}),\n",
       " ('Kengät dockers by gerli guinoude beige saatavana miesten kokoja 37 varsi nupukkia',\n",
       "  {'entities': [(64, 66, 'SIZE'), (49, 56, 'GENDER'), (33, 38, 'COLOR')]}),\n",
       " ('Skip Hop Pillipullo', {'entities': [(0, 8, 'BRAND')]}),\n",
       " ('Sparkz Silvia Blazer - Pink',\n",
       "  {'entities': [(0, 6, 'BRAND'), (23, 27, 'COLOR')]}),\n",
       " ('Patyka Double Action Smoothing Scrub', {'entities': [(0, 6, 'BRAND')]}),\n",
       " ('Arppe Cuna Nido on muhkea ja pehmeä pesämäinen peti kissalle tai pienelle koiralle. Koko 50 x 30 cm. Konepesu enintään 30 ° C.',\n",
       "  {'entities': [(89, 100, 'SIZE'), (0, 5, 'BRAND')]}),\n",
       " ('Parila 78 cm Täydellinen setti', {'entities': [(7, 12, 'SIZE')]}),\n",
       " ('Belcando Junior GF Poultry', {'entities': [(0, 8, 'BRAND')]}),\n",
       " ('Swiss Military Dress Naisten kello 06-7161.2.12.001',\n",
       "  {'entities': [(0, 14, 'BRAND'), (21, 28, 'GENDER')]}),\n",
       " ('Atelier Swarovski SK0163-P Aurinkolasit. Collection:Women. Kehyksen Väri: Gold.  Linssin Väri: . Kehysmateriaali: Metal. Koko: 54.',\n",
       "  {'entities': [(0, 17, 'BRAND'),\n",
       "    (114, 120, 'MATERIAL'),\n",
       "    (127, 130, 'SIZE'),\n",
       "    (74, 79, 'COLOR')]}),\n",
       " ('Fiksuja maissin pidikkeitä Zylissiltä neljänä eri värinä. Pakkaus sisältää 4 paria pidikkeitä.',\n",
       "  {'entities': [(75, 76, 'SIZE')]}),\n",
       " ('Eco Masters jaderolleri & gua sha-kasvohieroja + seerumi - 1x jaderolleri + 1x gua sha-kasvohieroja + 30ml glyseriiniä sisältävä C-vitamiiniseerumi',\n",
       "  {'entities': [(4, 11, 'BRAND'), (102, 106, 'SIZE')]}),\n",
       " ('Bornaghi Steel Magnum HV 12/76 35g Haulikon teräspatruuna 25kpl',\n",
       "  {'entities': [(0, 8, 'BRAND'), (9, 14, 'BRAND'), (31, 34, 'SIZE')]}),\n",
       " ('Naked Addiction – Pyörivä & Värisevä Tekopenis',\n",
       "  {'entities': [(0, 15, 'BRAND')]}),\n",
       " ('Dexal Juomavyön varapullo', {'entities': [(0, 5, 'BRAND')]}),\n",
       " ('Playboy Footwear Portland', {'entities': [(0, 16, 'BRAND')]}),\n",
       " ('Sock - Rib - All S Sukat Musta Melton',\n",
       "  {'entities': [(25, 30, 'COLOR'), (31, 37, 'BRAND')]}),\n",
       " ('Kangassandaalit 1789 Cala  RIVA HERITAGE',\n",
       "  {'entities': [(16, 25, 'BRAND')]}),\n",
       " ('Nahkatakki Chevignon  B-KING', {'entities': [(11, 20, 'BRAND')]}),\n",
       " ('Cool Silver Shampoo 250 Ml Shampoo Nude Björn Axén',\n",
       "  {'entities': [(5, 11, 'COLOR'), (20, 26, 'SIZE'), (40, 50, 'BRAND')]}),\n",
       " ('Magni - Doll Pram, Green',\n",
       "  {'entities': [(19, 24, 'COLOR'), (0, 5, 'BRAND')]}),\n",
       " ('Sievert DW3000 Kuumailmapuhallin', {'entities': [(0, 7, 'BRAND')]}),\n",
       " ('Kengät felmini naha black saatavana naisten kokoja 37,38,40,41',\n",
       "  {'entities': [(36, 43, 'GENDER'), (20, 25, 'COLOR'), (51, 62, 'SIZE')]}),\n",
       " ('Jacqueline de Yong jdyDodo S/L Top -toppi trikoota. Virkattu kirjailu edessä ja aukko selässä.',\n",
       "  {'entities': [(27, 30, 'SIZE'), (0, 18, 'BRAND')]}),\n",
       " ('Breguet Classique Miesten kello 5717BR-EU-9ZU Hopea/Nahka Ø44 mm',\n",
       "  {'entities': [(0, 7, 'BRAND'),\n",
       "    (18, 25, 'GENDER'),\n",
       "    (46, 57, 'COLOR'),\n",
       "    (58, 64, 'SIZE')]}),\n",
       " ('Seafolly Ruched Side Retro',\n",
       "  {'entities': [(0, 8, 'BRAND'), (21, 26, 'BRAND')]}),\n",
       " ('Valere Knit Jacket Neuletakki Sininen Morris Lady',\n",
       "  {'entities': [(30, 37, 'COLOR'), (38, 49, 'BRAND')]}),\n",
       " ('Kengät Salomon  TRAILSTER W', {'entities': [(7, 14, 'BRAND')]}),\n",
       " ('Shortsit &amp; Bermuda-shortsit Only   Sons  ONSPLY',\n",
       "  {'entities': [(32, 43, 'BRAND')]}),\n",
       " ('LARS WALLIN ihana silkkihuivi. Kauniisti kuvioitua huivia voi pitää monella tavalla - trendikkäästi hiuksissa, kaulassa tai laukussa. Pituus 52 cm, leveys 50 cm. Vain käsinpesu.',\n",
       "  {'entities': [(155, 161, 'SIZE'), (141, 147, 'SIZE')]}),\n",
       " ('Kung Markatta Ingefärsshot Eko 250 ml',\n",
       "  {'entities': [(31, 37, 'SIZE'), (0, 13, 'BRAND')]}),\n",
       " ('DSQUARED2 Sunglasses Dsquared Victor', {'entities': [(0, 20, 'BRAND')]}),\n",
       " ('SCARLETT Standard kettle White',\n",
       "  {'entities': [(25, 30, 'COLOR'), (9, 17, 'SIZE')]}),\n",
       " ('Nikko stirling Gold Crown 4-12x42 Airking valaistu',\n",
       "  {'entities': [(15, 19, 'COLOR')]}),\n",
       " ('Kassi joogamatolle Yogistar', {'entities': [(19, 27, 'BRAND')]}),\n",
       " ('N°1, EdP 30ml', {'entities': [(9, 13, 'SIZE')]}),\n",
       " ('Kengät salomon trailster w violet saatavana naisten kokoja 36,38,36 2/3,37 1/3,38 2/3,39 1/3',\n",
       "  {'entities': [(44, 51, 'GENDER'), (59, 92, 'SIZE')]}),\n",
       " ('Jäätelö \"Creamy Strawberry\" 8 x 65g - 33% alennus',\n",
       "  {'entities': [(28, 29, 'SIZE'), (32, 35, 'WEIGHT')]}),\n",
       " ('Kengät Faguo  HOSTA', {'entities': [(7, 12, 'BRAND')]}),\n",
       " ('ESI Aloe Fresh Whitening Hammastahna', {'entities': [(4, 8, 'COLOR')]}),\n",
       " ('Sophie Conran, Gratiinivuoka 360 mm x 280 mm',\n",
       "  {'entities': [(29, 44, 'SIZE')]}),\n",
       " ('Collistar Milano Collection Unico Lipstick 2 Chiffon Lipstick Cr2an',\n",
       "  {'entities': [(0, 9, 'BRAND'), (45, 52, 'MATERIAL')]}),\n",
       " ('M Missoni. Sisävuori: 100% polyesteri. Ulkomateriaali: 41% puuvillaa, 32% raion, 14% metalli, 13% polyamidi. Väljä lahje.',\n",
       "  {'entities': [(0, 1, 'COLOR'),\n",
       "    (27, 38, 'MATERIAL'),\n",
       "    (59, 69, 'MATERIAL'),\n",
       "    (74, 80, 'MATERIAL'),\n",
       "    (85, 93, 'MATERIAL'),\n",
       "    (98, 108, 'MATERIAL')]}),\n",
       " ('Chlorella 200mg 500 tablettia',\n",
       "  {'entities': [(16, 19, 'SIZE'), (10, 15, 'WEIGHT')]}),\n",
       " ('Kengät Philippe Morvan  DISCO', {'entities': [(7, 22, 'BRAND')]}),\n",
       " ('Vice Special Effects Huulikiilto Meikki Oranssi Urban Decay',\n",
       "  {'entities': [(40, 47, 'COLOR'), (48, 59, 'BRAND')]}),\n",
       " ...]"
      ]
     },
     "execution_count": 19,
     "metadata": {},
     "output_type": "execute_result"
    }
   ],
   "source": [
    "TRAIN_DATA_0"
   ]
  },
  {
   "cell_type": "code",
   "execution_count": 20,
   "metadata": {},
   "outputs": [],
   "source": [
    "# Obtain a portion of the training data. For the final step, choose all the data.\n",
    "TRAIN_DATA=TRAIN_DATA_0[0:round(1*len(TRAIN_DATA_0))]"
   ]
  },
  {
   "cell_type": "code",
   "execution_count": 21,
   "metadata": {},
   "outputs": [],
   "source": [
    "with open(\"TRAIN_DATA.txt\", \"wb\") as fp:   #Pickling\n",
    "    pickle.dump(TRAIN_DATA, fp)"
   ]
  },
  {
   "cell_type": "markdown",
   "metadata": {},
   "source": [
    "## 4. Model"
   ]
  },
  {
   "cell_type": "code",
   "execution_count": 22,
   "metadata": {},
   "outputs": [],
   "source": [
    "def my_model(train_type, language, batch_type, n_iter, TRAIN_DATA):\n",
    "    if train_type == 'Transfer':\n",
    "        if language == 'English':\n",
    "            \n",
    "            nlp=spacy.load(\"en_core_web_sm\")   \n",
    "            ner=nlp.get_pipe('ner')\n",
    "            ner.add_label('COLOR')\n",
    "            ner.add_label('SIZE')\n",
    "            ner.add_label('BRAND')\n",
    "            optimizer = nlp.resume_training()\n",
    "        \n",
    "        elif language == 'Multi':\n",
    "            nlp=spacy.load(\"xx_ent_wiki_sm\") \n",
    "            ner=nlp.get_pipe('ner')\n",
    "            \n",
    "            ner.add_label('COLOR')\n",
    "            ner.add_label('SIZE')\n",
    "            ner.add_label('BRAND')\n",
    "            optimizer = nlp.resume_training()\n",
    "        \n",
    "        \n",
    "    elif train_type == 'Scratch':\n",
    "        model = None\n",
    "        if model is not None:\n",
    "            nlp = spacy.load(model)  \n",
    "            print(\"Loaded model '%s'\" % model)\n",
    "        else:\n",
    "            nlp = spacy.blank('en', entity = False)  \n",
    "            print(\"Created blank 'en' model\")\n",
    "            \n",
    "        if 'ner' not in nlp.pipe_names:\n",
    "            ner = nlp.create_pipe('ner')\n",
    "            nlp.add_pipe(ner, last=True)\n",
    "        else:\n",
    "            ner = nlp.get_pipe('ner')\n",
    "            \n",
    "        # Add labels\n",
    "        for _, annotations in TRAIN_DATA:\n",
    "            for ent in annotations.get('entities'):\n",
    "                ner.add_label(ent[2])\n",
    "\n",
    "        if model is None:\n",
    "            optimizer = nlp.begin_training()\n",
    "        else:\n",
    "            optimizer = nlp.entity.create_optimizer()\n",
    "     \n",
    "    if batch_type == 'Full':\n",
    "        other_pipes = [pipe for pipe in nlp.pipe_names if pipe != 'ner']\n",
    "        with nlp.disable_pipes(*other_pipes):  # only train NER\n",
    "            for itn in range(n_iter):\n",
    "                random.shuffle(TRAIN_DATA)\n",
    "                losses = {}\n",
    "                for text, annotations in tqdm(TRAIN_DATA):\n",
    "                    nlp.update([text], [annotations], drop=0.5, sgd=optimizer, losses=losses)\n",
    "                print(itn, losses)\n",
    "    elif batch_type == 'mini':\n",
    "        pipe_exceptions = [\"ner\", \"trf_wordpiecer\", \"trf_tok2vec\"]\n",
    "        other_pipes = [pipe for pipe in nlp.pipe_names if pipe not in pipe_exceptions]\n",
    "        with nlp.disable_pipes(*other_pipes) :\n",
    "            sizes = compounding(1.0, 4.0, 1.001)  \n",
    "            for itn in range(n_iter):\n",
    "                random.shuffle(TRAIN_DATA)\n",
    "                batches = minibatch(TRAIN_DATA, size=sizes)\n",
    "                losses = {}\n",
    "                for batch in batches:\n",
    "                    texts, annotations = zip(*batch)\n",
    "                    nlp.update(texts, annotations, sgd=optimizer, drop=0.2, losses=losses)\n",
    "                print(\"Losses\", itn, losses)\n",
    "    \n",
    "    return nlp"
   ]
  },
  {
   "cell_type": "code",
   "execution_count": 23,
   "metadata": {},
   "outputs": [
    {
     "name": "stdout",
     "output_type": "stream",
     "text": [
      "Created blank 'en' model\n"
     ]
    },
    {
     "name": "stderr",
     "output_type": "stream",
     "text": [
      "/Applications/anaconda2/envs/Python3/lib/python3.8/site-packages/spacy/language.py:635: UserWarning: [W033] Training a new parser or NER using a model with no lexeme normalization table. This may degrade the performance of the model to some degree. If this is intentional or the language you're using doesn't have a normalization table, please ignore this warning. If this is surprising, make sure you have the spacy-lookups-data package installed. The languages with lexeme normalization tables are currently: da, de, el, en, id, lb, pt, ru, sr, ta, th.\n",
      "  proc.begin_training(\n"
     ]
    },
    {
     "name": "stdout",
     "output_type": "stream",
     "text": [
      "Losses 0 {'ner': 19603.20577068669}\n",
      "Losses 1 {'ner': 13476.789771551663}\n",
      "Losses 2 {'ner': 11090.805669303958}\n",
      "Losses 3 {'ner': 9296.441611140901}\n",
      "Losses 4 {'ner': 8445.407262759047}\n",
      "Losses 5 {'ner': 7104.24755145282}\n",
      "Losses 6 {'ner': 6575.282462913811}\n",
      "Losses 7 {'ner': 5941.1363253172385}\n",
      "Losses 8 {'ner': 5313.663078078232}\n",
      "Losses 9 {'ner': 4876.025601795339}\n",
      "Losses 10 {'ner': 4649.4553058353795}\n",
      "Losses 11 {'ner': 4324.211646437527}\n",
      "Losses 12 {'ner': 4178.352005783742}\n",
      "Losses 13 {'ner': 3775.991009813532}\n",
      "Losses 14 {'ner': 3550.252218586583}\n",
      "Losses 15 {'ner': 3338.420442875787}\n",
      "Losses 16 {'ner': 3379.0345872572725}\n",
      "Losses 17 {'ner': 3147.79211412398}\n",
      "Losses 18 {'ner': 2921.818469437187}\n",
      "Losses 19 {'ner': 2817.7246927846004}\n",
      "Losses 20 {'ner': 2683.8385067304225}\n",
      "Losses 21 {'ner': 2818.5590340898307}\n",
      "Losses 22 {'ner': 2503.2864729255853}\n",
      "Losses 23 {'ner': 2601.3181012731666}\n",
      "Losses 24 {'ner': 2370.4462314349357}\n",
      "Losses 25 {'ner': 2362.678856575299}\n",
      "Losses 26 {'ner': 2249.445992913976}\n",
      "Losses 27 {'ner': 2149.2155922318425}\n",
      "Losses 28 {'ner': 2107.9682249999687}\n",
      "Losses 29 {'ner': 1991.9905621368423}\n",
      "Losses 30 {'ner': 1925.5159166289332}\n",
      "Losses 31 {'ner': 1906.8019670879683}\n",
      "Losses 32 {'ner': 1783.3356862772544}\n",
      "Losses 33 {'ner': 1837.0713713462708}\n",
      "Losses 34 {'ner': 1832.3234168862166}\n",
      "Losses 35 {'ner': 1589.5988093082663}\n",
      "Losses 36 {'ner': 1745.881446715631}\n",
      "Losses 37 {'ner': 1501.2931281018518}\n",
      "Losses 38 {'ner': 1565.6740111227816}\n",
      "Losses 39 {'ner': 1733.7143167924917}\n",
      "Losses 40 {'ner': 1549.475552023238}\n",
      "Losses 41 {'ner': 1597.9285266425086}\n",
      "Losses 42 {'ner': 1450.7487246415517}\n",
      "Losses 43 {'ner': 1551.618422677216}\n",
      "Losses 44 {'ner': 1470.3549466178724}\n",
      "Losses 45 {'ner': 1464.607431950069}\n",
      "Losses 46 {'ner': 1425.369542924937}\n",
      "Losses 47 {'ner': 1423.3697401573315}\n",
      "Losses 48 {'ner': 1346.915167813998}\n",
      "Losses 49 {'ner': 1280.6920541036463}\n",
      "Losses 50 {'ner': 1335.2187066171782}\n",
      "Losses 51 {'ner': 1286.941037429178}\n",
      "Losses 52 {'ner': 1264.189926671658}\n",
      "Losses 53 {'ner': 1368.3956840195476}\n",
      "Losses 54 {'ner': 1254.7115450587246}\n",
      "Losses 55 {'ner': 1185.4242145713956}\n",
      "Losses 56 {'ner': 1159.572848062954}\n",
      "Losses 57 {'ner': 1174.643755751943}\n",
      "Losses 58 {'ner': 1377.885847173559}\n",
      "Losses 59 {'ner': 1181.0693404337555}\n",
      "Losses 60 {'ner': 1121.2761044360004}\n",
      "Losses 61 {'ner': 1136.2894186667952}\n",
      "Losses 62 {'ner': 1033.460086761487}\n",
      "Losses 63 {'ner': 1073.773456383157}\n",
      "Losses 64 {'ner': 1159.8795472585389}\n",
      "Losses 65 {'ner': 1091.5873218189238}\n",
      "Losses 66 {'ner': 995.2043965830333}\n",
      "Losses 67 {'ner': 1166.5040944216319}\n",
      "Losses 68 {'ner': 1061.8431215030903}\n",
      "Losses 69 {'ner': 1060.065093248339}\n",
      "Losses 70 {'ner': 989.9543255287685}\n",
      "Losses 71 {'ner': 1063.9326734858178}\n",
      "Losses 72 {'ner': 1115.9475430040554}\n",
      "Losses 73 {'ner': 943.8539572593297}\n",
      "Losses 74 {'ner': 992.0122605402823}\n",
      "Losses 75 {'ner': 1052.9791662943962}\n",
      "Losses 76 {'ner': 989.8400547970757}\n",
      "Losses 77 {'ner': 1005.6720157701131}\n",
      "Losses 78 {'ner': 1048.9950798958007}\n",
      "Losses 79 {'ner': 1045.6859159127089}\n",
      "Losses 80 {'ner': 1018.5740185481487}\n",
      "Losses 81 {'ner': 972.8852270705686}\n",
      "Losses 82 {'ner': 989.6073925111749}\n",
      "Losses 83 {'ner': 954.5346319832022}\n",
      "Losses 84 {'ner': 981.9247785375212}\n",
      "Losses 85 {'ner': 969.4667851226626}\n",
      "Losses 86 {'ner': 828.7019778833916}\n",
      "Losses 87 {'ner': 910.9860400659256}\n",
      "Losses 88 {'ner': 906.0835515083704}\n",
      "Losses 89 {'ner': 937.1734572141027}\n",
      "Losses 90 {'ner': 853.48263578762}\n",
      "Losses 91 {'ner': 866.3258140583276}\n",
      "Losses 92 {'ner': 888.9057261892708}\n",
      "Losses 93 {'ner': 889.5927024252885}\n",
      "Losses 94 {'ner': 850.7872144167349}\n",
      "Losses 95 {'ner': 853.233927820091}\n",
      "Losses 96 {'ner': 894.8168602615319}\n",
      "Losses 97 {'ner': 918.0944973837373}\n",
      "Losses 98 {'ner': 797.4993921220448}\n",
      "Losses 99 {'ner': 785.6772878481352}\n",
      "Losses 100 {'ner': 938.106746841698}\n",
      "Losses 101 {'ner': 879.4221677975888}\n",
      "Losses 102 {'ner': 828.9666535345033}\n",
      "Losses 103 {'ner': 778.0694632750688}\n",
      "Losses 104 {'ner': 788.0100242004382}\n",
      "Losses 105 {'ner': 742.1665947934248}\n",
      "Losses 106 {'ner': 773.1535478731023}\n",
      "Losses 107 {'ner': 781.825394883577}\n",
      "Losses 108 {'ner': 756.5179512861084}\n",
      "Losses 109 {'ner': 878.5034080481934}\n",
      "Losses 110 {'ner': 781.4891298802497}\n",
      "Losses 111 {'ner': 760.9231838001434}\n",
      "Losses 112 {'ner': 809.0037675897383}\n",
      "Losses 113 {'ner': 832.2280460617735}\n",
      "Losses 114 {'ner': 795.6982254461434}\n",
      "Losses 115 {'ner': 733.5495359867259}\n",
      "Losses 116 {'ner': 780.4394164035175}\n",
      "Losses 117 {'ner': 812.0719955367}\n",
      "Losses 118 {'ner': 811.514701469245}\n",
      "Losses 119 {'ner': 733.8317330573672}\n",
      "Losses 120 {'ner': 768.892669624247}\n",
      "Losses 121 {'ner': 780.9658669556281}\n",
      "Losses 122 {'ner': 774.9369201687889}\n",
      "Losses 123 {'ner': 791.6226878751734}\n",
      "Losses 124 {'ner': 734.8495458380502}\n",
      "Losses 125 {'ner': 686.2868113250142}\n",
      "Losses 126 {'ner': 713.0705345298372}\n",
      "Losses 127 {'ner': 780.2035781464795}\n",
      "Losses 128 {'ner': 740.5684398702944}\n",
      "Losses 129 {'ner': 740.7248297822468}\n",
      "Losses 130 {'ner': 729.0025045533661}\n",
      "Losses 131 {'ner': 776.0226958819809}\n",
      "Losses 132 {'ner': 809.4425256145025}\n",
      "Losses 133 {'ner': 681.4018816243407}\n",
      "Losses 134 {'ner': 761.7103674843328}\n",
      "Losses 135 {'ner': 672.3838449389186}\n",
      "Losses 136 {'ner': 634.3844830228996}\n",
      "Losses 137 {'ner': 659.7969205807442}\n",
      "Losses 138 {'ner': 715.5467509546894}\n",
      "Losses 139 {'ner': 756.3512570173681}\n",
      "Losses 140 {'ner': 776.4287292835477}\n",
      "Losses 141 {'ner': 715.0489693533337}\n",
      "Losses 142 {'ner': 666.8325939640604}\n",
      "Losses 143 {'ner': 654.6148752092463}\n",
      "Losses 144 {'ner': 724.1049565685227}\n",
      "Losses 145 {'ner': 710.3660438696286}\n",
      "Losses 146 {'ner': 643.5249205242695}\n",
      "Losses 147 {'ner': 630.8513111207069}\n",
      "Losses 148 {'ner': 710.6727351367855}\n",
      "Losses 149 {'ner': 626.864063594298}\n",
      "Losses 150 {'ner': 720.1900591080672}\n",
      "Losses 151 {'ner': 689.3888118477397}\n",
      "Losses 152 {'ner': 727.5684480258568}\n",
      "Losses 153 {'ner': 616.4238500578492}\n",
      "Losses 154 {'ner': 591.8507216520708}\n",
      "Losses 155 {'ner': 747.8398236300054}\n",
      "Losses 156 {'ner': 592.237643264117}\n",
      "Losses 157 {'ner': 640.9266952759167}\n",
      "Losses 158 {'ner': 709.0877758113425}\n",
      "Losses 159 {'ner': 721.5341248269275}\n",
      "Losses 160 {'ner': 674.2723394093441}\n",
      "Losses 161 {'ner': 671.4342104770819}\n",
      "Losses 162 {'ner': 760.5087586698538}\n",
      "Losses 163 {'ner': 690.8108372046436}\n",
      "Losses 164 {'ner': 677.0147212156841}\n",
      "Losses 165 {'ner': 711.8610343656918}\n",
      "Losses 166 {'ner': 633.5795040355074}\n",
      "Losses 167 {'ner': 668.6063391134519}\n",
      "Losses 168 {'ner': 637.1554768108208}\n",
      "Losses 169 {'ner': 628.4146690833016}\n",
      "Losses 170 {'ner': 597.1033931892214}\n",
      "Losses 171 {'ner': 592.5214794789734}\n",
      "Losses 172 {'ner': 646.0477129869722}\n",
      "Losses 173 {'ner': 651.1725009490864}\n",
      "Losses 174 {'ner': 651.9592551691259}\n",
      "Losses 175 {'ner': 636.1498332657477}\n",
      "Losses 176 {'ner': 646.2468409117614}\n",
      "Losses 177 {'ner': 703.3471109573304}\n",
      "Losses 178 {'ner': 677.8374778211837}\n",
      "Losses 179 {'ner': 631.6240173779298}\n",
      "Losses 180 {'ner': 644.5143644773185}\n",
      "Losses 181 {'ner': 654.3837496571726}\n",
      "Losses 182 {'ner': 632.8534318289871}\n",
      "Losses 183 {'ner': 598.5511790875643}\n",
      "Losses 184 {'ner': 726.0229887308388}\n",
      "Losses 185 {'ner': 669.8401945149363}\n",
      "Losses 186 {'ner': 518.365927357238}\n",
      "Losses 187 {'ner': 610.7578997115185}\n",
      "Losses 188 {'ner': 586.702400392169}\n",
      "Losses 189 {'ner': 611.5792946160483}\n",
      "Losses 190 {'ner': 590.9224635637167}\n",
      "Losses 191 {'ner': 621.9729438790544}\n",
      "Losses 192 {'ner': 600.5859736405429}\n",
      "Losses 193 {'ner': 620.6644372878897}\n",
      "Losses 194 {'ner': 606.819617598379}\n",
      "Losses 195 {'ner': 515.5799204552447}\n",
      "Losses 196 {'ner': 557.293659544298}\n",
      "Losses 197 {'ner': 627.6264531106975}\n",
      "Losses 198 {'ner': 695.1472473541334}\n",
      "Losses 199 {'ner': 699.8906208260457}\n",
      "CPU times: user 14h 43min 8s, sys: 16min 2s, total: 14h 59min 10s\n",
      "Wall time: 3h 51min\n"
     ]
    }
   ],
   "source": [
    "%%time\n",
    "# Train type = 'Scratch' (learn from scratch), 'Transform' (transform learning)\n",
    "# Langauge = 'English', 'Multi' (Only matters if train_type is 'Transform')\n",
    "# batch_type = 'Full' (slower), 'mini' (faster)\n",
    "# n_iter = number of iteration\n",
    "# TRAIN_DATA = The training data\n",
    "nlp=my_model('Scratch', 'English', 'mini', 200, TRAIN_DATA)"
   ]
  },
  {
   "cell_type": "markdown",
   "metadata": {},
   "source": [
    "## 5. Saving The Model"
   ]
  },
  {
   "cell_type": "code",
   "execution_count": 24,
   "metadata": {},
   "outputs": [
    {
     "name": "stdout",
     "output_type": "stream",
     "text": [
      "Saved model to /Users/farukakbar/Desktop/ner_products/model\n"
     ]
    }
   ],
   "source": [
    "# save model to output directory\n",
    "output_dir=Path(\"/Users/farukakbar/Desktop/ner_products/model\")\n",
    "if output_dir is not None:\n",
    "    output_dir = Path(output_dir)\n",
    "    if not output_dir.exists():\n",
    "        output_dir.mkdir()\n",
    "    nlp.to_disk(output_dir)\n",
    "    print(\"Saved model to\", output_dir)\n",
    "\n",
    "    # test the saved model\n",
    "    #print(\"Loading from\", output_dir)\n",
    "    #nlp2 = spacy.load(output_dir)\n",
    "    #for text, _ in TRAIN_DATA:\n",
    "    #    doc = nlp2(text)\n",
    "    #    print(\"Entities\", [(ent.text, ent.label_) for ent in doc.ents])\n",
    "    #    #print(\"Tokens\", [(t.text, t.ent_type_, t.ent_iob) for t in doc])"
   ]
  },
  {
   "cell_type": "markdown",
   "metadata": {},
   "source": [
    "## 6. Results"
   ]
  },
  {
   "cell_type": "markdown",
   "metadata": {},
   "source": [
    "### 1) Results on the trained data"
   ]
  },
  {
   "cell_type": "code",
   "execution_count": 25,
   "metadata": {},
   "outputs": [
    {
     "data": {
      "text/html": [
       "<span class=\"tex2jax_ignore\"><div class=\"entities\" style=\"line-height: 2.5; direction: ltr\">\n",
       "<mark class=\"entity\" style=\"background: #ddd; padding: 0.45em 0.6em; margin: 0 0.25em; line-height: 1; border-radius: 0.35em;\">\n",
       "    Battatura\n",
       "    <span style=\"font-size: 0.8em; font-weight: bold; line-height: 1; border-radius: 0.35em; text-transform: uppercase; vertical-align: middle; margin-left: 0.5rem\">BRAND</span>\n",
       "</mark>\n",
       " Silmälasit Raphael B168</div></span>"
      ],
      "text/plain": [
       "<IPython.core.display.HTML object>"
      ]
     },
     "metadata": {},
     "output_type": "display_data"
    },
    {
     "data": {
      "text/html": [
       "<span class=\"tex2jax_ignore\"><div class=\"entities\" style=\"line-height: 2.5; direction: ltr\">\n",
       "<mark class=\"entity\" style=\"background: #ddd; padding: 0.45em 0.6em; margin: 0 0.25em; line-height: 1; border-radius: 0.35em;\">\n",
       "    Mockberg\n",
       "    <span style=\"font-size: 0.8em; font-weight: bold; line-height: 1; border-radius: 0.35em; text-transform: uppercase; vertical-align: middle; margin-left: 0.5rem\">BRAND</span>\n",
       "</mark>\n",
       " Elise \n",
       "<mark class=\"entity\" style=\"background: #ddd; padding: 0.45em 0.6em; margin: 0 0.25em; line-height: 1; border-radius: 0.35em;\">\n",
       "    Naisten\n",
       "    <span style=\"font-size: 0.8em; font-weight: bold; line-height: 1; border-radius: 0.35em; text-transform: uppercase; vertical-align: middle; margin-left: 0.5rem\">GENDER</span>\n",
       "</mark>\n",
       " kello MO1602 \n",
       "<mark class=\"entity\" style=\"background: #ddd; padding: 0.45em 0.6em; margin: 0 0.25em; line-height: 1; border-radius: 0.35em;\">\n",
       "    Valkoinen/Teräs\n",
       "    <span style=\"font-size: 0.8em; font-weight: bold; line-height: 1; border-radius: 0.35em; text-transform: uppercase; vertical-align: middle; margin-left: 0.5rem\">COLOR</span>\n",
       "</mark>\n",
       " \n",
       "<mark class=\"entity\" style=\"background: #ddd; padding: 0.45em 0.6em; margin: 0 0.25em; line-height: 1; border-radius: 0.35em;\">\n",
       "    Ø34 mm\n",
       "    <span style=\"font-size: 0.8em; font-weight: bold; line-height: 1; border-radius: 0.35em; text-transform: uppercase; vertical-align: middle; margin-left: 0.5rem\">SIZE</span>\n",
       "</mark>\n",
       "</div></span>"
      ],
      "text/plain": [
       "<IPython.core.display.HTML object>"
      ]
     },
     "metadata": {},
     "output_type": "display_data"
    },
    {
     "data": {
      "text/html": [
       "<span class=\"tex2jax_ignore\"><div class=\"entities\" style=\"line-height: 2.5; direction: ltr\">Korkokengät \n",
       "<mark class=\"entity\" style=\"background: #ddd; padding: 0.45em 0.6em; margin: 0 0.25em; line-height: 1; border-radius: 0.35em;\">\n",
       "    Rupert Sanderson\n",
       "    <span style=\"font-size: 0.8em; font-weight: bold; line-height: 1; border-radius: 0.35em; text-transform: uppercase; vertical-align: middle; margin-left: 0.5rem\">BRAND</span>\n",
       "</mark>\n",
       "  CLIPPER</div></span>"
      ],
      "text/plain": [
       "<IPython.core.display.HTML object>"
      ]
     },
     "metadata": {},
     "output_type": "display_data"
    },
    {
     "data": {
      "text/html": [
       "<span class=\"tex2jax_ignore\"><div class=\"entities\" style=\"line-height: 2.5; direction: ltr\">\n",
       "<mark class=\"entity\" style=\"background: #ddd; padding: 0.45em 0.6em; margin: 0 0.25em; line-height: 1; border-radius: 0.35em;\">\n",
       "    Daiichi\n",
       "    <span style=\"font-size: 0.8em; font-weight: bold; line-height: 1; border-radius: 0.35em; text-transform: uppercase; vertical-align: middle; margin-left: 0.5rem\">BRAND</span>\n",
       "</mark>\n",
       " 2110 Van Klinken Bomber</div></span>"
      ],
      "text/plain": [
       "<IPython.core.display.HTML object>"
      ]
     },
     "metadata": {},
     "output_type": "display_data"
    },
    {
     "data": {
      "text/html": [
       "<span class=\"tex2jax_ignore\"><div class=\"entities\" style=\"line-height: 2.5; direction: ltr\">DesignIngo Maurer for Ingo Maurer\r",
       "</br>Konsepti\r",
       "</br>Ringelpiez Table -Lattiavalaisin yhdistyvät nykyaika ja vuosisadan puolivälin modernismi. Se on hauska ja selkeä valaisin joka ilahduttaa varmasti näkijäänsä. Varjostimen, jota saa valkoisena ja vihreänä, kulma on säädettävissä. Valaisimen korkeus on \n",
       "<mark class=\"entity\" style=\"background: #ddd; padding: 0.45em 0.6em; margin: 0 0.25em; line-height: 1; border-radius: 0.35em;\">\n",
       "    92 cm,\n",
       "    <span style=\"font-size: 0.8em; font-weight: bold; line-height: 1; border-radius: 0.35em; text-transform: uppercase; vertical-align: middle; margin-left: 0.5rem\">SIZE</span>\n",
       "</mark>\n",
       " se ei ole säädettävissä. Valaisin on himmennettävä. Sisäänrakennetut Ledit.\r\n",
       "Valaisinta valmistetaan tilaustyönä rajoitetuissa erissä joten sinun tulee varautua normaalia pidempään (3-5 viikkoa) toimitusaikaan mikäli tuotetta ei ole varastossamme.</div></span>"
      ],
      "text/plain": [
       "<IPython.core.display.HTML object>"
      ]
     },
     "metadata": {},
     "output_type": "display_data"
    },
    {
     "data": {
      "text/html": [
       "<span class=\"tex2jax_ignore\"><div class=\"entities\" style=\"line-height: 2.5; direction: ltr\">\n",
       "<mark class=\"entity\" style=\"background: #ddd; padding: 0.45em 0.6em; margin: 0 0.25em; line-height: 1; border-radius: 0.35em;\">\n",
       "    Arne Jacobsen\n",
       "    <span style=\"font-size: 0.8em; font-weight: bold; line-height: 1; border-radius: 0.35em; text-transform: uppercase; vertical-align: middle; margin-left: 0.5rem\">BRAND</span>\n",
       "</mark>\n",
       " Bankers seinäkello \n",
       "<mark class=\"entity\" style=\"background: #ddd; padding: 0.45em 0.6em; margin: 0 0.25em; line-height: 1; border-radius: 0.35em;\">\n",
       "    21 cm,\n",
       "    <span style=\"font-size: 0.8em; font-weight: bold; line-height: 1; border-radius: 0.35em; text-transform: uppercase; vertical-align: middle; margin-left: 0.5rem\">SIZE</span>\n",
       "</mark>\n",
       " \n",
       "<mark class=\"entity\" style=\"background: #ddd; padding: 0.45em 0.6em; margin: 0 0.25em; line-height: 1; border-radius: 0.35em;\">\n",
       "    valkoinen\n",
       "    <span style=\"font-size: 0.8em; font-weight: bold; line-height: 1; border-radius: 0.35em; text-transform: uppercase; vertical-align: middle; margin-left: 0.5rem\">COLOR</span>\n",
       "</mark>\n",
       "</div></span>"
      ],
      "text/plain": [
       "<IPython.core.display.HTML object>"
      ]
     },
     "metadata": {},
     "output_type": "display_data"
    },
    {
     "data": {
      "text/html": [
       "<span class=\"tex2jax_ignore\"><div class=\"entities\" style=\"line-height: 2.5; direction: ltr\">\n",
       "<mark class=\"entity\" style=\"background: #ddd; padding: 0.45em 0.6em; margin: 0 0.25em; line-height: 1; border-radius: 0.35em;\">\n",
       "    Mater\n",
       "    <span style=\"font-size: 0.8em; font-weight: bold; line-height: 1; border-radius: 0.35em; text-transform: uppercase; vertical-align: middle; margin-left: 0.5rem\">BRAND</span>\n",
       "</mark>\n",
       " Terho riippuvalaisin, iso, \n",
       "<mark class=\"entity\" style=\"background: #ddd; padding: 0.45em 0.6em; margin: 0 0.25em; line-height: 1; border-radius: 0.35em;\">\n",
       "    musta\n",
       "    <span style=\"font-size: 0.8em; font-weight: bold; line-height: 1; border-radius: 0.35em; text-transform: uppercase; vertical-align: middle; margin-left: 0.5rem\">COLOR</span>\n",
       "</mark>\n",
       "</div></span>"
      ],
      "text/plain": [
       "<IPython.core.display.HTML object>"
      ]
     },
     "metadata": {},
     "output_type": "display_data"
    },
    {
     "data": {
      "text/html": [
       "<span class=\"tex2jax_ignore\"><div class=\"entities\" style=\"line-height: 2.5; direction: ltr\">\n",
       "<mark class=\"entity\" style=\"background: #ddd; padding: 0.45em 0.6em; margin: 0 0.25em; line-height: 1; border-radius: 0.35em;\">\n",
       "    NGS\n",
       "    <span style=\"font-size: 0.8em; font-weight: bold; line-height: 1; border-radius: 0.35em; text-transform: uppercase; vertical-align: middle; margin-left: 0.5rem\">BRAND</span>\n",
       "</mark>\n",
       " Wireless charging + proximity sensor</div></span>"
      ],
      "text/plain": [
       "<IPython.core.display.HTML object>"
      ]
     },
     "metadata": {},
     "output_type": "display_data"
    },
    {
     "data": {
      "text/html": [
       "<span class=\"tex2jax_ignore\"><div class=\"entities\" style=\"line-height: 2.5; direction: ltr\">H123D X4 \n",
       "<mark class=\"entity\" style=\"background: #ddd; padding: 0.45em 0.6em; margin: 0 0.25em; line-height: 1; border-radius: 0.35em;\">\n",
       "    Jet\n",
       "    <span style=\"font-size: 0.8em; font-weight: bold; line-height: 1; border-radius: 0.35em; text-transform: uppercase; vertical-align: middle; margin-left: 0.5rem\">COLOR</span>\n",
       "</mark>\n",
       " RTF Brushless Race Drone</div></span>"
      ],
      "text/plain": [
       "<IPython.core.display.HTML object>"
      ]
     },
     "metadata": {},
     "output_type": "display_data"
    },
    {
     "data": {
      "text/html": [
       "<span class=\"tex2jax_ignore\"><div class=\"entities\" style=\"line-height: 2.5; direction: ltr\">\n",
       "<mark class=\"entity\" style=\"background: #ddd; padding: 0.45em 0.6em; margin: 0 0.25em; line-height: 1; border-radius: 0.35em;\">\n",
       "    Alte\n",
       "    <span style=\"font-size: 0.8em; font-weight: bold; line-height: 1; border-radius: 0.35em; text-transform: uppercase; vertical-align: middle; margin-left: 0.5rem\">BRAND</span>\n",
       "</mark>\n",
       " AE5615 Silmälasit. Collection:Men. Kehyksen Väri: \n",
       "<mark class=\"entity\" style=\"background: #ddd; padding: 0.45em 0.6em; margin: 0 0.25em; line-height: 1; border-radius: 0.35em;\">\n",
       "    Red.\n",
       "    <span style=\"font-size: 0.8em; font-weight: bold; line-height: 1; border-radius: 0.35em; text-transform: uppercase; vertical-align: middle; margin-left: 0.5rem\">COLOR</span>\n",
       "</mark>\n",
       " Kehysmateriaali: \n",
       "<mark class=\"entity\" style=\"background: #ddd; padding: 0.45em 0.6em; margin: 0 0.25em; line-height: 1; border-radius: 0.35em;\">\n",
       "    Metal.\n",
       "    <span style=\"font-size: 0.8em; font-weight: bold; line-height: 1; border-radius: 0.35em; text-transform: uppercase; vertical-align: middle; margin-left: 0.5rem\">MATERIAL</span>\n",
       "</mark>\n",
       " Koko: \n",
       "<mark class=\"entity\" style=\"background: #ddd; padding: 0.45em 0.6em; margin: 0 0.25em; line-height: 1; border-radius: 0.35em;\">\n",
       "    Standard.\n",
       "    <span style=\"font-size: 0.8em; font-weight: bold; line-height: 1; border-radius: 0.35em; text-transform: uppercase; vertical-align: middle; margin-left: 0.5rem\">SIZE</span>\n",
       "</mark>\n",
       "</div></span>"
      ],
      "text/plain": [
       "<IPython.core.display.HTML object>"
      ]
     },
     "metadata": {},
     "output_type": "display_data"
    },
    {
     "data": {
      "text/html": [
       "<span class=\"tex2jax_ignore\"><div class=\"entities\" style=\"line-height: 2.5; direction: ltr\">\n",
       "<mark class=\"entity\" style=\"background: #ddd; padding: 0.45em 0.6em; margin: 0 0.25em; line-height: 1; border-radius: 0.35em;\">\n",
       "    Weleda\n",
       "    <span style=\"font-size: 0.8em; font-weight: bold; line-height: 1; border-radius: 0.35em; text-transform: uppercase; vertical-align: middle; margin-left: 0.5rem\">BRAND</span>\n",
       "</mark>\n",
       " Salt Toothpaste</div></span>"
      ],
      "text/plain": [
       "<IPython.core.display.HTML object>"
      ]
     },
     "metadata": {},
     "output_type": "display_data"
    },
    {
     "data": {
      "text/html": [
       "<span class=\"tex2jax_ignore\"><div class=\"entities\" style=\"line-height: 2.5; direction: ltr\">Laatikollinen Yllätysmunia &quot;Sweets &amp; Surprises&quot; \n",
       "<mark class=\"entity\" style=\"background: #ddd; padding: 0.45em 0.6em; margin: 0 0.25em; line-height: 1; border-radius: 0.35em;\">\n",
       "    18\n",
       "    <span style=\"font-size: 0.8em; font-weight: bold; line-height: 1; border-radius: 0.35em; text-transform: uppercase; vertical-align: middle; margin-left: 0.5rem\">SIZE</span>\n",
       "</mark>\n",
       " x \n",
       "<mark class=\"entity\" style=\"background: #ddd; padding: 0.45em 0.6em; margin: 0 0.25em; line-height: 1; border-radius: 0.35em;\">\n",
       "    10g\n",
       "    <span style=\"font-size: 0.8em; font-weight: bold; line-height: 1; border-radius: 0.35em; text-transform: uppercase; vertical-align: middle; margin-left: 0.5rem\">WEIGHT</span>\n",
       "</mark>\n",
       " - 60% alennus</div></span>"
      ],
      "text/plain": [
       "<IPython.core.display.HTML object>"
      ]
     },
     "metadata": {},
     "output_type": "display_data"
    },
    {
     "data": {
      "text/html": [
       "<span class=\"tex2jax_ignore\"><div class=\"entities\" style=\"line-height: 2.5; direction: ltr\">Farkut Lähettäjä \n",
       "<mark class=\"entity\" style=\"background: #ddd; padding: 0.45em 0.6em; margin: 0 0.25em; line-height: 1; border-radius: 0.35em;\">\n",
       "    US Polo\n",
       "    <span style=\"font-size: 0.8em; font-weight: bold; line-height: 1; border-radius: 0.35em; text-transform: uppercase; vertical-align: middle; margin-left: 0.5rem\">BRAND</span>\n",
       "</mark>\n",
       " till Pojat i \n",
       "<mark class=\"entity\" style=\"background: #ddd; padding: 0.45em 0.6em; margin: 0 0.25em; line-height: 1; border-radius: 0.35em;\">\n",
       "    Sininen\n",
       "    <span style=\"font-size: 0.8em; font-weight: bold; line-height: 1; border-radius: 0.35em; text-transform: uppercase; vertical-align: middle; margin-left: 0.5rem\">COLOR</span>\n",
       "</mark>\n",
       " - \n",
       "<mark class=\"entity\" style=\"background: #ddd; padding: 0.45em 0.6em; margin: 0 0.25em; line-height: 1; border-radius: 0.35em;\">\n",
       "    15-16\n",
       "    <span style=\"font-size: 0.8em; font-weight: bold; line-height: 1; border-radius: 0.35em; text-transform: uppercase; vertical-align: middle; margin-left: 0.5rem\">SIZE</span>\n",
       "</mark>\n",
       " vuotta</div></span>"
      ],
      "text/plain": [
       "<IPython.core.display.HTML object>"
      ]
     },
     "metadata": {},
     "output_type": "display_data"
    },
    {
     "data": {
      "text/html": [
       "<span class=\"tex2jax_ignore\"><div class=\"entities\" style=\"line-height: 2.5; direction: ltr\">\n",
       "<mark class=\"entity\" style=\"background: #ddd; padding: 0.45em 0.6em; margin: 0 0.25em; line-height: 1; border-radius: 0.35em;\">\n",
       "    Atelier Swarovski\n",
       "    <span style=\"font-size: 0.8em; font-weight: bold; line-height: 1; border-radius: 0.35em; text-transform: uppercase; vertical-align: middle; margin-left: 0.5rem\">BRAND</span>\n",
       "</mark>\n",
       " SK0163-P Aurinkolasit. Collection:Women. Kehyksen Väri: \n",
       "<mark class=\"entity\" style=\"background: #ddd; padding: 0.45em 0.6em; margin: 0 0.25em; line-height: 1; border-radius: 0.35em;\">\n",
       "    Gold.\n",
       "    <span style=\"font-size: 0.8em; font-weight: bold; line-height: 1; border-radius: 0.35em; text-transform: uppercase; vertical-align: middle; margin-left: 0.5rem\">COLOR</span>\n",
       "</mark>\n",
       "  Linssin Väri: . Kehysmateriaali: \n",
       "<mark class=\"entity\" style=\"background: #ddd; padding: 0.45em 0.6em; margin: 0 0.25em; line-height: 1; border-radius: 0.35em;\">\n",
       "    Metal.\n",
       "    <span style=\"font-size: 0.8em; font-weight: bold; line-height: 1; border-radius: 0.35em; text-transform: uppercase; vertical-align: middle; margin-left: 0.5rem\">MATERIAL</span>\n",
       "</mark>\n",
       " Koko: \n",
       "<mark class=\"entity\" style=\"background: #ddd; padding: 0.45em 0.6em; margin: 0 0.25em; line-height: 1; border-radius: 0.35em;\">\n",
       "    54.\n",
       "    <span style=\"font-size: 0.8em; font-weight: bold; line-height: 1; border-radius: 0.35em; text-transform: uppercase; vertical-align: middle; margin-left: 0.5rem\">SIZE</span>\n",
       "</mark>\n",
       "</div></span>"
      ],
      "text/plain": [
       "<IPython.core.display.HTML object>"
      ]
     },
     "metadata": {},
     "output_type": "display_data"
    },
    {
     "data": {
      "text/html": [
       "<span class=\"tex2jax_ignore\"><div class=\"entities\" style=\"line-height: 2.5; direction: ltr\">Lastenkengät little mary optimal \n",
       "<mark class=\"entity\" style=\"background: #ddd; padding: 0.45em 0.6em; margin: 0 0.25em; line-height: 1; border-radius: 0.35em;\">\n",
       "    black\n",
       "    <span style=\"font-size: 0.8em; font-weight: bold; line-height: 1; border-radius: 0.35em; text-transform: uppercase; vertical-align: middle; margin-left: 0.5rem\">COLOR</span>\n",
       "</mark>\n",
       " saatavana \n",
       "<mark class=\"entity\" style=\"background: #ddd; padding: 0.45em 0.6em; margin: 0 0.25em; line-height: 1; border-radius: 0.35em;\">\n",
       "    poikien\n",
       "    <span style=\"font-size: 0.8em; font-weight: bold; line-height: 1; border-radius: 0.35em; text-transform: uppercase; vertical-align: middle; margin-left: 0.5rem\">GENDER</span>\n",
       "</mark>\n",
       " kokoja \n",
       "<mark class=\"entity\" style=\"background: #ddd; padding: 0.45em 0.6em; margin: 0 0.25em; line-height: 1; border-radius: 0.35em;\">\n",
       "    31\n",
       "    <span style=\"font-size: 0.8em; font-weight: bold; line-height: 1; border-radius: 0.35em; text-transform: uppercase; vertical-align: middle; margin-left: 0.5rem\">SIZE</span>\n",
       "</mark>\n",
       "</div></span>"
      ],
      "text/plain": [
       "<IPython.core.display.HTML object>"
      ]
     },
     "metadata": {},
     "output_type": "display_data"
    },
    {
     "data": {
      "text/html": [
       "<span class=\"tex2jax_ignore\"><div class=\"entities\" style=\"line-height: 2.5; direction: ltr\">\n",
       "<mark class=\"entity\" style=\"background: #ddd; padding: 0.45em 0.6em; margin: 0 0.25em; line-height: 1; border-radius: 0.35em;\">\n",
       "    Savotta\n",
       "    <span style=\"font-size: 0.8em; font-weight: bold; line-height: 1; border-radius: 0.35em; text-transform: uppercase; vertical-align: middle; margin-left: 0.5rem\">BRAND</span>\n",
       "</mark>\n",
       " Jääkäri \n",
       "<mark class=\"entity\" style=\"background: #ddd; padding: 0.45em 0.6em; margin: 0 0.25em; line-height: 1; border-radius: 0.35em;\">\n",
       "    L\n",
       "    <span style=\"font-size: 0.8em; font-weight: bold; line-height: 1; border-radius: 0.35em; text-transform: uppercase; vertical-align: middle; margin-left: 0.5rem\">SIZE</span>\n",
       "</mark>\n",
       " M05</div></span>"
      ],
      "text/plain": [
       "<IPython.core.display.HTML object>"
      ]
     },
     "metadata": {},
     "output_type": "display_data"
    },
    {
     "data": {
      "text/html": [
       "<span class=\"tex2jax_ignore\"><div class=\"entities\" style=\"line-height: 2.5; direction: ltr\">\n",
       "<mark class=\"entity\" style=\"background: #ddd; padding: 0.45em 0.6em; margin: 0 0.25em; line-height: 1; border-radius: 0.35em;\">\n",
       "    Sport Fucker\n",
       "    <span style=\"font-size: 0.8em; font-weight: bold; line-height: 1; border-radius: 0.35em; text-transform: uppercase; vertical-align: middle; margin-left: 0.5rem\">BRAND</span>\n",
       "</mark>\n",
       " – Cum Stopper 2.0, \n",
       "<mark class=\"entity\" style=\"background: #ddd; padding: 0.45em 0.6em; margin: 0 0.25em; line-height: 1; border-radius: 0.35em;\">\n",
       "    Punainen\n",
       "    <span style=\"font-size: 0.8em; font-weight: bold; line-height: 1; border-radius: 0.35em; text-transform: uppercase; vertical-align: middle; margin-left: 0.5rem\">COLOR</span>\n",
       "</mark>\n",
       "</div></span>"
      ],
      "text/plain": [
       "<IPython.core.display.HTML object>"
      ]
     },
     "metadata": {},
     "output_type": "display_data"
    },
    {
     "data": {
      "text/html": [
       "<span class=\"tex2jax_ignore\"><div class=\"entities\" style=\"line-height: 2.5; direction: ltr\">C Style \n",
       "<mark class=\"entity\" style=\"background: #ddd; padding: 0.45em 0.6em; margin: 0 0.25em; line-height: 1; border-radius: 0.35em;\">\n",
       "    Black\n",
       "    <span style=\"font-size: 0.8em; font-weight: bold; line-height: 1; border-radius: 0.35em; text-transform: uppercase; vertical-align: middle; margin-left: 0.5rem\">COLOR</span>\n",
       "</mark>\n",
       " \n",
       "<mark class=\"entity\" style=\"background: #ddd; padding: 0.45em 0.6em; margin: 0 0.25em; line-height: 1; border-radius: 0.35em;\">\n",
       "    Titanium\n",
       "    <span style=\"font-size: 0.8em; font-weight: bold; line-height: 1; border-radius: 0.35em; text-transform: uppercase; vertical-align: middle; margin-left: 0.5rem\">COLOR</span>\n",
       "</mark>\n",
       " \n",
       "<mark class=\"entity\" style=\"background: #ddd; padding: 0.45em 0.6em; margin: 0 0.25em; line-height: 1; border-radius: 0.35em;\">\n",
       "    Iron\n",
       "    <span style=\"font-size: 0.8em; font-weight: bold; line-height: 1; border-radius: 0.35em; text-transform: uppercase; vertical-align: middle; margin-left: 0.5rem\">MATERIAL</span>\n",
       "</mark>\n",
       "</div></span>"
      ],
      "text/plain": [
       "<IPython.core.display.HTML object>"
      ]
     },
     "metadata": {},
     "output_type": "display_data"
    },
    {
     "data": {
      "text/html": [
       "<span class=\"tex2jax_ignore\"><div class=\"entities\" style=\"line-height: 2.5; direction: ltr\">\n",
       "<mark class=\"entity\" style=\"background: #ddd; padding: 0.45em 0.6em; margin: 0 0.25em; line-height: 1; border-radius: 0.35em;\">\n",
       "    Roger Para\n",
       "    <span style=\"font-size: 0.8em; font-weight: bold; line-height: 1; border-radius: 0.35em; text-transform: uppercase; vertical-align: middle; margin-left: 0.5rem\">BRAND</span>\n",
       "</mark>\n",
       " antistaattinen Ovaaliharja</div></span>"
      ],
      "text/plain": [
       "<IPython.core.display.HTML object>"
      ]
     },
     "metadata": {},
     "output_type": "display_data"
    },
    {
     "data": {
      "text/html": [
       "<span class=\"tex2jax_ignore\"><div class=\"entities\" style=\"line-height: 2.5; direction: ltr\">Nora - Yöasu, \n",
       "<mark class=\"entity\" style=\"background: #ddd; padding: 0.45em 0.6em; margin: 0 0.25em; line-height: 1; border-radius: 0.35em;\">\n",
       "    musta\n",
       "    <span style=\"font-size: 0.8em; font-weight: bold; line-height: 1; border-radius: 0.35em; text-transform: uppercase; vertical-align: middle; margin-left: 0.5rem\">COLOR</span>\n",
       "</mark>\n",
       "</div></span>"
      ],
      "text/plain": [
       "<IPython.core.display.HTML object>"
      ]
     },
     "metadata": {},
     "output_type": "display_data"
    },
    {
     "data": {
      "text/html": [
       "<span class=\"tex2jax_ignore\"><div class=\"entities\" style=\"line-height: 2.5; direction: ltr\">\n",
       "<mark class=\"entity\" style=\"background: #ddd; padding: 0.45em 0.6em; margin: 0 0.25em; line-height: 1; border-radius: 0.35em;\">\n",
       "    Waymaster\n",
       "    <span style=\"font-size: 0.8em; font-weight: bold; line-height: 1; border-radius: 0.35em; text-transform: uppercase; vertical-align: middle; margin-left: 0.5rem\">BRAND</span>\n",
       "</mark>\n",
       " Waymaster ( 4.00 -15 76P kaksoistunnus  4.25-15 WW \n",
       "<mark class=\"entity\" style=\"background: #ddd; padding: 0.45em 0.6em; margin: 0 0.25em; line-height: 1; border-radius: 0.35em;\">\n",
       "    20mm\n",
       "    <span style=\"font-size: 0.8em; font-weight: bold; line-height: 1; border-radius: 0.35em; text-transform: uppercase; vertical-align: middle; margin-left: 0.5rem\">SIZE</span>\n",
       "</mark>\n",
       " )</div></span>"
      ],
      "text/plain": [
       "<IPython.core.display.HTML object>"
      ]
     },
     "metadata": {},
     "output_type": "display_data"
    },
    {
     "data": {
      "text/html": [
       "<span class=\"tex2jax_ignore\"><div class=\"entities\" style=\"line-height: 2.5; direction: ltr\">T-paita Our Jarvis \n",
       "<mark class=\"entity\" style=\"background: #ddd; padding: 0.45em 0.6em; margin: 0 0.25em; line-height: 1; border-radius: 0.35em;\">\n",
       "    Patch\n",
       "    <span style=\"font-size: 0.8em; font-weight: bold; line-height: 1; border-radius: 0.35em; text-transform: uppercase; vertical-align: middle; margin-left: 0.5rem\">BRAND</span>\n",
       "</mark>\n",
       " Tee</div></span>"
      ],
      "text/plain": [
       "<IPython.core.display.HTML object>"
      ]
     },
     "metadata": {},
     "output_type": "display_data"
    },
    {
     "data": {
      "text/html": [
       "<span class=\"tex2jax_ignore\"><div class=\"entities\" style=\"line-height: 2.5; direction: ltr\">Make-up refill-pads \n",
       "<mark class=\"entity\" style=\"background: #ddd; padding: 0.45em 0.6em; margin: 0 0.25em; line-height: 1; border-radius: 0.35em;\">\n",
       "    Cutisonic\n",
       "    <span style=\"font-size: 0.8em; font-weight: bold; line-height: 1; border-radius: 0.35em; text-transform: uppercase; vertical-align: middle; margin-left: 0.5rem\">BRAND</span>\n",
       "</mark>\n",
       "</div></span>"
      ],
      "text/plain": [
       "<IPython.core.display.HTML object>"
      ]
     },
     "metadata": {},
     "output_type": "display_data"
    },
    {
     "data": {
      "text/html": [
       "<span class=\"tex2jax_ignore\"><div class=\"entities\" style=\"line-height: 2.5; direction: ltr\">\n",
       "<mark class=\"entity\" style=\"background: #ddd; padding: 0.45em 0.6em; margin: 0 0.25em; line-height: 1; border-radius: 0.35em;\">\n",
       "    Stan Ray\n",
       "    <span style=\"font-size: 0.8em; font-weight: bold; line-height: 1; border-radius: 0.35em; text-transform: uppercase; vertical-align: middle; margin-left: 0.5rem\">BRAND</span>\n",
       "</mark>\n",
       " - Shop Jacket - \n",
       "<mark class=\"entity\" style=\"background: #ddd; padding: 0.45em 0.6em; margin: 0 0.25em; line-height: 1; border-radius: 0.35em;\">\n",
       "    Harmaa\n",
       "    <span style=\"font-size: 0.8em; font-weight: bold; line-height: 1; border-radius: 0.35em; text-transform: uppercase; vertical-align: middle; margin-left: 0.5rem\">COLOR</span>\n",
       "</mark>\n",
       " - \n",
       "<mark class=\"entity\" style=\"background: #ddd; padding: 0.45em 0.6em; margin: 0 0.25em; line-height: 1; border-radius: 0.35em;\">\n",
       "    L\n",
       "    <span style=\"font-size: 0.8em; font-weight: bold; line-height: 1; border-radius: 0.35em; text-transform: uppercase; vertical-align: middle; margin-left: 0.5rem\">SIZE</span>\n",
       "</mark>\n",
       "</div></span>"
      ],
      "text/plain": [
       "<IPython.core.display.HTML object>"
      ]
     },
     "metadata": {},
     "output_type": "display_data"
    },
    {
     "data": {
      "text/html": [
       "<span class=\"tex2jax_ignore\"><div class=\"entities\" style=\"line-height: 2.5; direction: ltr\">Kaksiosainen uimapuku roxy love waimea bandeau set multicolour saatavana tyttöjen kokoja \n",
       "<mark class=\"entity\" style=\"background: #ddd; padding: 0.45em 0.6em; margin: 0 0.25em; line-height: 1; border-radius: 0.35em;\">\n",
       "    14\n",
       "    <span style=\"font-size: 0.8em; font-weight: bold; line-height: 1; border-radius: 0.35em; text-transform: uppercase; vertical-align: middle; margin-left: 0.5rem\">SIZE</span>\n",
       "</mark>\n",
       " vuotta</div></span>"
      ],
      "text/plain": [
       "<IPython.core.display.HTML object>"
      ]
     },
     "metadata": {},
     "output_type": "display_data"
    },
    {
     "data": {
      "text/html": [
       "<span class=\"tex2jax_ignore\"><div class=\"entities\" style=\"line-height: 2.5; direction: ltr\">Reppu \n",
       "<mark class=\"entity\" style=\"background: #ddd; padding: 0.45em 0.6em; margin: 0 0.25em; line-height: 1; border-radius: 0.35em;\">\n",
       "    Dakine\n",
       "    <span style=\"font-size: 0.8em; font-weight: bold; line-height: 1; border-radius: 0.35em; text-transform: uppercase; vertical-align: middle; margin-left: 0.5rem\">BRAND</span>\n",
       "</mark>\n",
       "  DETAIL 27L</div></span>"
      ],
      "text/plain": [
       "<IPython.core.display.HTML object>"
      ]
     },
     "metadata": {},
     "output_type": "display_data"
    },
    {
     "data": {
      "text/html": [
       "<span class=\"tex2jax_ignore\"><div class=\"entities\" style=\"line-height: 2.5; direction: ltr\">\n",
       "<mark class=\"entity\" style=\"background: #ddd; padding: 0.45em 0.6em; margin: 0 0.25em; line-height: 1; border-radius: 0.35em;\">\n",
       "    Lansky\n",
       "    <span style=\"font-size: 0.8em; font-weight: bold; line-height: 1; border-radius: 0.35em; text-transform: uppercase; vertical-align: middle; margin-left: 0.5rem\">BRAND</span>\n",
       "</mark>\n",
       " Quick Edge Teroitin</div></span>"
      ],
      "text/plain": [
       "<IPython.core.display.HTML object>"
      ]
     },
     "metadata": {},
     "output_type": "display_data"
    },
    {
     "data": {
      "text/html": [
       "<span class=\"tex2jax_ignore\"><div class=\"entities\" style=\"line-height: 2.5; direction: ltr\">Korkokengät \n",
       "<mark class=\"entity\" style=\"background: #ddd; padding: 0.45em 0.6em; margin: 0 0.25em; line-height: 1; border-radius: 0.35em;\">\n",
       "    Karine Arabian\n",
       "    <span style=\"font-size: 0.8em; font-weight: bold; line-height: 1; border-radius: 0.35em; text-transform: uppercase; vertical-align: middle; margin-left: 0.5rem\">BRAND</span>\n",
       "</mark>\n",
       "  PHOENIX</div></span>"
      ],
      "text/plain": [
       "<IPython.core.display.HTML object>"
      ]
     },
     "metadata": {},
     "output_type": "display_data"
    },
    {
     "data": {
      "text/html": [
       "<span class=\"tex2jax_ignore\"><div class=\"entities\" style=\"line-height: 2.5; direction: ltr\">\n",
       "<mark class=\"entity\" style=\"background: #ddd; padding: 0.45em 0.6em; margin: 0 0.25em; line-height: 1; border-radius: 0.35em;\">\n",
       "    Woden\n",
       "    <span style=\"font-size: 0.8em; font-weight: bold; line-height: 1; border-radius: 0.35em; text-transform: uppercase; vertical-align: middle; margin-left: 0.5rem\">BRAND</span>\n",
       "</mark>\n",
       " Jane Snake</div></span>"
      ],
      "text/plain": [
       "<IPython.core.display.HTML object>"
      ]
     },
     "metadata": {},
     "output_type": "display_data"
    },
    {
     "data": {
      "text/html": [
       "<span class=\"tex2jax_ignore\"><div class=\"entities\" style=\"line-height: 2.5; direction: ltr\">Mulberry \n",
       "<mark class=\"entity\" style=\"background: #ddd; padding: 0.45em 0.6em; margin: 0 0.25em; line-height: 1; border-radius: 0.35em;\">\n",
       "    60\n",
       "    <span style=\"font-size: 0.8em; font-weight: bold; line-height: 1; border-radius: 0.35em; text-transform: uppercase; vertical-align: middle; margin-left: 0.5rem\">SIZE</span>\n",
       "</mark>\n",
       " tablettia</div></span>"
      ],
      "text/plain": [
       "<IPython.core.display.HTML object>"
      ]
     },
     "metadata": {},
     "output_type": "display_data"
    },
    {
     "data": {
      "text/html": [
       "<span class=\"tex2jax_ignore\"><div class=\"entities\" style=\"line-height: 2.5; direction: ltr\">\n",
       "<mark class=\"entity\" style=\"background: #ddd; padding: 0.45em 0.6em; margin: 0 0.25em; line-height: 1; border-radius: 0.35em;\">\n",
       "    Lyngby Porcelain\n",
       "    <span style=\"font-size: 0.8em; font-weight: bold; line-height: 1; border-radius: 0.35em; text-transform: uppercase; vertical-align: middle; margin-left: 0.5rem\">BRAND</span>\n",
       "</mark>\n",
       " LP Fitting 01 riippuvalaisin</div></span>"
      ],
      "text/plain": [
       "<IPython.core.display.HTML object>"
      ]
     },
     "metadata": {},
     "output_type": "display_data"
    },
    {
     "data": {
      "text/html": [
       "<span class=\"tex2jax_ignore\"><div class=\"entities\" style=\"line-height: 2.5; direction: ltr\">Lastenkengät emu wallaby mini \n",
       "<mark class=\"entity\" style=\"background: #ddd; padding: 0.45em 0.6em; margin: 0 0.25em; line-height: 1; border-radius: 0.35em;\">\n",
       "    green\n",
       "    <span style=\"font-size: 0.8em; font-weight: bold; line-height: 1; border-radius: 0.35em; text-transform: uppercase; vertical-align: middle; margin-left: 0.5rem\">COLOR</span>\n",
       "</mark>\n",
       " saatavana tyttöjen kokoja \n",
       "<mark class=\"entity\" style=\"background: #ddd; padding: 0.45em 0.6em; margin: 0 0.25em; line-height: 1; border-radius: 0.35em;\">\n",
       "    24,28,31,25 / 26,29 / 30\n",
       "    <span style=\"font-size: 0.8em; font-weight: bold; line-height: 1; border-radius: 0.35em; text-transform: uppercase; vertical-align: middle; margin-left: 0.5rem\">SIZE</span>\n",
       "</mark>\n",
       "</div></span>"
      ],
      "text/plain": [
       "<IPython.core.display.HTML object>"
      ]
     },
     "metadata": {},
     "output_type": "display_data"
    },
    {
     "data": {
      "text/html": [
       "<span class=\"tex2jax_ignore\"><div class=\"entities\" style=\"line-height: 2.5; direction: ltr\">MOON C160 Kattovalaisin \n",
       "<mark class=\"entity\" style=\"background: #ddd; padding: 0.45em 0.6em; margin: 0 0.25em; line-height: 1; border-radius: 0.35em;\">\n",
       "    Valkoinen\n",
       "    <span style=\"font-size: 0.8em; font-weight: bold; line-height: 1; border-radius: 0.35em; text-transform: uppercase; vertical-align: middle; margin-left: 0.5rem\">COLOR</span>\n",
       "</mark>\n",
       " - ANTIDARK</div></span>"
      ],
      "text/plain": [
       "<IPython.core.display.HTML object>"
      ]
     },
     "metadata": {},
     "output_type": "display_data"
    },
    {
     "data": {
      "text/html": [
       "<span class=\"tex2jax_ignore\"><div class=\"entities\" style=\"line-height: 2.5; direction: ltr\">\n",
       "<mark class=\"entity\" style=\"background: #ddd; padding: 0.45em 0.6em; margin: 0 0.25em; line-height: 1; border-radius: 0.35em;\">\n",
       "    Freshlook\n",
       "    <span style=\"font-size: 0.8em; font-weight: bold; line-height: 1; border-radius: 0.35em; text-transform: uppercase; vertical-align: middle; margin-left: 0.5rem\">BRAND</span>\n",
       "</mark>\n",
       " Dimensions 2 Pack Piilolinssit. Valmistaja: Freshlook. Käyttöaika Monthly Disposable. Vesipitoisuus: %</div></span>"
      ],
      "text/plain": [
       "<IPython.core.display.HTML object>"
      ]
     },
     "metadata": {},
     "output_type": "display_data"
    },
    {
     "data": {
      "text/html": [
       "<span class=\"tex2jax_ignore\"><div class=\"entities\" style=\"line-height: 2.5; direction: ltr\">Sc0013s Aurinkolasit \n",
       "<mark class=\"entity\" style=\"background: #ddd; padding: 0.45em 0.6em; margin: 0 0.25em; line-height: 1; border-radius: 0.35em;\">\n",
       "    Vaaleanpunainen\n",
       "    <span style=\"font-size: 0.8em; font-weight: bold; line-height: 1; border-radius: 0.35em; text-transform: uppercase; vertical-align: middle; margin-left: 0.5rem\">COLOR</span>\n",
       "</mark>\n",
       " \n",
       "<mark class=\"entity\" style=\"background: #ddd; padding: 0.45em 0.6em; margin: 0 0.25em; line-height: 1; border-radius: 0.35em;\">\n",
       "    Stella McCartney Eyewear\n",
       "    <span style=\"font-size: 0.8em; font-weight: bold; line-height: 1; border-radius: 0.35em; text-transform: uppercase; vertical-align: middle; margin-left: 0.5rem\">BRAND</span>\n",
       "</mark>\n",
       "</div></span>"
      ],
      "text/plain": [
       "<IPython.core.display.HTML object>"
      ]
     },
     "metadata": {},
     "output_type": "display_data"
    },
    {
     "data": {
      "text/html": [
       "<span class=\"tex2jax_ignore\"><div class=\"entities\" style=\"line-height: 2.5; direction: ltr\">Kuvailu \n",
       "<mark class=\"entity\" style=\"background: #ddd; padding: 0.45em 0.6em; margin: 0 0.25em; line-height: 1; border-radius: 0.35em;\">\n",
       "    Object Collectors Item\n",
       "    <span style=\"font-size: 0.8em; font-weight: bold; line-height: 1; border-radius: 0.35em; text-transform: uppercase; vertical-align: middle; margin-left: 0.5rem\">BRAND</span>\n",
       "</mark>\n",
       " -mekko Loose fit V-kaula-aukko Korostettu vyötärö resorilla Lyhyet puhvihihat Vuorattu Pituus n. \n",
       "<mark class=\"entity\" style=\"background: #ddd; padding: 0.45em 0.6em; margin: 0 0.25em; line-height: 1; border-radius: 0.35em;\">\n",
       "    94 cm\n",
       "    <span style=\"font-size: 0.8em; font-weight: bold; line-height: 1; border-radius: 0.35em; text-transform: uppercase; vertical-align: middle; margin-left: 0.5rem\">SIZE</span>\n",
       "</mark>\n",
       " koossa \n",
       "<mark class=\"entity\" style=\"background: #ddd; padding: 0.45em 0.6em; margin: 0 0.25em; line-height: 1; border-radius: 0.35em;\">\n",
       "    36\n",
       "    <span style=\"font-size: 0.8em; font-weight: bold; line-height: 1; border-radius: 0.35em; text-transform: uppercase; vertical-align: middle; margin-left: 0.5rem\">SIZE</span>\n",
       "</mark>\n",
       " Materiaali ja hoito Materiaali 100% \n",
       "<mark class=\"entity\" style=\"background: #ddd; padding: 0.45em 0.6em; margin: 0 0.25em; line-height: 1; border-radius: 0.35em;\">\n",
       "    Polyesteria.\n",
       "    <span style=\"font-size: 0.8em; font-weight: bold; line-height: 1; border-radius: 0.35em; text-transform: uppercase; vertical-align: middle; margin-left: 0.5rem\">MATERIAL</span>\n",
       "</mark>\n",
       " Vuori 100% \n",
       "<mark class=\"entity\" style=\"background: #ddd; padding: 0.45em 0.6em; margin: 0 0.25em; line-height: 1; border-radius: 0.35em;\">\n",
       "    Viskoosia\n",
       "    <span style=\"font-size: 0.8em; font-weight: bold; line-height: 1; border-radius: 0.35em; text-transform: uppercase; vertical-align: middle; margin-left: 0.5rem\">MATERIAL</span>\n",
       "</mark>\n",
       " Hienopesu \n",
       "<mark class=\"entity\" style=\"background: #ddd; padding: 0.45em 0.6em; margin: 0 0.25em; line-height: 1; border-radius: 0.35em;\">\n",
       "    30\n",
       "    <span style=\"font-size: 0.8em; font-weight: bold; line-height: 1; border-radius: 0.35em; text-transform: uppercase; vertical-align: middle; margin-left: 0.5rem\">SIZE</span>\n",
       "</mark>\n",
       " asteessa Ei valkaisua Ei rumpukuivausta Anna valua kuivaksi Silitä alhaisella lämmöllä Kemiallinen pesu petrolieetteri liukosella Yksityiskohtia Merkki: Object Collectors Item Väri: \n",
       "<mark class=\"entity\" style=\"background: #ddd; padding: 0.45em 0.6em; margin: 0 0.25em; line-height: 1; border-radius: 0.35em;\">\n",
       "    Musta\n",
       "    <span style=\"font-size: 0.8em; font-weight: bold; line-height: 1; border-radius: 0.35em; text-transform: uppercase; vertical-align: middle; margin-left: 0.5rem\">COLOR</span>\n",
       "</mark>\n",
       " Tuotenro: 095507-0014 Vaatteet / Mekot / Väljät mekot Malli on \n",
       "<mark class=\"entity\" style=\"background: #ddd; padding: 0.45em 0.6em; margin: 0 0.25em; line-height: 1; border-radius: 0.35em;\">\n",
       "    176 cm\n",
       "    <span style=\"font-size: 0.8em; font-weight: bold; line-height: 1; border-radius: 0.35em; text-transform: uppercase; vertical-align: middle; margin-left: 0.5rem\">SIZE</span>\n",
       "</mark>\n",
       " pitkä ja käyttää kokoa \n",
       "<mark class=\"entity\" style=\"background: #ddd; padding: 0.45em 0.6em; margin: 0 0.25em; line-height: 1; border-radius: 0.35em;\">\n",
       "    EU 36.\n",
       "    <span style=\"font-size: 0.8em; font-weight: bold; line-height: 1; border-radius: 0.35em; text-transform: uppercase; vertical-align: middle; margin-left: 0.5rem\">SIZE</span>\n",
       "</mark>\n",
       " Lataa lehdistökuva</div></span>"
      ],
      "text/plain": [
       "<IPython.core.display.HTML object>"
      ]
     },
     "metadata": {},
     "output_type": "display_data"
    },
    {
     "data": {
      "text/html": [
       "<span class=\"tex2jax_ignore\"><div class=\"entities\" style=\"line-height: 2.5; direction: ltr\">\n",
       "<mark class=\"entity\" style=\"background: #ddd; padding: 0.45em 0.6em; margin: 0 0.25em; line-height: 1; border-radius: 0.35em;\">\n",
       "    DSQUARED2 Sunglasses\n",
       "    <span style=\"font-size: 0.8em; font-weight: bold; line-height: 1; border-radius: 0.35em; text-transform: uppercase; vertical-align: middle; margin-left: 0.5rem\">BRAND</span>\n",
       "</mark>\n",
       " Dsquared Victor</div></span>"
      ],
      "text/plain": [
       "<IPython.core.display.HTML object>"
      ]
     },
     "metadata": {},
     "output_type": "display_data"
    },
    {
     "data": {
      "text/html": [
       "<span class=\"tex2jax_ignore\"><div class=\"entities\" style=\"line-height: 2.5; direction: ltr\">\n",
       "<mark class=\"entity\" style=\"background: #ddd; padding: 0.45em 0.6em; margin: 0 0.25em; line-height: 1; border-radius: 0.35em;\">\n",
       "    Sells\n",
       "    <span style=\"font-size: 0.8em; font-weight: bold; line-height: 1; border-radius: 0.35em; text-transform: uppercase; vertical-align: middle; margin-left: 0.5rem\">BRAND</span>\n",
       "</mark>\n",
       " Haalarit \n",
       "<mark class=\"entity\" style=\"background: #ddd; padding: 0.45em 0.6em; margin: 0 0.25em; line-height: 1; border-radius: 0.35em;\">\n",
       "    Elite\n",
       "    <span style=\"font-size: 0.8em; font-weight: bold; line-height: 1; border-radius: 0.35em; text-transform: uppercase; vertical-align: middle; margin-left: 0.5rem\">BRAND</span>\n",
       "</mark>\n",
       " Aqua Rain - \n",
       "<mark class=\"entity\" style=\"background: #ddd; padding: 0.45em 0.6em; margin: 0 0.25em; line-height: 1; border-radius: 0.35em;\">\n",
       "    Musta/Sininen\n",
       "    <span style=\"font-size: 0.8em; font-weight: bold; line-height: 1; border-radius: 0.35em; text-transform: uppercase; vertical-align: middle; margin-left: 0.5rem\">COLOR</span>\n",
       "</mark>\n",
       "</div></span>"
      ],
      "text/plain": [
       "<IPython.core.display.HTML object>"
      ]
     },
     "metadata": {},
     "output_type": "display_data"
    },
    {
     "data": {
      "text/html": [
       "<span class=\"tex2jax_ignore\"><div class=\"entities\" style=\"line-height: 2.5; direction: ltr\">\n",
       "<mark class=\"entity\" style=\"background: #ddd; padding: 0.45em 0.6em; margin: 0 0.25em; line-height: 1; border-radius: 0.35em;\">\n",
       "    Glow &amp; Bloom\n",
       "    <span style=\"font-size: 0.8em; font-weight: bold; line-height: 1; border-radius: 0.35em; text-transform: uppercase; vertical-align: middle; margin-left: 0.5rem\">BRAND</span>\n",
       "</mark>\n",
       " Maljakko Straight \n",
       "<mark class=\"entity\" style=\"background: #ddd; padding: 0.45em 0.6em; margin: 0 0.25em; line-height: 1; border-radius: 0.35em;\">\n",
       "    L,\n",
       "    <span style=\"font-size: 0.8em; font-weight: bold; line-height: 1; border-radius: 0.35em; text-transform: uppercase; vertical-align: middle; margin-left: 0.5rem\">SIZE</span>\n",
       "</mark>\n",
       " \n",
       "<mark class=\"entity\" style=\"background: #ddd; padding: 0.45em 0.6em; margin: 0 0.25em; line-height: 1; border-radius: 0.35em;\">\n",
       "    Valkoinen\n",
       "    <span style=\"font-size: 0.8em; font-weight: bold; line-height: 1; border-radius: 0.35em; text-transform: uppercase; vertical-align: middle; margin-left: 0.5rem\">COLOR</span>\n",
       "</mark>\n",
       "</div></span>"
      ],
      "text/plain": [
       "<IPython.core.display.HTML object>"
      ]
     },
     "metadata": {},
     "output_type": "display_data"
    },
    {
     "data": {
      "text/html": [
       "<span class=\"tex2jax_ignore\"><div class=\"entities\" style=\"line-height: 2.5; direction: ltr\">DAMASCUS \n",
       "<mark class=\"entity\" style=\"background: #ddd; padding: 0.45em 0.6em; margin: 0 0.25em; line-height: 1; border-radius: 0.35em;\">\n",
       "    67\n",
       "    <span style=\"font-size: 0.8em; font-weight: bold; line-height: 1; border-radius: 0.35em; text-transform: uppercase; vertical-align: middle; margin-left: 0.5rem\">SIZE</span>\n",
       "</mark>\n",
       " Kasvisveitsi \n",
       "<mark class=\"entity\" style=\"background: #ddd; padding: 0.45em 0.6em; margin: 0 0.25em; line-height: 1; border-radius: 0.35em;\">\n",
       "    10cm\n",
       "    <span style=\"font-size: 0.8em; font-weight: bold; line-height: 1; border-radius: 0.35em; text-transform: uppercase; vertical-align: middle; margin-left: 0.5rem\">SIZE</span>\n",
       "</mark>\n",
       "</div></span>"
      ],
      "text/plain": [
       "<IPython.core.display.HTML object>"
      ]
     },
     "metadata": {},
     "output_type": "display_data"
    },
    {
     "data": {
      "text/html": [
       "<span class=\"tex2jax_ignore\"><div class=\"entities\" style=\"line-height: 2.5; direction: ltr\">Nilkkurit \n",
       "<mark class=\"entity\" style=\"background: #ddd; padding: 0.45em 0.6em; margin: 0 0.25em; line-height: 1; border-radius: 0.35em;\">\n",
       "    Fabi\n",
       "    <span style=\"font-size: 0.8em; font-weight: bold; line-height: 1; border-radius: 0.35em; text-transform: uppercase; vertical-align: middle; margin-left: 0.5rem\">BRAND</span>\n",
       "</mark>\n",
       "  FD9734</div></span>"
      ],
      "text/plain": [
       "<IPython.core.display.HTML object>"
      ]
     },
     "metadata": {},
     "output_type": "display_data"
    },
    {
     "data": {
      "text/html": [
       "<span class=\"tex2jax_ignore\"><div class=\"entities\" style=\"line-height: 2.5; direction: ltr\">Pullover Long-Sleeve Kilpikonnakaulus Poolopaita \n",
       "<mark class=\"entity\" style=\"background: #ddd; padding: 0.45em 0.6em; margin: 0 0.25em; line-height: 1; border-radius: 0.35em;\">\n",
       "    Punainen\n",
       "    <span style=\"font-size: 0.8em; font-weight: bold; line-height: 1; border-radius: 0.35em; text-transform: uppercase; vertical-align: middle; margin-left: 0.5rem\">COLOR</span>\n",
       "</mark>\n",
       " \n",
       "<mark class=\"entity\" style=\"background: #ddd; padding: 0.45em 0.6em; margin: 0 0.25em; line-height: 1; border-radius: 0.35em;\">\n",
       "    Taifun\n",
       "    <span style=\"font-size: 0.8em; font-weight: bold; line-height: 1; border-radius: 0.35em; text-transform: uppercase; vertical-align: middle; margin-left: 0.5rem\">BRAND</span>\n",
       "</mark>\n",
       "</div></span>"
      ],
      "text/plain": [
       "<IPython.core.display.HTML object>"
      ]
     },
     "metadata": {},
     "output_type": "display_data"
    },
    {
     "data": {
      "text/html": [
       "<span class=\"tex2jax_ignore\"><div class=\"entities\" style=\"line-height: 2.5; direction: ltr\">YEEZY - Womens Mule Pvc Heel - \n",
       "<mark class=\"entity\" style=\"background: #ddd; padding: 0.45em 0.6em; margin: 0 0.25em; line-height: 1; border-radius: 0.35em;\">\n",
       "    Harmaa\n",
       "    <span style=\"font-size: 0.8em; font-weight: bold; line-height: 1; border-radius: 0.35em; text-transform: uppercase; vertical-align: middle; margin-left: 0.5rem\">COLOR</span>\n",
       "</mark>\n",
       " - \n",
       "<mark class=\"entity\" style=\"background: #ddd; padding: 0.45em 0.6em; margin: 0 0.25em; line-height: 1; border-radius: 0.35em;\">\n",
       "    US 6\n",
       "    <span style=\"font-size: 0.8em; font-weight: bold; line-height: 1; border-radius: 0.35em; text-transform: uppercase; vertical-align: middle; margin-left: 0.5rem\">SIZE</span>\n",
       "</mark>\n",
       "</div></span>"
      ],
      "text/plain": [
       "<IPython.core.display.HTML object>"
      ]
     },
     "metadata": {},
     "output_type": "display_data"
    },
    {
     "data": {
      "text/html": [
       "<span class=\"tex2jax_ignore\"><div class=\"entities\" style=\"line-height: 2.5; direction: ltr\">\n",
       "<mark class=\"entity\" style=\"background: #ddd; padding: 0.45em 0.6em; margin: 0 0.25em; line-height: 1; border-radius: 0.35em;\">\n",
       "    Hero Eggs\n",
       "    <span style=\"font-size: 0.8em; font-weight: bold; line-height: 1; border-radius: 0.35em; text-transform: uppercase; vertical-align: middle; margin-left: 0.5rem\">BRAND</span>\n",
       "</mark>\n",
       " Mini Playset</div></span>"
      ],
      "text/plain": [
       "<IPython.core.display.HTML object>"
      ]
     },
     "metadata": {},
     "output_type": "display_data"
    },
    {
     "data": {
      "text/html": [
       "<span class=\"tex2jax_ignore\"><div class=\"entities\" style=\"line-height: 2.5; direction: ltr\">\n",
       "<mark class=\"entity\" style=\"background: #ddd; padding: 0.45em 0.6em; margin: 0 0.25em; line-height: 1; border-radius: 0.35em;\">\n",
       "    Jasu\n",
       "    <span style=\"font-size: 0.8em; font-weight: bold; line-height: 1; border-radius: 0.35em; text-transform: uppercase; vertical-align: middle; margin-left: 0.5rem\">BRAND</span>\n",
       "</mark>\n",
       " Sohjokauha metallinen puuvarrella</div></span>"
      ],
      "text/plain": [
       "<IPython.core.display.HTML object>"
      ]
     },
     "metadata": {},
     "output_type": "display_data"
    },
    {
     "data": {
      "text/html": [
       "<span class=\"tex2jax_ignore\"><div class=\"entities\" style=\"line-height: 2.5; direction: ltr\">Age Reform AHA/BHA Exfoliating Cleanser, \n",
       "<mark class=\"entity\" style=\"background: #ddd; padding: 0.45em 0.6em; margin: 0 0.25em; line-height: 1; border-radius: 0.35em;\">\n",
       "    200ml\n",
       "    <span style=\"font-size: 0.8em; font-weight: bold; line-height: 1; border-radius: 0.35em; text-transform: uppercase; vertical-align: middle; margin-left: 0.5rem\">SIZE</span>\n",
       "</mark>\n",
       "</div></span>"
      ],
      "text/plain": [
       "<IPython.core.display.HTML object>"
      ]
     },
     "metadata": {},
     "output_type": "display_data"
    },
    {
     "data": {
      "text/html": [
       "<span class=\"tex2jax_ignore\"><div class=\"entities\" style=\"line-height: 2.5; direction: ltr\">\n",
       "<mark class=\"entity\" style=\"background: #ddd; padding: 0.45em 0.6em; margin: 0 0.25em; line-height: 1; border-radius: 0.35em;\">\n",
       "    Spot-Hogg\n",
       "    <span style=\"font-size: 0.8em; font-weight: bold; line-height: 1; border-radius: 0.35em; text-transform: uppercase; vertical-align: middle; margin-left: 0.5rem\">BRAND</span>\n",
       "</mark>\n",
       " Friday Night metsästäjälle suunniteltu laukaisulaite. Hienoilla ominaisuuksilla varustettu. Mm. avoimella leualla joka mahdollistaa nopean ja helpon laukaisun juuri oikealla hetkellä.</div></span>"
      ],
      "text/plain": [
       "<IPython.core.display.HTML object>"
      ]
     },
     "metadata": {},
     "output_type": "display_data"
    },
    {
     "data": {
      "text/html": [
       "<span class=\"tex2jax_ignore\"><div class=\"entities\" style=\"line-height: 2.5; direction: ltr\">Manuka Honey UMF 5+ \n",
       "<mark class=\"entity\" style=\"background: #ddd; padding: 0.45em 0.6em; margin: 0 0.25em; line-height: 1; border-radius: 0.35em;\">\n",
       "    500 gr\n",
       "    <span style=\"font-size: 0.8em; font-weight: bold; line-height: 1; border-radius: 0.35em; text-transform: uppercase; vertical-align: middle; margin-left: 0.5rem\">WEIGHT</span>\n",
       "</mark>\n",
       "</div></span>"
      ],
      "text/plain": [
       "<IPython.core.display.HTML object>"
      ]
     },
     "metadata": {},
     "output_type": "display_data"
    },
    {
     "data": {
      "text/html": [
       "<span class=\"tex2jax_ignore\"><div class=\"entities\" style=\"line-height: 2.5; direction: ltr\">Kengät \n",
       "<mark class=\"entity\" style=\"background: #ddd; padding: 0.45em 0.6em; margin: 0 0.25em; line-height: 1; border-radius: 0.35em;\">\n",
       "    Nine West\n",
       "    <span style=\"font-size: 0.8em; font-weight: bold; line-height: 1; border-radius: 0.35em; text-transform: uppercase; vertical-align: middle; margin-left: 0.5rem\">BRAND</span>\n",
       "</mark>\n",
       "  JARETH</div></span>"
      ],
      "text/plain": [
       "<IPython.core.display.HTML object>"
      ]
     },
     "metadata": {},
     "output_type": "display_data"
    },
    {
     "data": {
      "text/html": [
       "<span class=\"tex2jax_ignore\"><div class=\"entities\" style=\"line-height: 2.5; direction: ltr\">\n",
       "<mark class=\"entity\" style=\"background: #ddd; padding: 0.45em 0.6em; margin: 0 0.25em; line-height: 1; border-radius: 0.35em;\">\n",
       "    OrganiCup\n",
       "    <span style=\"font-size: 0.8em; font-weight: bold; line-height: 1; border-radius: 0.35em; text-transform: uppercase; vertical-align: middle; margin-left: 0.5rem\">BRAND</span>\n",
       "</mark>\n",
       " menskopp stl \n",
       "<mark class=\"entity\" style=\"background: #ddd; padding: 0.45em 0.6em; margin: 0 0.25em; line-height: 1; border-radius: 0.35em;\">\n",
       "    A\n",
       "    <span style=\"font-size: 0.8em; font-weight: bold; line-height: 1; border-radius: 0.35em; text-transform: uppercase; vertical-align: middle; margin-left: 0.5rem\">COLOR</span>\n",
       "</mark>\n",
       "</div></span>"
      ],
      "text/plain": [
       "<IPython.core.display.HTML object>"
      ]
     },
     "metadata": {},
     "output_type": "display_data"
    },
    {
     "data": {
      "text/html": [
       "<span class=\"tex2jax_ignore\"><div class=\"entities\" style=\"line-height: 2.5; direction: ltr\">Costbart. 85% \n",
       "<mark class=\"entity\" style=\"background: #ddd; padding: 0.45em 0.6em; margin: 0 0.25em; line-height: 1; border-radius: 0.35em;\">\n",
       "    polyesteri,\n",
       "    <span style=\"font-size: 0.8em; font-weight: bold; line-height: 1; border-radius: 0.35em; text-transform: uppercase; vertical-align: middle; margin-left: 0.5rem\">MATERIAL</span>\n",
       "</mark>\n",
       " 10% \n",
       "<mark class=\"entity\" style=\"background: #ddd; padding: 0.45em 0.6em; margin: 0 0.25em; line-height: 1; border-radius: 0.35em;\">\n",
       "    viskoosi,\n",
       "    <span style=\"font-size: 0.8em; font-weight: bold; line-height: 1; border-radius: 0.35em; text-transform: uppercase; vertical-align: middle; margin-left: 0.5rem\">MATERIAL</span>\n",
       "</mark>\n",
       " 5% \n",
       "<mark class=\"entity\" style=\"background: #ddd; padding: 0.45em 0.6em; margin: 0 0.25em; line-height: 1; border-radius: 0.35em;\">\n",
       "    elastaani.\n",
       "    <span style=\"font-size: 0.8em; font-weight: bold; line-height: 1; border-radius: 0.35em; text-transform: uppercase; vertical-align: middle; margin-left: 0.5rem\">MATERIAL</span>\n",
       "</mark>\n",
       " Suorat lahkeet.</div></span>"
      ],
      "text/plain": [
       "<IPython.core.display.HTML object>"
      ]
     },
     "metadata": {},
     "output_type": "display_data"
    },
    {
     "data": {
      "text/html": [
       "<span class=\"tex2jax_ignore\"><div class=\"entities\" style=\"line-height: 2.5; direction: ltr\">Kengät neosens rococo loli \n",
       "<mark class=\"entity\" style=\"background: #ddd; padding: 0.45em 0.6em; margin: 0 0.25em; line-height: 1; border-radius: 0.35em;\">\n",
       "    black\n",
       "    <span style=\"font-size: 0.8em; font-weight: bold; line-height: 1; border-radius: 0.35em; text-transform: uppercase; vertical-align: middle; margin-left: 0.5rem\">COLOR</span>\n",
       "</mark>\n",
       " saatavana \n",
       "<mark class=\"entity\" style=\"background: #ddd; padding: 0.45em 0.6em; margin: 0 0.25em; line-height: 1; border-radius: 0.35em;\">\n",
       "    naisten\n",
       "    <span style=\"font-size: 0.8em; font-weight: bold; line-height: 1; border-radius: 0.35em; text-transform: uppercase; vertical-align: middle; margin-left: 0.5rem\">GENDER</span>\n",
       "</mark>\n",
       " kokoja \n",
       "<mark class=\"entity\" style=\"background: #ddd; padding: 0.45em 0.6em; margin: 0 0.25em; line-height: 1; border-radius: 0.35em;\">\n",
       "    36,37,38,39,40,41\n",
       "    <span style=\"font-size: 0.8em; font-weight: bold; line-height: 1; border-radius: 0.35em; text-transform: uppercase; vertical-align: middle; margin-left: 0.5rem\">SIZE</span>\n",
       "</mark>\n",
       "</div></span>"
      ],
      "text/plain": [
       "<IPython.core.display.HTML object>"
      ]
     },
     "metadata": {},
     "output_type": "display_data"
    },
    {
     "data": {
      "text/html": [
       "<span class=\"tex2jax_ignore\"><div class=\"entities\" style=\"line-height: 2.5; direction: ltr\">\n",
       "<mark class=\"entity\" style=\"background: #ddd; padding: 0.45em 0.6em; margin: 0 0.25em; line-height: 1; border-radius: 0.35em;\">\n",
       "    Smart\n",
       "    <span style=\"font-size: 0.8em; font-weight: bold; line-height: 1; border-radius: 0.35em; text-transform: uppercase; vertical-align: middle; margin-left: 0.5rem\">BRAND</span>\n",
       "</mark>\n",
       " Supps Koffein är ett prisvärt koffeintillskott av hög kvalitet. \n",
       "<mark class=\"entity\" style=\"background: #ddd; padding: 0.45em 0.6em; margin: 0 0.25em; line-height: 1; border-radius: 0.35em;\">\n",
       "    200 mg\n",
       "    <span style=\"font-size: 0.8em; font-weight: bold; line-height: 1; border-radius: 0.35em; text-transform: uppercase; vertical-align: middle; margin-left: 0.5rem\">WEIGHT</span>\n",
       "</mark>\n",
       " koffein/tablett, 200 tabletter/förpackning.</div></span>"
      ],
      "text/plain": [
       "<IPython.core.display.HTML object>"
      ]
     },
     "metadata": {},
     "output_type": "display_data"
    },
    {
     "data": {
      "text/html": [
       "<span class=\"tex2jax_ignore\"><div class=\"entities\" style=\"line-height: 2.5; direction: ltr\">T-Paita \n",
       "<mark class=\"entity\" style=\"background: #ddd; padding: 0.45em 0.6em; margin: 0 0.25em; line-height: 1; border-radius: 0.35em;\">\n",
       "    Rainbow\n",
       "    <span style=\"font-size: 0.8em; font-weight: bold; line-height: 1; border-radius: 0.35em; text-transform: uppercase; vertical-align: middle; margin-left: 0.5rem\">COLOR</span>\n",
       "</mark>\n",
       " Tee</div></span>"
      ],
      "text/plain": [
       "<IPython.core.display.HTML object>"
      ]
     },
     "metadata": {},
     "output_type": "display_data"
    },
    {
     "data": {
      "text/html": [
       "<span class=\"tex2jax_ignore\"><div class=\"entities\" style=\"line-height: 2.5; direction: ltr\">Cher Hue Kattovalaisin \n",
       "<mark class=\"entity\" style=\"background: #ddd; padding: 0.45em 0.6em; margin: 0 0.25em; line-height: 1; border-radius: 0.35em;\">\n",
       "    Musta\n",
       "    <span style=\"font-size: 0.8em; font-weight: bold; line-height: 1; border-radius: 0.35em; text-transform: uppercase; vertical-align: middle; margin-left: 0.5rem\">COLOR</span>\n",
       "</mark>\n",
       " - \n",
       "<mark class=\"entity\" style=\"background: #ddd; padding: 0.45em 0.6em; margin: 0 0.25em; line-height: 1; border-radius: 0.35em;\">\n",
       "    Philips Hue\n",
       "    <span style=\"font-size: 0.8em; font-weight: bold; line-height: 1; border-radius: 0.35em; text-transform: uppercase; vertical-align: middle; margin-left: 0.5rem\">BRAND</span>\n",
       "</mark>\n",
       "</div></span>"
      ],
      "text/plain": [
       "<IPython.core.display.HTML object>"
      ]
     },
     "metadata": {},
     "output_type": "display_data"
    },
    {
     "data": {
      "text/html": [
       "<span class=\"tex2jax_ignore\"><div class=\"entities\" style=\"line-height: 2.5; direction: ltr\">\n",
       "<mark class=\"entity\" style=\"background: #ddd; padding: 0.45em 0.6em; margin: 0 0.25em; line-height: 1; border-radius: 0.35em;\">\n",
       "    Golden Curl\n",
       "    <span style=\"font-size: 0.8em; font-weight: bold; line-height: 1; border-radius: 0.35em; text-transform: uppercase; vertical-align: middle; margin-left: 0.5rem\">BRAND</span>\n",
       "</mark>\n",
       " 506 \n",
       "<mark class=\"entity\" style=\"background: #ddd; padding: 0.45em 0.6em; margin: 0 0.25em; line-height: 1; border-radius: 0.35em;\">\n",
       "    Rose\n",
       "    <span style=\"font-size: 0.8em; font-weight: bold; line-height: 1; border-radius: 0.35em; text-transform: uppercase; vertical-align: middle; margin-left: 0.5rem\">COLOR</span>\n",
       "</mark>\n",
       "  Gold Curler</div></span>"
      ],
      "text/plain": [
       "<IPython.core.display.HTML object>"
      ]
     },
     "metadata": {},
     "output_type": "display_data"
    },
    {
     "data": {
      "text/html": [
       "<span class=\"tex2jax_ignore\"><div class=\"entities\" style=\"line-height: 2.5; direction: ltr\">\n",
       "<mark class=\"entity\" style=\"background: #ddd; padding: 0.45em 0.6em; margin: 0 0.25em; line-height: 1; border-radius: 0.35em;\">\n",
       "    Balmain\n",
       "    <span style=\"font-size: 0.8em; font-weight: bold; line-height: 1; border-radius: 0.35em; text-transform: uppercase; vertical-align: middle; margin-left: 0.5rem\">BRAND</span>\n",
       "</mark>\n",
       " Aurinkolasit BL 2520B 01</div></span>"
      ],
      "text/plain": [
       "<IPython.core.display.HTML object>"
      ]
     },
     "metadata": {},
     "output_type": "display_data"
    },
    {
     "data": {
      "text/html": [
       "<span class=\"tex2jax_ignore\"><div class=\"entities\" style=\"line-height: 2.5; direction: ltr\">\n",
       "<mark class=\"entity\" style=\"background: #ddd; padding: 0.45em 0.6em; margin: 0 0.25em; line-height: 1; border-radius: 0.35em;\">\n",
       "    Egyptian Magic\n",
       "    <span style=\"font-size: 0.8em; font-weight: bold; line-height: 1; border-radius: 0.35em; text-transform: uppercase; vertical-align: middle; margin-left: 0.5rem\">BRAND</span>\n",
       "</mark>\n",
       " Skin Cream \n",
       "<mark class=\"entity\" style=\"background: #ddd; padding: 0.45em 0.6em; margin: 0 0.25em; line-height: 1; border-radius: 0.35em;\">\n",
       "    59 ml\n",
       "    <span style=\"font-size: 0.8em; font-weight: bold; line-height: 1; border-radius: 0.35em; text-transform: uppercase; vertical-align: middle; margin-left: 0.5rem\">SIZE</span>\n",
       "</mark>\n",
       "</div></span>"
      ],
      "text/plain": [
       "<IPython.core.display.HTML object>"
      ]
     },
     "metadata": {},
     "output_type": "display_data"
    },
    {
     "data": {
      "text/html": [
       "<span class=\"tex2jax_ignore\"><div class=\"entities\" style=\"line-height: 2.5; direction: ltr\">Liiketunnistin \n",
       "<mark class=\"entity\" style=\"background: #ddd; padding: 0.45em 0.6em; margin: 0 0.25em; line-height: 1; border-radius: 0.35em;\">\n",
       "    Steinel\n",
       "    <span style=\"font-size: 0.8em; font-weight: bold; line-height: 1; border-radius: 0.35em; text-transform: uppercase; vertical-align: middle; margin-left: 0.5rem\">BRAND</span>\n",
       "</mark>\n",
       " IS 2160 \n",
       "<mark class=\"entity\" style=\"background: #ddd; padding: 0.45em 0.6em; margin: 0 0.25em; line-height: 1; border-radius: 0.35em;\">\n",
       "    valkoinen\n",
       "    <span style=\"font-size: 0.8em; font-weight: bold; line-height: 1; border-radius: 0.35em; text-transform: uppercase; vertical-align: middle; margin-left: 0.5rem\">COLOR</span>\n",
       "</mark>\n",
       "</div></span>"
      ],
      "text/plain": [
       "<IPython.core.display.HTML object>"
      ]
     },
     "metadata": {},
     "output_type": "display_data"
    },
    {
     "data": {
      "text/html": [
       "<span class=\"tex2jax_ignore\"><div class=\"entities\" style=\"line-height: 2.5; direction: ltr\">Svetari \n",
       "<mark class=\"entity\" style=\"background: #ddd; padding: 0.45em 0.6em; margin: 0 0.25em; line-height: 1; border-radius: 0.35em;\">\n",
       "    Onitsuka Tiger\n",
       "    <span style=\"font-size: 0.8em; font-weight: bold; line-height: 1; border-radius: 0.35em; text-transform: uppercase; vertical-align: middle; margin-left: 0.5rem\">BRAND</span>\n",
       "</mark>\n",
       "  Hoodie 123496-0453</div></span>"
      ],
      "text/plain": [
       "<IPython.core.display.HTML object>"
      ]
     },
     "metadata": {},
     "output_type": "display_data"
    },
    {
     "data": {
      "text/html": [
       "<span class=\"tex2jax_ignore\"><div class=\"entities\" style=\"line-height: 2.5; direction: ltr\">\n",
       "<mark class=\"entity\" style=\"background: #ddd; padding: 0.45em 0.6em; margin: 0 0.25em; line-height: 1; border-radius: 0.35em;\">\n",
       "    Kinder\n",
       "    <span style=\"font-size: 0.8em; font-weight: bold; line-height: 1; border-radius: 0.35em; text-transform: uppercase; vertical-align: middle; margin-left: 0.5rem\">BRAND</span>\n",
       "</mark>\n",
       " Surprise -yllätyssuklaamuna sisältää Kinder-suklaata, lelun ja sen mukanaantuoman yllätyksen.</div></span>"
      ],
      "text/plain": [
       "<IPython.core.display.HTML object>"
      ]
     },
     "metadata": {},
     "output_type": "display_data"
    },
    {
     "data": {
      "text/html": [
       "<span class=\"tex2jax_ignore\"><div class=\"entities\" style=\"line-height: 2.5; direction: ltr\">\n",
       "<mark class=\"entity\" style=\"background: #ddd; padding: 0.45em 0.6em; margin: 0 0.25em; line-height: 1; border-radius: 0.35em;\">\n",
       "    Mossa\n",
       "    <span style=\"font-size: 0.8em; font-weight: bold; line-height: 1; border-radius: 0.35em; text-transform: uppercase; vertical-align: middle; margin-left: 0.5rem\">BRAND</span>\n",
       "</mark>\n",
       " Vitamin Moisture Shampoo \n",
       "<mark class=\"entity\" style=\"background: #ddd; padding: 0.45em 0.6em; margin: 0 0.25em; line-height: 1; border-radius: 0.35em;\">\n",
       "    300 ml\n",
       "    <span style=\"font-size: 0.8em; font-weight: bold; line-height: 1; border-radius: 0.35em; text-transform: uppercase; vertical-align: middle; margin-left: 0.5rem\">SIZE</span>\n",
       "</mark>\n",
       "</div></span>"
      ],
      "text/plain": [
       "<IPython.core.display.HTML object>"
      ]
     },
     "metadata": {},
     "output_type": "display_data"
    },
    {
     "data": {
      "text/html": [
       "<span class=\"tex2jax_ignore\"><div class=\"entities\" style=\"line-height: 2.5; direction: ltr\">E-EPA \n",
       "<mark class=\"entity\" style=\"background: #ddd; padding: 0.45em 0.6em; margin: 0 0.25em; line-height: 1; border-radius: 0.35em;\">\n",
       "    650\n",
       "    <span style=\"font-size: 0.8em; font-weight: bold; line-height: 1; border-radius: 0.35em; text-transform: uppercase; vertical-align: middle; margin-left: 0.5rem\">SIZE</span>\n",
       "</mark>\n",
       " mg \n",
       "<mark class=\"entity\" style=\"background: #ddd; padding: 0.45em 0.6em; margin: 0 0.25em; line-height: 1; border-radius: 0.35em;\">\n",
       "    60\n",
       "    <span style=\"font-size: 0.8em; font-weight: bold; line-height: 1; border-radius: 0.35em; text-transform: uppercase; vertical-align: middle; margin-left: 0.5rem\">SIZE</span>\n",
       "</mark>\n",
       " kapselia</div></span>"
      ],
      "text/plain": [
       "<IPython.core.display.HTML object>"
      ]
     },
     "metadata": {},
     "output_type": "display_data"
    },
    {
     "data": {
      "text/html": [
       "<span class=\"tex2jax_ignore\"><div class=\"entities\" style=\"line-height: 2.5; direction: ltr\">Kengät \n",
       "<mark class=\"entity\" style=\"background: #ddd; padding: 0.45em 0.6em; margin: 0 0.25em; line-height: 1; border-radius: 0.35em;\">\n",
       "    Frank Wright\n",
       "    <span style=\"font-size: 0.8em; font-weight: bold; line-height: 1; border-radius: 0.35em; text-transform: uppercase; vertical-align: middle; margin-left: 0.5rem\">BRAND</span>\n",
       "</mark>\n",
       "  LEEK</div></span>"
      ],
      "text/plain": [
       "<IPython.core.display.HTML object>"
      ]
     },
     "metadata": {},
     "output_type": "display_data"
    },
    {
     "data": {
      "text/html": [
       "<span class=\"tex2jax_ignore\"><div class=\"entities\" style=\"line-height: 2.5; direction: ltr\">\n",
       "<mark class=\"entity\" style=\"background: #ddd; padding: 0.45em 0.6em; margin: 0 0.25em; line-height: 1; border-radius: 0.35em;\">\n",
       "    Hombre\n",
       "    <span style=\"font-size: 0.8em; font-weight: bold; line-height: 1; border-radius: 0.35em; text-transform: uppercase; vertical-align: middle; margin-left: 0.5rem\">BRAND</span>\n",
       "</mark>\n",
       " – Snug Fit THIN Penisrenkaat, \n",
       "<mark class=\"entity\" style=\"background: #ddd; padding: 0.45em 0.6em; margin: 0 0.25em; line-height: 1; border-radius: 0.35em;\">\n",
       "    Tummanharmaa\n",
       "    <span style=\"font-size: 0.8em; font-weight: bold; line-height: 1; border-radius: 0.35em; text-transform: uppercase; vertical-align: middle; margin-left: 0.5rem\">COLOR</span>\n",
       "</mark>\n",
       "</div></span>"
      ],
      "text/plain": [
       "<IPython.core.display.HTML object>"
      ]
     },
     "metadata": {},
     "output_type": "display_data"
    },
    {
     "data": {
      "text/html": [
       "<span class=\"tex2jax_ignore\"><div class=\"entities\" style=\"line-height: 2.5; direction: ltr\">Ire-Stay 3-Istuttava Sohva, \n",
       "<mark class=\"entity\" style=\"background: #ddd; padding: 0.45em 0.6em; margin: 0 0.25em; line-height: 1; border-radius: 0.35em;\">\n",
       "    Vaaleanpunainen/Saarni\n",
       "    <span style=\"font-size: 0.8em; font-weight: bold; line-height: 1; border-radius: 0.35em; text-transform: uppercase; vertical-align: middle; margin-left: 0.5rem\">COLOR</span>\n",
       "</mark>\n",
       "</div></span>"
      ],
      "text/plain": [
       "<IPython.core.display.HTML object>"
      ]
     },
     "metadata": {},
     "output_type": "display_data"
    },
    {
     "data": {
      "text/html": [
       "<span class=\"tex2jax_ignore\"><div class=\"entities\" style=\"line-height: 2.5; direction: ltr\">Granola Bites \n",
       "<mark class=\"entity\" style=\"background: #ddd; padding: 0.45em 0.6em; margin: 0 0.25em; line-height: 1; border-radius: 0.35em;\">\n",
       "    Blueberry\n",
       "    <span style=\"font-size: 0.8em; font-weight: bold; line-height: 1; border-radius: 0.35em; text-transform: uppercase; vertical-align: middle; margin-left: 0.5rem\">COLOR</span>\n",
       "</mark>\n",
       " \n",
       "<mark class=\"entity\" style=\"background: #ddd; padding: 0.45em 0.6em; margin: 0 0.25em; line-height: 1; border-radius: 0.35em;\">\n",
       "    35g\n",
       "    <span style=\"font-size: 0.8em; font-weight: bold; line-height: 1; border-radius: 0.35em; text-transform: uppercase; vertical-align: middle; margin-left: 0.5rem\">SIZE</span>\n",
       "</mark>\n",
       " - 37% alennus</div></span>"
      ],
      "text/plain": [
       "<IPython.core.display.HTML object>"
      ]
     },
     "metadata": {},
     "output_type": "display_data"
    },
    {
     "data": {
      "text/html": [
       "<span class=\"tex2jax_ignore\"><div class=\"entities\" style=\"line-height: 2.5; direction: ltr\">Lwtonja \n",
       "<mark class=\"entity\" style=\"background: #ddd; padding: 0.45em 0.6em; margin: 0 0.25em; line-height: 1; border-radius: 0.35em;\">\n",
       "    300\n",
       "    <span style=\"font-size: 0.8em; font-weight: bold; line-height: 1; border-radius: 0.35em; text-transform: uppercase; vertical-align: middle; margin-left: 0.5rem\">SIZE</span>\n",
       "</mark>\n",
       " - T Shirt \n",
       "<mark class=\"entity\" style=\"background: #ddd; padding: 0.45em 0.6em; margin: 0 0.25em; line-height: 1; border-radius: 0.35em;\">\n",
       "    S/S\n",
       "    <span style=\"font-size: 0.8em; font-weight: bold; line-height: 1; border-radius: 0.35em; text-transform: uppercase; vertical-align: middle; margin-left: 0.5rem\">SIZE</span>\n",
       "</mark>\n",
       " T-shirts Short-sleeved \n",
       "<mark class=\"entity\" style=\"background: #ddd; padding: 0.45em 0.6em; margin: 0 0.25em; line-height: 1; border-radius: 0.35em;\">\n",
       "    Harmaa\n",
       "    <span style=\"font-size: 0.8em; font-weight: bold; line-height: 1; border-radius: 0.35em; text-transform: uppercase; vertical-align: middle; margin-left: 0.5rem\">COLOR</span>\n",
       "</mark>\n",
       " Lego Wear</div></span>"
      ],
      "text/plain": [
       "<IPython.core.display.HTML object>"
      ]
     },
     "metadata": {},
     "output_type": "display_data"
    },
    {
     "data": {
      "text/html": [
       "<span class=\"tex2jax_ignore\"><div class=\"entities\" style=\"line-height: 2.5; direction: ltr\">\n",
       "<mark class=\"entity\" style=\"background: #ddd; padding: 0.45em 0.6em; margin: 0 0.25em; line-height: 1; border-radius: 0.35em;\">\n",
       "    Voxicon\n",
       "    <span style=\"font-size: 0.8em; font-weight: bold; line-height: 1; border-radius: 0.35em; text-transform: uppercase; vertical-align: middle; margin-left: 0.5rem\">BRAND</span>\n",
       "</mark>\n",
       " P30 30w</div></span>"
      ],
      "text/plain": [
       "<IPython.core.display.HTML object>"
      ]
     },
     "metadata": {},
     "output_type": "display_data"
    },
    {
     "data": {
      "text/html": [
       "<span class=\"tex2jax_ignore\"><div class=\"entities\" style=\"line-height: 2.5; direction: ltr\">\n",
       "<mark class=\"entity\" style=\"background: #ddd; padding: 0.45em 0.6em; margin: 0 0.25em; line-height: 1; border-radius: 0.35em;\">\n",
       "    MyDay\n",
       "    <span style=\"font-size: 0.8em; font-weight: bold; line-height: 1; border-radius: 0.35em; text-transform: uppercase; vertical-align: middle; margin-left: 0.5rem\">BRAND</span>\n",
       "</mark>\n",
       " Daily Toric \n",
       "<mark class=\"entity\" style=\"background: #ddd; padding: 0.45em 0.6em; margin: 0 0.25em; line-height: 1; border-radius: 0.35em;\">\n",
       "    90\n",
       "    <span style=\"font-size: 0.8em; font-weight: bold; line-height: 1; border-radius: 0.35em; text-transform: uppercase; vertical-align: middle; margin-left: 0.5rem\">SIZE</span>\n",
       "</mark>\n",
       " Pack Piilolinssit</div></span>"
      ],
      "text/plain": [
       "<IPython.core.display.HTML object>"
      ]
     },
     "metadata": {},
     "output_type": "display_data"
    },
    {
     "data": {
      "text/html": [
       "<span class=\"tex2jax_ignore\"><div class=\"entities\" style=\"line-height: 2.5; direction: ltr\">Sandaalit melissa mar sandal + salinas \n",
       "<mark class=\"entity\" style=\"background: #ddd; padding: 0.45em 0.6em; margin: 0 0.25em; line-height: 1; border-radius: 0.35em;\">\n",
       "    black\n",
       "    <span style=\"font-size: 0.8em; font-weight: bold; line-height: 1; border-radius: 0.35em; text-transform: uppercase; vertical-align: middle; margin-left: 0.5rem\">COLOR</span>\n",
       "</mark>\n",
       " saatavana \n",
       "<mark class=\"entity\" style=\"background: #ddd; padding: 0.45em 0.6em; margin: 0 0.25em; line-height: 1; border-radius: 0.35em;\">\n",
       "    naisten\n",
       "    <span style=\"font-size: 0.8em; font-weight: bold; line-height: 1; border-radius: 0.35em; text-transform: uppercase; vertical-align: middle; margin-left: 0.5rem\">GENDER</span>\n",
       "</mark>\n",
       " kokoja \n",
       "<mark class=\"entity\" style=\"background: #ddd; padding: 0.45em 0.6em; margin: 0 0.25em; line-height: 1; border-radius: 0.35em;\">\n",
       "    35 / 36\n",
       "    <span style=\"font-size: 0.8em; font-weight: bold; line-height: 1; border-radius: 0.35em; text-transform: uppercase; vertical-align: middle; margin-left: 0.5rem\">SIZE</span>\n",
       "</mark>\n",
       "</div></span>"
      ],
      "text/plain": [
       "<IPython.core.display.HTML object>"
      ]
     },
     "metadata": {},
     "output_type": "display_data"
    },
    {
     "data": {
      "text/html": [
       "<span class=\"tex2jax_ignore\"><div class=\"entities\" style=\"line-height: 2.5; direction: ltr\">\n",
       "<mark class=\"entity\" style=\"background: #ddd; padding: 0.45em 0.6em; margin: 0 0.25em; line-height: 1; border-radius: 0.35em;\">\n",
       "    Diesel Women\n",
       "    <span style=\"font-size: 0.8em; font-weight: bold; line-height: 1; border-radius: 0.35em; text-transform: uppercase; vertical-align: middle; margin-left: 0.5rem\">BRAND</span>\n",
       "</mark>\n",
       " Ufst-Stars-Threepack Stri</div></span>"
      ],
      "text/plain": [
       "<IPython.core.display.HTML object>"
      ]
     },
     "metadata": {},
     "output_type": "display_data"
    },
    {
     "data": {
      "text/html": [
       "<span class=\"tex2jax_ignore\"><div class=\"entities\" style=\"line-height: 2.5; direction: ltr\">Kengät metamorf'ose elamera kulta saatavana \n",
       "<mark class=\"entity\" style=\"background: #ddd; padding: 0.45em 0.6em; margin: 0 0.25em; line-height: 1; border-radius: 0.35em;\">\n",
       "    naisten\n",
       "    <span style=\"font-size: 0.8em; font-weight: bold; line-height: 1; border-radius: 0.35em; text-transform: uppercase; vertical-align: middle; margin-left: 0.5rem\">GENDER</span>\n",
       "</mark>\n",
       " kokoja \n",
       "<mark class=\"entity\" style=\"background: #ddd; padding: 0.45em 0.6em; margin: 0 0.25em; line-height: 1; border-radius: 0.35em;\">\n",
       "    36\n",
       "    <span style=\"font-size: 0.8em; font-weight: bold; line-height: 1; border-radius: 0.35em; text-transform: uppercase; vertical-align: middle; margin-left: 0.5rem\">SIZE</span>\n",
       "</mark>\n",
       "</div></span>"
      ],
      "text/plain": [
       "<IPython.core.display.HTML object>"
      ]
     },
     "metadata": {},
     "output_type": "display_data"
    },
    {
     "data": {
      "text/html": [
       "<span class=\"tex2jax_ignore\"><div class=\"entities\" style=\"line-height: 2.5; direction: ltr\">Urheiluvarusteet kaps block do zamszu i nubuku 020084 multicolour saatavana \n",
       "<mark class=\"entity\" style=\"background: #ddd; padding: 0.45em 0.6em; margin: 0 0.25em; line-height: 1; border-radius: 0.35em;\">\n",
       "    naisten\n",
       "    <span style=\"font-size: 0.8em; font-weight: bold; line-height: 1; border-radius: 0.35em; text-transform: uppercase; vertical-align: middle; margin-left: 0.5rem\">GENDER</span>\n",
       "</mark>\n",
       " kokoja \n",
       "<mark class=\"entity\" style=\"background: #ddd; padding: 0.45em 0.6em; margin: 0 0.25em; line-height: 1; border-radius: 0.35em;\">\n",
       "    yksi koko\n",
       "    <span style=\"font-size: 0.8em; font-weight: bold; line-height: 1; border-radius: 0.35em; text-transform: uppercase; vertical-align: middle; margin-left: 0.5rem\">SIZE</span>\n",
       "</mark>\n",
       "</div></span>"
      ],
      "text/plain": [
       "<IPython.core.display.HTML object>"
      ]
     },
     "metadata": {},
     "output_type": "display_data"
    },
    {
     "data": {
      "text/html": [
       "<span class=\"tex2jax_ignore\"><div class=\"entities\" style=\"line-height: 2.5; direction: ltr\">PEAK DESIGN Everyday Sling 3L v2 \n",
       "<mark class=\"entity\" style=\"background: #ddd; padding: 0.45em 0.6em; margin: 0 0.25em; line-height: 1; border-radius: 0.35em;\">\n",
       "    Black\n",
       "    <span style=\"font-size: 0.8em; font-weight: bold; line-height: 1; border-radius: 0.35em; text-transform: uppercase; vertical-align: middle; margin-left: 0.5rem\">COLOR</span>\n",
       "</mark>\n",
       "</div></span>"
      ],
      "text/plain": [
       "<IPython.core.display.HTML object>"
      ]
     },
     "metadata": {},
     "output_type": "display_data"
    },
    {
     "data": {
      "text/html": [
       "<span class=\"tex2jax_ignore\"><div class=\"entities\" style=\"line-height: 2.5; direction: ltr\">\n",
       "<mark class=\"entity\" style=\"background: #ddd; padding: 0.45em 0.6em; margin: 0 0.25em; line-height: 1; border-radius: 0.35em;\">\n",
       "    Philip B\n",
       "    <span style=\"font-size: 0.8em; font-weight: bold; line-height: 1; border-radius: 0.35em; text-transform: uppercase; vertical-align: middle; margin-left: 0.5rem\">BRAND</span>\n",
       "</mark>\n",
       " Peppermint&amp; Avocado Shampoo \n",
       "<mark class=\"entity\" style=\"background: #ddd; padding: 0.45em 0.6em; margin: 0 0.25em; line-height: 1; border-radius: 0.35em;\">\n",
       "    60 ml\n",
       "    <span style=\"font-size: 0.8em; font-weight: bold; line-height: 1; border-radius: 0.35em; text-transform: uppercase; vertical-align: middle; margin-left: 0.5rem\">SIZE</span>\n",
       "</mark>\n",
       "</div></span>"
      ],
      "text/plain": [
       "<IPython.core.display.HTML object>"
      ]
     },
     "metadata": {},
     "output_type": "display_data"
    },
    {
     "data": {
      "text/html": [
       "<span class=\"tex2jax_ignore\"><div class=\"entities\" style=\"line-height: 2.5; direction: ltr\">Kuorintaveitsi \n",
       "<mark class=\"entity\" style=\"background: #ddd; padding: 0.45em 0.6em; margin: 0 0.25em; line-height: 1; border-radius: 0.35em;\">\n",
       "    9 cm\n",
       "    <span style=\"font-size: 0.8em; font-weight: bold; line-height: 1; border-radius: 0.35em; text-transform: uppercase; vertical-align: middle; margin-left: 0.5rem\">SIZE</span>\n",
       "</mark>\n",
       " \n",
       "<mark class=\"entity\" style=\"background: #ddd; padding: 0.45em 0.6em; margin: 0 0.25em; line-height: 1; border-radius: 0.35em;\">\n",
       "    Tammi/Messinki\n",
       "    <span style=\"font-size: 0.8em; font-weight: bold; line-height: 1; border-radius: 0.35em; text-transform: uppercase; vertical-align: middle; margin-left: 0.5rem\">COLOR</span>\n",
       "</mark>\n",
       "</div></span>"
      ],
      "text/plain": [
       "<IPython.core.display.HTML object>"
      ]
     },
     "metadata": {},
     "output_type": "display_data"
    },
    {
     "data": {
      "text/html": [
       "<span class=\"tex2jax_ignore\"><div class=\"entities\" style=\"line-height: 2.5; direction: ltr\">Korkokengät \n",
       "<mark class=\"entity\" style=\"background: #ddd; padding: 0.45em 0.6em; margin: 0 0.25em; line-height: 1; border-radius: 0.35em;\">\n",
       "    Lipsy\n",
       "    <span style=\"font-size: 0.8em; font-weight: bold; line-height: 1; border-radius: 0.35em; text-transform: uppercase; vertical-align: middle; margin-left: 0.5rem\">BRAND</span>\n",
       "</mark>\n",
       "  SABRINA</div></span>"
      ],
      "text/plain": [
       "<IPython.core.display.HTML object>"
      ]
     },
     "metadata": {},
     "output_type": "display_data"
    },
    {
     "data": {
      "text/html": [
       "<span class=\"tex2jax_ignore\"><div class=\"entities\" style=\"line-height: 2.5; direction: ltr\">\n",
       "<mark class=\"entity\" style=\"background: #ddd; padding: 0.45em 0.6em; margin: 0 0.25em; line-height: 1; border-radius: 0.35em;\">\n",
       "    HooÄssä\n",
       "    <span style=\"font-size: 0.8em; font-weight: bold; line-height: 1; border-radius: 0.35em; text-transform: uppercase; vertical-align: middle; margin-left: 0.5rem\">BRAND</span>\n",
       "</mark>\n",
       " pilkkijigipää 2 kpl/pkt</div></span>"
      ],
      "text/plain": [
       "<IPython.core.display.HTML object>"
      ]
     },
     "metadata": {},
     "output_type": "display_data"
    },
    {
     "data": {
      "text/html": [
       "<span class=\"tex2jax_ignore\"><div class=\"entities\" style=\"line-height: 2.5; direction: ltr\">PanzerGlass SPRAY Twice A Day \n",
       "<mark class=\"entity\" style=\"background: #ddd; padding: 0.45em 0.6em; margin: 0 0.25em; line-height: 1; border-radius: 0.35em;\">\n",
       "    8 ml\n",
       "    <span style=\"font-size: 0.8em; font-weight: bold; line-height: 1; border-radius: 0.35em; text-transform: uppercase; vertical-align: middle; margin-left: 0.5rem\">SIZE</span>\n",
       "</mark>\n",
       " + \n",
       "<mark class=\"entity\" style=\"background: #ddd; padding: 0.45em 0.6em; margin: 0 0.25em; line-height: 1; border-radius: 0.35em;\">\n",
       "    100 ml\n",
       "    <span style=\"font-size: 0.8em; font-weight: bold; line-height: 1; border-radius: 0.35em; text-transform: uppercase; vertical-align: middle; margin-left: 0.5rem\">SIZE</span>\n",
       "</mark>\n",
       " (Bundle)</div></span>"
      ],
      "text/plain": [
       "<IPython.core.display.HTML object>"
      ]
     },
     "metadata": {},
     "output_type": "display_data"
    },
    {
     "data": {
      "text/html": [
       "<span class=\"tex2jax_ignore\"><div class=\"entities\" style=\"line-height: 2.5; direction: ltr\">Makeiset \n",
       "<mark class=\"entity\" style=\"background: #ddd; padding: 0.45em 0.6em; margin: 0 0.25em; line-height: 1; border-radius: 0.35em;\">\n",
       "    Extreme\n",
       "    <span style=\"font-size: 0.8em; font-weight: bold; line-height: 1; border-radius: 0.35em; text-transform: uppercase; vertical-align: middle; margin-left: 0.5rem\">BRAND</span>\n",
       "</mark>\n",
       " Sour - 50% alennus</div></span>"
      ],
      "text/plain": [
       "<IPython.core.display.HTML object>"
      ]
     },
     "metadata": {},
     "output_type": "display_data"
    },
    {
     "data": {
      "text/html": [
       "<span class=\"tex2jax_ignore\"><div class=\"entities\" style=\"line-height: 2.5; direction: ltr\">\n",
       "<mark class=\"entity\" style=\"background: #ddd; padding: 0.45em 0.6em; margin: 0 0.25em; line-height: 1; border-radius: 0.35em;\">\n",
       "    Nixon\n",
       "    <span style=\"font-size: 0.8em; font-weight: bold; line-height: 1; border-radius: 0.35em; text-transform: uppercase; vertical-align: middle; margin-left: 0.5rem\">BRAND</span>\n",
       "</mark>\n",
       " The Rollo \n",
       "<mark class=\"entity\" style=\"background: #ddd; padding: 0.45em 0.6em; margin: 0 0.25em; line-height: 1; border-radius: 0.35em;\">\n",
       "    Miesten\n",
       "    <span style=\"font-size: 0.8em; font-weight: bold; line-height: 1; border-radius: 0.35em; text-transform: uppercase; vertical-align: middle; margin-left: 0.5rem\">GENDER</span>\n",
       "</mark>\n",
       " kello A9451854-00 \n",
       "<mark class=\"entity\" style=\"background: #ddd; padding: 0.45em 0.6em; margin: 0 0.25em; line-height: 1; border-radius: 0.35em;\">\n",
       "    Valkoinen/Nahka\n",
       "    <span style=\"font-size: 0.8em; font-weight: bold; line-height: 1; border-radius: 0.35em; text-transform: uppercase; vertical-align: middle; margin-left: 0.5rem\">COLOR</span>\n",
       "</mark>\n",
       " \n",
       "<mark class=\"entity\" style=\"background: #ddd; padding: 0.45em 0.6em; margin: 0 0.25em; line-height: 1; border-radius: 0.35em;\">\n",
       "    Ø42 mm\n",
       "    <span style=\"font-size: 0.8em; font-weight: bold; line-height: 1; border-radius: 0.35em; text-transform: uppercase; vertical-align: middle; margin-left: 0.5rem\">SIZE</span>\n",
       "</mark>\n",
       "</div></span>"
      ],
      "text/plain": [
       "<IPython.core.display.HTML object>"
      ]
     },
     "metadata": {},
     "output_type": "display_data"
    },
    {
     "data": {
      "text/html": [
       "<span class=\"tex2jax_ignore\"><div class=\"entities\" style=\"line-height: 2.5; direction: ltr\">Magneettilista \n",
       "<mark class=\"entity\" style=\"background: #ddd; padding: 0.45em 0.6em; margin: 0 0.25em; line-height: 1; border-radius: 0.35em;\">\n",
       "    49cm\n",
       "    <span style=\"font-size: 0.8em; font-weight: bold; line-height: 1; border-radius: 0.35em; text-transform: uppercase; vertical-align: middle; margin-left: 0.5rem\">SIZE</span>\n",
       "</mark>\n",
       "</div></span>"
      ],
      "text/plain": [
       "<IPython.core.display.HTML object>"
      ]
     },
     "metadata": {},
     "output_type": "display_data"
    },
    {
     "data": {
      "text/html": [
       "<span class=\"tex2jax_ignore\"><div class=\"entities\" style=\"line-height: 2.5; direction: ltr\">\n",
       "<mark class=\"entity\" style=\"background: #ddd; padding: 0.45em 0.6em; margin: 0 0.25em; line-height: 1; border-radius: 0.35em;\">\n",
       "    Arppe\n",
       "    <span style=\"font-size: 0.8em; font-weight: bold; line-height: 1; border-radius: 0.35em; text-transform: uppercase; vertical-align: middle; margin-left: 0.5rem\">BRAND</span>\n",
       "</mark>\n",
       " Cuna Nido peti</div></span>"
      ],
      "text/plain": [
       "<IPython.core.display.HTML object>"
      ]
     },
     "metadata": {},
     "output_type": "display_data"
    },
    {
     "data": {
      "text/html": [
       "<span class=\"tex2jax_ignore\"><div class=\"entities\" style=\"line-height: 2.5; direction: ltr\">\n",
       "<mark class=\"entity\" style=\"background: #ddd; padding: 0.45em 0.6em; margin: 0 0.25em; line-height: 1; border-radius: 0.35em;\">\n",
       "    Primos\n",
       "    <span style=\"font-size: 0.8em; font-weight: bold; line-height: 1; border-radius: 0.35em; text-transform: uppercase; vertical-align: middle; margin-left: 0.5rem\">BRAND</span>\n",
       "</mark>\n",
       " StakeOut blind* Tuotteessa integroidut lasikuituiset tukikepit* Kosteutta hylkivä materiaali* 3D MossyOak kuvioleikkaus, kestävä kangas* Mitat: \n",
       "<mark class=\"entity\" style=\"background: #ddd; padding: 0.45em 0.6em; margin: 0 0.25em; line-height: 1; border-radius: 0.35em;\">\n",
       "    0,7 x 3,6 m\n",
       "    <span style=\"font-size: 0.8em; font-weight: bold; line-height: 1; border-radius: 0.35em; text-transform: uppercase; vertical-align: middle; margin-left: 0.5rem\">SIZE</span>\n",
       "</mark>\n",
       "</div></span>"
      ],
      "text/plain": [
       "<IPython.core.display.HTML object>"
      ]
     },
     "metadata": {},
     "output_type": "display_data"
    },
    {
     "data": {
      "text/html": [
       "<span class=\"tex2jax_ignore\"><div class=\"entities\" style=\"line-height: 2.5; direction: ltr\">Nicole Falciani x \n",
       "<mark class=\"entity\" style=\"background: #ddd; padding: 0.45em 0.6em; margin: 0 0.25em; line-height: 1; border-radius: 0.35em;\">\n",
       "    Bubbleroom\n",
       "    <span style=\"font-size: 0.8em; font-weight: bold; line-height: 1; border-radius: 0.35em; text-transform: uppercase; vertical-align: middle; margin-left: 0.5rem\">BRAND</span>\n",
       "</mark>\n",
       " naisellinen sifonkimekko  - Ohutta ja joustamatonta sifonkia - Vuori pehmeää jerseytä - Selässä syvä pääntie - Vyötäröllä joustamaton nauha  - Etuosassa upeat laskokset Vaatteen pituus olalta: \n",
       "<mark class=\"entity\" style=\"background: #ddd; padding: 0.45em 0.6em; margin: 0 0.25em; line-height: 1; border-radius: 0.35em;\">\n",
       "    154 cm\n",
       "    <span style=\"font-size: 0.8em; font-weight: bold; line-height: 1; border-radius: 0.35em; text-transform: uppercase; vertical-align: middle; margin-left: 0.5rem\">SIZE</span>\n",
       "</mark>\n",
       " koossa \n",
       "<mark class=\"entity\" style=\"background: #ddd; padding: 0.45em 0.6em; margin: 0 0.25em; line-height: 1; border-radius: 0.35em;\">\n",
       "    36\n",
       "    <span style=\"font-size: 0.8em; font-weight: bold; line-height: 1; border-radius: 0.35em; text-transform: uppercase; vertical-align: middle; margin-left: 0.5rem\">SIZE</span>\n",
       "</mark>\n",
       " - Vyötärönympärys: \n",
       "<mark class=\"entity\" style=\"background: #ddd; padding: 0.45em 0.6em; margin: 0 0.25em; line-height: 1; border-radius: 0.35em;\">\n",
       "    67 cm\n",
       "    <span style=\"font-size: 0.8em; font-weight: bold; line-height: 1; border-radius: 0.35em; text-transform: uppercase; vertical-align: middle; margin-left: 0.5rem\">SIZE</span>\n",
       "</mark>\n",
       " koossa 36</div></span>"
      ],
      "text/plain": [
       "<IPython.core.display.HTML object>"
      ]
     },
     "metadata": {},
     "output_type": "display_data"
    },
    {
     "data": {
      "text/html": [
       "<span class=\"tex2jax_ignore\"><div class=\"entities\" style=\"line-height: 2.5; direction: ltr\">Kuvailu MOSS COPENHAGEN -mekko Väljä malli 3/4-hihat ja nappi hihansuissa Korostettu vyötärö Pituus n. \n",
       "<mark class=\"entity\" style=\"background: #ddd; padding: 0.45em 0.6em; margin: 0 0.25em; line-height: 1; border-radius: 0.35em;\">\n",
       "    105 cm\n",
       "    <span style=\"font-size: 0.8em; font-weight: bold; line-height: 1; border-radius: 0.35em; text-transform: uppercase; vertical-align: middle; margin-left: 0.5rem\">SIZE</span>\n",
       "</mark>\n",
       " koossa S Materiaali ja hoito Materiaali 100% \n",
       "<mark class=\"entity\" style=\"background: #ddd; padding: 0.45em 0.6em; margin: 0 0.25em; line-height: 1; border-radius: 0.35em;\">\n",
       "    Puuvilla\n",
       "    <span style=\"font-size: 0.8em; font-weight: bold; line-height: 1; border-radius: 0.35em; text-transform: uppercase; vertical-align: middle; margin-left: 0.5rem\">MATERIAL</span>\n",
       "</mark>\n",
       " Yksityiskohtia Merkki: MOSS COPENHAGEN Väri: Travertine Tuotenro: 168782-5901 Vaatteet / Mekot / Väljät mekot Malli on \n",
       "<mark class=\"entity\" style=\"background: #ddd; padding: 0.45em 0.6em; margin: 0 0.25em; line-height: 1; border-radius: 0.35em;\">\n",
       "    174 cm\n",
       "    <span style=\"font-size: 0.8em; font-weight: bold; line-height: 1; border-radius: 0.35em; text-transform: uppercase; vertical-align: middle; margin-left: 0.5rem\">SIZE</span>\n",
       "</mark>\n",
       " pitkä ja käyttää kokoa \n",
       "<mark class=\"entity\" style=\"background: #ddd; padding: 0.45em 0.6em; margin: 0 0.25em; line-height: 1; border-radius: 0.35em;\">\n",
       "    Small.\n",
       "    <span style=\"font-size: 0.8em; font-weight: bold; line-height: 1; border-radius: 0.35em; text-transform: uppercase; vertical-align: middle; margin-left: 0.5rem\">SIZE</span>\n",
       "</mark>\n",
       " Lataa lehdistökuva</div></span>"
      ],
      "text/plain": [
       "<IPython.core.display.HTML object>"
      ]
     },
     "metadata": {},
     "output_type": "display_data"
    },
    {
     "data": {
      "text/html": [
       "<span class=\"tex2jax_ignore\"><div class=\"entities\" style=\"line-height: 2.5; direction: ltr\">\n",
       "<mark class=\"entity\" style=\"background: #ddd; padding: 0.45em 0.6em; margin: 0 0.25em; line-height: 1; border-radius: 0.35em;\">\n",
       "    Trazano\n",
       "    <span style=\"font-size: 0.8em; font-weight: bold; line-height: 1; border-radius: 0.35em; text-transform: uppercase; vertical-align: middle; margin-left: 0.5rem\">BRAND</span>\n",
       "</mark>\n",
       " ZuperEco Z-107 ( 185/55 R15 82V )</div></span>"
      ],
      "text/plain": [
       "<IPython.core.display.HTML object>"
      ]
     },
     "metadata": {},
     "output_type": "display_data"
    },
    {
     "data": {
      "text/html": [
       "<span class=\"tex2jax_ignore\"><div class=\"entities\" style=\"line-height: 2.5; direction: ltr\">FREE/QUENT. Etupituus: \n",
       "<mark class=\"entity\" style=\"background: #ddd; padding: 0.45em 0.6em; margin: 0 0.25em; line-height: 1; border-radius: 0.35em;\">\n",
       "    62 cm.\n",
       "    <span style=\"font-size: 0.8em; font-weight: bold; line-height: 1; border-radius: 0.35em; text-transform: uppercase; vertical-align: middle; margin-left: 0.5rem\">SIZE</span>\n",
       "</mark>\n",
       " Takapituus: 62 cm.</div></span>"
      ],
      "text/plain": [
       "<IPython.core.display.HTML object>"
      ]
     },
     "metadata": {},
     "output_type": "display_data"
    },
    {
     "data": {
      "text/html": [
       "<span class=\"tex2jax_ignore\"><div class=\"entities\" style=\"line-height: 2.5; direction: ltr\">Pitkähihainen paitapusero les voiles de st tropez acoupa \n",
       "<mark class=\"entity\" style=\"background: #ddd; padding: 0.45em 0.6em; margin: 0 0.25em; line-height: 1; border-radius: 0.35em;\">\n",
       "    blue\n",
       "    <span style=\"font-size: 0.8em; font-weight: bold; line-height: 1; border-radius: 0.35em; text-transform: uppercase; vertical-align: middle; margin-left: 0.5rem\">COLOR</span>\n",
       "</mark>\n",
       " saatavana \n",
       "<mark class=\"entity\" style=\"background: #ddd; padding: 0.45em 0.6em; margin: 0 0.25em; line-height: 1; border-radius: 0.35em;\">\n",
       "    miesten\n",
       "    <span style=\"font-size: 0.8em; font-weight: bold; line-height: 1; border-radius: 0.35em; text-transform: uppercase; vertical-align: middle; margin-left: 0.5rem\">GENDER</span>\n",
       "</mark>\n",
       " kokoja s</div></span>"
      ],
      "text/plain": [
       "<IPython.core.display.HTML object>"
      ]
     },
     "metadata": {},
     "output_type": "display_data"
    },
    {
     "data": {
      "text/html": [
       "<span class=\"tex2jax_ignore\"><div class=\"entities\" style=\"line-height: 2.5; direction: ltr\">Filling Pieces. Ylä: 100% \n",
       "<mark class=\"entity\" style=\"background: #ddd; padding: 0.45em 0.6em; margin: 0 0.25em; line-height: 1; border-radius: 0.35em;\">\n",
       "    polyesteri.\n",
       "    <span style=\"font-size: 0.8em; font-weight: bold; line-height: 1; border-radius: 0.35em; text-transform: uppercase; vertical-align: middle; margin-left: 0.5rem\">MATERIAL</span>\n",
       "</mark>\n",
       " Ylävuori: 90% \n",
       "<mark class=\"entity\" style=\"background: #ddd; padding: 0.45em 0.6em; margin: 0 0.25em; line-height: 1; border-radius: 0.35em;\">\n",
       "    lehmännahka,\n",
       "    <span style=\"font-size: 0.8em; font-weight: bold; line-height: 1; border-radius: 0.35em; text-transform: uppercase; vertical-align: middle; margin-left: 0.5rem\">MATERIAL</span>\n",
       "</mark>\n",
       " 10% polyesteri. Pohjallinen: 100% \n",
       "<mark class=\"entity\" style=\"background: #ddd; padding: 0.45em 0.6em; margin: 0 0.25em; line-height: 1; border-radius: 0.35em;\">\n",
       "    siannahka.\n",
       "    <span style=\"font-size: 0.8em; font-weight: bold; line-height: 1; border-radius: 0.35em; text-transform: uppercase; vertical-align: middle; margin-left: 0.5rem\">MATERIAL</span>\n",
       "</mark>\n",
       " Ulkopohja: 100% \n",
       "<mark class=\"entity\" style=\"background: #ddd; padding: 0.45em 0.6em; margin: 0 0.25em; line-height: 1; border-radius: 0.35em;\">\n",
       "    kumi.\n",
       "    <span style=\"font-size: 0.8em; font-weight: bold; line-height: 1; border-radius: 0.35em; text-transform: uppercase; vertical-align: middle; margin-left: 0.5rem\">MATERIAL</span>\n",
       "</mark>\n",
       " Moderni tvisti sporttisessa klassikossa. Tyylikäs ja käytännöllinen. Valmistettu  Portugali.</div></span>"
      ],
      "text/plain": [
       "<IPython.core.display.HTML object>"
      ]
     },
     "metadata": {},
     "output_type": "display_data"
    },
    {
     "data": {
      "text/html": [
       "<span class=\"tex2jax_ignore\"><div class=\"entities\" style=\"line-height: 2.5; direction: ltr\">Lovechild 1979. A-linjainen. Etupituus: \n",
       "<mark class=\"entity\" style=\"background: #ddd; padding: 0.45em 0.6em; margin: 0 0.25em; line-height: 1; border-radius: 0.35em;\">\n",
       "    77 cm.\n",
       "    <span style=\"font-size: 0.8em; font-weight: bold; line-height: 1; border-radius: 0.35em; text-transform: uppercase; vertical-align: middle; margin-left: 0.5rem\">SIZE</span>\n",
       "</mark>\n",
       " Takapituus: 77 cm.</div></span>"
      ],
      "text/plain": [
       "<IPython.core.display.HTML object>"
      ]
     },
     "metadata": {},
     "output_type": "display_data"
    },
    {
     "data": {
      "text/html": [
       "<span class=\"tex2jax_ignore\"><div class=\"entities\" style=\"line-height: 2.5; direction: ltr\">\n",
       "<mark class=\"entity\" style=\"background: #ddd; padding: 0.45em 0.6em; margin: 0 0.25em; line-height: 1; border-radius: 0.35em;\">\n",
       "    Glitza\n",
       "    <span style=\"font-size: 0.8em; font-weight: bold; line-height: 1; border-radius: 0.35em; text-transform: uppercase; vertical-align: middle; margin-left: 0.5rem\">BRAND</span>\n",
       "</mark>\n",
       " Muumit Deluxe</div></span>"
      ],
      "text/plain": [
       "<IPython.core.display.HTML object>"
      ]
     },
     "metadata": {},
     "output_type": "display_data"
    },
    {
     "data": {
      "text/html": [
       "<span class=\"tex2jax_ignore\"><div class=\"entities\" style=\"line-height: 2.5; direction: ltr\">\n",
       "<mark class=\"entity\" style=\"background: #ddd; padding: 0.45em 0.6em; margin: 0 0.25em; line-height: 1; border-radius: 0.35em;\">\n",
       "    Color kids\n",
       "    <span style=\"font-size: 0.8em; font-weight: bold; line-height: 1; border-radius: 0.35em; text-transform: uppercase; vertical-align: middle; margin-left: 0.5rem\">BRAND</span>\n",
       "</mark>\n",
       " Sanglo Ski Pants</div></span>"
      ],
      "text/plain": [
       "<IPython.core.display.HTML object>"
      ]
     },
     "metadata": {},
     "output_type": "display_data"
    },
    {
     "data": {
      "text/html": [
       "<span class=\"tex2jax_ignore\"><div class=\"entities\" style=\"line-height: 2.5; direction: ltr\">Kengät dorking brako \n",
       "<mark class=\"entity\" style=\"background: #ddd; padding: 0.45em 0.6em; margin: 0 0.25em; line-height: 1; border-radius: 0.35em;\">\n",
       "    grey\n",
       "    <span style=\"font-size: 0.8em; font-weight: bold; line-height: 1; border-radius: 0.35em; text-transform: uppercase; vertical-align: middle; margin-left: 0.5rem\">COLOR</span>\n",
       "</mark>\n",
       " saatavana \n",
       "<mark class=\"entity\" style=\"background: #ddd; padding: 0.45em 0.6em; margin: 0 0.25em; line-height: 1; border-radius: 0.35em;\">\n",
       "    naisten\n",
       "    <span style=\"font-size: 0.8em; font-weight: bold; line-height: 1; border-radius: 0.35em; text-transform: uppercase; vertical-align: middle; margin-left: 0.5rem\">GENDER</span>\n",
       "</mark>\n",
       " kokoja \n",
       "<mark class=\"entity\" style=\"background: #ddd; padding: 0.45em 0.6em; margin: 0 0.25em; line-height: 1; border-radius: 0.35em;\">\n",
       "    38,39,41,35\n",
       "    <span style=\"font-size: 0.8em; font-weight: bold; line-height: 1; border-radius: 0.35em; text-transform: uppercase; vertical-align: middle; margin-left: 0.5rem\">SIZE</span>\n",
       "</mark>\n",
       "</div></span>"
      ],
      "text/plain": [
       "<IPython.core.display.HTML object>"
      ]
     },
     "metadata": {},
     "output_type": "display_data"
    },
    {
     "data": {
      "text/html": [
       "<span class=\"tex2jax_ignore\"><div class=\"entities\" style=\"line-height: 2.5; direction: ltr\">Hihallinen pitsimekko \n",
       "<mark class=\"entity\" style=\"background: #ddd; padding: 0.45em 0.6em; margin: 0 0.25em; line-height: 1; border-radius: 0.35em;\">\n",
       "    Laura Kent\n",
       "    <span style=\"font-size: 0.8em; font-weight: bold; line-height: 1; border-radius: 0.35em; text-transform: uppercase; vertical-align: middle; margin-left: 0.5rem\">BRAND</span>\n",
       "</mark>\n",
       " \n",
       "<mark class=\"entity\" style=\"background: #ddd; padding: 0.45em 0.6em; margin: 0 0.25em; line-height: 1; border-radius: 0.35em;\">\n",
       "    Valkoinen\n",
       "    <span style=\"font-size: 0.8em; font-weight: bold; line-height: 1; border-radius: 0.35em; text-transform: uppercase; vertical-align: middle; margin-left: 0.5rem\">COLOR</span>\n",
       "</mark>\n",
       "</div></span>"
      ],
      "text/plain": [
       "<IPython.core.display.HTML object>"
      ]
     },
     "metadata": {},
     "output_type": "display_data"
    },
    {
     "data": {
      "text/html": [
       "<span class=\"tex2jax_ignore\"><div class=\"entities\" style=\"line-height: 2.5; direction: ltr\">\n",
       "<mark class=\"entity\" style=\"background: #ddd; padding: 0.45em 0.6em; margin: 0 0.25em; line-height: 1; border-radius: 0.35em;\">\n",
       "    Bulget\n",
       "    <span style=\"font-size: 0.8em; font-weight: bold; line-height: 1; border-radius: 0.35em; text-transform: uppercase; vertical-align: middle; margin-left: 0.5rem\">BRAND</span>\n",
       "</mark>\n",
       " BG1456 Silmälasit. Collection:Men. Kehyksen Väri: Black/Pink. Kehysmateriaali: \n",
       "<mark class=\"entity\" style=\"background: #ddd; padding: 0.45em 0.6em; margin: 0 0.25em; line-height: 1; border-radius: 0.35em;\">\n",
       "    Plastic.\n",
       "    <span style=\"font-size: 0.8em; font-weight: bold; line-height: 1; border-radius: 0.35em; text-transform: uppercase; vertical-align: middle; margin-left: 0.5rem\">MATERIAL</span>\n",
       "</mark>\n",
       " Koko: \n",
       "<mark class=\"entity\" style=\"background: #ddd; padding: 0.45em 0.6em; margin: 0 0.25em; line-height: 1; border-radius: 0.35em;\">\n",
       "    54.\n",
       "    <span style=\"font-size: 0.8em; font-weight: bold; line-height: 1; border-radius: 0.35em; text-transform: uppercase; vertical-align: middle; margin-left: 0.5rem\">SIZE</span>\n",
       "</mark>\n",
       "</div></span>"
      ],
      "text/plain": [
       "<IPython.core.display.HTML object>"
      ]
     },
     "metadata": {},
     "output_type": "display_data"
    },
    {
     "data": {
      "text/html": [
       "<span class=\"tex2jax_ignore\"><div class=\"entities\" style=\"line-height: 2.5; direction: ltr\">\n",
       "<mark class=\"entity\" style=\"background: #ddd; padding: 0.45em 0.6em; margin: 0 0.25em; line-height: 1; border-radius: 0.35em;\">\n",
       "    Bambu\n",
       "    <span style=\"font-size: 0.8em; font-weight: bold; line-height: 1; border-radius: 0.35em; text-transform: uppercase; vertical-align: middle; margin-left: 0.5rem\">BRAND</span>\n",
       "</mark>\n",
       " juustosetti 2 kpl/pkt, \n",
       "<mark class=\"entity\" style=\"background: #ddd; padding: 0.45em 0.6em; margin: 0 0.25em; line-height: 1; border-radius: 0.35em;\">\n",
       "    Lion Sabatier\n",
       "    <span style=\"font-size: 0.8em; font-weight: bold; line-height: 1; border-radius: 0.35em; text-transform: uppercase; vertical-align: middle; margin-left: 0.5rem\">BRAND</span>\n",
       "</mark>\n",
       "</div></span>"
      ],
      "text/plain": [
       "<IPython.core.display.HTML object>"
      ]
     },
     "metadata": {},
     "output_type": "display_data"
    },
    {
     "data": {
      "text/html": [
       "<span class=\"tex2jax_ignore\"><div class=\"entities\" style=\"line-height: 2.5; direction: ltr\">Parkatakki \n",
       "<mark class=\"entity\" style=\"background: #ddd; padding: 0.45em 0.6em; margin: 0 0.25em; line-height: 1; border-radius: 0.35em;\">\n",
       "    School Rag\n",
       "    <span style=\"font-size: 0.8em; font-weight: bold; line-height: 1; border-radius: 0.35em; text-transform: uppercase; vertical-align: middle; margin-left: 0.5rem\">BRAND</span>\n",
       "</mark>\n",
       "  PARKLEY</div></span>"
      ],
      "text/plain": [
       "<IPython.core.display.HTML object>"
      ]
     },
     "metadata": {},
     "output_type": "display_data"
    },
    {
     "data": {
      "text/html": [
       "<span class=\"tex2jax_ignore\"><div class=\"entities\" style=\"line-height: 2.5; direction: ltr\">Pitkähihainen paitapusero \n",
       "<mark class=\"entity\" style=\"background: #ddd; padding: 0.45em 0.6em; margin: 0 0.25em; line-height: 1; border-radius: 0.35em;\">\n",
       "    Energie\n",
       "    <span style=\"font-size: 0.8em; font-weight: bold; line-height: 1; border-radius: 0.35em; text-transform: uppercase; vertical-align: middle; margin-left: 0.5rem\">BRAND</span>\n",
       "</mark>\n",
       "  VETTEL</div></span>"
      ],
      "text/plain": [
       "<IPython.core.display.HTML object>"
      ]
     },
     "metadata": {},
     "output_type": "display_data"
    }
   ],
   "source": [
    "for n in range(0,100):\n",
    "    doc = nlp(TRAIN_DATA[n][0])\n",
    "    spacy.displacy.render(doc, style=\"ent\")"
   ]
  },
  {
   "cell_type": "markdown",
   "metadata": {},
   "source": [
    "### 2) Result on the unseen data"
   ]
  },
  {
   "cell_type": "code",
   "execution_count": 26,
   "metadata": {
    "scrolled": true
   },
   "outputs": [
    {
     "data": {
      "text/html": [
       "<span class=\"tex2jax_ignore\"><div class=\"entities\" style=\"line-height: 2.5; direction: ltr\">G4 PRO \n",
       "<mark class=\"entity\" style=\"background: #ddd; padding: 0.45em 0.6em; margin: 0 0.25em; line-height: 1; border-radius: 0.35em;\">\n",
       "    White\n",
       "    <span style=\"font-size: 0.8em; font-weight: bold; line-height: 1; border-radius: 0.35em; text-transform: uppercase; vertical-align: middle; margin-left: 0.5rem\">COLOR</span>\n",
       "</mark>\n",
       " mirror</div></span>"
      ],
      "text/plain": [
       "<IPython.core.display.HTML object>"
      ]
     },
     "metadata": {},
     "output_type": "display_data"
    },
    {
     "name": "stderr",
     "output_type": "stream",
     "text": [
      "/Applications/anaconda2/envs/Python3/lib/python3.8/site-packages/spacy/displacy/__init__.py:189: UserWarning: [W006] No entities to visualize found in Doc object. If this is surprising to you, make sure the Doc was processed using a model that supports named entity recognition, and check the `doc.ents` property manually if necessary.\n",
      "  warnings.warn(Warnings.W006)\n"
     ]
    },
    {
     "data": {
      "text/html": [
       "<span class=\"tex2jax_ignore\"><div class=\"entities\" style=\"line-height: 2.5; direction: ltr\">Tennarit CTALYMSI</div></span>"
      ],
      "text/plain": [
       "<IPython.core.display.HTML object>"
      ]
     },
     "metadata": {},
     "output_type": "display_data"
    },
    {
     "data": {
      "text/html": [
       "<span class=\"tex2jax_ignore\"><div class=\"entities\" style=\"line-height: 2.5; direction: ltr\">False Lash Effect Velvet Volume Mascara, \n",
       "<mark class=\"entity\" style=\"background: #ddd; padding: 0.45em 0.6em; margin: 0 0.25em; line-height: 1; border-radius: 0.35em;\">\n",
       "    Black\n",
       "    <span style=\"font-size: 0.8em; font-weight: bold; line-height: 1; border-radius: 0.35em; text-transform: uppercase; vertical-align: middle; margin-left: 0.5rem\">COLOR</span>\n",
       "</mark>\n",
       "/Br</div></span>"
      ],
      "text/plain": [
       "<IPython.core.display.HTML object>"
      ]
     },
     "metadata": {},
     "output_type": "display_data"
    },
    {
     "data": {
      "text/html": [
       "<span class=\"tex2jax_ignore\"><div class=\"entities\" style=\"line-height: 2.5; direction: ltr\">\n",
       "<mark class=\"entity\" style=\"background: #ddd; padding: 0.45em 0.6em; margin: 0 0.25em; line-height: 1; border-radius: 0.35em;\">\n",
       "    Diesel\n",
       "    <span style=\"font-size: 0.8em; font-weight: bold; line-height: 1; border-radius: 0.35em; text-transform: uppercase; vertical-align: middle; margin-left: 0.5rem\">BRAND</span>\n",
       "</mark>\n",
       " Silmälasit DL5067 001</div></span>"
      ],
      "text/plain": [
       "<IPython.core.display.HTML object>"
      ]
     },
     "metadata": {},
     "output_type": "display_data"
    },
    {
     "data": {
      "text/html": [
       "<span class=\"tex2jax_ignore\"><div class=\"entities\" style=\"line-height: 2.5; direction: ltr\">G15 \n",
       "<mark class=\"entity\" style=\"background: #ddd; padding: 0.45em 0.6em; margin: 0 0.25em; line-height: 1; border-radius: 0.35em;\">\n",
       "    Black\n",
       "    <span style=\"font-size: 0.8em; font-weight: bold; line-height: 1; border-radius: 0.35em; text-transform: uppercase; vertical-align: middle; margin-left: 0.5rem\">COLOR</span>\n",
       "</mark>\n",
       " Mat</div></span>"
      ],
      "text/plain": [
       "<IPython.core.display.HTML object>"
      ]
     },
     "metadata": {},
     "output_type": "display_data"
    },
    {
     "data": {
      "text/html": [
       "<span class=\"tex2jax_ignore\"><div class=\"entities\" style=\"line-height: 2.5; direction: ltr\">G12 \n",
       "<mark class=\"entity\" style=\"background: #ddd; padding: 0.45em 0.6em; margin: 0 0.25em; line-height: 1; border-radius: 0.35em;\">\n",
       "    Black\n",
       "    <span style=\"font-size: 0.8em; font-weight: bold; line-height: 1; border-radius: 0.35em; text-transform: uppercase; vertical-align: middle; margin-left: 0.5rem\">COLOR</span>\n",
       "</mark>\n",
       " Shiny Polarized</div></span>"
      ],
      "text/plain": [
       "<IPython.core.display.HTML object>"
      ]
     },
     "metadata": {},
     "output_type": "display_data"
    },
    {
     "data": {
      "text/html": [
       "<span class=\"tex2jax_ignore\"><div class=\"entities\" style=\"line-height: 2.5; direction: ltr\">Origami Pöytävalaisin, \n",
       "<mark class=\"entity\" style=\"background: #ddd; padding: 0.45em 0.6em; margin: 0 0.25em; line-height: 1; border-radius: 0.35em;\">\n",
       "    Valkoinen\n",
       "    <span style=\"font-size: 0.8em; font-weight: bold; line-height: 1; border-radius: 0.35em; text-transform: uppercase; vertical-align: middle; margin-left: 0.5rem\">COLOR</span>\n",
       "</mark>\n",
       "</div></span>"
      ],
      "text/plain": [
       "<IPython.core.display.HTML object>"
      ]
     },
     "metadata": {},
     "output_type": "display_data"
    },
    {
     "data": {
      "text/html": [
       "<span class=\"tex2jax_ignore\"><div class=\"entities\" style=\"line-height: 2.5; direction: ltr\">\n",
       "<mark class=\"entity\" style=\"background: #ddd; padding: 0.45em 0.6em; margin: 0 0.25em; line-height: 1; border-radius: 0.35em;\">\n",
       "    Vredestein\n",
       "    <span style=\"font-size: 0.8em; font-weight: bold; line-height: 1; border-radius: 0.35em; text-transform: uppercase; vertical-align: middle; margin-left: 0.5rem\">BRAND</span>\n",
       "</mark>\n",
       " Flotation + ( 400/70 -20 150A8 TL )</div></span>"
      ],
      "text/plain": [
       "<IPython.core.display.HTML object>"
      ]
     },
     "metadata": {},
     "output_type": "display_data"
    },
    {
     "data": {
      "text/html": [
       "<span class=\"tex2jax_ignore\"><div class=\"entities\" style=\"line-height: 2.5; direction: ltr\">\n",
       "<mark class=\"entity\" style=\"background: #ddd; padding: 0.45em 0.6em; margin: 0 0.25em; line-height: 1; border-radius: 0.35em;\">\n",
       "    Diesel\n",
       "    <span style=\"font-size: 0.8em; font-weight: bold; line-height: 1; border-radius: 0.35em; text-transform: uppercase; vertical-align: middle; margin-left: 0.5rem\">BRAND</span>\n",
       "</mark>\n",
       " Silmälasit DL5050 050</div></span>"
      ],
      "text/plain": [
       "<IPython.core.display.HTML object>"
      ]
     },
     "metadata": {},
     "output_type": "display_data"
    },
    {
     "data": {
      "text/html": [
       "<span class=\"tex2jax_ignore\"><div class=\"entities\" style=\"line-height: 2.5; direction: ltr\">\n",
       "<mark class=\"entity\" style=\"background: #ddd; padding: 0.45em 0.6em; margin: 0 0.25em; line-height: 1; border-radius: 0.35em;\">\n",
       "    Gloryfy\n",
       "    <span style=\"font-size: 0.8em; font-weight: bold; line-height: 1; border-radius: 0.35em; text-transform: uppercase; vertical-align: middle; margin-left: 0.5rem\">BRAND</span>\n",
       "</mark>\n",
       " Gi15 St Pauli Havanna Shiny</div></span>"
      ],
      "text/plain": [
       "<IPython.core.display.HTML object>"
      ]
     },
     "metadata": {},
     "output_type": "display_data"
    },
    {
     "data": {
      "text/html": [
       "<span class=\"tex2jax_ignore\"><div class=\"entities\" style=\"line-height: 2.5; direction: ltr\">Umbra Dress Maksimekko Juhlamekko \n",
       "<mark class=\"entity\" style=\"background: #ddd; padding: 0.45em 0.6em; margin: 0 0.25em; line-height: 1; border-radius: 0.35em;\">\n",
       "    Vaaleanpunainen\n",
       "    <span style=\"font-size: 0.8em; font-weight: bold; line-height: 1; border-radius: 0.35em; text-transform: uppercase; vertical-align: middle; margin-left: 0.5rem\">COLOR</span>\n",
       "</mark>\n",
       " \n",
       "<mark class=\"entity\" style=\"background: #ddd; padding: 0.45em 0.6em; margin: 0 0.25em; line-height: 1; border-radius: 0.35em;\">\n",
       "    Résumé\n",
       "    <span style=\"font-size: 0.8em; font-weight: bold; line-height: 1; border-radius: 0.35em; text-transform: uppercase; vertical-align: middle; margin-left: 0.5rem\">BRAND</span>\n",
       "</mark>\n",
       "</div></span>"
      ],
      "text/plain": [
       "<IPython.core.display.HTML object>"
      ]
     },
     "metadata": {},
     "output_type": "display_data"
    },
    {
     "data": {
      "text/html": [
       "<span class=\"tex2jax_ignore\"><div class=\"entities\" style=\"line-height: 2.5; direction: ltr\">\n",
       "<mark class=\"entity\" style=\"background: #ddd; padding: 0.45em 0.6em; margin: 0 0.25em; line-height: 1; border-radius: 0.35em;\">\n",
       "    Superdry\n",
       "    <span style=\"font-size: 0.8em; font-weight: bold; line-height: 1; border-radius: 0.35em; text-transform: uppercase; vertical-align: middle; margin-left: 0.5rem\">BRAND</span>\n",
       "</mark>\n",
       " Silmälasit SDO YUMI \n",
       "<mark class=\"entity\" style=\"background: #ddd; padding: 0.45em 0.6em; margin: 0 0.25em; line-height: 1; border-radius: 0.35em;\">\n",
       "    104\n",
       "    <span style=\"font-size: 0.8em; font-weight: bold; line-height: 1; border-radius: 0.35em; text-transform: uppercase; vertical-align: middle; margin-left: 0.5rem\">SIZE</span>\n",
       "</mark>\n",
       "</div></span>"
      ],
      "text/plain": [
       "<IPython.core.display.HTML object>"
      ]
     },
     "metadata": {},
     "output_type": "display_data"
    },
    {
     "data": {
      "text/html": [
       "<span class=\"tex2jax_ignore\"><div class=\"entities\" style=\"line-height: 2.5; direction: ltr\">Norr Leipäveitsi \n",
       "<mark class=\"entity\" style=\"background: #ddd; padding: 0.45em 0.6em; margin: 0 0.25em; line-height: 1; border-radius: 0.35em;\">\n",
       "    21 cm\n",
       "    <span style=\"font-size: 0.8em; font-weight: bold; line-height: 1; border-radius: 0.35em; text-transform: uppercase; vertical-align: middle; margin-left: 0.5rem\">SIZE</span>\n",
       "</mark>\n",
       "</div></span>"
      ],
      "text/plain": [
       "<IPython.core.display.HTML object>"
      ]
     },
     "metadata": {},
     "output_type": "display_data"
    },
    {
     "data": {
      "text/html": [
       "<span class=\"tex2jax_ignore\"><div class=\"entities\" style=\"line-height: 2.5; direction: ltr\">Essential for Her, EdT \n",
       "<mark class=\"entity\" style=\"background: #ddd; padding: 0.45em 0.6em; margin: 0 0.25em; line-height: 1; border-radius: 0.35em;\">\n",
       "    40ml\n",
       "    <span style=\"font-size: 0.8em; font-weight: bold; line-height: 1; border-radius: 0.35em; text-transform: uppercase; vertical-align: middle; margin-left: 0.5rem\">SIZE</span>\n",
       "</mark>\n",
       "</div></span>"
      ],
      "text/plain": [
       "<IPython.core.display.HTML object>"
      ]
     },
     "metadata": {},
     "output_type": "display_data"
    },
    {
     "data": {
      "text/html": [
       "<span class=\"tex2jax_ignore\"><div class=\"entities\" style=\"line-height: 2.5; direction: ltr\">FF Veitsitukki 5 veistä \n",
       "<mark class=\"entity\" style=\"background: #ddd; padding: 0.45em 0.6em; margin: 0 0.25em; line-height: 1; border-radius: 0.35em;\">\n",
       "    valkoinen\n",
       "    <span style=\"font-size: 0.8em; font-weight: bold; line-height: 1; border-radius: 0.35em; text-transform: uppercase; vertical-align: middle; margin-left: 0.5rem\">COLOR</span>\n",
       "</mark>\n",
       "</div></span>"
      ],
      "text/plain": [
       "<IPython.core.display.HTML object>"
      ]
     },
     "metadata": {},
     "output_type": "display_data"
    },
    {
     "data": {
      "text/html": [
       "<span class=\"tex2jax_ignore\"><div class=\"entities\" style=\"line-height: 2.5; direction: ltr\">GI21 Dante \n",
       "<mark class=\"entity\" style=\"background: #ddd; padding: 0.45em 0.6em; margin: 0 0.25em; line-height: 1; border-radius: 0.35em;\">\n",
       "    Red\n",
       "    <span style=\"font-size: 0.8em; font-weight: bold; line-height: 1; border-radius: 0.35em; text-transform: uppercase; vertical-align: middle; margin-left: 0.5rem\">COLOR</span>\n",
       "</mark>\n",
       "</div></span>"
      ],
      "text/plain": [
       "<IPython.core.display.HTML object>"
      ]
     },
     "metadata": {},
     "output_type": "display_data"
    },
    {
     "data": {
      "text/html": [
       "<span class=\"tex2jax_ignore\"><div class=\"entities\" style=\"line-height: 2.5; direction: ltr\">\n",
       "<mark class=\"entity\" style=\"background: #ddd; padding: 0.45em 0.6em; margin: 0 0.25em; line-height: 1; border-radius: 0.35em;\">\n",
       "    Dana Buchman\n",
       "    <span style=\"font-size: 0.8em; font-weight: bold; line-height: 1; border-radius: 0.35em; text-transform: uppercase; vertical-align: middle; margin-left: 0.5rem\">BRAND</span>\n",
       "</mark>\n",
       " Silmälasit Poppi \n",
       "<mark class=\"entity\" style=\"background: #ddd; padding: 0.45em 0.6em; margin: 0 0.25em; line-height: 1; border-radius: 0.35em;\">\n",
       "    BLACK\n",
       "    <span style=\"font-size: 0.8em; font-weight: bold; line-height: 1; border-radius: 0.35em; text-transform: uppercase; vertical-align: middle; margin-left: 0.5rem\">COLOR</span>\n",
       "</mark>\n",
       "</div></span>"
      ],
      "text/plain": [
       "<IPython.core.display.HTML object>"
      ]
     },
     "metadata": {},
     "output_type": "display_data"
    },
    {
     "data": {
      "text/html": [
       "<span class=\"tex2jax_ignore\"><div class=\"entities\" style=\"line-height: 2.5; direction: ltr\">\n",
       "<mark class=\"entity\" style=\"background: #ddd; padding: 0.45em 0.6em; margin: 0 0.25em; line-height: 1; border-radius: 0.35em;\">\n",
       "    Roberto Cavalli\n",
       "    <span style=\"font-size: 0.8em; font-weight: bold; line-height: 1; border-radius: 0.35em; text-transform: uppercase; vertical-align: middle; margin-left: 0.5rem\">BRAND</span>\n",
       "</mark>\n",
       " Silmälasit RC 5053 FOLLONICA A56</div></span>"
      ],
      "text/plain": [
       "<IPython.core.display.HTML object>"
      ]
     },
     "metadata": {},
     "output_type": "display_data"
    }
   ],
   "source": [
    "for n in range(0,100):\n",
    "    if df['title'].loc[n] not in titles_unique_brand:\n",
    "        doc = nlp(df['title'].loc[n])\n",
    "        spacy.displacy.render(doc, style=\"ent\")"
   ]
  },
  {
   "cell_type": "code",
   "execution_count": 27,
   "metadata": {
    "scrolled": true
   },
   "outputs": [
    {
     "data": {
      "text/html": [
       "<span class=\"tex2jax_ignore\"><div class=\"entities\" style=\"line-height: 2.5; direction: ltr\">Särkymättömät huippulaadukkaat lasit tummalla linssillä.</div></span>"
      ],
      "text/plain": [
       "<IPython.core.display.HTML object>"
      ]
     },
     "metadata": {},
     "output_type": "display_data"
    },
    {
     "data": {
      "text/html": [
       "<span class=\"tex2jax_ignore\"><div class=\"entities\" style=\"line-height: 2.5; direction: ltr\">\n",
       "<mark class=\"entity\" style=\"background: #ddd; padding: 0.45em 0.6em; margin: 0 0.25em; line-height: 1; border-radius: 0.35em;\">\n",
       "    New Balance\n",
       "    <span style=\"font-size: 0.8em; font-weight: bold; line-height: 1; border-radius: 0.35em; text-transform: uppercase; vertical-align: middle; margin-left: 0.5rem\">BRAND</span>\n",
       "</mark>\n",
       " -nahkatennarit. Kengissä on kullanväriset yksityiskohdat ja läpässä kirjailtu logo. Kumipohja ja kangasvuori.</div></span>"
      ],
      "text/plain": [
       "<IPython.core.display.HTML object>"
      ]
     },
     "metadata": {},
     "output_type": "display_data"
    },
    {
     "data": {
      "text/html": [
       "<span class=\"tex2jax_ignore\"><div class=\"entities\" style=\"line-height: 2.5; direction: ltr\">\n",
       "<mark class=\"entity\" style=\"background: #ddd; padding: 0.45em 0.6em; margin: 0 0.25em; line-height: 1; border-radius: 0.35em;\">\n",
       "    Diesel\n",
       "    <span style=\"font-size: 0.8em; font-weight: bold; line-height: 1; border-radius: 0.35em; text-transform: uppercase; vertical-align: middle; margin-left: 0.5rem\">BRAND</span>\n",
       "</mark>\n",
       " DL5067 Silmälasit. Collection:Men. Kehyksen Väri: \n",
       "<mark class=\"entity\" style=\"background: #ddd; padding: 0.45em 0.6em; margin: 0 0.25em; line-height: 1; border-radius: 0.35em;\">\n",
       "    Shiny Black.\n",
       "    <span style=\"font-size: 0.8em; font-weight: bold; line-height: 1; border-radius: 0.35em; text-transform: uppercase; vertical-align: middle; margin-left: 0.5rem\">COLOR</span>\n",
       "</mark>\n",
       " Kehysmateriaali: \n",
       "<mark class=\"entity\" style=\"background: #ddd; padding: 0.45em 0.6em; margin: 0 0.25em; line-height: 1; border-radius: 0.35em;\">\n",
       "    Plastic.\n",
       "    <span style=\"font-size: 0.8em; font-weight: bold; line-height: 1; border-radius: 0.35em; text-transform: uppercase; vertical-align: middle; margin-left: 0.5rem\">MATERIAL</span>\n",
       "</mark>\n",
       " Koko: \n",
       "<mark class=\"entity\" style=\"background: #ddd; padding: 0.45em 0.6em; margin: 0 0.25em; line-height: 1; border-radius: 0.35em;\">\n",
       "    54.\n",
       "    <span style=\"font-size: 0.8em; font-weight: bold; line-height: 1; border-radius: 0.35em; text-transform: uppercase; vertical-align: middle; margin-left: 0.5rem\">SIZE</span>\n",
       "</mark>\n",
       "</div></span>"
      ],
      "text/plain": [
       "<IPython.core.display.HTML object>"
      ]
     },
     "metadata": {},
     "output_type": "display_data"
    },
    {
     "data": {
      "text/html": [
       "<span class=\"tex2jax_ignore\"><div class=\"entities\" style=\"line-height: 2.5; direction: ltr\">Särkymättömät huippulaadukkaat aurinkolasit. Cat \n",
       "<mark class=\"entity\" style=\"background: #ddd; padding: 0.45em 0.6em; margin: 0 0.25em; line-height: 1; border-radius: 0.35em;\">\n",
       "    3.\n",
       "    <span style=\"font-size: 0.8em; font-weight: bold; line-height: 1; border-radius: 0.35em; text-transform: uppercase; vertical-align: middle; margin-left: 0.5rem\">SIZE</span>\n",
       "</mark>\n",
       "</div></span>"
      ],
      "text/plain": [
       "<IPython.core.display.HTML object>"
      ]
     },
     "metadata": {},
     "output_type": "display_data"
    },
    {
     "data": {
      "text/html": [
       "<span class=\"tex2jax_ignore\"><div class=\"entities\" style=\"line-height: 2.5; direction: ltr\">Särkymättömät huippulaadukkaat aurinkolasit polarisoivilla linsseillä. Cat \n",
       "<mark class=\"entity\" style=\"background: #ddd; padding: 0.45em 0.6em; margin: 0 0.25em; line-height: 1; border-radius: 0.35em;\">\n",
       "    3.\n",
       "    <span style=\"font-size: 0.8em; font-weight: bold; line-height: 1; border-radius: 0.35em; text-transform: uppercase; vertical-align: middle; margin-left: 0.5rem\">SIZE</span>\n",
       "</mark>\n",
       "</div></span>"
      ],
      "text/plain": [
       "<IPython.core.display.HTML object>"
      ]
     },
     "metadata": {},
     "output_type": "display_data"
    },
    {
     "data": {
      "text/html": [
       "<span class=\"tex2jax_ignore\"><div class=\"entities\" style=\"line-height: 2.5; direction: ltr\">Japanilaisista origami-paperiteoksista inspiraationsa saanut pöytävalaisin on valmistettu paperista ja mangopuusta. Yksityiskohtainen, ja kaunis varjostin pysyy paikoillaan magneettien avulla.</div></span>"
      ],
      "text/plain": [
       "<IPython.core.display.HTML object>"
      ]
     },
     "metadata": {},
     "output_type": "display_data"
    },
    {
     "data": {
      "text/html": [
       "<span class=\"tex2jax_ignore\"><div class=\"entities\" style=\"line-height: 2.5; direction: ltr\">Ideaali rengas vaativaan ajoon. • Vankka diagonaalirakenne. • Ainutlaatuinen proofili. • Suuri kosketuspinta. Korkean kuormituskyvyn avulla ja melko vähäisellä rengaspaineella Flotation+ on ideaali rengas raskaaseen ajoon. Maksimoitu leveys ja suuri ilmavolyymi tekee renkaasta erityisen sopivan maatalouskoneille. Modernin runkorakenteensa ja ainutlaatuisen suunnittelunsa avulla Flotation+ selviytyy joka tehtävästä. Korkean ajomukavuuden lisäksi rengas omaa erinomaisen itsepuhdistusominaisuuden. Tämä mahdollistaa renkaan pyörimisen kaikissa olosuhteissa ja takaa optimoidun sivuvakauden.</div></span>"
      ],
      "text/plain": [
       "<IPython.core.display.HTML object>"
      ]
     },
     "metadata": {},
     "output_type": "display_data"
    },
    {
     "data": {
      "text/html": [
       "<span class=\"tex2jax_ignore\"><div class=\"entities\" style=\"line-height: 2.5; direction: ltr\">\n",
       "<mark class=\"entity\" style=\"background: #ddd; padding: 0.45em 0.6em; margin: 0 0.25em; line-height: 1; border-radius: 0.35em;\">\n",
       "    Diesel\n",
       "    <span style=\"font-size: 0.8em; font-weight: bold; line-height: 1; border-radius: 0.35em; text-transform: uppercase; vertical-align: middle; margin-left: 0.5rem\">BRAND</span>\n",
       "</mark>\n",
       " DL5050 Silmälasit. Collection:Men. Kehyksen Väri: \n",
       "<mark class=\"entity\" style=\"background: #ddd; padding: 0.45em 0.6em; margin: 0 0.25em; line-height: 1; border-radius: 0.35em;\">\n",
       "    Black.\n",
       "    <span style=\"font-size: 0.8em; font-weight: bold; line-height: 1; border-radius: 0.35em; text-transform: uppercase; vertical-align: middle; margin-left: 0.5rem\">COLOR</span>\n",
       "</mark>\n",
       " Kehysmateriaali: \n",
       "<mark class=\"entity\" style=\"background: #ddd; padding: 0.45em 0.6em; margin: 0 0.25em; line-height: 1; border-radius: 0.35em;\">\n",
       "    Plastic.\n",
       "    <span style=\"font-size: 0.8em; font-weight: bold; line-height: 1; border-radius: 0.35em; text-transform: uppercase; vertical-align: middle; margin-left: 0.5rem\">MATERIAL</span>\n",
       "</mark>\n",
       " Koko: \n",
       "<mark class=\"entity\" style=\"background: #ddd; padding: 0.45em 0.6em; margin: 0 0.25em; line-height: 1; border-radius: 0.35em;\">\n",
       "    52.\n",
       "    <span style=\"font-size: 0.8em; font-weight: bold; line-height: 1; border-radius: 0.35em; text-transform: uppercase; vertical-align: middle; margin-left: 0.5rem\">SIZE</span>\n",
       "</mark>\n",
       "</div></span>"
      ],
      "text/plain": [
       "<IPython.core.display.HTML object>"
      ]
     },
     "metadata": {},
     "output_type": "display_data"
    },
    {
     "data": {
      "text/html": [
       "<span class=\"tex2jax_ignore\"><div class=\"entities\" style=\"line-height: 2.5; direction: ltr\">Särkymättömät aurinkolasit. Cat 2.</div></span>"
      ],
      "text/plain": [
       "<IPython.core.display.HTML object>"
      ]
     },
     "metadata": {},
     "output_type": "display_data"
    },
    {
     "data": {
      "text/html": [
       "<span class=\"tex2jax_ignore\"><div class=\"entities\" style=\"line-height: 2.5; direction: ltr\">\n",
       "<mark class=\"entity\" style=\"background: #ddd; padding: 0.45em 0.6em; margin: 0 0.25em; line-height: 1; border-radius: 0.35em;\">\n",
       "    Résumé\n",
       "    <span style=\"font-size: 0.8em; font-weight: bold; line-height: 1; border-radius: 0.35em; text-transform: uppercase; vertical-align: middle; margin-left: 0.5rem\">BRAND</span>\n",
       "</mark>\n",
       " Umbra Dress</div></span>"
      ],
      "text/plain": [
       "<IPython.core.display.HTML object>"
      ]
     },
     "metadata": {},
     "output_type": "display_data"
    },
    {
     "data": {
      "text/html": [
       "<span class=\"tex2jax_ignore\"><div class=\"entities\" style=\"line-height: 2.5; direction: ltr\">\n",
       "<mark class=\"entity\" style=\"background: #ddd; padding: 0.45em 0.6em; margin: 0 0.25em; line-height: 1; border-radius: 0.35em;\">\n",
       "    Superdry\n",
       "    <span style=\"font-size: 0.8em; font-weight: bold; line-height: 1; border-radius: 0.35em; text-transform: uppercase; vertical-align: middle; margin-left: 0.5rem\">BRAND</span>\n",
       "</mark>\n",
       " SDO YUMI Silmälasit. Collection:Men. Kehyksen Väri: \n",
       "<mark class=\"entity\" style=\"background: #ddd; padding: 0.45em 0.6em; margin: 0 0.25em; line-height: 1; border-radius: 0.35em;\">\n",
       "    Black.\n",
       "    <span style=\"font-size: 0.8em; font-weight: bold; line-height: 1; border-radius: 0.35em; text-transform: uppercase; vertical-align: middle; margin-left: 0.5rem\">COLOR</span>\n",
       "</mark>\n",
       " Kehysmateriaali: \n",
       "<mark class=\"entity\" style=\"background: #ddd; padding: 0.45em 0.6em; margin: 0 0.25em; line-height: 1; border-radius: 0.35em;\">\n",
       "    Plastic.\n",
       "    <span style=\"font-size: 0.8em; font-weight: bold; line-height: 1; border-radius: 0.35em; text-transform: uppercase; vertical-align: middle; margin-left: 0.5rem\">MATERIAL</span>\n",
       "</mark>\n",
       " Koko: \n",
       "<mark class=\"entity\" style=\"background: #ddd; padding: 0.45em 0.6em; margin: 0 0.25em; line-height: 1; border-radius: 0.35em;\">\n",
       "    52.\n",
       "    <span style=\"font-size: 0.8em; font-weight: bold; line-height: 1; border-radius: 0.35em; text-transform: uppercase; vertical-align: middle; margin-left: 0.5rem\">SIZE</span>\n",
       "</mark>\n",
       "</div></span>"
      ],
      "text/plain": [
       "<IPython.core.display.HTML object>"
      ]
     },
     "metadata": {},
     "output_type": "display_data"
    },
    {
     "data": {
      "text/html": [
       "<span class=\"tex2jax_ignore\"><div class=\"entities\" style=\"line-height: 2.5; direction: ltr\">Äärimmäisen härskinnäköiset särkymättömät aurinkolasit.</div></span>"
      ],
      "text/plain": [
       "<IPython.core.display.HTML object>"
      ]
     },
     "metadata": {},
     "output_type": "display_data"
    },
    {
     "data": {
      "text/html": [
       "<span class=\"tex2jax_ignore\"><div class=\"entities\" style=\"line-height: 2.5; direction: ltr\">\n",
       "<mark class=\"entity\" style=\"background: #ddd; padding: 0.45em 0.6em; margin: 0 0.25em; line-height: 1; border-radius: 0.35em;\">\n",
       "    Dana Buchman\n",
       "    <span style=\"font-size: 0.8em; font-weight: bold; line-height: 1; border-radius: 0.35em; text-transform: uppercase; vertical-align: middle; margin-left: 0.5rem\">BRAND</span>\n",
       "</mark>\n",
       " Poppi Silmälasit. Collection:Men. Kehyksen Väri: \n",
       "<mark class=\"entity\" style=\"background: #ddd; padding: 0.45em 0.6em; margin: 0 0.25em; line-height: 1; border-radius: 0.35em;\">\n",
       "    Black.\n",
       "    <span style=\"font-size: 0.8em; font-weight: bold; line-height: 1; border-radius: 0.35em; text-transform: uppercase; vertical-align: middle; margin-left: 0.5rem\">COLOR</span>\n",
       "</mark>\n",
       " Kehysmateriaali: \n",
       "<mark class=\"entity\" style=\"background: #ddd; padding: 0.45em 0.6em; margin: 0 0.25em; line-height: 1; border-radius: 0.35em;\">\n",
       "    Metal.\n",
       "    <span style=\"font-size: 0.8em; font-weight: bold; line-height: 1; border-radius: 0.35em; text-transform: uppercase; vertical-align: middle; margin-left: 0.5rem\">MATERIAL</span>\n",
       "</mark>\n",
       " Koko: \n",
       "<mark class=\"entity\" style=\"background: #ddd; padding: 0.45em 0.6em; margin: 0 0.25em; line-height: 1; border-radius: 0.35em;\">\n",
       "    52.\n",
       "    <span style=\"font-size: 0.8em; font-weight: bold; line-height: 1; border-radius: 0.35em; text-transform: uppercase; vertical-align: middle; margin-left: 0.5rem\">SIZE</span>\n",
       "</mark>\n",
       "</div></span>"
      ],
      "text/plain": [
       "<IPython.core.display.HTML object>"
      ]
     },
     "metadata": {},
     "output_type": "display_data"
    },
    {
     "data": {
      "text/html": [
       "<span class=\"tex2jax_ignore\"><div class=\"entities\" style=\"line-height: 2.5; direction: ltr\">\n",
       "<mark class=\"entity\" style=\"background: #ddd; padding: 0.45em 0.6em; margin: 0 0.25em; line-height: 1; border-radius: 0.35em;\">\n",
       "    Roberto Cavalli\n",
       "    <span style=\"font-size: 0.8em; font-weight: bold; line-height: 1; border-radius: 0.35em; text-transform: uppercase; vertical-align: middle; margin-left: 0.5rem\">BRAND</span>\n",
       "</mark>\n",
       " RC 5053 FOLLONICA Silmälasit. Collection:Women. Kehyksen Väri: \n",
       "<mark class=\"entity\" style=\"background: #ddd; padding: 0.45em 0.6em; margin: 0 0.25em; line-height: 1; border-radius: 0.35em;\">\n",
       "    Tortoise.\n",
       "    <span style=\"font-size: 0.8em; font-weight: bold; line-height: 1; border-radius: 0.35em; text-transform: uppercase; vertical-align: middle; margin-left: 0.5rem\">COLOR</span>\n",
       "</mark>\n",
       " Kehysmateriaali: \n",
       "<mark class=\"entity\" style=\"background: #ddd; padding: 0.45em 0.6em; margin: 0 0.25em; line-height: 1; border-radius: 0.35em;\">\n",
       "    Plastic.\n",
       "    <span style=\"font-size: 0.8em; font-weight: bold; line-height: 1; border-radius: 0.35em; text-transform: uppercase; vertical-align: middle; margin-left: 0.5rem\">MATERIAL</span>\n",
       "</mark>\n",
       " Koko: \n",
       "<mark class=\"entity\" style=\"background: #ddd; padding: 0.45em 0.6em; margin: 0 0.25em; line-height: 1; border-radius: 0.35em;\">\n",
       "    49.\n",
       "    <span style=\"font-size: 0.8em; font-weight: bold; line-height: 1; border-radius: 0.35em; text-transform: uppercase; vertical-align: middle; margin-left: 0.5rem\">SIZE</span>\n",
       "</mark>\n",
       "</div></span>"
      ],
      "text/plain": [
       "<IPython.core.display.HTML object>"
      ]
     },
     "metadata": {},
     "output_type": "display_data"
    },
    {
     "data": {
      "text/html": [
       "<span class=\"tex2jax_ignore\"><div class=\"entities\" style=\"line-height: 2.5; direction: ltr\">Särkymättömät huippulaadukkaat lasit neutraalin harmaalla linssillä. Cat \n",
       "<mark class=\"entity\" style=\"background: #ddd; padding: 0.45em 0.6em; margin: 0 0.25em; line-height: 1; border-radius: 0.35em;\">\n",
       "    3.\n",
       "    <span style=\"font-size: 0.8em; font-weight: bold; line-height: 1; border-radius: 0.35em; text-transform: uppercase; vertical-align: middle; margin-left: 0.5rem\">SIZE</span>\n",
       "</mark>\n",
       "</div></span>"
      ],
      "text/plain": [
       "<IPython.core.display.HTML object>"
      ]
     },
     "metadata": {},
     "output_type": "display_data"
    },
    {
     "data": {
      "text/html": [
       "<span class=\"tex2jax_ignore\"><div class=\"entities\" style=\"line-height: 2.5; direction: ltr\">Särkymättömät huippulaadukkaat aurinkolasit lähes kirkkailla linsseillä.</div></span>"
      ],
      "text/plain": [
       "<IPython.core.display.HTML object>"
      ]
     },
     "metadata": {},
     "output_type": "display_data"
    },
    {
     "data": {
      "text/html": [
       "<span class=\"tex2jax_ignore\"><div class=\"entities\" style=\"line-height: 2.5; direction: ltr\">\n",
       "<mark class=\"entity\" style=\"background: #ddd; padding: 0.45em 0.6em; margin: 0 0.25em; line-height: 1; border-radius: 0.35em;\">\n",
       "    Farah\n",
       "    <span style=\"font-size: 0.8em; font-weight: bold; line-height: 1; border-radius: 0.35em; text-transform: uppercase; vertical-align: middle; margin-left: 0.5rem\">BRAND</span>\n",
       "</mark>\n",
       " FHS 5015 Aurinkolasit. Collection:Men. Kehyksen Väri: \n",
       "<mark class=\"entity\" style=\"background: #ddd; padding: 0.45em 0.6em; margin: 0 0.25em; line-height: 1; border-radius: 0.35em;\">\n",
       "    Gold.\n",
       "    <span style=\"font-size: 0.8em; font-weight: bold; line-height: 1; border-radius: 0.35em; text-transform: uppercase; vertical-align: middle; margin-left: 0.5rem\">COLOR</span>\n",
       "</mark>\n",
       "  Linssin Väri: . Kehysmateriaali: \n",
       "<mark class=\"entity\" style=\"background: #ddd; padding: 0.45em 0.6em; margin: 0 0.25em; line-height: 1; border-radius: 0.35em;\">\n",
       "    Metal.\n",
       "    <span style=\"font-size: 0.8em; font-weight: bold; line-height: 1; border-radius: 0.35em; text-transform: uppercase; vertical-align: middle; margin-left: 0.5rem\">MATERIAL</span>\n",
       "</mark>\n",
       " Koko: \n",
       "<mark class=\"entity\" style=\"background: #ddd; padding: 0.45em 0.6em; margin: 0 0.25em; line-height: 1; border-radius: 0.35em;\">\n",
       "    56.\n",
       "    <span style=\"font-size: 0.8em; font-weight: bold; line-height: 1; border-radius: 0.35em; text-transform: uppercase; vertical-align: middle; margin-left: 0.5rem\">SIZE</span>\n",
       "</mark>\n",
       "</div></span>"
      ],
      "text/plain": [
       "<IPython.core.display.HTML object>"
      ]
     },
     "metadata": {},
     "output_type": "display_data"
    },
    {
     "data": {
      "text/html": [
       "<span class=\"tex2jax_ignore\"><div class=\"entities\" style=\"line-height: 2.5; direction: ltr\">\n",
       "<mark class=\"entity\" style=\"background: #ddd; padding: 0.45em 0.6em; margin: 0 0.25em; line-height: 1; border-radius: 0.35em;\">\n",
       "    Diesel\n",
       "    <span style=\"font-size: 0.8em; font-weight: bold; line-height: 1; border-radius: 0.35em; text-transform: uppercase; vertical-align: middle; margin-left: 0.5rem\">BRAND</span>\n",
       "</mark>\n",
       " DL5050 Silmälasit. Collection:Men. Kehyksen Väri: \n",
       "<mark class=\"entity\" style=\"background: #ddd; padding: 0.45em 0.6em; margin: 0 0.25em; line-height: 1; border-radius: 0.35em;\">\n",
       "    Black.\n",
       "    <span style=\"font-size: 0.8em; font-weight: bold; line-height: 1; border-radius: 0.35em; text-transform: uppercase; vertical-align: middle; margin-left: 0.5rem\">COLOR</span>\n",
       "</mark>\n",
       " Kehysmateriaali: \n",
       "<mark class=\"entity\" style=\"background: #ddd; padding: 0.45em 0.6em; margin: 0 0.25em; line-height: 1; border-radius: 0.35em;\">\n",
       "    Plastic.\n",
       "    <span style=\"font-size: 0.8em; font-weight: bold; line-height: 1; border-radius: 0.35em; text-transform: uppercase; vertical-align: middle; margin-left: 0.5rem\">MATERIAL</span>\n",
       "</mark>\n",
       " Koko: \n",
       "<mark class=\"entity\" style=\"background: #ddd; padding: 0.45em 0.6em; margin: 0 0.25em; line-height: 1; border-radius: 0.35em;\">\n",
       "    52.\n",
       "    <span style=\"font-size: 0.8em; font-weight: bold; line-height: 1; border-radius: 0.35em; text-transform: uppercase; vertical-align: middle; margin-left: 0.5rem\">SIZE</span>\n",
       "</mark>\n",
       "</div></span>"
      ],
      "text/plain": [
       "<IPython.core.display.HTML object>"
      ]
     },
     "metadata": {},
     "output_type": "display_data"
    },
    {
     "data": {
      "text/html": [
       "<span class=\"tex2jax_ignore\"><div class=\"entities\" style=\"line-height: 2.5; direction: ltr\">Särkymättömät huippulaadukkaat aurinkolasit savulinsseillä.</div></span>"
      ],
      "text/plain": [
       "<IPython.core.display.HTML object>"
      ]
     },
     "metadata": {},
     "output_type": "display_data"
    },
    {
     "data": {
      "text/html": [
       "<span class=\"tex2jax_ignore\"><div class=\"entities\" style=\"line-height: 2.5; direction: ltr\">Clinique All About Shadow Single, \n",
       "<mark class=\"entity\" style=\"background: #ddd; padding: 0.45em 0.6em; margin: 0 0.25em; line-height: 1; border-radius: 0.35em;\">\n",
       "    Purple\n",
       "    <span style=\"font-size: 0.8em; font-weight: bold; line-height: 1; border-radius: 0.35em; text-transform: uppercase; vertical-align: middle; margin-left: 0.5rem\">COLOR</span>\n",
       "</mark>\n",
       " Pumps</div></span>"
      ],
      "text/plain": [
       "<IPython.core.display.HTML object>"
      ]
     },
     "metadata": {},
     "output_type": "display_data"
    },
    {
     "data": {
      "text/html": [
       "<span class=\"tex2jax_ignore\"><div class=\"entities\" style=\"line-height: 2.5; direction: ltr\">Särkymättömät huippulaadukkaat aurinkolasit polarisoivilla linsseillä ja vaihtuvalla tummennuksella \n",
       "<mark class=\"entity\" style=\"background: #ddd; padding: 0.45em 0.6em; margin: 0 0.25em; line-height: 1; border-radius: 0.35em;\">\n",
       "    2-3.\n",
       "    <span style=\"font-size: 0.8em; font-weight: bold; line-height: 1; border-radius: 0.35em; text-transform: uppercase; vertical-align: middle; margin-left: 0.5rem\">SIZE</span>\n",
       "</mark>\n",
       "</div></span>"
      ],
      "text/plain": [
       "<IPython.core.display.HTML object>"
      ]
     },
     "metadata": {},
     "output_type": "display_data"
    },
    {
     "data": {
      "text/html": [
       "<span class=\"tex2jax_ignore\"><div class=\"entities\" style=\"line-height: 2.5; direction: ltr\">\n",
       "<mark class=\"entity\" style=\"background: #ddd; padding: 0.45em 0.6em; margin: 0 0.25em; line-height: 1; border-radius: 0.35em;\">\n",
       "    GAP\n",
       "    <span style=\"font-size: 0.8em; font-weight: bold; line-height: 1; border-radius: 0.35em; text-transform: uppercase; vertical-align: middle; margin-left: 0.5rem\">BRAND</span>\n",
       "</mark>\n",
       " Mid Rise True Skinny Jeans</div></span>"
      ],
      "text/plain": [
       "<IPython.core.display.HTML object>"
      ]
     },
     "metadata": {},
     "output_type": "display_data"
    },
    {
     "data": {
      "text/html": [
       "<span class=\"tex2jax_ignore\"><div class=\"entities\" style=\"line-height: 2.5; direction: ltr\">\n",
       "<mark class=\"entity\" style=\"background: #ddd; padding: 0.45em 0.6em; margin: 0 0.25em; line-height: 1; border-radius: 0.35em;\">\n",
       "    Diesel\n",
       "    <span style=\"font-size: 0.8em; font-weight: bold; line-height: 1; border-radius: 0.35em; text-transform: uppercase; vertical-align: middle; margin-left: 0.5rem\">BRAND</span>\n",
       "</mark>\n",
       " DL5045 Silmälasit. Collection:Men. Kehyksen Väri: \n",
       "<mark class=\"entity\" style=\"background: #ddd; padding: 0.45em 0.6em; margin: 0 0.25em; line-height: 1; border-radius: 0.35em;\">\n",
       "    Shiny Blue.\n",
       "    <span style=\"font-size: 0.8em; font-weight: bold; line-height: 1; border-radius: 0.35em; text-transform: uppercase; vertical-align: middle; margin-left: 0.5rem\">COLOR</span>\n",
       "</mark>\n",
       " Kehysmateriaali: \n",
       "<mark class=\"entity\" style=\"background: #ddd; padding: 0.45em 0.6em; margin: 0 0.25em; line-height: 1; border-radius: 0.35em;\">\n",
       "    Plastic.\n",
       "    <span style=\"font-size: 0.8em; font-weight: bold; line-height: 1; border-radius: 0.35em; text-transform: uppercase; vertical-align: middle; margin-left: 0.5rem\">MATERIAL</span>\n",
       "</mark>\n",
       " Koko: \n",
       "<mark class=\"entity\" style=\"background: #ddd; padding: 0.45em 0.6em; margin: 0 0.25em; line-height: 1; border-radius: 0.35em;\">\n",
       "    54.\n",
       "    <span style=\"font-size: 0.8em; font-weight: bold; line-height: 1; border-radius: 0.35em; text-transform: uppercase; vertical-align: middle; margin-left: 0.5rem\">SIZE</span>\n",
       "</mark>\n",
       "</div></span>"
      ],
      "text/plain": [
       "<IPython.core.display.HTML object>"
      ]
     },
     "metadata": {},
     "output_type": "display_data"
    },
    {
     "data": {
      "text/html": [
       "<span class=\"tex2jax_ignore\"><div class=\"entities\" style=\"line-height: 2.5; direction: ltr\">Lyhythihainen t-paita gant le mans block \n",
       "<mark class=\"entity\" style=\"background: #ddd; padding: 0.45em 0.6em; margin: 0 0.25em; line-height: 1; border-radius: 0.35em;\">\n",
       "    blue\n",
       "    <span style=\"font-size: 0.8em; font-weight: bold; line-height: 1; border-radius: 0.35em; text-transform: uppercase; vertical-align: middle; margin-left: 0.5rem\">COLOR</span>\n",
       "</mark>\n",
       " saatavana \n",
       "<mark class=\"entity\" style=\"background: #ddd; padding: 0.45em 0.6em; margin: 0 0.25em; line-height: 1; border-radius: 0.35em;\">\n",
       "    miesten\n",
       "    <span style=\"font-size: 0.8em; font-weight: bold; line-height: 1; border-radius: 0.35em; text-transform: uppercase; vertical-align: middle; margin-left: 0.5rem\">GENDER</span>\n",
       "</mark>\n",
       " kokoja s</div></span>"
      ],
      "text/plain": [
       "<IPython.core.display.HTML object>"
      ]
     },
     "metadata": {},
     "output_type": "display_data"
    },
    {
     "data": {
      "text/html": [
       "<span class=\"tex2jax_ignore\"><div class=\"entities\" style=\"line-height: 2.5; direction: ltr\">\n",
       "<mark class=\"entity\" style=\"background: #ddd; padding: 0.45em 0.6em; margin: 0 0.25em; line-height: 1; border-radius: 0.35em;\">\n",
       "    Puma\n",
       "    <span style=\"font-size: 0.8em; font-weight: bold; line-height: 1; border-radius: 0.35em; text-transform: uppercase; vertical-align: middle; margin-left: 0.5rem\">BRAND</span>\n",
       "</mark>\n",
       " PJ0029O \n",
       "<mark class=\"entity\" style=\"background: #ddd; padding: 0.45em 0.6em; margin: 0 0.25em; line-height: 1; border-radius: 0.35em;\">\n",
       "    Kids\n",
       "    <span style=\"font-size: 0.8em; font-weight: bold; line-height: 1; border-radius: 0.35em; text-transform: uppercase; vertical-align: middle; margin-left: 0.5rem\">AGE_GROUP</span>\n",
       "</mark>\n",
       " Silmälasit. Collection:Kids. Kehyksen Väri: \n",
       "<mark class=\"entity\" style=\"background: #ddd; padding: 0.45em 0.6em; margin: 0 0.25em; line-height: 1; border-radius: 0.35em;\">\n",
       "    Black.\n",
       "    <span style=\"font-size: 0.8em; font-weight: bold; line-height: 1; border-radius: 0.35em; text-transform: uppercase; vertical-align: middle; margin-left: 0.5rem\">COLOR</span>\n",
       "</mark>\n",
       " Kehysmateriaali: \n",
       "<mark class=\"entity\" style=\"background: #ddd; padding: 0.45em 0.6em; margin: 0 0.25em; line-height: 1; border-radius: 0.35em;\">\n",
       "    Plastic.\n",
       "    <span style=\"font-size: 0.8em; font-weight: bold; line-height: 1; border-radius: 0.35em; text-transform: uppercase; vertical-align: middle; margin-left: 0.5rem\">MATERIAL</span>\n",
       "</mark>\n",
       " Koko: \n",
       "<mark class=\"entity\" style=\"background: #ddd; padding: 0.45em 0.6em; margin: 0 0.25em; line-height: 1; border-radius: 0.35em;\">\n",
       "    50.\n",
       "    <span style=\"font-size: 0.8em; font-weight: bold; line-height: 1; border-radius: 0.35em; text-transform: uppercase; vertical-align: middle; margin-left: 0.5rem\">SIZE</span>\n",
       "</mark>\n",
       "</div></span>"
      ],
      "text/plain": [
       "<IPython.core.display.HTML object>"
      ]
     },
     "metadata": {},
     "output_type": "display_data"
    },
    {
     "data": {
      "text/html": [
       "<span class=\"tex2jax_ignore\"><div class=\"entities\" style=\"line-height: 2.5; direction: ltr\">\n",
       "<mark class=\"entity\" style=\"background: #ddd; padding: 0.45em 0.6em; margin: 0 0.25em; line-height: 1; border-radius: 0.35em;\">\n",
       "    Cazal\n",
       "    <span style=\"font-size: 0.8em; font-weight: bold; line-height: 1; border-radius: 0.35em; text-transform: uppercase; vertical-align: middle; margin-left: 0.5rem\">BRAND</span>\n",
       "</mark>\n",
       " 4268 Silmälasit. Collection:Women. Kehyksen Väri: \n",
       "<mark class=\"entity\" style=\"background: #ddd; padding: 0.45em 0.6em; margin: 0 0.25em; line-height: 1; border-radius: 0.35em;\">\n",
       "    Cream/Gold.\n",
       "    <span style=\"font-size: 0.8em; font-weight: bold; line-height: 1; border-radius: 0.35em; text-transform: uppercase; vertical-align: middle; margin-left: 0.5rem\">COLOR</span>\n",
       "</mark>\n",
       " Kehysmateriaali: \n",
       "<mark class=\"entity\" style=\"background: #ddd; padding: 0.45em 0.6em; margin: 0 0.25em; line-height: 1; border-radius: 0.35em;\">\n",
       "    Metal.\n",
       "    <span style=\"font-size: 0.8em; font-weight: bold; line-height: 1; border-radius: 0.35em; text-transform: uppercase; vertical-align: middle; margin-left: 0.5rem\">MATERIAL</span>\n",
       "</mark>\n",
       " Koko: \n",
       "<mark class=\"entity\" style=\"background: #ddd; padding: 0.45em 0.6em; margin: 0 0.25em; line-height: 1; border-radius: 0.35em;\">\n",
       "    53.\n",
       "    <span style=\"font-size: 0.8em; font-weight: bold; line-height: 1; border-radius: 0.35em; text-transform: uppercase; vertical-align: middle; margin-left: 0.5rem\">SIZE</span>\n",
       "</mark>\n",
       "</div></span>"
      ],
      "text/plain": [
       "<IPython.core.display.HTML object>"
      ]
     },
     "metadata": {},
     "output_type": "display_data"
    },
    {
     "data": {
      "text/html": [
       "<span class=\"tex2jax_ignore\"><div class=\"entities\" style=\"line-height: 2.5; direction: ltr\">Matalat Coolmax-sukat sporttikäyttöön.</div></span>"
      ],
      "text/plain": [
       "<IPython.core.display.HTML object>"
      ]
     },
     "metadata": {},
     "output_type": "display_data"
    },
    {
     "data": {
      "text/html": [
       "<span class=\"tex2jax_ignore\"><div class=\"entities\" style=\"line-height: 2.5; direction: ltr\">Aluminum vase with artistic pattern from \n",
       "<mark class=\"entity\" style=\"background: #ddd; padding: 0.45em 0.6em; margin: 0 0.25em; line-height: 1; border-radius: 0.35em;\">\n",
       "    Stelton\n",
       "    <span style=\"font-size: 0.8em; font-weight: bold; line-height: 1; border-radius: 0.35em; text-transform: uppercase; vertical-align: middle; margin-left: 0.5rem\">BRAND</span>\n",
       "</mark>\n",
       ".</div></span>"
      ],
      "text/plain": [
       "<IPython.core.display.HTML object>"
      ]
     },
     "metadata": {},
     "output_type": "display_data"
    },
    {
     "data": {
      "text/html": [
       "<span class=\"tex2jax_ignore\"><div class=\"entities\" style=\"line-height: 2.5; direction: ltr\">Lyhythihainen t-paita vans flying v crew tee \n",
       "<mark class=\"entity\" style=\"background: #ddd; padding: 0.45em 0.6em; margin: 0 0.25em; line-height: 1; border-radius: 0.35em;\">\n",
       "    pink\n",
       "    <span style=\"font-size: 0.8em; font-weight: bold; line-height: 1; border-radius: 0.35em; text-transform: uppercase; vertical-align: middle; margin-left: 0.5rem\">COLOR</span>\n",
       "</mark>\n",
       " saatavana \n",
       "<mark class=\"entity\" style=\"background: #ddd; padding: 0.45em 0.6em; margin: 0 0.25em; line-height: 1; border-radius: 0.35em;\">\n",
       "    naisten\n",
       "    <span style=\"font-size: 0.8em; font-weight: bold; line-height: 1; border-radius: 0.35em; text-transform: uppercase; vertical-align: middle; margin-left: 0.5rem\">GENDER</span>\n",
       "</mark>\n",
       " kokoja \n",
       "<mark class=\"entity\" style=\"background: #ddd; padding: 0.45em 0.6em; margin: 0 0.25em; line-height: 1; border-radius: 0.35em;\">\n",
       "    s,m,l,xl,xs\n",
       "    <span style=\"font-size: 0.8em; font-weight: bold; line-height: 1; border-radius: 0.35em; text-transform: uppercase; vertical-align: middle; margin-left: 0.5rem\">SIZE</span>\n",
       "</mark>\n",
       "</div></span>"
      ],
      "text/plain": [
       "<IPython.core.display.HTML object>"
      ]
     },
     "metadata": {},
     "output_type": "display_data"
    },
    {
     "data": {
      "text/html": [
       "<span class=\"tex2jax_ignore\"><div class=\"entities\" style=\"line-height: 2.5; direction: ltr\">Amerikkalainen brändi, Tommy Hilfiger luo ikonisia vaatteita, jotka ovat klassisia ja preppyjä.. Luomu.</div></span>"
      ],
      "text/plain": [
       "<IPython.core.display.HTML object>"
      ]
     },
     "metadata": {},
     "output_type": "display_data"
    },
    {
     "data": {
      "text/html": [
       "<span class=\"tex2jax_ignore\"><div class=\"entities\" style=\"line-height: 2.5; direction: ltr\">Lyhythihainen t-paita desigual under multicolour saatavana \n",
       "<mark class=\"entity\" style=\"background: #ddd; padding: 0.45em 0.6em; margin: 0 0.25em; line-height: 1; border-radius: 0.35em;\">\n",
       "    naisten\n",
       "    <span style=\"font-size: 0.8em; font-weight: bold; line-height: 1; border-radius: 0.35em; text-transform: uppercase; vertical-align: middle; margin-left: 0.5rem\">GENDER</span>\n",
       "</mark>\n",
       " \n",
       "<mark class=\"entity\" style=\"background: #ddd; padding: 0.45em 0.6em; margin: 0 0.25em; line-height: 1; border-radius: 0.35em;\">\n",
       "    kokoja l\n",
       "    <span style=\"font-size: 0.8em; font-weight: bold; line-height: 1; border-radius: 0.35em; text-transform: uppercase; vertical-align: middle; margin-left: 0.5rem\">SIZE</span>\n",
       "</mark>\n",
       "</div></span>"
      ],
      "text/plain": [
       "<IPython.core.display.HTML object>"
      ]
     },
     "metadata": {},
     "output_type": "display_data"
    },
    {
     "data": {
      "text/html": [
       "<span class=\"tex2jax_ignore\"><div class=\"entities\" style=\"line-height: 2.5; direction: ltr\">\n",
       "<mark class=\"entity\" style=\"background: #ddd; padding: 0.45em 0.6em; margin: 0 0.25em; line-height: 1; border-radius: 0.35em;\">\n",
       "    Police\n",
       "    <span style=\"font-size: 0.8em; font-weight: bold; line-height: 1; border-radius: 0.35em; text-transform: uppercase; vertical-align: middle; margin-left: 0.5rem\">BRAND</span>\n",
       "</mark>\n",
       " VK079 LAPIS JR 2 \n",
       "<mark class=\"entity\" style=\"background: #ddd; padding: 0.45em 0.6em; margin: 0 0.25em; line-height: 1; border-radius: 0.35em;\">\n",
       "    Kids\n",
       "    <span style=\"font-size: 0.8em; font-weight: bold; line-height: 1; border-radius: 0.35em; text-transform: uppercase; vertical-align: middle; margin-left: 0.5rem\">AGE_GROUP</span>\n",
       "</mark>\n",
       " Silmälasit. Collection:Kids. Kehyksen Väri: Matte \n",
       "<mark class=\"entity\" style=\"background: #ddd; padding: 0.45em 0.6em; margin: 0 0.25em; line-height: 1; border-radius: 0.35em;\">\n",
       "    Blue.\n",
       "    <span style=\"font-size: 0.8em; font-weight: bold; line-height: 1; border-radius: 0.35em; text-transform: uppercase; vertical-align: middle; margin-left: 0.5rem\">COLOR</span>\n",
       "</mark>\n",
       " Kehysmateriaali: \n",
       "<mark class=\"entity\" style=\"background: #ddd; padding: 0.45em 0.6em; margin: 0 0.25em; line-height: 1; border-radius: 0.35em;\">\n",
       "    Plastic.\n",
       "    <span style=\"font-size: 0.8em; font-weight: bold; line-height: 1; border-radius: 0.35em; text-transform: uppercase; vertical-align: middle; margin-left: 0.5rem\">MATERIAL</span>\n",
       "</mark>\n",
       " Koko: \n",
       "<mark class=\"entity\" style=\"background: #ddd; padding: 0.45em 0.6em; margin: 0 0.25em; line-height: 1; border-radius: 0.35em;\">\n",
       "    48.\n",
       "    <span style=\"font-size: 0.8em; font-weight: bold; line-height: 1; border-radius: 0.35em; text-transform: uppercase; vertical-align: middle; margin-left: 0.5rem\">SIZE</span>\n",
       "</mark>\n",
       "</div></span>"
      ],
      "text/plain": [
       "<IPython.core.display.HTML object>"
      ]
     },
     "metadata": {},
     "output_type": "display_data"
    },
    {
     "data": {
      "text/html": [
       "<span class=\"tex2jax_ignore\"><div class=\"entities\" style=\"line-height: 2.5; direction: ltr\">Monitoimisukat, materiaali kosteutta siirtävää keinokuitua.</div></span>"
      ],
      "text/plain": [
       "<IPython.core.display.HTML object>"
      ]
     },
     "metadata": {},
     "output_type": "display_data"
    },
    {
     "data": {
      "text/html": [
       "<span class=\"tex2jax_ignore\"><div class=\"entities\" style=\"line-height: 2.5; direction: ltr\">GANT \n",
       "<mark class=\"entity\" style=\"background: #ddd; padding: 0.45em 0.6em; margin: 0 0.25em; line-height: 1; border-radius: 0.35em;\">\n",
       "    Flairville\n",
       "    <span style=\"font-size: 0.8em; font-weight: bold; line-height: 1; border-radius: 0.35em; text-transform: uppercase; vertical-align: middle; margin-left: 0.5rem\">BRAND</span>\n",
       "</mark>\n",
       " Low Laceshoes</div></span>"
      ],
      "text/plain": [
       "<IPython.core.display.HTML object>"
      ]
     },
     "metadata": {},
     "output_type": "display_data"
    }
   ],
   "source": [
    "for n in range(0,200):\n",
    "    if type(df['description'].loc[n])==str:\n",
    "        if df['description'].loc[n] not in description_unique_brand:\n",
    "            doc = nlp(df['description'].loc[n])\n",
    "            spacy.displacy.render(doc, style=\"ent\")"
   ]
  },
  {
   "cell_type": "markdown",
   "metadata": {},
   "source": [
    "### 3) Arbirary texts"
   ]
  },
  {
   "cell_type": "code",
   "execution_count": 28,
   "metadata": {},
   "outputs": [
    {
     "data": {
      "text/html": [
       "<span class=\"tex2jax_ignore\"><div class=\"entities\" style=\"line-height: 2.5; direction: ltr\">I have \n",
       "<mark class=\"entity\" style=\"background: #ddd; padding: 0.45em 0.6em; margin: 0 0.25em; line-height: 1; border-radius: 0.35em;\">\n",
       "    adidas\n",
       "    <span style=\"font-size: 0.8em; font-weight: bold; line-height: 1; border-radius: 0.35em; text-transform: uppercase; vertical-align: middle; margin-left: 0.5rem\">BRAND</span>\n",
       "</mark>\n",
       " Originals \n",
       "<mark class=\"entity\" style=\"background: #ddd; padding: 0.45em 0.6em; margin: 0 0.25em; line-height: 1; border-radius: 0.35em;\">\n",
       "    White\n",
       "    <span style=\"font-size: 0.8em; font-weight: bold; line-height: 1; border-radius: 0.35em; text-transform: uppercase; vertical-align: middle; margin-left: 0.5rem\">COLOR</span>\n",
       "</mark>\n",
       " sneakers.</div></span>"
      ],
      "text/plain": [
       "<IPython.core.display.HTML object>"
      ]
     },
     "metadata": {},
     "output_type": "display_data"
    }
   ],
   "source": [
    "doc = nlp('I have adidas Originals White sneakers.')\n",
    "spacy.displacy.render(doc, style=\"ent\")"
   ]
  },
  {
   "cell_type": "code",
   "execution_count": 29,
   "metadata": {},
   "outputs": [
    {
     "data": {
      "text/html": [
       "<span class=\"tex2jax_ignore\"><div class=\"entities\" style=\"line-height: 2.5; direction: ltr\">You have \n",
       "<mark class=\"entity\" style=\"background: #ddd; padding: 0.45em 0.6em; margin: 0 0.25em; line-height: 1; border-radius: 0.35em;\">\n",
       "    Soyaconcept\n",
       "    <span style=\"font-size: 0.8em; font-weight: bold; line-height: 1; border-radius: 0.35em; text-transform: uppercase; vertical-align: middle; margin-left: 0.5rem\">BRAND</span>\n",
       "</mark>\n",
       " \n",
       "<mark class=\"entity\" style=\"background: #ddd; padding: 0.45em 0.6em; margin: 0 0.25em; line-height: 1; border-radius: 0.35em;\">\n",
       "    Blue\n",
       "    <span style=\"font-size: 0.8em; font-weight: bold; line-height: 1; border-radius: 0.35em; text-transform: uppercase; vertical-align: middle; margin-left: 0.5rem\">COLOR</span>\n",
       "</mark>\n",
       " coat.</div></span>"
      ],
      "text/plain": [
       "<IPython.core.display.HTML object>"
      ]
     },
     "metadata": {},
     "output_type": "display_data"
    }
   ],
   "source": [
    "doc = nlp('You have Soyaconcept Blue coat.')\n",
    "spacy.displacy.render(doc, style=\"ent\")"
   ]
  },
  {
   "cell_type": "code",
   "execution_count": 30,
   "metadata": {},
   "outputs": [
    {
     "data": {
      "text/html": [
       "<span class=\"tex2jax_ignore\"><div class=\"entities\" style=\"line-height: 2.5; direction: ltr\">I have a \n",
       "<mark class=\"entity\" style=\"background: #ddd; padding: 0.45em 0.6em; margin: 0 0.25em; line-height: 1; border-radius: 0.35em;\">\n",
       "    Black\n",
       "    <span style=\"font-size: 0.8em; font-weight: bold; line-height: 1; border-radius: 0.35em; text-transform: uppercase; vertical-align: middle; margin-left: 0.5rem\">COLOR</span>\n",
       "</mark>\n",
       " shirt, which is \n",
       "<mark class=\"entity\" style=\"background: #ddd; padding: 0.45em 0.6em; margin: 0 0.25em; line-height: 1; border-radius: 0.35em;\">\n",
       "    3 kg.\n",
       "    <span style=\"font-size: 0.8em; font-weight: bold; line-height: 1; border-radius: 0.35em; text-transform: uppercase; vertical-align: middle; margin-left: 0.5rem\">WEIGHT</span>\n",
       "</mark>\n",
       "</div></span>"
      ],
      "text/plain": [
       "<IPython.core.display.HTML object>"
      ]
     },
     "metadata": {},
     "output_type": "display_data"
    }
   ],
   "source": [
    "doc = nlp('I have a Black shirt, which is 3 kg.')\n",
    "spacy.displacy.render(doc, style=\"ent\")"
   ]
  },
  {
   "cell_type": "markdown",
   "metadata": {},
   "source": [
    "## 7. Accuracy"
   ]
  },
  {
   "cell_type": "code",
   "execution_count": 31,
   "metadata": {},
   "outputs": [],
   "source": [
    "def evaluate(ner_model, examples):\n",
    "    scorer = Scorer()\n",
    "    for input_, annot in examples:\n",
    "        doc_gold_text = ner_model.make_doc(input_)\n",
    "        gold = GoldParse(doc_gold_text, entities=annot['entities'])\n",
    "        pred_value = ner_model(input_)\n",
    "        scorer.score(pred_value, gold)\n",
    "    return scorer.scores"
   ]
  },
  {
   "cell_type": "markdown",
   "metadata": {},
   "source": [
    "The explanations of the scores:\n",
    "- ents_p: Named entity accuracy (precision).\n",
    "- ents_r: Named entity accuracy (recall).\n",
    "- ents_f: Named entity accuracy (F-score).\n",
    "- ents_per_type: Scores per entity label. Keyed by label, mapped to a dict of p, r and f scores.\n",
    "- token_acc: Tokenization accuracy."
   ]
  },
  {
   "cell_type": "markdown",
   "metadata": {},
   "source": [
    "### 1) Scores on the Trained Data"
   ]
  },
  {
   "cell_type": "code",
   "execution_count": 32,
   "metadata": {},
   "outputs": [],
   "source": [
    "results = evaluate(nlp, TRAIN_DATA)"
   ]
  },
  {
   "cell_type": "code",
   "execution_count": 33,
   "metadata": {
    "scrolled": false
   },
   "outputs": [
    {
     "data": {
      "text/plain": [
       "{'uas': 0.0,\n",
       " 'las': 0.0,\n",
       " 'las_per_type': {'': {'p': 0.0, 'r': 0.0, 'f': 0.0}},\n",
       " 'ents_p': 99.94165013420469,\n",
       " 'ents_r': 99.97081655285123,\n",
       " 'ents_f': 99.95623121589682,\n",
       " 'ents_per_type': {'BRAND': {'p': 99.95724668661822,\n",
       "   'r': 99.9714937286203,\n",
       "   'f': 99.96436969999287},\n",
       "  'GENDER': {'p': 100.0, 'r': 100.0, 'f': 100.0},\n",
       "  'COLOR': {'p': 100.0, 'r': 99.97281131049483, 'f': 99.98640380693406},\n",
       "  'SIZE': {'p': 99.83510011778563,\n",
       "   'r': 99.95283018867924,\n",
       "   'f': 99.8939304655274},\n",
       "  'MATERIAL': {'p': 100.0, 'r': 100.0, 'f': 100.0},\n",
       "  'WEIGHT': {'p': 100.0, 'r': 100.0, 'f': 100.0},\n",
       "  'AGE_GROUP': {'p': 100.0, 'r': 100.0, 'f': 100.0}},\n",
       " 'tags_acc': 0.0,\n",
       " 'token_acc': 100.0,\n",
       " 'textcat_score': 0.0,\n",
       " 'textcats_per_cat': {}}"
      ]
     },
     "execution_count": 33,
     "metadata": {},
     "output_type": "execute_result"
    }
   ],
   "source": [
    "results"
   ]
  },
  {
   "cell_type": "markdown",
   "metadata": {},
   "source": [
    "### 2) Scores on the Unseen Data"
   ]
  },
  {
   "cell_type": "code",
   "execution_count": 34,
   "metadata": {},
   "outputs": [],
   "source": [
    "df_sample=df.sample(n=1000, random_state=1)"
   ]
  },
  {
   "cell_type": "code",
   "execution_count": 35,
   "metadata": {},
   "outputs": [],
   "source": [
    "test_data=[]\n",
    "for n in range(0,len(df_sample['title'])):\n",
    "    if df_sample['title'].iloc[n] not in titles_unique_brand:\n",
    "        annotation=obtain_annotation(df_sample['title'].iloc[n])\n",
    "        if annotation[1]['entities']!=[]:\n",
    "            test_data.append(annotation)"
   ]
  },
  {
   "cell_type": "code",
   "execution_count": 36,
   "metadata": {},
   "outputs": [],
   "source": [
    "for n in range(0,len(df_sample['description'])):\n",
    "    if type(df_sample['description'].iloc[n])==str:\n",
    "        if df_sample['description'].iloc[n] not in description_unique_brand:\n",
    "            if '<' not in df_sample['description'].iloc[n]:\n",
    "                if '&' not in df_sample['description'].iloc[n]:\n",
    "                    annotation=obtain_annotation(df_sample['description'].iloc[n])\n",
    "                    if annotation[1]['entities']!=[]:\n",
    "                        test_data.append(annotation)"
   ]
  },
  {
   "cell_type": "code",
   "execution_count": 37,
   "metadata": {},
   "outputs": [
    {
     "data": {
      "text/plain": [
       "1414"
      ]
     },
     "execution_count": 37,
     "metadata": {},
     "output_type": "execute_result"
    }
   ],
   "source": [
    "len(test_data)"
   ]
  },
  {
   "cell_type": "code",
   "execution_count": 38,
   "metadata": {},
   "outputs": [],
   "source": [
    "with open(\"test_data.txt\", \"wb\") as fp:   #Pickling\n",
    "    pickle.dump(test_data, fp)"
   ]
  },
  {
   "cell_type": "code",
   "execution_count": 39,
   "metadata": {},
   "outputs": [],
   "source": [
    "results = evaluate(nlp, test_data)"
   ]
  },
  {
   "cell_type": "code",
   "execution_count": 40,
   "metadata": {},
   "outputs": [
    {
     "data": {
      "text/plain": [
       "{'uas': 0.0,\n",
       " 'las': 0.0,\n",
       " 'las_per_type': {'': {'p': 0.0, 'r': 0.0, 'f': 0.0}},\n",
       " 'ents_p': 85.61244329228775,\n",
       " 'ents_r': 87.80325689597873,\n",
       " 'ents_f': 86.69401148482363,\n",
       " 'ents_per_type': {'GENDER': {'p': 99.28057553956835,\n",
       "   'r': 99.28057553956835,\n",
       "   'f': 99.28057553956835},\n",
       "  'BRAND': {'p': 84.85663082437276,\n",
       "   'r': 84.32769367764915,\n",
       "   'f': 84.59133541759712},\n",
       "  'COLOR': {'p': 88.31908831908832,\n",
       "   'r': 90.77598828696925,\n",
       "   'f': 89.53068592057761},\n",
       "  'SIZE': {'p': 81.05515587529976,\n",
       "   'r': 86.33461047254151,\n",
       "   'f': 83.61162646876932},\n",
       "  'AGE_GROUP': {'p': 100.0, 'r': 100.0, 'f': 100.0},\n",
       "  'MATERIAL': {'p': 89.92537313432835,\n",
       "   'r': 92.33716475095785,\n",
       "   'f': 91.11531190926276},\n",
       "  'WEIGHT': {'p': 30.0, 'r': 100.0, 'f': 46.15384615384615}},\n",
       " 'tags_acc': 0.0,\n",
       " 'token_acc': 100.0,\n",
       " 'textcat_score': 0.0,\n",
       " 'textcats_per_cat': {}}"
      ]
     },
     "execution_count": 40,
     "metadata": {},
     "output_type": "execute_result"
    }
   ],
   "source": [
    "results"
   ]
  },
  {
   "cell_type": "markdown",
   "metadata": {},
   "source": [
    "- The overall accuraries are above 80%.\n",
    "- The accuracies for each type are:\n",
    "    - The most accurate entity label is GENDER and AGE_GROUP (>99%) for all three types of accuracies.\n",
    "    - The second most accurate entity label is MATERIAL (approximately 90%) for all three types of accuracies.\n",
    "    - The accuraies of COLOR  label is above just below 90%.\n",
    "    - BRAND, SIZE have similar accuracies, which are above 80%.\n",
    "    - WEIGHT label gives quite a different values for three types of accuracies."
   ]
  },
  {
   "cell_type": "markdown",
   "metadata": {},
   "source": [
    "## 8. Conclusion\n",
    "\n",
    "The results for the trained data and unseen data are both good. Although the accuracy of the trained data is alost 100%, the accuracy on the unseen data is above 85%. This means that this model is overfitting a bit. Future works should be focused on increasing the accuracy of the test data."
   ]
  }
 ],
 "metadata": {
  "kernelspec": {
   "display_name": "Python3",
   "language": "python",
   "name": "python3"
  },
  "language_info": {
   "codemirror_mode": {
    "name": "ipython",
    "version": 3
   },
   "file_extension": ".py",
   "mimetype": "text/x-python",
   "name": "python",
   "nbconvert_exporter": "python",
   "pygments_lexer": "ipython3",
   "version": "3.8.2"
  },
  "latex_envs": {
   "LaTeX_envs_menu_present": true,
   "autoclose": false,
   "autocomplete": true,
   "bibliofile": "biblio.bib",
   "cite_by": "apalike",
   "current_citInitial": 1,
   "eqLabelWithNumbers": true,
   "eqNumInitial": 1,
   "hotkeys": {
    "equation": "Ctrl-E",
    "itemize": "Ctrl-I"
   },
   "labels_anchors": false,
   "latex_user_defs": false,
   "report_style_numbering": false,
   "user_envs_cfg": false
  },
  "varInspector": {
   "cols": {
    "lenName": 16,
    "lenType": 16,
    "lenVar": 40
   },
   "kernels_config": {
    "python": {
     "delete_cmd_postfix": "",
     "delete_cmd_prefix": "del ",
     "library": "var_list.py",
     "varRefreshCmd": "print(var_dic_list())"
    },
    "r": {
     "delete_cmd_postfix": ") ",
     "delete_cmd_prefix": "rm(",
     "library": "var_list.r",
     "varRefreshCmd": "cat(var_dic_list()) "
    }
   },
   "types_to_exclude": [
    "module",
    "function",
    "builtin_function_or_method",
    "instance",
    "_Feature"
   ],
   "window_display": false
  }
 },
 "nbformat": 4,
 "nbformat_minor": 2
}
