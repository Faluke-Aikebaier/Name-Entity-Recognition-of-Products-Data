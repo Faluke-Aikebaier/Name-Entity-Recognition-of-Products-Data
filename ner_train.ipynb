{
 "cells": [
  {
   "cell_type": "markdown",
   "metadata": {},
   "source": [
    "# Name-Entity Recognition of Descriptoins of Various Products\n",
    "\n",
    "## Part II: Training the Model"
   ]
  },
  {
   "cell_type": "markdown",
   "metadata": {},
   "source": [
    "## 1. Dataset"
   ]
  },
  {
   "cell_type": "code",
   "execution_count": 1,
   "metadata": {},
   "outputs": [],
   "source": [
    "import pandas as pd\n",
    "import numpy as np\n",
    "import plac\n",
    "import random\n",
    "from pathlib import Path\n",
    "import spacy\n",
    "from tqdm import tqdm \n",
    "from spacy.util import minibatch, compounding\n",
    "from spacy import displacy\n",
    "import string\n",
    "import pickle\n",
    "from spacy.gold import GoldParse\n",
    "from spacy.scorer import Scorer"
   ]
  },
  {
   "cell_type": "code",
   "execution_count": 2,
   "metadata": {},
   "outputs": [],
   "source": [
    "df = pd.read_csv(\"data.csv\")"
   ]
  },
  {
   "cell_type": "code",
   "execution_count": 3,
   "metadata": {},
   "outputs": [
    {
     "data": {
      "text/plain": [
       "(671621, 8)"
      ]
     },
     "execution_count": 3,
     "metadata": {},
     "output_type": "execute_result"
    }
   ],
   "source": [
    "df.shape"
   ]
  },
  {
   "cell_type": "code",
   "execution_count": 4,
   "metadata": {
    "scrolled": true
   },
   "outputs": [
    {
     "data": {
      "text/html": [
       "<div>\n",
       "<style scoped>\n",
       "    .dataframe tbody tr th:only-of-type {\n",
       "        vertical-align: middle;\n",
       "    }\n",
       "\n",
       "    .dataframe tbody tr th {\n",
       "        vertical-align: top;\n",
       "    }\n",
       "\n",
       "    .dataframe thead th {\n",
       "        text-align: right;\n",
       "    }\n",
       "</style>\n",
       "<table border=\"1\" class=\"dataframe\">\n",
       "  <thead>\n",
       "    <tr style=\"text-align: right;\">\n",
       "      <th></th>\n",
       "      <th>title</th>\n",
       "      <th>description</th>\n",
       "      <th>summary</th>\n",
       "      <th>brand</th>\n",
       "      <th>price</th>\n",
       "      <th>meta</th>\n",
       "      <th>provider_category</th>\n",
       "      <th>provider</th>\n",
       "    </tr>\n",
       "  </thead>\n",
       "  <tbody>\n",
       "    <tr>\n",
       "      <th>0</th>\n",
       "      <td>adidas Originals - Superstar - Valkoinen - US 5,5</td>\n",
       "      <td>NaN</td>\n",
       "      <td>NaN</td>\n",
       "      <td>adidas Originals</td>\n",
       "      <td>66.50</td>\n",
       "      <td>{\"SIZE\": [\"us 5,5\"], \"COLOR\": [\"valkoinen\"], \"...</td>\n",
       "      <td>17-muoti-ja-vaatetus</td>\n",
       "      <td>Caliroots</td>\n",
       "    </tr>\n",
       "    <tr>\n",
       "      <th>1</th>\n",
       "      <td>Sc-Erna Polvipituinen Hame Sininen Soyaconcept</td>\n",
       "      <td>SOYACONCEPT on tanskalainen brändi, joka luo e...</td>\n",
       "      <td>NaN</td>\n",
       "      <td>Soyaconcept</td>\n",
       "      <td>49.99</td>\n",
       "      <td>{\"SIZE\": [\"36\"], \"COLOR\": [\"cristal blue\"], \"G...</td>\n",
       "      <td>17-muoti-ja-vaatetus</td>\n",
       "      <td>Boozt</td>\n",
       "    </tr>\n",
       "    <tr>\n",
       "      <th>2</th>\n",
       "      <td>Dana Buchman Silmälasit Taren CARAMEL TORTOISE</td>\n",
       "      <td>Dana Buchman Taren Silmälasit. Collection:Men....</td>\n",
       "      <td>NaN</td>\n",
       "      <td>Dana Buchman</td>\n",
       "      <td>146.00</td>\n",
       "      <td>{\"SIZE\": [\"54\"], \"COLOR\": [\"tortoise\"], \"GENDE...</td>\n",
       "      <td>13-silmalasit-ja-piilolinssit</td>\n",
       "      <td>Smartbuy Glasses</td>\n",
       "    </tr>\n",
       "    <tr>\n",
       "      <th>3</th>\n",
       "      <td>Active Sports Woven Shorts B Shortsit Musta PUMA</td>\n",
       "      <td>PUMA Active Sports Woven Shorts B</td>\n",
       "      <td>NaN</td>\n",
       "      <td>PUMA</td>\n",
       "      <td>27.00</td>\n",
       "      <td>{\"SIZE\": [\"164\", \"128\", \"110\", \"116\", \"104\", \"...</td>\n",
       "      <td>17-muoti-ja-vaatetus</td>\n",
       "      <td>Boozt</td>\n",
       "    </tr>\n",
       "    <tr>\n",
       "      <th>4</th>\n",
       "      <td>Renata Polvipituinen Hame Musta Fall Winter Sp...</td>\n",
       "      <td>Fall Winter Spring Summer. A-linjainen.</td>\n",
       "      <td>NaN</td>\n",
       "      <td>Fall Winter Spring Summer</td>\n",
       "      <td>199.00</td>\n",
       "      <td>{\"SIZE\": [\"xs\"], \"COLOR\": [\"jet black\"], \"GEND...</td>\n",
       "      <td>17-muoti-ja-vaatetus</td>\n",
       "      <td>Boozt</td>\n",
       "    </tr>\n",
       "  </tbody>\n",
       "</table>\n",
       "</div>"
      ],
      "text/plain": [
       "                                               title  \\\n",
       "0  adidas Originals - Superstar - Valkoinen - US 5,5   \n",
       "1     Sc-Erna Polvipituinen Hame Sininen Soyaconcept   \n",
       "2     Dana Buchman Silmälasit Taren CARAMEL TORTOISE   \n",
       "3   Active Sports Woven Shorts B Shortsit Musta PUMA   \n",
       "4  Renata Polvipituinen Hame Musta Fall Winter Sp...   \n",
       "\n",
       "                                         description summary  \\\n",
       "0                                                NaN     NaN   \n",
       "1  SOYACONCEPT on tanskalainen brändi, joka luo e...     NaN   \n",
       "2  Dana Buchman Taren Silmälasit. Collection:Men....     NaN   \n",
       "3                  PUMA Active Sports Woven Shorts B     NaN   \n",
       "4            Fall Winter Spring Summer. A-linjainen.     NaN   \n",
       "\n",
       "                       brand   price  \\\n",
       "0           adidas Originals   66.50   \n",
       "1                Soyaconcept   49.99   \n",
       "2               Dana Buchman  146.00   \n",
       "3                       PUMA   27.00   \n",
       "4  Fall Winter Spring Summer  199.00   \n",
       "\n",
       "                                                meta  \\\n",
       "0  {\"SIZE\": [\"us 5,5\"], \"COLOR\": [\"valkoinen\"], \"...   \n",
       "1  {\"SIZE\": [\"36\"], \"COLOR\": [\"cristal blue\"], \"G...   \n",
       "2  {\"SIZE\": [\"54\"], \"COLOR\": [\"tortoise\"], \"GENDE...   \n",
       "3  {\"SIZE\": [\"164\", \"128\", \"110\", \"116\", \"104\", \"...   \n",
       "4  {\"SIZE\": [\"xs\"], \"COLOR\": [\"jet black\"], \"GEND...   \n",
       "\n",
       "               provider_category          provider  \n",
       "0           17-muoti-ja-vaatetus         Caliroots  \n",
       "1           17-muoti-ja-vaatetus             Boozt  \n",
       "2  13-silmalasit-ja-piilolinssit  Smartbuy Glasses  \n",
       "3           17-muoti-ja-vaatetus             Boozt  \n",
       "4           17-muoti-ja-vaatetus             Boozt  "
      ]
     },
     "execution_count": 4,
     "metadata": {},
     "output_type": "execute_result"
    }
   ],
   "source": [
    "df.head()"
   ]
  },
  {
   "cell_type": "code",
   "execution_count": 5,
   "metadata": {},
   "outputs": [
    {
     "name": "stdout",
     "output_type": "stream",
     "text": [
      "title                adidas Originals - Superstar - Valkoinen - US 5,5\n",
      "description                                                        NaN\n",
      "summary                                                            NaN\n",
      "brand                                                 adidas Originals\n",
      "price                                                             66.5\n",
      "meta                 {\"SIZE\": [\"us 5,5\"], \"COLOR\": [\"valkoinen\"], \"...\n",
      "provider_category                                 17-muoti-ja-vaatetus\n",
      "provider                                                     Caliroots\n",
      "Name: 0, dtype: object\n",
      "{\"SIZE\": [\"us 5,5\"], \"COLOR\": [\"valkoinen\"], \"GENDER\": [\"unisex\"]}\n"
     ]
    }
   ],
   "source": [
    "i=0\n",
    "print(df.loc[i])\n",
    "print(df['meta'].loc[i])"
   ]
  },
  {
   "cell_type": "code",
   "execution_count": 6,
   "metadata": {
    "scrolled": false
   },
   "outputs": [
    {
     "name": "stdout",
     "output_type": "stream",
     "text": [
      "title                   Sc-Erna Polvipituinen Hame Sininen Soyaconcept\n",
      "description          SOYACONCEPT on tanskalainen brändi, joka luo e...\n",
      "summary                                                            NaN\n",
      "brand                                                      Soyaconcept\n",
      "price                                                            49.99\n",
      "meta                 {\"SIZE\": [\"36\"], \"COLOR\": [\"cristal blue\"], \"G...\n",
      "provider_category                                 17-muoti-ja-vaatetus\n",
      "provider                                                         Boozt\n",
      "Name: 1, dtype: object\n",
      "{\"SIZE\": [\"36\"], \"COLOR\": [\"cristal blue\"], \"GENDER\": [\"women\"]}\n"
     ]
    }
   ],
   "source": [
    "i=1\n",
    "print(df.loc[i])\n",
    "print(df['meta'].loc[i])"
   ]
  },
  {
   "cell_type": "markdown",
   "metadata": {},
   "source": [
    "## 2. Entity and Entity Types\n",
    "\n",
    "One can obtain entity and entity types from the *meta* and *brand* columns. However, there are many words incorrectly written entities. These are deleted, and many entities obtained from the *title* and *descriptoin* columns are added by hand. The saved model are uploaded below: "
   ]
  },
  {
   "cell_type": "code",
   "execution_count": 7,
   "metadata": {},
   "outputs": [],
   "source": [
    "with open(\"entity.txt\", \"rb\") as fp:   # Unpickling\n",
    "    entity = pickle.load(fp)"
   ]
  },
  {
   "cell_type": "code",
   "execution_count": 8,
   "metadata": {},
   "outputs": [],
   "source": [
    "with open(\"entity_types.txt\", \"rb\") as fp:   # Unpickling\n",
    "    entity_types = pickle.load(fp)"
   ]
  },
  {
   "cell_type": "code",
   "execution_count": 9,
   "metadata": {},
   "outputs": [],
   "source": [
    "with open(\"titles_unique_brand.txt\", \"rb\") as fp:   # Unpickling\n",
    "    titles_unique_brand = pickle.load(fp)"
   ]
  },
  {
   "cell_type": "code",
   "execution_count": 10,
   "metadata": {},
   "outputs": [],
   "source": [
    "with open(\"description_unique_brand.txt\", \"rb\") as fp:   # Unpickling\n",
    "    description_unique_brand = pickle.load(fp)"
   ]
  },
  {
   "cell_type": "code",
   "execution_count": 11,
   "metadata": {},
   "outputs": [
    {
     "data": {
      "text/plain": [
       "['US 5,5',\n",
       " 'Valkoinen',\n",
       " '36',\n",
       " 'Cristal Blue',\n",
       " '54',\n",
       " 'Tortoise',\n",
       " '164',\n",
       " '128',\n",
       " '110',\n",
       " '116']"
      ]
     },
     "execution_count": 11,
     "metadata": {},
     "output_type": "execute_result"
    }
   ],
   "source": [
    "entity[0:10]"
   ]
  },
  {
   "cell_type": "code",
   "execution_count": 12,
   "metadata": {},
   "outputs": [
    {
     "data": {
      "text/plain": [
       "['SIZE',\n",
       " 'COLOR',\n",
       " 'SIZE',\n",
       " 'COLOR',\n",
       " 'SIZE',\n",
       " 'COLOR',\n",
       " 'SIZE',\n",
       " 'SIZE',\n",
       " 'SIZE',\n",
       " 'SIZE']"
      ]
     },
     "execution_count": 12,
     "metadata": {},
     "output_type": "execute_result"
    }
   ],
   "source": [
    "entity_types[0:10]"
   ]
  },
  {
   "cell_type": "markdown",
   "metadata": {},
   "source": [
    "## 3. Obtaining Training Data\n",
    "\n",
    "- Loop through the title column, and the description column, make a list extracted from title/description column which have unique brands.\n",
    "    - For the description column, we can drop rows include `&` and `<b>` signs, in order to increase the accuracy.\n",
    "- In each loop, use the entity and entity types lists:\n",
    "    - Construct annotation, but this annotation will be highly overlapped in the charactors' ranges. This is not allowed in the training process. \n",
    "    - Get rid of overlapped charactors' ranges, always choose the phrases with wider range\n",
    "    - Repeating the same process above, in case there are still overlapped charactors' ranges. This is due to the fact that, the wirtten code, only compares two phrases at once, and this may lead to some left over overlapping. "
   ]
  },
  {
   "cell_type": "code",
   "execution_count": 13,
   "metadata": {
    "scrolled": false
   },
   "outputs": [],
   "source": [
    "def obtain_annotation(title):\n",
    "    \n",
    "    # Initial annotation, charactors' ranges are highly overlapped\n",
    "    entity_set_list=[]\n",
    "    entity_dict={}\n",
    "    entity_set_range_list=[]\n",
    "    for m in range(0,len(entity)):\n",
    "        if entity[m] in title:\n",
    "            index_i=title.find(entity[m])\n",
    "            index_f=index_i+len(entity[m])\n",
    "            if (index_i != 0) and (index_f != len(title)):\n",
    "                if (title[index_i-1] == ' ' and title[index_f] == ' '):\n",
    "                    #print(entity[m])\n",
    "                    entity_tuple=(index_i, index_f, entity_types[m])\n",
    "                    entity_set_list.append(entity_tuple)\n",
    "                    entity_set_range_list.append(range(index_i, index_f))\n",
    "            if (index_i == 0) and (index_f != len(title)):\n",
    "                if (title[index_f] == ' '):\n",
    "                    #print(entity[m])\n",
    "                    entity_tuple=(index_i, index_f, entity_types[m])\n",
    "                    entity_set_list.append(entity_tuple)\n",
    "                    entity_set_range_list.append(range(index_i, index_f))\n",
    "            if (index_i != 0) and (index_f == len(title)):\n",
    "                if (title[index_i-1] == ' '):\n",
    "                    #print(entity[m], index_i, index_f)\n",
    "                    entity_tuple=(index_i, index_f, entity_types[m])\n",
    "                    entity_set_list.append(entity_tuple)\n",
    "                    entity_set_range_list.append(range(index_i, index_f))\n",
    "\n",
    "    # Second Step: Get rid of overlapped charactors' ranges\n",
    "    entity_set_list_2=[]\n",
    "    for n, entity_set_range_1 in enumerate(entity_set_range_list):\n",
    "        entity_set_range_test=set(entity_set_range_1)\n",
    "        inter=0\n",
    "        entity_set_list_2_temp=[]\n",
    "        for m, entity_set_range_2 in enumerate(entity_set_range_list):\n",
    "            if entity_set_range_1 != entity_set_range_2:\n",
    "                interss=entity_set_range_test.intersection(entity_set_range_2)\n",
    "                #entity_set_list_2_temp=[]\n",
    "                if interss==set():\n",
    "                    inter += 1\n",
    "                else:\n",
    "                    if set(entity_set_range_1)>set(entity_set_range_2):\n",
    "                        if entity_set_list[n] not in entity_set_list_2_temp:\n",
    "                            entity_set_list_2_temp.append(entity_set_list[n])\n",
    "                    elif set(entity_set_range_1)<set(entity_set_range_2):\n",
    "                        if entity_set_list[m] not in entity_set_list_2_temp:\n",
    "                            entity_set_list_2_temp.append(entity_set_list[m])\n",
    "            else:\n",
    "                if entity_set_list[n] not in entity_set_list_2_temp:\n",
    "                    entity_set_list_2_temp.append(entity_set_list[n])\n",
    "        if m == inter:\n",
    "            if entity_set_list[n] not in entity_set_list_2:\n",
    "                entity_set_list_2.append(entity_set_list[n])\n",
    "        else:\n",
    "            for entity_set_list_2_temp_item in entity_set_list_2_temp:\n",
    "                if entity_set_list_2_temp_item not in entity_set_list_2:\n",
    "                    entity_set_list_2.append(entity_set_list_2_temp_item)\n",
    "    \n",
    "    # Third Step: Get rid of overlapped charactors' ranges further if any\n",
    "    entity_set_list_3=[]\n",
    "    for n, item_1 in enumerate(entity_set_list_2):\n",
    "        item_1_range=range(item_1[0],item_1[1])\n",
    "        inter=0\n",
    "        entity_set_list_2_temp=[]\n",
    "        for m, item_2 in enumerate(entity_set_list_2):\n",
    "            item_2_range=range(item_2[0],item_2[1])\n",
    "            if item_1_range != item_2_range:\n",
    "                interss=set(item_1_range).intersection(item_2_range)\n",
    "                if interss == set():\n",
    "                    inter += 1\n",
    "                else:\n",
    "                    if set(item_1_range)>set(item_2_range):\n",
    "                        if item_1 not in entity_set_list_2_temp:\n",
    "                            entity_set_list_2_temp.append(item_1)\n",
    "                    elif set(item_1_range)<set(item_2_range):\n",
    "                        if item_2 not in entity_set_list_2_temp:\n",
    "                            entity_set_list_2_temp.append(item_2)\n",
    "        if m == inter:\n",
    "            entity_set_list_3.append(item_1)\n",
    "        else:\n",
    "            for entity_set_list_2_temp_item in entity_set_list_2_temp:\n",
    "                if entity_set_list_2_temp_item not in entity_set_list_3:\n",
    "                    entity_set_list_3.append(entity_set_list_2_temp_item)\n",
    "    \n",
    "    # Fourth Step: Get rid of overlapped charactors' ranges further if any\n",
    "    entity_set_list_4=[]\n",
    "    for n, item_1 in enumerate(entity_set_list_3):\n",
    "        item_1_range=range(item_1[0],item_1[1])\n",
    "        inter=0\n",
    "        entity_set_list_2_temp=[]\n",
    "        for m, item_2 in enumerate(entity_set_list_3):\n",
    "            item_2_range=range(item_2[0],item_2[1])\n",
    "            if item_1_range != item_2_range:\n",
    "                interss=set(item_1_range).intersection(item_2_range)\n",
    "                if interss == set():\n",
    "                    inter += 1\n",
    "                else:\n",
    "                    if set(item_1_range)>set(item_2_range):\n",
    "                        if item_1 not in entity_set_list_2_temp:\n",
    "                            entity_set_list_2_temp.append(item_1)\n",
    "                    elif set(item_1_range)<set(item_2_range):\n",
    "                        if item_2 not in entity_set_list_2_temp:\n",
    "                            entity_set_list_2_temp.append(item_2)\n",
    "        if m == inter:\n",
    "            entity_set_list_4.append(item_1)\n",
    "        else:\n",
    "            for entity_set_list_2_temp_item in entity_set_list_2_temp:\n",
    "                if entity_set_list_2_temp_item not in entity_set_list_4:\n",
    "                    entity_set_list_4.append(entity_set_list_2_temp_item)\n",
    "    \n",
    "    # Fifth Step: Get rid of overlapped charactors' ranges further if any\n",
    "    entity_set_list_5=[]\n",
    "    for n, item_1 in enumerate(entity_set_list_4):\n",
    "        item_1_range=range(item_1[0],item_1[1])\n",
    "        inter=0\n",
    "        entity_set_list_2_temp=[]\n",
    "        for m, item_2 in enumerate(entity_set_list_4):\n",
    "            item_2_range=range(item_2[0],item_2[1])\n",
    "            if item_1_range != item_2_range:\n",
    "                interss=set(item_1_range).intersection(item_2_range)\n",
    "                if interss == set():\n",
    "                    inter += 1\n",
    "                else:\n",
    "                    if set(item_1_range)>set(item_2_range):\n",
    "                        if item_1 not in entity_set_list_2_temp:\n",
    "                            entity_set_list_2_temp.append(item_1)\n",
    "                    elif set(item_1_range)<set(item_2_range):\n",
    "                        if item_2 not in entity_set_list_2_temp:\n",
    "                            entity_set_list_2_temp.append(item_2)\n",
    "        if m == inter:\n",
    "            entity_set_list_5.append(item_1)\n",
    "        else:\n",
    "            for entity_set_list_2_temp_item in entity_set_list_2_temp:\n",
    "                if entity_set_list_2_temp_item not in entity_set_list_5:\n",
    "                    entity_set_list_5.append(entity_set_list_2_temp_item)\n",
    "    \n",
    "    # Construct annotation\n",
    "    entity_dict['entities']=entity_set_list_5\n",
    "    annotation_n=(title, entity_dict)\n",
    "    return annotation_n"
   ]
  },
  {
   "cell_type": "code",
   "execution_count": 14,
   "metadata": {},
   "outputs": [],
   "source": [
    "# Loop through lists of titles with unique Brand names\n",
    "# One can also loop through the whole title column or the description column.\n",
    "TRAIN_DATA_0=[]\n",
    "for n in range(0,len(titles_unique_brand)):\n",
    "    annotation=obtain_annotation(titles_unique_brand[n])\n",
    "    if annotation[1]['entities']!=[]:\n",
    "        TRAIN_DATA_0.append(annotation)"
   ]
  },
  {
   "cell_type": "code",
   "execution_count": 15,
   "metadata": {},
   "outputs": [],
   "source": [
    "# Loop through lists of titles with unique Brand names\n",
    "# One can also loop through the whole title column or the description column.\n",
    "TRAIN_DATA_1=[]\n",
    "for n in range(0,len(description_unique_brand)):\n",
    "    if '<' not in description_unique_brand[n]:\n",
    "        if '&' not in description_unique_brand[n]:\n",
    "            annotation=obtain_annotation(description_unique_brand[n])\n",
    "            if annotation[1]['entities']!=[]:\n",
    "                TRAIN_DATA_1.append(annotation)"
   ]
  },
  {
   "cell_type": "code",
   "execution_count": 16,
   "metadata": {},
   "outputs": [],
   "source": [
    "TRAIN_DATA_0 = TRAIN_DATA_0 + TRAIN_DATA_1"
   ]
  },
  {
   "cell_type": "code",
   "execution_count": 17,
   "metadata": {},
   "outputs": [],
   "source": [
    "random.shuffle(TRAIN_DATA_0)"
   ]
  },
  {
   "cell_type": "code",
   "execution_count": 18,
   "metadata": {},
   "outputs": [
    {
     "data": {
      "text/plain": [
       "9280"
      ]
     },
     "execution_count": 18,
     "metadata": {},
     "output_type": "execute_result"
    }
   ],
   "source": [
    "len(TRAIN_DATA_0)"
   ]
  },
  {
   "cell_type": "code",
   "execution_count": 19,
   "metadata": {},
   "outputs": [
    {
     "data": {
      "text/plain": [
       "[('Custom Vkp80Ii Paper Holder Kit', {'entities': [(0, 6, 'BRAND')]}),\n",
       " ('Svartzonker McMio huppari', {'entities': [(0, 11, 'BRAND')]}),\n",
       " ('OLIVETTI inkroll IR 40 (2) black',\n",
       "  {'entities': [(20, 22, 'SIZE'), (27, 32, 'COLOR')]}),\n",
       " ('Mercury Mesh pants, harmaa/musta',\n",
       "  {'entities': [(0, 7, 'BRAND'), (20, 32, 'COLOR')]}),\n",
       " ('Grunt Njord Tee', {'entities': [(0, 5, 'BRAND')]}),\n",
       " ('SNÖ of Sweden Connected Pendant Neck 80 Rosé/Clear',\n",
       "  {'entities': [(37, 39, 'SIZE'), (0, 13, 'BRAND'), (40, 50, 'COLOR')]}),\n",
       " ('Rakenna esteitä, joiden taakse sotakersantti, Star Coloner, Recon-sotilas ja KREON -hahmo voivat suojautua. Sisältää noin 81 osaa ja 4 KREON -hahmoa.',\n",
       "  {'entities': [(133, 134, 'SIZE'), (122, 124, 'SIZE'), (46, 50, 'BRAND')]}),\n",
       " ('DD Hammocks Frontline riippumatto', {'entities': [(0, 11, 'BRAND')]}),\n",
       " ('GOOGLE Pixel 3 XL 64GB - Just Black',\n",
       "  {'entities': [(30, 35, 'COLOR'), (15, 17, 'SIZE'), (18, 22, 'SIZE')]}),\n",
       " ('Tree is an incredibly durable doormat in 100% natural rubber from Dixie that effectively takes care of the dirt both inside and out.',\n",
       "  {'entities': [(66, 71, 'BRAND')]}),\n",
       " ('Makeispussi Peanut - 54% alennus', {'entities': [(12, 18, 'COLOR')]}),\n",
       " ('Titanium juustohöylä, musta',\n",
       "  {'entities': [(0, 8, 'COLOR'), (22, 27, 'COLOR')]}),\n",
       " ('Basson kokoon taitettava hoitopöytä on erittäin kätevä ratkaisu pieniin tiloihin (suosittu myös päiväkotien, perhepäivähoitajien, ravinloiden jne.. käytössä) - Hoitopöytä taittuu litteäksi nipuksi säilytystä varten, ja avautuu käyttövalmiiksi käden käänteessä. - Tukeva metalliputkirunko turvalukituksella - Hoitotason keskiosassa muovipintainen pehmuste, joka on helppo pitää puhtaana pyyhkimällä kostealla liinalla - Pehmusteosa on tarrakiinnitteinen ja se voidaan halutessa irrottaa kokonaan - Korkeat turvareunukset - Tarviketaso ja koteloita hoitatarvikkeille - Mitat: leveys n. 59 cm, syvyys n. 73 cm, hoitotason korkeus 90 cm, laitojen korkeus 100 cm - Max. kuormitus 13,6 kg',\n",
       "  {'entities': [(584, 590, 'SIZE'),\n",
       "    (651, 657, 'SIZE'),\n",
       "    (627, 633, 'SIZE'),\n",
       "    (601, 607, 'SIZE'),\n",
       "    (0, 6, 'BRAND'),\n",
       "    (675, 682, 'WEIGHT')]}),\n",
       " ('Sandaalit coclico shae brown saatavana naisten kokoja 39',\n",
       "  {'entities': [(54, 56, 'SIZE'), (39, 46, 'GENDER'), (23, 28, 'COLOR')]}),\n",
       " ('Huulivoide Vanilja 4g Cattier', {'entities': [(19, 21, 'WEIGHT')]}),\n",
       " ('Makuliukuvoide Watermelon 300 ml',\n",
       "  {'entities': [(15, 25, 'COLOR'), (26, 32, 'SIZE')]}),\n",
       " ('Pihkasalva 20g Metsän Emäntä',\n",
       "  {'entities': [(15, 28, 'BRAND'), (11, 14, 'WEIGHT')]}),\n",
       " ('Makari Extreme Carrot Argan Cream - Porkkana ja arganöljy - Ihon väriä tasoittava voide - 50g Voide',\n",
       "  {'entities': [(7, 14, 'BRAND'), (0, 6, 'BRAND'), (90, 93, 'WEIGHT')]}),\n",
       " ('By May silikonipannunalunen nude', {'entities': [(0, 6, 'BRAND')]}),\n",
       " ('Sonicwall Tz350', {'entities': [(0, 9, 'BRAND')]}),\n",
       " ('B.YOUNG yhdistelee harmonisia värejä sen laadukkaaseen suunnitteluun. Brändi on tarkoitettu muotitietoisille naisille.. Sisäsauma: 76 cm.',\n",
       "  {'entities': [(131, 137, 'SIZE')]}),\n",
       " ('HSM Securio shredder AF300 4,5x30 crosscut white P-4',\n",
       "  {'entities': [(43, 48, 'COLOR')]}),\n",
       " ('Miamor Ragout Royale Tonnikala 100g kissan märkäruoka',\n",
       "  {'entities': [(14, 20, 'COLOR'), (0, 6, 'BRAND'), (31, 35, 'WEIGHT')]}),\n",
       " ('Pitkä mekko Heimstone  LAKE', {'entities': [(12, 21, 'BRAND')]}),\n",
       " ('Kengät Cool shoe  DAKOTA', {'entities': [(7, 16, 'BRAND')]}),\n",
       " ('11 Degrees Core Backpack - Mens, Musta',\n",
       "  {'entities': [(33, 38, 'COLOR'),\n",
       "    (0, 10, 'BRAND'),\n",
       "    (11, 15, 'BRAND'),\n",
       "    (27, 32, 'GENDER')]}),\n",
       " ('Puukengät Le comptoir scandinave  EKRALO',\n",
       "  {'entities': [(10, 32, 'BRAND')]}),\n",
       " ('Beauty Sweeties kirpeät hedelmäkissat', {'entities': [(0, 15, 'BRAND')]}),\n",
       " ('Herkän hiuspohjan shampoo Wella SP:ltä.',\n",
       "  {'entities': [(26, 31, 'BRAND')]}),\n",
       " ('Biovegan suklaakastike', {'entities': [(0, 8, 'BRAND')]}),\n",
       " ('Celine Aurinkolasit CL40054U 30N', {'entities': [(0, 6, 'BRAND')]}),\n",
       " ('Slope T-Shirt T-shirts Short-sleeved Musta Forét',\n",
       "  {'entities': [(37, 42, 'COLOR'), (43, 48, 'BRAND')]}),\n",
       " ('Flowee Shampoo Bar Jasmiini 60 g',\n",
       "  {'entities': [(28, 32, 'WEIGHT'), (0, 6, 'BRAND')]}),\n",
       " ('Vaahtokarkit 70g - 40% alennus', {'entities': [(13, 16, 'WEIGHT')]}),\n",
       " ('ReadeREST Steel', {'entities': [(0, 9, 'BRAND'), (10, 15, 'BRAND')]}),\n",
       " ('CHI Infra Silk Infusion on hiuksiin jätettävä tehoseerumi, joka sisältää silkki-, vehnä- ja soijaproteiinia.Vahvistaa hiuksia tehden niistä uskomattoman kiiltävät ja pehmeät.Sopii erityisesti käytettäväksi CHI-suoristuskäsittelyä ennen ja jälkeen yhdessä muiden CHI Infra -tuotteiden kanssa.',\n",
       "  {'entities': [(0, 3, 'BRAND')]}),\n",
       " ('Phil&Teds Sport -sisaristuin (ent. Navigator V2)',\n",
       "  {'entities': [(0, 9, 'BRAND')]}),\n",
       " ('Keeper RK62 Kahluukengät', {'entities': [(0, 6, 'BRAND')]}),\n",
       " ('Victor Vaissier Victor Vaissier Hydrating Lotion Lavande',\n",
       "  {'entities': [(0, 15, 'BRAND')]}),\n",
       " ('Panasonic Eneloop AAA-koko 750mAh 4kpl',\n",
       "  {'entities': [(0, 9, 'BRAND'), (10, 17, 'BRAND')]}),\n",
       " ('Herbal Shampoo Bar 99 gr', {'entities': [(19, 24, 'WEIGHT')]}),\n",
       " ('The Velvet Fitted Blazer by NA-KD Party features padded shoulders, two pockets, a single button closure on the front and is fully lined.',\n",
       "  {'entities': [(28, 39, 'BRAND')]}),\n",
       " ('Kahvinkeitin - 12 Cup BrewStation®', {'entities': [(15, 17, 'SIZE')]}),\n",
       " ('Oblique Pöytävalaisin Matta Valkoinen - CPH Lighting',\n",
       "  {'entities': [(28, 37, 'COLOR'), (40, 52, 'BRAND')]}),\n",
       " ('Bio- Puutarhalannoite 6 kg',\n",
       "  {'entities': [(0, 21, 'BRAND'), (22, 26, 'WEIGHT')]}),\n",
       " ('Snow Peak - Insect Shield Parka - Musta - L',\n",
       "  {'entities': [(34, 39, 'COLOR'), (42, 43, 'SIZE'), (0, 9, 'BRAND')]}),\n",
       " ('Helena Rubinstein Powercell Decontaminating Mask',\n",
       "  {'entities': [(0, 17, 'BRAND')]}),\n",
       " ('Sante Jojoba Care Shampoo',\n",
       "  {'entities': [(6, 12, 'COLOR'), (0, 5, 'BRAND')]}),\n",
       " ('Metropoli Seinävalaisin/Kattovalaisin Polycarbonat Ø38 Kiillotettu Alu - Lucepla',\n",
       "  {'entities': [(73, 80, 'BRAND')]}),\n",
       " ('Cheap Monday - Tight Jeans - Sininen - W29',\n",
       "  {'entities': [(29, 36, 'COLOR'), (39, 42, 'SIZE'), (0, 12, 'BRAND')]}),\n",
       " ('Diego Trousers Puvun Housut Suorat Housut Sininen Oscar Jacobson',\n",
       "  {'entities': [(42, 49, 'COLOR'), (50, 64, 'BRAND')]}),\n",
       " ('WOS tyylikkään trendikäs baskeri. Miellyttävän tuntuista villasekoitetta. - Tukevaa materiaalia- VillasekoitettaOne Size. Vain käsinpesu.',\n",
       "  {'entities': [(0, 3, 'BRAND')]}),\n",
       " ('E-Stim – Medium Electro Egg ES5060400401536',\n",
       "  {'entities': [(0, 6, 'BRAND'), (9, 15, 'SIZE')]}),\n",
       " ('Coach Fragrance Blue Eau De Toilette',\n",
       "  {'entities': [(16, 20, 'COLOR'), (0, 15, 'BRAND')]}),\n",
       " ('Purifying Cleansing Gel 212ml', {'entities': [(24, 29, 'SIZE')]}),\n",
       " ('Boss by Hugo Boss Silmälasit Boss 0610/N 5MO',\n",
       "  {'entities': [(0, 17, 'BRAND')]}),\n",
       " ('This hoodie by Emilie Briting x NA-KD features cropped length, ribbed cuffs, a drawstring hoodie and a text print at the front.',\n",
       "  {'entities': [(15, 37, 'BRAND')]}),\n",
       " ('Kengät stéphane kelian eva brown saatavana naisten kokoja 40',\n",
       "  {'entities': [(58, 60, 'SIZE'), (43, 50, 'GENDER'), (27, 32, 'COLOR')]}),\n",
       " ('Firegrill retkihalsteri Light My Fire', {'entities': [(24, 37, 'BRAND')]}),\n",
       " ('Kengät Aigle  POLKA GIBOULEE', {'entities': [(7, 12, 'BRAND')]}),\n",
       " ('Ua Hg Armour Ls T-shirts Long-sleeved Sininen Under Armour',\n",
       "  {'entities': [(38, 45, 'COLOR'), (6, 12, 'BRAND'), (46, 58, 'BRAND')]}),\n",
       " ('Mosek Dafi Filterpatroner reducerar skadliga ämnen i vattnet och tillför mineraler.',\n",
       "  {'entities': [(6, 10, 'BRAND')]}),\n",
       " ('Viatti Vettore Inverno V-524 ( 215/65 R16 109/107R, nastarengas  )',\n",
       "  {'entities': [(0, 6, 'BRAND')]}),\n",
       " ('Zappa 26 is a stylish pendant made out of glass from Co Bankeryd. Available to choose between the colors gold or silver.',\n",
       "  {'entities': [(6, 8, 'SIZE'), (53, 55, 'BRAND'), (105, 120, 'COLOR')]}),\n",
       " ('Domus Tuoli, Hunajapetsattu Koivu från Artek .',\n",
       "  {'entities': [(39, 44, 'BRAND')]}),\n",
       " ('Falken SI021 ( 315/80 R22.5 156/150L kaksoistunnus  154/150M )',\n",
       "  {'entities': [(0, 6, 'BRAND')]}),\n",
       " ('Nortenha AT1 ( 205/70 R15 96Q, pinnoitettu )',\n",
       "  {'entities': [(0, 8, 'BRAND')]}),\n",
       " ('Mexx 2516 Silmälasit. Collection:Women. Kehyksen Väri: Brown. Kehysmateriaali: Plastic. Koko: 53.',\n",
       "  {'entities': [(0, 4, 'BRAND'),\n",
       "    (79, 87, 'MATERIAL'),\n",
       "    (94, 97, 'SIZE'),\n",
       "    (55, 61, 'COLOR')]}),\n",
       " ('Clearasil Daily Clear - Deep Cleansing Pads 65 kpl/paketti',\n",
       "  {'entities': [(44, 46, 'SIZE'), (0, 9, 'BRAND')]}),\n",
       " ('Junk De Luxe -T-paita ekologista puuvillaa. Pyöreä pääntie, jossa joustinneulosreunus. Suora helma. Helmassa pieni kirjailtu logo.',\n",
       "  {'entities': [(33, 43, 'MATERIAL')]}),\n",
       " ('Adriana Bs H Uimapuku Uima-asut Musta Hunkemöller',\n",
       "  {'entities': [(32, 37, 'COLOR'), (38, 49, 'BRAND')]}),\n",
       " ('Hanf & Natur Hamppujauho 500g',\n",
       "  {'entities': [(0, 12, 'BRAND'), (25, 29, 'WEIGHT')]}),\n",
       " ('Party Popteenies Double Surprise Poppers -juhlapaukku',\n",
       "  {'entities': [(0, 16, 'BRAND')]}),\n",
       " ('Tianli Defender R-1 ( 230/95 R48 136A8 TL kaksoistunnus  136B, T.R.A. R1 )',\n",
       "  {'entities': [(0, 6, 'BRAND')]}),\n",
       " ('Lyhyt mekko stella forest stilou black saatavana naisten kokoja de 34,de 38',\n",
       "  {'entities': [(64, 75, 'SIZE'), (49, 56, 'GENDER'), (33, 38, 'COLOR')]}),\n",
       " ('Hauppauge HD PVR Pro 60',\n",
       "  {'entities': [(21, 23, 'SIZE'), (0, 9, 'BRAND')]}),\n",
       " (\"Oribe Gwp Oribe CÔTe D'Azur Body Care Travel\",\n",
       "  {'entities': [(0, 5, 'BRAND')]}),\n",
       " ('Soveltuu erityisesti puhelin malleille joissa liitäntä puhelimen sivussaSoveltuvuus:PMR-puhelimet joissa kaksiosainen liitäntä, esimerkiksi Cobra vanhemmat mallit. Suurinosa Midland puhelimista Zodiac Connect 68 Soveltuu myös Nord Hunter VHF puhelimille joissa lisälaiteliitin puhelimen kyljessä.',\n",
       "  {'entities': [(209, 211, 'SIZE'),\n",
       "    (226, 230, 'BRAND'),\n",
       "    (140, 145, 'BRAND'),\n",
       "    (194, 200, 'BRAND'),\n",
       "    (174, 181, 'BRAND')]}),\n",
       " ('NZXT Kraken X52 240mm Liquid CPU Cooler', {'entities': [(16, 21, 'SIZE')]}),\n",
       " ('Hcw Monogram Tshirt, Polvipituinen Mekko Sininen Hilfiger Collection',\n",
       "  {'entities': [(41, 48, 'COLOR'), (49, 68, 'BRAND')]}),\n",
       " ('Partner Tech Mt-6830 Incl. Andr.5.1 In Term',\n",
       "  {'entities': [(0, 12, 'BRAND')]}),\n",
       " ('Adidas Originals Must Haves Badge Of Sport Tee -pusero puuvillatrikoota. Iso painatus edessä. Pyöreä pääntie, jossa joustinneulosreuna.',\n",
       "  {'entities': [(0, 6, 'BRAND')]}),\n",
       " ('Bleiseri le temps des cerises mimo beige saatavana naisten kokoja l,xs',\n",
       "  {'entities': [(51, 58, 'GENDER'), (35, 40, 'COLOR'), (66, 70, 'SIZE')]}),\n",
       " ('Mens Tech Lite Ss Crewe Single Line Whale T-shirts Short-sleeved Sininen Icebreaker',\n",
       "  {'entities': [(65, 72, 'COLOR'), (73, 83, 'BRAND')]}),\n",
       " ('Flip-Target MAX Shot .250, Pyörivä maalitauluKätevä maalitaulu, joka pyörähtää aina osumasta eteenpäin.* Tarkoitettu käytettäväksi tehokkaammille ilmakivääreille.* Tehon kasvaessa matkaa tulisi kasvattaa. Näin taataan materiaalien kestävyys pidempään.',\n",
       "  {'entities': [(12, 15, 'BRAND')]}),\n",
       " ('Block-sivupöytä hollantilaisen VTwonen-merkin mallistosta. Väri pähkinäviilu. Mäntyjalustassa hiottu ja maalattu pinta. Jalan korkeus 6 cm, yläosan korkeus 38 cm. Paino 28 kg.',\n",
       "  {'entities': [(156, 162, 'SIZE'),\n",
       "    (169, 175, 'WEIGHT'),\n",
       "    (134, 139, 'SIZE')]}),\n",
       " ('Weather Report Gabi Jacket', {'entities': [(0, 14, 'BRAND')]}),\n",
       " ('Genzo Kombi PTT korvakuuloke',\n",
       "  {'entities': [(0, 5, 'BRAND'), (6, 11, 'BRAND')]}),\n",
       " ('Next Tread Next Tread MST ( 385/65 R22.5 160J, pinnoitettu )',\n",
       "  {'entities': [(0, 10, 'BRAND')]}),\n",
       " ('Juomapullo 600ml Purple Leaves',\n",
       "  {'entities': [(17, 23, 'COLOR'), (11, 16, 'SIZE')]}),\n",
       " ('Quill Vuodevaatesetti 150x210 cm, Cobalt',\n",
       "  {'entities': [(34, 40, 'COLOR'), (22, 33, 'SIZE')]}),\n",
       " ('Mom Jean Jeans Mom Jeans Sininen Calvin Klein Jeans',\n",
       "  {'entities': [(25, 32, 'COLOR'), (33, 51, 'BRAND')]}),\n",
       " ('This Is Him! EdT - 100 ml', {'entities': [(19, 25, 'SIZE')]}),\n",
       " ('Halva hedelmämakeissekoitus.', {'entities': [(0, 5, 'BRAND')]}),\n",
       " ('Hem Alle sohvapöytä, keskikokoinen, pähkinäpuu',\n",
       "  {'entities': [(0, 3, 'BRAND')]}),\n",
       " ('Sandaalit qsp+ adon black saatavana naisten kokoja 40',\n",
       "  {'entities': [(51, 53, 'SIZE'), (36, 43, 'GENDER'), (20, 25, 'COLOR')]}),\n",
       " ('Bulldog Bamboo Shave Brush on klassinen, moderneista materiaaleista valmistettu partasuti. Partasuti lisää vaahtoa ja kohottaa partakarvat tasaista ja tarkkaa ajoa varten. Kahva kestävää ja luonnostaan vettähylkivää bambua, ja harja pehmeää ja myötäilevää synteettistä materiaalia. Partasuti sopii käytettäväksi parranajogeelin, parranajovoiteen ja parranajosaippuan kanssa. Sopii erityisen hyvin Bulldog Original Shave Soap -tuotteen kanssa käytettäväksi. Tuote on vegaaninen.',\n",
       "  {'entities': [(8, 14, 'COLOR'), (0, 7, 'BRAND')]}),\n",
       " ('Svetari Vicomte A.  SHEPTON SWEAT GARDEN',\n",
       "  {'entities': [(8, 18, 'BRAND')]}),\n",
       " ('Stanton Street Sports - Striped Short Sleeve Button Down - Sininen - S',\n",
       "  {'entities': [(59, 66, 'COLOR'), (0, 21, 'BRAND')]}),\n",
       " ('Silhouette Silmälasit Titan Accent Fullrim 2906 6120',\n",
       "  {'entities': [(0, 10, 'BRAND'), (22, 27, 'BRAND')]}),\n",
       " ('Eau de Gaga, EdP 30ml', {'entities': [(17, 21, 'SIZE')]}),\n",
       " ('L.A. Girl  Matte Pigment Lipgloss  Secret',\n",
       "  {'entities': [(0, 9, 'BRAND')]}),\n",
       " ('Tennarit Elia B  CHICA', {'entities': [(9, 15, 'BRAND')]}),\n",
       " ('Ebel Beluga Lady Naisten kello 1215856 Harmaa/Teräs Ø30 mm',\n",
       "  {'entities': [(5, 11, 'COLOR'),\n",
       "    (0, 4, 'BRAND'),\n",
       "    (17, 24, 'GENDER'),\n",
       "    (39, 51, 'COLOR')]}),\n",
       " ('Riesen suklaapatukka sisältää maitosuklaalla päällystettyä suklaatoffeeta.',\n",
       "  {'entities': [(0, 6, 'BRAND')]}),\n",
       " ('Kuhbonbon kookostoffee', {'entities': [(0, 9, 'BRAND')]}),\n",
       " ('Salmiakkitikkari & Salmiakkijauhetta 23g - 34% alennus',\n",
       "  {'entities': [(37, 40, 'WEIGHT')]}),\n",
       " ('Marius - Overalls Haalarit Sininen Hust & Claire',\n",
       "  {'entities': [(27, 34, 'COLOR'), (35, 48, 'BRAND')]}),\n",
       " ('Viscotex 3016051062 Tiivistepasta 250 g',\n",
       "  {'entities': [(34, 39, 'WEIGHT'), (0, 8, 'BRAND')]}),\n",
       " ('Kengät victoria berlin piel white saatavana miesten kokoja 42,43,44,45',\n",
       "  {'entities': [(28, 33, 'COLOR'), (44, 51, 'GENDER'), (59, 70, 'SIZE')]}),\n",
       " ('Frilly Swim Pants Swimwear Nappie Briefs Vaaleanpunainen The Tiny Universe',\n",
       "  {'entities': [(41, 56, 'COLOR'), (57, 74, 'BRAND')]}),\n",
       " ('Haida HD617 ( 275/65 R18 116T )', {'entities': [(0, 5, 'BRAND')]}),\n",
       " ('MUJJO MUJJO Sleeve for the 12inch Macbook - Tan',\n",
       "  {'entities': [(44, 47, 'COLOR'), (27, 33, 'SIZE')]}),\n",
       " ('Nahkiss Skinnfix', {'entities': [(0, 7, 'BRAND')]}),\n",
       " ('Ruched Side Retro Bikinialaosa Liila Seafolly',\n",
       "  {'entities': [(31, 36, 'COLOR'), (37, 45, 'BRAND'), (12, 17, 'BRAND')]}),\n",
       " ('Yoko 310 Forest 130cm', {'entities': [(16, 21, 'SIZE')]}),\n",
       " ('Rock Your Curves by Angelina K -merkkinen hame, joka sopii mainiosti trendikkääseen tyyliin. Pyöristetty helma. Volanki. Normaali vyötärönkorkeus. Valmistettu joustamattomasta, helppohoitoisesta, läpinäkymättömästä viskoosista. Supertrendikkään asukokonaisuuden saat yhdistämällä siihen muodikkaat kengät ja laukun. Tilaat hameen helposti ja vaivattomasti Klingelin muotimaailmasta. Vilkaise myös muita Rock Your Curves by Angelina K -tuotteita, jotka löydät verkkokaupastamme!',\n",
       "  {'entities': [(0, 30, 'BRAND'), (215, 227, 'MATERIAL')]}),\n",
       " ('WeightWorld Go Blend Pro tarjoaa kätevän vaihtoehdon kiireistä elämäntyyliä helpottamaan! Tämä kevyt tehosekoitin kulkee mukanasi minne tahansa, ja voit nauttia smoothiet ja pirtelöt työpaikan tauolla tai kuntosalilla, juuri silloin kun itse haluat. Kerta-annoksesta ei jää lainkaan ruokahävikkiä, ja laitteen puhdistaminen käy käden käänteessä!',\n",
       "  {'entities': [(15, 20, 'BRAND')]}),\n",
       " ('Hammastahna Complete Care Mint 75ml Lavera',\n",
       "  {'entities': [(26, 30, 'COLOR'), (36, 42, 'BRAND'), (31, 35, 'SIZE')]}),\n",
       " ('Audioengine A5+ - White',\n",
       "  {'entities': [(18, 23, 'COLOR'), (0, 11, 'BRAND')]}),\n",
       " ('Vegetabilisk Omega-3, 60 caps', {'entities': [(22, 24, 'SIZE')]}),\n",
       " ('Lastenkengät Le Coq Sportif  COURTSET PS',\n",
       "  {'entities': [(13, 27, 'BRAND')]}),\n",
       " ('Anna matto musta iso 150x200 cm',\n",
       "  {'entities': [(11, 16, 'COLOR'), (21, 31, 'SIZE')]}),\n",
       " ('Fortnite Barrel Pencil Case Accessories Bags Pencil Cases Vihreä Fortnite',\n",
       "  {'entities': [(58, 64, 'COLOR'), (0, 8, 'BRAND')]}),\n",
       " ('Graphit Metal 5 m perukelanka',\n",
       "  {'entities': [(0, 13, 'BRAND'), (14, 17, 'SIZE')]}),\n",
       " ('Miyabi 5000MCD File-/lihaveitsi, 16cm från Miyabi .',\n",
       "  {'entities': [(0, 6, 'BRAND'), (33, 37, 'SIZE')]}),\n",
       " ('Trivial Pursuit - Harry Potter (033343)',\n",
       "  {'entities': [(18, 30, 'BRAND')]}),\n",
       " ('Jogger Pant Farkut Sininen Just Junkies',\n",
       "  {'entities': [(19, 26, 'COLOR'), (27, 39, 'BRAND')]}),\n",
       " ('Soap Lemongrass & Cedarwood 160 gr',\n",
       "  {'entities': [(28, 34, 'WEIGHT'), (5, 15, 'COLOR')]}),\n",
       " ('Junior Designer Muovailuvaha Jäätelötehdas',\n",
       "  {'entities': [(0, 15, 'BRAND')]}),\n",
       " ('Viking Toysin toiminta alkoi yli 30 vuotta sitten ja heidän tarkoituksensa on koko ajan varmistaa turvallisten ja kestävien lelujen valmistus muovista. Viking Toys tarkkailee koko tuotantoaan ja he kuuluvat ICTI CARE foundationiin, järjestöön, joka varmistaa koko maailmassa lelujen valmistuksen kanssa työskenteleville paremmat ja turvallisemmat työympäristöt reiluilla palkoilla ja ehdoilla. Viking Toys työskentelee viiden perussäännön avulla, jotka takaavat, että heidän lelunsa ovat pehmeitä, yksinkertaisia, turvallisia, hiljaisia sekä vahvoja! Voit sen lisäksi tiskata kaikki heidän lelunsa tiskikoneessa!  Vieraile Viking Toysin kotisivuilla saadaksesi lisää tietoa!  Viking Babyautot, Ikkunalaatikko on setti sisältäen uskomattoman suloisia baby-autoja fiksussa laatikossa. Ystävälliset kasvot tekevät leikkimisestä iloisempaa ja hauskempaa! Settiin sisältyy 9 kappaletta autoja eri eläinaiheilla!',\n",
       "  {'entities': [(33, 35, 'SIZE'), (868, 869, 'SIZE'), (0, 6, 'BRAND')]}),\n",
       " ('Invisibobble Invisibobble Original Pretzel Brown',\n",
       "  {'entities': [(43, 48, 'COLOR')]}),\n",
       " ('Skin Doctors Hair No More - Karvankasvua ehkäisevä nestemäinen suihke - 120ml nestemäinen suihke',\n",
       "  {'entities': [(0, 12, 'BRAND'), (72, 77, 'SIZE')]}),\n",
       " ('T-paita Nicce Mini Centre Logo T-Shirt', {'entities': [(8, 13, 'BRAND')]}),\n",
       " ('Giorgio Armani Sunglasses Metal Frame Sunglasses',\n",
       "  {'entities': [(0, 25, 'BRAND'), (32, 37, 'BRAND')]}),\n",
       " ('Trolli Hedelmäkarkkisekoitus 1kg - 33% alennus',\n",
       "  {'entities': [(0, 6, 'BRAND'), (29, 32, 'WEIGHT')]}),\n",
       " ('Dovre Down Jacket Vuorillinen Takki Topattu Takki Musta HOLZWEILER',\n",
       "  {'entities': [(50, 55, 'COLOR')]}),\n",
       " ('SPORTMIXER® 820ml', {'entities': [(12, 17, 'SIZE')]}),\n",
       " ('Michael Kors Kids. Ylä: 40% nahka, 60% polyuretaani. Ylävuori: 100% micro mokkanahka. Pohjallinen: 100% micro mokkanahka. Ulkopohja: thermo muovi kumi. Nauhakiinnitys. Pitävä pohja.',\n",
       "  {'entities': [(0, 12, 'BRAND'),\n",
       "    (13, 18, 'AGE_GROUP'),\n",
       "    (146, 151, 'MATERIAL'),\n",
       "    (74, 85, 'COLOR'),\n",
       "    (39, 52, 'MATERIAL'),\n",
       "    (28, 34, 'MATERIAL')]}),\n",
       " ('Picaro Chelsea Shoes Chelsea Boots Ruskea Scotch & Soda Shoes',\n",
       "  {'entities': [(35, 41, 'COLOR'), (42, 61, 'BRAND')]}),\n",
       " ('Nomi Tang – IntiMate Kegel Balls, Vaalenpunainen',\n",
       "  {'entities': [(0, 9, 'BRAND'), (34, 48, 'COLOR')]}),\n",
       " ('Duffy kirjaillut tennarit. Erittäin kevyt slip on -malli on täydellinen sekä huoliteltuihin että arkisiin asukokonaisuuksiin. Sporttinen muotoilu ja mukava malli, joka on helppo pukea. Upeita yksityiskohtia ja takana tamppi. Korko n. 6 cm. Päällinen kangasta. Sisäpohja verkkokangasta. Ulkopohja polyuretaania.',\n",
       "  {'entities': [(0, 5, 'BRAND'), (234, 239, 'SIZE')]}),\n",
       " ('Takit / Fleecet / Liivit Lähettäjä WAY INK till Tytöt i Musta - 170-176',\n",
       "  {'entities': [(56, 61, 'COLOR'), (64, 71, 'SIZE')]}),\n",
       " ('Bushnell Nitro 2,5-15x50, valolla', {'entities': [(0, 8, 'BRAND')]}),\n",
       " ('Goform GH18 ( 245/50 R20 102W XL )',\n",
       "  {'entities': [(30, 32, 'SIZE'), (0, 6, 'BRAND')]}),\n",
       " ('Patch Natural Organic Strips 25 kpl',\n",
       "  {'entities': [(29, 31, 'SIZE'), (0, 5, 'BRAND')]}),\n",
       " ('Glow & Bloom Maljakko Straight L, Valkoinen',\n",
       "  {'entities': [(34, 43, 'COLOR'), (0, 12, 'BRAND'), (31, 33, 'SIZE')]}),\n",
       " ('Kikkoman luonnollisesti valmistettu vähemmän suolaa sisältävä soijakastike.',\n",
       "  {'entities': [(0, 8, 'BRAND')]}),\n",
       " ('Tuotekuvaus - Tiger of Sweden Jeans -housut- Valmistettu 100 % puuvillasta- Nappi- ja vetoketjukiinnitys- Vyönlenkit- Neljä etutaskua sekä kaksi halkiotaskua takana- Kannellinen tasku nappikiinnityksellä lahkeissa- Lahkeen leveys 36 cm koossa M Lataa lehdistökuva Malli: Malli on 184 cm pitkä ja käyttää kokoa Medium. Tuotenro: 160347-0426',\n",
       "  {'entities': [(230, 235, 'SIZE'),\n",
       "    (57, 60, 'SIZE'),\n",
       "    (243, 244, 'COLOR'),\n",
       "    (14, 29, 'BRAND'),\n",
       "    (280, 286, 'SIZE'),\n",
       "    (63, 75, 'MATERIAL'),\n",
       "    (310, 317, 'SIZE')]}),\n",
       " ('Poopsie Sparkly Critters on maaginen slimeyllätys, joka sylkee ulos slimea. Avaa purkki ja saat nähtyä kaikki upeat yllätykset sen sisällä! Jokainen Sparkly Critter on suloinen pikkueläin yksisarvisen sarvella. Minkä saat tällä kertaa? Ruoki kimaltavaa otusta omalla ainutlaatuisella juomallaan ja näet miten se piereskelee tai sylkee. Muuta slime lisäämällä yksisarvisen taikaa, yksisarviskiillettä ja yksisarviskimalletta. Mukana myös tutti.',\n",
       "  {'entities': [(0, 7, 'BRAND')]}),\n",
       " ('Clean & Calm - Facial Cleanser 75 ml',\n",
       "  {'entities': [(31, 36, 'SIZE'), (0, 12, 'BRAND')]}),\n",
       " ('Little Dutch Puujuna, vaaleanpunainen', {'entities': [(0, 12, 'BRAND')]}),\n",
       " ('Smith Optics OutBack', {'entities': [(0, 12, 'BRAND')]}),\n",
       " ('101 Copenhagen-Drop Chandelier Lamp Pendant, Perforated Rose',\n",
       "  {'entities': [(56, 60, 'COLOR')]}),\n",
       " ('Lolita 1 BLACK, koot 37-39', {'entities': [(21, 26, 'SIZE')]}),\n",
       " ('Vixen New Foresta 8x56 WP KatselukiikaritTekniset tiedot:* Suurennus: 8x* Linssin koko: 56mm* Todellinen näkökenttä: 7.2 astetta* Näkökenttä @ 1000m: 126m* Kirkkaus: 49* Silmän etäisyys: 20mm* Lähin tarkennus: n. 5m* Koko: 19.1x16.1x6.8cm* Paino: 1210gValmistusmaa JapaniTakuu 10 vuotta!',\n",
       "  {'entities': [(0, 5, 'BRAND')]}),\n",
       " ('Cam Jacket Farkkutakki Denimtakki Musta NÜ Denmark',\n",
       "  {'entities': [(34, 39, 'COLOR'), (40, 50, 'BRAND')]}),\n",
       " ('TruSens UV Bulb TruSens Z-3000', {'entities': [(0, 7, 'BRAND')]}),\n",
       " ('EXS – G Lover Penisrengas & Kondomit',\n",
       "  {'entities': [(6, 7, 'SIZE'), (0, 3, 'BRAND')]}),\n",
       " ('Polish Up Beauty MEN Skin Care Body Shower Gel Nude House 99',\n",
       "  {'entities': [(52, 60, 'BRAND'), (17, 20, 'GENDER')]}),\n",
       " ('Jelou Fox Illegal Hunters -lippis oranssi Huomio-oranssi lippis säädettävällä tarrakiristyksellä. Yksi koko sopii kaikille.',\n",
       "  {'entities': [(0, 9, 'BRAND'), (34, 41, 'COLOR')]}),\n",
       " ('AUDIOVISION Strain Relief for CAT6+ Grey',\n",
       "  {'entities': [(36, 40, 'COLOR')]}),\n",
       " ('Kangassandaalit love moschino monica pink saatavana naisten kokoja 39',\n",
       "  {'entities': [(67, 69, 'SIZE'), (52, 59, 'GENDER'), (37, 41, 'COLOR')]}),\n",
       " ('Luomu Kookosöljy 400g - 36% alennus', {'entities': [(17, 21, 'WEIGHT')]}),\n",
       " ('Sebra-Padded Playmat, Storm Grey',\n",
       "  {'entities': [(28, 32, 'COLOR'), (22, 27, 'BRAND')]}),\n",
       " ('Puhdistussetti, 4 osaa', {'entities': [(16, 17, 'SIZE')]}),\n",
       " ('Hallon Maljakko Huurrettu 20 cm Huurteinen',\n",
       "  {'entities': [(26, 31, 'SIZE')]}),\n",
       " ('JAK Helmi Original 8cm 28g',\n",
       "  {'entities': [(0, 3, 'BRAND'), (23, 26, 'WEIGHT'), (19, 22, 'SIZE')]}),\n",
       " ('Wd-40 monitoimiöljy 450ml',\n",
       "  {'entities': [(0, 5, 'BRAND'), (20, 25, 'SIZE')]}),\n",
       " (\"Bee's wrap Single Large Wrap 33 x 36 cm\",\n",
       "  {'entities': [(29, 39, 'SIZE'), (18, 23, 'SIZE')]}),\n",
       " ('Mushroom Hot Cacao Mix - Cordyceps',\n",
       "  {'entities': [(13, 18, 'COLOR'), (9, 12, 'BRAND')]}),\n",
       " ('Cordiant VM-1 ( 315/80 R22.5 156/150K )', {'entities': [(0, 8, 'BRAND')]}),\n",
       " ('Furniture Fashion Limhamn -tuoli, jossa samettipäällinen ja metallijalat. Tuoli on helppo koota.',\n",
       "  {'entities': [(0, 17, 'BRAND')]}),\n",
       " ('Dry Shampoo Powder All Colors 40gr',\n",
       "  {'entities': [(23, 29, 'BRAND'), (30, 34, 'WEIGHT')]}),\n",
       " ('Alushousut Trunk Seasonal Solids, 3/pakk.',\n",
       "  {'entities': [(11, 16, 'BRAND')]}),\n",
       " ('Kengät be only cavaliere reptilium violet saatavana naisten kokoja 37,38',\n",
       "  {'entities': [(52, 59, 'GENDER'), (67, 72, 'SIZE')]}),\n",
       " ('Nicole Mazzocato x NA-KD Bleiseri - Multicolor',\n",
       "  {'entities': [(36, 46, 'COLOR'), (0, 24, 'BRAND')]}),\n",
       " ('Robottiruohonleikkuri enintään 1 000 neliömetrin nurmikoiden leikkaamiseen. SensorCut-toiminnon ansiosta ruohonleikkuri ei jätä nurmikkoon raitoja. Leikkaa säässä kuin säässä ja toimii niin hiljaa, että sitä tuskin kuulee. Kompakti ja ketterä ruohonleikkuri, joka selviää jopa 30 prosentin kallistuksesta ja kapeista käytävistä.',\n",
       "  {'entities': [(277, 279, 'SIZE')]}),\n",
       " ('Radital Liniment – Tuplavaikuttava linimentti, joka lisää paikallisesti verenkiertoa, nopeuttaa palautumista ja lievittää kipua!',\n",
       "  {'entities': [(0, 7, 'BRAND')]}),\n",
       " ('Shepherd lampaantalja Ella graniitti', {'entities': [(0, 8, 'BRAND')]}),\n",
       " ('Arktisiin olosuhteisiin suunniteltu miesten takki on valmistettu pehmeästä, vahatusta luomupuuvillasta ja kierrätetystä polyesteristä.   Takin huppu suojaa hyvin kesän ja syksyn tuulilta, ollen samalla hyvin hengittävä. Korkea kaulus ja toiminnalliset vetoketjut. Tyylikäs takki, joka sopii niin kaupunkiin kuin metsäretkillekin repun kanssa käytettäväksi.',\n",
       "  {'entities': [(36, 43, 'GENDER')]}),\n",
       " ('Lapua .30-06sprg 11g Naturalis Kiväärin patruuna',\n",
       "  {'entities': [(0, 5, 'BRAND'), (17, 20, 'WEIGHT')]}),\n",
       " ('Kengät philippe morvan disco brown saatavana naisten kokoja 36,37,38,39,40',\n",
       "  {'entities': [(45, 52, 'GENDER'), (29, 34, 'COLOR'), (60, 74, 'SIZE')]}),\n",
       " ('Only & Sons Onswinston Sweat Hoodie Noos Puserot Harmaa',\n",
       "  {'entities': [(49, 55, 'COLOR'), (0, 11, 'BRAND')]}),\n",
       " ('LUMI Unna Crossbody Bag in sustainable vegetable tanned buffalo leather. The stylish Unna Crossbody Bag is just the right size to fit your phone, small wallet and daily essentials. The bag comes with a detachable blue cotton lining inside pouch to keep things organized. The leather handle is detachable, so the bag can also be worn as a Clutch. Unna Crossbody Bag has a sleek look so it easily converts from day to night use. LUMI. Yksityiskohdat: detachable inside pouch, 100% blue puuvilla twill vuori. Ulkomateriaali: 100% vegetable tanned buffalo nahka. Nepparikiinnitys. Irroitettava olkain. Sisältää pienen kirjekuorilaukun vetoketjulla. Mitat: 21 x 13.5 x 8 cm.',\n",
       "  {'entities': [(652, 669, 'SIZE'),\n",
       "    (0, 4, 'BRAND'),\n",
       "    (484, 492, 'MATERIAL'),\n",
       "    (213, 217, 'COLOR'),\n",
       "    (552, 558, 'MATERIAL'),\n",
       "    (218, 224, 'MATERIAL')]}),\n",
       " (\"Jumpsuits Noukie's  IMRAN\", {'entities': [(10, 18, 'BRAND')]}),\n",
       " ('7/8 ja 3/4 housu acquaverde scarlett pink saatavana naisten kokoja us 28',\n",
       "  {'entities': [(67, 72, 'SIZE'),\n",
       "    (0, 3, 'SIZE'),\n",
       "    (7, 10, 'SIZE'),\n",
       "    (52, 59, 'GENDER'),\n",
       "    (37, 41, 'COLOR')]}),\n",
       " ('Kengät Felmini  NAHA', {'entities': [(7, 14, 'BRAND')]}),\n",
       " ('LA Dodgers Premium Reppu Large Turkoosi - Tässä coolissa ja kätevässä repussa on trooppinen kuviointi ja LA Dodgers-logo. Repussa on suurempi ja pienempi vetoketjullinen tasku, siinä on tilaa kaikelle tarvittavalle koulussa ja retkellä. Itse repussa on pehmustettu tasku, johon mahtuu kannettava tietokone. Repussa on ripustuslenkki ja säädettävät remmit. Mitat: K44 x L30 x H16cm',\n",
       "  {'entities': [(31, 39, 'COLOR'), (0, 10, 'BRAND'), (25, 30, 'SIZE')]}),\n",
       " ('Bibs tutti 0-6kk', {'entities': [(0, 4, 'BRAND')]}),\n",
       " ('Lexington Clothing. Vettähylkivä.', {'entities': [(0, 9, 'BRAND')]}),\n",
       " ('Multi Plus Ginseng, 200 tablettia', {'entities': [(20, 23, 'SIZE')]}),\n",
       " ('Mols Elroy merinovillapaita hänelle. Ihanan pehmeä merinovillapaita, joka pitää sinut lämpimänä ja mukavana. etuja: - Silkkinen tunne keholle. - Merinovilla, jossa on luonnollinen antibakteerinen suoja, joka estää hajut. - Pitää lämpimänä kylmänä ja jäähdyttää lämpimänä. - Hyvä liikkumisvapaus ja hyvä muotoilu.',\n",
       "  {'entities': [(0, 4, 'BRAND')]}),\n",
       " ('Glamorous Long Sleeve Crossover Dress', {'entities': [(0, 9, 'BRAND')]}),\n",
       " ('Rituals The Ritual Of Samurai Travel Shave Set',\n",
       "  {'entities': [(0, 7, 'BRAND')]}),\n",
       " ('Dynamite Baits Two Tone Floating Nugget syötti',\n",
       "  {'entities': [(0, 14, 'BRAND')]}),\n",
       " ('Pusakka American College  OREGON W', {'entities': [(8, 24, 'BRAND')]}),\n",
       " ('Step 1 Face Wash 100 ml', {'entities': [(17, 23, 'SIZE')]}),\n",
       " ('Samsonite Midtown Laptop Backpack L Exp', {'entities': [(0, 9, 'BRAND')]}),\n",
       " ('Hollies hieno untuvatakki. Takissa on hieno tekoturkiskaulus ja monia yksityiskohtia.- Edessä vetoketju ja painonapit- Edessä vetoketjulliset taskut- Hihansuissa mukava resori - Iso, irrotettava kaulus tekoturkista (irrotettava)- Hupussa nauhakuja - Vyötärön sisäpuolella nauhakuja- Yksi vetoketjullinen sisätaskuTakapituus olalta 67 cm, rinnanympärys 96 cm koossa 36. Malli on 172 cm pitkä ja käyttää kokoa 36. Vain kemiallinen pesu.',\n",
       "  {'entities': [(331, 337, 'SIZE'),\n",
       "    (378, 384, 'SIZE'),\n",
       "    (0, 7, 'BRAND'),\n",
       "    (365, 368, 'SIZE'),\n",
       "    (352, 357, 'SIZE')]}),\n",
       " ('ITP Bajacross ( 26x10.00 R14 TL 81D )', {'entities': [(0, 3, 'BRAND')]}),\n",
       " ('Techking Dragon King R1 ( 24 R20.5 176F TL T.R.A. E7 )',\n",
       "  {'entities': [(26, 28, 'SIZE'), (0, 8, 'BRAND'), (9, 15, 'BRAND')]}),\n",
       " ('Käsilaukku Aimée valkoinen',\n",
       "  {'entities': [(11, 16, 'BRAND'), (17, 26, 'COLOR')]}),\n",
       " ('Motorola Talkabout T42 Walkie Talkie - 3-Pakkaus',\n",
       "  {'entities': [(0, 8, 'BRAND')]}),\n",
       " ('Shortsit &amp; Bermuda-shortsit Only   Sons  ONSPLY',\n",
       "  {'entities': [(32, 43, 'BRAND')]}),\n",
       " ('Thump It – 7X Missile Thumping Anal Plug',\n",
       "  {'entities': [(11, 13, 'SIZE'), (0, 8, 'BRAND')]}),\n",
       " ('Graffiti Kama kids Sandal',\n",
       "  {'entities': [(9, 13, 'BRAND'), (0, 8, 'BRAND')]}),\n",
       " ('Hamppuproteiini, 400 g', {'entities': [(17, 22, 'WEIGHT')]}),\n",
       " (\"Smith's 240 hiomanauha teroituskoneeseen\", {'entities': [(8, 11, 'SIZE')]}),\n",
       " ('GiGi Fratelli Romance Flat Bag', {'entities': [(0, 13, 'BRAND')]}),\n",
       " ('Montana Collection By SBG Silmälasit MM596 E',\n",
       "  {'entities': [(0, 25, 'BRAND')]}),\n",
       " ('Capture Cash Draw 410mm 4b/8c Black',\n",
       "  {'entities': [(30, 35, 'COLOR'), (0, 7, 'BRAND'), (18, 23, 'SIZE')]}),\n",
       " ('Shelf 5:A E27, Blank Brass', {'entities': [(21, 26, 'COLOR')]}),\n",
       " ('Flex Archery Flemish 18 säikeinen jänne pitkäjousille',\n",
       "  {'entities': [(21, 23, 'SIZE'), (0, 12, 'BRAND')]}),\n",
       " ('Le Klint 6 Varjostin 21 cm, Muovi från Le Klint .',\n",
       "  {'entities': [(21, 27, 'SIZE'), (0, 8, 'BRAND'), (28, 33, 'MATERIAL')]}),\n",
       " ('The Brotherhood Flextone Peurapilli', {'entities': [(16, 24, 'BRAND')]}),\n",
       " ('Tumma suklaa mantelilla ja karpaloilla.', {'entities': [(0, 5, 'COLOR')]}),\n",
       " ('Soundcare Superspikes - Spike 4 (m8)',\n",
       "  {'entities': [(30, 31, 'SIZE'), (0, 9, 'BRAND')]}),\n",
       " ('Kengät Janet Janet  VILLIA', {'entities': [(7, 18, 'BRAND')]}),\n",
       " ('Nicole Miller NM Haring Silmälasit. Collection:Women. Kehyksen Väri: Purple. Kehysmateriaali: Plastic. Koko: 53.',\n",
       "  {'entities': [(0, 13, 'BRAND'),\n",
       "    (94, 102, 'MATERIAL'),\n",
       "    (69, 76, 'COLOR'),\n",
       "    (109, 112, 'SIZE')]}),\n",
       " ('Designers eye-Dot Istuintyyny, Musta Nahka',\n",
       "  {'entities': [(31, 36, 'COLOR'), (37, 42, 'MATERIAL')]}),\n",
       " ('Loon Vise Pawn', {'entities': [(0, 4, 'BRAND')]}),\n",
       " ('smART - Pixelator Bead Set Large (50-00476)',\n",
       "  {'entities': [(27, 32, 'SIZE')]}),\n",
       " ('Edge Canada Goose -hanhikaave 12kpl', {'entities': [(5, 17, 'BRAND')]}),\n",
       " ('Reppu Hajo - Lotus', {'entities': [(13, 18, 'BRAND'), (6, 10, 'BRAND')]}),\n",
       " ('Nikben - After Beach - Pinkki - M',\n",
       "  {'entities': [(23, 29, 'COLOR'), (32, 33, 'COLOR'), (0, 6, 'BRAND')]}),\n",
       " ('Forever Iskunkestävä Panssarilasi iPad Pro 10.5\";6.95\"',\n",
       "  {'entities': [(0, 7, 'BRAND')]}),\n",
       " ('Akribos XXIV Grandiose Miesten kello AK713SS Hopea/Teräs Ø46 mm',\n",
       "  {'entities': [(0, 12, 'BRAND'),\n",
       "    (23, 30, 'GENDER'),\n",
       "    (45, 56, 'COLOR'),\n",
       "    (57, 63, 'SIZE')]}),\n",
       " ('Gg0034s Neliönmuotoiset Aurinkolasit Musta Gucci Sunglasses',\n",
       "  {'entities': [(37, 42, 'COLOR'), (43, 59, 'BRAND')]}),\n",
       " ('T-Shirt T-shirts & Tops Short-sleeved Valkoinen Elle Style Awards Collection 2019',\n",
       "  {'entities': [(38, 47, 'COLOR'), (48, 81, 'BRAND')]}),\n",
       " ('Björn Borg. Sisävuori: 100% polyesteri. Ulkomateriaali: 100% polyesteri. Vetoketjukiinnitys yläosassa. Säädettävä olkain. Mitat: 34 x 11,5 x 5,5 cm. Volyymi: 2,5 l.',\n",
       "  {'entities': [(129, 148, 'SIZE'),\n",
       "    (28, 39, 'MATERIAL'),\n",
       "    (158, 164, 'SIZE')]}),\n",
       " ('Happy Ii Ballerinat Musta Bundgaard',\n",
       "  {'entities': [(20, 25, 'COLOR'), (26, 35, 'BRAND')]}),\n",
       " ('Sunscreen Mousse SPF20, 150ml', {'entities': [(24, 29, 'SIZE')]}),\n",
       " ('Sferoflex Silmälasit SF2570 488', {'entities': [(0, 9, 'BRAND')]}),\n",
       " ('HP 131A Cyan - CF211A', {'entities': [(8, 12, 'COLOR'), (0, 2, 'BRAND')]}),\n",
       " ('Ribbed lampunjalka Valkoinen', {'entities': [(19, 28, 'COLOR')]}),\n",
       " ('MOON C160 Kattovalaisin Valkoinen - ANTIDARK',\n",
       "  {'entities': [(24, 33, 'COLOR')]}),\n",
       " ('Hammastahna Flour 12 x 125ml - 67% alennus',\n",
       "  {'entities': [(18, 20, 'SIZE'), (12, 17, 'COLOR'), (23, 28, 'SIZE')]}),\n",
       " ('Sätila Inseros - Soft Pink - Unisex - OneSize',\n",
       "  {'entities': [(0, 6, 'BRAND'),\n",
       "    (29, 35, 'GENDER'),\n",
       "    (38, 45, 'SIZE'),\n",
       "    (22, 26, 'COLOR')]}),\n",
       " ('Perplex Lash Curler', {'entities': [(0, 7, 'BRAND')]}),\n",
       " ('Toppatakki Serge Blanco  PIUMINO', {'entities': [(11, 23, 'BRAND')]}),\n",
       " ('Lastenkengät Hip  DIRAN', {'entities': [(13, 16, 'BRAND')]}),\n",
       " ('Jeans 26 Skinny Farkut Musta BLK DNM',\n",
       "  {'entities': [(23, 28, 'COLOR'), (6, 8, 'SIZE')]}),\n",
       " ('La Luna Candlestick Nickel plated Brass, 40 cm',\n",
       "  {'entities': [(41, 46, 'SIZE'), (20, 26, 'MATERIAL')]}),\n",
       " ('Bomber Puffer Jacket Bombertakki Takki Sininen IZOD',\n",
       "  {'entities': [(39, 46, 'COLOR'), (47, 51, 'BRAND')]}),\n",
       " ('Metal Tarjotin 8x16cm, Messinki/Valkoinen',\n",
       "  {'entities': [(23, 41, 'COLOR')]}),\n",
       " ('ADLER Kettle AD 02 Standard',\n",
       "  {'entities': [(6, 12, 'BRAND'), (19, 27, 'SIZE')]}),\n",
       " ('Pumpulipuikot 200 kpl - 50% alennus', {'entities': [(14, 17, 'SIZE')]}),\n",
       " ('Hodgman Aesis Hyperdry takki', {'entities': [(0, 7, 'BRAND')]}),\n",
       " ('Getac S410 G3 B I5-8265U W10P Rs232 8/256Gb Ssd Fr Kb Eu Bt 4G Vga In Term',\n",
       "  {'entities': [(60, 62, 'SIZE'), (0, 5, 'BRAND')]}),\n",
       " ('Talven yrttitee 50g Niittytila',\n",
       "  {'entities': [(20, 30, 'BRAND'), (16, 19, 'WEIGHT')]}),\n",
       " ('Captain Fawcett Expedition Strength Wax & Folding Comb',\n",
       "  {'entities': [(0, 15, 'BRAND')]}),\n",
       " ('Sandaalit Musse   Cloud  KILA', {'entities': [(10, 23, 'BRAND')]}),\n",
       " ('Imse kestoside mini Sangria on pestävä terveysside/pikkuhousunsuoja, jossa on kauniit punasävyiset kuosit. Kestoside on valmistettu ihoystävällisestä ekotex-puuvillasta, jossa on kosteutta läpäisemätön PUL-kosteussuojapinta. Kestosuoja pysyy hyvin paikoillaan harjatun sisäpinnan ja siivekkeiden kiinnistysneppareiden ansiosta. Neppareissa on kaksi leveysmahdollisuutta.Kestositeet pestään 60-90 asteessa. Pese ennen ensimmäistä käyttöä ja huuhtele jatkossa kylmällä vedellä ennen pesukoneeseen laittoa.Koot: Mini/Pikkuhousunsuoja: 19 x 7 cm Päiväside: 25 x 8.5 cm Yöside: 33 x 8.5 cmPakkaus : Kolme kappaletta kestosuojiaLisätiedot : luomu, vegaaninen',\n",
       "  {'entities': [(553, 564, 'SIZE'),\n",
       "    (573, 575, 'SIZE'),\n",
       "    (532, 541, 'SIZE'),\n",
       "    (20, 27, 'COLOR')]}),\n",
       " ('Kengät bugatti morino black saatavana miesten kokoja 42',\n",
       "  {'entities': [(53, 55, 'SIZE'), (38, 45, 'GENDER'), (22, 27, 'COLOR')]}),\n",
       " ('Voxicon P30 30w', {'entities': [(0, 7, 'BRAND')]}),\n",
       " ('Sandaalit kat maconie maude black saatavana naisten kokoja 36 mokkanahkaa',\n",
       "  {'entities': [(59, 61, 'SIZE'), (44, 51, 'GENDER'), (28, 33, 'COLOR')]}),\n",
       " ('Golds Gym Long Sleeve Hooded Sweatshirt, Charcoal',\n",
       "  {'entities': [(41, 49, 'COLOR')]}),\n",
       " ('Cool Maker Kumi Kreator 2-in-1', {'entities': [(0, 10, 'BRAND')]}),\n",
       " ('Hand-fotcreme honung Eko 25 ml', {'entities': [(25, 30, 'SIZE')]}),\n",
       " ('RASPBERRY PI and Pi PoE HAT Case, black',\n",
       "  {'entities': [(34, 39, 'COLOR')]}),\n",
       " ('Shock Therapy – Silver Bullet', {'entities': [(16, 22, 'COLOR')]}),\n",
       " ('Kengät reebok sport everforce breeze grey saatavana naisten kokoja 36,37,38',\n",
       "  {'entities': [(37, 41, 'COLOR'), (52, 59, 'GENDER'), (67, 75, 'SIZE')]}),\n",
       " ('Karkkipussi \"Rotella\" 200g - 20% alennus',\n",
       "  {'entities': [(0, 11, 'BRAND'), (22, 26, 'WEIGHT')]}),\n",
       " ('Ferrero Rocher on vastustamaton täyteläisen maitosuklaan, kokonaisen hasselpähkinän ja kevyenrapean vohvelin yhdistelmä.',\n",
       "  {'entities': [(0, 7, 'BRAND')]}),\n",
       " ('Cavallo Kilpikonnakaulus Poolopaita Musta Tiger Of Sweden',\n",
       "  {'entities': [(36, 41, 'COLOR')]}),\n",
       " ('Fist It - Bottom Butter, 500 ml',\n",
       "  {'entities': [(25, 31, 'SIZE'), (0, 7, 'BRAND')]}),\n",
       " ('Matador MP92 Sibir Snow ( 235/65 R17 104H, SUV )',\n",
       "  {'entities': [(19, 23, 'COLOR'), (0, 7, 'BRAND')]}),\n",
       " (\"Griffin S Women's Mitts Valkoinen/Musta 6,5\",\n",
       "  {'entities': [(8, 9, 'SIZE'),\n",
       "    (24, 39, 'COLOR'),\n",
       "    (40, 43, 'SIZE'),\n",
       "    (0, 7, 'COLOR')]}),\n",
       " ('Kengät ash dazed white saatavana naisten kokoja 40 vasikan- ja siannahkaa',\n",
       "  {'entities': [(48, 50, 'SIZE'), (17, 22, 'COLOR'), (33, 40, 'GENDER')]}),\n",
       " ('Osram Parathom Retrofit Classic E27 P 4W 827 Matta | Erittäin Lämmin Valkoinen - Korvaa 40W',\n",
       "  {'entities': [(62, 78, 'COLOR'), (0, 5, 'BRAND'), (24, 31, 'BRAND')]}),\n",
       " ('Mosquito Magnet Quick Clear Adapter', {'entities': [(0, 15, 'BRAND')]}),\n",
       " ('Anakin Long Sleeve T-shirts Long-sleeved Valkoinen Wood Wood',\n",
       "  {'entities': [(41, 50, 'COLOR'), (51, 60, 'BRAND')]}),\n",
       " ('Tectyl Multipurpose 506 suoja-aine 5L', {'entities': [(0, 6, 'BRAND')]}),\n",
       " ('Linssisipsit \"Creamy Dill\" 40g - 34% alennus',\n",
       "  {'entities': [(27, 30, 'WEIGHT')]}),\n",
       " ('Double Coin RR 905 ( 435/50 R19.5 160J )',\n",
       "  {'entities': [(0, 11, 'BRAND')]}),\n",
       " ('BC Excellium Taming Treatment 150ml', {'entities': [(30, 35, 'SIZE')]}),\n",
       " ('Fredericia Spoke-Back sohva, tammi - Sunniva 2/717',\n",
       "  {'entities': [(0, 10, 'BRAND')]}),\n",
       " ('MeMeMe Light Me Up Lipgloss Intense Intense',\n",
       "  {'entities': [(0, 6, 'BRAND')]}),\n",
       " ('Spyder, HYBRID PULLOVER, Harmaa, NEULEET/NEULETAKIT till Pojat, XL',\n",
       "  {'entities': [(64, 66, 'SIZE')]}),\n",
       " ('Aarke Hiilihapotuslaite on täydellinen hiilihapotuslaite jokaiseen kotiin. Käytännöllisyys ja tyylikäs ulkomuoto takaavat että hiilihapotuslaite on loistava käyttää, ja erinomainen lisä jokaiseen keittiöön. Palkittu vuoden 2017 parhaana hiilihapotuslaitte',\n",
       "  {'entities': [(0, 5, 'BRAND')]}),\n",
       " ('Immuno Monilac 50 kaps Natura Media',\n",
       "  {'entities': [(15, 17, 'SIZE'), (23, 35, 'BRAND')]}),\n",
       " (\"Cultivator's Organic Herbal Hair Color Hiusväri, Mahogany\",\n",
       "  {'entities': [(49, 57, 'COLOR'), (0, 12, 'BRAND')]}),\n",
       " (\"Kengät pantofola d'oro caltaro uomo low white saatavana miesten kokoja 41,45\",\n",
       "  {'entities': [(40, 45, 'COLOR'), (56, 63, 'GENDER'), (71, 76, 'SIZE')]}),\n",
       " ('Police SPL997 ORIGINS LITE 3 Aurinkolasit. Collection:Men. Kehyksen Väri: Dark Havana.  Linssin Väri: . Kehysmateriaali: Plastic. Koko: 53.',\n",
       "  {'entities': [(74, 78, 'COLOR'),\n",
       "    (0, 6, 'BRAND'),\n",
       "    (121, 129, 'MATERIAL'),\n",
       "    (79, 86, 'COLOR'),\n",
       "    (136, 139, 'SIZE')]}),\n",
       " ('Wood Wood. Luomu.', {'entities': [(5, 10, 'MATERIAL')]}),\n",
       " ('Alltimers - J Waves Top - Vihreä - XL',\n",
       "  {'entities': [(35, 37, 'SIZE'),\n",
       "    (26, 32, 'COLOR'),\n",
       "    (12, 13, 'SIZE'),\n",
       "    (0, 9, 'BRAND')]}),\n",
       " ('Cambridge Paistinpannu 24cm från GreenPan .',\n",
       "  {'entities': [(33, 41, 'BRAND'), (23, 27, 'SIZE')]}),\n",
       " ('Saappaat Carmen Steffens  9112399001', {'entities': [(9, 24, 'BRAND')]}),\n",
       " ('Kengät john galliano 8507 white saatavana miesten kokoja 41,42,44,45',\n",
       "  {'entities': [(26, 31, 'COLOR'), (42, 49, 'GENDER'), (57, 68, 'SIZE')]}),\n",
       " ('Sandaalit Vouelle  ELISA', {'entities': [(10, 17, 'BRAND')]}),\n",
       " ('Liu Jo Lj2664 530', {'entities': [(14, 17, 'SIZE'), (0, 6, 'BRAND')]}),\n",
       " ('Kengät regard roabil v1 maia black saatavana naisten kokoja 36,38,39,40',\n",
       "  {'entities': [(45, 52, 'GENDER'), (29, 34, 'COLOR'), (60, 71, 'SIZE')]}),\n",
       " ('Kuvailu Kuviollinen Motel -mekko Kapeat olkaimet Materiaali ja hoito Materiaali 100% Viskoosia Käsinpesu Ei kuivapesua Ei valkaisua Tasokuivaus Silitä alhaisella lämmöllä Yksityiskohtia Merkki: Motel Väri: Purple Tuotenro: 607392-0879 Vaatteet / Mekot / Väljät mekot Lataa lehdistökuva',\n",
       "  {'entities': [(20, 25, 'BRAND'),\n",
       "    (206, 212, 'COLOR'),\n",
       "    (85, 94, 'MATERIAL')]}),\n",
       " ('Svetari Philipp Plein Sport  ROUND AIR SQUAT',\n",
       "  {'entities': [(8, 27, 'BRAND')]}),\n",
       " ('Stroft GTM Nyrkkipuola 2000m 0,45mm',\n",
       "  {'entities': [(0, 6, 'BRAND'), (23, 28, 'SIZE'), (29, 35, 'SIZE')]}),\n",
       " ('Sunnei - T-Shirt With Popline - Sininen - M',\n",
       "  {'entities': [(32, 39, 'COLOR'), (42, 43, 'COLOR'), (0, 6, 'BRAND')]}),\n",
       " ('Max&Co.276/S Wayfarer Aurinkolasit Musta Max & Co.',\n",
       "  {'entities': [(35, 40, 'COLOR'), (41, 50, 'BRAND')]}),\n",
       " ('Bamse Bamse Water Bottle', {'entities': [(0, 5, 'BRAND')]}),\n",
       " ('Camac BC110 ( 5.50 -12 68P WW 40mm )',\n",
       "  {'entities': [(0, 5, 'BRAND'), (30, 34, 'SIZE')]}),\n",
       " ('Tolomeo Decentrata Riippuvalaisin - Pergamentti - Artemide',\n",
       "  {'entities': [(50, 58, 'BRAND'), (36, 47, 'BRAND')]}),\n",
       " ('Hama - Midi Open Giftset 7200 beads - Pink (383071)',\n",
       "  {'entities': [(0, 4, 'BRAND'), (38, 42, 'COLOR')]}),\n",
       " ('Kaulakorut Zaza Factory  INDIEN', {'entities': [(11, 23, 'BRAND')]}),\n",
       " ('Sailun SW 06 ( 385/55 R22.5 160K 20PR kaksoistunnus  158L )',\n",
       "  {'entities': [(0, 6, 'BRAND')]}),\n",
       " ('Ympäristöystävällinen hammasharja\" 100% biologisesti hajoavasta ja viljellystä bambusta valmistettu valkoinen hammasharja.',\n",
       "  {'entities': [(100, 109, 'COLOR')]}),\n",
       " ('Svakom – Nova Kegel Harjoituskuulat, Turkoosi R6538',\n",
       "  {'entities': [(37, 45, 'COLOR'), (0, 6, 'BRAND')]}),\n",
       " ('Fendi Silmälasit FF M0005 SCL', {'entities': [(0, 5, 'BRAND')]}),\n",
       " ('Jogging housut / Ulkoiluvaattee Geographical Norway  MERIO',\n",
       "  {'entities': [(32, 51, 'BRAND')]}),\n",
       " ('Nyko Charge Base Plus Poke Ball Switch', {'entities': [(0, 4, 'BRAND')]}),\n",
       " ('Sievi miesten kävelykengät Patrik XL musta, hengittävät ja kestävät nauhakengät vapaa-aikaan.FlexStep-kiilapohja on mukava ja joustava.Irrotettavat Comfort-pohjalliset, sisällä mikrokuituvuori.Laaja XL-lesti antaa jaloille enemmän tilaa. Hengittävä ja kestävä päällinen nupukista.',\n",
       "  {'entities': [(34, 36, 'SIZE'), (37, 43, 'COLOR'), (6, 13, 'GENDER')]}),\n",
       " ('Ekahau Site Survey Pro Support 1Y Rnwl 1Yr Mtnc Sprt Rnwl For Ess-Pro In Rnwl',\n",
       "  {'entities': [(31, 33, 'SIZE'), (0, 6, 'BRAND')]}),\n",
       " ('Jodikelp  100 tablettia', {'entities': [(10, 13, 'SIZE')]}),\n",
       " ('Sebastian Professional Sebastian Professional Shine Crafter Wax',\n",
       "  {'entities': [(0, 22, 'BRAND')]}),\n",
       " ('Teroson MS 939 Elastomeeri liima 290 ml, elastomeeri liima',\n",
       "  {'entities': [(0, 7, 'BRAND'), (33, 40, 'SIZE')]}),\n",
       " ('Family So Underwear Socks Regular Socks Punainen Falke',\n",
       "  {'entities': [(49, 54, 'BRAND'), (40, 48, 'COLOR')]}),\n",
       " ('Hannalicious x NA-KD Belted Blazer - Red',\n",
       "  {'entities': [(37, 40, 'COLOR'), (0, 20, 'BRAND')]}),\n",
       " ('Howlin by Morrison - Twisted Nerve Sweater - Punainen - M',\n",
       "  {'entities': [(0, 18, 'BRAND'), (45, 53, 'COLOR')]}),\n",
       " ('Lasidildo Nro 4', {'entities': [(14, 15, 'SIZE')]}),\n",
       " ('Puuvilla puhdistuslappu, SmartReloader',\n",
       "  {'entities': [(0, 8, 'MATERIAL')]}),\n",
       " ('Glow After Dark, Body Lotion 200ml',\n",
       "  {'entities': [(0, 4, 'COLOR'), (29, 34, 'SIZE')]}),\n",
       " ('14,4 V 3,0 Ah:n litiumioniakku, joka sopii TJEP RE-BAR -raudoitteensidontalaitteille.',\n",
       "  {'entities': [(43, 47, 'BRAND')]}),\n",
       " ('Prada Linea Rossa Aurinkolasit PS56MS Polarized DG12F2',\n",
       "  {'entities': [(0, 17, 'BRAND')]}),\n",
       " ('A. Lange & Söhne Saxonia Miesten kello 380.042 Ruskea/Nahka Ø39',\n",
       "  {'entities': [(0, 16, 'BRAND'), (25, 32, 'GENDER'), (47, 59, 'COLOR')]}),\n",
       " ('Multistar IMP-05 Super ( 19.0/45 -17 156A8 18PR TL )',\n",
       "  {'entities': [(0, 9, 'BRAND')]}),\n",
       " ('Cavus Wallmount Swivel Hz - Sonos Play5 - White',\n",
       "  {'entities': [(42, 47, 'COLOR'), (0, 5, 'BRAND'), (28, 33, 'BRAND')]}),\n",
       " ('Sapphire Gpro 8200 8G Gddr5 Pci-E Quad Dp (Bulk) In Ctlr',\n",
       "  {'entities': [(19, 21, 'SIZE')]}),\n",
       " ('Hairgain Woman parantaa hiusten kasvua tehden niistä kauniimmat ja paksummat. Dokumentoitu teho.',\n",
       "  {'entities': [(9, 14, 'GENDER')]}),\n",
       " ('Total Take Away Mask - Bubble Mask 75 ml',\n",
       "  {'entities': [(35, 40, 'SIZE')]}),\n",
       " ('MEFO Sport MFC15 ( 80/100-21 TT 51S Enduro Master, E )',\n",
       "  {'entities': [(0, 10, 'BRAND')]}),\n",
       " ('Miracle Instant Repair Leave-In, 120ml', {'entities': [(33, 38, 'SIZE')]}),\n",
       " ('Hauppauge Hd Pvr Pro 60',\n",
       "  {'entities': [(21, 23, 'SIZE'), (0, 9, 'BRAND')]}),\n",
       " ('Led Lamppu E27 2700K, 10W från Texa Design .',\n",
       "  {'entities': [(31, 42, 'BRAND')]}),\n",
       " ('Alliance Farm Pro-846 ( 320/85 R34 133A8 TL )',\n",
       "  {'entities': [(0, 8, 'BRAND')]}),\n",
       " ('White Forest Edp Hajuvesi Eau De Parfum Nude Björk & Berries',\n",
       "  {'entities': [(0, 5, 'COLOR'), (45, 60, 'BRAND')]}),\n",
       " ('Clalen 1 Day Astra Estelle Brown 30 Pack Piilolinssit',\n",
       "  {'entities': [(27, 32, 'COLOR'), (33, 35, 'SIZE'), (0, 6, 'BRAND')]}),\n",
       " ('Aaro Wall Lamp SW, Black från AARO .',\n",
       "  {'entities': [(19, 24, 'COLOR'), (30, 34, 'BRAND')]}),\n",
       " ('Altromin Marsu pet irto 1kg',\n",
       "  {'entities': [(0, 8, 'BRAND'), (24, 27, 'WEIGHT')]}),\n",
       " ('Sandaalit birkenstock milano black saatavana miesten kokoja 39,40,41,42,43,44,45',\n",
       "  {'entities': [(45, 52, 'GENDER'), (29, 34, 'COLOR'), (60, 80, 'SIZE')]}),\n",
       " ('Pikakiinnitteinen Hihnalenkki 26mm 2kpl', {'entities': [(30, 34, 'SIZE')]}),\n",
       " ('Eco Masters mySmile hampaidenvalkaisusetin täyttöpakkaus sisältää 6x30ml valkaisugeeliä olemassa olevaan mySmile hampaidenvalkaisu pakettiin. Valkoisen hymyn ylläpitämiseksi tarkoitettu pakkaus sisältää alkuperäisestä pakkauksesta tuttuja luonnollisia aineksia kuten Glyserolia, Mentolia ja Aloe Veraa.',\n",
       "  {'entities': [(291, 295, 'COLOR'), (4, 11, 'BRAND')]}),\n",
       " ('Pipsa Possu -hahmot, tuplapakkaus', {'entities': [(0, 11, 'BRAND')]}),\n",
       " ('Freequent Pitsitoppi Bicco Luumu', {'entities': [(0, 9, 'BRAND')]}),\n",
       " ('Paita Joseph  WOODY', {'entities': [(6, 12, 'BRAND')]}),\n",
       " ('Diesel - Fragrance Only The Brave Eau De Toilette 35 Ml',\n",
       "  {'entities': [(50, 55, 'SIZE'), (0, 18, 'BRAND'), (19, 23, 'BRAND')]}),\n",
       " ('Hyvin suunniteltu ja tyylikäs Lechuza altakasteluruukku yhdistää designin sekä toimivuuden.',\n",
       "  {'entities': [(30, 37, 'BRAND')]}),\n",
       " ('Marqy Girl, Mirelle Knit, Harmaa, NEULEET/NEULETAKIT till Tytöt, 158-164',\n",
       "  {'entities': [(65, 72, 'SIZE')]}),\n",
       " ('Mustepatruuna, Yellow', {'entities': [(15, 21, 'COLOR')]}),\n",
       " ('Cozy By Dozy Bath Robe Aamutakki Kylpytakki Vaaleanpunainen Cozy By Dozy',\n",
       "  {'entities': [(44, 59, 'COLOR')]}),\n",
       " (\"Chino-housut / Porkkanahousut Meltin'pot  MARCY\",\n",
       "  {'entities': [(30, 40, 'BRAND')]}),\n",
       " ('Kengät everlast evl shadow mid white saatavana miesten kokoja 43,44',\n",
       "  {'entities': [(31, 36, 'COLOR'), (47, 54, 'GENDER'), (62, 67, 'SIZE')]}),\n",
       " ('Qdo Teehauduttimet 2 kpl, punainen',\n",
       "  {'entities': [(0, 3, 'BRAND'), (26, 34, 'COLOR')]}),\n",
       " ('Kengät Camper  PEU CAMI', {'entities': [(7, 13, 'BRAND')]}),\n",
       " ('SoLong Riippuvalaisin Alu - Embacco', {'entities': [(28, 35, 'BRAND')]}),\n",
       " ('Pumpattava Nyrkkidildo, Musta', {'entities': [(24, 29, 'COLOR')]}),\n",
       " ('Sheet Mask Duo 2 x 25 ml -', {'entities': [(19, 24, 'SIZE')]}),\n",
       " ('Shoes Cosmic Mickey Matalavartiset Sneakerit Tennarit Valkoinen Desigual Shoes',\n",
       "  {'entities': [(54, 63, 'COLOR'), (64, 78, 'BRAND')]}),\n",
       " ('Iggy NYC - Unicorns Knit Sweater - Sininen - M',\n",
       "  {'entities': [(35, 42, 'COLOR'), (45, 46, 'COLOR'), (0, 8, 'BRAND')]}),\n",
       " ('SOS apu kaikentyyppiseen kuivuuteen - Lovea',\n",
       "  {'entities': [(38, 43, 'BRAND')]}),\n",
       " ('Le Curieux Argile Tyyny 30x60cm från Christian Lacroix .',\n",
       "  {'entities': [(37, 54, 'BRAND'), (24, 31, 'SIZE')]}),\n",
       " ('Nordaid B-complex Suihke 30 ml', {'entities': [(25, 30, 'SIZE')]}),\n",
       " ('Little Marc Jacobs Dress', {'entities': [(0, 18, 'BRAND')]}),\n",
       " ('Luna Kulho H25cm Ø29cm, Harmaa', {'entities': [(24, 30, 'COLOR')]}),\n",
       " ('Silmänaamio, Nahkaa', {'entities': [(13, 19, 'COLOR')]}),\n",
       " ('Sandaalit el naturalista wakataua red saatavana naisten kokoja 39,41',\n",
       "  {'entities': [(34, 37, 'COLOR'), (48, 55, 'GENDER'), (63, 68, 'SIZE')]}),\n",
       " ('Kengät sweet lemon pirlou black saatavana naisten kokoja 41',\n",
       "  {'entities': [(57, 59, 'SIZE'), (42, 49, 'GENDER'), (26, 31, 'COLOR')]}),\n",
       " ('North Outdoor Kivi merinovillalapaset Rust',\n",
       "  {'entities': [(38, 42, 'COLOR'), (0, 13, 'BRAND')]}),\n",
       " ('Ease Crossback Tank T-shirts & Tops Sleeveless Musta Casall',\n",
       "  {'entities': [(47, 52, 'COLOR'), (53, 59, 'BRAND')]}),\n",
       " ('Continental ContiScoot ( 120/70-13 TL 53P M/C, etupyörä )',\n",
       "  {'entities': [(0, 11, 'BRAND')]}),\n",
       " ('Varjostin Classic Kartiomainen Ø210 - Lampe Gras',\n",
       "  {'entities': [(10, 17, 'BRAND'), (38, 48, 'BRAND')]}),\n",
       " ('Rx Elbow Support 5 mm x2', {'entities': [(17, 21, 'SIZE')]}),\n",
       " ('Striped Flower Pussilakana 220x220cm, Lt Aqua',\n",
       "  {'entities': [(27, 37, 'SIZE')]}),\n",
       " ('Pahvisella asettimella varustetut Tampax Super -tamponit auttavat pitämään olosi puhtaana ja varmana. Tampax-tamponien imukykyinen ydin ja vuotoja ehkäisevä helma tarjoavat lisäsuojaa ja pahvisen asettimen luistamaton pinta tekee asettamisesta helppoa. Pahvisella asettimella varustetut Tampax Super -tamponit on tarkoitettu normaalista runsaaseen vuotoon. Puhdas ja varma olo. Paketti sisältää 20 kpl tamponia.',\n",
       "  {'entities': [(395, 397, 'SIZE'), (34, 40, 'BRAND')]}),\n",
       " ('Baum und Pferdgarten Milou', {'entities': [(0, 20, 'BRAND')]}),\n",
       " ('Oxydo O.NO 2.5 Aurinkolasit. Collection:Men. Kehyksen Väri: Gold/Blue.  Linssin Väri: . Kehysmateriaali: Metal. Koko: 58.',\n",
       "  {'entities': [(11, 14, 'SIZE'),\n",
       "    (0, 5, 'BRAND'),\n",
       "    (105, 111, 'MATERIAL'),\n",
       "    (118, 121, 'SIZE'),\n",
       "    (60, 70, 'COLOR')]}),\n",
       " ('Ridgid 18V Litiumioniakku 2,0Ah', {'entities': [(0, 6, 'BRAND')]}),\n",
       " ('Komplet hejs - Wegner HejsePendel - Pandul',\n",
       "  {'entities': [(36, 42, 'BRAND'), (15, 33, 'BRAND')]}),\n",
       " ('Valoketju 10 LED-valolla, 6m, moniväri',\n",
       "  {'entities': [(26, 29, 'SIZE'), (30, 38, 'COLOR')]}),\n",
       " ('LamegaDina Ulkovalaisin Nera - Ares', {'entities': [(31, 35, 'BRAND')]}),\n",
       " ('Belstaff Belstaff  Hoodie', {'entities': [(0, 8, 'BRAND')]}),\n",
       " ('Olkalaukut katana matheus black saatavana miesten kokoja yksi koko',\n",
       "  {'entities': [(42, 49, 'GENDER'), (57, 66, 'SIZE'), (26, 31, 'COLOR')]}),\n",
       " ('Sandaalit El Naturalista  WAKATAUA', {'entities': [(10, 24, 'BRAND')]}),\n",
       " ('Normann Copenhagen-Block Tarjoilupöytä Ø45 cm, Valkoinen',\n",
       "  {'entities': [(47, 56, 'COLOR')]}),\n",
       " ('Scrunch V-Shape Biker Shorts, Black', {'entities': [(30, 35, 'COLOR')]}),\n",
       " ('Junior Designer Muovailuvaha Jäätelötehdas - 2 eri rakennusta eri aihein. Valitse joko Muffinssitehdas tai jäätelötehdas. Siinä on tarpeeksi vahaa, jotta saat tuotannon alkamaan. Lapset rakastavat tätä tuplasettiä, joka antaa heidän todella kokeilla luovaa puoltaan.',\n",
       "  {'entities': [(0, 15, 'BRAND'), (179, 185, 'AGE_GROUP')]}),\n",
       " ('Adora 12400.20 WC-istuinkansi valkoinen, soft close Yhteensopiva Ifö Ceran kanssa',\n",
       "  {'entities': [(0, 5, 'BRAND')]}),\n",
       " ('Sensuva – Insane Hot Butter Rum Stimuloiva Liukuvoide 125 ml',\n",
       "  {'entities': [(54, 60, 'SIZE'),\n",
       "    (21, 27, 'COLOR'),\n",
       "    (0, 7, 'BRAND'),\n",
       "    (17, 20, 'BRAND')]}),\n",
       " ('Ylälevy Caboche Riippuvalaisimeen Medium & Tress Riippuvalaisin Large - Foscarin',\n",
       "  {'entities': [(72, 80, 'BRAND'), (34, 40, 'SIZE'), (64, 69, 'SIZE')]}),\n",
       " ('Applier Plus Brush Kenkienhoito Ruskea Springyard',\n",
       "  {'entities': [(32, 38, 'COLOR'), (39, 49, 'BRAND')]}),\n",
       " ('Urban Mini Talvikengät Tarroilla Musta ECCO',\n",
       "  {'entities': [(33, 38, 'COLOR')]}),\n",
       " ('Sandaalit Think  ZEGA', {'entities': [(10, 15, 'BRAND')]}),\n",
       " ('Arise Collective X Epoca Iole 05 Silmälasit. Collection:Men. Kehyksen Väri: Matte Black. Kehysmateriaali: Plastic. Koko: 52.',\n",
       "  {'entities': [(0, 16, 'BRAND'),\n",
       "    (121, 124, 'SIZE'),\n",
       "    (106, 114, 'MATERIAL'),\n",
       "    (82, 88, 'COLOR')]}),\n",
       " ('Safety Goggles Face Shield WJ20198 Silmälasit. Collection:Men. Kehyksen Väri: Clear. Kehysmateriaali: Plastic. Koko: Standard.',\n",
       "  {'entities': [(0, 14, 'BRAND'),\n",
       "    (102, 110, 'MATERIAL'),\n",
       "    (117, 126, 'SIZE'),\n",
       "    (78, 84, 'COLOR')]}),\n",
       " ('Lyhythihainen t-paita Kookaï  ADELA', {'entities': [(22, 28, 'BRAND')]}),\n",
       " ('Esprit Casual. Kokovetoketju. Ei-irrotettava huppu. Täysvuorattu.',\n",
       "  {'entities': [(0, 6, 'BRAND')]}),\n",
       " ('EMPORIA Euphoria 2.3\" 3G Black',\n",
       "  {'entities': [(25, 30, 'COLOR'), (22, 24, 'SIZE')]}),\n",
       " ('Korkokengät Poetic Licence  COVER SHOT', {'entities': [(12, 26, 'BRAND')]}),\n",
       " ('Bloom Valaisin II, Kirkas från Kartell .',\n",
       "  {'entities': [(0, 5, 'COLOR'), (31, 38, 'BRAND')]}),\n",
       " ('Artègo Good Society GS26 Intense Hydration Paket',\n",
       "  {'entities': [(0, 6, 'BRAND'), (12, 19, 'BRAND')]}),\n",
       " ('Maidenform. Body: 68% nailonia, 32% spandex crotch vuori: 100% puuvillaa.',\n",
       "  {'entities': [(63, 73, 'MATERIAL'),\n",
       "    (36, 43, 'MATERIAL'),\n",
       "    (22, 31, 'MATERIAL')]}),\n",
       " ('Bio- Vihanneslannoite 750 g',\n",
       "  {'entities': [(22, 27, 'WEIGHT'), (0, 21, 'BRAND')]}),\n",
       " ('Exxxtreme – Tyynynpäällinen 50 x 65',\n",
       "  {'entities': [(28, 30, 'SIZE'), (33, 35, 'SIZE'), (0, 9, 'BRAND')]}),\n",
       " ('LastSwab Beauty Polar Bear White',\n",
       "  {'entities': [(27, 32, 'COLOR'),\n",
       "    (16, 21, 'BRAND'),\n",
       "    (22, 26, 'BRAND'),\n",
       "    (0, 8, 'BRAND')]}),\n",
       " ('Miss Melody Maalauskirja Create Your Baby Pony',\n",
       "  {'entities': [(0, 11, 'BRAND')]}),\n",
       " ('Hammastahna \"Whitening\" 75ml - 32% alennus',\n",
       "  {'entities': [(24, 28, 'SIZE')]}),\n",
       " ('KOCOSTAR Home Salon Hair Pack 30 ml', {'entities': [(30, 35, 'SIZE')]}),\n",
       " ('Jill Stuart 1 Day UV 30 Pack Piilolinssit. Valmistaja: Jill Stuart. Käyttöaika Daily Disposable. Vesipitoisuus: %',\n",
       "  {'entities': [(21, 23, 'SIZE'), (0, 11, 'BRAND')]}),\n",
       " ('Kungsholmen parafiinilamppu Koboltinsininen',\n",
       "  {'entities': [(28, 43, 'COLOR')]}),\n",
       " ('Orbit Baby G3 Istuinosa', {'entities': [(0, 10, 'BRAND')]}),\n",
       " ('Gunnar Silmälasit Infinite Designed By Publish INF-00101',\n",
       "  {'entities': [(0, 6, 'BRAND')]}),\n",
       " ('Whether you are on or off the slopes, the Stranda Hybrid Anorak will keep you warm and dry whatever the conditions. With the Bergans Element Active® membrane it is windproof, waterproof and breathable and thanks to the PrimaLoft Gold Eco Active+ it will always keep you warm and comfortable however extreme your day. The high collar and detachable snow skirt will protect against snow splashes, while the hood-mounted Recco® chip will make your time on the slopes safe and secure. This Hybrid anorak is part of the Stranda range, a sustainable ski collection that is made from one yarn, spun from post-consumer waste and coloured through the unique SpinDye® process where the use of water and chemicals is significantly reduced. A sustainable choice with a smaller carbon footprint. Bergans. Tuulenkestävä. 6000-10000 mm is water resistance under light pressure. Use during light rain or average snow fall.. Vedenkestävä. Kierrätetty.',\n",
       "  {'entities': [(229, 233, 'COLOR'),\n",
       "    (133, 140, 'BRAND'),\n",
       "    (125, 132, 'BRAND'),\n",
       "    (807, 820, 'SIZE')]}),\n",
       " ('Kengät shabbies dresca grey saatavana naisten kokoja 36',\n",
       "  {'entities': [(53, 55, 'SIZE'), (23, 27, 'COLOR'), (38, 45, 'GENDER')]}),\n",
       " ('Pjur Aqua 30 ml', {'entities': [(10, 15, 'SIZE'), (0, 4, 'BRAND')]}),\n",
       " ('Sandaalit robert clergerie junon black saatavana naisten kokoja 38',\n",
       "  {'entities': [(64, 66, 'SIZE'), (49, 56, 'GENDER'), (33, 38, 'COLOR')]}),\n",
       " ('Hydrating Nourishing Face Oil Kasvoöljy Hiusöljy Nude Aromatherapy Associates',\n",
       "  {'entities': [(54, 77, 'BRAND')]}),\n",
       " ('Hupullinen kylpytakki L-XL  Tummanharmaa',\n",
       "  {'entities': [(22, 26, 'SIZE'), (28, 40, 'COLOR')]}),\n",
       " ('Design\\r\\nAttralux\\r\\nKonsepti\\r\\nLamppu LED 470lm/40W Mainoslamppu E27\\r\\nHyödyllistä tietoa lampuista\\r\\nOstaessasi LED-lampun, on muutamia tärkeitä asioita, joihin olisi hyvä kiinnittää huomiota. LED-lamppujen valon määrään mittari on lumen, kun taas wattimäärä kertoo ainoastaan sähkönkulutuksesta.\\r\\n15W = 140 lumen \\r\\n25W = 250 lumen \\r\\n40W = 470 lumen \\r\\n60W = 800 lumen \\r\\n75W = 1050 lumen \\r\\n100W = 1520 lumen\\r\\nTämän lisäksi LED-lampuissa ilmoitetaan RA- tai CRI-indeksi. Tämä kertoo lampun värintoistokyvystä ja sitä arvioidaan skaalalla RA 0-100, RA 100 vastaa päivänvaloa. Tavallisessa kotikäytössä RA-indeksiksi suositellaan väh. RA 80.\\r\\nKelvin-arvo taas kertoo lampun värilämpötilasta. \\r\\n8.500 - 10.000 K = Kylmän sininen\\r\\n7.000 - 8.500 K = Kylmän valkoinen/sininen\\r\\n4.500 - 7.000 K = Kylmän valkoinen\\r\\n3.000 - 4.500 K = Neutraali valkoinen \\r\\n1.000 - 3.000 K = Lämmin valkoinen\\r\\nEsimerkkeinä kynttilänvalon kelvin-arvo on noin 1.500 K, suora auringonvalo 5.500 K, ja kirkas sininen taivas voi olla jopa 10.000 K.\\r\\nJos haluat tietää lisää lampuista, löydät lisäinformaatiota täältä.',\n",
       "  {'entities': [(300, 303, 'SIZE'), (318, 321, 'SIZE'), (354, 357, 'SIZE')]}),\n",
       " ('Pretty Love – Rush Vibraattori', {'entities': [(0, 11, 'BRAND')]}),\n",
       " ('Versace Bright Crystal Edt 90ml Hajuvesi Eau De Toilette Nude Versace Fragrance',\n",
       "  {'entities': [(0, 7, 'BRAND'),\n",
       "    (62, 79, 'BRAND'),\n",
       "    (15, 22, 'BRAND'),\n",
       "    (27, 31, 'SIZE')]}),\n",
       " ('TanOrganic Ultimate Exfoliator Glove', {'entities': [(0, 10, 'BRAND')]}),\n",
       " ('Kengät k-swiss si-18 international lux grey saatavana miesten kokoja 42',\n",
       "  {'entities': [(69, 71, 'SIZE'), (39, 43, 'COLOR'), (54, 61, 'GENDER')]}),\n",
       " ('Lunette kuukautiskupin pesuneste', {'entities': [(0, 7, 'BRAND')]}),\n",
       " ('Kuulaketju pesualtaaseen, 2 rengasta, 30 cm.',\n",
       "  {'entities': [(38, 44, 'SIZE')]}),\n",
       " ('Makeispussi Riesen - 34% alennus', {'entities': [(12, 18, 'BRAND')]}),\n",
       " ('Oakley Goggles Aurinkolasit Oakley OO7099 FALL LINE XL 709911',\n",
       "  {'entities': [(52, 54, 'SIZE'), (0, 14, 'BRAND')]}),\n",
       " ('Lompakot le tanneur martin black saatavana miesten kokoja yksi koko',\n",
       "  {'entities': [(43, 50, 'GENDER'), (58, 67, 'SIZE'), (27, 32, 'COLOR')]}),\n",
       " ('Kengät myma pisan brown saatavana naisten kokoja 36',\n",
       "  {'entities': [(49, 51, 'SIZE'), (34, 41, 'GENDER'), (18, 23, 'COLOR')]}),\n",
       " ('Balleriinat heyraud dounia black saatavana naisten kokoja 38',\n",
       "  {'entities': [(58, 60, 'SIZE'), (43, 50, 'GENDER'), (27, 32, 'COLOR')]}),\n",
       " ('ILLUSIVE LONDON Huppari Juniorit - Kids, Valkoinen',\n",
       "  {'entities': [(41, 50, 'COLOR'), (35, 40, 'AGE_GROUP')]}),\n",
       " ('Brookhaven Lucy Jo Aurinkolasit Juniorit - Only at JD - Kids, Vaaleanpunainen',\n",
       "  {'entities': [(62, 77, 'COLOR'),\n",
       "    (43, 47, 'BRAND'),\n",
       "    (16, 18, 'BRAND'),\n",
       "    (0, 10, 'BRAND'),\n",
       "    (51, 53, 'BRAND'),\n",
       "    (56, 61, 'AGE_GROUP')]}),\n",
       " ('Sandaalit Coolway  ANDREA', {'entities': [(10, 17, 'BRAND')]}),\n",
       " (\"Kengät un matin d'ete jobby hopea saatavana naisten kokoja 41\",\n",
       "  {'entities': [(59, 61, 'SIZE'), (44, 51, 'GENDER')]}),\n",
       " ('Biohiili Nero 1-15mm kotimainen BioProffa',\n",
       "  {'entities': [(9, 13, 'COLOR'), (14, 20, 'SIZE')]}),\n",
       " ('Cozy by Dozy Cozy By Dozy Bath Robe', {'entities': [(0, 12, 'BRAND')]}),\n",
       " ('Always pitää olosi puhtaana ja raikkaana jopa 8 tunnin ajan! Pakkauskoko 9 kpl.',\n",
       "  {'entities': [(46, 47, 'SIZE'), (73, 74, 'SIZE'), (0, 6, 'BRAND')]}),\n",
       " ('Kengät lottusse erminia brown saatavana naisten kokoja 41',\n",
       "  {'entities': [(55, 57, 'SIZE'), (40, 47, 'GENDER'), (24, 29, 'COLOR')]}),\n",
       " ('Boly Guard BG590-24MHD', {'entities': [(0, 10, 'BRAND')]}),\n",
       " ('Neon - Slender G', {'entities': [(15, 16, 'SIZE'), (0, 4, 'BRAND')]}),\n",
       " ('T-PAIDAT/PAIDAT Lähettäjä Retour till Pojat i Musta - 7-8 vuotta',\n",
       "  {'entities': [(46, 51, 'COLOR'), (26, 32, 'BRAND')]}),\n",
       " ('Flamme Rouge Boardgame (English)', {'entities': [(7, 12, 'COLOR')]}),\n",
       " ('Kengät Papucei  MATI BLACK FLOWER',\n",
       "  {'entities': [(7, 14, 'BRAND'), (21, 26, 'COLOR')]}),\n",
       " ('Ikon Shelf 21, Oak Natural Oil från Stolab .',\n",
       "  {'entities': [(36, 42, 'BRAND'), (0, 4, 'BRAND')]}),\n",
       " ('Bolt Lattivalaisin Long 2 Upperfit - Tonone',\n",
       "  {'entities': [(37, 43, 'BRAND')]}),\n",
       " ('Skagen 99999 Naisten kello SKW2755 Hopea/Kullansävytetty teräs Ø34',\n",
       "  {'entities': [(0, 6, 'BRAND'), (13, 20, 'GENDER'), (35, 56, 'COLOR')]}),\n",
       " ('Australian Native Botanicals Conditioner - Coloured Hair',\n",
       "  {'entities': [(0, 28, 'BRAND')]}),\n",
       " ('Uhlsport Säärisuojat Carbonflex Evo - Musta',\n",
       "  {'entities': [(38, 43, 'COLOR'), (0, 8, 'BRAND')]}),\n",
       " ('Happy Pets Little Kitty Black/White',\n",
       "  {'entities': [(24, 35, 'COLOR'), (0, 10, 'BRAND')]}),\n",
       " ('Cultor RD-01 ( 320/85 R32 142A8 TL kaksoistunnus  142B )',\n",
       "  {'entities': [(0, 6, 'BRAND')]}),\n",
       " ('Proteinella, 200 g', {'entities': [(13, 18, 'WEIGHT')]}),\n",
       " ('Chill-Out Sivupöytä Large+ Small, Valkoinen',\n",
       "  {'entities': [(34, 43, 'COLOR')]}),\n",
       " ('GODDIVA ihana mekko. Maksimekko, jossa kietaisuyläosa ja korostettu vyötärö, joka luo kauniisti laskeutuvan mallin.- Joustamatonta kangasta- Vuori- Vyötäröllä joustonauha ja solmittava nauha (irrotettava)Takapituus olalta 109 cm koossa S(UK10). Malli on 174 cm pitkä ja käyttää kokoa S(UK10). Vain käsinpesu.',\n",
       "  {'entities': [(254, 260, 'SIZE'), (222, 228, 'SIZE')]}),\n",
       " ('So & Co New York Studio Naisten kello 5061M.2',\n",
       "  {'entities': [(0, 16, 'BRAND'), (17, 23, 'BRAND'), (24, 31, 'GENDER')]}),\n",
       " ('Main Light Tank T-shirts & Tops Short-sleeved Kermanvärinen Blanche',\n",
       "  {'entities': [(60, 67, 'BRAND')]}),\n",
       " ('Lelo Liukuvoide 75 ml', {'entities': [(16, 21, 'SIZE'), (0, 4, 'BRAND')]}),\n",
       " ('Adidas Dsng Move Climacool Woven Shorts, Grey',\n",
       "  {'entities': [(41, 45, 'COLOR'), (0, 6, 'BRAND')]}),\n",
       " ('Candy Girl – Verkkomekko T844002', {'entities': [(0, 10, 'BRAND')]}),\n",
       " ('Cl Utility Pants Collegehousut Olohousut Musta Reebok Classics',\n",
       "  {'entities': [(41, 46, 'COLOR'), (47, 62, 'BRAND')]}),\n",
       " ('YETITABLET 65\" Black Android', {'entities': [(15, 20, 'COLOR')]}),\n",
       " ('Pieces pcHulla 2/4 Top -paita. Suora, miellyttävän väljä malli ja V-pääntie, jossa kapea päärme. Silmukkalenkit ja päällystetyt napit edessä sekä lyhyet hihat, joissa kiinteä käänne hihansuissa. Suora helma, jossa pienet sivuhalkiot. Pehmeästi laskeutuvaa kreppimateriaalia.',\n",
       "  {'entities': [(0, 6, 'BRAND')]}),\n",
       " ('Akkutrimmerin varaterät 20 kpl', {'entities': [(24, 26, 'SIZE')]}),\n",
       " ('Ovadia & Sons - Ike Turner Military Overshirt - Harmaa - L',\n",
       "  {'entities': [(57, 58, 'SIZE'),\n",
       "    (48, 54, 'COLOR'),\n",
       "    (27, 35, 'COLOR'),\n",
       "    (0, 13, 'BRAND')]}),\n",
       " ('Keittiöveitsi 22 cm Hiiliteräs Puu', {'entities': [(14, 19, 'SIZE')]}),\n",
       " ('Hart-Sport Energy urheilujuomajauhe', {'entities': [(0, 10, 'BRAND')]}),\n",
       " ('Träningsdvd till Flowin med komplett program som ger kondition och styrka för hela kroppen.',\n",
       "  {'entities': [(17, 23, 'BRAND')]}),\n",
       " ('These earrings feature a long, dangling, shell design and a heavy material. NA-KD by YOU is a collection designed by our community. By voting on Instagram our customers decided the styles, colors and names of the products. And we love it!.',\n",
       "  {'entities': [(76, 88, 'BRAND')]}),\n",
       " ('Fortress Predator perukesiima on metallipunoksella vahvistettu.Perukesiiman sisäosa on dyneemakuitua jonka päällä on kierretty metallipunos.Erittäin pehmeä rakenne ja voidaan sitoa suoraan siimaan,uistimeen yms.Solmut ei luista ja kiertynyt peruke voidaan oikaista sormien välissä.',\n",
       "  {'entities': [(9, 17, 'BRAND')]}),\n",
       " ('Fondaco King size -pussilakanasetti Eden Vaaleanharmaa',\n",
       "  {'entities': [(41, 54, 'COLOR'), (0, 7, 'BRAND')]}),\n",
       " ('Infocus In1110 Series Led 1080P 3000Lum 2.1Kg Usb Player Wireless Rdy In Proj',\n",
       "  {'entities': [(0, 7, 'BRAND'), (40, 45, 'WEIGHT')]}),\n",
       " ('Kengät panama jack panama brown saatavana naisten kokoja 36',\n",
       "  {'entities': [(57, 59, 'SIZE'), (42, 49, 'GENDER'), (26, 31, 'COLOR')]}),\n",
       " ('Appertiff Lando', {'entities': [(0, 9, 'BRAND')]}),\n",
       " ('NN07 Chris Tee 3438', {'entities': [(0, 4, 'BRAND')]}),\n",
       " ('Gazillion Big Bubble Wand', {'entities': [(0, 9, 'BRAND')]}),\n",
       " ('Pharbio D3-vitamin 180 tablettia',\n",
       "  {'entities': [(19, 22, 'SIZE'), (0, 7, 'BRAND')]}),\n",
       " ('Stella Nova Rine', {'entities': [(0, 11, 'BRAND')]}),\n",
       " ('Vital Complete med Q10 & Betaglukan 120 kapselia',\n",
       "  {'entities': [(36, 39, 'SIZE'), (0, 5, 'BRAND')]}),\n",
       " ('PROGEAR EG-M1021 Eyeguard Kids Silmälasit. Collection:Kids. Kehyksen Väri: Shiny Grey Transparent. Kehysmateriaali: Plastic. Koko: 52.',\n",
       "  {'entities': [(75, 85, 'COLOR'),\n",
       "    (26, 30, 'AGE_GROUP'),\n",
       "    (131, 134, 'SIZE'),\n",
       "    (116, 124, 'MATERIAL')]}),\n",
       " ('Viking kengät Impulse II GTX W musta',\n",
       "  {'entities': [(0, 6, 'BRAND'), (31, 36, 'COLOR')]}),\n",
       " ('Lyhyt mekko loreak mendian zenit black saatavana naisten kokoja m,l',\n",
       "  {'entities': [(49, 56, 'GENDER'), (64, 67, 'SIZE'), (33, 38, 'COLOR')]}),\n",
       " ('Marshall Acton Ii Bluetooth', {'entities': [(0, 8, 'BRAND')]}),\n",
       " ('Kengät Amalfi by Rangoni  PRETTY', {'entities': [(7, 24, 'BRAND')]}),\n",
       " ('Tivoli Bon riippuvalaisin, pieni, musta',\n",
       "  {'entities': [(0, 6, 'BRAND'), (34, 39, 'COLOR')]}),\n",
       " ('30 kpl hammaslankaimia hammasvälien puhdistamiseen.',\n",
       "  {'entities': [(0, 2, 'SIZE')]}),\n",
       " ('Ingersoll Regent Automatic -kello. Ruostumatonta terästä. Säädettävä ranneke ja solki, jossa kaiverrettu logo. Kellotaulussa näkyvä liipotin ja viisarit, jotka näyttävät päivämäärän, tunnit, minuutit ja sekunnit. Vesitiiviys jopa 5 ATM. Mukana puinen säilytysrasia.  - Säädettävä ranneke - Näkyvä liipotin - Kellotaulun halkaisija: 47 mm - Vesitiiviys: 5 ATM - Säädettävä ranneke',\n",
       "  {'entities': [(332, 337, 'SIZE'), (0, 9, 'BRAND')]}),\n",
       " ('Gymstick original 2.0, strong-black',\n",
       "  {'entities': [(0, 8, 'BRAND'), (23, 35, 'COLOR')]}),\n",
       " ('Snickers Suklaapatukka - 9% alennus', {'entities': [(0, 8, 'BRAND')]}),\n",
       " ('Jopen – Pave Marilyn', {'entities': [(0, 5, 'BRAND')]}),\n",
       " ('Nikwax Kyllästesuihke nahalle ja kankaalle 125ml',\n",
       "  {'entities': [(0, 6, 'BRAND'), (43, 48, 'SIZE')]}),\n",
       " ('15 x Goodlife Low Sugar, 50 g, Salted Caramel, kort datum',\n",
       "  {'entities': [(25, 30, 'WEIGHT'), (0, 2, 'SIZE'), (5, 13, 'BRAND')]}),\n",
       " ('CleanStream – Shower Cleansing Nozzle Huuhtelupää',\n",
       "  {'entities': [(0, 11, 'BRAND')]}),\n",
       " ('Shikari ST 701A ( 7.50 -20 130/126G 14PR TT SET - Reifen mit Schlauch )',\n",
       "  {'entities': [(8, 10, 'SIZE'), (0, 7, 'BRAND')]}),\n",
       " ('Color Gloss 110ml', {'entities': [(12, 17, 'SIZE')]}),\n",
       " ('Kengät Nine West  JARETH', {'entities': [(7, 16, 'BRAND')]}),\n",
       " ('NSC Shaving Soap Birch', {'entities': [(17, 22, 'COLOR')]}),\n",
       " ('COVERIT HUAWEI P10 LITE Black 0.33MM Ashasi Glass 5.2\"',\n",
       "  {'entities': [(24, 29, 'COLOR'), (44, 49, 'MATERIAL')]}),\n",
       " ('Latausjohto soveltuu Yuneec H:n akun lataamiseen esim. Skyrc D100 laturin kanssa.',\n",
       "  {'entities': [(61, 65, 'SIZE'), (21, 27, 'BRAND'), (55, 60, 'BRAND')]}),\n",
       " ('Erica Kvam x NA-KD Tikattu Olkalaukku - Black',\n",
       "  {'entities': [(40, 45, 'COLOR'), (0, 18, 'BRAND')]}),\n",
       " ('THULE Nylon Rolling Upright w laptop comp, Safe-Zone, shoulder straps, Stratus (dark blue)',\n",
       "  {'entities': [(6, 11, 'MATERIAL'), (79, 90, 'COLOR')]}),\n",
       " ('Longovital Classic 220 tablettia',\n",
       "  {'entities': [(19, 22, 'SIZE'), (11, 18, 'BRAND'), (0, 10, 'BRAND')]}),\n",
       " ('Primus Omnifuel II Retkikeitin', {'entities': [(0, 6, 'BRAND')]}),\n",
       " ('Adax Teramo Belt Bag Cirkeline', {'entities': [(0, 4, 'BRAND')]}),\n",
       " ('- Liam gloves from State Of Wow - Black - Elasticated upper wrist - Soft and comfortable lining - Soft leather - 100% Leather',\n",
       "  {'entities': [(34, 39, 'COLOR'),\n",
       "    (118, 125, 'MATERIAL'),\n",
       "    (98, 110, 'MATERIAL')]}),\n",
       " ('Anal Drops Vibrating Anustappi', {'entities': [(0, 10, 'BRAND')]}),\n",
       " ('Flattered Lovi Black Leather',\n",
       "  {'entities': [(15, 20, 'COLOR'),\n",
       "    (10, 14, 'BRAND'),\n",
       "    (0, 9, 'BRAND'),\n",
       "    (21, 28, 'MATERIAL')]}),\n",
       " ('FD Pike Tube 5mm', {'entities': [(13, 16, 'SIZE')]}),\n",
       " ('Ss Cn Lavinia Tee T-shirts & Tops Short-sleeved Sininen GUESS Jeans',\n",
       "  {'entities': [(48, 55, 'COLOR'), (56, 67, 'BRAND')]}),\n",
       " ('Silva OMC Spectra rannekompassi',\n",
       "  {'entities': [(10, 17, 'BRAND'), (0, 5, 'BRAND')]}),\n",
       " ('Heliot Emil - Long Sleeve T-Shirt W. Print - Musta - L',\n",
       "  {'entities': [(45, 50, 'COLOR'), (0, 11, 'BRAND')]}),\n",
       " ('Kengät Monderer  STILLWELL', {'entities': [(7, 15, 'BRAND')]}),\n",
       " ('Elflugan Grande Kynttelikkö, Offwhite från Smak Design .',\n",
       "  {'entities': [(0, 8, 'BRAND'), (43, 54, 'BRAND')]}),\n",
       " ('Tripod HM8 Floor Lamp, Maroon', {'entities': [(23, 29, 'COLOR')]}),\n",
       " ('Kengät Isotoner  95810', {'entities': [(7, 15, 'BRAND')]}),\n",
       " ('This is a 6-pack of blue and black socks with assorted designs from Topeco. The socks feature a white logo and are made of a soft, smooth material - 6-Pack of socks - Patterned - Logo - Soft, smooth feel - 75% Bamboo, 22% Polyester, 3% Elastane - Machine wash at 40º',\n",
       "  {'entities': [(20, 24, 'COLOR'),\n",
       "    (96, 101, 'COLOR'),\n",
       "    (210, 217, 'MATERIAL'),\n",
       "    (222, 232, 'MATERIAL'),\n",
       "    (236, 244, 'MATERIAL'),\n",
       "    (29, 34, 'COLOR')]}),\n",
       " ('Priorin antaa ravintoaineita ja mineraaleja suoraan hiusjuureen - sisältäpäin. Priorin palauttaa hiustenkasvusi ja sillä on dokumentoitu teho.',\n",
       "  {'entities': [(0, 7, 'BRAND')]}),\n",
       " ('Titus - Penisrengas anaalipallolla, large',\n",
       "  {'entities': [(0, 5, 'BRAND'), (36, 41, 'SIZE')]}),\n",
       " ('Beautiful jar with a cork lid from Gustavsbergs Porcelain factory with the classic Berså decor designed by Stig Lindberg.',\n",
       "  {'entities': [(48, 57, 'COLOR')]}),\n",
       " ('Fiberfin 400 gr', {'entities': [(9, 15, 'WEIGHT')]}),\n",
       " ('Kengät monderer stillwell blue saatavana naisten kokoja 41',\n",
       "  {'entities': [(56, 58, 'SIZE'), (26, 30, 'COLOR'), (41, 48, 'GENDER')]}),\n",
       " ('Slender Chef Rice - Vähäkalorinen tuote, jota voit käyttää tavallisen riisin tai muiden hiilihydraattien sijaan.',\n",
       "  {'entities': [(0, 12, 'BRAND')]}),\n",
       " ('Rösle maidonvaahdotin', {'entities': [(0, 5, 'BRAND')]}),\n",
       " ('Design by Grönlund Tupla-kattovalaisin musta, 60 cm',\n",
       "  {'entities': [(46, 51, 'SIZE'), (0, 18, 'BRAND'), (39, 45, 'COLOR')]}),\n",
       " ('Stanislawski Xtinction 2 laukaisulaite', {'entities': [(0, 12, 'BRAND')]}),\n",
       " ('Nmmwillit Wool Neckwarmer Xx Huivi Vihreä Name It',\n",
       "  {'entities': [(35, 41, 'COLOR'), (10, 14, 'MATERIAL')]}),\n",
       " ('Pikku-Piia hoitoalusta. Valmistettu Suomessa.Pinnoite ei sisällä kiellettyjä kemikaaleja.Pinta: muovipinnoitettu puuvillakangas, pohjakankaana kevyt nylon.T äyte: Keskellä vaahtomuovipatja ja reunoissa muhkea vanutus.Pinta on kosteutta hylkivä.Muovi-pinnoitettu hoitoalusta on helppo pitää puhtaana pyyhkimällä kostealla liinalla.Kaikki saumat on ommeltuja ja siten erittäin kestäviä.Koko: n. 50 x 65 cm.Soveltuu käytettäväksi lähes minkä tahansa hoitopöydän tai tason päällä.',\n",
       "  {'entities': [(393, 395, 'SIZE'), (398, 400, 'SIZE')]}),\n",
       " ('Cotek Invertteri 24v 3500W', {'entities': [(0, 5, 'BRAND')]}),\n",
       " ('Hunkemöller Adriana Bs H', {'entities': [(0, 11, 'BRAND')]}),\n",
       " ('Sigma Beauty Warm Neutrals Volume 2 Eyeshadow Palette',\n",
       "  {'entities': [(0, 12, 'BRAND')]}),\n",
       " ('Dsquared2 Silmälasit DQ5126 072', {'entities': [(0, 9, 'BRAND')]}),\n",
       " ('Sandaalit Fru.it  5420-279', {'entities': [(10, 16, 'BRAND')]}),\n",
       " ('Neulepusero jdy jdydaisy brown saatavana naisten kokoja xl',\n",
       "  {'entities': [(41, 48, 'GENDER'), (25, 30, 'COLOR'), (56, 58, 'SIZE')]}),\n",
       " ('Donia Tyynynpäällinen 50x50cm, Musta/Valkoinen',\n",
       "  {'entities': [(31, 46, 'COLOR'), (22, 30, 'SIZE')]}),\n",
       " ('Eva Trio Lounaslautanen Nova harmaa 22 cm',\n",
       "  {'entities': [(36, 41, 'SIZE'), (0, 8, 'BRAND'), (29, 35, 'COLOR')]}),\n",
       " ('Sudio Femtio', {'entities': [(0, 5, 'BRAND')]}),\n",
       " ('A set with a tray and tealights from Bloomingville.',\n",
       "  {'entities': [(0, 1, 'COLOR')]}),\n",
       " ('Fingerlings Dino T-Rex, Razor', {'entities': [(0, 11, 'BRAND')]}),\n",
       " ('Norma 6,5x55 Jaktmatch 6,5g',\n",
       "  {'entities': [(0, 5, 'BRAND'), (23, 27, 'WEIGHT')]}),\n",
       " ('Mont Blanc MB0001S Aurinkolasit. Collection:Men. Kehyksen Väri: Gold.  Linssin Väri: . Kehysmateriaali: Metal. Koko: 56.',\n",
       "  {'entities': [(0, 10, 'BRAND'),\n",
       "    (104, 110, 'MATERIAL'),\n",
       "    (64, 69, 'COLOR'),\n",
       "    (117, 120, 'SIZE')]}),\n",
       " ('Turtle Wax lukkosula - pakkauskoko 40 ml - sisältää PTFE:tä - sulattaa ja voitelee lukot tehokkaasti',\n",
       "  {'entities': [(35, 40, 'SIZE'), (0, 10, 'BRAND')]}),\n",
       " ('Tangent Pearl Box, valkoinen från Tangent .',\n",
       "  {'entities': [(0, 7, 'BRAND'), (19, 28, 'COLOR')]}),\n",
       " ('Amaizin Hot Salsa on tulinen salsa joka sopii nachojen dippaamiseen. Salsa on vegaaninen ja gluteeniton.',\n",
       "  {'entities': [(0, 7, 'BRAND'), (8, 11, 'BRAND')]}),\n",
       " ('Leipäveitsi 20 cm', {'entities': [(12, 17, 'SIZE')]}),\n",
       " ('Kääntötarjotin 30x48 cm, Valkoinen/Musta',\n",
       "  {'entities': [(25, 40, 'COLOR'), (15, 24, 'SIZE')]}),\n",
       " ('Granny Bags Card Holders & Wallets Wallets Keltainen Becksöndergaard',\n",
       "  {'entities': [(43, 52, 'COLOR'), (53, 68, 'BRAND')]}),\n",
       " ('Punkymalsin Roxy on rokannut syntymästä asti. Hänellä on aivan oma elektrinen lavatyyli ja hän tietää kuinka yleisön saa mukaan kappaleisiin. Kaikki tassut Roxyn ympärille, et halua saada häntä huonolle tuulelle. Punkymals on rokkibändi, joka saa kansan rokkaamaan. Painaessasi stiä vatsasta saat leveän hymyn ja silmät liikkuvat. Mukana myös useita äänitehosteita.',\n",
       "  {'entities': [(12, 16, 'BRAND')]}),\n",
       " ('Sileäpintaiset, silikoniset geishakuulat. Kuulien sisällä on metallikuulat, jotka värisevät liikkuessasi.Käytä silikonisten kuulien kanssa tarvittaessa vesipohjaista liukuvoidetta. Pesu miedolla saippuavedellä tai erotiikkavälineille tarkoitetulla puhdistusaineella.Tuotetiedot:Materiaali: 100% Silikoni Tuotteen kokopituus: 20,5 cm Kuulien halkaisija: 3,6 cm Väliremmin pituus: n. 6,0 cm Paino: 88 g Vesitiivis Väri: Lila',\n",
       "  {'entities': [(418, 422, 'COLOR'),\n",
       "    (396, 400, 'WEIGHT'),\n",
       "    (325, 332, 'SIZE'),\n",
       "    (295, 303, 'MATERIAL'),\n",
       "    (353, 359, 'SIZE'),\n",
       "    (382, 388, 'SIZE')]}),\n",
       " ('Vilac - Nukketeatteri Nathalie Lété (8608)',\n",
       "  {'entities': [(0, 5, 'BRAND')]}),\n",
       " ('Gerardo Toys Hyppyeläin Kaniini harmaa on hyppyeläin, jota voidaan käyttää sisällä ja ulkona. Hyppyeläimen avulla lapsi voi harjoituttaa tasapainoaan. Mukana syntymätodistus, johon lapsi voi täyttää hyppyeläimensä nimen ja päivän.',\n",
       "  {'entities': [(0, 12, 'BRAND'), (32, 38, 'COLOR')]}),\n",
       " ('Astro Lincoln-seinävalaisin', {'entities': [(0, 5, 'BRAND')]}),\n",
       " ('Hurtta Weekend Warrior Talutushihna 180cm',\n",
       "  {'entities': [(0, 6, 'BRAND'), (36, 41, 'SIZE')]}),\n",
       " ('Steel – Dilaattorisetti', {'entities': [(0, 5, 'BRAND')]}),\n",
       " ('Boho Luomiväri OAP 209 Amande', {'entities': [(0, 4, 'BRAND')]}),\n",
       " ('Nilkkurit luciano barachini arno black saatavana naisten kokoja 39,40',\n",
       "  {'entities': [(49, 56, 'GENDER'), (64, 69, 'SIZE'), (33, 38, 'COLOR')]}),\n",
       " ('- kätevä suihkepullo - pakkauskoko 200 ml',\n",
       "  {'entities': [(35, 41, 'SIZE')]}),\n",
       " ('Lastenkengät Tom Tailor  JAVILOME', {'entities': [(13, 23, 'BRAND')]}),\n",
       " ('Gluteenijauho 500g', {'entities': [(14, 18, 'WEIGHT')]}),\n",
       " ('Mustad L87', {'entities': [(0, 6, 'BRAND')]}),\n",
       " ('Invicta Angel Diamond Naisten kello 30955 Musta/Teräs Ø38 mm',\n",
       "  {'entities': [(0, 7, 'BRAND'),\n",
       "    (22, 29, 'GENDER'),\n",
       "    (42, 53, 'COLOR'),\n",
       "    (54, 60, 'SIZE')]}),\n",
       " ('Kaakaojauhe (RK,L) 350g', {'entities': [(19, 23, 'WEIGHT')]}),\n",
       " ('Cruzbroker Crazy Gamer', {'entities': [(0, 10, 'BRAND')]}),\n",
       " ('Pieni Letto Bag Shopper Laukku Monivärinen/Kuvioitu Marimekko Home',\n",
       "  {'entities': [(52, 66, 'BRAND')]}),\n",
       " ('Man Cage – Model 06 Siveysvyö, Musta',\n",
       "  {'entities': [(31, 36, 'COLOR'), (0, 8, 'BRAND')]}),\n",
       " ('Lima - Etr 500 Frecciarossa',\n",
       "  {'entities': [(11, 14, 'SIZE'), (0, 4, 'COLOR')]}),\n",
       " ('Kengät TUK  VIVA HIGH MONDO CREEPER',\n",
       "  {'entities': [(17, 21, 'SIZE'), (7, 10, 'BRAND')]}),\n",
       " ('Ugglan Tarjotin Ø65cm från Nadja Wedin Design .',\n",
       "  {'entities': [(27, 45, 'BRAND')]}),\n",
       " ('MyDay Daily Toric 90 Pack Piilolinssit. Valmistaja: MyDay. Käyttöaika Daily Disposable. Vesipitoisuus: %',\n",
       "  {'entities': [(18, 20, 'SIZE'), (0, 5, 'BRAND')]}),\n",
       " ('Naturkind Lux Yhdistelmävaunut', {'entities': [(0, 9, 'BRAND')]}),\n",
       " ('Balance Cold Plunge Pore Mask 90 ml', {'entities': [(30, 35, 'SIZE')]}),\n",
       " ('Acme Autoteline puhelimelle tuulettimen ritilään',\n",
       "  {'entities': [(0, 4, 'BRAND')]}),\n",
       " ('Pure Cashmere O-Neck Pullover Neulepaita Ruskea SPARKZ COPENHAGEN',\n",
       "  {'entities': [(41, 47, 'COLOR'), (5, 13, 'COLOR')]}),\n",
       " ('New York Yankees Premium Reppu Sininen - Cool reppu NY-logolla. Repussa on iso ja pienempi tasku sisäpuolella, ulkotasku ja kaksi sivutaskua. Kaikki taskut ovat vetoketjullisia. Repussa on ripustuslenkki ja säädettävät remmit. Mitat: K44 x L33 x H16 cm. Materiaali: Polyesteri.',\n",
       "  {'entities': [(31, 38, 'COLOR')]}),\n",
       " ('Noughty Noughty Care Taker Shampoo', {'entities': [(0, 7, 'BRAND')]}),\n",
       " ('Wanachi - Happy Hummer, Pinkki',\n",
       "  {'entities': [(24, 30, 'COLOR'), (0, 7, 'BRAND')]}),\n",
       " ('BABY born Holiday Trolley with Doll Seat on täydellinen matkalla. BABY born istuu turvallisesti tuolissaan ja hänen tavarat pysyvät mukana laukussa hänen tutkiessaan maailmaa.',\n",
       "  {'entities': [(0, 9, 'BRAND')]}),\n",
       " ('E NATURE E Nature Squeeze Green Watery  Sheet Mask',\n",
       "  {'entities': [(26, 31, 'COLOR'), (9, 17, 'BRAND')]}),\n",
       " ('AMITTO Voiveitsi Musta', {'entities': [(17, 22, 'COLOR')]}),\n",
       " ('Sandaalit Kat Maconie  MAUDE', {'entities': [(10, 21, 'BRAND')]}),\n",
       " ('Batman Mask', {'entities': [(0, 6, 'BRAND')]}),\n",
       " ('Unlimit Glove Lilly Hanskat Käsineet Musta Unlimit',\n",
       "  {'entities': [(37, 42, 'COLOR'), (0, 7, 'BRAND')]}),\n",
       " ('Tiny Treasure - Baby Changing Bag (30061)',\n",
       "  {'entities': [(0, 13, 'BRAND')]}),\n",
       " ('Veloce V8803 ( 4.00 -10 4PR TT )', {'entities': [(0, 6, 'BRAND')]}),\n",
       " ('Julbo Silmälasit BLOOM Kids JOP13243816',\n",
       "  {'entities': [(0, 5, 'BRAND'), (23, 27, 'AGE_GROUP')]}),\n",
       " ('Enola Gaye Savuheite Vihreä',\n",
       "  {'entities': [(21, 27, 'COLOR'), (0, 10, 'BRAND')]}),\n",
       " ('Sandaalit new rock planea black saatavana naisten kokoja 36,37,38,40,41',\n",
       "  {'entities': [(42, 49, 'GENDER'), (26, 31, 'COLOR'), (57, 71, 'SIZE')]}),\n",
       " (\"Paul's Boutique. Ulkokuori: 100% polyuretaani. Inner vuori: 100% polyesteri. Vetoketjukiinnitys yläosassa. Monta luottokorttitaskua. Mitat: 19 x 10 x 2 cm.\",\n",
       "  {'entities': [(140, 155, 'SIZE'),\n",
       "    (65, 76, 'MATERIAL'),\n",
       "    (33, 46, 'MATERIAL')]}),\n",
       " ('Xtend BCAA, 30 servings',\n",
       "  {'entities': [(12, 14, 'SIZE'), (0, 5, 'BRAND')]}),\n",
       " ('Unlimit Unlimit Glove Lilly', {'entities': [(0, 7, 'BRAND')]}),\n",
       " ('Maybelline New York Superstay Matte ink Successful 165',\n",
       "  {'entities': [(51, 54, 'SIZE'), (0, 19, 'BRAND')]}),\n",
       " ('Sundridge Retex lämpöpuku', {'entities': [(0, 9, 'BRAND')]}),\n",
       " ('Pitkähihainen paitapusero les voiles de st tropez acoupa blue saatavana miesten kokoja s',\n",
       "  {'entities': [(57, 61, 'COLOR'), (72, 79, 'GENDER')]}),\n",
       " ('Form Living Tekanna Ester 13x21x15cm Rosa',\n",
       "  {'entities': [(37, 41, 'COLOR'), (0, 11, 'BRAND'), (26, 36, 'SIZE')]}),\n",
       " ('Resteröds Travel Bag Boxer Bamboo 7-Pack',\n",
       "  {'entities': [(27, 33, 'COLOR'), (0, 9, 'BRAND')]}),\n",
       " ('Vivani Täytesuklaa Piparminttu 100g',\n",
       "  {'entities': [(0, 6, 'BRAND'), (31, 35, 'WEIGHT')]}),\n",
       " ('Kengät jonak didlaneo black saatavana naisten kokoja 37,38,39,40,41',\n",
       "  {'entities': [(38, 45, 'GENDER'), (22, 27, 'COLOR'), (53, 67, 'SIZE')]}),\n",
       " ('Lyhyt mekko marciano parker blue saatavana naisten kokoja de 32,de 38,de 40',\n",
       "  {'entities': [(58, 75, 'SIZE'), (28, 32, 'COLOR'), (43, 50, 'GENDER')]}),\n",
       " ('Kengät salomon trailster w violet saatavana naisten kokoja 36,38,36 2/3,37 1/3,38 2/3,39 1/3',\n",
       "  {'entities': [(44, 51, 'GENDER'), (59, 92, 'SIZE')]}),\n",
       " ('Korkokengät StylistClick  SHAYLA', {'entities': [(12, 24, 'BRAND')]}),\n",
       " ('Desigual Accessories Bols Black Paper Chelsea',\n",
       "  {'entities': [(26, 31, 'COLOR'), (0, 20, 'BRAND')]}),\n",
       " ('Hiuskiinne Herbina Sensitive 75 ml',\n",
       "  {'entities': [(29, 34, 'SIZE'), (11, 18, 'BRAND')]}),\n",
       " ('US Polo, Skinny Denim Jeans Mid Wash, Sininen, Farkut till Pojat, 15-16 vuotta',\n",
       "  {'entities': [(66, 71, 'SIZE'), (38, 46, 'COLOR')]}),\n",
       " ('iSex - Usb luv ring', {'entities': [(0, 4, 'BRAND')]}),\n",
       " ('Canyamel Tyynynpäällinen 50x50cm, Musta/Harmaa från Lidby Living .',\n",
       "  {'entities': [(34, 46, 'COLOR'), (52, 64, 'BRAND'), (25, 33, 'SIZE')]}),\n",
       " ('Perinteinen myrskylyhty on hyvä tunnelmanluoja.   Polttoainesäiliön tilaavuus 0,34 l. Polttoaine: Valopetroli / lamppuöljy. Paloaika yhdellä säiliöllisellä n. 20 tuntia. Sydämen leveys 12,5 mm. Halkaisija 13 cm, korkeus 26 cm (ilman sankaa).',\n",
       "  {'entities': [(220, 225, 'SIZE'),\n",
       "    (159, 161, 'SIZE'),\n",
       "    (205, 211, 'SIZE'),\n",
       "    (78, 85, 'SIZE'),\n",
       "    (185, 193, 'SIZE')]}),\n",
       " ('Käsienpesutahna Dreumex Special- 2,8 kg',\n",
       "  {'entities': [(16, 23, 'BRAND'), (33, 39, 'WEIGHT')]}),\n",
       " ('Takaiskunvaimennin - Sachs Sa280989', {'entities': [(21, 26, 'BRAND')]}),\n",
       " ('Nike SB - Blazer Low Gt - Musta - US 10',\n",
       "  {'entities': [(26, 31, 'COLOR'), (34, 39, 'SIZE'), (0, 7, 'BRAND')]}),\n",
       " ('My.Size - 60 mm Kondomi, 3 kpl', {'entities': [(10, 15, 'SIZE')]}),\n",
       " ('Fruit of the Loom Hihaton T-paita Puuvilla 5 kpl Valkoinen S',\n",
       "  {'entities': [(49, 58, 'COLOR'),\n",
       "    (59, 60, 'SIZE'),\n",
       "    (0, 17, 'BRAND'),\n",
       "    (34, 42, 'MATERIAL')]}),\n",
       " ('Sherman Emalimuki - Black', {'entities': [(20, 25, 'COLOR')]}),\n",
       " ('UMA PARKER NYC Shoes Pistachio 37',\n",
       "  {'entities': [(31, 33, 'SIZE'), (21, 30, 'COLOR')]}),\n",
       " (\"Powerful-Strenght Line-Reducing & Dark Circle-Diminishing Vi Beauty WOMEN Skin Care Face Eye Cream Nude Kiehl's\",\n",
       "  {'entities': [(34, 38, 'COLOR'), (104, 111, 'BRAND'), (68, 73, 'GENDER')]}),\n",
       " ('RimitaDeo luomudeodorantti 50 ml', {'entities': [(27, 32, 'SIZE')]}),\n",
       " ('Nintendo Switch/Tarvikkeet/Sovittimet', {'entities': [(0, 8, 'BRAND')]}),\n",
       " ('iPhone huolto - Apple iPhone 6S Näytön ja etupaneelin korjaus',\n",
       "  {'entities': [(16, 21, 'BRAND')]}),\n",
       " ('Foodin - Heraproteiini, maustamaton, 650 g',\n",
       "  {'entities': [(37, 42, 'WEIGHT'), (0, 6, 'BRAND')]}),\n",
       " ('Opaque - Beanie No. 1 - Musta - ONE SIZE',\n",
       "  {'entities': [(24, 29, 'COLOR'), (32, 40, 'SIZE'), (0, 6, 'BRAND')]}),\n",
       " ('Nordik Crow Varispilli', {'entities': [(0, 6, 'BRAND')]}),\n",
       " ('Kuvailu Moves -mekko V-pääntie Nappikiinnitys edessä Nauhat vyötäröllä 3/4-hihat Materiaali ja hoito Materiaali 95% Polyesteria. 5% Elastaania Hienopesu 30 asteessa Ei kuivapesua Ei valkaisua Ei rumpukuivausta Silitä keskilämmöllä Yksityiskohtia Merkki: Moves Väri: Navy Tuotenro: 500466-0286 Vaatteet / Mekot / Väljät mekot Malli on 174 cm pitkä ja käyttää kokoa Small. Lataa lehdistökuva',\n",
       "  {'entities': [(153, 155, 'SIZE'),\n",
       "    (266, 270, 'COLOR'),\n",
       "    (334, 340, 'SIZE'),\n",
       "    (8, 13, 'BRAND'),\n",
       "    (364, 370, 'SIZE'),\n",
       "    (116, 128, 'MATERIAL'),\n",
       "    (132, 142, 'MATERIAL')]}),\n",
       " ('Saraghina AMELIA/S Aurinkolasit. Collection:Women. Kehyksen Väri: Black.  Linssin Väri: . Kehysmateriaali: Metal. Koko: 56.',\n",
       "  {'entities': [(0, 9, 'BRAND'),\n",
       "    (107, 113, 'MATERIAL'),\n",
       "    (66, 72, 'COLOR'),\n",
       "    (120, 123, 'SIZE')]}),\n",
       " ('Nintendo Switch/Tarvikkeet/Laatikot ja säilytys',\n",
       "  {'entities': [(0, 8, 'BRAND')]}),\n",
       " ('Blue Square Beanie Accessories Headwear Hats Sininen NOVA STAR',\n",
       "  {'entities': [(0, 4, 'COLOR'), (45, 52, 'COLOR')]}),\n",
       " ('50 Den Ti Sukkahousut Musta Esprit Socks',\n",
       "  {'entities': [(22, 27, 'COLOR'), (0, 2, 'SIZE'), (28, 40, 'BRAND')]}),\n",
       " ('Beretta Tactical Messenger Bag', {'entities': [(0, 7, 'BRAND')]}),\n",
       " ('Kajsa Brownie form', {'entities': [(6, 13, 'COLOR')]}),\n",
       " ('Nagel Stand and candlestick from Stoff can be combined with other parts from the Stoff Nagel series the way you prefer. Available in several colours.',\n",
       "  {'entities': [(33, 38, 'BRAND')]}),\n",
       " ('Kengät isotoner 95810 red saatavana naisten kokoja 41 / 42',\n",
       "  {'entities': [(51, 58, 'SIZE'), (22, 25, 'COLOR'), (36, 43, 'GENDER')]}),\n",
       " ('Nilkkurit Terra plana  GINGER ANKLE', {'entities': [(10, 21, 'BRAND')]}),\n",
       " ('A round pouf made from short-haired sheepskin of Australian origin. The pouf is built with a fixed steady piece in the bottom to make the pouf retain its shape and a rubber foam top for best comfort.',\n",
       "  {'entities': [(0, 1, 'COLOR')]}),\n",
       " ('Muotovaahto Erisan extra strong 200 ml',\n",
       "  {'entities': [(32, 38, 'SIZE'), (12, 18, 'BRAND')]}),\n",
       " ('Pusero yLorin L/S Blouse', {'entities': [(14, 17, 'SIZE')]}),\n",
       " ('Lastenkengät feiyue fe lo glitter easy pink saatavana tyttöjen kokoja 21',\n",
       "  {'entities': [(70, 72, 'SIZE'), (39, 43, 'COLOR')]}),\n",
       " ('Miu Miu MU04RV Silmälasit. Collection:Women. Kehyksen Väri: Amaranth Red. Kehysmateriaali: Plastic. Koko: 51.',\n",
       "  {'entities': [(60, 68, 'COLOR'),\n",
       "    (0, 7, 'BRAND'),\n",
       "    (91, 99, 'MATERIAL'),\n",
       "    (106, 109, 'SIZE'),\n",
       "    (69, 73, 'COLOR')]}),\n",
       " ('Kurpitsansiemenet 1kg - 50% alennus', {'entities': [(18, 21, 'WEIGHT')]}),\n",
       " ('The decorative table lamp In The Sun was designed by the duo Dominique Perrault and Gaëlle Lauriot-Prévost for DCW.',\n",
       "  {'entities': [(26, 36, 'BRAND')]}),\n",
       " ('Respiro Pendel is an innovative lamp designed by French designer Philippe Nigro for DCW éditions Paris.',\n",
       "  {'entities': [(0, 7, 'BRAND'), (84, 96, 'BRAND')]}),\n",
       " ('Superfit. Ylä: tecno, tekstiili. Ylävuori: warm. Pohjallinen: tekstiili. Ulkopohja: polyuretaani. GORE-TEX® on kevyt vedenkestävä kalvo, joka on suunniteltu hengittäväksi mutta vettä erästäväksi.. GORE-TEX®. Tarrakiinnitys.',\n",
       "  {'entities': [(117, 129, 'MATERIAL'),\n",
       "    (22, 32, 'MATERIAL'),\n",
       "    (84, 97, 'MATERIAL')]}),\n",
       " ('Fury DeLuxe biljardikäsine', {'entities': [(0, 4, 'BRAND')]}),\n",
       " ('Vulcan - Realistic Anus', {'entities': [(0, 6, 'BRAND')]}),\n",
       " ('Lyhythihainen t-paita athena t shirt col rond white saatavana miesten kokoja xxl,s,m,l,xl',\n",
       "  {'entities': [(46, 51, 'COLOR'), (77, 89, 'SIZE'), (62, 69, 'GENDER')]}),\n",
       " ('The nice lace- up shoe, the high-quality leather uppers and the rubber sole is what sets this modern business shoe apart. This high quality men’s lace-up shoe can be perfectly combined with a business outfit as well as with a cool jeans look. Lloyd. Ylä: 100% nahka. Ylävuori: 100% nahka. Pohjallinen: 100% nahka. Ulkopohja: 100% kumi. Nauhakiinnitys. Neliönmuotoinen kärki.',\n",
       "  {'entities': [(260, 266, 'MATERIAL'),\n",
       "    (330, 335, 'MATERIAL'),\n",
       "    (41, 48, 'MATERIAL')]}),\n",
       " ('Marni MA 220 Aurinkolasit. Collection:Men. Kehyksen Väri: Green.  Linssin Väri: . Kehysmateriaali: Plastic. Koko: 52.',\n",
       "  {'entities': [(9, 12, 'SIZE'),\n",
       "    (0, 5, 'BRAND'),\n",
       "    (114, 117, 'SIZE'),\n",
       "    (99, 107, 'MATERIAL'),\n",
       "    (58, 64, 'COLOR')]}),\n",
       " ('Gerry Weber Edition.', {'entities': [(0, 11, 'BRAND')]}),\n",
       " ('GLYC ORIGINAL 60 tablettia',\n",
       "  {'entities': [(14, 16, 'SIZE'), (0, 4, 'BRAND')]}),\n",
       " ('Pace ALVENTI ( 285/30 R20 99W XL )',\n",
       "  {'entities': [(30, 32, 'SIZE'), (0, 4, 'BRAND')]}),\n",
       " ('Tekonahkareppu Picard laivastonsininen', {'entities': [(15, 21, 'BRAND')]}),\n",
       " ('Brow Master Sculpting Pencil Kulmakynä Meikki Monivärinen/Kuvioitu BareMinerals',\n",
       "  {'entities': [(5, 11, 'BRAND')]}),\n",
       " ('Lyhyt mekko 3 pommes sandrine white saatavana tyttöjen kokoja 12 / 18 kuukautta,3 / 6 kuukautta,6 / 9 kuukautta,9 / 12 kuukautta,2 / 3 vuotta,18 mois / 2 ans',\n",
       "  {'entities': [(100, 101, 'SIZE'),\n",
       "    (62, 64, 'SIZE'),\n",
       "    (67, 69, 'SIZE'),\n",
       "    (30, 35, 'COLOR')]}),\n",
       " ('American Classic American Classic ( 7.60 R15 99S WW )',\n",
       "  {'entities': [(0, 16, 'BRAND')]}),\n",
       " ('Blaser pikajalka Swarovski',\n",
       "  {'entities': [(17, 26, 'BRAND'), (0, 6, 'BRAND')]}),\n",
       " ('vidaXL Sivukaappi 40x30x41,5 cm Valkoinen',\n",
       "  {'entities': [(32, 41, 'COLOR'), (0, 6, 'BRAND'), (18, 31, 'SIZE')]}),\n",
       " ('16PLUS Riippuvalaisin kahvalla Valkoinen - Mazo',\n",
       "  {'entities': [(31, 40, 'COLOR'), (43, 47, 'BRAND')]}),\n",
       " ('Paksu takki suncoo eloi grey saatavana naisten kokoja eu l',\n",
       "  {'entities': [(24, 28, 'COLOR'), (39, 46, 'GENDER'), (54, 58, 'SIZE')]}),\n",
       " ('Retki Finland Classic Reppujakkara 40l',\n",
       "  {'entities': [(14, 21, 'BRAND'), (0, 13, 'BRAND')]}),\n",
       " ('RL Gruppen Labels DT Transport 102x192mm 20-Pack',\n",
       "  {'entities': [(31, 40, 'SIZE')]}),\n",
       " ('Ikkuna Valaisin Aladdin 119, Messinki från Krebs .',\n",
       "  {'entities': [(43, 48, 'BRAND'), (29, 37, 'MATERIAL')]}),\n",
       " ('Gluteeniton spagetti, joka on valmistettu tummasta luomulaatuisesta täysjyväriisistä. Al dente -keittoaika viidestä minuutista eteenpäin. Näin se käy: keitä viisi minuuttia, jonka jälkeen maista pastaa jokainen minuutti, kunnes suutuntuma on täydellinen!Pakkaus: 500 gAinesosat / INCI: LuomutäysjyväriisijauhoLisätiedot: luomu, vegaaninen, gluteeniton',\n",
       "  {'entities': [(263, 266, 'SIZE')]}),\n",
       " ('Kengät veja esplar lt white saatavana miesten kokoja 36,37,38,39,40,41,42,43,44,45,46 ulkopohja amazonian luonnonvaraista luonnonkumia',\n",
       "  {'entities': [(22, 27, 'COLOR'), (38, 45, 'GENDER'), (53, 85, 'SIZE')]}),\n",
       " ('Decode Vessel-pöytävalaisin, harmaa',\n",
       "  {'entities': [(0, 6, 'BRAND'), (29, 35, 'COLOR')]}),\n",
       " ('Kuorintaveitsi 9 cm Tammi/Messinki',\n",
       "  {'entities': [(15, 19, 'SIZE'), (20, 34, 'COLOR')]}),\n",
       " ('Music Discolamppu', {'entities': [(0, 5, 'BRAND')]}),\n",
       " ('Levis Altered - Altered Straight Pants - Sininen - W26',\n",
       "  {'entities': [(41, 48, 'COLOR'), (51, 54, 'SIZE'), (0, 13, 'BRAND')]}),\n",
       " ('Chained Gym Stringer, Grey Melange', {'entities': [(22, 26, 'COLOR')]}),\n",
       " ('Asseri Evakenkä Thermo+', {'entities': [(0, 6, 'BRAND')]}),\n",
       " ('Korkokengät Irregular Choice  MARMA LADIES',\n",
       "  {'entities': [(12, 28, 'BRAND')]}),\n",
       " ('Bobo Choses Straight Line Bender Long Sleeve T-Shirt',\n",
       "  {'entities': [(0, 11, 'BRAND')]}),\n",
       " ('Kuuluvuudeltaan ylivoimaisin koiratutka Supra vie metsästyselämyksen uudelle tasolle. Supran antenniratkaisu takaa ylivoimaisen GSM-kuuluvuuden haastavimmissakin olosuhteissa. Kestävä rakenne, muotoilu, parhaat materiaalivalinnat ja akku on suunniteltu pohjoismaiseen vaativaan käyttöön.Paikannustiedot välittyvät pannasta lähes reaaliaikaisesti 3G/2G-tekniikan ansiosta. Häiriöttömän lähetystekniikan takaa Supran super-antenni, jonka rakenne on tehty radiosignaalin lähettämiseen ihanteelliseksi. Lisäksi tutkapanta pitää antennin irti koiran kehosta, jolloin asento on optimaalinen häiriöttömään lähettämiseen.Supra on tehotestien voittaja! Kilpaileviin koirapantoihin verrattuna Supra on saanut 2,41 kertaa paremman tuloksen.Suunniteltu ja valmistettu Suomessa.Tracker EASY – koirapaikannin käyttöön helposti!Tracker Supra EASY -paketti on täysin käyttövalmis. Se sisältää pannan lisäksi esiasennettuna Tele2 IOT -SIM-kortin, joka valitsee automaattisesti kuuluvimman verkon (Telia, Elisa tai DNA). SIM-kortin vuosimaksut on maksettu kahdeksi vuodeksi eteenpäin pannan käyttöönotosta lähtien. Sen jälkeen SIM-kortilla on pieni vuosimaksu (29 €), mutta voit itse vaihtaa halutessasi pantaan myös toisen SIM-kortin. Panta on helppo ottaa käyttöön, sillä SIM-kortti on siihen esiasennettuna ja panta on valmiiksi asennettu ja käyttöönottotestattu. Sinun tarvitsee vain liittää uusi pantasi Tracker-sovellukseesi. Se käy helposti: Tracker-ohjelmassa valitset Easy-asennuksen, näytät pantapakkauksen kyljessä olevaa QR-koodia puhelimesi kameralle ja panta on liitetty Tracker-ohjelmaasi. Tracker-ohjelman käyttöön sinun tulee hankkia Tracker-palveluaika (69€/vuosi).Tele2 IOT SIM -kortin käyttöehdotAsennus ja käyttö ainoastaan Trackerin koiratutkassa.Määräaikaista tekstiviestiseurantaa ei saa käyttää, eikä kytkeä päälle.Yksittäisiä paikkatietoja voi kysellä tekstiviestillä.VäärinkäyttötapauksetMikäli liittymää käytetään käyttöehtojen vastaisesti, on Tracker Oy:lla oikeus katkaista liittymän toiminta välittömästi.Liittymää ei avata uudelleen, eikä siitä maksettua summaa palauteta.Tracker Oy:lla on oikeus periä aiheutuneet kustannukset käyttöehtojen laiminlyönnistä.',\n",
       "  {'entities': [(40, 45, 'BRAND')]}),\n",
       " ('A cult-favourite peel mask for dry, mature and sun-damaged skin, clinically proven to smooth, firm and minimise pores.  Developed to renew and refine, this deeply cleansing mask works to smooth out wrinkles and fine lines as it exfoliates, leaving behind refreshed, firmer, more radiant skin. REN.',\n",
       "  {'entities': [(0, 1, 'COLOR')]}),\n",
       " ('Kokkiveitsi 14 cm', {'entities': [(12, 17, 'SIZE')]}),\n",
       " ('Controlbody Yong Sottogonna Nero M/L',\n",
       "  {'entities': [(28, 32, 'COLOR'), (33, 36, 'SIZE'), (0, 11, 'BRAND')]}),\n",
       " ('Molliere Otw Parka Takki Sininen Part Two',\n",
       "  {'entities': [(25, 32, 'COLOR'), (33, 41, 'BRAND')]}),\n",
       " ('No 14 Tuoli, Valkoinen', {'entities': [(13, 22, 'COLOR'), (3, 5, 'SIZE')]}),\n",
       " ('Minx – Bliss Bullet-Vibra', {'entities': [(0, 4, 'BRAND')]}),\n",
       " ('Balleriinat Le Routard  MANDY', {'entities': [(12, 22, 'BRAND')]}),\n",
       " ('Luomu Tumma Suklaa Aprikoosi & Hasselpähkinä - 29% alennus',\n",
       "  {'entities': [(6, 11, 'COLOR')]}),\n",
       " ('Nilkkurit terhi polkki einy beige saatavana naisten kokoja 41',\n",
       "  {'entities': [(59, 61, 'SIZE'), (44, 51, 'GENDER'), (28, 33, 'COLOR')]}),\n",
       " ('Harper Arc Tyyny,, Gold Yellow',\n",
       "  {'entities': [(19, 23, 'COLOR'), (24, 30, 'COLOR')]}),\n",
       " ('Kengät Maki Uehara  SHIGE', {'entities': [(7, 18, 'BRAND')]}),\n",
       " ('Pyykkipussi 65L, Musta från Korbo .',\n",
       "  {'entities': [(17, 22, 'COLOR'), (28, 33, 'BRAND')]}),\n",
       " ('Lyhyt hame La City  JUPE SMOK', {'entities': [(11, 18, 'BRAND')]}),\n",
       " ('Suorat farkut ünkut six blue saatavana miesten kokoja us 30,us 32',\n",
       "  {'entities': [(54, 65, 'SIZE'), (24, 28, 'COLOR'), (39, 46, 'GENDER')]}),\n",
       " ('TOMBOW Correction tape MONO YXE6 6 x 16', {'entities': [(37, 39, 'SIZE')]}),\n",
       " ('Fortis B-42 Marinemaster Miesten kello 671.15.45.L Musta/Nahka Ø42 mm',\n",
       "  {'entities': [(0, 6, 'BRAND'),\n",
       "    (51, 62, 'COLOR'),\n",
       "    (25, 32, 'GENDER'),\n",
       "    (63, 69, 'SIZE')]}),\n",
       " ('Siteet Goodnight Ultra Thin - 21% alennus',\n",
       "  {'entities': [(17, 22, 'BRAND')]}),\n",
       " ('Bumbo Multiseat Harmaa',\n",
       "  {'entities': [(16, 22, 'COLOR'), (0, 5, 'BRAND')]}),\n",
       " ('Zeiss V6 1,1-6x24 kiikaritähtäin, IL 60',\n",
       "  {'entities': [(37, 39, 'SIZE'), (0, 5, 'BRAND')]}),\n",
       " ('Denim project Suit Pant',\n",
       "  {'entities': [(0, 13, 'BRAND'), (14, 18, 'BRAND')]}),\n",
       " ('Magimix terä blenderiin', {'entities': [(0, 7, 'BRAND')]}),\n",
       " ('Kengät carlington jrouna brown saatavana miesten kokoja 39,41,42,43,44',\n",
       "  {'entities': [(25, 30, 'COLOR'), (41, 48, 'GENDER'), (56, 70, 'SIZE')]}),\n",
       " ('Tour Edge Lady Edge Complete Set', {'entities': [(0, 9, 'BRAND')]}),\n",
       " ('Kengät Brett   Sons  OSCAR', {'entities': [(7, 19, 'BRAND')]}),\n",
       " ('Kengät Palladium  PAMPA HI ZIP WL', {'entities': [(7, 16, 'BRAND')]}),\n",
       " ('Goddiva Flutter Chiffon Dress Sage Green L (UK14)',\n",
       "  {'entities': [(41, 49, 'SIZE'),\n",
       "    (30, 40, 'COLOR'),\n",
       "    (0, 7, 'BRAND'),\n",
       "    (16, 23, 'MATERIAL')]}),\n",
       " ('Kenda K358 ( 16x6.50 -8 63A4 4PR TT kaksoistunnus  52A4, SET - Reifen mit Schlauch )',\n",
       "  {'entities': [(0, 5, 'BRAND')]}),\n",
       " ('Erik Bagger Maljakko Grace, 225 mm',\n",
       "  {'entities': [(0, 11, 'BRAND'), (28, 34, 'SIZE')]}),\n",
       " ('Naked Addiction – Pyörivä & Värisevä Tekopenis',\n",
       "  {'entities': [(0, 15, 'BRAND')]}),\n",
       " ('Kengät MySuelly  CLAUDE', {'entities': [(7, 15, 'BRAND')]}),\n",
       " ('Radital Liniment', {'entities': [(0, 7, 'BRAND')]}),\n",
       " ('Mm Oblo Aurinkolasit Ruskea MAXMARA Sunglasses',\n",
       "  {'entities': [(21, 27, 'COLOR'), (28, 46, 'BRAND')]}),\n",
       " ('Oak snapsilasi säilytyslaatikolla 6-pakkaus 2-4 cl',\n",
       "  {'entities': [(44, 50, 'SIZE')]}),\n",
       " ('Omenasiiderietikka Kapselit - 1027mg Omenasiiderietikka painonhallintaan, Inkivääriä, kurkumaa ja cayennepippuria sisältävä omenasiiderietikka dieeti',\n",
       "  {'entities': [(30, 36, 'WEIGHT')]}),\n",
       " ('Parkatakki Benetton  JULIPO', {'entities': [(11, 19, 'BRAND')]}),\n",
       " ('Lyhyt mekko noisy may bass blue saatavana naisten kokoja xs',\n",
       "  {'entities': [(27, 31, 'COLOR'), (42, 49, 'GENDER'), (57, 59, 'SIZE')]}),\n",
       " ('Taylor Morris Aurinkolasit Rollright C25',\n",
       "  {'entities': [(0, 13, 'BRAND')]}),\n",
       " (\"Volume Million Lashes Fatale Mascara Ripsiväri Maskara Meikki Musta L'Oréal Paris\",\n",
       "  {'entities': [(62, 67, 'COLOR'), (68, 81, 'BRAND'), (7, 14, 'BRAND')]}),\n",
       " ('ESSELTE Flipchart pad Std.59x80cm 70gr 50 sheets',\n",
       "  {'entities': [(39, 41, 'SIZE'), (34, 38, 'WEIGHT')]}),\n",
       " ('Schleich Wild Life 4x4 Maastoauto ja hahmot',\n",
       "  {'entities': [(0, 8, 'BRAND')]}),\n",
       " ('Lightweight Training T-shirt, Dark Green',\n",
       "  {'entities': [(30, 40, 'COLOR'), (12, 20, 'BRAND')]}),\n",
       " ('Jousitaulu FITA 80 x 80 cm JVD ulkotaulu',\n",
       "  {'entities': [(16, 26, 'SIZE'), (27, 30, 'BRAND')]}),\n",
       " ('Kenzo Fragrance Flower Air Eau De Parfum',\n",
       "  {'entities': [(0, 15, 'BRAND')]}),\n",
       " ('Anne&Mikael Vauvapesä', {'entities': [(0, 11, 'BRAND')]}),\n",
       " ('Cavus Wallmount Swivel Hz - Sonos Play5 - White',\n",
       "  {'entities': [(42, 47, 'COLOR'), (0, 5, 'BRAND'), (28, 33, 'BRAND')]}),\n",
       " ('Maximo Radial 85 ( 340/85 R28 127A8 TL )',\n",
       "  {'entities': [(14, 16, 'SIZE'), (0, 6, 'BRAND')]}),\n",
       " ('Parkatakki franklin marshall jkmva034 blue saatavana miesten kokoja s,m,xl',\n",
       "  {'entities': [(38, 42, 'COLOR'), (53, 60, 'GENDER'), (68, 74, 'SIZE')]}),\n",
       " ('Bino Pehmeä Keinuhevonen', {'entities': [(0, 4, 'BRAND')]}),\n",
       " ('Lyhyt mekko Kling  ELODIE', {'entities': [(12, 17, 'BRAND')]}),\n",
       " ('Kengät KG by Kurt Geiger  KILMA-BLACK', {'entities': [(7, 24, 'BRAND')]}),\n",
       " ('Ringelpiez Musta Lattiavalaisin - Ingo Maurer',\n",
       "  {'entities': [(11, 16, 'COLOR'), (34, 45, 'BRAND')]}),\n",
       " ('Bauer 8x50 Outdoor SL Tämä Bauer 8x50 Outdoor S L edustaa hintaryhmänsä korkeinta resoluutiotasoa, joka luo kiikarille todella hyvät hämäräominaisuudet. Kiikarissa on monikerroksinen dialektrinen vaihekorjauspinnoite, joka takaa korkean kontrastin myös vaikeissa valo-olosuhteissa. 20mm silmänrajaus taas helpottaa mm. silmälasien käyttöä samanaikaisesti kiikarin kanssa. Se mikä Bauerissa yleisesti on mukavinta on niiden muotoilu: siro, mutta tukeva. Hyvä ote löytyy helposti. Jos siis etsit kompromissia lintubongaukseen, tai metsästykseen, mutta haluat suhteellisen edullisesti kuitenkin järkevän laitteen, niin tässäpä oiva vaihtoehto painonsa, valonläpäisyn ja ylsein laadun puolesta! TEKNISET TIEDOTSuurennosalue: x8 - kahdeksankertainen Etulinssin halkaisija: 50mm Näkökenttä 1000m: 101m Paino: 799g Hämäräkerroin: 20 Vesitiiviys: 1m',\n",
       "  {'entities': [(0, 5, 'BRAND'),\n",
       "    (282, 286, 'SIZE'),\n",
       "    (6, 10, 'SIZE'),\n",
       "    (768, 772, 'SIZE'),\n",
       "    (803, 807, 'WEIGHT')]}),\n",
       " ('Benriner Mandolin Jumbo 12 cm, White',\n",
       "  {'entities': [(31, 36, 'COLOR'),\n",
       "    (24, 30, 'SIZE'),\n",
       "    (18, 23, 'BRAND'),\n",
       "    (0, 8, 'BRAND')]}),\n",
       " ('Statement By NA-KD Influencers Olkilaukku - Beige',\n",
       "  {'entities': [(44, 49, 'COLOR'), (0, 30, 'BRAND')]}),\n",
       " ('Star Men’s Tapered Fit Pants - Trendikkäät ja mukavat housut miehille',\n",
       "  {'entities': [(0, 4, 'BRAND')]}),\n",
       " ('Moa Mattsson X BUBBLEROOM neulehame. - Miellyttävän pehmeää, mukavaa ja joustavaa materiaalia. - Joustava vyötärö. - Hameen pituus: 42 cm koossa S. - Sopii hyvin yhteen tuotteen Moa Mattsson knitted cropped sweater kanssa.',\n",
       "  {'entities': [(132, 137, 'SIZE'), (145, 147, 'SIZE')]}),\n",
       " ('Davida Cashmere. Ideal for cool autumn and winter days.. Perinteistä villaa pehmeämpi, lämpimämpi ja kevyempi kashmir lisää luksusta vaatekaappiin.. Vähemmän kemikaaleja. Mitat: 250 x 90 cm. Etupituus: 200 cm. Takapituus: 70 cm.',\n",
       "  {'entities': [(222, 228, 'SIZE'), (178, 190, 'SIZE'), (202, 209, 'SIZE')]}),\n",
       " ('Tuotekuvaus - Novesta -kangaskengät.- Valmistettu tekstiilistä. -Sisäpuoli tekstiiliä. -Kumipohja.- Pyöreä kärki ja nauhat edessä.- Hieman järempi pohja.- Applikaatio logolla kengän kielessä. Lataa lehdistökuva Tuotenro: 902225-0090',\n",
       "  {'entities': [(14, 21, 'BRAND')]}),\n",
       " ('Musk Oil No 6 - Eau de toilette (Edt) Spray 30 ml',\n",
       "  {'entities': [(44, 49, 'SIZE')]}),\n",
       " ('Celia Stripe Polvipituinen Mekko Musta Jumperfabriken',\n",
       "  {'entities': [(33, 38, 'COLOR'), (39, 53, 'BRAND')]}),\n",
       " ('Taistelee tehokkaasti kosteuden tiivistymistä, kosteutta, hometta ja ummehtunutta hajua vastaan kaikissa tiloissa, joissa tuuletus on vähäistä tai sitä ei ole ollenkaan kuten kellarit, keittiön kaapit, tiskipöydän alakaapit, mittarikaapit, säilytys ja vaatekaapit, vajat, autotallit, varastotilat, loma-asunnot, puutarhamökit, asuntovaunut ja autot, veneet, kesäasunnot ja pesuhuoneet. Kosteudenpoistajan kennossa oleva kide imee tilasta ylimääräisen kosteuden, joka tiivistyy vedeksi säiliön pohjalle. Uudelleentäytettävä. Toimii yhdellä täytöllä n. 2-3 kk riippuen tilasta ja olosuhteista.',\n",
       "  {'entities': [(551, 554, 'SIZE')]}),\n",
       " ('Bistro Electric Milk Frother 500W från Bodum .',\n",
       "  {'entities': [(16, 20, 'COLOR'),\n",
       "    (0, 6, 'COLOR'),\n",
       "    (39, 44, 'BRAND'),\n",
       "    (7, 15, 'BRAND')]}),\n",
       " ('Bjäst Extra 240 tablettia', {'entities': [(12, 15, 'SIZE')]}),\n",
       " ('Sandaalit plakton grana hopea saatavana naisten kokoja 38,39',\n",
       "  {'entities': [(40, 47, 'GENDER'), (55, 60, 'SIZE')]}),\n",
       " ('Momenttiruuvitaltta F.A.T. Wrench, Wheeler Engineering',\n",
       "  {'entities': [(35, 54, 'BRAND')]}),\n",
       " ('Raymond Weil Raymond Noemia Naisten kello 5124-STS-00985',\n",
       "  {'entities': [(0, 12, 'BRAND'), (28, 35, 'GENDER')]}),\n",
       " ('Monster Cars Trippel Penaali', {'entities': [(0, 12, 'BRAND')]}),\n",
       " ('Renata Polvipituinen Hame Musta Fall Winter Spring Summer',\n",
       "  {'entities': [(26, 31, 'COLOR'), (32, 57, 'BRAND')]}),\n",
       " ('Kengät Swedish hasbeens  LILIAN', {'entities': [(7, 23, 'BRAND')]}),\n",
       " ('Brooks juoksukengät Aduro 6 navy/koralli. Pehmeä juoksukenkä hyvällä vaimennuksella. Kevyt ja mukava istuvuus.- neutraali- droppi 12mm',\n",
       "  {'entities': [(0, 6, 'BRAND'), (130, 134, 'SIZE')]}),\n",
       " ('Corum Admirals Cup Challaenger 44 Miesten kello 753.802.02-F379 AA31',\n",
       "  {'entities': [(31, 33, 'SIZE'), (0, 5, 'BRAND'), (34, 41, 'GENDER')]}),\n",
       " ('Zymaderm Molloscum - Voide Ontelosyylän Hoitoon - Auttaa Molluscum Contagiosum Viruksen Oireisiin - Luonnollinen Seerumi - Ilman Reseptiä - 13ml',\n",
       "  {'entities': [(140, 144, 'SIZE')]}),\n",
       " ('Calvin Klein Performance. Nopeasti kuivuvaa materiaalia. Hengittävä materiaali.',\n",
       "  {'entities': [(0, 12, 'BRAND')]}),\n",
       " ('Kahvinkeitin Evoke Musta',\n",
       "  {'entities': [(19, 24, 'COLOR'), (13, 18, 'BRAND')]}),\n",
       " ('Flexson TV-Mount For Sonos Playbar - Black Single',\n",
       "  {'entities': [(37, 42, 'COLOR'), (0, 7, 'BRAND'), (21, 26, 'BRAND')]}),\n",
       " ('Lion Suklaapatukka - 25% alennus', {'entities': [(0, 4, 'BRAND')]}),\n",
       " ('WOS Basker Grå One size',\n",
       "  {'entities': [(11, 14, 'COLOR'), (0, 3, 'BRAND'), (15, 23, 'SIZE')]}),\n",
       " ('2nd One Noora 109 Ocean Blue',\n",
       "  {'entities': [(18, 28, 'COLOR'), (0, 7, 'BRAND')]}),\n",
       " ('T-paidat pitkillä hihoilla American Apparel  UNISEX POLY-COTTON 3/4 SLEEVE RAGLAN',\n",
       "  {'entities': [(64, 67, 'SIZE'),\n",
       "    (27, 43, 'BRAND'),\n",
       "    (45, 51, 'GENDER'),\n",
       "    (52, 63, 'MATERIAL')]}),\n",
       " ('Colby Sneaker Matalavartiset Sneakerit Tennarit Musta Michael Kors Shoes',\n",
       "  {'entities': [(48, 53, 'COLOR'), (54, 72, 'BRAND')]}),\n",
       " ('Sandaalit casta apolina blue saatavana naisten kokoja 40',\n",
       "  {'entities': [(54, 56, 'SIZE'), (24, 28, 'COLOR'), (39, 46, 'GENDER')]}),\n",
       " ('Kengät elle mabillon black saatavana naisten kokoja 36,37',\n",
       "  {'entities': [(37, 44, 'GENDER'), (52, 57, 'SIZE'), (21, 26, 'COLOR')]}),\n",
       " ('Raised By Wolves - Mcqueen Sweater - Valkoinen - L',\n",
       "  {'entities': [(37, 46, 'COLOR'), (49, 50, 'SIZE'), (0, 16, 'BRAND')]}),\n",
       " ('Team Sportia juomapullo 0,75l - tilavuus 0,75L - PBA vapaa - kierrekorkki',\n",
       "  {'entities': [(0, 12, 'BRAND'), (24, 29, 'SIZE'), (41, 46, 'SIZE')]}),\n",
       " ('Kengät Be Only  CAVALIERE REPTILIUM', {'entities': [(7, 14, 'BRAND')]}),\n",
       " ('Quay Australia QC-000142 High Key Aurinkolasit. Collection:Women. Kehyksen Väri: Silver.  Linssin Väri: . Kehysmateriaali: Metal. Koko: 63.',\n",
       "  {'entities': [(0, 14, 'BRAND'),\n",
       "    (30, 33, 'BRAND'),\n",
       "    (123, 129, 'MATERIAL'),\n",
       "    (136, 139, 'SIZE'),\n",
       "    (81, 88, 'COLOR')]}),\n",
       " ('Penomet – Penispumppu', {'entities': [(0, 7, 'BRAND')]}),\n",
       " ('Mansikanmakuisia makeisia jotka poksahtavat suussa. Laatikko sisältää 24 pientä makeispussia!',\n",
       "  {'entities': [(70, 72, 'SIZE')]}),\n",
       " ('Retki monitoimilinkkuveitsi', {'entities': [(0, 5, 'BRAND')]}),\n",
       " ('KMP - B5V - LC900 Multipack - 1034.0050', {'entities': [(0, 3, 'BRAND')]}),\n",
       " ('Kleber Fitker ( 480/70 R24 138A8 TL kaksoistunnus  16.9R24 138B )',\n",
       "  {'entities': [(0, 6, 'BRAND')]}),\n",
       " ('Sumitomo SL 727 ( 215 R16C 116R )',\n",
       "  {'entities': [(18, 21, 'SIZE'), (0, 8, 'BRAND')]}),\n",
       " ('Roadstone WG WINSPIKE ( 225/60 R18 100T, SUV, nastarengas  )',\n",
       "  {'entities': [(0, 9, 'BRAND')]}),\n",
       " ('Sandaalit perlato platino pink saatavana naisten kokoja 36,38,39',\n",
       "  {'entities': [(41, 48, 'GENDER'), (56, 64, 'SIZE'), (26, 30, 'COLOR')]}),\n",
       " ('Pyyhittävät tussit Oppi ja ilo', {'entities': [(19, 30, 'BRAND')]}),\n",
       " ('Pidä sneakerisi freesinä tällä välipohjaa varten suunnitellulla tussilla Crep Protectilta. 4mm paksuisella päällä viimeistelty tussi auttaa sinua palauttamaan kenkäsi entiseen kukoistukseensa tai lisäämään omia kuvioitasi popoihisi. Sivujen Crep Protect -brändäykset kruunaavat kokonaisuuden.',\n",
       "  {'entities': [(73, 77, 'BRAND'), (91, 94, 'SIZE')]}),\n",
       " ('New York Yankees Premium Reppu Sininen', {'entities': [(31, 38, 'COLOR')]}),\n",
       " ('FRAME. 91.5% puuvillaa, 6% polyesteri, 2.5% elastaani. Matala vyötärö. Valmistettu  Yhdysvalloissa. Sisäsauma: 29 cm.',\n",
       "  {'entities': [(111, 117, 'SIZE'),\n",
       "    (27, 38, 'MATERIAL'),\n",
       "    (13, 23, 'MATERIAL'),\n",
       "    (44, 54, 'MATERIAL')]}),\n",
       " ('Roy Pow Power Urus IP66-1000A Apukäynnistin',\n",
       "  {'entities': [(0, 7, 'BRAND')]}),\n",
       " ('YESForLOV - Intimate Moisturising Lubricant, 100 ml',\n",
       "  {'entities': [(45, 51, 'SIZE')]}),\n",
       " ('Hals Shorts 10929 Räätälöidyt Shortsit Istuvat Shortsit Musta Samsøe Samsøe',\n",
       "  {'entities': [(56, 61, 'COLOR'), (62, 75, 'BRAND')]}),\n",
       " ('Artrax AT-1101 ( 165/70-10 TL NHS )', {'entities': [(0, 6, 'BRAND')]}),\n",
       " ('Oasis vedenpuhdistustabletti 100 kpl', {'entities': [(29, 32, 'SIZE')]}),\n",
       " ('Olkalaukut wylson atlos black saatavana miesten kokoja yksi koko',\n",
       "  {'entities': [(40, 47, 'GENDER'), (55, 64, 'SIZE'), (24, 29, 'COLOR')]}),\n",
       " ('Lyhythihainen t-paita hom supreme cotton tshirt col v profond white saatavana miesten kokoja xxl,s,m,l,xl',\n",
       "  {'entities': [(62, 67, 'COLOR'),\n",
       "    (93, 105, 'SIZE'),\n",
       "    (78, 85, 'GENDER'),\n",
       "    (34, 40, 'MATERIAL')]}),\n",
       " ('Majamoo pannunaluset, musta',\n",
       "  {'entities': [(0, 7, 'BRAND'), (22, 27, 'COLOR')]}),\n",
       " ('Svetari Ben Sherman  SIGNATURE TARGET SWEAT',\n",
       "  {'entities': [(8, 19, 'BRAND')]}),\n",
       " ('Hot Lips ® Liukuvoide anaaliseksiin, on uskomattoman pehmeä, suorastaan silkkisen sileä liukuvoide. Hieman paksumpi koostumus antaa ylivoimaisen ylellisen tunteen. Hot Lips® Anal Liukuvoide on huippuluokan vesipohjainen erityisesti anaaliseksiin suunniteltu liukuvoide päivittäiseen käyttöön. Se on valmistettu parhaista mahdollisista raaka-aineista nykyaikaisella huippumodernilla tehtaalla Hollannissa. Olemme itse tarkastaneet tehtaan tilat, raaka-aineet, hygienian, sekä valmistusprosessin ja emme voi muuta kuin todeta, että heidän ammattitaitonsa ja laitteistonsa on ylivoimaisesti maailman terävintä kärkeä. Vain siten voimme olla täysin varmoja tuotteemme erinomaisesta laadusta ja siten tarjota sinulle vain parasta. Voit käyttää Hot Lips® Anal liukuvoidetta huoletta myös kaikkien seksilelujesi kanssa. Sen tarkkaan suunniteltu koostumus on täydellinen anaaliseksiin, mutta soveltuu loistavasti myös muihin seksileikkeihisi. Voit käyttää tätä huippuliukuvoidetta juuri, niin paljon kuin haluat ja juuri niin usein kuin haluat. Hot Lips® Anal Liukuvoide on vesipohjainen ja siten sinun on se erittäin helppo pestä pois pelkän veden avulla. Se on turvallinen käyttää myös kondomin kanssa. Sen kristallinkirkas hieman paksumpi koostumus on iholla miellyttävä ja sen pitkäkestoisuus ja riittoisuus ilahduttavat myös lompakkoasi. Saatavilla kolme pullokokoa. Tyylikkäässä pullossa erittäin kätevä annosteluspray. Hot Lips® Liukuvoide on turvallinen, raikas ja varma valinta.Vesipohjainen liukuvoide anaaliseksiin Riittoisa Miellyttävä, silkinpehmeä koostumus Edullinen Valmistettu mikroskooppisen tarkan laadunvalvonnan alaisena Hollannissa. Sertifioitu ja tarkkaan tutkittu koostumus, joka ei sisällä väriaineita tai mikrokasvustoa.',\n",
       "  {'entities': [(0, 8, 'BRAND')]}),\n",
       " ('Artkids Mega Väritaulu', {'entities': [(0, 7, 'BRAND')]}),\n",
       " ('T-Shirt Ls. Apples. Originals. T-shirts Long-sleeved T-shirts Harmaa Småfolk',\n",
       "  {'entities': [(62, 68, 'COLOR'), (69, 76, 'BRAND')]}),\n",
       " ('Unique Mild Shampoo 250ml', {'entities': [(20, 25, 'SIZE')]}),\n",
       " ('Fartist Club Muncy Max -koirahahmo äänellä',\n",
       "  {'entities': [(0, 12, 'BRAND')]}),\n",
       " ('BIOGLIDE luomuliukuvoide 150ml', {'entities': [(25, 30, 'SIZE')]}),\n",
       " ('Hype Aurinkolasit HYS HYPEROUND 100',\n",
       "  {'entities': [(32, 35, 'SIZE'), (0, 4, 'BRAND')]}),\n",
       " ('Pakkopaita sekä naisille etttä miehille. Kangas 100% puuvillaa, kiristysremmit nahkaa. Metalliosat eivät sisällä nikkeliä.',\n",
       "  {'entities': [(53, 63, 'MATERIAL'), (79, 86, 'MATERIAL')]}),\n",
       " ('Nutrisorb D3 & K2 15 ml', {'entities': [(18, 23, 'SIZE')]}),\n",
       " ('MarMar Cph Oriel', {'entities': [(0, 10, 'BRAND')]}),\n",
       " ('AngelEye High Neck Sequin Dress Navy XS (UK8)',\n",
       "  {'entities': [(37, 45, 'SIZE'), (32, 36, 'COLOR'), (0, 8, 'BRAND')]}),\n",
       " ('SnowFlower Riippuvalaisin Black - ShapingYourDay',\n",
       "  {'entities': [(26, 31, 'COLOR'), (34, 48, 'BRAND')]}),\n",
       " ('Eco Masters mySmile Aktiivihiilijauhe + Bambuhammasharja - Luontainen Hampaidenvalkaisu Menetelmä - Kirkkaat Hampaat 5 Minuutissa',\n",
       "  {'entities': [(4, 11, 'BRAND')]}),\n",
       " ('by Lassen-View Mirror Medium 56x56 cm',\n",
       "  {'entities': [(22, 28, 'SIZE'), (29, 37, 'SIZE')]}),\n",
       " ('Arkisuosikki: Boston Park -merkkinen collegetakki on mukava ja monikäyttöinen yläosa. Sen rennon tyylikäs ilme käy moneen menoon. Vetoketjusuljenta. Kengurutasku. Muotonsa pitävää, helppohoitoista ja ihoystävällistä puuvillasekoitetta. Tilaat collegetakin käden käänteessä muotimaailmastamme.',\n",
       "  {'entities': [(14, 25, 'BRAND')]}),\n",
       " ('Suklaapallo \"Maltesers\" 100g - 47% alennus',\n",
       "  {'entities': [(24, 28, 'WEIGHT')]}),\n",
       " ('Jacket Clever Bleiseri Puvun Takki Musta Lagerfeld',\n",
       "  {'entities': [(35, 40, 'COLOR'), (41, 50, 'BRAND')]}),\n",
       " ('Parisian Zip Front Knitted Bodycon Dress', {'entities': [(0, 8, 'BRAND')]}),\n",
       " (\"A'Pieu  Bunny Ears Hair Band\\xa0 Minttu\",\n",
       "  {'entities': [(30, 36, 'COLOR'), (0, 6, 'BRAND')]}),\n",
       " ('Tuotekuvaus - Lyhythihainen Morris -kauluspaita- Valmistettu 55 % puuvillasta jaa 45 % pellavasta- Nappikiinnitys edessä- Kirjailtu logo edessä- Logoapplikaatio helmassa molemmilla sivuilla Lataa lehdistökuva Malli: Malli on 194 cm pitkä ja käyttää kokoa Medium. Tuotenro: 095195-0989',\n",
       "  {'entities': [(82, 84, 'SIZE'),\n",
       "    (61, 63, 'SIZE'),\n",
       "    (28, 34, 'BRAND'),\n",
       "    (255, 262, 'SIZE'),\n",
       "    (225, 231, 'SIZE'),\n",
       "    (66, 77, 'MATERIAL'),\n",
       "    (87, 98, 'MATERIAL')]}),\n",
       " ('Mickey Tee T-shirts & Tops Short-sleeved Harmaa R/H Studio',\n",
       "  {'entities': [(41, 47, 'COLOR'), (48, 58, 'BRAND')]}),\n",
       " ('Kolmiosainen lämpötyyny, 60 x 15 cm', {'entities': [(25, 35, 'SIZE')]}),\n",
       " ('Crep Protect Valkoinen tussi välipohjaa varten - Mens, Valkoinen',\n",
       "  {'entities': [(13, 22, 'COLOR'), (0, 12, 'BRAND'), (49, 54, 'GENDER')]}),\n",
       " ('Gymstick Original 2.0 on monipuolinen toiminnallinen harjoitteluväline.',\n",
       "  {'entities': [(0, 8, 'BRAND')]}),\n",
       " ('Happy Shoes Happy Me', {'entities': [(0, 11, 'BRAND')]}),\n",
       " ('Kengät keys close brown saatavana naisten kokoja 36',\n",
       "  {'entities': [(49, 51, 'SIZE'), (34, 41, 'GENDER'), (18, 23, 'COLOR')]}),\n",
       " ('Litteäksi pakkautuva laatikkomallinen tulipesä Tentipi kotatelttoihin. Suositellaan koosta 7 ylöspäin. Paino 1000 g.   Tulipesä jää irti maasta, joten savuttaa normaalia nuotiota vähemmän. Keskellä palkki, joka tulee mm. pannun pitämistä laatikon päällä.  Mitat kasattuna 51 x 32 x 17 cm ja pakattuna 48,5 x 17 x 3 cm.',\n",
       "  {'entities': [(272, 287, 'SIZE'),\n",
       "    (109, 116, 'WEIGHT'),\n",
       "    (47, 54, 'BRAND'),\n",
       "    (301, 318, 'SIZE')]}),\n",
       " ('Windmill Duvet Cover 150x210cm, Zinc', {'entities': [(21, 31, 'SIZE')]}),\n",
       " ('Silk Jersey - Nightgown W.Sleeve Yöpaita Valkoinen Lady Avenue',\n",
       "  {'entities': [(41, 50, 'COLOR'), (51, 62, 'BRAND')]}),\n",
       " ('VISION Wireless HDMI 30m Matrix Tx', {'entities': [(25, 31, 'BRAND')]}),\n",
       " ('RCBS Kiillotuspuru Pähkinä 2,2kg', {'entities': [(27, 32, 'WEIGHT')]}),\n",
       " ('Tatun ja Patun Suomi-lattiapalapeli, 31 palaa',\n",
       "  {'entities': [(37, 39, 'SIZE')]}),\n",
       " ('Pass-Port - Dinner For One 5 Panel Cap - Sininen - ONE SIZE',\n",
       "  {'entities': [(51, 59, 'SIZE'), (41, 48, 'COLOR'), (0, 9, 'BRAND')]}),\n",
       " ('JOS Jum– Joy Of Sex Vibraattori',\n",
       "  {'entities': [(0, 3, 'BRAND'), (9, 19, 'BRAND')]}),\n",
       " ('Kengät barker toledo brown saatavana miesten kokoja 40,41,42,45',\n",
       "  {'entities': [(21, 26, 'COLOR'), (37, 44, 'GENDER'), (52, 63, 'SIZE')]}),\n",
       " ('Dana Buchman Silmälasit Taren CARAMEL TORTOISE',\n",
       "  {'entities': [(30, 37, 'SIZE'), (0, 12, 'BRAND')]}),\n",
       " ('LEGO Technic 42082 maastonosturi', {'entities': [(0, 12, 'BRAND')]}),\n",
       " ('Igloo Termo lämpösaapas on äärettömän lämmin ja kevyt jalkine pilkille, metsälle, talviretkelle tai vaikka lumihommiin. Kenkä on valmistettu kevyestä EVA-materiaalista, jonka ominaisuuksia ovat erittäin hyvä lämmön eristys, se ei jäykisty tai ala pykimään pakkasessa ja se ei sisällä muovia tai kumia, joten käyttöikä sillä on pitempi kuin kumikengällä. Sisävuori on irrotettava ja helppo kuivata ja pitää puhtaana.',\n",
       "  {'entities': [(0, 5, 'BRAND')]}),\n",
       " ('Mini Rodini Note Sp Tee', {'entities': [(0, 11, 'BRAND')]}),\n",
       " ('Perfect Fit – Speed Shift Erektiorengas, Musta',\n",
       "  {'entities': [(41, 46, 'COLOR'), (14, 19, 'BRAND')]}),\n",
       " ('T-paita AXC Alie Short Sleeve Tee', {'entities': [(8, 11, 'BRAND')]}),\n",
       " ('Bibbisz Blazer Bleiseri Puvun Takki Beige Saint Tropez',\n",
       "  {'entities': [(36, 41, 'COLOR'), (42, 54, 'BRAND')]}),\n",
       " ('Lightec Silmälasit 8096L BB030', {'entities': [(0, 7, 'BRAND')]}),\n",
       " ('Rottweil Semimagnum 12/70 Haulikon patruuna',\n",
       "  {'entities': [(0, 8, 'BRAND')]}),\n",
       " ('PEERLESS Ultra-Slim Universal Artic Wall f 42-90\"',\n",
       "  {'entities': [(20, 29, 'BRAND')]}),\n",
       " ('Hublot Classic Fusion Naisten kello 568.OX.891P.OX.1204 Pinkki/18K',\n",
       "  {'entities': [(0, 6, 'BRAND'), (7, 14, 'BRAND'), (22, 29, 'GENDER')]}),\n",
       " ('Blue Room Sunflower -pöytätabletti 30x40 cm, 4-pakkaus Sininen-valkoinen',\n",
       "  {'entities': [(0, 4, 'COLOR'), (10, 19, 'BRAND')]}),\n",
       " ('Rampage 170 Silmälasit. Collection:Women. Kehyksen Väri: Black. Kehysmateriaali: Plastic. Koko: Standard.',\n",
       "  {'entities': [(8, 11, 'SIZE'),\n",
       "    (0, 7, 'BRAND'),\n",
       "    (81, 89, 'MATERIAL'),\n",
       "    (96, 105, 'SIZE'),\n",
       "    (57, 63, 'COLOR')]}),\n",
       " ('Teddy Coat Villakangastakki Pitkä Takki Vihreä R-Collection',\n",
       "  {'entities': [(40, 46, 'COLOR'), (47, 59, 'BRAND')]}),\n",
       " ('Korkokengät karine arabian phoenix brown saatavana naisten kokoja 37 1/2 o o',\n",
       "  {'entities': [(66, 72, 'SIZE'), (51, 58, 'GENDER'), (35, 40, 'COLOR')]}),\n",
       " ('Catrice Mattlover Lipstick Pen 100',\n",
       "  {'entities': [(31, 34, 'SIZE'), (0, 7, 'BRAND')]}),\n",
       " ('Pois tieltä! Poliisiauto ajaa täyttä vauhtia hälytysvalot ja sireenit päällä. On tapahtunut onnettomuus ja poliisin tulee nopeasti päästä ohjaamaan liikennettä. Roistojen perään ei nyt ehditä. Mutta asiat ja tapahtumat voivat muuttua nopeastikin. Poliisiauto ääni- ja valoefektein ja avattavalla katolla, samoin poliisimies, joka voi istua autossa. Auto on integroitu BRIO World kanssa.',\n",
       "  {'entities': [(368, 372, 'BRAND'), (78, 80, 'BRAND')]}),\n",
       " ('Anna Field Florial Fantasy -pusero, jossa lyhyet hihat. Yksivärinen takaosa mustaa trikoota. Etupuoli kangasta, jossa koristeellinen kukkakuvio. Pyöreä ja avara pääntie.',\n",
       "  {'entities': [(0, 10, 'BRAND')]}),\n",
       " ('Vaelluskenkä Chiruca Muflon Bandeleta 15',\n",
       "  {'entities': [(38, 40, 'SIZE'), (13, 20, 'BRAND')]}),\n",
       " ('Balleriinat högl rosemund black saatavana naisten kokoja 36',\n",
       "  {'entities': [(57, 59, 'SIZE'), (42, 49, 'GENDER'), (26, 31, 'COLOR')]}),\n",
       " ('Boss The Scent - After Shave Lotion 100 ml',\n",
       "  {'entities': [(36, 42, 'SIZE')]}),\n",
       " ('Caviar Replenishing Moisture CC Cream, 74ml',\n",
       "  {'entities': [(39, 43, 'SIZE')]}),\n",
       " ('Color Statement Lipstick, Sweet Nectar', {'entities': [(32, 38, 'COLOR')]}),\n",
       " ('Koululaukku jacadi epure 41 blue saatavana poikien kokoja yksi koko',\n",
       "  {'entities': [(25, 27, 'SIZE'),\n",
       "    (28, 32, 'COLOR'),\n",
       "    (43, 50, 'GENDER'),\n",
       "    (58, 67, 'SIZE')]}),\n",
       " ('Tommy Hilfiger Tailored. Luomu.', {'entities': [(0, 14, 'BRAND')]}),\n",
       " ('Olkalaukut loxwood sac ines mix cuir daim brown saatavana naisten kokoja yksi koko',\n",
       "  {'entities': [(58, 65, 'GENDER'), (42, 47, 'COLOR'), (73, 82, 'SIZE')]}),\n",
       " ('Konjac Sponge Bamboo SkinMood',\n",
       "  {'entities': [(14, 20, 'COLOR'), (0, 13, 'BRAND')]}),\n",
       " ('Tablettikotelo, Vaaleanvihreä från Monograph .',\n",
       "  {'entities': [(16, 29, 'COLOR'), (35, 44, 'BRAND')]}),\n",
       " ('Bear Claw Asepussi Musta',\n",
       "  {'entities': [(19, 24, 'COLOR'), (0, 9, 'BRAND')]}),\n",
       " ('Jazz Original Vintage Matalavartiset Sneakerit Tennarit Harmaa Saucony Originals',\n",
       "  {'entities': [(56, 62, 'COLOR'), (63, 80, 'BRAND'), (14, 21, 'BRAND')]}),\n",
       " ('Kengät Bullboxer  490M80302AMCOG', {'entities': [(7, 16, 'BRAND')]}),\n",
       " ('Martin Asbjørn Toback Coat Bm', {'entities': [(0, 14, 'BRAND')]}),\n",
       " ('NaaNaa Choker Neck Bodysuit Taupe XS (UK8)',\n",
       "  {'entities': [(34, 42, 'SIZE'), (28, 33, 'COLOR'), (0, 6, 'BRAND')]}),\n",
       " ('Our beloved timeless wool coat in a warm Shetland type wool, produced in a Portuguese fabric mill, to keep you warm and protected. The style comes in our most popular colours as well as new soft tones. With an inverted collar and lapel. Tailored with raglan shoulders and relaxed straight cut in the body it gives a modern urban touch, and comfortability that suits every occasion. Raglan sleeve. Front patch pockets. Fully lined Inside chest pockets. Brixtol Textiles. Sisävuori: 55% polyesteri, 45% viskoosi. Ulkomateriaali: 100% villa. Villa luo hengittävän ja eristävän materiaalin, joka pitää sinut lämpimänä kylminä päivinä..',\n",
       "  {'entities': [(21, 25, 'MATERIAL'),\n",
       "    (485, 496, 'MATERIAL'),\n",
       "    (501, 510, 'MATERIAL'),\n",
       "    (532, 538, 'MATERIAL')]}),\n",
       " ('Lastenkengät André  AIMIE', {'entities': [(13, 18, 'BRAND')]}),\n",
       " ('Rösle Pihdit 40cm 12917',\n",
       "  {'entities': [(0, 5, 'BRAND'), (13, 17, 'SIZE')]}),\n",
       " ('Patyka Double Action Smoothing Scrub', {'entities': [(0, 6, 'BRAND')]}),\n",
       " ('Basson kokoontaittuva hoitopöytä', {'entities': [(0, 6, 'BRAND')]}),\n",
       " ('Ray Kattovalaisin, Large, Valkoinen från Petite Friture .',\n",
       "  {'entities': [(26, 35, 'COLOR'), (41, 55, 'BRAND'), (19, 25, 'SIZE')]}),\n",
       " ('Ed-Wa 1426020-2 Kytkentärasia keltainen, kaksoiskipsi',\n",
       "  {'entities': [(0, 5, 'BRAND')]}),\n",
       " ('Event Futurum GP ( 145/70 R12 69T )',\n",
       "  {'entities': [(14, 16, 'BRAND'), (0, 5, 'BRAND')]}),\n",
       " ('A timeless classic cotton sock from Falke, available in great solid colours.  *Reinforced heel and toe *Logo detail. Falke. 98% puuvillaa 2% elastaani.',\n",
       "  {'entities': [(0, 1, 'COLOR'),\n",
       "    (128, 137, 'MATERIAL'),\n",
       "    (19, 25, 'MATERIAL'),\n",
       "    (141, 151, 'MATERIAL')]}),\n",
       " ('Kengät nicholas deakins macy micro brown saatavana miesten kokoja 44,45,46',\n",
       "  {'entities': [(35, 40, 'COLOR'), (51, 58, 'GENDER'), (66, 74, 'SIZE')]}),\n",
       " ('Equave Hydro Nutritive Detangling Condtioner 200ml',\n",
       "  {'entities': [(45, 50, 'SIZE')]}),\n",
       " ('This is a belt in genuine leather from KAV. The belt has a silver-tone buckle and has five adjustable lengths - Adjustable length - 100% Leather',\n",
       "  {'entities': [(137, 144, 'MATERIAL'), (26, 33, 'MATERIAL')]}),\n",
       " ('Sting SS6470 Aurinkolasit. Collection:Men. Kehyksen Väri: Gold.  Linssin Väri: . Kehysmateriaali: Plastic. Koko: 50.',\n",
       "  {'entities': [(0, 5, 'BRAND'),\n",
       "    (113, 116, 'SIZE'),\n",
       "    (98, 106, 'MATERIAL'),\n",
       "    (58, 63, 'COLOR')]}),\n",
       " ('Palapeli 104 Palaa Unicorn - Palapeli 104 palalla aiheenaan suoittu yksisarvinen.',\n",
       "  {'entities': [(9, 12, 'SIZE')]}),\n",
       " ('Kengät koah ronny black saatavana naisten kokoja 40',\n",
       "  {'entities': [(49, 51, 'SIZE'), (34, 41, 'GENDER'), (18, 23, 'COLOR')]}),\n",
       " ('Iris Hantverkin leivontapensseli öljyttyä koivua ja jouhia. Leivontapensseli sisältyy sarjaan, johon kuuluu myös taikinakaavin ja leivontaharja.',\n",
       "  {'entities': [(0, 4, 'COLOR')]}),\n",
       " ('Sebastian Wrongin suunnittelema R40-seinäpeili muodostuu kirkkaasta peililasista ja kaarevalinjaisista saarnikehyksistä, jotka antavat sille pehmeän ja luonnonläheisen ilmeen. R40-kokoelmaan kuuluu kolmen kokoisia peilejä, jotka voi ripustaa seinälle joko vaaka- tai pystysuunnassa ja jotka asettuvat kauniisti myös ryhmiin. Nimen R40 kokoelman on saanut peilien kulmien 40 mm:n säteen mukaan. R40-peilit kuuluvat OWL-brändin (Objects With Life) tuotantoon.',\n",
       "  {'entities': [(0, 9, 'BRAND')]}),\n",
       " ('Kengät Redskins  MALVINO', {'entities': [(7, 15, 'BRAND')]}),\n",
       " ('Devils Mint Body Scrub Kuorinta-aine Vartalonkuorinta Nude Elemis',\n",
       "  {'entities': [(7, 11, 'COLOR'), (59, 65, 'BRAND')]}),\n",
       " ('Tilda Dress Polvipituinen Mekko Sininen Boob',\n",
       "  {'entities': [(32, 39, 'COLOR'), (40, 44, 'BRAND')]}),\n",
       " (\"Emma matkasänky on tukeva ja turvallinen laukkumatkasänky. Sänkyyn sopii patja kooltaan 60 x 120cm. Matkasänky on helppo koota ja kasata, lisäksi sen mukana tulee kätevä säilytyskassi. Tarrakiinnityksellä voi varmistaa, että patja pysyy paikoillaan eikä liu'u lapsen alla. Suosittelemme käyttämään lisäksi joko ohuempaa sijauspatjaa tai matkapatjaa, se lisää mukavuutta ja on helposti pestävissä. Sänky on kestävää ja helposti puhtaana pidettävää nylon-kangasta. Lisätietoja: Mitat: 60 x 120 cm\",\n",
       "  {'entities': [(88, 99, 'SIZE'), (0, 4, 'BRAND'), (483, 494, 'SIZE')]}),\n",
       " ('Saa perinteinen lahjakortti sähköpostitse tulostettavassa muodossa. Saatavana kolme eri summaa: 35€, 65€, 100€. Lahjakorttia ei voi ostaa alennuskoodilla. Huomaa: Lahjakortti lähetetään toisessa sähköpostissa tilauksen teon jälkeen. Boozt Gift. Valmistettu  Ruotsi.',\n",
       "  {'entities': [(233, 238, 'BRAND')]}),\n",
       " ('Kengät moma cusna nero black saatavana naisten kokoja 36,38,39,40,41,35',\n",
       "  {'entities': [(39, 46, 'GENDER'), (23, 28, 'COLOR'), (54, 71, 'SIZE')]}),\n",
       " ('Tekopillu, jonka kanssa et tarvitse liukuvoidetta! Vulcan Shower Stroker on maailman ensimmäinen tekopillu, jonka kanssa et tarvitse liukuvoidetta. Voit nussia sitä jopa 10 kertaa ilman liukuvoidetta. Tarvitset liukastamiseen vain vettä. Uskomattoman aidon tuntuinen Cyberskin keinoiho tuntuu käsittämättömän aidolta ja pehmeältä. Tunnelin sisällä olevat juomut ja nystyrät hierovat ja hyväilevät kaluasi todella nautinnollisen tuntuisesti. Puhdistus on helppoa, sillä saat sisuksen irti kotelosta ja voita laskea vettä sen läpi.Pituus kotelon kanssa 15.5cm Paksuus kotelon kanssa 6cm - 6.4cm Aito Cyberskin materiaali Ei tarvitse liukuvoidetta, vesi riittää Tunnelissa juomut ja nystyt',\n",
       "  {'entities': [(51, 57, 'BRAND'), (551, 557, 'SIZE'), (581, 592, 'SIZE')]}),\n",
       " ('Design\\r\\nSeppo Koho for Secto \\r\\nKonsepti\\r\\nSecto Designin Owalo 7000- riippuvalaisin on mainio esimerkki innovatiivisesta puun käytöstä ja erinomaisista käsityötaidoista. Valaisin on syntynyt kunnioittaen Pohjoismaiden niemimaan metsiä ja yksinkertaista skandinaavista muotoilua. Secto -valaisimen yksinkertaiset, mutta mielenkiintoiset muodot, tarjoavat pieniä lokeroita, jotka peittävät valonlähteen varjoon ja takaavat näin ollen lämpimän ja sokaisemattoman valon. \\r\\nAinutlaatuisia ja uraauurtavia valaisimia, jotka astuvat valaisuteollisuuden nykyaikaiseen maailmaan menettämättä kuitenkaan materiaalejaan tai teollisuudessa opittuja taitoja. \\r\\nOwalo 7000 on valmistettu Suomessa PEFC-sertifioidusta, korkealuokkaisesta koivusta. Secto -valaisimissa käytetty koivu on lähtöisin Keski-Suomesta ja siten sen kuljetusmatkat pysyvät lyhyinä. Tuotantomenetelmät keskittyvät kierrätysmateriaaleihin. Sahanpuru kierrätetään puisiksi tableteiksi. Kestävää ja pitkälle ajateltua! \\r\\nRauhallinen ja tasapainoinen riippuvalaisin, joka valaisee pimeitä konferensseja ja ruokailuhuoneita. Uusinta LED-tekniikkaa.',\n",
       "  {'entities': [(23, 28, 'BRAND')]}),\n",
       " ('Mannerström-Leikkuulauta 45,5 x 35,5 cm', {'entities': [(32, 39, 'SIZE')]}),\n",
       " ('ME New York Ellis Aurinkolasit. Collection:Women. Kehyksen Väri: Black Gold.  Linssin Väri: . Kehysmateriaali: Plastic. Koko: Standard.',\n",
       "  {'entities': [(65, 70, 'COLOR'),\n",
       "    (0, 11, 'BRAND'),\n",
       "    (111, 119, 'MATERIAL'),\n",
       "    (71, 76, 'COLOR'),\n",
       "    (126, 135, 'SIZE')]}),\n",
       " ('Reflect Wind Jacket Outerwear Sport Jackets Musta Mizuno',\n",
       "  {'entities': [(44, 49, 'COLOR'), (50, 56, 'BRAND')]}),\n",
       " ('Studio-tunika kuviollista materiaalia. Yksiväriset trikoopaneelit sivuilla. 3/4-pituiset hihat ja joustavat hihansuut. Pyöreä pääntie, jossa halkio ja nappi edessä. Pituus n. 99 cm koossa S.',\n",
       "  {'entities': [(175, 180, 'SIZE'), (188, 190, 'SIZE')]}),\n",
       " ('Traffic - Script Tee - GOLD - S', {'entities': [(0, 7, 'BRAND')]}),\n",
       " ('Oliva vartaloöljy sisältää oliiviöljyä ja abessinialaista öljyä. Kosteuttaa ja hoitaa ihoa tehokkaasti.',\n",
       "  {'entities': [(0, 5, 'COLOR')]}),\n",
       " ('Tica Copenhagen-Graphic Ovimatto 40x60cm, Musta/Harmaa',\n",
       "  {'entities': [(42, 54, 'COLOR'), (33, 41, 'SIZE')]}),\n",
       " ('Shorty Pour Over Kannu Teräs (600 ml)',\n",
       "  {'entities': [(7, 11, 'BRAND'), (29, 37, 'SIZE')]}),\n",
       " ('The Vice – Plus Siveysvyö, Purppura', {'entities': [(0, 8, 'BRAND')]}),\n",
       " ('Nahkainen Field mallinen nuoliviini Buck Trail AntiqueTaaksepäin osoittava perinteinen nuoliviini, jossa etutasku tarvikkeille.Ominaisuudet:Ruskeaa nahkaa 40cm',\n",
       "  {'entities': [(36, 46, 'BRAND'),\n",
       "    (155, 159, 'SIZE'),\n",
       "    (148, 154, 'MATERIAL')]}),\n",
       " ('Cleanser Wheat Protein Cleanser Beauty WOMEN Skin Care Face Cleansers Cleansing Gel Nude Ilse Jacobsen SPA & Beauty',\n",
       "  {'entities': [(89, 115, 'BRAND'), (39, 44, 'GENDER')]}),\n",
       " ('Sanni 1 - osainen seinävalaisin, matta valkoinen / kulta, E27, Virvatuli-valaisimet',\n",
       "  {'entities': [(39, 57, 'COLOR')]}),\n",
       " ('Kengät Chipie  JERBY', {'entities': [(7, 13, 'BRAND')]}),\n",
       " ('Sasco Aloe Vera Rub 500 ml',\n",
       "  {'entities': [(20, 26, 'SIZE'), (6, 10, 'COLOR'), (0, 5, 'BRAND')]}),\n",
       " ('Jane Top T-shirts & Tops Short-sleeved Valkoinen Ida Sjöstedt',\n",
       "  {'entities': [(39, 48, 'COLOR'), (49, 61, 'BRAND')]}),\n",
       " ('Lämmin naisten talvitakki R+ mitoituksella    Outlet tuote! Vanhempi malli tai valikoimasta poistuva tuote.  \\xa0   Kauniisti laskeutuva, pitkä vanueristeinen toppatakki talven pakkaspäiviin.  Takin pintamateriaali hengittää sekä hylkii hyvin vettä, jonka ansiosta se kestää erinomaisesti räntä- ja lumisateen kosteuden pitämällä käyttäjänsä kuivana. Untuvan kaltaista lämpöä tarjoava 300g Down touch -vanueriste lämmittää tehokkaasti samalla kun tilava huppu keinopile-turkisreunuksella tarjoaa ylellistä suojaa kaulalle ja päälle kylmää viimaa vastaan.   DrymaxX® Lite Smooth Twill -pintamateriaali pitää tuulta ja hylkii vettä   Lämmittävänä eristeenä untuvan kaltainen DownTouch -vanu   Pehmeä keinopile-turkis kauluksen sisäpuolella   Ulkopuolella kaksi taskua, sisällä yksi   Kaksisuuntaisen vetoketjun alla tuulilista   Reilu mitoitus  Reilu mitoitus  Jokainen vartalo on erikokoinen ja -muotoinen. Mitoituksella saadaan jokaisen vartalon parhaat ominaisuudet esille ja vaate istumaan mahdollisimman hyvin. Raiskin R+ mitoitus on suunniteltu kurvikkaille naisille.  R+ mitoituksen takeissa rinnan ympäryydellä on reilummin tilaa. Sen muodossa ja mitoituksessa on huomioitu myös kerrospukeutuminen. Takkien vyötärön ympärys on valmiiksi reilumpi, huomioiden näin varsinkin niin sanotut omenavartaloiset naiset. Mallista riippuen, vyötäröllä voi olla myös säätömahdollisuus. Myös lantiolle on jätetty enemmän tilaa. Kaksilukkoisen vetoketjun avaaminen helmasta tuo lisätilaa ja parantaa käyttömukavuutta esimerkiksi istuessa.',\n",
       "  {'entities': [(575, 580, 'MATERIAL'),\n",
       "    (382, 386, 'WEIGHT'),\n",
       "    (7, 14, 'GENDER')]}),\n",
       " ('SimpleSmile Teeth Whitening Refill 10 ml',\n",
       "  {'entities': [(35, 40, 'SIZE')]}),\n",
       " ('Lyhyt mekko Vero Moda  VMKARINA', {'entities': [(12, 21, 'BRAND')]}),\n",
       " ('Kinobi Mini Bags Top Handle Bags Vaaleanpunainen Cala Jade',\n",
       "  {'entities': [(33, 48, 'COLOR'), (49, 58, 'BRAND')]}),\n",
       " ('Gripmax Stature HT ( 265/45 R21 104W XL )',\n",
       "  {'entities': [(37, 39, 'SIZE'), (0, 7, 'BRAND')]}),\n",
       " ('Sukat 6-pack Bamboo Pattern Socks', {'entities': [(13, 19, 'COLOR')]}),\n",
       " ('Norfin Thermo Line 3 kerrasto', {'entities': [(0, 6, 'BRAND')]}),\n",
       " ('Oakley by Samuel Ross - Pant - Vihreä - XL',\n",
       "  {'entities': [(40, 42, 'SIZE'), (31, 37, 'COLOR'), (0, 21, 'BRAND')]}),\n",
       " ('Vadigran ExtremeStrong 12kg',\n",
       "  {'entities': [(0, 8, 'BRAND'), (23, 27, 'WEIGHT')]}),\n",
       " ('CAT6 S /FTP Verkkokaapeli 3m',\n",
       "  {'entities': [(5, 6, 'SIZE'), (26, 28, 'SIZE')]}),\n",
       " ('Retro Classic 001 ( 165/80 R15 86H kaksoistunnus  5.90-15 86H WSW 20mm )',\n",
       "  {'entities': [(6, 13, 'BRAND'), (0, 5, 'BRAND'), (66, 70, 'SIZE')]}),\n",
       " ('Nutramino, Shaker, Black, 740 ml',\n",
       "  {'entities': [(26, 32, 'SIZE'), (19, 25, 'COLOR')]}),\n",
       " ('Esprit Socks 50 Den Ti',\n",
       "  {'entities': [(13, 15, 'SIZE'), (0, 12, 'BRAND')]}),\n",
       " ('Rose Easy Chair Armchair, P. Copper / Tärnsjö Ldr Nat. från Källemo .',\n",
       "  {'entities': [(0, 4, 'COLOR'), (29, 35, 'COLOR'), (60, 67, 'BRAND')]}),\n",
       " ('Power Kingdom 12V 5 Ah lyijyhyytelö akku',\n",
       "  {'entities': [(0, 13, 'BRAND')]}),\n",
       " ('Aussie Nourish Conditioner Spray Nourish Hemp 250 ml',\n",
       "  {'entities': [(41, 45, 'COLOR'), (46, 52, 'SIZE'), (0, 6, 'BRAND')]}),\n",
       " ('Tämä ikoninen pikeepaita on täydellinen luomaan klassisen ja ajattoman lookin. Fred Perry. 100% puuvillaa.',\n",
       "  {'entities': [(96, 106, 'MATERIAL')]}),\n",
       " ('Gear4Play Racing Boat on nopea vene kahdella propellilla ja helpostiohjattavalla ruorilla. Veneen maksimivauhti on 10 km/h. Vene on 30 cm pitkä ja siinä on sisäänrakennettu paristo ja USB-laturi.',\n",
       "  {'entities': [(132, 137, 'SIZE'), (0, 9, 'BRAND')]}),\n",
       " ('Vinter & Bloom Viltti Love EKO Soft Pink',\n",
       "  {'entities': [(0, 14, 'BRAND'), (36, 40, 'COLOR')]}),\n",
       " ('Pikeepaita – kauluspaitakaulus Hajo Hiekka',\n",
       "  {'entities': [(31, 35, 'BRAND')]}),\n",
       " ('Hand Soap Verveine & Mandarine Imperial 1000 ml',\n",
       "  {'entities': [(40, 47, 'SIZE'), (31, 39, 'BRAND')]}),\n",
       " ('Kengät skechers expended brown saatavana miesten kokoja 40,41,42,44,45,46,47 1/2,39 1/2,48 1/2',\n",
       "  {'entities': [(25, 30, 'COLOR'), (41, 48, 'GENDER'), (56, 94, 'SIZE')]}),\n",
       " ('My First Big Floor Puzzle Farm Friends on upea palapeli aiheenaan erilaiset maatilan eläimet. Jo vuodesta 1995 lähtien on The Learning Joy valmistanut leluja lapsille eri alueilla, joten lapsi voi olla valmis esim. aloittamaan koulun.',\n",
       "  {'entities': [(94, 96, 'BRAND')]}),\n",
       " ('Lafont Niolo Silmälasit. Collection:Women. Kehyksen Väri: Blue Purple. Kehysmateriaali: Plastic. Koko: 55.',\n",
       "  {'entities': [(58, 62, 'COLOR'),\n",
       "    (0, 6, 'BRAND'),\n",
       "    (103, 106, 'SIZE'),\n",
       "    (88, 96, 'MATERIAL'),\n",
       "    (63, 70, 'COLOR')]}),\n",
       " ('Lyhyt mekko Betty London  LADY', {'entities': [(12, 24, 'BRAND')]}),\n",
       " ('Olsen-merkkinen neuleliivi on varma valinta jokaiseen tilaisuuteen. Rennon tyylikkäässä liivissä on saalikaulus. Suora helma. Vartaloa myötäilevä leikkaus mukailee naisellisia muotoja ja tarjoaa liikkumatilaa. Valmistettu viskoosista. Tämä liivi on yksi monista Olsen-tuotteista, jotka löydät verkkokauppamme laajasta valikoimasta!',\n",
       "  {'entities': [(222, 234, 'MATERIAL')]}),\n",
       " ('Aivan kuin golf, mutta hauskempaa ja parempaa! Lapset voivat pelata ja kiinnostua golfista pienten eläinmaalien ja -esteiden avulla. Hauska leikki ulkosalla sään salliessa.',\n",
       "  {'entities': [(47, 53, 'AGE_GROUP')]}),\n",
       " ('Korkokengät Couleur Pourpre  BRIGITTE', {'entities': [(12, 27, 'BRAND')]}),\n",
       " ('Vulkanus VG2 Classic knife sharpener with automatically adjusted sharpening angle makes your knives sharp again, even serrated blades.',\n",
       "  {'entities': [(13, 20, 'BRAND'), (0, 8, 'BRAND')]}),\n",
       " ('Rut&Circle Ruudullinen Bleiseri - Multicolor',\n",
       "  {'entities': [(34, 44, 'COLOR'), (0, 10, 'BRAND')]}),\n",
       " ('Bio- Nurmikkolannoite 2,5 kg',\n",
       "  {'entities': [(0, 21, 'BRAND'), (22, 28, 'WEIGHT')]}),\n",
       " ('Breil Naisten kello TW0813 Valkoinen/Kumi Ø37 mm',\n",
       "  {'entities': [(0, 5, 'BRAND'),\n",
       "    (6, 13, 'GENDER'),\n",
       "    (27, 41, 'COLOR'),\n",
       "    (42, 48, 'SIZE')]}),\n",
       " ('Josh 315 Puvun Housut Suorat Housut Harmaa Plaîn',\n",
       "  {'entities': [(36, 42, 'COLOR'), (43, 48, 'BRAND')]}),\n",
       " ('Kestoside mini Sangria 3 kpl', {'entities': [(15, 22, 'COLOR')]}),\n",
       " ('Eva kynttilänjalka Ø 8 cm Punainen',\n",
       "  {'entities': [(21, 25, 'SIZE'), (26, 34, 'COLOR')]}),\n",
       " ('Proairsoft SR-16 Jousitoiminen kivääri', {'entities': [(0, 10, 'BRAND')]}),\n",
       " ('Vivani Täytesuklaa Piparminttu 100g on raikas piparminttuinen luomusuklaa!Saksalaisen Vivanin valikoimaan kuuluu kymmeniä suklaamakuja, jotka kaikki valmistetaan korkealaatuisista luomusertifioiduista raaka-aineista, kuten aidosta bourbon-vaniljasta. Suklaissa ei käytetä geenimanipuloituja raaka-aineita eikä soijalesitiiniä. Vivanin suklaissa käytettävä luomukaakao on peräisin Latinalaisesta Amerikasta ja Etelä-Amerikasta, pääasiassa Dominikaanisesta Tasavallasta, Panamasta ja Ecuadorista. Kaakao kasvaa banaani- ja avokadopuiden kanssa sekaviljelmillä, ei yhden kasvin monokulttuuriviljelmillä, joten myrkyllisiä torjunta-aineita ei näin ollen tarvita. Optimaalisessa suhteessa yhdistetyt ainekset ovat täydellinen nautinto, joka saadaan esille juuri oikealla käsittelyllä (intensiivinen valssaus ja pitkä konssaus). Vivanin luomusuklaan ekologiset pakkaukset on valmistettu kompostoituvasta NatureFlexFoliosta ja FSC-kartongista. Jatkuva laadunvalvonta takaa, että Vivanin suklaa on aina laadukasta!Ainesosat: raakaruokosokeri*, kaakaomassa*, kaakaojauhe*, kaakaovoi*, voi rasva*, glukoosisiirappi*, piparminttuöljy*. *=luomu. Kaakaopitoisuus vähintään 68 %. Saattaa sisältää jäämiä pähkinöistä ja gluteenista. Lisätiedot : luomu Säilytys : Säilytetään viileässä ja kuivassa valolta suojattuna. Valmistaja : EcoFinia GmbH Alkuperämaa : SaksaRavintoarvo per 100 g : Energiaa 1969 kJ / 471 kcal Rasvaa 23,5 g josta tyydyttyneitä 14,8 g Hiilihydraatteja 55,7 g joista sokereita 44,6 g Proteiinia 7,9 g Suolaa 0,01 g',\n",
       "  {'entities': [(1160, 1162, 'SIZE'),\n",
       "    (0, 6, 'BRAND'),\n",
       "    (495, 501, 'BRAND'),\n",
       "    (1364, 1369, 'WEIGHT'),\n",
       "    (1513, 1519, 'WEIGHT'),\n",
       "    (31, 35, 'WEIGHT'),\n",
       "    (1500, 1505, 'WEIGHT'),\n",
       "    (1407, 1413, 'WEIGHT'),\n",
       "    (1434, 1440, 'WEIGHT'),\n",
       "    (1458, 1464, 'WEIGHT'),\n",
       "    (1482, 1488, 'WEIGHT')]}),\n",
       " ('YEEZY - Womens Mule Pvc Heel - Harmaa - US 6',\n",
       "  {'entities': [(31, 37, 'COLOR'), (40, 44, 'SIZE')]}),\n",
       " ('Holika Holika Good Cera Super Ceramide Lip Oil Stick',\n",
       "  {'entities': [(19, 23, 'BRAND'), (0, 13, 'BRAND')]}),\n",
       " ('Sandaalit charles jourdan barbara black saatavana naisten kokoja 41',\n",
       "  {'entities': [(65, 67, 'SIZE'), (50, 57, 'GENDER'), (34, 39, 'COLOR')]}),\n",
       " ('Twistshake Anti-Colic Tuttipullo 180ml Pastel Beige',\n",
       "  {'entities': [(39, 51, 'COLOR'), (0, 10, 'BRAND'), (33, 38, 'SIZE')]}),\n",
       " ('Biomedics 1 Day Extra 30 Pack Piilolinssit. Valmistaja: Biomedics. Käyttöaika Daily Disposable. Vesipitoisuus: %',\n",
       "  {'entities': [(22, 24, 'SIZE'), (0, 9, 'BRAND')]}),\n",
       " ('Oakley OX8134 LATCH KEY RX Silmälasit. Collection:Men. Kehyksen Väri: Matte Brown Tortoise. Kehysmateriaali: Plastic. Koko: 50.',\n",
       "  {'entities': [(76, 81, 'COLOR'),\n",
       "    (0, 6, 'BRAND'),\n",
       "    (124, 127, 'SIZE'),\n",
       "    (109, 117, 'MATERIAL'),\n",
       "    (82, 91, 'COLOR')]}),\n",
       " ('Deuter Trans Alpine 30 - Lapis-navy - Unisex - OneSize',\n",
       "  {'entities': [(20, 22, 'SIZE'),\n",
       "    (0, 6, 'BRAND'),\n",
       "    (38, 44, 'GENDER'),\n",
       "    (47, 54, 'SIZE')]}),\n",
       " ('LARS WALLIN Logo Scarf Nude One size', {'entities': [(28, 36, 'SIZE')]}),\n",
       " ('Solideal SLA R4 ( 16.9 -24 12PR TL kaksoistunnus  440/80-24 )',\n",
       "  {'entities': [(0, 8, 'BRAND')]}),\n",
       " ('Anti-age tuote päiväksi - BioEffect', {'entities': [(26, 35, 'BRAND')]}),\n",
       " ('Rude Cube – Rubikin Kuutio Peniskuvituksella',\n",
       "  {'entities': [(0, 9, 'BRAND')]}),\n",
       " ('5-taskuiset housut petrol industries w-3090-tro072-5091 blue saatavana naisten kokoja eu s,eu m',\n",
       "  {'entities': [(56, 60, 'COLOR'), (71, 78, 'GENDER'), (86, 95, 'SIZE')]}),\n",
       " ('Black Box Gigastation2 Snap Fiber Fittings - St, Office White',\n",
       "  {'entities': [(0, 9, 'BRAND'), (56, 61, 'COLOR')]}),\n",
       " ('Lastenkengät gioseppo epsilon white saatavana tyttöjen kokoja 28,29,31',\n",
       "  {'entities': [(30, 35, 'COLOR'), (62, 70, 'SIZE')]}),\n",
       " ('Sweed Lashes Nikki No Lash Lash', {'entities': [(0, 12, 'BRAND')]}),\n",
       " ('Puffy eye Patches 18 gr', {'entities': [(18, 23, 'WEIGHT')]}),\n",
       " ('Helposti levittyvä roll on antaen hyvän suojan pistoja vastaan jopa 8 tunnin ajan.',\n",
       "  {'entities': [(68, 69, 'SIZE')]}),\n",
       " ('Maxmedixin valmistama VariGo Voide on luonnollinen ja paikallinen tapa jalkojen terveydestä huolehtimiseen ulkoisesti. Voide on tarkoitettu epämiellyttävän näköisille verisuonille ja suonikohjuille, ja se ravitsee sekä kosteuttaa ihoa tehokkaasti. Sisältää E-Vitamiinia, Aloe Veraa, Sheavoita, ja Kollageenia.',\n",
       "  {'entities': [(271, 275, 'COLOR')]}),\n",
       " ('Sandaalit Birkenstock  MILANO', {'entities': [(10, 21, 'BRAND')]}),\n",
       " ('SmartSupps Caffeine, 200mg, 200 tabs',\n",
       "  {'entities': [(0, 10, 'BRAND'), (21, 27, 'WEIGHT')]}),\n",
       " ('Trekking Shorts M vaellusshortsit', {'entities': [(16, 17, 'COLOR')]}),\n",
       " ('Goldentyre G-MOUSSE Enduro ( 130/80 -18 Competition Use Only, takapyörä )',\n",
       "  {'entities': [(0, 10, 'BRAND')]}),\n",
       " (\"Women'S Sunglasses Pilottilasit Aurinkolasit Musta Dolce & Gabbana Sunglasses\",\n",
       "  {'entities': [(45, 50, 'COLOR'), (51, 77, 'BRAND')]}),\n",
       " ('Täysjyväriisisipsit Sea Salt & Black Pepper - 48% alennus',\n",
       "  {'entities': [(31, 36, 'COLOR'), (20, 28, 'COLOR')]}),\n",
       " ('The Organic Tee T-shirts Short-sleeved Kermanvärinen By Garment Makers',\n",
       "  {'entities': [(53, 70, 'BRAND')]}),\n",
       " ('Flexi New Classic Neon Tape 5m',\n",
       "  {'entities': [(18, 22, 'BRAND'),\n",
       "    (10, 17, 'BRAND'),\n",
       "    (0, 5, 'BRAND'),\n",
       "    (28, 30, 'SIZE')]}),\n",
       " ('Razorline SK09TRF', {'entities': [(0, 9, 'BRAND')]}),\n",
       " ('FACT - Box Logo Tee - Valkoinen - S',\n",
       "  {'entities': [(22, 31, 'COLOR'), (34, 35, 'SIZE'), (0, 4, 'BRAND')]}),\n",
       " ('Carmex Moisture Plus Clear', {'entities': [(0, 6, 'BRAND')]}),\n",
       " ('Pugsley koiranpentu yksisarvisasussa', {'entities': [(0, 7, 'BRAND')]}),\n",
       " ('Valsoia hasselpähkinälevite', {'entities': [(0, 7, 'BRAND')]}),\n",
       " ('Thom Browne Silmälasit TB-701 TB-907-WHT-GLD',\n",
       "  {'entities': [(0, 11, 'BRAND')]}),\n",
       " ('Sandaalit eject lili beige saatavana naisten kokoja 36,40',\n",
       "  {'entities': [(37, 44, 'GENDER'), (21, 26, 'COLOR'), (52, 57, 'SIZE')]}),\n",
       " ('Sassoon Intense Restore Treatment 170 ml',\n",
       "  {'entities': [(34, 40, 'SIZE'), (0, 7, 'BRAND')]}),\n",
       " ('Original Manix Skyn Kondomit', {'entities': [(9, 19, 'BRAND')]}),\n",
       " ('L-Ornithine från Twinlab är ett tillskott av aminosyran L-ornitin som är populärt inom bland annat fitness på grund av sina muskeluppbyggnadsfrämjande egenskaper.',\n",
       "  {'entities': [(17, 24, 'BRAND')]}),\n",
       " ('Ideaali epätasaiselle ja öljyiselle akneiholle. ClearPores Kapselit auttavat sinua saamaan terveen ulkonäön. ClearPores kapselit ovat valmistettu kasvipohjaisista, luonnollisista ainesosista sisältäen Aloe Veraa, Kurkumaa sekä Takiaisen juurta.',\n",
       "  {'entities': [(201, 205, 'COLOR'), (48, 58, 'BRAND')]}),\n",
       " ('Nordic light kynttilänjalka, 4-haarainen valkoinen',\n",
       "  {'entities': [(41, 50, 'COLOR')]}),\n",
       " ('Spunk Liukuvoide 236 ml',\n",
       "  {'entities': [(17, 23, 'SIZE'), (0, 5, 'BRAND')]}),\n",
       " ('Roselli Puukon Lahjalaatikko Iso', {'entities': [(0, 7, 'BRAND')]}),\n",
       " ('Led-kynttilä 23 cm', {'entities': [(13, 18, 'SIZE')]}),\n",
       " ('Pristu Cm Puvun Housut Suorat Housut Sininen Matinique',\n",
       "  {'entities': [(37, 44, 'COLOR'), (45, 54, 'BRAND')]}),\n",
       " ('Lyhyt mekko betty london lady red saatavana naisten kokoja s,m,l',\n",
       "  {'entities': [(30, 33, 'COLOR'), (44, 51, 'GENDER'), (59, 64, 'SIZE')]}),\n",
       " ('Kengät manas chuma beige saatavana naisten kokoja 41',\n",
       "  {'entities': [(50, 52, 'SIZE'), (35, 42, 'GENDER'), (19, 24, 'COLOR')]}),\n",
       " ('Genacol on 100 % kollageenia jauhemuodossa. Kollageeni on tärkeä proteiini, joka vaikuttaa monissa kehon toiminnoissa ja sitä esiintyy lihaksissa, jänteissä, nivelsiteissä ja ihossa.',\n",
       "  {'entities': [(11, 14, 'SIZE'), (0, 7, 'BRAND')]}),\n",
       " ('XRotor 1408 Race Pro 3250KVStrong PowerThe Hobbywing Xrotor 1408 Race Pro motor has been designed for the 130mm FPV racing drones. It inherits the swift acceleration, rapid response, high efficiency of the XRotor Race Pro series motors; the ultra-thin (0.15mm) silicon steel laminations combined with the N54 NbFeB magnets and the innovative magnetic circuit design guarantee the strong power of the small motor.Ultra Lightweight DesignThe new 1408 motor has been developed to push the limits of durability while remaining extremely lightweight, it weighs only 15.5g (w/o wires).Top Quality Components:High quality 6061 aluminum and high-precision CNC Machining technology produce an improved strength and axial concentricity. The NSK bearings are high-quality Japanese bearings are the best available, providing longer life, lower noise, and improved overall tolerances. Ultra-thin (0.15mm) silicon steel laminations are used to manufacture the stators. This high-quality material improves overall efficiency. Using the strongest, and most heat resistant NbFeB magnets ensure maximum torque under load, and excellent consistency across the motors operating ranges.Specs:Motor KV: 3250 Stator Diameter: 14mm Stator Thickness: 8mm Number of Stator Arms: 9 Number of Rotor Poles: 12 No-Load Current: 0.7A @ 11.1V Motor Resistance: 118mOhm Max Continuous Current: 9.61A (30 sec) Max Continuous Power: 154.6W (30 sec) Weight (excluding wire): 15.8g Rotor Diameter: 19mm Can Length: 16.3mm Shaft Length (total): 29.3mm Shaft Diameter: 5mm LiPo Cells: 4S ESC: 12-15A Recommended Prop Size: 3\" Wire Size: 24AWG/80mm',\n",
       "  {'entities': [(1253, 1254, 'SIZE'),\n",
       "    (1278, 1280, 'SIZE'),\n",
       "    (43, 52, 'BRAND'),\n",
       "    (648, 651, 'BRAND'),\n",
       "    (1461, 1465, 'SIZE'),\n",
       "    (1226, 1229, 'SIZE'),\n",
       "    (1203, 1207, 'SIZE'),\n",
       "    (106, 111, 'SIZE'),\n",
       "    (1439, 1444, 'WEIGHT'),\n",
       "    (1478, 1484, 'SIZE'),\n",
       "    (1507, 1513, 'SIZE')]}),\n",
       " ('Terra Nova V-Peg telttakiila alumiini 10 kpl',\n",
       "  {'entities': [(0, 10, 'BRAND')]}),\n",
       " ('Kings Tire KT701 ( 4.80 -8 70M 6PR TT kaksoistunnus  4.80/4.00-8, NHS )',\n",
       "  {'entities': [(0, 10, 'BRAND')]}),\n",
       " ('Modus Ombre -kulho 10,5 cm Harmaa',\n",
       "  {'entities': [(27, 33, 'COLOR'), (19, 26, 'SIZE')]}),\n",
       " (\"This is an extraordinary frying pan from Demeyere with a unique and innovative ControlInduc® safety system that ensures that the frying pan doesn't get overheated.\",\n",
       "  {'entities': [(41, 49, 'BRAND')]}),\n",
       " ('T-paita 90 Tee', {'entities': [(8, 10, 'SIZE')]}),\n",
       " ('Guppyfriend Washing Bag Accessories Clothing Care Valkoinen Guppyfriend',\n",
       "  {'entities': [(50, 59, 'COLOR'), (0, 11, 'BRAND')]}),\n",
       " ('Vaaleanpunainen on aina muodissa!', {'entities': [(0, 15, 'COLOR')]}),\n",
       " ('Saappaat french sole patch black saatavana naisten kokoja 36,37',\n",
       "  {'entities': [(43, 50, 'GENDER'), (58, 63, 'SIZE'), (27, 32, 'COLOR')]}),\n",
       " ('Mieto Sinappi 125g - 67% alennus', {'entities': [(14, 18, 'WEIGHT')]}),\n",
       " ('Lastenkengät Robeez  MIGO', {'entities': [(13, 19, 'BRAND')]}),\n",
       " ('Shirataki riisi 150g', {'entities': [(16, 20, 'WEIGHT')]}),\n",
       " ('Hedelmäinen Tutti Frutti tuo iloa ja aurinkoa kaikille. Tutti Frutti Bubbles on pääsiäisen iloisin sekoitus frutittelevan hauskoja hedelmänmakuisia karkkeja. Luontaisilla väreillä valmistetut Tutti Frutti Bubblesit ovat gelatiinittomia',\n",
       "  {'entities': [(12, 24, 'BRAND')]}),\n",
       " ('Kengät swear duke beige saatavana miesten kokoja 41,44,45,46',\n",
       "  {'entities': [(34, 41, 'GENDER'), (18, 23, 'COLOR'), (49, 60, 'SIZE')]}),\n",
       " ('Urban Decay Vice Special Effects', {'entities': [(0, 11, 'BRAND')]}),\n",
       " ('Loumet Stress Ball', {'entities': [(0, 6, 'BRAND')]}),\n",
       " ('Video Seven Neoprene Sleeve Elite 12In Black For Notebook Laptop Case Accs',\n",
       "  {'entities': [(39, 44, 'COLOR'), (0, 11, 'BRAND'), (28, 33, 'BRAND')]}),\n",
       " ('Karacon Viral X Monthly 1 Pack Piilolinssit. Valmistaja: Karacon. Käyttöaika Monthly Disposable. Vesipitoisuus: %',\n",
       "  {'entities': [(0, 7, 'BRAND')]}),\n",
       " ('Hedelmän makuiset ja tuoksuiset kondomit. Maut: Tuttifrutti, mansikka ja banaani. Paketissa 24 kpl (8 kutakin makua).',\n",
       "  {'entities': [(92, 94, 'SIZE')]}),\n",
       " ('Fat Gripz Original + Extreme',\n",
       "  {'entities': [(21, 28, 'BRAND'), (0, 9, 'BRAND')]}),\n",
       " ('Jenkki Lemon Cheesecake - 28% alennus',\n",
       "  {'entities': [(7, 12, 'COLOR'), (0, 6, 'BRAND')]}),\n",
       " ('Radius Kynttilänjalka Large, Musta',\n",
       "  {'entities': [(29, 34, 'COLOR'), (22, 28, 'SIZE')]}),\n",
       " ('Atollo Varjostin Small Opal - Oluce',\n",
       "  {'entities': [(30, 35, 'BRAND'), (17, 22, 'SIZE')]}),\n",
       " ('ROAV Aurinkolasit 1001 Earhart Folding Black Polarized SRT1OP',\n",
       "  {'entities': [(39, 44, 'COLOR'), (0, 4, 'BRAND')]}),\n",
       " ('CamelBak Termosmuki', {'entities': [(0, 8, 'BRAND')]}),\n",
       " (\"Marc O'Polo Shirts/Blouses Long Sleeve\", {'entities': [(0, 11, 'BRAND')]}),\n",
       " ('YoloLIV YoloBox Portable Live Stream Studio',\n",
       "  {'entities': [(37, 43, 'BRAND')]}),\n",
       " ('Gold, EdP 100ml', {'entities': [(10, 15, 'SIZE')]}),\n",
       " ('Illinois River - Metsä hanhi pilli', {'entities': [(0, 14, 'BRAND')]}),\n",
       " ('Radius Kynttilänjalka Large, Musta från Woud .',\n",
       "  {'entities': [(29, 34, 'COLOR'), (40, 44, 'BRAND'), (22, 28, 'SIZE')]}),\n",
       " ('Milan Eraser PVC CPM320', {'entities': [(0, 5, 'BRAND')]}),\n",
       " ('Sveico Maissihaarukat, 6 kpl', {'entities': [(0, 6, 'BRAND')]}),\n",
       " ('Kengät Miista  ALAYNA', {'entities': [(7, 13, 'BRAND')]}),\n",
       " ('T-PAIDAT/PAIDAT Lähettäjä Perrelli Street Wear till Pojat i Valkoinen - 134-140',\n",
       "  {'entities': [(60, 69, 'COLOR'), (72, 79, 'SIZE'), (26, 46, 'BRAND')]}),\n",
       " ('Ilmanjäähdytin Arctic Air Ultra', {'entities': [(26, 31, 'BRAND')]}),\n",
       " ('Clean Reserve Citron Fig Hajuvesi Parfyymi Nude CLEAN RESERVE',\n",
       "  {'entities': [(14, 20, 'COLOR'), (0, 13, 'BRAND')]}),\n",
       " ('Huivit Essentiel  BALISTA', {'entities': [(7, 16, 'BRAND')]}),\n",
       " ('Pure Effect All Clean Starter Kit',\n",
       "  {'entities': [(16, 21, 'BRAND'), (0, 11, 'BRAND'), (22, 29, 'BRAND')]}),\n",
       " ('Molkosan 1 litraa', {'entities': [(9, 17, 'SIZE')]}),\n",
       " ('Viamax Tight Gel ', {'entities': [(0, 6, 'BRAND')]}),\n",
       " ...]"
      ]
     },
     "execution_count": 19,
     "metadata": {},
     "output_type": "execute_result"
    }
   ],
   "source": [
    "TRAIN_DATA_0"
   ]
  },
  {
   "cell_type": "code",
   "execution_count": 20,
   "metadata": {},
   "outputs": [],
   "source": [
    "# Obtain a portion of the training data. For the final step, choose all the data.\n",
    "TRAIN_DATA=TRAIN_DATA_0[0:round(1*len(TRAIN_DATA_0))]"
   ]
  },
  {
   "cell_type": "code",
   "execution_count": 21,
   "metadata": {},
   "outputs": [],
   "source": [
    "with open(\"TRAIN_DATA.txt\", \"wb\") as fp:   #Pickling\n",
    "    pickle.dump(TRAIN_DATA, fp)"
   ]
  },
  {
   "cell_type": "markdown",
   "metadata": {},
   "source": [
    "## 4. Model"
   ]
  },
  {
   "cell_type": "code",
   "execution_count": 22,
   "metadata": {},
   "outputs": [],
   "source": [
    "def my_model(train_type, language, batch_type, n_iter, TRAIN_DATA):\n",
    "    if train_type == 'Transfer':\n",
    "        if language == 'English':\n",
    "            \n",
    "            nlp=spacy.load(\"en_core_web_sm\")   \n",
    "            ner=nlp.get_pipe('ner')\n",
    "            ner.add_label('COLOR')\n",
    "            ner.add_label('SIZE')\n",
    "            ner.add_label('BRAND')\n",
    "            optimizer = nlp.resume_training()\n",
    "        \n",
    "        elif language == 'Multi':\n",
    "            nlp=spacy.load(\"xx_ent_wiki_sm\") \n",
    "            ner=nlp.get_pipe('ner')\n",
    "            \n",
    "            ner.add_label('COLOR')\n",
    "            ner.add_label('SIZE')\n",
    "            ner.add_label('BRAND')\n",
    "            optimizer = nlp.resume_training()\n",
    "        \n",
    "        \n",
    "    elif train_type == 'Scratch':\n",
    "        model = None\n",
    "        if model is not None:\n",
    "            nlp = spacy.load(model)  \n",
    "            print(\"Loaded model '%s'\" % model)\n",
    "        else:\n",
    "            nlp = spacy.blank('en', entity = False)  \n",
    "            print(\"Created blank 'en' model\")\n",
    "            \n",
    "        if 'ner' not in nlp.pipe_names:\n",
    "            ner = nlp.create_pipe('ner')\n",
    "            nlp.add_pipe(ner, last=True)\n",
    "        else:\n",
    "            ner = nlp.get_pipe('ner')\n",
    "            \n",
    "        # Add labels\n",
    "        for _, annotations in TRAIN_DATA:\n",
    "            for ent in annotations.get('entities'):\n",
    "                ner.add_label(ent[2])\n",
    "\n",
    "        if model is None:\n",
    "            optimizer = nlp.begin_training()\n",
    "        else:\n",
    "            optimizer = nlp.entity.create_optimizer()\n",
    "     \n",
    "    if batch_type == 'Full':\n",
    "        other_pipes = [pipe for pipe in nlp.pipe_names if pipe != 'ner']\n",
    "        with nlp.disable_pipes(*other_pipes):  # only train NER\n",
    "            for itn in range(n_iter):\n",
    "                random.shuffle(TRAIN_DATA)\n",
    "                losses = {}\n",
    "                for text, annotations in tqdm(TRAIN_DATA):\n",
    "                    nlp.update([text], [annotations], drop=0.5, sgd=optimizer, losses=losses)\n",
    "                print(itn, losses)\n",
    "    elif batch_type == 'mini':\n",
    "        pipe_exceptions = [\"ner\", \"trf_wordpiecer\", \"trf_tok2vec\"]\n",
    "        other_pipes = [pipe for pipe in nlp.pipe_names if pipe not in pipe_exceptions]\n",
    "        with nlp.disable_pipes(*other_pipes) :\n",
    "            sizes = compounding(1.0, 4.0, 1.001)  \n",
    "            for itn in range(n_iter):\n",
    "                random.shuffle(TRAIN_DATA)\n",
    "                batches = minibatch(TRAIN_DATA, size=sizes)\n",
    "                losses = {}\n",
    "                for batch in batches:\n",
    "                    texts, annotations = zip(*batch)\n",
    "                    nlp.update(texts, annotations, sgd=optimizer, drop=0.2, losses=losses)\n",
    "                print(\"Losses\", itn, losses)\n",
    "    \n",
    "    return nlp"
   ]
  },
  {
   "cell_type": "code",
   "execution_count": 23,
   "metadata": {},
   "outputs": [
    {
     "name": "stdout",
     "output_type": "stream",
     "text": [
      "Created blank 'en' model\n"
     ]
    },
    {
     "name": "stderr",
     "output_type": "stream",
     "text": [
      "/Applications/anaconda2/envs/Python3/lib/python3.8/site-packages/spacy/language.py:635: UserWarning: [W033] Training a new parser or NER using a model with no lexeme normalization table. This may degrade the performance of the model to some degree. If this is intentional or the language you're using doesn't have a normalization table, please ignore this warning. If this is surprising, make sure you have the spacy-lookups-data package installed. The languages with lexeme normalization tables are currently: da, de, el, en, id, lb, pt, ru, sr, ta, th.\n",
      "  proc.begin_training(\n"
     ]
    },
    {
     "name": "stdout",
     "output_type": "stream",
     "text": [
      "Losses 0 {'ner': 19263.178851629622}\n",
      "Losses 1 {'ner': 13300.812962129527}\n",
      "Losses 2 {'ner': 10944.055812869623}\n",
      "Losses 3 {'ner': 9459.817742023553}\n",
      "Losses 4 {'ner': 8131.568627235093}\n",
      "Losses 5 {'ner': 7108.936878625545}\n",
      "Losses 6 {'ner': 6459.339424418825}\n",
      "Losses 7 {'ner': 5769.787352778118}\n",
      "Losses 8 {'ner': 5372.226541645742}\n",
      "Losses 9 {'ner': 4982.057260696371}\n",
      "Losses 10 {'ner': 4659.743092604878}\n",
      "Losses 11 {'ner': 4131.137023523863}\n",
      "Losses 12 {'ner': 3999.000146408548}\n",
      "Losses 13 {'ner': 3791.222860864624}\n",
      "Losses 14 {'ner': 3707.8717362341345}\n",
      "Losses 15 {'ner': 3251.2509417421516}\n",
      "Losses 16 {'ner': 3218.705701188739}\n",
      "Losses 17 {'ner': 3039.2962927155345}\n",
      "Losses 18 {'ner': 2824.964496715341}\n",
      "Losses 19 {'ner': 2921.7679877474084}\n",
      "Losses 20 {'ner': 2728.8152269092534}\n",
      "Losses 21 {'ner': 2431.521742974751}\n",
      "Losses 22 {'ner': 2478.7166856568742}\n",
      "Losses 23 {'ner': 2420.3028078512993}\n",
      "Losses 24 {'ner': 2284.965763246124}\n",
      "Losses 25 {'ner': 2144.8365373116267}\n",
      "Losses 26 {'ner': 2173.935644970498}\n",
      "Losses 27 {'ner': 2090.917642383436}\n",
      "Losses 28 {'ner': 2122.897010746687}\n",
      "Losses 29 {'ner': 2002.2524536536805}\n",
      "Losses 30 {'ner': 2060.371066355258}\n",
      "Losses 31 {'ner': 2080.404672656104}\n",
      "Losses 32 {'ner': 1813.832655530094}\n",
      "Losses 33 {'ner': 1843.007928632688}\n",
      "Losses 34 {'ner': 1756.3522812643669}\n",
      "Losses 35 {'ner': 1742.9366027708065}\n",
      "Losses 36 {'ner': 1562.1703794445707}\n",
      "Losses 37 {'ner': 1589.6760876406017}\n",
      "Losses 38 {'ner': 1622.8493997267979}\n",
      "Losses 39 {'ner': 1572.421784853372}\n",
      "Losses 40 {'ner': 1482.867545920425}\n",
      "Losses 41 {'ner': 1491.078003503893}\n",
      "Losses 42 {'ner': 1443.3190796724316}\n",
      "Losses 43 {'ner': 1458.3273520624946}\n",
      "Losses 44 {'ner': 1495.8055259455211}\n",
      "Losses 45 {'ner': 1360.5869296444782}\n",
      "Losses 46 {'ner': 1313.0139969319835}\n",
      "Losses 47 {'ner': 1418.0482346612778}\n",
      "Losses 48 {'ner': 1390.9136700561096}\n",
      "Losses 49 {'ner': 1326.0771080967902}\n",
      "Losses 50 {'ner': 1349.526562760869}\n",
      "Losses 51 {'ner': 1245.3108104532032}\n",
      "Losses 52 {'ner': 1212.195926926795}\n",
      "Losses 53 {'ner': 1183.0084028995057}\n",
      "Losses 54 {'ner': 1249.4660235756587}\n",
      "Losses 55 {'ner': 1259.5184008777333}\n",
      "Losses 56 {'ner': 1056.5084854971865}\n",
      "Losses 57 {'ner': 1176.1813234565539}\n",
      "Losses 58 {'ner': 1112.3367780638362}\n",
      "Losses 59 {'ner': 1135.74575488903}\n",
      "Losses 60 {'ner': 1201.4844531501578}\n",
      "Losses 61 {'ner': 1214.2376319880661}\n",
      "Losses 62 {'ner': 1104.3916075813606}\n",
      "Losses 63 {'ner': 1052.9507203358562}\n",
      "Losses 64 {'ner': 1021.2138571501723}\n",
      "Losses 65 {'ner': 1187.386924517225}\n",
      "Losses 66 {'ner': 1056.2601611657506}\n",
      "Losses 67 {'ner': 1145.7887074744435}\n",
      "Losses 68 {'ner': 1060.8375255757223}\n",
      "Losses 69 {'ner': 1023.0754405712481}\n",
      "Losses 70 {'ner': 1050.7547341234267}\n",
      "Losses 71 {'ner': 1017.321982117044}\n",
      "Losses 72 {'ner': 1125.0687108079085}\n",
      "Losses 73 {'ner': 1016.104778231776}\n",
      "Losses 74 {'ner': 993.2920203500607}\n",
      "Losses 75 {'ner': 970.1298003049225}\n",
      "Losses 76 {'ner': 1045.6669174499623}\n",
      "Losses 77 {'ner': 1000.5885082466547}\n",
      "Losses 78 {'ner': 932.4320833953713}\n",
      "Losses 79 {'ner': 965.2277905914979}\n",
      "Losses 80 {'ner': 967.2383784840815}\n",
      "Losses 81 {'ner': 957.1312338788866}\n",
      "Losses 82 {'ner': 906.6372938036415}\n",
      "Losses 83 {'ner': 942.2604250298049}\n",
      "Losses 84 {'ner': 934.6971485358918}\n",
      "Losses 85 {'ner': 932.0331531347822}\n",
      "Losses 86 {'ner': 914.5853772565193}\n",
      "Losses 87 {'ner': 917.0730155323865}\n",
      "Losses 88 {'ner': 940.4965244684203}\n",
      "Losses 89 {'ner': 817.0549972247595}\n",
      "Losses 90 {'ner': 833.2813099648051}\n",
      "Losses 91 {'ner': 852.9353052861561}\n",
      "Losses 92 {'ner': 906.9484781414809}\n",
      "Losses 93 {'ner': 881.6880647318217}\n",
      "Losses 94 {'ner': 842.2050488717986}\n",
      "Losses 95 {'ner': 854.9090011572691}\n",
      "Losses 96 {'ner': 869.9968824427681}\n",
      "Losses 97 {'ner': 802.3001935589072}\n",
      "Losses 98 {'ner': 819.3317754939292}\n",
      "Losses 99 {'ner': 828.0429391626561}\n",
      "Losses 100 {'ner': 852.5087783443188}\n",
      "Losses 101 {'ner': 832.1141673007385}\n",
      "Losses 102 {'ner': 878.1432720234084}\n",
      "Losses 103 {'ner': 858.0588606108851}\n",
      "Losses 104 {'ner': 693.3260831981}\n",
      "Losses 105 {'ner': 866.1724349094694}\n",
      "Losses 106 {'ner': 778.9728177735361}\n",
      "Losses 107 {'ner': 794.0047474221474}\n",
      "Losses 108 {'ner': 898.6086829613762}\n",
      "Losses 109 {'ner': 803.2431889633302}\n",
      "Losses 110 {'ner': 801.1480341243512}\n",
      "Losses 111 {'ner': 793.3524842023661}\n",
      "Losses 112 {'ner': 783.8700881697703}\n",
      "Losses 113 {'ner': 773.3087725465259}\n",
      "Losses 114 {'ner': 791.787251617887}\n",
      "Losses 115 {'ner': 800.2468116964914}\n",
      "Losses 116 {'ner': 748.2731397985974}\n",
      "Losses 117 {'ner': 681.2589958301692}\n",
      "Losses 118 {'ner': 727.9011568621959}\n",
      "Losses 119 {'ner': 784.9661773889962}\n",
      "Losses 120 {'ner': 758.7096237437099}\n",
      "Losses 121 {'ner': 754.4038075247854}\n",
      "Losses 122 {'ner': 700.3214771791099}\n",
      "Losses 123 {'ner': 761.5086957279563}\n",
      "Losses 124 {'ner': 738.1941059450417}\n",
      "Losses 125 {'ner': 733.619849320622}\n",
      "Losses 126 {'ner': 766.7106436659672}\n",
      "Losses 127 {'ner': 718.0640858419638}\n",
      "Losses 128 {'ner': 700.2678886145288}\n",
      "Losses 129 {'ner': 749.1840131019198}\n",
      "Losses 130 {'ner': 799.3638506042977}\n",
      "Losses 131 {'ner': 696.6726412847754}\n",
      "Losses 132 {'ner': 668.9667342669289}\n",
      "Losses 133 {'ner': 754.7253104990451}\n",
      "Losses 134 {'ner': 675.6910962229495}\n",
      "Losses 135 {'ner': 743.7523566578603}\n",
      "Losses 136 {'ner': 747.7187772329916}\n",
      "Losses 137 {'ner': 743.9668891991107}\n",
      "Losses 138 {'ner': 664.6261574117924}\n",
      "Losses 139 {'ner': 701.5482502892716}\n",
      "Losses 140 {'ner': 761.421875596751}\n",
      "Losses 141 {'ner': 632.2158579173389}\n",
      "Losses 142 {'ner': 725.8608410608144}\n",
      "Losses 143 {'ner': 669.4163348251303}\n",
      "Losses 144 {'ner': 783.5295264352438}\n",
      "Losses 145 {'ner': 707.2143892576559}\n",
      "Losses 146 {'ner': 659.145030257036}\n",
      "Losses 147 {'ner': 704.3872447305062}\n",
      "Losses 148 {'ner': 660.4523533809431}\n",
      "Losses 149 {'ner': 668.2542838905532}\n",
      "Losses 150 {'ner': 701.2069385879952}\n",
      "Losses 151 {'ner': 631.3644124151152}\n",
      "Losses 152 {'ner': 697.1033907892013}\n",
      "Losses 153 {'ner': 693.3391466028917}\n",
      "Losses 154 {'ner': 772.775859382382}\n",
      "Losses 155 {'ner': 637.970508292305}\n",
      "Losses 156 {'ner': 656.7282737305684}\n",
      "Losses 157 {'ner': 621.1979223719651}\n",
      "Losses 158 {'ner': 570.4086360038654}\n",
      "Losses 159 {'ner': 684.0733848647674}\n",
      "Losses 160 {'ner': 723.7827793755963}\n",
      "Losses 161 {'ner': 724.3320633559476}\n",
      "Losses 162 {'ner': 613.8110835051949}\n",
      "Losses 163 {'ner': 627.4515264375441}\n",
      "Losses 164 {'ner': 679.7963023120082}\n",
      "Losses 165 {'ner': 574.8320110565629}\n",
      "Losses 166 {'ner': 670.488904933381}\n",
      "Losses 167 {'ner': 721.0001743922351}\n",
      "Losses 168 {'ner': 642.139951511232}\n",
      "Losses 169 {'ner': 642.8749377162951}\n",
      "Losses 170 {'ner': 581.0846170972981}\n",
      "Losses 171 {'ner': 680.5143434917652}\n",
      "Losses 172 {'ner': 645.6190339646873}\n",
      "Losses 173 {'ner': 646.5021359075467}\n",
      "Losses 174 {'ner': 552.6374679854601}\n",
      "Losses 175 {'ner': 644.6429192014376}\n",
      "Losses 176 {'ner': 542.7786883851495}\n",
      "Losses 177 {'ner': 698.8281555851887}\n",
      "Losses 178 {'ner': 671.098224453556}\n",
      "Losses 179 {'ner': 645.7585579421965}\n",
      "Losses 180 {'ner': 620.4791010264504}\n",
      "Losses 181 {'ner': 609.295065251341}\n",
      "Losses 182 {'ner': 700.0405842399902}\n",
      "Losses 183 {'ner': 627.6772381855227}\n",
      "Losses 184 {'ner': 657.1451356252542}\n",
      "Losses 185 {'ner': 596.3757586556585}\n",
      "Losses 186 {'ner': 572.8947947249804}\n",
      "Losses 187 {'ner': 662.8514303967615}\n",
      "Losses 188 {'ner': 537.9083379221947}\n",
      "Losses 189 {'ner': 647.9938806719656}\n",
      "Losses 190 {'ner': 689.4818994279062}\n",
      "Losses 191 {'ner': 593.3665677250917}\n",
      "Losses 192 {'ner': 577.2181117660895}\n",
      "Losses 193 {'ner': 588.7584051518558}\n",
      "Losses 194 {'ner': 581.2590543154694}\n",
      "Losses 195 {'ner': 590.2232576456915}\n",
      "Losses 196 {'ner': 578.389469568622}\n",
      "Losses 197 {'ner': 575.3352670621439}\n",
      "Losses 198 {'ner': 629.3714572297761}\n",
      "Losses 199 {'ner': 563.7592840514181}\n",
      "CPU times: user 14h 40min 37s, sys: 14min 58s, total: 14h 55min 35s\n",
      "Wall time: 3h 44min 13s\n"
     ]
    }
   ],
   "source": [
    "%%time\n",
    "# Train type = 'Scratch' (learn from scratch), 'Transform' (transform learning)\n",
    "# Langauge = 'English', 'Multi' (Only matters if train_type is 'Transform')\n",
    "# batch_type = 'Full' (slower), 'mini' (faster)\n",
    "# n_iter = number of iteration\n",
    "# TRAIN_DATA = The training data\n",
    "nlp=my_model('Scratch', 'English', 'mini', 200, TRAIN_DATA)"
   ]
  },
  {
   "cell_type": "markdown",
   "metadata": {},
   "source": [
    "## 5. Saving The Model"
   ]
  },
  {
   "cell_type": "code",
   "execution_count": 24,
   "metadata": {},
   "outputs": [
    {
     "name": "stdout",
     "output_type": "stream",
     "text": [
      "Saved model to /Users/farukakbar/Desktop/ner_products/model\n"
     ]
    }
   ],
   "source": [
    "# save model to output directory\n",
    "output_dir=Path(\"/Users/farukakbar/Desktop/ner_products/model\")\n",
    "if output_dir is not None:\n",
    "    output_dir = Path(output_dir)\n",
    "    if not output_dir.exists():\n",
    "        output_dir.mkdir()\n",
    "    nlp.to_disk(output_dir)\n",
    "    print(\"Saved model to\", output_dir)\n",
    "\n",
    "    # test the saved model\n",
    "    #print(\"Loading from\", output_dir)\n",
    "    #nlp2 = spacy.load(output_dir)\n",
    "    #for text, _ in TRAIN_DATA:\n",
    "    #    doc = nlp2(text)\n",
    "    #    print(\"Entities\", [(ent.text, ent.label_) for ent in doc.ents])\n",
    "    #    #print(\"Tokens\", [(t.text, t.ent_type_, t.ent_iob) for t in doc])"
   ]
  },
  {
   "cell_type": "markdown",
   "metadata": {},
   "source": [
    "## 6. Results"
   ]
  },
  {
   "cell_type": "code",
   "execution_count": 25,
   "metadata": {},
   "outputs": [],
   "source": [
    "# Entity and Entity Types output\n",
    "def ent_output(nlp_doc):\n",
    "    ent_dict={}\n",
    "    entity_list=list(doc.ents) \n",
    "    for item in entity_list:\n",
    "        ent_dict[item]=item.label_\n",
    "        #print(item, item.label_)\n",
    "    print(ent_dict)"
   ]
  },
  {
   "cell_type": "markdown",
   "metadata": {},
   "source": [
    "### 1) Results on the trained data"
   ]
  },
  {
   "cell_type": "code",
   "execution_count": 26,
   "metadata": {},
   "outputs": [
    {
     "data": {
      "text/html": [
       "<span class=\"tex2jax_ignore\"><div class=\"entities\" style=\"line-height: 2.5; direction: ltr\">Coconut Aminos \n",
       "<mark class=\"entity\" style=\"background: #ddd; padding: 0.45em 0.6em; margin: 0 0.25em; line-height: 1; border-radius: 0.35em;\">\n",
       "    237 ml\n",
       "    <span style=\"font-size: 0.8em; font-weight: bold; line-height: 1; border-radius: 0.35em; text-transform: uppercase; vertical-align: middle; margin-left: 0.5rem\">SIZE</span>\n",
       "</mark>\n",
       "</div></span>"
      ],
      "text/plain": [
       "<IPython.core.display.HTML object>"
      ]
     },
     "metadata": {},
     "output_type": "display_data"
    },
    {
     "name": "stdout",
     "output_type": "stream",
     "text": [
      "{237 ml: 'SIZE'}\n"
     ]
    },
    {
     "data": {
      "text/html": [
       "<span class=\"tex2jax_ignore\"><div class=\"entities\" style=\"line-height: 2.5; direction: ltr\">Bold Instinct EdT - \n",
       "<mark class=\"entity\" style=\"background: #ddd; padding: 0.45em 0.6em; margin: 0 0.25em; line-height: 1; border-radius: 0.35em;\">\n",
       "    30 ml\n",
       "    <span style=\"font-size: 0.8em; font-weight: bold; line-height: 1; border-radius: 0.35em; text-transform: uppercase; vertical-align: middle; margin-left: 0.5rem\">SIZE</span>\n",
       "</mark>\n",
       "</div></span>"
      ],
      "text/plain": [
       "<IPython.core.display.HTML object>"
      ]
     },
     "metadata": {},
     "output_type": "display_data"
    },
    {
     "name": "stdout",
     "output_type": "stream",
     "text": [
      "{30 ml: 'SIZE'}\n"
     ]
    },
    {
     "data": {
      "text/html": [
       "<span class=\"tex2jax_ignore\"><div class=\"entities\" style=\"line-height: 2.5; direction: ltr\">\n",
       "<mark class=\"entity\" style=\"background: #ddd; padding: 0.45em 0.6em; margin: 0 0.25em; line-height: 1; border-radius: 0.35em;\">\n",
       "    Vac-U-Lock\n",
       "    <span style=\"font-size: 0.8em; font-weight: bold; line-height: 1; border-radius: 0.35em; text-transform: uppercase; vertical-align: middle; margin-left: 0.5rem\">BRAND</span>\n",
       "</mark>\n",
       " Valjaat E20093</div></span>"
      ],
      "text/plain": [
       "<IPython.core.display.HTML object>"
      ]
     },
     "metadata": {},
     "output_type": "display_data"
    },
    {
     "name": "stdout",
     "output_type": "stream",
     "text": [
      "{Vac-U-Lock: 'BRAND'}\n"
     ]
    },
    {
     "data": {
      "text/html": [
       "<span class=\"tex2jax_ignore\"><div class=\"entities\" style=\"line-height: 2.5; direction: ltr\">Nilkkurit \n",
       "<mark class=\"entity\" style=\"background: #ddd; padding: 0.45em 0.6em; margin: 0 0.25em; line-height: 1; border-radius: 0.35em;\">\n",
       "    Terra plana\n",
       "    <span style=\"font-size: 0.8em; font-weight: bold; line-height: 1; border-radius: 0.35em; text-transform: uppercase; vertical-align: middle; margin-left: 0.5rem\">BRAND</span>\n",
       "</mark>\n",
       "  GINGER ANKLE</div></span>"
      ],
      "text/plain": [
       "<IPython.core.display.HTML object>"
      ]
     },
     "metadata": {},
     "output_type": "display_data"
    },
    {
     "name": "stdout",
     "output_type": "stream",
     "text": [
      "{Terra plana: 'BRAND'}\n"
     ]
    },
    {
     "data": {
      "text/html": [
       "<span class=\"tex2jax_ignore\"><div class=\"entities\" style=\"line-height: 2.5; direction: ltr\">\n",
       "<mark class=\"entity\" style=\"background: #ddd; padding: 0.45em 0.6em; margin: 0 0.25em; line-height: 1; border-radius: 0.35em;\">\n",
       "    Feather\n",
       "    <span style=\"font-size: 0.8em; font-weight: bold; line-height: 1; border-radius: 0.35em; text-transform: uppercase; vertical-align: middle; margin-left: 0.5rem\">BRAND</span>\n",
       "</mark>\n",
       " Double Edge Razor Blades 10-Pcs</div></span>"
      ],
      "text/plain": [
       "<IPython.core.display.HTML object>"
      ]
     },
     "metadata": {},
     "output_type": "display_data"
    },
    {
     "name": "stdout",
     "output_type": "stream",
     "text": [
      "{Feather: 'BRAND'}\n"
     ]
    },
    {
     "data": {
      "text/html": [
       "<span class=\"tex2jax_ignore\"><div class=\"entities\" style=\"line-height: 2.5; direction: ltr\">Herringb Bracelet \n",
       "<mark class=\"entity\" style=\"background: #ddd; padding: 0.45em 0.6em; margin: 0 0.25em; line-height: 1; border-radius: 0.35em;\">\n",
       "    Gold\n",
       "    <span style=\"font-size: 0.8em; font-weight: bold; line-height: 1; border-radius: 0.35em; text-transform: uppercase; vertical-align: middle; margin-left: 0.5rem\">COLOR</span>\n",
       "</mark>\n",
       " Accessories Jewellery Bracelets Chain Bracelets \n",
       "<mark class=\"entity\" style=\"background: #ddd; padding: 0.45em 0.6em; margin: 0 0.25em; line-height: 1; border-radius: 0.35em;\">\n",
       "    Kulta\n",
       "    <span style=\"font-size: 0.8em; font-weight: bold; line-height: 1; border-radius: 0.35em; text-transform: uppercase; vertical-align: middle; margin-left: 0.5rem\">COLOR</span>\n",
       "</mark>\n",
       " \n",
       "<mark class=\"entity\" style=\"background: #ddd; padding: 0.45em 0.6em; margin: 0 0.25em; line-height: 1; border-radius: 0.35em;\">\n",
       "    Syster P\n",
       "    <span style=\"font-size: 0.8em; font-weight: bold; line-height: 1; border-radius: 0.35em; text-transform: uppercase; vertical-align: middle; margin-left: 0.5rem\">BRAND</span>\n",
       "</mark>\n",
       "</div></span>"
      ],
      "text/plain": [
       "<IPython.core.display.HTML object>"
      ]
     },
     "metadata": {},
     "output_type": "display_data"
    },
    {
     "name": "stdout",
     "output_type": "stream",
     "text": [
      "{Gold: 'COLOR', Kulta: 'COLOR', Syster P: 'BRAND'}\n"
     ]
    },
    {
     "data": {
      "text/html": [
       "<span class=\"tex2jax_ignore\"><div class=\"entities\" style=\"line-height: 2.5; direction: ltr\">\n",
       "<mark class=\"entity\" style=\"background: #ddd; padding: 0.45em 0.6em; margin: 0 0.25em; line-height: 1; border-radius: 0.35em;\">\n",
       "    Fairtex\n",
       "    <span style=\"font-size: 0.8em; font-weight: bold; line-height: 1; border-radius: 0.35em; text-transform: uppercase; vertical-align: middle; margin-left: 0.5rem\">BRAND</span>\n",
       "</mark>\n",
       " BS1708, Muay Thai Shorts, \n",
       "<mark class=\"entity\" style=\"background: #ddd; padding: 0.45em 0.6em; margin: 0 0.25em; line-height: 1; border-radius: 0.35em;\">\n",
       "    Black\n",
       "    <span style=\"font-size: 0.8em; font-weight: bold; line-height: 1; border-radius: 0.35em; text-transform: uppercase; vertical-align: middle; margin-left: 0.5rem\">COLOR</span>\n",
       "</mark>\n",
       "</div></span>"
      ],
      "text/plain": [
       "<IPython.core.display.HTML object>"
      ]
     },
     "metadata": {},
     "output_type": "display_data"
    },
    {
     "name": "stdout",
     "output_type": "stream",
     "text": [
      "{Fairtex: 'BRAND', Black: 'COLOR'}\n"
     ]
    },
    {
     "data": {
      "text/html": [
       "<span class=\"tex2jax_ignore\"><div class=\"entities\" style=\"line-height: 2.5; direction: ltr\">Salt matto iso concrete \n",
       "<mark class=\"entity\" style=\"background: #ddd; padding: 0.45em 0.6em; margin: 0 0.25em; line-height: 1; border-radius: 0.35em;\">\n",
       "    (harmaa)\n",
       "    <span style=\"font-size: 0.8em; font-weight: bold; line-height: 1; border-radius: 0.35em; text-transform: uppercase; vertical-align: middle; margin-left: 0.5rem\">COLOR</span>\n",
       "</mark>\n",
       " \n",
       "<mark class=\"entity\" style=\"background: #ddd; padding: 0.45em 0.6em; margin: 0 0.25em; line-height: 1; border-radius: 0.35em;\">\n",
       "    170x250 cm\n",
       "    <span style=\"font-size: 0.8em; font-weight: bold; line-height: 1; border-radius: 0.35em; text-transform: uppercase; vertical-align: middle; margin-left: 0.5rem\">SIZE</span>\n",
       "</mark>\n",
       "</div></span>"
      ],
      "text/plain": [
       "<IPython.core.display.HTML object>"
      ]
     },
     "metadata": {},
     "output_type": "display_data"
    },
    {
     "name": "stdout",
     "output_type": "stream",
     "text": [
      "{(harmaa): 'COLOR', 170x250 cm: 'SIZE'}\n"
     ]
    },
    {
     "data": {
      "text/html": [
       "<span class=\"tex2jax_ignore\"><div class=\"entities\" style=\"line-height: 2.5; direction: ltr\">\n",
       "<mark class=\"entity\" style=\"background: #ddd; padding: 0.45em 0.6em; margin: 0 0.25em; line-height: 1; border-radius: 0.35em;\">\n",
       "    Yin\n",
       "    <span style=\"font-size: 0.8em; font-weight: bold; line-height: 1; border-radius: 0.35em; text-transform: uppercase; vertical-align: middle; margin-left: 0.5rem\">BRAND</span>\n",
       "</mark>\n",
       " Your Skin JALO Advanced Gua Sha Kasvolasta</div></span>"
      ],
      "text/plain": [
       "<IPython.core.display.HTML object>"
      ]
     },
     "metadata": {},
     "output_type": "display_data"
    },
    {
     "name": "stdout",
     "output_type": "stream",
     "text": [
      "{Yin: 'BRAND'}\n"
     ]
    },
    {
     "data": {
      "text/html": [
       "<span class=\"tex2jax_ignore\"><div class=\"entities\" style=\"line-height: 2.5; direction: ltr\">Kaksipuolinen perinteinen partaterä, jollaista käytetään kaksipuolisissa partahöylissä sekä puolitettuna esim. pienemmissä vaihtoteräisissä veitsissä.Rapira Swedish Supersteel on tunnettu terävyydestään ja onkin siksi sopiva sinulle, joka jo osaat perinteisen ajotyylin perusteet.Kuinka kauan partaterä pysyy miellyttävän terävänä ajossa riippuu terän ja karvan laadusta, käytetyistä aineista sekä ajotekniikasta.Useimmiten yhdellä terällä ajelee \n",
       "<mark class=\"entity\" style=\"background: #ddd; padding: 0.45em 0.6em; margin: 0 0.25em; line-height: 1; border-radius: 0.35em;\">\n",
       "    4-7\n",
       "    <span style=\"font-size: 0.8em; font-weight: bold; line-height: 1; border-radius: 0.35em; text-transform: uppercase; vertical-align: middle; margin-left: 0.5rem\">SIZE</span>\n",
       "</mark>\n",
       " kertaa. Sen jälkeen sen voi hävittää metallijätteen mukana.</div></span>"
      ],
      "text/plain": [
       "<IPython.core.display.HTML object>"
      ]
     },
     "metadata": {},
     "output_type": "display_data"
    },
    {
     "name": "stdout",
     "output_type": "stream",
     "text": [
      "{4-7: 'SIZE'}\n"
     ]
    },
    {
     "data": {
      "text/html": [
       "<span class=\"tex2jax_ignore\"><div class=\"entities\" style=\"line-height: 2.5; direction: ltr\">\n",
       "<mark class=\"entity\" style=\"background: #ddd; padding: 0.45em 0.6em; margin: 0 0.25em; line-height: 1; border-radius: 0.35em;\">\n",
       "    Raid\n",
       "    <span style=\"font-size: 0.8em; font-weight: bold; line-height: 1; border-radius: 0.35em; text-transform: uppercase; vertical-align: middle; margin-left: 0.5rem\">BRAND</span>\n",
       "</mark>\n",
       " Gladdin - \n",
       "<mark class=\"entity\" style=\"background: #ddd; padding: 0.45em 0.6em; margin: 0 0.25em; line-height: 1; border-radius: 0.35em;\">\n",
       "    Black\n",
       "    <span style=\"font-size: 0.8em; font-weight: bold; line-height: 1; border-radius: 0.35em; text-transform: uppercase; vertical-align: middle; margin-left: 0.5rem\">COLOR</span>\n",
       "</mark>\n",
       "</div></span>"
      ],
      "text/plain": [
       "<IPython.core.display.HTML object>"
      ]
     },
     "metadata": {},
     "output_type": "display_data"
    },
    {
     "name": "stdout",
     "output_type": "stream",
     "text": [
      "{Raid: 'BRAND', Black: 'COLOR'}\n"
     ]
    },
    {
     "data": {
      "text/html": [
       "<span class=\"tex2jax_ignore\"><div class=\"entities\" style=\"line-height: 2.5; direction: ltr\">Kengät \n",
       "<mark class=\"entity\" style=\"background: #ddd; padding: 0.45em 0.6em; margin: 0 0.25em; line-height: 1; border-radius: 0.35em;\">\n",
       "    Pitillos\n",
       "    <span style=\"font-size: 0.8em; font-weight: bold; line-height: 1; border-radius: 0.35em; text-transform: uppercase; vertical-align: middle; margin-left: 0.5rem\">BRAND</span>\n",
       "</mark>\n",
       "  MANOULI</div></span>"
      ],
      "text/plain": [
       "<IPython.core.display.HTML object>"
      ]
     },
     "metadata": {},
     "output_type": "display_data"
    },
    {
     "name": "stdout",
     "output_type": "stream",
     "text": [
      "{Pitillos: 'BRAND'}\n"
     ]
    },
    {
     "data": {
      "text/html": [
       "<span class=\"tex2jax_ignore\"><div class=\"entities\" style=\"line-height: 2.5; direction: ltr\">\n",
       "<mark class=\"entity\" style=\"background: #ddd; padding: 0.45em 0.6em; margin: 0 0.25em; line-height: 1; border-radius: 0.35em;\">\n",
       "    Spot-Hogg\n",
       "    <span style=\"font-size: 0.8em; font-weight: bold; line-height: 1; border-radius: 0.35em; text-transform: uppercase; vertical-align: middle; margin-left: 0.5rem\">BRAND</span>\n",
       "</mark>\n",
       " Friday Night metsästäjälle suunniteltu laukaisulaite. Hienoilla ominaisuuksilla varustettu. Mm. avoimella leualla joka mahdollistaa nopean ja helpon laukaisun juuri oikealla hetkellä.</div></span>"
      ],
      "text/plain": [
       "<IPython.core.display.HTML object>"
      ]
     },
     "metadata": {},
     "output_type": "display_data"
    },
    {
     "name": "stdout",
     "output_type": "stream",
     "text": [
      "{Spot-Hogg: 'BRAND'}\n"
     ]
    },
    {
     "data": {
      "text/html": [
       "<span class=\"tex2jax_ignore\"><div class=\"entities\" style=\"line-height: 2.5; direction: ltr\">\n",
       "<mark class=\"entity\" style=\"background: #ddd; padding: 0.45em 0.6em; margin: 0 0.25em; line-height: 1; border-radius: 0.35em;\">\n",
       "    Van Well\n",
       "    <span style=\"font-size: 0.8em; font-weight: bold; line-height: 1; border-radius: 0.35em; text-transform: uppercase; vertical-align: middle; margin-left: 0.5rem\">BRAND</span>\n",
       "</mark>\n",
       " -merkkinen kahviastiasto viimeistelee kattauksen. Astiasto on valmistettu posliinista. Tilaat astiaston vaivattomasti verkkokaupastamme. Verkko-ostosten teko on nopeaa ja turvallista!</div></span>"
      ],
      "text/plain": [
       "<IPython.core.display.HTML object>"
      ]
     },
     "metadata": {},
     "output_type": "display_data"
    },
    {
     "name": "stdout",
     "output_type": "stream",
     "text": [
      "{Van Well: 'BRAND'}\n"
     ]
    },
    {
     "data": {
      "text/html": [
       "<span class=\"tex2jax_ignore\"><div class=\"entities\" style=\"line-height: 2.5; direction: ltr\">\n",
       "<mark class=\"entity\" style=\"background: #ddd; padding: 0.45em 0.6em; margin: 0 0.25em; line-height: 1; border-radius: 0.35em;\">\n",
       "    Coach\n",
       "    <span style=\"font-size: 0.8em; font-weight: bold; line-height: 1; border-radius: 0.35em; text-transform: uppercase; vertical-align: middle; margin-left: 0.5rem\">BRAND</span>\n",
       "</mark>\n",
       " HC6104 Silmälasit. Collection:Women. Kehyksen Väri: \n",
       "<mark class=\"entity\" style=\"background: #ddd; padding: 0.45em 0.6em; margin: 0 0.25em; line-height: 1; border-radius: 0.35em;\">\n",
       "    Dark Honey\n",
       "    <span style=\"font-size: 0.8em; font-weight: bold; line-height: 1; border-radius: 0.35em; text-transform: uppercase; vertical-align: middle; margin-left: 0.5rem\">COLOR</span>\n",
       "</mark>\n",
       " Solid. Kehysmateriaali: \n",
       "<mark class=\"entity\" style=\"background: #ddd; padding: 0.45em 0.6em; margin: 0 0.25em; line-height: 1; border-radius: 0.35em;\">\n",
       "    Plastic.\n",
       "    <span style=\"font-size: 0.8em; font-weight: bold; line-height: 1; border-radius: 0.35em; text-transform: uppercase; vertical-align: middle; margin-left: 0.5rem\">MATERIAL</span>\n",
       "</mark>\n",
       " Koko: \n",
       "<mark class=\"entity\" style=\"background: #ddd; padding: 0.45em 0.6em; margin: 0 0.25em; line-height: 1; border-radius: 0.35em;\">\n",
       "    50.\n",
       "    <span style=\"font-size: 0.8em; font-weight: bold; line-height: 1; border-radius: 0.35em; text-transform: uppercase; vertical-align: middle; margin-left: 0.5rem\">SIZE</span>\n",
       "</mark>\n",
       "</div></span>"
      ],
      "text/plain": [
       "<IPython.core.display.HTML object>"
      ]
     },
     "metadata": {},
     "output_type": "display_data"
    },
    {
     "name": "stdout",
     "output_type": "stream",
     "text": [
      "{Coach: 'BRAND', Dark Honey: 'COLOR', Plastic.: 'MATERIAL', 50.: 'SIZE'}\n"
     ]
    },
    {
     "data": {
      "text/html": [
       "<span class=\"tex2jax_ignore\"><div class=\"entities\" style=\"line-height: 2.5; direction: ltr\">Villavuoritetut nahkahanskat \n",
       "<mark class=\"entity\" style=\"background: #ddd; padding: 0.45em 0.6em; margin: 0 0.25em; line-height: 1; border-radius: 0.35em;\">\n",
       "    Seeberger\n",
       "    <span style=\"font-size: 0.8em; font-weight: bold; line-height: 1; border-radius: 0.35em; text-transform: uppercase; vertical-align: middle; margin-left: 0.5rem\">BRAND</span>\n",
       "</mark>\n",
       " \n",
       "<mark class=\"entity\" style=\"background: #ddd; padding: 0.45em 0.6em; margin: 0 0.25em; line-height: 1; border-radius: 0.35em;\">\n",
       "    Punainen\n",
       "    <span style=\"font-size: 0.8em; font-weight: bold; line-height: 1; border-radius: 0.35em; text-transform: uppercase; vertical-align: middle; margin-left: 0.5rem\">COLOR</span>\n",
       "</mark>\n",
       "</div></span>"
      ],
      "text/plain": [
       "<IPython.core.display.HTML object>"
      ]
     },
     "metadata": {},
     "output_type": "display_data"
    },
    {
     "name": "stdout",
     "output_type": "stream",
     "text": [
      "{Seeberger: 'BRAND', Punainen: 'COLOR'}\n"
     ]
    },
    {
     "data": {
      "text/html": [
       "<span class=\"tex2jax_ignore\"><div class=\"entities\" style=\"line-height: 2.5; direction: ltr\">Lompakot hexagona - \n",
       "<mark class=\"entity\" style=\"background: #ddd; padding: 0.45em 0.6em; margin: 0 0.25em; line-height: 1; border-radius: 0.35em;\">\n",
       "    black\n",
       "    <span style=\"font-size: 0.8em; font-weight: bold; line-height: 1; border-radius: 0.35em; text-transform: uppercase; vertical-align: middle; margin-left: 0.5rem\">COLOR</span>\n",
       "</mark>\n",
       " saatavana \n",
       "<mark class=\"entity\" style=\"background: #ddd; padding: 0.45em 0.6em; margin: 0 0.25em; line-height: 1; border-radius: 0.35em;\">\n",
       "    naisten\n",
       "    <span style=\"font-size: 0.8em; font-weight: bold; line-height: 1; border-radius: 0.35em; text-transform: uppercase; vertical-align: middle; margin-left: 0.5rem\">GENDER</span>\n",
       "</mark>\n",
       " kokoja \n",
       "<mark class=\"entity\" style=\"background: #ddd; padding: 0.45em 0.6em; margin: 0 0.25em; line-height: 1; border-radius: 0.35em;\">\n",
       "    yksi koko\n",
       "    <span style=\"font-size: 0.8em; font-weight: bold; line-height: 1; border-radius: 0.35em; text-transform: uppercase; vertical-align: middle; margin-left: 0.5rem\">SIZE</span>\n",
       "</mark>\n",
       "</div></span>"
      ],
      "text/plain": [
       "<IPython.core.display.HTML object>"
      ]
     },
     "metadata": {},
     "output_type": "display_data"
    },
    {
     "name": "stdout",
     "output_type": "stream",
     "text": [
      "{black: 'COLOR', naisten: 'GENDER', yksi koko: 'SIZE'}\n"
     ]
    },
    {
     "data": {
      "text/html": [
       "<span class=\"tex2jax_ignore\"><div class=\"entities\" style=\"line-height: 2.5; direction: ltr\">\n",
       "<mark class=\"entity\" style=\"background: #ddd; padding: 0.45em 0.6em; margin: 0 0.25em; line-height: 1; border-radius: 0.35em;\">\n",
       "    Serengeti\n",
       "    <span style=\"font-size: 0.8em; font-weight: bold; line-height: 1; border-radius: 0.35em; text-transform: uppercase; vertical-align: middle; margin-left: 0.5rem\">BRAND</span>\n",
       "</mark>\n",
       " Aurinkolasit Lela 8942</div></span>"
      ],
      "text/plain": [
       "<IPython.core.display.HTML object>"
      ]
     },
     "metadata": {},
     "output_type": "display_data"
    },
    {
     "name": "stdout",
     "output_type": "stream",
     "text": [
      "{Serengeti: 'BRAND'}\n"
     ]
    },
    {
     "data": {
      "text/html": [
       "<span class=\"tex2jax_ignore\"><div class=\"entities\" style=\"line-height: 2.5; direction: ltr\">\n",
       "<mark class=\"entity\" style=\"background: #ddd; padding: 0.45em 0.6em; margin: 0 0.25em; line-height: 1; border-radius: 0.35em;\">\n",
       "    Tyrex\n",
       "    <span style=\"font-size: 0.8em; font-weight: bold; line-height: 1; border-radius: 0.35em; text-transform: uppercase; vertical-align: middle; margin-left: 0.5rem\">BRAND</span>\n",
       "</mark>\n",
       " FR-401 ( 295/80 R22.5 152/148M 18PR kaksoistunnus  152/148K )</div></span>"
      ],
      "text/plain": [
       "<IPython.core.display.HTML object>"
      ]
     },
     "metadata": {},
     "output_type": "display_data"
    },
    {
     "name": "stdout",
     "output_type": "stream",
     "text": [
      "{Tyrex: 'BRAND'}\n"
     ]
    },
    {
     "data": {
      "text/html": [
       "<span class=\"tex2jax_ignore\"><div class=\"entities\" style=\"line-height: 2.5; direction: ltr\">\n",
       "<mark class=\"entity\" style=\"background: #ddd; padding: 0.45em 0.6em; margin: 0 0.25em; line-height: 1; border-radius: 0.35em;\">\n",
       "    Vanilla\n",
       "    <span style=\"font-size: 0.8em; font-weight: bold; line-height: 1; border-radius: 0.35em; text-transform: uppercase; vertical-align: middle; margin-left: 0.5rem\">COLOR</span>\n",
       "</mark>\n",
       " \n",
       "<mark class=\"entity\" style=\"background: #ddd; padding: 0.45em 0.6em; margin: 0 0.25em; line-height: 1; border-radius: 0.35em;\">\n",
       "    XS\n",
       "    <span style=\"font-size: 0.8em; font-weight: bold; line-height: 1; border-radius: 0.35em; text-transform: uppercase; vertical-align: middle; margin-left: 0.5rem\">SIZE</span>\n",
       "</mark>\n",
       " Jäätelökone valmistaa jäätelön jopa 1.5-2 tunnissa. Erilliset ohjelmat kovalle, tai pehmeälle jäätelölle.</div></span>"
      ],
      "text/plain": [
       "<IPython.core.display.HTML object>"
      ]
     },
     "metadata": {},
     "output_type": "display_data"
    },
    {
     "name": "stdout",
     "output_type": "stream",
     "text": [
      "{Vanilla: 'COLOR', XS: 'SIZE'}\n"
     ]
    },
    {
     "data": {
      "text/html": [
       "<span class=\"tex2jax_ignore\"><div class=\"entities\" style=\"line-height: 2.5; direction: ltr\">\n",
       "<mark class=\"entity\" style=\"background: #ddd; padding: 0.45em 0.6em; margin: 0 0.25em; line-height: 1; border-radius: 0.35em;\">\n",
       "    Eos\n",
       "    <span style=\"font-size: 0.8em; font-weight: bold; line-height: 1; border-radius: 0.35em; text-transform: uppercase; vertical-align: middle; margin-left: 0.5rem\">BRAND</span>\n",
       "</mark>\n",
       " valaisin \n",
       "<mark class=\"entity\" style=\"background: #ddd; padding: 0.45em 0.6em; margin: 0 0.25em; line-height: 1; border-radius: 0.35em;\">\n",
       "    vaaleanruskea\n",
       "    <span style=\"font-size: 0.8em; font-weight: bold; line-height: 1; border-radius: 0.35em; text-transform: uppercase; vertical-align: middle; margin-left: 0.5rem\">COLOR</span>\n",
       "</mark>\n",
       " x-large Ø \n",
       "<mark class=\"entity\" style=\"background: #ddd; padding: 0.45em 0.6em; margin: 0 0.25em; line-height: 1; border-radius: 0.35em;\">\n",
       "    75 cm\n",
       "    <span style=\"font-size: 0.8em; font-weight: bold; line-height: 1; border-radius: 0.35em; text-transform: uppercase; vertical-align: middle; margin-left: 0.5rem\">SIZE</span>\n",
       "</mark>\n",
       "</div></span>"
      ],
      "text/plain": [
       "<IPython.core.display.HTML object>"
      ]
     },
     "metadata": {},
     "output_type": "display_data"
    },
    {
     "name": "stdout",
     "output_type": "stream",
     "text": [
      "{Eos: 'BRAND', vaaleanruskea: 'COLOR', 75 cm: 'SIZE'}\n"
     ]
    },
    {
     "data": {
      "text/html": [
       "<span class=\"tex2jax_ignore\"><div class=\"entities\" style=\"line-height: 2.5; direction: ltr\">\n",
       "<mark class=\"entity\" style=\"background: #ddd; padding: 0.45em 0.6em; margin: 0 0.25em; line-height: 1; border-radius: 0.35em;\">\n",
       "    Brevi\n",
       "    <span style=\"font-size: 0.8em; font-weight: bold; line-height: 1; border-radius: 0.35em; text-transform: uppercase; vertical-align: middle; margin-left: 0.5rem\">BRAND</span>\n",
       "</mark>\n",
       " seisomalauta Wally on suunniteltu erilaisiin vaunuihin ja rattaisiin sekä matkarattaisiin, joissa on jäykkä taka-akseli tai putki. Seisomalautaa saadaan säädettyä korkeus- ja leveyssuunnassa. Helppokäyttöinen! Lisätietoja: Ikä/painoraja: alkaen \n",
       "<mark class=\"entity\" style=\"background: #ddd; padding: 0.45em 0.6em; margin: 0 0.25em; line-height: 1; border-radius: 0.35em;\">\n",
       "    15\n",
       "    <span style=\"font-size: 0.8em; font-weight: bold; line-height: 1; border-radius: 0.35em; text-transform: uppercase; vertical-align: middle; margin-left: 0.5rem\">SIZE</span>\n",
       "</mark>\n",
       " kk aina \n",
       "<mark class=\"entity\" style=\"background: #ddd; padding: 0.45em 0.6em; margin: 0 0.25em; line-height: 1; border-radius: 0.35em;\">\n",
       "    20 kg\n",
       "    <span style=\"font-size: 0.8em; font-weight: bold; line-height: 1; border-radius: 0.35em; text-transform: uppercase; vertical-align: middle; margin-left: 0.5rem\">WEIGHT</span>\n",
       "</mark>\n",
       " asti</div></span>"
      ],
      "text/plain": [
       "<IPython.core.display.HTML object>"
      ]
     },
     "metadata": {},
     "output_type": "display_data"
    },
    {
     "name": "stdout",
     "output_type": "stream",
     "text": [
      "{Brevi: 'BRAND', 15: 'SIZE', 20 kg: 'WEIGHT'}\n"
     ]
    },
    {
     "data": {
      "text/html": [
       "<span class=\"tex2jax_ignore\"><div class=\"entities\" style=\"line-height: 2.5; direction: ltr\">\n",
       "<mark class=\"entity\" style=\"background: #ddd; padding: 0.45em 0.6em; margin: 0 0.25em; line-height: 1; border-radius: 0.35em;\">\n",
       "    WineQueen\n",
       "    <span style=\"font-size: 0.8em; font-weight: bold; line-height: 1; border-radius: 0.35em; text-transform: uppercase; vertical-align: middle; margin-left: 0.5rem\">BRAND</span>\n",
       "</mark>\n",
       " 45/86</div></span>"
      ],
      "text/plain": [
       "<IPython.core.display.HTML object>"
      ]
     },
     "metadata": {},
     "output_type": "display_data"
    },
    {
     "name": "stdout",
     "output_type": "stream",
     "text": [
      "{WineQueen: 'BRAND'}\n"
     ]
    },
    {
     "data": {
      "text/html": [
       "<span class=\"tex2jax_ignore\"><div class=\"entities\" style=\"line-height: 2.5; direction: ltr\">\n",
       "<mark class=\"entity\" style=\"background: #ddd; padding: 0.45em 0.6em; margin: 0 0.25em; line-height: 1; border-radius: 0.35em;\">\n",
       "    Petrol\n",
       "    <span style=\"font-size: 0.8em; font-weight: bold; line-height: 1; border-radius: 0.35em; text-transform: uppercase; vertical-align: middle; margin-left: 0.5rem\">BRAND</span>\n",
       "</mark>\n",
       " Pitkähihainen Pusero Paita \n",
       "<mark class=\"entity\" style=\"background: #ddd; padding: 0.45em 0.6em; margin: 0 0.25em; line-height: 1; border-radius: 0.35em;\">\n",
       "    Vaaleanpunainen\n",
       "    <span style=\"font-size: 0.8em; font-weight: bold; line-height: 1; border-radius: 0.35em; text-transform: uppercase; vertical-align: middle; margin-left: 0.5rem\">COLOR</span>\n",
       "</mark>\n",
       " \n",
       "<mark class=\"entity\" style=\"background: #ddd; padding: 0.45em 0.6em; margin: 0 0.25em; line-height: 1; border-radius: 0.35em;\">\n",
       "    MbyM\n",
       "    <span style=\"font-size: 0.8em; font-weight: bold; line-height: 1; border-radius: 0.35em; text-transform: uppercase; vertical-align: middle; margin-left: 0.5rem\">BRAND</span>\n",
       "</mark>\n",
       "</div></span>"
      ],
      "text/plain": [
       "<IPython.core.display.HTML object>"
      ]
     },
     "metadata": {},
     "output_type": "display_data"
    },
    {
     "name": "stdout",
     "output_type": "stream",
     "text": [
      "{Petrol: 'BRAND', Vaaleanpunainen: 'COLOR', MbyM: 'BRAND'}\n"
     ]
    },
    {
     "data": {
      "text/html": [
       "<span class=\"tex2jax_ignore\"><div class=\"entities\" style=\"line-height: 2.5; direction: ltr\">\n",
       "<mark class=\"entity\" style=\"background: #ddd; padding: 0.45em 0.6em; margin: 0 0.25em; line-height: 1; border-radius: 0.35em;\">\n",
       "    TOPModel\n",
       "    <span style=\"font-size: 0.8em; font-weight: bold; line-height: 1; border-radius: 0.35em; text-transform: uppercase; vertical-align: middle; margin-left: 0.5rem\">BRAND</span>\n",
       "</mark>\n",
       " Värityskirja Glamour</div></span>"
      ],
      "text/plain": [
       "<IPython.core.display.HTML object>"
      ]
     },
     "metadata": {},
     "output_type": "display_data"
    },
    {
     "name": "stdout",
     "output_type": "stream",
     "text": [
      "{TOPModel: 'BRAND'}\n"
     ]
    },
    {
     "data": {
      "text/html": [
       "<span class=\"tex2jax_ignore\"><div class=\"entities\" style=\"line-height: 2.5; direction: ltr\">Roam Jacket Outerwear Sport Jackets \n",
       "<mark class=\"entity\" style=\"background: #ddd; padding: 0.45em 0.6em; margin: 0 0.25em; line-height: 1; border-radius: 0.35em;\">\n",
       "    Keltainen\n",
       "    <span style=\"font-size: 0.8em; font-weight: bold; line-height: 1; border-radius: 0.35em; text-transform: uppercase; vertical-align: middle; margin-left: 0.5rem\">COLOR</span>\n",
       "</mark>\n",
       " \n",
       "<mark class=\"entity\" style=\"background: #ddd; padding: 0.45em 0.6em; margin: 0 0.25em; line-height: 1; border-radius: 0.35em;\">\n",
       "    WearColour\n",
       "    <span style=\"font-size: 0.8em; font-weight: bold; line-height: 1; border-radius: 0.35em; text-transform: uppercase; vertical-align: middle; margin-left: 0.5rem\">BRAND</span>\n",
       "</mark>\n",
       "</div></span>"
      ],
      "text/plain": [
       "<IPython.core.display.HTML object>"
      ]
     },
     "metadata": {},
     "output_type": "display_data"
    },
    {
     "name": "stdout",
     "output_type": "stream",
     "text": [
      "{Keltainen: 'COLOR', WearColour: 'BRAND'}\n"
     ]
    },
    {
     "data": {
      "text/html": [
       "<span class=\"tex2jax_ignore\"><div class=\"entities\" style=\"line-height: 2.5; direction: ltr\">Kynttilänjalka ''You Light Me Up'', \n",
       "<mark class=\"entity\" style=\"background: #ddd; padding: 0.45em 0.6em; margin: 0 0.25em; line-height: 1; border-radius: 0.35em;\">\n",
       "    20 cm\n",
       "    <span style=\"font-size: 0.8em; font-weight: bold; line-height: 1; border-radius: 0.35em; text-transform: uppercase; vertical-align: middle; margin-left: 0.5rem\">SIZE</span>\n",
       "</mark>\n",
       " från \n",
       "<mark class=\"entity\" style=\"background: #ddd; padding: 0.45em 0.6em; margin: 0 0.25em; line-height: 1; border-radius: 0.35em;\">\n",
       "    Goebel\n",
       "    <span style=\"font-size: 0.8em; font-weight: bold; line-height: 1; border-radius: 0.35em; text-transform: uppercase; vertical-align: middle; margin-left: 0.5rem\">BRAND</span>\n",
       "</mark>\n",
       " .</div></span>"
      ],
      "text/plain": [
       "<IPython.core.display.HTML object>"
      ]
     },
     "metadata": {},
     "output_type": "display_data"
    },
    {
     "name": "stdout",
     "output_type": "stream",
     "text": [
      "{20 cm: 'SIZE', Goebel: 'BRAND'}\n"
     ]
    },
    {
     "data": {
      "text/html": [
       "<span class=\"tex2jax_ignore\"><div class=\"entities\" style=\"line-height: 2.5; direction: ltr\">\n",
       "<mark class=\"entity\" style=\"background: #ddd; padding: 0.45em 0.6em; margin: 0 0.25em; line-height: 1; border-radius: 0.35em;\">\n",
       "    Respiro\n",
       "    <span style=\"font-size: 0.8em; font-weight: bold; line-height: 1; border-radius: 0.35em; text-transform: uppercase; vertical-align: middle; margin-left: 0.5rem\">BRAND</span>\n",
       "</mark>\n",
       " Pendant 1, \n",
       "<mark class=\"entity\" style=\"background: #ddd; padding: 0.45em 0.6em; margin: 0 0.25em; line-height: 1; border-radius: 0.35em;\">\n",
       "    Black/Gold\n",
       "    <span style=\"font-size: 0.8em; font-weight: bold; line-height: 1; border-radius: 0.35em; text-transform: uppercase; vertical-align: middle; margin-left: 0.5rem\">COLOR</span>\n",
       "</mark>\n",
       "</div></span>"
      ],
      "text/plain": [
       "<IPython.core.display.HTML object>"
      ]
     },
     "metadata": {},
     "output_type": "display_data"
    },
    {
     "name": "stdout",
     "output_type": "stream",
     "text": [
      "{Respiro: 'BRAND', Black/Gold: 'COLOR'}\n"
     ]
    },
    {
     "data": {
      "text/html": [
       "<span class=\"tex2jax_ignore\"><div class=\"entities\" style=\"line-height: 2.5; direction: ltr\">\n",
       "<mark class=\"entity\" style=\"background: #ddd; padding: 0.45em 0.6em; margin: 0 0.25em; line-height: 1; border-radius: 0.35em;\">\n",
       "    Bio- Nurmikkolannoite\n",
       "    <span style=\"font-size: 0.8em; font-weight: bold; line-height: 1; border-radius: 0.35em; text-transform: uppercase; vertical-align: middle; margin-left: 0.5rem\">BRAND</span>\n",
       "</mark>\n",
       " \n",
       "<mark class=\"entity\" style=\"background: #ddd; padding: 0.45em 0.6em; margin: 0 0.25em; line-height: 1; border-radius: 0.35em;\">\n",
       "    2,5 kg\n",
       "    <span style=\"font-size: 0.8em; font-weight: bold; line-height: 1; border-radius: 0.35em; text-transform: uppercase; vertical-align: middle; margin-left: 0.5rem\">WEIGHT</span>\n",
       "</mark>\n",
       "</div></span>"
      ],
      "text/plain": [
       "<IPython.core.display.HTML object>"
      ]
     },
     "metadata": {},
     "output_type": "display_data"
    },
    {
     "name": "stdout",
     "output_type": "stream",
     "text": [
      "{Bio- Nurmikkolannoite: 'BRAND', 2,5 kg: 'WEIGHT'}\n"
     ]
    },
    {
     "data": {
      "text/html": [
       "<span class=\"tex2jax_ignore\"><div class=\"entities\" style=\"line-height: 2.5; direction: ltr\">\n",
       "<mark class=\"entity\" style=\"background: #ddd; padding: 0.45em 0.6em; margin: 0 0.25em; line-height: 1; border-radius: 0.35em;\">\n",
       "    FAYT\n",
       "    <span style=\"font-size: 0.8em; font-weight: bold; line-height: 1; border-radius: 0.35em; text-transform: uppercase; vertical-align: middle; margin-left: 0.5rem\">BRAND</span>\n",
       "</mark>\n",
       " Porter Blazer - \n",
       "<mark class=\"entity\" style=\"background: #ddd; padding: 0.45em 0.6em; margin: 0 0.25em; line-height: 1; border-radius: 0.35em;\">\n",
       "    Purple\n",
       "    <span style=\"font-size: 0.8em; font-weight: bold; line-height: 1; border-radius: 0.35em; text-transform: uppercase; vertical-align: middle; margin-left: 0.5rem\">COLOR</span>\n",
       "</mark>\n",
       "</div></span>"
      ],
      "text/plain": [
       "<IPython.core.display.HTML object>"
      ]
     },
     "metadata": {},
     "output_type": "display_data"
    },
    {
     "name": "stdout",
     "output_type": "stream",
     "text": [
      "{FAYT: 'BRAND', Purple: 'COLOR'}\n"
     ]
    },
    {
     "data": {
      "text/html": [
       "<span class=\"tex2jax_ignore\"><div class=\"entities\" style=\"line-height: 2.5; direction: ltr\">EMPORIA Euphoria 2.3&quot; \n",
       "<mark class=\"entity\" style=\"background: #ddd; padding: 0.45em 0.6em; margin: 0 0.25em; line-height: 1; border-radius: 0.35em;\">\n",
       "    3G\n",
       "    <span style=\"font-size: 0.8em; font-weight: bold; line-height: 1; border-radius: 0.35em; text-transform: uppercase; vertical-align: middle; margin-left: 0.5rem\">SIZE</span>\n",
       "</mark>\n",
       " \n",
       "<mark class=\"entity\" style=\"background: #ddd; padding: 0.45em 0.6em; margin: 0 0.25em; line-height: 1; border-radius: 0.35em;\">\n",
       "    Black\n",
       "    <span style=\"font-size: 0.8em; font-weight: bold; line-height: 1; border-radius: 0.35em; text-transform: uppercase; vertical-align: middle; margin-left: 0.5rem\">COLOR</span>\n",
       "</mark>\n",
       "</div></span>"
      ],
      "text/plain": [
       "<IPython.core.display.HTML object>"
      ]
     },
     "metadata": {},
     "output_type": "display_data"
    },
    {
     "name": "stdout",
     "output_type": "stream",
     "text": [
      "{3G: 'SIZE', Black: 'COLOR'}\n"
     ]
    },
    {
     "data": {
      "text/html": [
       "<span class=\"tex2jax_ignore\"><div class=\"entities\" style=\"line-height: 2.5; direction: ltr\">Sandaalit colors of california snake sandal \n",
       "<mark class=\"entity\" style=\"background: #ddd; padding: 0.45em 0.6em; margin: 0 0.25em; line-height: 1; border-radius: 0.35em;\">\n",
       "    grey\n",
       "    <span style=\"font-size: 0.8em; font-weight: bold; line-height: 1; border-radius: 0.35em; text-transform: uppercase; vertical-align: middle; margin-left: 0.5rem\">COLOR</span>\n",
       "</mark>\n",
       " saatavana \n",
       "<mark class=\"entity\" style=\"background: #ddd; padding: 0.45em 0.6em; margin: 0 0.25em; line-height: 1; border-radius: 0.35em;\">\n",
       "    naisten\n",
       "    <span style=\"font-size: 0.8em; font-weight: bold; line-height: 1; border-radius: 0.35em; text-transform: uppercase; vertical-align: middle; margin-left: 0.5rem\">GENDER</span>\n",
       "</mark>\n",
       " kokoja \n",
       "<mark class=\"entity\" style=\"background: #ddd; padding: 0.45em 0.6em; margin: 0 0.25em; line-height: 1; border-radius: 0.35em;\">\n",
       "    36,37,38,39,40\n",
       "    <span style=\"font-size: 0.8em; font-weight: bold; line-height: 1; border-radius: 0.35em; text-transform: uppercase; vertical-align: middle; margin-left: 0.5rem\">SIZE</span>\n",
       "</mark>\n",
       "</div></span>"
      ],
      "text/plain": [
       "<IPython.core.display.HTML object>"
      ]
     },
     "metadata": {},
     "output_type": "display_data"
    },
    {
     "name": "stdout",
     "output_type": "stream",
     "text": [
      "{grey: 'COLOR', naisten: 'GENDER', 36,37,38,39,40: 'SIZE'}\n"
     ]
    },
    {
     "data": {
      "text/html": [
       "<span class=\"tex2jax_ignore\"><div class=\"entities\" style=\"line-height: 2.5; direction: ltr\">\n",
       "<mark class=\"entity\" style=\"background: #ddd; padding: 0.45em 0.6em; margin: 0 0.25em; line-height: 1; border-radius: 0.35em;\">\n",
       "    Janod\n",
       "    <span style=\"font-size: 0.8em; font-weight: bold; line-height: 1; border-radius: 0.35em; text-transform: uppercase; vertical-align: middle; margin-left: 0.5rem\">BRAND</span>\n",
       "</mark>\n",
       " - Magnetic World Map Puzzle, \n",
       "<mark class=\"entity\" style=\"background: #ddd; padding: 0.45em 0.6em; margin: 0 0.25em; line-height: 1; border-radius: 0.35em;\">\n",
       "    92\n",
       "    <span style=\"font-size: 0.8em; font-weight: bold; line-height: 1; border-radius: 0.35em; text-transform: uppercase; vertical-align: middle; margin-left: 0.5rem\">SIZE</span>\n",
       "</mark>\n",
       " pcs (5504)</div></span>"
      ],
      "text/plain": [
       "<IPython.core.display.HTML object>"
      ]
     },
     "metadata": {},
     "output_type": "display_data"
    },
    {
     "name": "stdout",
     "output_type": "stream",
     "text": [
      "{Janod: 'BRAND', 92: 'SIZE'}\n"
     ]
    },
    {
     "data": {
      "text/html": [
       "<span class=\"tex2jax_ignore\"><div class=\"entities\" style=\"line-height: 2.5; direction: ltr\">Keksiä ja toffeeta herkullisella suklaakuorrutteella. Sisältää 6 \n",
       "<mark class=\"entity\" style=\"background: #ddd; padding: 0.45em 0.6em; margin: 0 0.25em; line-height: 1; border-radius: 0.35em;\">\n",
       "    Twix\n",
       "    <span style=\"font-size: 0.8em; font-weight: bold; line-height: 1; border-radius: 0.35em; text-transform: uppercase; vertical-align: middle; margin-left: 0.5rem\">BRAND</span>\n",
       "</mark>\n",
       " patukkaa niin riittää jaettavaa myös kaverille!</div></span>"
      ],
      "text/plain": [
       "<IPython.core.display.HTML object>"
      ]
     },
     "metadata": {},
     "output_type": "display_data"
    },
    {
     "name": "stdout",
     "output_type": "stream",
     "text": [
      "{Twix: 'BRAND'}\n"
     ]
    },
    {
     "data": {
      "text/html": [
       "<span class=\"tex2jax_ignore\"><div class=\"entities\" style=\"line-height: 2.5; direction: ltr\">\n",
       "<mark class=\"entity\" style=\"background: #ddd; padding: 0.45em 0.6em; margin: 0 0.25em; line-height: 1; border-radius: 0.35em;\">\n",
       "    Hoss x NA-KD\n",
       "    <span style=\"font-size: 0.8em; font-weight: bold; line-height: 1; border-radius: 0.35em; text-transform: uppercase; vertical-align: middle; margin-left: 0.5rem\">BRAND</span>\n",
       "</mark>\n",
       " Pu-Bleiseri - \n",
       "<mark class=\"entity\" style=\"background: #ddd; padding: 0.45em 0.6em; margin: 0 0.25em; line-height: 1; border-radius: 0.35em;\">\n",
       "    Black\n",
       "    <span style=\"font-size: 0.8em; font-weight: bold; line-height: 1; border-radius: 0.35em; text-transform: uppercase; vertical-align: middle; margin-left: 0.5rem\">COLOR</span>\n",
       "</mark>\n",
       "</div></span>"
      ],
      "text/plain": [
       "<IPython.core.display.HTML object>"
      ]
     },
     "metadata": {},
     "output_type": "display_data"
    },
    {
     "name": "stdout",
     "output_type": "stream",
     "text": [
      "{Hoss x NA-KD: 'BRAND', Black: 'COLOR'}\n"
     ]
    },
    {
     "data": {
      "text/html": [
       "<span class=\"tex2jax_ignore\"><div class=\"entities\" style=\"line-height: 2.5; direction: ltr\">Kosteuttava suihkuvoide kuivalle ja erittäin kuivalle iholle - \n",
       "<mark class=\"entity\" style=\"background: #ddd; padding: 0.45em 0.6em; margin: 0 0.25em; line-height: 1; border-radius: 0.35em;\">\n",
       "    Barnängen Founded in Stockholm\n",
       "    <span style=\"font-size: 0.8em; font-weight: bold; line-height: 1; border-radius: 0.35em; text-transform: uppercase; vertical-align: middle; margin-left: 0.5rem\">BRAND</span>\n",
       "</mark>\n",
       "</div></span>"
      ],
      "text/plain": [
       "<IPython.core.display.HTML object>"
      ]
     },
     "metadata": {},
     "output_type": "display_data"
    },
    {
     "name": "stdout",
     "output_type": "stream",
     "text": [
      "{Barnängen Founded in Stockholm: 'BRAND'}\n"
     ]
    },
    {
     "data": {
      "text/html": [
       "<span class=\"tex2jax_ignore\"><div class=\"entities\" style=\"line-height: 2.5; direction: ltr\">\n",
       "<mark class=\"entity\" style=\"background: #ddd; padding: 0.45em 0.6em; margin: 0 0.25em; line-height: 1; border-radius: 0.35em;\">\n",
       "    Lineaeffe\n",
       "    <span style=\"font-size: 0.8em; font-weight: bold; line-height: 1; border-radius: 0.35em; text-transform: uppercase; vertical-align: middle; margin-left: 0.5rem\">BRAND</span>\n",
       "</mark>\n",
       " Onkipaino Lajitelma \n",
       "<mark class=\"entity\" style=\"background: #ddd; padding: 0.45em 0.6em; margin: 0 0.25em; line-height: 1; border-radius: 0.35em;\">\n",
       "    120g\n",
       "    <span style=\"font-size: 0.8em; font-weight: bold; line-height: 1; border-radius: 0.35em; text-transform: uppercase; vertical-align: middle; margin-left: 0.5rem\">WEIGHT</span>\n",
       "</mark>\n",
       "</div></span>"
      ],
      "text/plain": [
       "<IPython.core.display.HTML object>"
      ]
     },
     "metadata": {},
     "output_type": "display_data"
    },
    {
     "name": "stdout",
     "output_type": "stream",
     "text": [
      "{Lineaeffe: 'BRAND', 120g: 'WEIGHT'}\n"
     ]
    },
    {
     "data": {
      "text/html": [
       "<span class=\"tex2jax_ignore\"><div class=\"entities\" style=\"line-height: 2.5; direction: ltr\">Hina Riippuavlaisin \n",
       "<mark class=\"entity\" style=\"background: #ddd; padding: 0.45em 0.6em; margin: 0 0.25em; line-height: 1; border-radius: 0.35em;\">\n",
       "    Harmaa/Musta\n",
       "    <span style=\"font-size: 0.8em; font-weight: bold; line-height: 1; border-radius: 0.35em; text-transform: uppercase; vertical-align: middle; margin-left: 0.5rem\">COLOR</span>\n",
       "</mark>\n",
       " - \n",
       "<mark class=\"entity\" style=\"background: #ddd; padding: 0.45em 0.6em; margin: 0 0.25em; line-height: 1; border-radius: 0.35em;\">\n",
       "    Lampemesteren\n",
       "    <span style=\"font-size: 0.8em; font-weight: bold; line-height: 1; border-radius: 0.35em; text-transform: uppercase; vertical-align: middle; margin-left: 0.5rem\">BRAND</span>\n",
       "</mark>\n",
       "</div></span>"
      ],
      "text/plain": [
       "<IPython.core.display.HTML object>"
      ]
     },
     "metadata": {},
     "output_type": "display_data"
    },
    {
     "name": "stdout",
     "output_type": "stream",
     "text": [
      "{Harmaa/Musta: 'COLOR', Lampemesteren: 'BRAND'}\n"
     ]
    },
    {
     "data": {
      "text/html": [
       "<span class=\"tex2jax_ignore\"><div class=\"entities\" style=\"line-height: 2.5; direction: ltr\">\n",
       "<mark class=\"entity\" style=\"background: #ddd; padding: 0.45em 0.6em; margin: 0 0.25em; line-height: 1; border-radius: 0.35em;\">\n",
       "    Viking\n",
       "    <span style=\"font-size: 0.8em; font-weight: bold; line-height: 1; border-radius: 0.35em; text-transform: uppercase; vertical-align: middle; margin-left: 0.5rem\">BRAND</span>\n",
       "</mark>\n",
       " ProTech NewGen ( 215/70 R16 100H )</div></span>"
      ],
      "text/plain": [
       "<IPython.core.display.HTML object>"
      ]
     },
     "metadata": {},
     "output_type": "display_data"
    },
    {
     "name": "stdout",
     "output_type": "stream",
     "text": [
      "{Viking: 'BRAND'}\n"
     ]
    },
    {
     "data": {
      "text/html": [
       "<span class=\"tex2jax_ignore\"><div class=\"entities\" style=\"line-height: 2.5; direction: ltr\">\n",
       "<mark class=\"entity\" style=\"background: #ddd; padding: 0.45em 0.6em; margin: 0 0.25em; line-height: 1; border-radius: 0.35em;\">\n",
       "    Gant\n",
       "    <span style=\"font-size: 0.8em; font-weight: bold; line-height: 1; border-radius: 0.35em; text-transform: uppercase; vertical-align: middle; margin-left: 0.5rem\">BRAND</span>\n",
       "</mark>\n",
       " Time Park Hill III Kellot \n",
       "<mark class=\"entity\" style=\"background: #ddd; padding: 0.45em 0.6em; margin: 0 0.25em; line-height: 1; border-radius: 0.35em;\">\n",
       "    Grey\n",
       "    <span style=\"font-size: 0.8em; font-weight: bold; line-height: 1; border-radius: 0.35em; text-transform: uppercase; vertical-align: middle; margin-left: 0.5rem\">COLOR</span>\n",
       "</mark>\n",
       "</div></span>"
      ],
      "text/plain": [
       "<IPython.core.display.HTML object>"
      ]
     },
     "metadata": {},
     "output_type": "display_data"
    },
    {
     "name": "stdout",
     "output_type": "stream",
     "text": [
      "{Gant: 'BRAND', Grey: 'COLOR'}\n"
     ]
    },
    {
     "data": {
      "text/html": [
       "<span class=\"tex2jax_ignore\"><div class=\"entities\" style=\"line-height: 2.5; direction: ltr\">\n",
       "<mark class=\"entity\" style=\"background: #ddd; padding: 0.45em 0.6em; margin: 0 0.25em; line-height: 1; border-radius: 0.35em;\">\n",
       "    Woden\n",
       "    <span style=\"font-size: 0.8em; font-weight: bold; line-height: 1; border-radius: 0.35em; text-transform: uppercase; vertical-align: middle; margin-left: 0.5rem\">BRAND</span>\n",
       "</mark>\n",
       " Jane Snake</div></span>"
      ],
      "text/plain": [
       "<IPython.core.display.HTML object>"
      ]
     },
     "metadata": {},
     "output_type": "display_data"
    },
    {
     "name": "stdout",
     "output_type": "stream",
     "text": [
      "{Woden: 'BRAND'}\n"
     ]
    },
    {
     "data": {
      "text/html": [
       "<span class=\"tex2jax_ignore\"><div class=\"entities\" style=\"line-height: 2.5; direction: ltr\">Avantouintikäsineet \n",
       "<mark class=\"entity\" style=\"background: #ddd; padding: 0.45em 0.6em; margin: 0 0.25em; line-height: 1; border-radius: 0.35em;\">\n",
       "    Musta\n",
       "    <span style=\"font-size: 0.8em; font-weight: bold; line-height: 1; border-radius: 0.35em; text-transform: uppercase; vertical-align: middle; margin-left: 0.5rem\">COLOR</span>\n",
       "</mark>\n",
       " \n",
       "<mark class=\"entity\" style=\"background: #ddd; padding: 0.45em 0.6em; margin: 0 0.25em; line-height: 1; border-radius: 0.35em;\">\n",
       "    XS\n",
       "    <span style=\"font-size: 0.8em; font-weight: bold; line-height: 1; border-radius: 0.35em; text-transform: uppercase; vertical-align: middle; margin-left: 0.5rem\">SIZE</span>\n",
       "</mark>\n",
       "</div></span>"
      ],
      "text/plain": [
       "<IPython.core.display.HTML object>"
      ]
     },
     "metadata": {},
     "output_type": "display_data"
    },
    {
     "name": "stdout",
     "output_type": "stream",
     "text": [
      "{Musta: 'COLOR', XS: 'SIZE'}\n"
     ]
    },
    {
     "data": {
      "text/html": [
       "<span class=\"tex2jax_ignore\"><div class=\"entities\" style=\"line-height: 2.5; direction: ltr\">\n",
       "<mark class=\"entity\" style=\"background: #ddd; padding: 0.45em 0.6em; margin: 0 0.25em; line-height: 1; border-radius: 0.35em;\">\n",
       "    Cooler Master\n",
       "    <span style=\"font-size: 0.8em; font-weight: bold; line-height: 1; border-radius: 0.35em; text-transform: uppercase; vertical-align: middle; margin-left: 0.5rem\">BRAND</span>\n",
       "</mark>\n",
       " CM HYPER \n",
       "<mark class=\"entity\" style=\"background: #ddd; padding: 0.45em 0.6em; margin: 0 0.25em; line-height: 1; border-radius: 0.35em;\">\n",
       "    212\n",
       "    <span style=\"font-size: 0.8em; font-weight: bold; line-height: 1; border-radius: 0.35em; text-transform: uppercase; vertical-align: middle; margin-left: 0.5rem\">SIZE</span>\n",
       "</mark>\n",
       " EVO LGA2011 / 1155 / AM3 / 3+</div></span>"
      ],
      "text/plain": [
       "<IPython.core.display.HTML object>"
      ]
     },
     "metadata": {},
     "output_type": "display_data"
    },
    {
     "name": "stdout",
     "output_type": "stream",
     "text": [
      "{Cooler Master: 'BRAND', 212: 'SIZE'}\n"
     ]
    },
    {
     "data": {
      "text/html": [
       "<span class=\"tex2jax_ignore\"><div class=\"entities\" style=\"line-height: 2.5; direction: ltr\">\n",
       "<mark class=\"entity\" style=\"background: #ddd; padding: 0.45em 0.6em; margin: 0 0.25em; line-height: 1; border-radius: 0.35em;\">\n",
       "    Devá States\n",
       "    <span style=\"font-size: 0.8em; font-weight: bold; line-height: 1; border-radius: 0.35em; text-transform: uppercase; vertical-align: middle; margin-left: 0.5rem\">BRAND</span>\n",
       "</mark>\n",
       " - Horizons Souvenir Shirt - \n",
       "<mark class=\"entity\" style=\"background: #ddd; padding: 0.45em 0.6em; margin: 0 0.25em; line-height: 1; border-radius: 0.35em;\">\n",
       "    Monivärinen\n",
       "    <span style=\"font-size: 0.8em; font-weight: bold; line-height: 1; border-radius: 0.35em; text-transform: uppercase; vertical-align: middle; margin-left: 0.5rem\">COLOR</span>\n",
       "</mark>\n",
       " - S</div></span>"
      ],
      "text/plain": [
       "<IPython.core.display.HTML object>"
      ]
     },
     "metadata": {},
     "output_type": "display_data"
    },
    {
     "name": "stdout",
     "output_type": "stream",
     "text": [
      "{Devá States: 'BRAND', Monivärinen: 'COLOR'}\n"
     ]
    },
    {
     "data": {
      "text/html": [
       "<span class=\"tex2jax_ignore\"><div class=\"entities\" style=\"line-height: 2.5; direction: ltr\">\n",
       "<mark class=\"entity\" style=\"background: #ddd; padding: 0.45em 0.6em; margin: 0 0.25em; line-height: 1; border-radius: 0.35em;\">\n",
       "    Pomellato\n",
       "    <span style=\"font-size: 0.8em; font-weight: bold; line-height: 1; border-radius: 0.35em; text-transform: uppercase; vertical-align: middle; margin-left: 0.5rem\">BRAND</span>\n",
       "</mark>\n",
       " PM0056S Aurinkolasit. Collection:Women. Kehyksen Väri: \n",
       "<mark class=\"entity\" style=\"background: #ddd; padding: 0.45em 0.6em; margin: 0 0.25em; line-height: 1; border-radius: 0.35em;\">\n",
       "    Gold.\n",
       "    <span style=\"font-size: 0.8em; font-weight: bold; line-height: 1; border-radius: 0.35em; text-transform: uppercase; vertical-align: middle; margin-left: 0.5rem\">COLOR</span>\n",
       "</mark>\n",
       "  Linssin Väri: . Kehysmateriaali: \n",
       "<mark class=\"entity\" style=\"background: #ddd; padding: 0.45em 0.6em; margin: 0 0.25em; line-height: 1; border-radius: 0.35em;\">\n",
       "    Metal.\n",
       "    <span style=\"font-size: 0.8em; font-weight: bold; line-height: 1; border-radius: 0.35em; text-transform: uppercase; vertical-align: middle; margin-left: 0.5rem\">MATERIAL</span>\n",
       "</mark>\n",
       " Koko: \n",
       "<mark class=\"entity\" style=\"background: #ddd; padding: 0.45em 0.6em; margin: 0 0.25em; line-height: 1; border-radius: 0.35em;\">\n",
       "    57.\n",
       "    <span style=\"font-size: 0.8em; font-weight: bold; line-height: 1; border-radius: 0.35em; text-transform: uppercase; vertical-align: middle; margin-left: 0.5rem\">SIZE</span>\n",
       "</mark>\n",
       "</div></span>"
      ],
      "text/plain": [
       "<IPython.core.display.HTML object>"
      ]
     },
     "metadata": {},
     "output_type": "display_data"
    },
    {
     "name": "stdout",
     "output_type": "stream",
     "text": [
      "{Pomellato: 'BRAND', Gold.: 'COLOR', Metal.: 'MATERIAL', 57.: 'SIZE'}\n"
     ]
    },
    {
     "data": {
      "text/html": [
       "<span class=\"tex2jax_ignore\"><div class=\"entities\" style=\"line-height: 2.5; direction: ltr\">Lastenkengät tom tailor javilome \n",
       "<mark class=\"entity\" style=\"background: #ddd; padding: 0.45em 0.6em; margin: 0 0.25em; line-height: 1; border-radius: 0.35em;\">\n",
       "    blue\n",
       "    <span style=\"font-size: 0.8em; font-weight: bold; line-height: 1; border-radius: 0.35em; text-transform: uppercase; vertical-align: middle; margin-left: 0.5rem\">COLOR</span>\n",
       "</mark>\n",
       " saatavana tyttöjen kokoja \n",
       "<mark class=\"entity\" style=\"background: #ddd; padding: 0.45em 0.6em; margin: 0 0.25em; line-height: 1; border-radius: 0.35em;\">\n",
       "    40,31,32,33,34,35\n",
       "    <span style=\"font-size: 0.8em; font-weight: bold; line-height: 1; border-radius: 0.35em; text-transform: uppercase; vertical-align: middle; margin-left: 0.5rem\">SIZE</span>\n",
       "</mark>\n",
       "</div></span>"
      ],
      "text/plain": [
       "<IPython.core.display.HTML object>"
      ]
     },
     "metadata": {},
     "output_type": "display_data"
    },
    {
     "name": "stdout",
     "output_type": "stream",
     "text": [
      "{blue: 'COLOR', 40,31,32,33,34,35: 'SIZE'}\n"
     ]
    },
    {
     "data": {
      "text/html": [
       "<span class=\"tex2jax_ignore\"><div class=\"entities\" style=\"line-height: 2.5; direction: ltr\">Actionkamera 4K FullHD Wi-FiSonyn 5,0 megapikselin CMOS-kenno 8,0 megapikselin valokuvaresoluutio Wi-Fi-yhteys Videoresoluutio: 4K/30fps, 1080/60fps 2&quot;näyttö 170° kuvauskulma Sisäänrakennettu mikrofoni Tukee 32gb asti Micro SD-kortteja Vedenpitävä \n",
       "<mark class=\"entity\" style=\"background: #ddd; padding: 0.45em 0.6em; margin: 0 0.25em; line-height: 1; border-radius: 0.35em;\">\n",
       "    50m\n",
       "    <span style=\"font-size: 0.8em; font-weight: bold; line-height: 1; border-radius: 0.35em; text-transform: uppercase; vertical-align: middle; margin-left: 0.5rem\">SIZE</span>\n",
       "</mark>\n",
       " Akku 900mAh/3,7V</div></span>"
      ],
      "text/plain": [
       "<IPython.core.display.HTML object>"
      ]
     },
     "metadata": {},
     "output_type": "display_data"
    },
    {
     "name": "stdout",
     "output_type": "stream",
     "text": [
      "{50m: 'SIZE'}\n"
     ]
    },
    {
     "data": {
      "text/html": [
       "<span class=\"tex2jax_ignore\"><div class=\"entities\" style=\"line-height: 2.5; direction: ltr\">\n",
       "<mark class=\"entity\" style=\"background: #ddd; padding: 0.45em 0.6em; margin: 0 0.25em; line-height: 1; border-radius: 0.35em;\">\n",
       "    Diana\n",
       "    <span style=\"font-size: 0.8em; font-weight: bold; line-height: 1; border-radius: 0.35em; text-transform: uppercase; vertical-align: middle; margin-left: 0.5rem\">BRAND</span>\n",
       "</mark>\n",
       " Mauser K98 \n",
       "<mark class=\"entity\" style=\"background: #ddd; padding: 0.45em 0.6em; margin: 0 0.25em; line-height: 1; border-radius: 0.35em;\">\n",
       "    4,5mm\n",
       "    <span style=\"font-size: 0.8em; font-weight: bold; line-height: 1; border-radius: 0.35em; text-transform: uppercase; vertical-align: middle; margin-left: 0.5rem\">SIZE</span>\n",
       "</mark>\n",
       "</div></span>"
      ],
      "text/plain": [
       "<IPython.core.display.HTML object>"
      ]
     },
     "metadata": {},
     "output_type": "display_data"
    },
    {
     "name": "stdout",
     "output_type": "stream",
     "text": [
      "{Diana: 'BRAND', 4,5mm: 'SIZE'}\n"
     ]
    },
    {
     "data": {
      "text/html": [
       "<span class=\"tex2jax_ignore\"><div class=\"entities\" style=\"line-height: 2.5; direction: ltr\">\n",
       "<mark class=\"entity\" style=\"background: #ddd; padding: 0.45em 0.6em; margin: 0 0.25em; line-height: 1; border-radius: 0.35em;\">\n",
       "    Axis\n",
       "    <span style=\"font-size: 0.8em; font-weight: bold; line-height: 1; border-radius: 0.35em; text-transform: uppercase; vertical-align: middle; margin-left: 0.5rem\">BRAND</span>\n",
       "</mark>\n",
       " C1004-E Network Cabinet Speaker</div></span>"
      ],
      "text/plain": [
       "<IPython.core.display.HTML object>"
      ]
     },
     "metadata": {},
     "output_type": "display_data"
    },
    {
     "name": "stdout",
     "output_type": "stream",
     "text": [
      "{Axis: 'BRAND'}\n"
     ]
    },
    {
     "data": {
      "text/html": [
       "<span class=\"tex2jax_ignore\"><div class=\"entities\" style=\"line-height: 2.5; direction: ltr\">Kengät philippe model montecarlo kulta saatavana \n",
       "<mark class=\"entity\" style=\"background: #ddd; padding: 0.45em 0.6em; margin: 0 0.25em; line-height: 1; border-radius: 0.35em;\">\n",
       "    naisten\n",
       "    <span style=\"font-size: 0.8em; font-weight: bold; line-height: 1; border-radius: 0.35em; text-transform: uppercase; vertical-align: middle; margin-left: 0.5rem\">GENDER</span>\n",
       "</mark>\n",
       " kokoja \n",
       "<mark class=\"entity\" style=\"background: #ddd; padding: 0.45em 0.6em; margin: 0 0.25em; line-height: 1; border-radius: 0.35em;\">\n",
       "    36,37,41\n",
       "    <span style=\"font-size: 0.8em; font-weight: bold; line-height: 1; border-radius: 0.35em; text-transform: uppercase; vertical-align: middle; margin-left: 0.5rem\">SIZE</span>\n",
       "</mark>\n",
       "</div></span>"
      ],
      "text/plain": [
       "<IPython.core.display.HTML object>"
      ]
     },
     "metadata": {},
     "output_type": "display_data"
    },
    {
     "name": "stdout",
     "output_type": "stream",
     "text": [
      "{naisten: 'GENDER', 36,37,41: 'SIZE'}\n"
     ]
    },
    {
     "data": {
      "text/html": [
       "<span class=\"tex2jax_ignore\"><div class=\"entities\" style=\"line-height: 2.5; direction: ltr\">Supersuolainen lakritsimakeinen, \n",
       "<mark class=\"entity\" style=\"background: #ddd; padding: 0.45em 0.6em; margin: 0 0.25em; line-height: 1; border-radius: 0.35em;\">\n",
       "    100g\n",
       "    <span style=\"font-size: 0.8em; font-weight: bold; line-height: 1; border-radius: 0.35em; text-transform: uppercase; vertical-align: middle; margin-left: 0.5rem\">WEIGHT</span>\n",
       "</mark>\n",
       " - 74% alennus</div></span>"
      ],
      "text/plain": [
       "<IPython.core.display.HTML object>"
      ]
     },
     "metadata": {},
     "output_type": "display_data"
    },
    {
     "name": "stdout",
     "output_type": "stream",
     "text": [
      "{100g: 'WEIGHT'}\n"
     ]
    },
    {
     "data": {
      "text/html": [
       "<span class=\"tex2jax_ignore\"><div class=\"entities\" style=\"line-height: 2.5; direction: ltr\">Smurffi-palapeli, \n",
       "<mark class=\"entity\" style=\"background: #ddd; padding: 0.45em 0.6em; margin: 0 0.25em; line-height: 1; border-radius: 0.35em;\">\n",
       "    24\n",
       "    <span style=\"font-size: 0.8em; font-weight: bold; line-height: 1; border-radius: 0.35em; text-transform: uppercase; vertical-align: middle; margin-left: 0.5rem\">SIZE</span>\n",
       "</mark>\n",
       " palaa</div></span>"
      ],
      "text/plain": [
       "<IPython.core.display.HTML object>"
      ]
     },
     "metadata": {},
     "output_type": "display_data"
    },
    {
     "name": "stdout",
     "output_type": "stream",
     "text": [
      "{24: 'SIZE'}\n"
     ]
    },
    {
     "data": {
      "text/html": [
       "<span class=\"tex2jax_ignore\"><div class=\"entities\" style=\"line-height: 2.5; direction: ltr\">\n",
       "<mark class=\"entity\" style=\"background: #ddd; padding: 0.45em 0.6em; margin: 0 0.25em; line-height: 1; border-radius: 0.35em;\">\n",
       "    Wolf Tyres\n",
       "    <span style=\"font-size: 0.8em; font-weight: bold; line-height: 1; border-radius: 0.35em; text-transform: uppercase; vertical-align: middle; margin-left: 0.5rem\">BRAND</span>\n",
       "</mark>\n",
       " \n",
       "<mark class=\"entity\" style=\"background: #ddd; padding: 0.45em 0.6em; margin: 0 0.25em; line-height: 1; border-radius: 0.35em;\">\n",
       "    Nord\n",
       "    <span style=\"font-size: 0.8em; font-weight: bold; line-height: 1; border-radius: 0.35em; text-transform: uppercase; vertical-align: middle; margin-left: 0.5rem\">BRAND</span>\n",
       "</mark>\n",
       " STUD ( 195/65 R15 91T, nastarengas , pinnoitettu )</div></span>"
      ],
      "text/plain": [
       "<IPython.core.display.HTML object>"
      ]
     },
     "metadata": {},
     "output_type": "display_data"
    },
    {
     "name": "stdout",
     "output_type": "stream",
     "text": [
      "{Wolf Tyres: 'BRAND', Nord: 'BRAND'}\n"
     ]
    },
    {
     "data": {
      "text/html": [
       "<span class=\"tex2jax_ignore\"><div class=\"entities\" style=\"line-height: 2.5; direction: ltr\">\n",
       "<mark class=\"entity\" style=\"background: #ddd; padding: 0.45em 0.6em; margin: 0 0.25em; line-height: 1; border-radius: 0.35em;\">\n",
       "    Mercedes\n",
       "    <span style=\"font-size: 0.8em; font-weight: bold; line-height: 1; border-radius: 0.35em; text-transform: uppercase; vertical-align: middle; margin-left: 0.5rem\">BRAND</span>\n",
       "</mark>\n",
       " M 8003 Silmälasit. Collection:Men. Kehyksen Väri: \n",
       "<mark class=\"entity\" style=\"background: #ddd; padding: 0.45em 0.6em; margin: 0 0.25em; line-height: 1; border-radius: 0.35em;\">\n",
       "    Brown.\n",
       "    <span style=\"font-size: 0.8em; font-weight: bold; line-height: 1; border-radius: 0.35em; text-transform: uppercase; vertical-align: middle; margin-left: 0.5rem\">COLOR</span>\n",
       "</mark>\n",
       " Kehysmateriaali: \n",
       "<mark class=\"entity\" style=\"background: #ddd; padding: 0.45em 0.6em; margin: 0 0.25em; line-height: 1; border-radius: 0.35em;\">\n",
       "    Acetate.\n",
       "    <span style=\"font-size: 0.8em; font-weight: bold; line-height: 1; border-radius: 0.35em; text-transform: uppercase; vertical-align: middle; margin-left: 0.5rem\">MATERIAL</span>\n",
       "</mark>\n",
       " Koko: \n",
       "<mark class=\"entity\" style=\"background: #ddd; padding: 0.45em 0.6em; margin: 0 0.25em; line-height: 1; border-radius: 0.35em;\">\n",
       "    55.\n",
       "    <span style=\"font-size: 0.8em; font-weight: bold; line-height: 1; border-radius: 0.35em; text-transform: uppercase; vertical-align: middle; margin-left: 0.5rem\">SIZE</span>\n",
       "</mark>\n",
       "</div></span>"
      ],
      "text/plain": [
       "<IPython.core.display.HTML object>"
      ]
     },
     "metadata": {},
     "output_type": "display_data"
    },
    {
     "name": "stdout",
     "output_type": "stream",
     "text": [
      "{Mercedes: 'BRAND', Brown.: 'COLOR', Acetate.: 'MATERIAL', 55.: 'SIZE'}\n"
     ]
    },
    {
     "data": {
      "text/html": [
       "<span class=\"tex2jax_ignore\"><div class=\"entities\" style=\"line-height: 2.5; direction: ltr\">Käytännöllinen SANSIBAR-merkkinen selkäreppu. \n",
       "<mark class=\"entity\" style=\"background: #ddd; padding: 0.45em 0.6em; margin: 0 0.25em; line-height: 1; border-radius: 0.35em;\">\n",
       "    Monivärinen\n",
       "    <span style=\"font-size: 0.8em; font-weight: bold; line-height: 1; border-radius: 0.35em; text-transform: uppercase; vertical-align: middle; margin-left: 0.5rem\">COLOR</span>\n",
       "</mark>\n",
       " kuosi. Pienet tukijalat. Käteviä sisä- ja ulkotaskuja. Kiristysnyöri. Huom. magneetti: käyttöä ei suositella raskaana oleville eikä henkilöille, joilla on sydämentahdistin tai sisäinen defibrillaattori.</div></span>"
      ],
      "text/plain": [
       "<IPython.core.display.HTML object>"
      ]
     },
     "metadata": {},
     "output_type": "display_data"
    },
    {
     "name": "stdout",
     "output_type": "stream",
     "text": [
      "{Monivärinen: 'COLOR'}\n"
     ]
    },
    {
     "data": {
      "text/html": [
       "<span class=\"tex2jax_ignore\"><div class=\"entities\" style=\"line-height: 2.5; direction: ltr\">\n",
       "<mark class=\"entity\" style=\"background: #ddd; padding: 0.45em 0.6em; margin: 0 0.25em; line-height: 1; border-radius: 0.35em;\">\n",
       "    Glimmies\n",
       "    <span style=\"font-size: 0.8em; font-weight: bold; line-height: 1; border-radius: 0.35em; text-transform: uppercase; vertical-align: middle; margin-left: 0.5rem\">BRAND</span>\n",
       "</mark>\n",
       " Polaris Glimberg jäälinna</div></span>"
      ],
      "text/plain": [
       "<IPython.core.display.HTML object>"
      ]
     },
     "metadata": {},
     "output_type": "display_data"
    },
    {
     "name": "stdout",
     "output_type": "stream",
     "text": [
      "{Glimmies: 'BRAND'}\n"
     ]
    },
    {
     "data": {
      "text/html": [
       "<span class=\"tex2jax_ignore\"><div class=\"entities\" style=\"line-height: 2.5; direction: ltr\">Stainless \n",
       "<mark class=\"entity\" style=\"background: #ddd; padding: 0.45em 0.6em; margin: 0 0.25em; line-height: 1; border-radius: 0.35em;\">\n",
       "    Steel\n",
       "    <span style=\"font-size: 0.8em; font-weight: bold; line-height: 1; border-radius: 0.35em; text-transform: uppercase; vertical-align: middle; margin-left: 0.5rem\">BRAND</span>\n",
       "</mark>\n",
       " Cuticle Scissors</div></span>"
      ],
      "text/plain": [
       "<IPython.core.display.HTML object>"
      ]
     },
     "metadata": {},
     "output_type": "display_data"
    },
    {
     "name": "stdout",
     "output_type": "stream",
     "text": [
      "{Steel: 'BRAND'}\n"
     ]
    },
    {
     "data": {
      "text/html": [
       "<span class=\"tex2jax_ignore\"><div class=\"entities\" style=\"line-height: 2.5; direction: ltr\">1700 W:n kulmahiomakone, jonka laikan halkaisija on \n",
       "<mark class=\"entity\" style=\"background: #ddd; padding: 0.45em 0.6em; margin: 0 0.25em; line-height: 1; border-radius: 0.35em;\">\n",
       "    125 mm\n",
       "    <span style=\"font-size: 0.8em; font-weight: bold; line-height: 1; border-radius: 0.35em; text-transform: uppercase; vertical-align: middle; margin-left: 0.5rem\">SIZE</span>\n",
       "</mark>\n",
       " ja kierrosnopeus 2700-8500 kierrosta minuutissa. Jumittumisen tunnistus, uudelleenkäynnistymissuoja, pehmeä käynnistys ja elektroninen ylikuormitussuoja.</div></span>"
      ],
      "text/plain": [
       "<IPython.core.display.HTML object>"
      ]
     },
     "metadata": {},
     "output_type": "display_data"
    },
    {
     "name": "stdout",
     "output_type": "stream",
     "text": [
      "{125 mm: 'SIZE'}\n"
     ]
    },
    {
     "data": {
      "text/html": [
       "<span class=\"tex2jax_ignore\"><div class=\"entities\" style=\"line-height: 2.5; direction: ltr\">\n",
       "<mark class=\"entity\" style=\"background: #ddd; padding: 0.45em 0.6em; margin: 0 0.25em; line-height: 1; border-radius: 0.35em;\">\n",
       "    Magformers\n",
       "    <span style=\"font-size: 0.8em; font-weight: bold; line-height: 1; border-radius: 0.35em; text-transform: uppercase; vertical-align: middle; margin-left: 0.5rem\">BRAND</span>\n",
       "</mark>\n",
       " Rakennussetti Curve \n",
       "<mark class=\"entity\" style=\"background: #ddd; padding: 0.45em 0.6em; margin: 0 0.25em; line-height: 1; border-radius: 0.35em;\">\n",
       "    20\n",
       "    <span style=\"font-size: 0.8em; font-weight: bold; line-height: 1; border-radius: 0.35em; text-transform: uppercase; vertical-align: middle; margin-left: 0.5rem\">SIZE</span>\n",
       "</mark>\n",
       " setti on opettavainen setti pyöristettyine 3D-muotoineen, kaikki magneettisia. Setin avulla lapsi oppii erilaisia geometrisiä muotoja ja miten niitä voi yhdistää erilaisiksi rakennelmiksi. Vain mielikuvitus asettaa rajat. Setti sisältää 20 pyöristettyä, eriväristä ja -muotoista palaa.</div></span>"
      ],
      "text/plain": [
       "<IPython.core.display.HTML object>"
      ]
     },
     "metadata": {},
     "output_type": "display_data"
    },
    {
     "name": "stdout",
     "output_type": "stream",
     "text": [
      "{Magformers: 'BRAND', 20: 'SIZE'}\n"
     ]
    },
    {
     "data": {
      "text/html": [
       "<span class=\"tex2jax_ignore\"><div class=\"entities\" style=\"line-height: 2.5; direction: ltr\">\n",
       "<mark class=\"entity\" style=\"background: #ddd; padding: 0.45em 0.6em; margin: 0 0.25em; line-height: 1; border-radius: 0.35em;\">\n",
       "    Design Of\n",
       "    <span style=\"font-size: 0.8em; font-weight: bold; line-height: 1; border-radius: 0.35em; text-transform: uppercase; vertical-align: middle; margin-left: 0.5rem\">BRAND</span>\n",
       "</mark>\n",
       " Square Pöytä \n",
       "<mark class=\"entity\" style=\"background: #ddd; padding: 0.45em 0.6em; margin: 0 0.25em; line-height: 1; border-radius: 0.35em;\">\n",
       "    S,\n",
       "    <span style=\"font-size: 0.8em; font-weight: bold; line-height: 1; border-radius: 0.35em; text-transform: uppercase; vertical-align: middle; margin-left: 0.5rem\">SIZE</span>\n",
       "</mark>\n",
       " \n",
       "<mark class=\"entity\" style=\"background: #ddd; padding: 0.45em 0.6em; margin: 0 0.25em; line-height: 1; border-radius: 0.35em;\">\n",
       "    Musta\n",
       "    <span style=\"font-size: 0.8em; font-weight: bold; line-height: 1; border-radius: 0.35em; text-transform: uppercase; vertical-align: middle; margin-left: 0.5rem\">COLOR</span>\n",
       "</mark>\n",
       "</div></span>"
      ],
      "text/plain": [
       "<IPython.core.display.HTML object>"
      ]
     },
     "metadata": {},
     "output_type": "display_data"
    },
    {
     "name": "stdout",
     "output_type": "stream",
     "text": [
      "{Design Of: 'BRAND', S,: 'SIZE', Musta: 'COLOR'}\n"
     ]
    },
    {
     "data": {
      "text/html": [
       "<span class=\"tex2jax_ignore\"><div class=\"entities\" style=\"line-height: 2.5; direction: ltr\">\n",
       "<mark class=\"entity\" style=\"background: #ddd; padding: 0.45em 0.6em; margin: 0 0.25em; line-height: 1; border-radius: 0.35em;\">\n",
       "    Bolle\n",
       "    <span style=\"font-size: 0.8em; font-weight: bold; line-height: 1; border-radius: 0.35em; text-transform: uppercase; vertical-align: middle; margin-left: 0.5rem\">BRAND</span>\n",
       "</mark>\n",
       " Lightshifter Aurinkolasit. Collection:Men. Kehyksen Väri: Matte \n",
       "<mark class=\"entity\" style=\"background: #ddd; padding: 0.45em 0.6em; margin: 0 0.25em; line-height: 1; border-radius: 0.35em;\">\n",
       "    Black.\n",
       "    <span style=\"font-size: 0.8em; font-weight: bold; line-height: 1; border-radius: 0.35em; text-transform: uppercase; vertical-align: middle; margin-left: 0.5rem\">COLOR</span>\n",
       "</mark>\n",
       "  Linssin Väri: . Kehysmateriaali: \n",
       "<mark class=\"entity\" style=\"background: #ddd; padding: 0.45em 0.6em; margin: 0 0.25em; line-height: 1; border-radius: 0.35em;\">\n",
       "    Plastic.\n",
       "    <span style=\"font-size: 0.8em; font-weight: bold; line-height: 1; border-radius: 0.35em; text-transform: uppercase; vertical-align: middle; margin-left: 0.5rem\">MATERIAL</span>\n",
       "</mark>\n",
       " Koko: \n",
       "<mark class=\"entity\" style=\"background: #ddd; padding: 0.45em 0.6em; margin: 0 0.25em; line-height: 1; border-radius: 0.35em;\">\n",
       "    128.\n",
       "    <span style=\"font-size: 0.8em; font-weight: bold; line-height: 1; border-radius: 0.35em; text-transform: uppercase; vertical-align: middle; margin-left: 0.5rem\">SIZE</span>\n",
       "</mark>\n",
       "</div></span>"
      ],
      "text/plain": [
       "<IPython.core.display.HTML object>"
      ]
     },
     "metadata": {},
     "output_type": "display_data"
    },
    {
     "name": "stdout",
     "output_type": "stream",
     "text": [
      "{Bolle: 'BRAND', Black.: 'COLOR', Plastic.: 'MATERIAL', 128.: 'SIZE'}\n"
     ]
    },
    {
     "data": {
      "text/html": [
       "<span class=\"tex2jax_ignore\"><div class=\"entities\" style=\"line-height: 2.5; direction: ltr\">Tee nukkesi valmiiksi päivää varten tämän \n",
       "<mark class=\"entity\" style=\"background: #ddd; padding: 0.45em 0.6em; margin: 0 0.25em; line-height: 1; border-radius: 0.35em;\">\n",
       "    Designa Friend\n",
       "    <span style=\"font-size: 0.8em; font-weight: bold; line-height: 1; border-radius: 0.35em; text-transform: uppercase; vertical-align: middle; margin-left: 0.5rem\">BRAND</span>\n",
       "</mark>\n",
       " asukokonaisuuden avulla. Tähän asukokonaisuuteen kuuluu pehmustettu vyö, jossa on brodeerattu logo, ruudullinen paita, valkoiset ratsastushousut ja tummansiniset ratsastussaappaat. Jokaisen asukokonaisuuden mukana tulee riipus, jonka voi kiinnittää Designa Friend nuken mukana saatavaan rannekoruun.</div></span>"
      ],
      "text/plain": [
       "<IPython.core.display.HTML object>"
      ]
     },
     "metadata": {},
     "output_type": "display_data"
    },
    {
     "name": "stdout",
     "output_type": "stream",
     "text": [
      "{Designa Friend: 'BRAND'}\n"
     ]
    },
    {
     "data": {
      "text/html": [
       "<span class=\"tex2jax_ignore\"><div class=\"entities\" style=\"line-height: 2.5; direction: ltr\">\n",
       "<mark class=\"entity\" style=\"background: #ddd; padding: 0.45em 0.6em; margin: 0 0.25em; line-height: 1; border-radius: 0.35em;\">\n",
       "    Motel\n",
       "    <span style=\"font-size: 0.8em; font-weight: bold; line-height: 1; border-radius: 0.35em; text-transform: uppercase; vertical-align: middle; margin-left: 0.5rem\">BRAND</span>\n",
       "</mark>\n",
       " Andin Dress</div></span>"
      ],
      "text/plain": [
       "<IPython.core.display.HTML object>"
      ]
     },
     "metadata": {},
     "output_type": "display_data"
    },
    {
     "name": "stdout",
     "output_type": "stream",
     "text": [
      "{Motel: 'BRAND'}\n"
     ]
    },
    {
     "data": {
      "text/html": [
       "<span class=\"tex2jax_ignore\"><div class=\"entities\" style=\"line-height: 2.5; direction: ltr\">C-vitamin \n",
       "<mark class=\"entity\" style=\"background: #ddd; padding: 0.45em 0.6em; margin: 0 0.25em; line-height: 1; border-radius: 0.35em;\">\n",
       "    250 gr\n",
       "    <span style=\"font-size: 0.8em; font-weight: bold; line-height: 1; border-radius: 0.35em; text-transform: uppercase; vertical-align: middle; margin-left: 0.5rem\">WEIGHT</span>\n",
       "</mark>\n",
       "</div></span>"
      ],
      "text/plain": [
       "<IPython.core.display.HTML object>"
      ]
     },
     "metadata": {},
     "output_type": "display_data"
    },
    {
     "name": "stdout",
     "output_type": "stream",
     "text": [
      "{250 gr: 'WEIGHT'}\n"
     ]
    },
    {
     "data": {
      "text/html": [
       "<span class=\"tex2jax_ignore\"><div class=\"entities\" style=\"line-height: 2.5; direction: ltr\">\n",
       "<mark class=\"entity\" style=\"background: #ddd; padding: 0.45em 0.6em; margin: 0 0.25em; line-height: 1; border-radius: 0.35em;\">\n",
       "    Monster Cars\n",
       "    <span style=\"font-size: 0.8em; font-weight: bold; line-height: 1; border-radius: 0.35em; text-transform: uppercase; vertical-align: middle; margin-left: 0.5rem\">BRAND</span>\n",
       "</mark>\n",
       " Trippel Penaali</div></span>"
      ],
      "text/plain": [
       "<IPython.core.display.HTML object>"
      ]
     },
     "metadata": {},
     "output_type": "display_data"
    },
    {
     "name": "stdout",
     "output_type": "stream",
     "text": [
      "{Monster Cars: 'BRAND'}\n"
     ]
    },
    {
     "data": {
      "text/html": [
       "<span class=\"tex2jax_ignore\"><div class=\"entities\" style=\"line-height: 2.5; direction: ltr\">Pusakka \n",
       "<mark class=\"entity\" style=\"background: #ddd; padding: 0.45em 0.6em; margin: 0 0.25em; line-height: 1; border-radius: 0.35em;\">\n",
       "    American College\n",
       "    <span style=\"font-size: 0.8em; font-weight: bold; line-height: 1; border-radius: 0.35em; text-transform: uppercase; vertical-align: middle; margin-left: 0.5rem\">BRAND</span>\n",
       "</mark>\n",
       "  OREGON W</div></span>"
      ],
      "text/plain": [
       "<IPython.core.display.HTML object>"
      ]
     },
     "metadata": {},
     "output_type": "display_data"
    },
    {
     "name": "stdout",
     "output_type": "stream",
     "text": [
      "{American College: 'BRAND'}\n"
     ]
    },
    {
     "data": {
      "text/html": [
       "<span class=\"tex2jax_ignore\"><div class=\"entities\" style=\"line-height: 2.5; direction: ltr\">\n",
       "<mark class=\"entity\" style=\"background: #ddd; padding: 0.45em 0.6em; margin: 0 0.25em; line-height: 1; border-radius: 0.35em;\">\n",
       "    Nevercold\n",
       "    <span style=\"font-size: 0.8em; font-weight: bold; line-height: 1; border-radius: 0.35em; text-transform: uppercase; vertical-align: middle; margin-left: 0.5rem\">BRAND</span>\n",
       "</mark>\n",
       " Norvik lämpöliivi</div></span>"
      ],
      "text/plain": [
       "<IPython.core.display.HTML object>"
      ]
     },
     "metadata": {},
     "output_type": "display_data"
    },
    {
     "name": "stdout",
     "output_type": "stream",
     "text": [
      "{Nevercold: 'BRAND'}\n"
     ]
    },
    {
     "data": {
      "text/html": [
       "<span class=\"tex2jax_ignore\"><div class=\"entities\" style=\"line-height: 2.5; direction: ltr\">\n",
       "<mark class=\"entity\" style=\"background: #ddd; padding: 0.45em 0.6em; margin: 0 0.25em; line-height: 1; border-radius: 0.35em;\">\n",
       "    Clavister\n",
       "    <span style=\"font-size: 0.8em; font-weight: bold; line-height: 1; border-radius: 0.35em; text-transform: uppercase; vertical-align: middle; margin-left: 0.5rem\">BRAND</span>\n",
       "</mark>\n",
       " Ngfw-e10</div></span>"
      ],
      "text/plain": [
       "<IPython.core.display.HTML object>"
      ]
     },
     "metadata": {},
     "output_type": "display_data"
    },
    {
     "name": "stdout",
     "output_type": "stream",
     "text": [
      "{Clavister: 'BRAND'}\n"
     ]
    },
    {
     "data": {
      "text/html": [
       "<span class=\"tex2jax_ignore\"><div class=\"entities\" style=\"line-height: 2.5; direction: ltr\">Pikakiinnitteinen Hihnalenkki \n",
       "<mark class=\"entity\" style=\"background: #ddd; padding: 0.45em 0.6em; margin: 0 0.25em; line-height: 1; border-radius: 0.35em;\">\n",
       "    26mm\n",
       "    <span style=\"font-size: 0.8em; font-weight: bold; line-height: 1; border-radius: 0.35em; text-transform: uppercase; vertical-align: middle; margin-left: 0.5rem\">SIZE</span>\n",
       "</mark>\n",
       " 2kpl</div></span>"
      ],
      "text/plain": [
       "<IPython.core.display.HTML object>"
      ]
     },
     "metadata": {},
     "output_type": "display_data"
    },
    {
     "name": "stdout",
     "output_type": "stream",
     "text": [
      "{26mm: 'SIZE'}\n"
     ]
    },
    {
     "data": {
      "text/html": [
       "<span class=\"tex2jax_ignore\"><div class=\"entities\" style=\"line-height: 2.5; direction: ltr\">\n",
       "<mark class=\"entity\" style=\"background: #ddd; padding: 0.45em 0.6em; margin: 0 0.25em; line-height: 1; border-radius: 0.35em;\">\n",
       "    Zolo\n",
       "    <span style=\"font-size: 0.8em; font-weight: bold; line-height: 1; border-radius: 0.35em; text-transform: uppercase; vertical-align: middle; margin-left: 0.5rem\">BRAND</span>\n",
       "</mark>\n",
       " – \n",
       "<mark class=\"entity\" style=\"background: #ddd; padding: 0.45em 0.6em; margin: 0 0.25em; line-height: 1; border-radius: 0.35em;\">\n",
       "    Cobra\n",
       "    <span style=\"font-size: 0.8em; font-weight: bold; line-height: 1; border-radius: 0.35em; text-transform: uppercase; vertical-align: middle; margin-left: 0.5rem\">BRAND</span>\n",
       "</mark>\n",
       " Masturbaattori</div></span>"
      ],
      "text/plain": [
       "<IPython.core.display.HTML object>"
      ]
     },
     "metadata": {},
     "output_type": "display_data"
    },
    {
     "name": "stdout",
     "output_type": "stream",
     "text": [
      "{Zolo: 'BRAND', Cobra: 'BRAND'}\n"
     ]
    },
    {
     "data": {
      "text/html": [
       "<span class=\"tex2jax_ignore\"><div class=\"entities\" style=\"line-height: 2.5; direction: ltr\">W Kolfax Korolliset Sandaalit Espadrillot \n",
       "<mark class=\"entity\" style=\"background: #ddd; padding: 0.45em 0.6em; margin: 0 0.25em; line-height: 1; border-radius: 0.35em;\">\n",
       "    Musta\n",
       "    <span style=\"font-size: 0.8em; font-weight: bold; line-height: 1; border-radius: 0.35em; text-transform: uppercase; vertical-align: middle; margin-left: 0.5rem\">COLOR</span>\n",
       "</mark>\n",
       " \n",
       "<mark class=\"entity\" style=\"background: #ddd; padding: 0.45em 0.6em; margin: 0 0.25em; line-height: 1; border-radius: 0.35em;\">\n",
       "    UGG\n",
       "    <span style=\"font-size: 0.8em; font-weight: bold; line-height: 1; border-radius: 0.35em; text-transform: uppercase; vertical-align: middle; margin-left: 0.5rem\">BRAND</span>\n",
       "</mark>\n",
       "</div></span>"
      ],
      "text/plain": [
       "<IPython.core.display.HTML object>"
      ]
     },
     "metadata": {},
     "output_type": "display_data"
    },
    {
     "name": "stdout",
     "output_type": "stream",
     "text": [
      "{Musta: 'COLOR', UGG: 'BRAND'}\n"
     ]
    },
    {
     "data": {
      "text/html": [
       "<span class=\"tex2jax_ignore\"><div class=\"entities\" style=\"line-height: 2.5; direction: ltr\">Reppu mi pac gtm021-740315-a03 \n",
       "<mark class=\"entity\" style=\"background: #ddd; padding: 0.45em 0.6em; margin: 0 0.25em; line-height: 1; border-radius: 0.35em;\">\n",
       "    red\n",
       "    <span style=\"font-size: 0.8em; font-weight: bold; line-height: 1; border-radius: 0.35em; text-transform: uppercase; vertical-align: middle; margin-left: 0.5rem\">COLOR</span>\n",
       "</mark>\n",
       " saatavana \n",
       "<mark class=\"entity\" style=\"background: #ddd; padding: 0.45em 0.6em; margin: 0 0.25em; line-height: 1; border-radius: 0.35em;\">\n",
       "    miesten\n",
       "    <span style=\"font-size: 0.8em; font-weight: bold; line-height: 1; border-radius: 0.35em; text-transform: uppercase; vertical-align: middle; margin-left: 0.5rem\">GENDER</span>\n",
       "</mark>\n",
       " kokoja \n",
       "<mark class=\"entity\" style=\"background: #ddd; padding: 0.45em 0.6em; margin: 0 0.25em; line-height: 1; border-radius: 0.35em;\">\n",
       "    yksi koko\n",
       "    <span style=\"font-size: 0.8em; font-weight: bold; line-height: 1; border-radius: 0.35em; text-transform: uppercase; vertical-align: middle; margin-left: 0.5rem\">SIZE</span>\n",
       "</mark>\n",
       "</div></span>"
      ],
      "text/plain": [
       "<IPython.core.display.HTML object>"
      ]
     },
     "metadata": {},
     "output_type": "display_data"
    },
    {
     "name": "stdout",
     "output_type": "stream",
     "text": [
      "{red: 'COLOR', miesten: 'GENDER', yksi koko: 'SIZE'}\n"
     ]
    },
    {
     "data": {
      "text/html": [
       "<span class=\"tex2jax_ignore\"><div class=\"entities\" style=\"line-height: 2.5; direction: ltr\">Päällekkäin voidaan kasata jopa \n",
       "<mark class=\"entity\" style=\"background: #ddd; padding: 0.45em 0.6em; margin: 0 0.25em; line-height: 1; border-radius: 0.35em;\">\n",
       "    15\n",
       "    <span style=\"font-size: 0.8em; font-weight: bold; line-height: 1; border-radius: 0.35em; text-transform: uppercase; vertical-align: middle; margin-left: 0.5rem\">SIZE</span>\n",
       "</mark>\n",
       " yksikköä tai \n",
       "<mark class=\"entity\" style=\"background: #ddd; padding: 0.45em 0.6em; margin: 0 0.25em; line-height: 1; border-radius: 0.35em;\">\n",
       "    75\n",
       "    <span style=\"font-size: 0.8em; font-weight: bold; line-height: 1; border-radius: 0.35em; text-transform: uppercase; vertical-align: middle; margin-left: 0.5rem\">SIZE</span>\n",
       "</mark>\n",
       " pulloa.</div></span>"
      ],
      "text/plain": [
       "<IPython.core.display.HTML object>"
      ]
     },
     "metadata": {},
     "output_type": "display_data"
    },
    {
     "name": "stdout",
     "output_type": "stream",
     "text": [
      "{15: 'SIZE', 75: 'SIZE'}\n"
     ]
    },
    {
     "data": {
      "text/html": [
       "<span class=\"tex2jax_ignore\"><div class=\"entities\" style=\"line-height: 2.5; direction: ltr\">Debora Jumpsuit Jumpsuit Haalari \n",
       "<mark class=\"entity\" style=\"background: #ddd; padding: 0.45em 0.6em; margin: 0 0.25em; line-height: 1; border-radius: 0.35em;\">\n",
       "    Oranssi\n",
       "    <span style=\"font-size: 0.8em; font-weight: bold; line-height: 1; border-radius: 0.35em; text-transform: uppercase; vertical-align: middle; margin-left: 0.5rem\">COLOR</span>\n",
       "</mark>\n",
       " \n",
       "<mark class=\"entity\" style=\"background: #ddd; padding: 0.45em 0.6em; margin: 0 0.25em; line-height: 1; border-radius: 0.35em;\">\n",
       "    Storm &amp; Marie\n",
       "    <span style=\"font-size: 0.8em; font-weight: bold; line-height: 1; border-radius: 0.35em; text-transform: uppercase; vertical-align: middle; margin-left: 0.5rem\">BRAND</span>\n",
       "</mark>\n",
       "</div></span>"
      ],
      "text/plain": [
       "<IPython.core.display.HTML object>"
      ]
     },
     "metadata": {},
     "output_type": "display_data"
    },
    {
     "name": "stdout",
     "output_type": "stream",
     "text": [
      "{Oranssi: 'COLOR', Storm & Marie: 'BRAND'}\n"
     ]
    },
    {
     "data": {
      "text/html": [
       "<span class=\"tex2jax_ignore\"><div class=\"entities\" style=\"line-height: 2.5; direction: ltr\">\n",
       "<mark class=\"entity\" style=\"background: #ddd; padding: 0.45em 0.6em; margin: 0 0.25em; line-height: 1; border-radius: 0.35em;\">\n",
       "    Marshal\n",
       "    <span style=\"font-size: 0.8em; font-weight: bold; line-height: 1; border-radius: 0.35em; text-transform: uppercase; vertical-align: middle; margin-left: 0.5rem\">BRAND</span>\n",
       "</mark>\n",
       " KRS03 ( \n",
       "<mark class=\"entity\" style=\"background: #ddd; padding: 0.45em 0.6em; margin: 0 0.25em; line-height: 1; border-radius: 0.35em;\">\n",
       "    8.5\n",
       "    <span style=\"font-size: 0.8em; font-weight: bold; line-height: 1; border-radius: 0.35em; text-transform: uppercase; vertical-align: middle; margin-left: 0.5rem\">SIZE</span>\n",
       "</mark>\n",
       " R17.5 121/120M 12PR )</div></span>"
      ],
      "text/plain": [
       "<IPython.core.display.HTML object>"
      ]
     },
     "metadata": {},
     "output_type": "display_data"
    },
    {
     "name": "stdout",
     "output_type": "stream",
     "text": [
      "{Marshal: 'BRAND', 8.5: 'SIZE'}\n"
     ]
    },
    {
     "data": {
      "text/html": [
       "<span class=\"tex2jax_ignore\"><div class=\"entities\" style=\"line-height: 2.5; direction: ltr\">\n",
       "<mark class=\"entity\" style=\"background: #ddd; padding: 0.45em 0.6em; margin: 0 0.25em; line-height: 1; border-radius: 0.35em;\">\n",
       "    Osram\n",
       "    <span style=\"font-size: 0.8em; font-weight: bold; line-height: 1; border-radius: 0.35em; text-transform: uppercase; vertical-align: middle; margin-left: 0.5rem\">BRAND</span>\n",
       "</mark>\n",
       " Parathom Retrofit \n",
       "<mark class=\"entity\" style=\"background: #ddd; padding: 0.45em 0.6em; margin: 0 0.25em; line-height: 1; border-radius: 0.35em;\">\n",
       "    Classic\n",
       "    <span style=\"font-size: 0.8em; font-weight: bold; line-height: 1; border-radius: 0.35em; text-transform: uppercase; vertical-align: middle; margin-left: 0.5rem\">BRAND</span>\n",
       "</mark>\n",
       " E27 P 4W 827 Matta | Erittäin \n",
       "<mark class=\"entity\" style=\"background: #ddd; padding: 0.45em 0.6em; margin: 0 0.25em; line-height: 1; border-radius: 0.35em;\">\n",
       "    Lämmin Valkoinen\n",
       "    <span style=\"font-size: 0.8em; font-weight: bold; line-height: 1; border-radius: 0.35em; text-transform: uppercase; vertical-align: middle; margin-left: 0.5rem\">COLOR</span>\n",
       "</mark>\n",
       " - Korvaa 40W</div></span>"
      ],
      "text/plain": [
       "<IPython.core.display.HTML object>"
      ]
     },
     "metadata": {},
     "output_type": "display_data"
    },
    {
     "name": "stdout",
     "output_type": "stream",
     "text": [
      "{Osram: 'BRAND', Classic: 'BRAND', Lämmin Valkoinen: 'COLOR'}\n"
     ]
    },
    {
     "data": {
      "text/html": [
       "<span class=\"tex2jax_ignore\"><div class=\"entities\" style=\"line-height: 2.5; direction: ltr\">Sandaalit \n",
       "<mark class=\"entity\" style=\"background: #ddd; padding: 0.45em 0.6em; margin: 0 0.25em; line-height: 1; border-radius: 0.35em;\">\n",
       "    Coolway\n",
       "    <span style=\"font-size: 0.8em; font-weight: bold; line-height: 1; border-radius: 0.35em; text-transform: uppercase; vertical-align: middle; margin-left: 0.5rem\">BRAND</span>\n",
       "</mark>\n",
       "  ANDREA</div></span>"
      ],
      "text/plain": [
       "<IPython.core.display.HTML object>"
      ]
     },
     "metadata": {},
     "output_type": "display_data"
    },
    {
     "name": "stdout",
     "output_type": "stream",
     "text": [
      "{Coolway: 'BRAND'}\n"
     ]
    },
    {
     "data": {
      "text/html": [
       "<span class=\"tex2jax_ignore\"><div class=\"entities\" style=\"line-height: 2.5; direction: ltr\">No More \n",
       "<mark class=\"entity\" style=\"background: #ddd; padding: 0.45em 0.6em; margin: 0 0.25em; line-height: 1; border-radius: 0.35em;\">\n",
       "    Yellow\n",
       "    <span style=\"font-size: 0.8em; font-weight: bold; line-height: 1; border-radius: 0.35em; text-transform: uppercase; vertical-align: middle; margin-left: 0.5rem\">COLOR</span>\n",
       "</mark>\n",
       " Shampoo \n",
       "<mark class=\"entity\" style=\"background: #ddd; padding: 0.45em 0.6em; margin: 0 0.25em; line-height: 1; border-radius: 0.35em;\">\n",
       "    400ml\n",
       "    <span style=\"font-size: 0.8em; font-weight: bold; line-height: 1; border-radius: 0.35em; text-transform: uppercase; vertical-align: middle; margin-left: 0.5rem\">SIZE</span>\n",
       "</mark>\n",
       "</div></span>"
      ],
      "text/plain": [
       "<IPython.core.display.HTML object>"
      ]
     },
     "metadata": {},
     "output_type": "display_data"
    },
    {
     "name": "stdout",
     "output_type": "stream",
     "text": [
      "{Yellow: 'COLOR', 400ml: 'SIZE'}\n"
     ]
    },
    {
     "data": {
      "text/html": [
       "<span class=\"tex2jax_ignore\"><div class=\"entities\" style=\"line-height: 2.5; direction: ltr\">\n",
       "<mark class=\"entity\" style=\"background: #ddd; padding: 0.45em 0.6em; margin: 0 0.25em; line-height: 1; border-radius: 0.35em;\">\n",
       "    Decode\n",
       "    <span style=\"font-size: 0.8em; font-weight: bold; line-height: 1; border-radius: 0.35em; text-transform: uppercase; vertical-align: middle; margin-left: 0.5rem\">BRAND</span>\n",
       "</mark>\n",
       " Vessel-pöytävalaisin, \n",
       "<mark class=\"entity\" style=\"background: #ddd; padding: 0.45em 0.6em; margin: 0 0.25em; line-height: 1; border-radius: 0.35em;\">\n",
       "    harmaa\n",
       "    <span style=\"font-size: 0.8em; font-weight: bold; line-height: 1; border-radius: 0.35em; text-transform: uppercase; vertical-align: middle; margin-left: 0.5rem\">COLOR</span>\n",
       "</mark>\n",
       "</div></span>"
      ],
      "text/plain": [
       "<IPython.core.display.HTML object>"
      ]
     },
     "metadata": {},
     "output_type": "display_data"
    },
    {
     "name": "stdout",
     "output_type": "stream",
     "text": [
      "{Decode: 'BRAND', harmaa: 'COLOR'}\n"
     ]
    },
    {
     "data": {
      "text/html": [
       "<span class=\"tex2jax_ignore\"><div class=\"entities\" style=\"line-height: 2.5; direction: ltr\">\n",
       "<mark class=\"entity\" style=\"background: #ddd; padding: 0.45em 0.6em; margin: 0 0.25em; line-height: 1; border-radius: 0.35em;\">\n",
       "    Battatura\n",
       "    <span style=\"font-size: 0.8em; font-weight: bold; line-height: 1; border-radius: 0.35em; text-transform: uppercase; vertical-align: middle; margin-left: 0.5rem\">BRAND</span>\n",
       "</mark>\n",
       " Silmälasit Raphael B168</div></span>"
      ],
      "text/plain": [
       "<IPython.core.display.HTML object>"
      ]
     },
     "metadata": {},
     "output_type": "display_data"
    },
    {
     "name": "stdout",
     "output_type": "stream",
     "text": [
      "{Battatura: 'BRAND'}\n"
     ]
    },
    {
     "data": {
      "text/html": [
       "<span class=\"tex2jax_ignore\"><div class=\"entities\" style=\"line-height: 2.5; direction: ltr\">\n",
       "<mark class=\"entity\" style=\"background: #ddd; padding: 0.45em 0.6em; margin: 0 0.25em; line-height: 1; border-radius: 0.35em;\">\n",
       "    Kookie Cat\n",
       "    <span style=\"font-size: 0.8em; font-weight: bold; line-height: 1; border-radius: 0.35em; text-transform: uppercase; vertical-align: middle; margin-left: 0.5rem\">BRAND</span>\n",
       "</mark>\n",
       " Salted \n",
       "<mark class=\"entity\" style=\"background: #ddd; padding: 0.45em 0.6em; margin: 0 0.25em; line-height: 1; border-radius: 0.35em;\">\n",
       "    Caramel\n",
       "    <span style=\"font-size: 0.8em; font-weight: bold; line-height: 1; border-radius: 0.35em; text-transform: uppercase; vertical-align: middle; margin-left: 0.5rem\">COLOR</span>\n",
       "</mark>\n",
       " &amp; Almo (L) \n",
       "<mark class=\"entity\" style=\"background: #ddd; padding: 0.45em 0.6em; margin: 0 0.25em; line-height: 1; border-radius: 0.35em;\">\n",
       "    50g\n",
       "    <span style=\"font-size: 0.8em; font-weight: bold; line-height: 1; border-radius: 0.35em; text-transform: uppercase; vertical-align: middle; margin-left: 0.5rem\">WEIGHT</span>\n",
       "</mark>\n",
       "</div></span>"
      ],
      "text/plain": [
       "<IPython.core.display.HTML object>"
      ]
     },
     "metadata": {},
     "output_type": "display_data"
    },
    {
     "name": "stdout",
     "output_type": "stream",
     "text": [
      "{Kookie Cat: 'BRAND', Caramel: 'COLOR', 50g: 'WEIGHT'}\n"
     ]
    },
    {
     "data": {
      "text/html": [
       "<span class=\"tex2jax_ignore\"><div class=\"entities\" style=\"line-height: 2.5; direction: ltr\">\n",
       "<mark class=\"entity\" style=\"background: #ddd; padding: 0.45em 0.6em; margin: 0 0.25em; line-height: 1; border-radius: 0.35em;\">\n",
       "    Freebra\n",
       "    <span style=\"font-size: 0.8em; font-weight: bold; line-height: 1; border-radius: 0.35em; text-transform: uppercase; vertical-align: middle; margin-left: 0.5rem\">BRAND</span>\n",
       "</mark>\n",
       " Freebra Lux Nude C</div></span>"
      ],
      "text/plain": [
       "<IPython.core.display.HTML object>"
      ]
     },
     "metadata": {},
     "output_type": "display_data"
    },
    {
     "name": "stdout",
     "output_type": "stream",
     "text": [
      "{Freebra: 'BRAND'}\n"
     ]
    },
    {
     "data": {
      "text/html": [
       "<span class=\"tex2jax_ignore\"><div class=\"entities\" style=\"line-height: 2.5; direction: ltr\">\n",
       "<mark class=\"entity\" style=\"background: #ddd; padding: 0.45em 0.6em; margin: 0 0.25em; line-height: 1; border-radius: 0.35em;\">\n",
       "    Red\n",
       "    <span style=\"font-size: 0.8em; font-weight: bold; line-height: 1; border-radius: 0.35em; text-transform: uppercase; vertical-align: middle; margin-left: 0.5rem\">COLOR</span>\n",
       "</mark>\n",
       " \n",
       "<mark class=\"entity\" style=\"background: #ddd; padding: 0.45em 0.6em; margin: 0 0.25em; line-height: 1; border-radius: 0.35em;\">\n",
       "    River\n",
       "    <span style=\"font-size: 0.8em; font-weight: bold; line-height: 1; border-radius: 0.35em; text-transform: uppercase; vertical-align: middle; margin-left: 0.5rem\">COLOR</span>\n",
       "</mark>\n",
       " Call Bandit on helpposoittoinen yleispetopilli, jossa on todella monipuoliset soitto-ominaisuudet. - yksikielinen (ääni kuuluu kauas) - jäniksen hätähuuto - linnun hätähuuto - sorkkaeläinten hätähuuto - helpposoittoinen ja tarvitsee vain vähän puhallusilmaa toimiakseen</div></span>"
      ],
      "text/plain": [
       "<IPython.core.display.HTML object>"
      ]
     },
     "metadata": {},
     "output_type": "display_data"
    },
    {
     "name": "stdout",
     "output_type": "stream",
     "text": [
      "{Red: 'COLOR', River: 'COLOR'}\n"
     ]
    },
    {
     "data": {
      "text/html": [
       "<span class=\"tex2jax_ignore\"><div class=\"entities\" style=\"line-height: 2.5; direction: ltr\">\n",
       "<mark class=\"entity\" style=\"background: #ddd; padding: 0.45em 0.6em; margin: 0 0.25em; line-height: 1; border-radius: 0.35em;\">\n",
       "    Sätila\n",
       "    <span style=\"font-size: 0.8em; font-weight: bold; line-height: 1; border-radius: 0.35em; text-transform: uppercase; vertical-align: middle; margin-left: 0.5rem\">BRAND</span>\n",
       "</mark>\n",
       " Inseros - Soft \n",
       "<mark class=\"entity\" style=\"background: #ddd; padding: 0.45em 0.6em; margin: 0 0.25em; line-height: 1; border-radius: 0.35em;\">\n",
       "    Pink\n",
       "    <span style=\"font-size: 0.8em; font-weight: bold; line-height: 1; border-radius: 0.35em; text-transform: uppercase; vertical-align: middle; margin-left: 0.5rem\">COLOR</span>\n",
       "</mark>\n",
       " - \n",
       "<mark class=\"entity\" style=\"background: #ddd; padding: 0.45em 0.6em; margin: 0 0.25em; line-height: 1; border-radius: 0.35em;\">\n",
       "    Unisex\n",
       "    <span style=\"font-size: 0.8em; font-weight: bold; line-height: 1; border-radius: 0.35em; text-transform: uppercase; vertical-align: middle; margin-left: 0.5rem\">GENDER</span>\n",
       "</mark>\n",
       " - \n",
       "<mark class=\"entity\" style=\"background: #ddd; padding: 0.45em 0.6em; margin: 0 0.25em; line-height: 1; border-radius: 0.35em;\">\n",
       "    OneSize\n",
       "    <span style=\"font-size: 0.8em; font-weight: bold; line-height: 1; border-radius: 0.35em; text-transform: uppercase; vertical-align: middle; margin-left: 0.5rem\">SIZE</span>\n",
       "</mark>\n",
       "</div></span>"
      ],
      "text/plain": [
       "<IPython.core.display.HTML object>"
      ]
     },
     "metadata": {},
     "output_type": "display_data"
    },
    {
     "name": "stdout",
     "output_type": "stream",
     "text": [
      "{Sätila: 'BRAND', Pink: 'COLOR', Unisex: 'GENDER', OneSize: 'SIZE'}\n"
     ]
    },
    {
     "data": {
      "text/html": [
       "<span class=\"tex2jax_ignore\"><div class=\"entities\" style=\"line-height: 2.5; direction: ltr\">\n",
       "<mark class=\"entity\" style=\"background: #ddd; padding: 0.45em 0.6em; margin: 0 0.25em; line-height: 1; border-radius: 0.35em;\">\n",
       "    Delux\n",
       "    <span style=\"font-size: 0.8em; font-weight: bold; line-height: 1; border-radius: 0.35em; text-transform: uppercase; vertical-align: middle; margin-left: 0.5rem\">BRAND</span>\n",
       "</mark>\n",
       " Eco-puuvillapyyhe, iso \n",
       "<mark class=\"entity\" style=\"background: #ddd; padding: 0.45em 0.6em; margin: 0 0.25em; line-height: 1; border-radius: 0.35em;\">\n",
       "    beige\n",
       "    <span style=\"font-size: 0.8em; font-weight: bold; line-height: 1; border-radius: 0.35em; text-transform: uppercase; vertical-align: middle; margin-left: 0.5rem\">COLOR</span>\n",
       "</mark>\n",
       "</div></span>"
      ],
      "text/plain": [
       "<IPython.core.display.HTML object>"
      ]
     },
     "metadata": {},
     "output_type": "display_data"
    },
    {
     "name": "stdout",
     "output_type": "stream",
     "text": [
      "{Delux: 'BRAND', beige: 'COLOR'}\n"
     ]
    },
    {
     "data": {
      "text/html": [
       "<span class=\"tex2jax_ignore\"><div class=\"entities\" style=\"line-height: 2.5; direction: ltr\">\n",
       "<mark class=\"entity\" style=\"background: #ddd; padding: 0.45em 0.6em; margin: 0 0.25em; line-height: 1; border-radius: 0.35em;\">\n",
       "    No Brand\n",
       "    <span style=\"font-size: 0.8em; font-weight: bold; line-height: 1; border-radius: 0.35em; text-transform: uppercase; vertical-align: middle; margin-left: 0.5rem\">BRAND</span>\n",
       "</mark>\n",
       " \n",
       "<mark class=\"entity\" style=\"background: #ddd; padding: 0.45em 0.6em; margin: 0 0.25em; line-height: 1; border-radius: 0.35em;\">\n",
       "    Krest\n",
       "    <span style=\"font-size: 0.8em; font-weight: bold; line-height: 1; border-radius: 0.35em; text-transform: uppercase; vertical-align: middle; margin-left: 0.5rem\">BRAND</span>\n",
       "</mark>\n",
       " \n",
       "<mark class=\"entity\" style=\"background: #ddd; padding: 0.45em 0.6em; margin: 0 0.25em; line-height: 1; border-radius: 0.35em;\">\n",
       "    56\n",
       "    <span style=\"font-size: 0.8em; font-weight: bold; line-height: 1; border-radius: 0.35em; text-transform: uppercase; vertical-align: middle; margin-left: 0.5rem\">SIZE</span>\n",
       "</mark>\n",
       " kam med stålsticka</div></span>"
      ],
      "text/plain": [
       "<IPython.core.display.HTML object>"
      ]
     },
     "metadata": {},
     "output_type": "display_data"
    },
    {
     "name": "stdout",
     "output_type": "stream",
     "text": [
      "{No Brand: 'BRAND', Krest: 'BRAND', 56: 'SIZE'}\n"
     ]
    },
    {
     "data": {
      "text/html": [
       "<span class=\"tex2jax_ignore\"><div class=\"entities\" style=\"line-height: 2.5; direction: ltr\">Röshults-Manhattan \n",
       "<mark class=\"entity\" style=\"background: #ddd; padding: 0.45em 0.6em; margin: 0 0.25em; line-height: 1; border-radius: 0.35em;\">\n",
       "    Bench\n",
       "    <span style=\"font-size: 0.8em; font-weight: bold; line-height: 1; border-radius: 0.35em; text-transform: uppercase; vertical-align: middle; margin-left: 0.5rem\">BRAND</span>\n",
       "</mark>\n",
       " Säilytyshuonekalu Raudasta</div></span>"
      ],
      "text/plain": [
       "<IPython.core.display.HTML object>"
      ]
     },
     "metadata": {},
     "output_type": "display_data"
    },
    {
     "name": "stdout",
     "output_type": "stream",
     "text": [
      "{Bench: 'BRAND'}\n"
     ]
    },
    {
     "data": {
      "text/html": [
       "<span class=\"tex2jax_ignore\"><div class=\"entities\" style=\"line-height: 2.5; direction: ltr\">\n",
       "<mark class=\"entity\" style=\"background: #ddd; padding: 0.45em 0.6em; margin: 0 0.25em; line-height: 1; border-radius: 0.35em;\">\n",
       "    Pulpe De Vie\n",
       "    <span style=\"font-size: 0.8em; font-weight: bold; line-height: 1; border-radius: 0.35em; text-transform: uppercase; vertical-align: middle; margin-left: 0.5rem\">BRAND</span>\n",
       "</mark>\n",
       " CHAPEAU -kosteuttava hoitoaine ja hiusnaamio</div></span>"
      ],
      "text/plain": [
       "<IPython.core.display.HTML object>"
      ]
     },
     "metadata": {},
     "output_type": "display_data"
    },
    {
     "name": "stdout",
     "output_type": "stream",
     "text": [
      "{Pulpe De Vie: 'BRAND'}\n"
     ]
    },
    {
     "data": {
      "text/html": [
       "<span class=\"tex2jax_ignore\"><div class=\"entities\" style=\"line-height: 2.5; direction: ltr\">\n",
       "<mark class=\"entity\" style=\"background: #ddd; padding: 0.45em 0.6em; margin: 0 0.25em; line-height: 1; border-radius: 0.35em;\">\n",
       "    Jill Stuart\n",
       "    <span style=\"font-size: 0.8em; font-weight: bold; line-height: 1; border-radius: 0.35em; text-transform: uppercase; vertical-align: middle; margin-left: 0.5rem\">BRAND</span>\n",
       "</mark>\n",
       " 1 Day UV \n",
       "<mark class=\"entity\" style=\"background: #ddd; padding: 0.45em 0.6em; margin: 0 0.25em; line-height: 1; border-radius: 0.35em;\">\n",
       "    30\n",
       "    <span style=\"font-size: 0.8em; font-weight: bold; line-height: 1; border-radius: 0.35em; text-transform: uppercase; vertical-align: middle; margin-left: 0.5rem\">SIZE</span>\n",
       "</mark>\n",
       " Pack Piilolinssit. Valmistaja: Jill Stuart. Käyttöaika Daily Disposable. Vesipitoisuus: %</div></span>"
      ],
      "text/plain": [
       "<IPython.core.display.HTML object>"
      ]
     },
     "metadata": {},
     "output_type": "display_data"
    },
    {
     "name": "stdout",
     "output_type": "stream",
     "text": [
      "{Jill Stuart: 'BRAND', 30: 'SIZE'}\n"
     ]
    },
    {
     "data": {
      "text/html": [
       "<span class=\"tex2jax_ignore\"><div class=\"entities\" style=\"line-height: 2.5; direction: ltr\">\n",
       "<mark class=\"entity\" style=\"background: #ddd; padding: 0.45em 0.6em; margin: 0 0.25em; line-height: 1; border-radius: 0.35em;\">\n",
       "    Astrid Olsen x NA-KD\n",
       "    <span style=\"font-size: 0.8em; font-weight: bold; line-height: 1; border-radius: 0.35em; text-transform: uppercase; vertical-align: middle; margin-left: 0.5rem\">BRAND</span>\n",
       "</mark>\n",
       " Utility Bag - \n",
       "<mark class=\"entity\" style=\"background: #ddd; padding: 0.45em 0.6em; margin: 0 0.25em; line-height: 1; border-radius: 0.35em;\">\n",
       "    Black\n",
       "    <span style=\"font-size: 0.8em; font-weight: bold; line-height: 1; border-radius: 0.35em; text-transform: uppercase; vertical-align: middle; margin-left: 0.5rem\">COLOR</span>\n",
       "</mark>\n",
       "</div></span>"
      ],
      "text/plain": [
       "<IPython.core.display.HTML object>"
      ]
     },
     "metadata": {},
     "output_type": "display_data"
    },
    {
     "name": "stdout",
     "output_type": "stream",
     "text": [
      "{Astrid Olsen x NA-KD: 'BRAND', Black: 'COLOR'}\n"
     ]
    },
    {
     "data": {
      "text/html": [
       "<span class=\"tex2jax_ignore\"><div class=\"entities\" style=\"line-height: 2.5; direction: ltr\">My First Big Floor Puzzle Farm Friends on upea palapeli aiheenaan erilaiset maatilan eläimet. \n",
       "<mark class=\"entity\" style=\"background: #ddd; padding: 0.45em 0.6em; margin: 0 0.25em; line-height: 1; border-radius: 0.35em;\">\n",
       "    Jo\n",
       "    <span style=\"font-size: 0.8em; font-weight: bold; line-height: 1; border-radius: 0.35em; text-transform: uppercase; vertical-align: middle; margin-left: 0.5rem\">BRAND</span>\n",
       "</mark>\n",
       " vuodesta 1995 lähtien on The Learning Joy valmistanut leluja lapsille eri alueilla, joten lapsi voi olla valmis esim. aloittamaan koulun.</div></span>"
      ],
      "text/plain": [
       "<IPython.core.display.HTML object>"
      ]
     },
     "metadata": {},
     "output_type": "display_data"
    },
    {
     "name": "stdout",
     "output_type": "stream",
     "text": [
      "{Jo: 'BRAND'}\n"
     ]
    },
    {
     "data": {
      "text/html": [
       "<span class=\"tex2jax_ignore\"><div class=\"entities\" style=\"line-height: 2.5; direction: ltr\">\n",
       "<mark class=\"entity\" style=\"background: #ddd; padding: 0.45em 0.6em; margin: 0 0.25em; line-height: 1; border-radius: 0.35em;\">\n",
       "    Whistler\n",
       "    <span style=\"font-size: 0.8em; font-weight: bold; line-height: 1; border-radius: 0.35em; text-transform: uppercase; vertical-align: middle; margin-left: 0.5rem\">BRAND</span>\n",
       "</mark>\n",
       " Wenlock Winter Outdoor Boot</div></span>"
      ],
      "text/plain": [
       "<IPython.core.display.HTML object>"
      ]
     },
     "metadata": {},
     "output_type": "display_data"
    },
    {
     "name": "stdout",
     "output_type": "stream",
     "text": [
      "{Whistler: 'BRAND'}\n"
     ]
    },
    {
     "data": {
      "text/html": [
       "<span class=\"tex2jax_ignore\"><div class=\"entities\" style=\"line-height: 2.5; direction: ltr\">\n",
       "<mark class=\"entity\" style=\"background: #ddd; padding: 0.45em 0.6em; margin: 0 0.25em; line-height: 1; border-radius: 0.35em;\">\n",
       "    Montana Goggles by SBG\n",
       "    <span style=\"font-size: 0.8em; font-weight: bold; line-height: 1; border-radius: 0.35em; text-transform: uppercase; vertical-align: middle; margin-left: 0.5rem\">BRAND</span>\n",
       "</mark>\n",
       " Aurinkolasit MG2 A</div></span>"
      ],
      "text/plain": [
       "<IPython.core.display.HTML object>"
      ]
     },
     "metadata": {},
     "output_type": "display_data"
    },
    {
     "name": "stdout",
     "output_type": "stream",
     "text": [
      "{Montana Goggles by SBG: 'BRAND'}\n"
     ]
    },
    {
     "data": {
      "text/html": [
       "<span class=\"tex2jax_ignore\"><div class=\"entities\" style=\"line-height: 2.5; direction: ltr\">\n",
       "<mark class=\"entity\" style=\"background: #ddd; padding: 0.45em 0.6em; margin: 0 0.25em; line-height: 1; border-radius: 0.35em;\">\n",
       "    Viking\n",
       "    <span style=\"font-size: 0.8em; font-weight: bold; line-height: 1; border-radius: 0.35em; text-transform: uppercase; vertical-align: middle; margin-left: 0.5rem\">BRAND</span>\n",
       "</mark>\n",
       " Babyautot, Ikkunalaatikko 1 set</div></span>"
      ],
      "text/plain": [
       "<IPython.core.display.HTML object>"
      ]
     },
     "metadata": {},
     "output_type": "display_data"
    },
    {
     "name": "stdout",
     "output_type": "stream",
     "text": [
      "{Viking: 'BRAND'}\n"
     ]
    },
    {
     "data": {
      "text/html": [
       "<span class=\"tex2jax_ignore\"><div class=\"entities\" style=\"line-height: 2.5; direction: ltr\">\n",
       "<mark class=\"entity\" style=\"background: #ddd; padding: 0.45em 0.6em; margin: 0 0.25em; line-height: 1; border-radius: 0.35em;\">\n",
       "    Dolphi\n",
       "    <span style=\"font-size: 0.8em; font-weight: bold; line-height: 1; border-radius: 0.35em; text-transform: uppercase; vertical-align: middle; margin-left: 0.5rem\">BRAND</span>\n",
       "</mark>\n",
       " - \n",
       "<mark class=\"entity\" style=\"background: #ddd; padding: 0.45em 0.6em; margin: 0 0.25em; line-height: 1; border-radius: 0.35em;\">\n",
       "    XXXXXL\n",
       "    <span style=\"font-size: 0.8em; font-weight: bold; line-height: 1; border-radius: 0.35em; text-transform: uppercase; vertical-align: middle; margin-left: 0.5rem\">SIZE</span>\n",
       "</mark>\n",
       " Kondomi, \n",
       "<mark class=\"entity\" style=\"background: #ddd; padding: 0.45em 0.6em; margin: 0 0.25em; line-height: 1; border-radius: 0.35em;\">\n",
       "    12\n",
       "    <span style=\"font-size: 0.8em; font-weight: bold; line-height: 1; border-radius: 0.35em; text-transform: uppercase; vertical-align: middle; margin-left: 0.5rem\">SIZE</span>\n",
       "</mark>\n",
       " kpl</div></span>"
      ],
      "text/plain": [
       "<IPython.core.display.HTML object>"
      ]
     },
     "metadata": {},
     "output_type": "display_data"
    },
    {
     "name": "stdout",
     "output_type": "stream",
     "text": [
      "{Dolphi: 'BRAND', XXXXXL: 'SIZE', 12: 'SIZE'}\n"
     ]
    },
    {
     "data": {
      "text/html": [
       "<span class=\"tex2jax_ignore\"><div class=\"entities\" style=\"line-height: 2.5; direction: ltr\">\n",
       "<mark class=\"entity\" style=\"background: #ddd; padding: 0.45em 0.6em; margin: 0 0.25em; line-height: 1; border-radius: 0.35em;\">\n",
       "    Emotions\n",
       "    <span style=\"font-size: 0.8em; font-weight: bold; line-height: 1; border-radius: 0.35em; text-transform: uppercase; vertical-align: middle; margin-left: 0.5rem\">BRAND</span>\n",
       "</mark>\n",
       " – Gi-Gi Harjoituspallot</div></span>"
      ],
      "text/plain": [
       "<IPython.core.display.HTML object>"
      ]
     },
     "metadata": {},
     "output_type": "display_data"
    },
    {
     "name": "stdout",
     "output_type": "stream",
     "text": [
      "{Emotions: 'BRAND'}\n"
     ]
    },
    {
     "data": {
      "text/html": [
       "<span class=\"tex2jax_ignore\"><div class=\"entities\" style=\"line-height: 2.5; direction: ltr\">\n",
       "<mark class=\"entity\" style=\"background: #ddd; padding: 0.45em 0.6em; margin: 0 0.25em; line-height: 1; border-radius: 0.35em;\">\n",
       "    The Ohm Collection\n",
       "    <span style=\"font-size: 0.8em; font-weight: bold; line-height: 1; border-radius: 0.35em; text-transform: uppercase; vertical-align: middle; margin-left: 0.5rem\">BRAND</span>\n",
       "</mark>\n",
       " deodorantti</div></span>"
      ],
      "text/plain": [
       "<IPython.core.display.HTML object>"
      ]
     },
     "metadata": {},
     "output_type": "display_data"
    },
    {
     "name": "stdout",
     "output_type": "stream",
     "text": [
      "{The Ohm Collection: 'BRAND'}\n"
     ]
    },
    {
     "data": {
      "text/html": [
       "<span class=\"tex2jax_ignore\"><div class=\"entities\" style=\"line-height: 2.5; direction: ltr\">\n",
       "<mark class=\"entity\" style=\"background: #ddd; padding: 0.45em 0.6em; margin: 0 0.25em; line-height: 1; border-radius: 0.35em;\">\n",
       "    Aqua Monaco\n",
       "    <span style=\"font-size: 0.8em; font-weight: bold; line-height: 1; border-radius: 0.35em; text-transform: uppercase; vertical-align: middle; margin-left: 0.5rem\">BRAND</span>\n",
       "</mark>\n",
       " Luomu \n",
       "<mark class=\"entity\" style=\"background: #ddd; padding: 0.45em 0.6em; margin: 0 0.25em; line-height: 1; border-radius: 0.35em;\">\n",
       "    Cola\n",
       "    <span style=\"font-size: 0.8em; font-weight: bold; line-height: 1; border-radius: 0.35em; text-transform: uppercase; vertical-align: middle; margin-left: 0.5rem\">COLOR</span>\n",
       "</mark>\n",
       " \n",
       "<mark class=\"entity\" style=\"background: #ddd; padding: 0.45em 0.6em; margin: 0 0.25em; line-height: 1; border-radius: 0.35em;\">\n",
       "    230ml\n",
       "    <span style=\"font-size: 0.8em; font-weight: bold; line-height: 1; border-radius: 0.35em; text-transform: uppercase; vertical-align: middle; margin-left: 0.5rem\">SIZE</span>\n",
       "</mark>\n",
       "</div></span>"
      ],
      "text/plain": [
       "<IPython.core.display.HTML object>"
      ]
     },
     "metadata": {},
     "output_type": "display_data"
    },
    {
     "name": "stdout",
     "output_type": "stream",
     "text": [
      "{Aqua Monaco: 'BRAND', Cola: 'COLOR', 230ml: 'SIZE'}\n"
     ]
    },
    {
     "data": {
      "text/html": [
       "<span class=\"tex2jax_ignore\"><div class=\"entities\" style=\"line-height: 2.5; direction: ltr\">\n",
       "<mark class=\"entity\" style=\"background: #ddd; padding: 0.45em 0.6em; margin: 0 0.25em; line-height: 1; border-radius: 0.35em;\">\n",
       "    Belladot\n",
       "    <span style=\"font-size: 0.8em; font-weight: bold; line-height: 1; border-radius: 0.35em; text-transform: uppercase; vertical-align: middle; margin-left: 0.5rem\">BRAND</span>\n",
       "</mark>\n",
       " - Ebba, \n",
       "<mark class=\"entity\" style=\"background: #ddd; padding: 0.45em 0.6em; margin: 0 0.25em; line-height: 1; border-radius: 0.35em;\">\n",
       "    Large\n",
       "    <span style=\"font-size: 0.8em; font-weight: bold; line-height: 1; border-radius: 0.35em; text-transform: uppercase; vertical-align: middle; margin-left: 0.5rem\">SIZE</span>\n",
       "</mark>\n",
       " Vibrating Dildo</div></span>"
      ],
      "text/plain": [
       "<IPython.core.display.HTML object>"
      ]
     },
     "metadata": {},
     "output_type": "display_data"
    },
    {
     "name": "stdout",
     "output_type": "stream",
     "text": [
      "{Belladot: 'BRAND', Large: 'SIZE'}\n"
     ]
    },
    {
     "data": {
      "text/html": [
       "<span class=\"tex2jax_ignore\"><div class=\"entities\" style=\"line-height: 2.5; direction: ltr\">\n",
       "<mark class=\"entity\" style=\"background: #ddd; padding: 0.45em 0.6em; margin: 0 0.25em; line-height: 1; border-radius: 0.35em;\">\n",
       "    Baseus\n",
       "    <span style=\"font-size: 0.8em; font-weight: bold; line-height: 1; border-radius: 0.35em; text-transform: uppercase; vertical-align: middle; margin-left: 0.5rem\">BRAND</span>\n",
       "</mark>\n",
       " Autoteline / Koukku niskatukeen</div></span>"
      ],
      "text/plain": [
       "<IPython.core.display.HTML object>"
      ]
     },
     "metadata": {},
     "output_type": "display_data"
    },
    {
     "name": "stdout",
     "output_type": "stream",
     "text": [
      "{Baseus: 'BRAND'}\n"
     ]
    }
   ],
   "source": [
    "for n in range(0,100):\n",
    "    doc = nlp(TRAIN_DATA[n][0])\n",
    "    spacy.displacy.render(doc, style=\"ent\")\n",
    "    ent_output(doc)"
   ]
  },
  {
   "cell_type": "markdown",
   "metadata": {},
   "source": [
    "### 2) Result on the unseen data"
   ]
  },
  {
   "cell_type": "code",
   "execution_count": 27,
   "metadata": {
    "scrolled": true
   },
   "outputs": [
    {
     "data": {
      "text/html": [
       "<span class=\"tex2jax_ignore\"><div class=\"entities\" style=\"line-height: 2.5; direction: ltr\">G4 PRO \n",
       "<mark class=\"entity\" style=\"background: #ddd; padding: 0.45em 0.6em; margin: 0 0.25em; line-height: 1; border-radius: 0.35em;\">\n",
       "    White\n",
       "    <span style=\"font-size: 0.8em; font-weight: bold; line-height: 1; border-radius: 0.35em; text-transform: uppercase; vertical-align: middle; margin-left: 0.5rem\">COLOR</span>\n",
       "</mark>\n",
       " mirror</div></span>"
      ],
      "text/plain": [
       "<IPython.core.display.HTML object>"
      ]
     },
     "metadata": {},
     "output_type": "display_data"
    },
    {
     "name": "stdout",
     "output_type": "stream",
     "text": [
      "{White: 'COLOR'}\n"
     ]
    },
    {
     "name": "stderr",
     "output_type": "stream",
     "text": [
      "/Applications/anaconda2/envs/Python3/lib/python3.8/site-packages/spacy/displacy/__init__.py:189: UserWarning: [W006] No entities to visualize found in Doc object. If this is surprising to you, make sure the Doc was processed using a model that supports named entity recognition, and check the `doc.ents` property manually if necessary.\n",
      "  warnings.warn(Warnings.W006)\n"
     ]
    },
    {
     "data": {
      "text/html": [
       "<span class=\"tex2jax_ignore\"><div class=\"entities\" style=\"line-height: 2.5; direction: ltr\">Tennarit CTALYMSI</div></span>"
      ],
      "text/plain": [
       "<IPython.core.display.HTML object>"
      ]
     },
     "metadata": {},
     "output_type": "display_data"
    },
    {
     "name": "stdout",
     "output_type": "stream",
     "text": [
      "{}\n"
     ]
    },
    {
     "data": {
      "text/html": [
       "<span class=\"tex2jax_ignore\"><div class=\"entities\" style=\"line-height: 2.5; direction: ltr\">False Lash Effect Velvet Volume Mascara, \n",
       "<mark class=\"entity\" style=\"background: #ddd; padding: 0.45em 0.6em; margin: 0 0.25em; line-height: 1; border-radius: 0.35em;\">\n",
       "    Black/Br\n",
       "    <span style=\"font-size: 0.8em; font-weight: bold; line-height: 1; border-radius: 0.35em; text-transform: uppercase; vertical-align: middle; margin-left: 0.5rem\">COLOR</span>\n",
       "</mark>\n",
       "</div></span>"
      ],
      "text/plain": [
       "<IPython.core.display.HTML object>"
      ]
     },
     "metadata": {},
     "output_type": "display_data"
    },
    {
     "name": "stdout",
     "output_type": "stream",
     "text": [
      "{Black/Br: 'COLOR'}\n"
     ]
    },
    {
     "data": {
      "text/html": [
       "<span class=\"tex2jax_ignore\"><div class=\"entities\" style=\"line-height: 2.5; direction: ltr\">\n",
       "<mark class=\"entity\" style=\"background: #ddd; padding: 0.45em 0.6em; margin: 0 0.25em; line-height: 1; border-radius: 0.35em;\">\n",
       "    Diesel\n",
       "    <span style=\"font-size: 0.8em; font-weight: bold; line-height: 1; border-radius: 0.35em; text-transform: uppercase; vertical-align: middle; margin-left: 0.5rem\">BRAND</span>\n",
       "</mark>\n",
       " Silmälasit DL5067 001</div></span>"
      ],
      "text/plain": [
       "<IPython.core.display.HTML object>"
      ]
     },
     "metadata": {},
     "output_type": "display_data"
    },
    {
     "name": "stdout",
     "output_type": "stream",
     "text": [
      "{Diesel: 'BRAND'}\n"
     ]
    },
    {
     "data": {
      "text/html": [
       "<span class=\"tex2jax_ignore\"><div class=\"entities\" style=\"line-height: 2.5; direction: ltr\">G15 \n",
       "<mark class=\"entity\" style=\"background: #ddd; padding: 0.45em 0.6em; margin: 0 0.25em; line-height: 1; border-radius: 0.35em;\">\n",
       "    Black\n",
       "    <span style=\"font-size: 0.8em; font-weight: bold; line-height: 1; border-radius: 0.35em; text-transform: uppercase; vertical-align: middle; margin-left: 0.5rem\">COLOR</span>\n",
       "</mark>\n",
       " Mat</div></span>"
      ],
      "text/plain": [
       "<IPython.core.display.HTML object>"
      ]
     },
     "metadata": {},
     "output_type": "display_data"
    },
    {
     "name": "stdout",
     "output_type": "stream",
     "text": [
      "{Black: 'COLOR'}\n"
     ]
    },
    {
     "data": {
      "text/html": [
       "<span class=\"tex2jax_ignore\"><div class=\"entities\" style=\"line-height: 2.5; direction: ltr\">G12 \n",
       "<mark class=\"entity\" style=\"background: #ddd; padding: 0.45em 0.6em; margin: 0 0.25em; line-height: 1; border-radius: 0.35em;\">\n",
       "    Black\n",
       "    <span style=\"font-size: 0.8em; font-weight: bold; line-height: 1; border-radius: 0.35em; text-transform: uppercase; vertical-align: middle; margin-left: 0.5rem\">COLOR</span>\n",
       "</mark>\n",
       " Shiny Polarized</div></span>"
      ],
      "text/plain": [
       "<IPython.core.display.HTML object>"
      ]
     },
     "metadata": {},
     "output_type": "display_data"
    },
    {
     "name": "stdout",
     "output_type": "stream",
     "text": [
      "{Black: 'COLOR'}\n"
     ]
    },
    {
     "data": {
      "text/html": [
       "<span class=\"tex2jax_ignore\"><div class=\"entities\" style=\"line-height: 2.5; direction: ltr\">Origami Pöytävalaisin, \n",
       "<mark class=\"entity\" style=\"background: #ddd; padding: 0.45em 0.6em; margin: 0 0.25em; line-height: 1; border-radius: 0.35em;\">\n",
       "    Valkoinen\n",
       "    <span style=\"font-size: 0.8em; font-weight: bold; line-height: 1; border-radius: 0.35em; text-transform: uppercase; vertical-align: middle; margin-left: 0.5rem\">COLOR</span>\n",
       "</mark>\n",
       "</div></span>"
      ],
      "text/plain": [
       "<IPython.core.display.HTML object>"
      ]
     },
     "metadata": {},
     "output_type": "display_data"
    },
    {
     "name": "stdout",
     "output_type": "stream",
     "text": [
      "{Valkoinen: 'COLOR'}\n"
     ]
    },
    {
     "data": {
      "text/html": [
       "<span class=\"tex2jax_ignore\"><div class=\"entities\" style=\"line-height: 2.5; direction: ltr\">\n",
       "<mark class=\"entity\" style=\"background: #ddd; padding: 0.45em 0.6em; margin: 0 0.25em; line-height: 1; border-radius: 0.35em;\">\n",
       "    Vredestein\n",
       "    <span style=\"font-size: 0.8em; font-weight: bold; line-height: 1; border-radius: 0.35em; text-transform: uppercase; vertical-align: middle; margin-left: 0.5rem\">BRAND</span>\n",
       "</mark>\n",
       " Flotation + ( 400/70 -20 150A8 TL )</div></span>"
      ],
      "text/plain": [
       "<IPython.core.display.HTML object>"
      ]
     },
     "metadata": {},
     "output_type": "display_data"
    },
    {
     "name": "stdout",
     "output_type": "stream",
     "text": [
      "{Vredestein: 'BRAND'}\n"
     ]
    },
    {
     "data": {
      "text/html": [
       "<span class=\"tex2jax_ignore\"><div class=\"entities\" style=\"line-height: 2.5; direction: ltr\">\n",
       "<mark class=\"entity\" style=\"background: #ddd; padding: 0.45em 0.6em; margin: 0 0.25em; line-height: 1; border-radius: 0.35em;\">\n",
       "    Diesel\n",
       "    <span style=\"font-size: 0.8em; font-weight: bold; line-height: 1; border-radius: 0.35em; text-transform: uppercase; vertical-align: middle; margin-left: 0.5rem\">BRAND</span>\n",
       "</mark>\n",
       " Silmälasit DL5050 050</div></span>"
      ],
      "text/plain": [
       "<IPython.core.display.HTML object>"
      ]
     },
     "metadata": {},
     "output_type": "display_data"
    },
    {
     "name": "stdout",
     "output_type": "stream",
     "text": [
      "{Diesel: 'BRAND'}\n"
     ]
    },
    {
     "data": {
      "text/html": [
       "<span class=\"tex2jax_ignore\"><div class=\"entities\" style=\"line-height: 2.5; direction: ltr\">\n",
       "<mark class=\"entity\" style=\"background: #ddd; padding: 0.45em 0.6em; margin: 0 0.25em; line-height: 1; border-radius: 0.35em;\">\n",
       "    Gloryfy Gi15 St\n",
       "    <span style=\"font-size: 0.8em; font-weight: bold; line-height: 1; border-radius: 0.35em; text-transform: uppercase; vertical-align: middle; margin-left: 0.5rem\">BRAND</span>\n",
       "</mark>\n",
       " Pauli Havanna Shiny</div></span>"
      ],
      "text/plain": [
       "<IPython.core.display.HTML object>"
      ]
     },
     "metadata": {},
     "output_type": "display_data"
    },
    {
     "name": "stdout",
     "output_type": "stream",
     "text": [
      "{Gloryfy Gi15 St: 'BRAND'}\n"
     ]
    },
    {
     "data": {
      "text/html": [
       "<span class=\"tex2jax_ignore\"><div class=\"entities\" style=\"line-height: 2.5; direction: ltr\">Umbra Dress Maksimekko Juhlamekko \n",
       "<mark class=\"entity\" style=\"background: #ddd; padding: 0.45em 0.6em; margin: 0 0.25em; line-height: 1; border-radius: 0.35em;\">\n",
       "    Vaaleanpunainen\n",
       "    <span style=\"font-size: 0.8em; font-weight: bold; line-height: 1; border-radius: 0.35em; text-transform: uppercase; vertical-align: middle; margin-left: 0.5rem\">COLOR</span>\n",
       "</mark>\n",
       " \n",
       "<mark class=\"entity\" style=\"background: #ddd; padding: 0.45em 0.6em; margin: 0 0.25em; line-height: 1; border-radius: 0.35em;\">\n",
       "    Résumé\n",
       "    <span style=\"font-size: 0.8em; font-weight: bold; line-height: 1; border-radius: 0.35em; text-transform: uppercase; vertical-align: middle; margin-left: 0.5rem\">BRAND</span>\n",
       "</mark>\n",
       "</div></span>"
      ],
      "text/plain": [
       "<IPython.core.display.HTML object>"
      ]
     },
     "metadata": {},
     "output_type": "display_data"
    },
    {
     "name": "stdout",
     "output_type": "stream",
     "text": [
      "{Vaaleanpunainen: 'COLOR', Résumé: 'BRAND'}\n"
     ]
    },
    {
     "data": {
      "text/html": [
       "<span class=\"tex2jax_ignore\"><div class=\"entities\" style=\"line-height: 2.5; direction: ltr\">\n",
       "<mark class=\"entity\" style=\"background: #ddd; padding: 0.45em 0.6em; margin: 0 0.25em; line-height: 1; border-radius: 0.35em;\">\n",
       "    Superdry\n",
       "    <span style=\"font-size: 0.8em; font-weight: bold; line-height: 1; border-radius: 0.35em; text-transform: uppercase; vertical-align: middle; margin-left: 0.5rem\">BRAND</span>\n",
       "</mark>\n",
       " Silmälasit SDO YUMI \n",
       "<mark class=\"entity\" style=\"background: #ddd; padding: 0.45em 0.6em; margin: 0 0.25em; line-height: 1; border-radius: 0.35em;\">\n",
       "    104\n",
       "    <span style=\"font-size: 0.8em; font-weight: bold; line-height: 1; border-radius: 0.35em; text-transform: uppercase; vertical-align: middle; margin-left: 0.5rem\">SIZE</span>\n",
       "</mark>\n",
       "</div></span>"
      ],
      "text/plain": [
       "<IPython.core.display.HTML object>"
      ]
     },
     "metadata": {},
     "output_type": "display_data"
    },
    {
     "name": "stdout",
     "output_type": "stream",
     "text": [
      "{Superdry: 'BRAND', 104: 'SIZE'}\n"
     ]
    },
    {
     "data": {
      "text/html": [
       "<span class=\"tex2jax_ignore\"><div class=\"entities\" style=\"line-height: 2.5; direction: ltr\">Norr Leipäveitsi \n",
       "<mark class=\"entity\" style=\"background: #ddd; padding: 0.45em 0.6em; margin: 0 0.25em; line-height: 1; border-radius: 0.35em;\">\n",
       "    21 cm\n",
       "    <span style=\"font-size: 0.8em; font-weight: bold; line-height: 1; border-radius: 0.35em; text-transform: uppercase; vertical-align: middle; margin-left: 0.5rem\">SIZE</span>\n",
       "</mark>\n",
       "</div></span>"
      ],
      "text/plain": [
       "<IPython.core.display.HTML object>"
      ]
     },
     "metadata": {},
     "output_type": "display_data"
    },
    {
     "name": "stdout",
     "output_type": "stream",
     "text": [
      "{21 cm: 'SIZE'}\n"
     ]
    },
    {
     "data": {
      "text/html": [
       "<span class=\"tex2jax_ignore\"><div class=\"entities\" style=\"line-height: 2.5; direction: ltr\">Essential for Her, EdT \n",
       "<mark class=\"entity\" style=\"background: #ddd; padding: 0.45em 0.6em; margin: 0 0.25em; line-height: 1; border-radius: 0.35em;\">\n",
       "    40ml\n",
       "    <span style=\"font-size: 0.8em; font-weight: bold; line-height: 1; border-radius: 0.35em; text-transform: uppercase; vertical-align: middle; margin-left: 0.5rem\">SIZE</span>\n",
       "</mark>\n",
       "</div></span>"
      ],
      "text/plain": [
       "<IPython.core.display.HTML object>"
      ]
     },
     "metadata": {},
     "output_type": "display_data"
    },
    {
     "name": "stdout",
     "output_type": "stream",
     "text": [
      "{40ml: 'SIZE'}\n"
     ]
    },
    {
     "data": {
      "text/html": [
       "<span class=\"tex2jax_ignore\"><div class=\"entities\" style=\"line-height: 2.5; direction: ltr\">FF Veitsitukki 5 veistä \n",
       "<mark class=\"entity\" style=\"background: #ddd; padding: 0.45em 0.6em; margin: 0 0.25em; line-height: 1; border-radius: 0.35em;\">\n",
       "    valkoinen\n",
       "    <span style=\"font-size: 0.8em; font-weight: bold; line-height: 1; border-radius: 0.35em; text-transform: uppercase; vertical-align: middle; margin-left: 0.5rem\">COLOR</span>\n",
       "</mark>\n",
       "</div></span>"
      ],
      "text/plain": [
       "<IPython.core.display.HTML object>"
      ]
     },
     "metadata": {},
     "output_type": "display_data"
    },
    {
     "name": "stdout",
     "output_type": "stream",
     "text": [
      "{valkoinen: 'COLOR'}\n"
     ]
    },
    {
     "data": {
      "text/html": [
       "<span class=\"tex2jax_ignore\"><div class=\"entities\" style=\"line-height: 2.5; direction: ltr\">GI21 Dante \n",
       "<mark class=\"entity\" style=\"background: #ddd; padding: 0.45em 0.6em; margin: 0 0.25em; line-height: 1; border-radius: 0.35em;\">\n",
       "    Red\n",
       "    <span style=\"font-size: 0.8em; font-weight: bold; line-height: 1; border-radius: 0.35em; text-transform: uppercase; vertical-align: middle; margin-left: 0.5rem\">COLOR</span>\n",
       "</mark>\n",
       "</div></span>"
      ],
      "text/plain": [
       "<IPython.core.display.HTML object>"
      ]
     },
     "metadata": {},
     "output_type": "display_data"
    },
    {
     "name": "stdout",
     "output_type": "stream",
     "text": [
      "{Red: 'COLOR'}\n"
     ]
    },
    {
     "data": {
      "text/html": [
       "<span class=\"tex2jax_ignore\"><div class=\"entities\" style=\"line-height: 2.5; direction: ltr\">\n",
       "<mark class=\"entity\" style=\"background: #ddd; padding: 0.45em 0.6em; margin: 0 0.25em; line-height: 1; border-radius: 0.35em;\">\n",
       "    Dana Buchman\n",
       "    <span style=\"font-size: 0.8em; font-weight: bold; line-height: 1; border-radius: 0.35em; text-transform: uppercase; vertical-align: middle; margin-left: 0.5rem\">BRAND</span>\n",
       "</mark>\n",
       " Silmälasit Poppi \n",
       "<mark class=\"entity\" style=\"background: #ddd; padding: 0.45em 0.6em; margin: 0 0.25em; line-height: 1; border-radius: 0.35em;\">\n",
       "    BLACK\n",
       "    <span style=\"font-size: 0.8em; font-weight: bold; line-height: 1; border-radius: 0.35em; text-transform: uppercase; vertical-align: middle; margin-left: 0.5rem\">COLOR</span>\n",
       "</mark>\n",
       "</div></span>"
      ],
      "text/plain": [
       "<IPython.core.display.HTML object>"
      ]
     },
     "metadata": {},
     "output_type": "display_data"
    },
    {
     "name": "stdout",
     "output_type": "stream",
     "text": [
      "{Dana Buchman: 'BRAND', BLACK: 'COLOR'}\n"
     ]
    },
    {
     "data": {
      "text/html": [
       "<span class=\"tex2jax_ignore\"><div class=\"entities\" style=\"line-height: 2.5; direction: ltr\">\n",
       "<mark class=\"entity\" style=\"background: #ddd; padding: 0.45em 0.6em; margin: 0 0.25em; line-height: 1; border-radius: 0.35em;\">\n",
       "    Roberto Cavalli\n",
       "    <span style=\"font-size: 0.8em; font-weight: bold; line-height: 1; border-radius: 0.35em; text-transform: uppercase; vertical-align: middle; margin-left: 0.5rem\">BRAND</span>\n",
       "</mark>\n",
       " Silmälasit RC 5053 FOLLONICA A56</div></span>"
      ],
      "text/plain": [
       "<IPython.core.display.HTML object>"
      ]
     },
     "metadata": {},
     "output_type": "display_data"
    },
    {
     "name": "stdout",
     "output_type": "stream",
     "text": [
      "{Roberto Cavalli: 'BRAND'}\n"
     ]
    }
   ],
   "source": [
    "for n in range(0,100):\n",
    "    if df['title'].loc[n] not in titles_unique_brand:\n",
    "        doc = nlp(df['title'].loc[n])\n",
    "        spacy.displacy.render(doc, style=\"ent\")\n",
    "        ent_output(doc)"
   ]
  },
  {
   "cell_type": "code",
   "execution_count": 28,
   "metadata": {
    "scrolled": true
   },
   "outputs": [
    {
     "data": {
      "text/html": [
       "<span class=\"tex2jax_ignore\"><div class=\"entities\" style=\"line-height: 2.5; direction: ltr\">Särkymättömät huippulaadukkaat lasit tummalla linssillä.</div></span>"
      ],
      "text/plain": [
       "<IPython.core.display.HTML object>"
      ]
     },
     "metadata": {},
     "output_type": "display_data"
    },
    {
     "name": "stdout",
     "output_type": "stream",
     "text": [
      "{}\n"
     ]
    },
    {
     "data": {
      "text/html": [
       "<span class=\"tex2jax_ignore\"><div class=\"entities\" style=\"line-height: 2.5; direction: ltr\">\n",
       "<mark class=\"entity\" style=\"background: #ddd; padding: 0.45em 0.6em; margin: 0 0.25em; line-height: 1; border-radius: 0.35em;\">\n",
       "    New Balance\n",
       "    <span style=\"font-size: 0.8em; font-weight: bold; line-height: 1; border-radius: 0.35em; text-transform: uppercase; vertical-align: middle; margin-left: 0.5rem\">BRAND</span>\n",
       "</mark>\n",
       " -nahkatennarit. Kengissä on kullanväriset yksityiskohdat ja läpässä kirjailtu logo. Kumipohja ja kangasvuori.</div></span>"
      ],
      "text/plain": [
       "<IPython.core.display.HTML object>"
      ]
     },
     "metadata": {},
     "output_type": "display_data"
    },
    {
     "name": "stdout",
     "output_type": "stream",
     "text": [
      "{New Balance: 'BRAND'}\n"
     ]
    },
    {
     "data": {
      "text/html": [
       "<span class=\"tex2jax_ignore\"><div class=\"entities\" style=\"line-height: 2.5; direction: ltr\">\n",
       "<mark class=\"entity\" style=\"background: #ddd; padding: 0.45em 0.6em; margin: 0 0.25em; line-height: 1; border-radius: 0.35em;\">\n",
       "    Diesel\n",
       "    <span style=\"font-size: 0.8em; font-weight: bold; line-height: 1; border-radius: 0.35em; text-transform: uppercase; vertical-align: middle; margin-left: 0.5rem\">BRAND</span>\n",
       "</mark>\n",
       " DL5067 Silmälasit. Collection:Men. Kehyksen Väri: \n",
       "<mark class=\"entity\" style=\"background: #ddd; padding: 0.45em 0.6em; margin: 0 0.25em; line-height: 1; border-radius: 0.35em;\">\n",
       "    Shiny Black.\n",
       "    <span style=\"font-size: 0.8em; font-weight: bold; line-height: 1; border-radius: 0.35em; text-transform: uppercase; vertical-align: middle; margin-left: 0.5rem\">COLOR</span>\n",
       "</mark>\n",
       " Kehysmateriaali: \n",
       "<mark class=\"entity\" style=\"background: #ddd; padding: 0.45em 0.6em; margin: 0 0.25em; line-height: 1; border-radius: 0.35em;\">\n",
       "    Plastic.\n",
       "    <span style=\"font-size: 0.8em; font-weight: bold; line-height: 1; border-radius: 0.35em; text-transform: uppercase; vertical-align: middle; margin-left: 0.5rem\">MATERIAL</span>\n",
       "</mark>\n",
       " Koko: \n",
       "<mark class=\"entity\" style=\"background: #ddd; padding: 0.45em 0.6em; margin: 0 0.25em; line-height: 1; border-radius: 0.35em;\">\n",
       "    54.\n",
       "    <span style=\"font-size: 0.8em; font-weight: bold; line-height: 1; border-radius: 0.35em; text-transform: uppercase; vertical-align: middle; margin-left: 0.5rem\">SIZE</span>\n",
       "</mark>\n",
       "</div></span>"
      ],
      "text/plain": [
       "<IPython.core.display.HTML object>"
      ]
     },
     "metadata": {},
     "output_type": "display_data"
    },
    {
     "name": "stdout",
     "output_type": "stream",
     "text": [
      "{Diesel: 'BRAND', Shiny Black.: 'COLOR', Plastic.: 'MATERIAL', 54.: 'SIZE'}\n"
     ]
    },
    {
     "data": {
      "text/html": [
       "<span class=\"tex2jax_ignore\"><div class=\"entities\" style=\"line-height: 2.5; direction: ltr\">Särkymättömät huippulaadukkaat aurinkolasit. Cat 3.</div></span>"
      ],
      "text/plain": [
       "<IPython.core.display.HTML object>"
      ]
     },
     "metadata": {},
     "output_type": "display_data"
    },
    {
     "name": "stdout",
     "output_type": "stream",
     "text": [
      "{}\n"
     ]
    },
    {
     "data": {
      "text/html": [
       "<span class=\"tex2jax_ignore\"><div class=\"entities\" style=\"line-height: 2.5; direction: ltr\">Särkymättömät huippulaadukkaat aurinkolasit polarisoivilla linsseillä. Cat 3.</div></span>"
      ],
      "text/plain": [
       "<IPython.core.display.HTML object>"
      ]
     },
     "metadata": {},
     "output_type": "display_data"
    },
    {
     "name": "stdout",
     "output_type": "stream",
     "text": [
      "{}\n"
     ]
    },
    {
     "data": {
      "text/html": [
       "<span class=\"tex2jax_ignore\"><div class=\"entities\" style=\"line-height: 2.5; direction: ltr\">Japanilaisista origami-paperiteoksista inspiraationsa saanut pöytävalaisin on valmistettu paperista ja mangopuusta. Yksityiskohtainen, ja kaunis varjostin pysyy paikoillaan magneettien avulla.</div></span>"
      ],
      "text/plain": [
       "<IPython.core.display.HTML object>"
      ]
     },
     "metadata": {},
     "output_type": "display_data"
    },
    {
     "name": "stdout",
     "output_type": "stream",
     "text": [
      "{}\n"
     ]
    },
    {
     "data": {
      "text/html": [
       "<span class=\"tex2jax_ignore\"><div class=\"entities\" style=\"line-height: 2.5; direction: ltr\">Ideaali rengas vaativaan ajoon. • Vankka diagonaalirakenne. • Ainutlaatuinen proofili. • Suuri kosketuspinta. Korkean kuormituskyvyn avulla ja melko vähäisellä rengaspaineella Flotation+ on ideaali rengas raskaaseen ajoon. Maksimoitu leveys ja suuri ilmavolyymi tekee renkaasta erityisen sopivan maatalouskoneille. Modernin runkorakenteensa ja ainutlaatuisen suunnittelunsa avulla Flotation+ selviytyy joka tehtävästä. Korkean ajomukavuuden lisäksi rengas omaa erinomaisen itsepuhdistusominaisuuden. Tämä mahdollistaa renkaan pyörimisen kaikissa olosuhteissa ja takaa optimoidun sivuvakauden.</div></span>"
      ],
      "text/plain": [
       "<IPython.core.display.HTML object>"
      ]
     },
     "metadata": {},
     "output_type": "display_data"
    },
    {
     "name": "stdout",
     "output_type": "stream",
     "text": [
      "{}\n"
     ]
    },
    {
     "data": {
      "text/html": [
       "<span class=\"tex2jax_ignore\"><div class=\"entities\" style=\"line-height: 2.5; direction: ltr\">\n",
       "<mark class=\"entity\" style=\"background: #ddd; padding: 0.45em 0.6em; margin: 0 0.25em; line-height: 1; border-radius: 0.35em;\">\n",
       "    Diesel\n",
       "    <span style=\"font-size: 0.8em; font-weight: bold; line-height: 1; border-radius: 0.35em; text-transform: uppercase; vertical-align: middle; margin-left: 0.5rem\">BRAND</span>\n",
       "</mark>\n",
       " DL5050 Silmälasit. Collection:Men. Kehyksen Väri: \n",
       "<mark class=\"entity\" style=\"background: #ddd; padding: 0.45em 0.6em; margin: 0 0.25em; line-height: 1; border-radius: 0.35em;\">\n",
       "    Black.\n",
       "    <span style=\"font-size: 0.8em; font-weight: bold; line-height: 1; border-radius: 0.35em; text-transform: uppercase; vertical-align: middle; margin-left: 0.5rem\">COLOR</span>\n",
       "</mark>\n",
       " Kehysmateriaali: \n",
       "<mark class=\"entity\" style=\"background: #ddd; padding: 0.45em 0.6em; margin: 0 0.25em; line-height: 1; border-radius: 0.35em;\">\n",
       "    Plastic.\n",
       "    <span style=\"font-size: 0.8em; font-weight: bold; line-height: 1; border-radius: 0.35em; text-transform: uppercase; vertical-align: middle; margin-left: 0.5rem\">MATERIAL</span>\n",
       "</mark>\n",
       " Koko: \n",
       "<mark class=\"entity\" style=\"background: #ddd; padding: 0.45em 0.6em; margin: 0 0.25em; line-height: 1; border-radius: 0.35em;\">\n",
       "    52.\n",
       "    <span style=\"font-size: 0.8em; font-weight: bold; line-height: 1; border-radius: 0.35em; text-transform: uppercase; vertical-align: middle; margin-left: 0.5rem\">SIZE</span>\n",
       "</mark>\n",
       "</div></span>"
      ],
      "text/plain": [
       "<IPython.core.display.HTML object>"
      ]
     },
     "metadata": {},
     "output_type": "display_data"
    },
    {
     "name": "stdout",
     "output_type": "stream",
     "text": [
      "{Diesel: 'BRAND', Black.: 'COLOR', Plastic.: 'MATERIAL', 52.: 'SIZE'}\n"
     ]
    },
    {
     "data": {
      "text/html": [
       "<span class=\"tex2jax_ignore\"><div class=\"entities\" style=\"line-height: 2.5; direction: ltr\">Särkymättömät aurinkolasit. Cat 2.</div></span>"
      ],
      "text/plain": [
       "<IPython.core.display.HTML object>"
      ]
     },
     "metadata": {},
     "output_type": "display_data"
    },
    {
     "name": "stdout",
     "output_type": "stream",
     "text": [
      "{}\n"
     ]
    },
    {
     "data": {
      "text/html": [
       "<span class=\"tex2jax_ignore\"><div class=\"entities\" style=\"line-height: 2.5; direction: ltr\">\n",
       "<mark class=\"entity\" style=\"background: #ddd; padding: 0.45em 0.6em; margin: 0 0.25em; line-height: 1; border-radius: 0.35em;\">\n",
       "    Résumé\n",
       "    <span style=\"font-size: 0.8em; font-weight: bold; line-height: 1; border-radius: 0.35em; text-transform: uppercase; vertical-align: middle; margin-left: 0.5rem\">BRAND</span>\n",
       "</mark>\n",
       " Umbra Dress</div></span>"
      ],
      "text/plain": [
       "<IPython.core.display.HTML object>"
      ]
     },
     "metadata": {},
     "output_type": "display_data"
    },
    {
     "name": "stdout",
     "output_type": "stream",
     "text": [
      "{Résumé: 'BRAND'}\n"
     ]
    },
    {
     "data": {
      "text/html": [
       "<span class=\"tex2jax_ignore\"><div class=\"entities\" style=\"line-height: 2.5; direction: ltr\">\n",
       "<mark class=\"entity\" style=\"background: #ddd; padding: 0.45em 0.6em; margin: 0 0.25em; line-height: 1; border-radius: 0.35em;\">\n",
       "    Superdry\n",
       "    <span style=\"font-size: 0.8em; font-weight: bold; line-height: 1; border-radius: 0.35em; text-transform: uppercase; vertical-align: middle; margin-left: 0.5rem\">BRAND</span>\n",
       "</mark>\n",
       " SDO YUMI Silmälasit. Collection:Men. Kehyksen Väri: \n",
       "<mark class=\"entity\" style=\"background: #ddd; padding: 0.45em 0.6em; margin: 0 0.25em; line-height: 1; border-radius: 0.35em;\">\n",
       "    Black.\n",
       "    <span style=\"font-size: 0.8em; font-weight: bold; line-height: 1; border-radius: 0.35em; text-transform: uppercase; vertical-align: middle; margin-left: 0.5rem\">COLOR</span>\n",
       "</mark>\n",
       " Kehysmateriaali: \n",
       "<mark class=\"entity\" style=\"background: #ddd; padding: 0.45em 0.6em; margin: 0 0.25em; line-height: 1; border-radius: 0.35em;\">\n",
       "    Plastic.\n",
       "    <span style=\"font-size: 0.8em; font-weight: bold; line-height: 1; border-radius: 0.35em; text-transform: uppercase; vertical-align: middle; margin-left: 0.5rem\">MATERIAL</span>\n",
       "</mark>\n",
       " Koko: \n",
       "<mark class=\"entity\" style=\"background: #ddd; padding: 0.45em 0.6em; margin: 0 0.25em; line-height: 1; border-radius: 0.35em;\">\n",
       "    52.\n",
       "    <span style=\"font-size: 0.8em; font-weight: bold; line-height: 1; border-radius: 0.35em; text-transform: uppercase; vertical-align: middle; margin-left: 0.5rem\">SIZE</span>\n",
       "</mark>\n",
       "</div></span>"
      ],
      "text/plain": [
       "<IPython.core.display.HTML object>"
      ]
     },
     "metadata": {},
     "output_type": "display_data"
    },
    {
     "name": "stdout",
     "output_type": "stream",
     "text": [
      "{Superdry: 'BRAND', Black.: 'COLOR', Plastic.: 'MATERIAL', 52.: 'SIZE'}\n"
     ]
    },
    {
     "data": {
      "text/html": [
       "<span class=\"tex2jax_ignore\"><div class=\"entities\" style=\"line-height: 2.5; direction: ltr\">Äärimmäisen härskinnäköiset särkymättömät aurinkolasit.</div></span>"
      ],
      "text/plain": [
       "<IPython.core.display.HTML object>"
      ]
     },
     "metadata": {},
     "output_type": "display_data"
    },
    {
     "name": "stdout",
     "output_type": "stream",
     "text": [
      "{}\n"
     ]
    },
    {
     "data": {
      "text/html": [
       "<span class=\"tex2jax_ignore\"><div class=\"entities\" style=\"line-height: 2.5; direction: ltr\">\n",
       "<mark class=\"entity\" style=\"background: #ddd; padding: 0.45em 0.6em; margin: 0 0.25em; line-height: 1; border-radius: 0.35em;\">\n",
       "    Dana Buchman\n",
       "    <span style=\"font-size: 0.8em; font-weight: bold; line-height: 1; border-radius: 0.35em; text-transform: uppercase; vertical-align: middle; margin-left: 0.5rem\">BRAND</span>\n",
       "</mark>\n",
       " Poppi Silmälasit. Collection:Men. Kehyksen Väri: \n",
       "<mark class=\"entity\" style=\"background: #ddd; padding: 0.45em 0.6em; margin: 0 0.25em; line-height: 1; border-radius: 0.35em;\">\n",
       "    Black.\n",
       "    <span style=\"font-size: 0.8em; font-weight: bold; line-height: 1; border-radius: 0.35em; text-transform: uppercase; vertical-align: middle; margin-left: 0.5rem\">COLOR</span>\n",
       "</mark>\n",
       " Kehysmateriaali: \n",
       "<mark class=\"entity\" style=\"background: #ddd; padding: 0.45em 0.6em; margin: 0 0.25em; line-height: 1; border-radius: 0.35em;\">\n",
       "    Metal.\n",
       "    <span style=\"font-size: 0.8em; font-weight: bold; line-height: 1; border-radius: 0.35em; text-transform: uppercase; vertical-align: middle; margin-left: 0.5rem\">MATERIAL</span>\n",
       "</mark>\n",
       " Koko: \n",
       "<mark class=\"entity\" style=\"background: #ddd; padding: 0.45em 0.6em; margin: 0 0.25em; line-height: 1; border-radius: 0.35em;\">\n",
       "    52.\n",
       "    <span style=\"font-size: 0.8em; font-weight: bold; line-height: 1; border-radius: 0.35em; text-transform: uppercase; vertical-align: middle; margin-left: 0.5rem\">SIZE</span>\n",
       "</mark>\n",
       "</div></span>"
      ],
      "text/plain": [
       "<IPython.core.display.HTML object>"
      ]
     },
     "metadata": {},
     "output_type": "display_data"
    },
    {
     "name": "stdout",
     "output_type": "stream",
     "text": [
      "{Dana Buchman: 'BRAND', Black.: 'COLOR', Metal.: 'MATERIAL', 52.: 'SIZE'}\n"
     ]
    },
    {
     "data": {
      "text/html": [
       "<span class=\"tex2jax_ignore\"><div class=\"entities\" style=\"line-height: 2.5; direction: ltr\">\n",
       "<mark class=\"entity\" style=\"background: #ddd; padding: 0.45em 0.6em; margin: 0 0.25em; line-height: 1; border-radius: 0.35em;\">\n",
       "    Roberto Cavalli\n",
       "    <span style=\"font-size: 0.8em; font-weight: bold; line-height: 1; border-radius: 0.35em; text-transform: uppercase; vertical-align: middle; margin-left: 0.5rem\">BRAND</span>\n",
       "</mark>\n",
       " RC 5053 FOLLONICA Silmälasit. Collection:Women. Kehyksen Väri: \n",
       "<mark class=\"entity\" style=\"background: #ddd; padding: 0.45em 0.6em; margin: 0 0.25em; line-height: 1; border-radius: 0.35em;\">\n",
       "    Tortoise.\n",
       "    <span style=\"font-size: 0.8em; font-weight: bold; line-height: 1; border-radius: 0.35em; text-transform: uppercase; vertical-align: middle; margin-left: 0.5rem\">COLOR</span>\n",
       "</mark>\n",
       " Kehysmateriaali: \n",
       "<mark class=\"entity\" style=\"background: #ddd; padding: 0.45em 0.6em; margin: 0 0.25em; line-height: 1; border-radius: 0.35em;\">\n",
       "    Plastic.\n",
       "    <span style=\"font-size: 0.8em; font-weight: bold; line-height: 1; border-radius: 0.35em; text-transform: uppercase; vertical-align: middle; margin-left: 0.5rem\">MATERIAL</span>\n",
       "</mark>\n",
       " Koko: \n",
       "<mark class=\"entity\" style=\"background: #ddd; padding: 0.45em 0.6em; margin: 0 0.25em; line-height: 1; border-radius: 0.35em;\">\n",
       "    49.\n",
       "    <span style=\"font-size: 0.8em; font-weight: bold; line-height: 1; border-radius: 0.35em; text-transform: uppercase; vertical-align: middle; margin-left: 0.5rem\">SIZE</span>\n",
       "</mark>\n",
       "</div></span>"
      ],
      "text/plain": [
       "<IPython.core.display.HTML object>"
      ]
     },
     "metadata": {},
     "output_type": "display_data"
    },
    {
     "name": "stdout",
     "output_type": "stream",
     "text": [
      "{Roberto Cavalli: 'BRAND', Tortoise.: 'COLOR', Plastic.: 'MATERIAL', 49.: 'SIZE'}\n"
     ]
    },
    {
     "data": {
      "text/html": [
       "<span class=\"tex2jax_ignore\"><div class=\"entities\" style=\"line-height: 2.5; direction: ltr\">Särkymättömät huippulaadukkaat lasit neutraalin harmaalla linssillä. Cat 3.</div></span>"
      ],
      "text/plain": [
       "<IPython.core.display.HTML object>"
      ]
     },
     "metadata": {},
     "output_type": "display_data"
    },
    {
     "name": "stdout",
     "output_type": "stream",
     "text": [
      "{}\n"
     ]
    },
    {
     "data": {
      "text/html": [
       "<span class=\"tex2jax_ignore\"><div class=\"entities\" style=\"line-height: 2.5; direction: ltr\">Särkymättömät huippulaadukkaat aurinkolasit lähes kirkkailla linsseillä.</div></span>"
      ],
      "text/plain": [
       "<IPython.core.display.HTML object>"
      ]
     },
     "metadata": {},
     "output_type": "display_data"
    },
    {
     "name": "stdout",
     "output_type": "stream",
     "text": [
      "{}\n"
     ]
    },
    {
     "data": {
      "text/html": [
       "<span class=\"tex2jax_ignore\"><div class=\"entities\" style=\"line-height: 2.5; direction: ltr\">\n",
       "<mark class=\"entity\" style=\"background: #ddd; padding: 0.45em 0.6em; margin: 0 0.25em; line-height: 1; border-radius: 0.35em;\">\n",
       "    Farah\n",
       "    <span style=\"font-size: 0.8em; font-weight: bold; line-height: 1; border-radius: 0.35em; text-transform: uppercase; vertical-align: middle; margin-left: 0.5rem\">BRAND</span>\n",
       "</mark>\n",
       " FHS 5015 Aurinkolasit. Collection:Men. Kehyksen Väri: \n",
       "<mark class=\"entity\" style=\"background: #ddd; padding: 0.45em 0.6em; margin: 0 0.25em; line-height: 1; border-radius: 0.35em;\">\n",
       "    Gold.\n",
       "    <span style=\"font-size: 0.8em; font-weight: bold; line-height: 1; border-radius: 0.35em; text-transform: uppercase; vertical-align: middle; margin-left: 0.5rem\">COLOR</span>\n",
       "</mark>\n",
       "  Linssin Väri: . Kehysmateriaali: \n",
       "<mark class=\"entity\" style=\"background: #ddd; padding: 0.45em 0.6em; margin: 0 0.25em; line-height: 1; border-radius: 0.35em;\">\n",
       "    Metal.\n",
       "    <span style=\"font-size: 0.8em; font-weight: bold; line-height: 1; border-radius: 0.35em; text-transform: uppercase; vertical-align: middle; margin-left: 0.5rem\">MATERIAL</span>\n",
       "</mark>\n",
       " Koko: \n",
       "<mark class=\"entity\" style=\"background: #ddd; padding: 0.45em 0.6em; margin: 0 0.25em; line-height: 1; border-radius: 0.35em;\">\n",
       "    56.\n",
       "    <span style=\"font-size: 0.8em; font-weight: bold; line-height: 1; border-radius: 0.35em; text-transform: uppercase; vertical-align: middle; margin-left: 0.5rem\">SIZE</span>\n",
       "</mark>\n",
       "</div></span>"
      ],
      "text/plain": [
       "<IPython.core.display.HTML object>"
      ]
     },
     "metadata": {},
     "output_type": "display_data"
    },
    {
     "name": "stdout",
     "output_type": "stream",
     "text": [
      "{Farah: 'BRAND', Gold.: 'COLOR', Metal.: 'MATERIAL', 56.: 'SIZE'}\n"
     ]
    },
    {
     "data": {
      "text/html": [
       "<span class=\"tex2jax_ignore\"><div class=\"entities\" style=\"line-height: 2.5; direction: ltr\">\n",
       "<mark class=\"entity\" style=\"background: #ddd; padding: 0.45em 0.6em; margin: 0 0.25em; line-height: 1; border-radius: 0.35em;\">\n",
       "    Diesel\n",
       "    <span style=\"font-size: 0.8em; font-weight: bold; line-height: 1; border-radius: 0.35em; text-transform: uppercase; vertical-align: middle; margin-left: 0.5rem\">BRAND</span>\n",
       "</mark>\n",
       " DL5050 Silmälasit. Collection:Men. Kehyksen Väri: \n",
       "<mark class=\"entity\" style=\"background: #ddd; padding: 0.45em 0.6em; margin: 0 0.25em; line-height: 1; border-radius: 0.35em;\">\n",
       "    Black.\n",
       "    <span style=\"font-size: 0.8em; font-weight: bold; line-height: 1; border-radius: 0.35em; text-transform: uppercase; vertical-align: middle; margin-left: 0.5rem\">COLOR</span>\n",
       "</mark>\n",
       " Kehysmateriaali: \n",
       "<mark class=\"entity\" style=\"background: #ddd; padding: 0.45em 0.6em; margin: 0 0.25em; line-height: 1; border-radius: 0.35em;\">\n",
       "    Plastic.\n",
       "    <span style=\"font-size: 0.8em; font-weight: bold; line-height: 1; border-radius: 0.35em; text-transform: uppercase; vertical-align: middle; margin-left: 0.5rem\">MATERIAL</span>\n",
       "</mark>\n",
       " Koko: \n",
       "<mark class=\"entity\" style=\"background: #ddd; padding: 0.45em 0.6em; margin: 0 0.25em; line-height: 1; border-radius: 0.35em;\">\n",
       "    52.\n",
       "    <span style=\"font-size: 0.8em; font-weight: bold; line-height: 1; border-radius: 0.35em; text-transform: uppercase; vertical-align: middle; margin-left: 0.5rem\">SIZE</span>\n",
       "</mark>\n",
       "</div></span>"
      ],
      "text/plain": [
       "<IPython.core.display.HTML object>"
      ]
     },
     "metadata": {},
     "output_type": "display_data"
    },
    {
     "name": "stdout",
     "output_type": "stream",
     "text": [
      "{Diesel: 'BRAND', Black.: 'COLOR', Plastic.: 'MATERIAL', 52.: 'SIZE'}\n"
     ]
    },
    {
     "data": {
      "text/html": [
       "<span class=\"tex2jax_ignore\"><div class=\"entities\" style=\"line-height: 2.5; direction: ltr\">Särkymättömät huippulaadukkaat aurinkolasit savulinsseillä.</div></span>"
      ],
      "text/plain": [
       "<IPython.core.display.HTML object>"
      ]
     },
     "metadata": {},
     "output_type": "display_data"
    },
    {
     "name": "stdout",
     "output_type": "stream",
     "text": [
      "{}\n"
     ]
    },
    {
     "data": {
      "text/html": [
       "<span class=\"tex2jax_ignore\"><div class=\"entities\" style=\"line-height: 2.5; direction: ltr\">\n",
       "<mark class=\"entity\" style=\"background: #ddd; padding: 0.45em 0.6em; margin: 0 0.25em; line-height: 1; border-radius: 0.35em;\">\n",
       "    Clinique All About\n",
       "    <span style=\"font-size: 0.8em; font-weight: bold; line-height: 1; border-radius: 0.35em; text-transform: uppercase; vertical-align: middle; margin-left: 0.5rem\">BRAND</span>\n",
       "</mark>\n",
       " Shadow Single, \n",
       "<mark class=\"entity\" style=\"background: #ddd; padding: 0.45em 0.6em; margin: 0 0.25em; line-height: 1; border-radius: 0.35em;\">\n",
       "    Purple\n",
       "    <span style=\"font-size: 0.8em; font-weight: bold; line-height: 1; border-radius: 0.35em; text-transform: uppercase; vertical-align: middle; margin-left: 0.5rem\">COLOR</span>\n",
       "</mark>\n",
       " \n",
       "<mark class=\"entity\" style=\"background: #ddd; padding: 0.45em 0.6em; margin: 0 0.25em; line-height: 1; border-radius: 0.35em;\">\n",
       "    Pumps\n",
       "    <span style=\"font-size: 0.8em; font-weight: bold; line-height: 1; border-radius: 0.35em; text-transform: uppercase; vertical-align: middle; margin-left: 0.5rem\">BRAND</span>\n",
       "</mark>\n",
       "</div></span>"
      ],
      "text/plain": [
       "<IPython.core.display.HTML object>"
      ]
     },
     "metadata": {},
     "output_type": "display_data"
    },
    {
     "name": "stdout",
     "output_type": "stream",
     "text": [
      "{Clinique All About: 'BRAND', Purple: 'COLOR', Pumps: 'BRAND'}\n"
     ]
    },
    {
     "data": {
      "text/html": [
       "<span class=\"tex2jax_ignore\"><div class=\"entities\" style=\"line-height: 2.5; direction: ltr\">Särkymättömät huippulaadukkaat aurinkolasit polarisoivilla linsseillä ja vaihtuvalla tummennuksella \n",
       "<mark class=\"entity\" style=\"background: #ddd; padding: 0.45em 0.6em; margin: 0 0.25em; line-height: 1; border-radius: 0.35em;\">\n",
       "    2-3.\n",
       "    <span style=\"font-size: 0.8em; font-weight: bold; line-height: 1; border-radius: 0.35em; text-transform: uppercase; vertical-align: middle; margin-left: 0.5rem\">SIZE</span>\n",
       "</mark>\n",
       "</div></span>"
      ],
      "text/plain": [
       "<IPython.core.display.HTML object>"
      ]
     },
     "metadata": {},
     "output_type": "display_data"
    },
    {
     "name": "stdout",
     "output_type": "stream",
     "text": [
      "{2-3.: 'SIZE'}\n"
     ]
    },
    {
     "data": {
      "text/html": [
       "<span class=\"tex2jax_ignore\"><div class=\"entities\" style=\"line-height: 2.5; direction: ltr\">\n",
       "<mark class=\"entity\" style=\"background: #ddd; padding: 0.45em 0.6em; margin: 0 0.25em; line-height: 1; border-radius: 0.35em;\">\n",
       "    GAP\n",
       "    <span style=\"font-size: 0.8em; font-weight: bold; line-height: 1; border-radius: 0.35em; text-transform: uppercase; vertical-align: middle; margin-left: 0.5rem\">BRAND</span>\n",
       "</mark>\n",
       " Mid Rise True Skinny Jeans</div></span>"
      ],
      "text/plain": [
       "<IPython.core.display.HTML object>"
      ]
     },
     "metadata": {},
     "output_type": "display_data"
    },
    {
     "name": "stdout",
     "output_type": "stream",
     "text": [
      "{GAP: 'BRAND'}\n"
     ]
    },
    {
     "data": {
      "text/html": [
       "<span class=\"tex2jax_ignore\"><div class=\"entities\" style=\"line-height: 2.5; direction: ltr\">\n",
       "<mark class=\"entity\" style=\"background: #ddd; padding: 0.45em 0.6em; margin: 0 0.25em; line-height: 1; border-radius: 0.35em;\">\n",
       "    Diesel\n",
       "    <span style=\"font-size: 0.8em; font-weight: bold; line-height: 1; border-radius: 0.35em; text-transform: uppercase; vertical-align: middle; margin-left: 0.5rem\">BRAND</span>\n",
       "</mark>\n",
       " DL5045 Silmälasit. Collection:Men. Kehyksen Väri: \n",
       "<mark class=\"entity\" style=\"background: #ddd; padding: 0.45em 0.6em; margin: 0 0.25em; line-height: 1; border-radius: 0.35em;\">\n",
       "    Shiny Blue.\n",
       "    <span style=\"font-size: 0.8em; font-weight: bold; line-height: 1; border-radius: 0.35em; text-transform: uppercase; vertical-align: middle; margin-left: 0.5rem\">COLOR</span>\n",
       "</mark>\n",
       " Kehysmateriaali: \n",
       "<mark class=\"entity\" style=\"background: #ddd; padding: 0.45em 0.6em; margin: 0 0.25em; line-height: 1; border-radius: 0.35em;\">\n",
       "    Plastic.\n",
       "    <span style=\"font-size: 0.8em; font-weight: bold; line-height: 1; border-radius: 0.35em; text-transform: uppercase; vertical-align: middle; margin-left: 0.5rem\">MATERIAL</span>\n",
       "</mark>\n",
       " Koko: \n",
       "<mark class=\"entity\" style=\"background: #ddd; padding: 0.45em 0.6em; margin: 0 0.25em; line-height: 1; border-radius: 0.35em;\">\n",
       "    54.\n",
       "    <span style=\"font-size: 0.8em; font-weight: bold; line-height: 1; border-radius: 0.35em; text-transform: uppercase; vertical-align: middle; margin-left: 0.5rem\">SIZE</span>\n",
       "</mark>\n",
       "</div></span>"
      ],
      "text/plain": [
       "<IPython.core.display.HTML object>"
      ]
     },
     "metadata": {},
     "output_type": "display_data"
    },
    {
     "name": "stdout",
     "output_type": "stream",
     "text": [
      "{Diesel: 'BRAND', Shiny Blue.: 'COLOR', Plastic.: 'MATERIAL', 54.: 'SIZE'}\n"
     ]
    },
    {
     "data": {
      "text/html": [
       "<span class=\"tex2jax_ignore\"><div class=\"entities\" style=\"line-height: 2.5; direction: ltr\">Lyhythihainen t-paita gant le mans block \n",
       "<mark class=\"entity\" style=\"background: #ddd; padding: 0.45em 0.6em; margin: 0 0.25em; line-height: 1; border-radius: 0.35em;\">\n",
       "    blue\n",
       "    <span style=\"font-size: 0.8em; font-weight: bold; line-height: 1; border-radius: 0.35em; text-transform: uppercase; vertical-align: middle; margin-left: 0.5rem\">COLOR</span>\n",
       "</mark>\n",
       " saatavana \n",
       "<mark class=\"entity\" style=\"background: #ddd; padding: 0.45em 0.6em; margin: 0 0.25em; line-height: 1; border-radius: 0.35em;\">\n",
       "    miesten\n",
       "    <span style=\"font-size: 0.8em; font-weight: bold; line-height: 1; border-radius: 0.35em; text-transform: uppercase; vertical-align: middle; margin-left: 0.5rem\">GENDER</span>\n",
       "</mark>\n",
       " kokoja s</div></span>"
      ],
      "text/plain": [
       "<IPython.core.display.HTML object>"
      ]
     },
     "metadata": {},
     "output_type": "display_data"
    },
    {
     "name": "stdout",
     "output_type": "stream",
     "text": [
      "{blue: 'COLOR', miesten: 'GENDER'}\n"
     ]
    },
    {
     "data": {
      "text/html": [
       "<span class=\"tex2jax_ignore\"><div class=\"entities\" style=\"line-height: 2.5; direction: ltr\">\n",
       "<mark class=\"entity\" style=\"background: #ddd; padding: 0.45em 0.6em; margin: 0 0.25em; line-height: 1; border-radius: 0.35em;\">\n",
       "    Puma PJ0029O Kids\n",
       "    <span style=\"font-size: 0.8em; font-weight: bold; line-height: 1; border-radius: 0.35em; text-transform: uppercase; vertical-align: middle; margin-left: 0.5rem\">BRAND</span>\n",
       "</mark>\n",
       " Silmälasit. Collection:Kids. Kehyksen Väri: \n",
       "<mark class=\"entity\" style=\"background: #ddd; padding: 0.45em 0.6em; margin: 0 0.25em; line-height: 1; border-radius: 0.35em;\">\n",
       "    Black.\n",
       "    <span style=\"font-size: 0.8em; font-weight: bold; line-height: 1; border-radius: 0.35em; text-transform: uppercase; vertical-align: middle; margin-left: 0.5rem\">COLOR</span>\n",
       "</mark>\n",
       " Kehysmateriaali: \n",
       "<mark class=\"entity\" style=\"background: #ddd; padding: 0.45em 0.6em; margin: 0 0.25em; line-height: 1; border-radius: 0.35em;\">\n",
       "    Plastic.\n",
       "    <span style=\"font-size: 0.8em; font-weight: bold; line-height: 1; border-radius: 0.35em; text-transform: uppercase; vertical-align: middle; margin-left: 0.5rem\">MATERIAL</span>\n",
       "</mark>\n",
       " Koko: \n",
       "<mark class=\"entity\" style=\"background: #ddd; padding: 0.45em 0.6em; margin: 0 0.25em; line-height: 1; border-radius: 0.35em;\">\n",
       "    50.\n",
       "    <span style=\"font-size: 0.8em; font-weight: bold; line-height: 1; border-radius: 0.35em; text-transform: uppercase; vertical-align: middle; margin-left: 0.5rem\">SIZE</span>\n",
       "</mark>\n",
       "</div></span>"
      ],
      "text/plain": [
       "<IPython.core.display.HTML object>"
      ]
     },
     "metadata": {},
     "output_type": "display_data"
    },
    {
     "name": "stdout",
     "output_type": "stream",
     "text": [
      "{Puma PJ0029O Kids: 'BRAND', Black.: 'COLOR', Plastic.: 'MATERIAL', 50.: 'SIZE'}\n"
     ]
    },
    {
     "data": {
      "text/html": [
       "<span class=\"tex2jax_ignore\"><div class=\"entities\" style=\"line-height: 2.5; direction: ltr\">\n",
       "<mark class=\"entity\" style=\"background: #ddd; padding: 0.45em 0.6em; margin: 0 0.25em; line-height: 1; border-radius: 0.35em;\">\n",
       "    Cazal\n",
       "    <span style=\"font-size: 0.8em; font-weight: bold; line-height: 1; border-radius: 0.35em; text-transform: uppercase; vertical-align: middle; margin-left: 0.5rem\">BRAND</span>\n",
       "</mark>\n",
       " 4268 Silmälasit. Collection:Women. Kehyksen Väri: \n",
       "<mark class=\"entity\" style=\"background: #ddd; padding: 0.45em 0.6em; margin: 0 0.25em; line-height: 1; border-radius: 0.35em;\">\n",
       "    Cream/Gold.\n",
       "    <span style=\"font-size: 0.8em; font-weight: bold; line-height: 1; border-radius: 0.35em; text-transform: uppercase; vertical-align: middle; margin-left: 0.5rem\">COLOR</span>\n",
       "</mark>\n",
       " Kehysmateriaali: \n",
       "<mark class=\"entity\" style=\"background: #ddd; padding: 0.45em 0.6em; margin: 0 0.25em; line-height: 1; border-radius: 0.35em;\">\n",
       "    Metal.\n",
       "    <span style=\"font-size: 0.8em; font-weight: bold; line-height: 1; border-radius: 0.35em; text-transform: uppercase; vertical-align: middle; margin-left: 0.5rem\">MATERIAL</span>\n",
       "</mark>\n",
       " Koko: \n",
       "<mark class=\"entity\" style=\"background: #ddd; padding: 0.45em 0.6em; margin: 0 0.25em; line-height: 1; border-radius: 0.35em;\">\n",
       "    53.\n",
       "    <span style=\"font-size: 0.8em; font-weight: bold; line-height: 1; border-radius: 0.35em; text-transform: uppercase; vertical-align: middle; margin-left: 0.5rem\">SIZE</span>\n",
       "</mark>\n",
       "</div></span>"
      ],
      "text/plain": [
       "<IPython.core.display.HTML object>"
      ]
     },
     "metadata": {},
     "output_type": "display_data"
    },
    {
     "name": "stdout",
     "output_type": "stream",
     "text": [
      "{Cazal: 'BRAND', Cream/Gold.: 'COLOR', Metal.: 'MATERIAL', 53.: 'SIZE'}\n"
     ]
    },
    {
     "data": {
      "text/html": [
       "<span class=\"tex2jax_ignore\"><div class=\"entities\" style=\"line-height: 2.5; direction: ltr\">Matalat Coolmax-sukat sporttikäyttöön.</div></span>"
      ],
      "text/plain": [
       "<IPython.core.display.HTML object>"
      ]
     },
     "metadata": {},
     "output_type": "display_data"
    },
    {
     "name": "stdout",
     "output_type": "stream",
     "text": [
      "{}\n"
     ]
    },
    {
     "data": {
      "text/html": [
       "<span class=\"tex2jax_ignore\"><div class=\"entities\" style=\"line-height: 2.5; direction: ltr\">\n",
       "<mark class=\"entity\" style=\"background: #ddd; padding: 0.45em 0.6em; margin: 0 0.25em; line-height: 1; border-radius: 0.35em;\">\n",
       "    Aluminum\n",
       "    <span style=\"font-size: 0.8em; font-weight: bold; line-height: 1; border-radius: 0.35em; text-transform: uppercase; vertical-align: middle; margin-left: 0.5rem\">BRAND</span>\n",
       "</mark>\n",
       " vase with artistic pattern from \n",
       "<mark class=\"entity\" style=\"background: #ddd; padding: 0.45em 0.6em; margin: 0 0.25em; line-height: 1; border-radius: 0.35em;\">\n",
       "    Stelton\n",
       "    <span style=\"font-size: 0.8em; font-weight: bold; line-height: 1; border-radius: 0.35em; text-transform: uppercase; vertical-align: middle; margin-left: 0.5rem\">BRAND</span>\n",
       "</mark>\n",
       ".</div></span>"
      ],
      "text/plain": [
       "<IPython.core.display.HTML object>"
      ]
     },
     "metadata": {},
     "output_type": "display_data"
    },
    {
     "name": "stdout",
     "output_type": "stream",
     "text": [
      "{Aluminum: 'BRAND', Stelton: 'BRAND'}\n"
     ]
    },
    {
     "data": {
      "text/html": [
       "<span class=\"tex2jax_ignore\"><div class=\"entities\" style=\"line-height: 2.5; direction: ltr\">Lyhythihainen t-paita vans flying v crew tee \n",
       "<mark class=\"entity\" style=\"background: #ddd; padding: 0.45em 0.6em; margin: 0 0.25em; line-height: 1; border-radius: 0.35em;\">\n",
       "    pink\n",
       "    <span style=\"font-size: 0.8em; font-weight: bold; line-height: 1; border-radius: 0.35em; text-transform: uppercase; vertical-align: middle; margin-left: 0.5rem\">COLOR</span>\n",
       "</mark>\n",
       " saatavana \n",
       "<mark class=\"entity\" style=\"background: #ddd; padding: 0.45em 0.6em; margin: 0 0.25em; line-height: 1; border-radius: 0.35em;\">\n",
       "    naisten\n",
       "    <span style=\"font-size: 0.8em; font-weight: bold; line-height: 1; border-radius: 0.35em; text-transform: uppercase; vertical-align: middle; margin-left: 0.5rem\">GENDER</span>\n",
       "</mark>\n",
       " kokoja \n",
       "<mark class=\"entity\" style=\"background: #ddd; padding: 0.45em 0.6em; margin: 0 0.25em; line-height: 1; border-radius: 0.35em;\">\n",
       "    s,m,l,xl,xs\n",
       "    <span style=\"font-size: 0.8em; font-weight: bold; line-height: 1; border-radius: 0.35em; text-transform: uppercase; vertical-align: middle; margin-left: 0.5rem\">SIZE</span>\n",
       "</mark>\n",
       "</div></span>"
      ],
      "text/plain": [
       "<IPython.core.display.HTML object>"
      ]
     },
     "metadata": {},
     "output_type": "display_data"
    },
    {
     "name": "stdout",
     "output_type": "stream",
     "text": [
      "{pink: 'COLOR', naisten: 'GENDER', s,m,l,xl,xs: 'SIZE'}\n"
     ]
    },
    {
     "data": {
      "text/html": [
       "<span class=\"tex2jax_ignore\"><div class=\"entities\" style=\"line-height: 2.5; direction: ltr\">Amerikkalainen brändi, \n",
       "<mark class=\"entity\" style=\"background: #ddd; padding: 0.45em 0.6em; margin: 0 0.25em; line-height: 1; border-radius: 0.35em;\">\n",
       "    Tommy Hilfiger luo\n",
       "    <span style=\"font-size: 0.8em; font-weight: bold; line-height: 1; border-radius: 0.35em; text-transform: uppercase; vertical-align: middle; margin-left: 0.5rem\">BRAND</span>\n",
       "</mark>\n",
       " ikonisia vaatteita, jotka ovat klassisia ja preppyjä.. Luomu.</div></span>"
      ],
      "text/plain": [
       "<IPython.core.display.HTML object>"
      ]
     },
     "metadata": {},
     "output_type": "display_data"
    },
    {
     "name": "stdout",
     "output_type": "stream",
     "text": [
      "{Tommy Hilfiger luo: 'BRAND'}\n"
     ]
    },
    {
     "data": {
      "text/html": [
       "<span class=\"tex2jax_ignore\"><div class=\"entities\" style=\"line-height: 2.5; direction: ltr\">Lyhythihainen t-paita desigual under multicolour saatavana \n",
       "<mark class=\"entity\" style=\"background: #ddd; padding: 0.45em 0.6em; margin: 0 0.25em; line-height: 1; border-radius: 0.35em;\">\n",
       "    naisten\n",
       "    <span style=\"font-size: 0.8em; font-weight: bold; line-height: 1; border-radius: 0.35em; text-transform: uppercase; vertical-align: middle; margin-left: 0.5rem\">GENDER</span>\n",
       "</mark>\n",
       " kokoja l</div></span>"
      ],
      "text/plain": [
       "<IPython.core.display.HTML object>"
      ]
     },
     "metadata": {},
     "output_type": "display_data"
    },
    {
     "name": "stdout",
     "output_type": "stream",
     "text": [
      "{naisten: 'GENDER'}\n"
     ]
    },
    {
     "data": {
      "text/html": [
       "<span class=\"tex2jax_ignore\"><div class=\"entities\" style=\"line-height: 2.5; direction: ltr\">\n",
       "<mark class=\"entity\" style=\"background: #ddd; padding: 0.45em 0.6em; margin: 0 0.25em; line-height: 1; border-radius: 0.35em;\">\n",
       "    Police\n",
       "    <span style=\"font-size: 0.8em; font-weight: bold; line-height: 1; border-radius: 0.35em; text-transform: uppercase; vertical-align: middle; margin-left: 0.5rem\">BRAND</span>\n",
       "</mark>\n",
       " VK079 LAPIS JR 2 \n",
       "<mark class=\"entity\" style=\"background: #ddd; padding: 0.45em 0.6em; margin: 0 0.25em; line-height: 1; border-radius: 0.35em;\">\n",
       "    Kids\n",
       "    <span style=\"font-size: 0.8em; font-weight: bold; line-height: 1; border-radius: 0.35em; text-transform: uppercase; vertical-align: middle; margin-left: 0.5rem\">AGE_GROUP</span>\n",
       "</mark>\n",
       " Silmälasit. Collection:Kids. Kehyksen Väri: Matte \n",
       "<mark class=\"entity\" style=\"background: #ddd; padding: 0.45em 0.6em; margin: 0 0.25em; line-height: 1; border-radius: 0.35em;\">\n",
       "    Blue.\n",
       "    <span style=\"font-size: 0.8em; font-weight: bold; line-height: 1; border-radius: 0.35em; text-transform: uppercase; vertical-align: middle; margin-left: 0.5rem\">COLOR</span>\n",
       "</mark>\n",
       " Kehysmateriaali: \n",
       "<mark class=\"entity\" style=\"background: #ddd; padding: 0.45em 0.6em; margin: 0 0.25em; line-height: 1; border-radius: 0.35em;\">\n",
       "    Plastic.\n",
       "    <span style=\"font-size: 0.8em; font-weight: bold; line-height: 1; border-radius: 0.35em; text-transform: uppercase; vertical-align: middle; margin-left: 0.5rem\">MATERIAL</span>\n",
       "</mark>\n",
       " Koko: \n",
       "<mark class=\"entity\" style=\"background: #ddd; padding: 0.45em 0.6em; margin: 0 0.25em; line-height: 1; border-radius: 0.35em;\">\n",
       "    48.\n",
       "    <span style=\"font-size: 0.8em; font-weight: bold; line-height: 1; border-radius: 0.35em; text-transform: uppercase; vertical-align: middle; margin-left: 0.5rem\">SIZE</span>\n",
       "</mark>\n",
       "</div></span>"
      ],
      "text/plain": [
       "<IPython.core.display.HTML object>"
      ]
     },
     "metadata": {},
     "output_type": "display_data"
    },
    {
     "name": "stdout",
     "output_type": "stream",
     "text": [
      "{Police: 'BRAND', Kids: 'AGE_GROUP', Blue.: 'COLOR', Plastic.: 'MATERIAL', 48.: 'SIZE'}\n"
     ]
    },
    {
     "data": {
      "text/html": [
       "<span class=\"tex2jax_ignore\"><div class=\"entities\" style=\"line-height: 2.5; direction: ltr\">Monitoimisukat, materiaali kosteutta siirtävää keinokuitua.</div></span>"
      ],
      "text/plain": [
       "<IPython.core.display.HTML object>"
      ]
     },
     "metadata": {},
     "output_type": "display_data"
    },
    {
     "name": "stdout",
     "output_type": "stream",
     "text": [
      "{}\n"
     ]
    },
    {
     "data": {
      "text/html": [
       "<span class=\"tex2jax_ignore\"><div class=\"entities\" style=\"line-height: 2.5; direction: ltr\">GANT Flairville Low Laceshoes</div></span>"
      ],
      "text/plain": [
       "<IPython.core.display.HTML object>"
      ]
     },
     "metadata": {},
     "output_type": "display_data"
    },
    {
     "name": "stdout",
     "output_type": "stream",
     "text": [
      "{}\n"
     ]
    }
   ],
   "source": [
    "for n in range(0,200):\n",
    "    if type(df['description'].loc[n])==str:\n",
    "        if df['description'].loc[n] not in description_unique_brand:\n",
    "            doc = nlp(df['description'].loc[n])\n",
    "            spacy.displacy.render(doc, style=\"ent\")\n",
    "            ent_output(doc)"
   ]
  },
  {
   "cell_type": "markdown",
   "metadata": {},
   "source": [
    "### 3) Arbirary texts"
   ]
  },
  {
   "cell_type": "code",
   "execution_count": 29,
   "metadata": {},
   "outputs": [
    {
     "data": {
      "text/html": [
       "<span class=\"tex2jax_ignore\"><div class=\"entities\" style=\"line-height: 2.5; direction: ltr\">I have \n",
       "<mark class=\"entity\" style=\"background: #ddd; padding: 0.45em 0.6em; margin: 0 0.25em; line-height: 1; border-radius: 0.35em;\">\n",
       "    adidas\n",
       "    <span style=\"font-size: 0.8em; font-weight: bold; line-height: 1; border-radius: 0.35em; text-transform: uppercase; vertical-align: middle; margin-left: 0.5rem\">BRAND</span>\n",
       "</mark>\n",
       " Originals \n",
       "<mark class=\"entity\" style=\"background: #ddd; padding: 0.45em 0.6em; margin: 0 0.25em; line-height: 1; border-radius: 0.35em;\">\n",
       "    White\n",
       "    <span style=\"font-size: 0.8em; font-weight: bold; line-height: 1; border-radius: 0.35em; text-transform: uppercase; vertical-align: middle; margin-left: 0.5rem\">COLOR</span>\n",
       "</mark>\n",
       " sneakers.</div></span>"
      ],
      "text/plain": [
       "<IPython.core.display.HTML object>"
      ]
     },
     "metadata": {},
     "output_type": "display_data"
    },
    {
     "name": "stdout",
     "output_type": "stream",
     "text": [
      "{adidas: 'BRAND', White: 'COLOR'}\n"
     ]
    }
   ],
   "source": [
    "doc = nlp('I have adidas Originals White sneakers.')\n",
    "spacy.displacy.render(doc, style=\"ent\")\n",
    "ent_output(doc)"
   ]
  },
  {
   "cell_type": "code",
   "execution_count": 30,
   "metadata": {},
   "outputs": [
    {
     "data": {
      "text/html": [
       "<span class=\"tex2jax_ignore\"><div class=\"entities\" style=\"line-height: 2.5; direction: ltr\">You have \n",
       "<mark class=\"entity\" style=\"background: #ddd; padding: 0.45em 0.6em; margin: 0 0.25em; line-height: 1; border-radius: 0.35em;\">\n",
       "    Soyaconcept\n",
       "    <span style=\"font-size: 0.8em; font-weight: bold; line-height: 1; border-radius: 0.35em; text-transform: uppercase; vertical-align: middle; margin-left: 0.5rem\">BRAND</span>\n",
       "</mark>\n",
       " \n",
       "<mark class=\"entity\" style=\"background: #ddd; padding: 0.45em 0.6em; margin: 0 0.25em; line-height: 1; border-radius: 0.35em;\">\n",
       "    Blue\n",
       "    <span style=\"font-size: 0.8em; font-weight: bold; line-height: 1; border-radius: 0.35em; text-transform: uppercase; vertical-align: middle; margin-left: 0.5rem\">COLOR</span>\n",
       "</mark>\n",
       " coat.</div></span>"
      ],
      "text/plain": [
       "<IPython.core.display.HTML object>"
      ]
     },
     "metadata": {},
     "output_type": "display_data"
    },
    {
     "name": "stdout",
     "output_type": "stream",
     "text": [
      "{Soyaconcept: 'BRAND', Blue: 'COLOR'}\n"
     ]
    }
   ],
   "source": [
    "doc = nlp('You have Soyaconcept Blue coat.')\n",
    "spacy.displacy.render(doc, style=\"ent\")\n",
    "ent_output(doc)"
   ]
  },
  {
   "cell_type": "code",
   "execution_count": 31,
   "metadata": {},
   "outputs": [
    {
     "data": {
      "text/html": [
       "<span class=\"tex2jax_ignore\"><div class=\"entities\" style=\"line-height: 2.5; direction: ltr\">I have a \n",
       "<mark class=\"entity\" style=\"background: #ddd; padding: 0.45em 0.6em; margin: 0 0.25em; line-height: 1; border-radius: 0.35em;\">\n",
       "    Black\n",
       "    <span style=\"font-size: 0.8em; font-weight: bold; line-height: 1; border-radius: 0.35em; text-transform: uppercase; vertical-align: middle; margin-left: 0.5rem\">COLOR</span>\n",
       "</mark>\n",
       " shirt, which is \n",
       "<mark class=\"entity\" style=\"background: #ddd; padding: 0.45em 0.6em; margin: 0 0.25em; line-height: 1; border-radius: 0.35em;\">\n",
       "    3 kg.\n",
       "    <span style=\"font-size: 0.8em; font-weight: bold; line-height: 1; border-radius: 0.35em; text-transform: uppercase; vertical-align: middle; margin-left: 0.5rem\">WEIGHT</span>\n",
       "</mark>\n",
       "</div></span>"
      ],
      "text/plain": [
       "<IPython.core.display.HTML object>"
      ]
     },
     "metadata": {},
     "output_type": "display_data"
    },
    {
     "name": "stdout",
     "output_type": "stream",
     "text": [
      "{Black: 'COLOR', 3 kg.: 'WEIGHT'}\n"
     ]
    }
   ],
   "source": [
    "doc = nlp('I have a Black shirt, which is 3 kg.')\n",
    "spacy.displacy.render(doc, style=\"ent\")\n",
    "ent_output(doc)"
   ]
  },
  {
   "cell_type": "markdown",
   "metadata": {},
   "source": [
    "## 7. Accuracy"
   ]
  },
  {
   "cell_type": "code",
   "execution_count": 32,
   "metadata": {},
   "outputs": [],
   "source": [
    "def evaluate(ner_model, examples):\n",
    "    scorer = Scorer()\n",
    "    for input_, annot in examples:\n",
    "        doc_gold_text = ner_model.make_doc(input_)\n",
    "        gold = GoldParse(doc_gold_text, entities=annot['entities'])\n",
    "        pred_value = ner_model(input_)\n",
    "        scorer.score(pred_value, gold)\n",
    "    return scorer.scores"
   ]
  },
  {
   "cell_type": "markdown",
   "metadata": {},
   "source": [
    "The explanations of the scores:\n",
    "- ents_p: Named entity accuracy (precision).\n",
    "- ents_r: Named entity accuracy (recall).\n",
    "- ents_f: Named entity accuracy (F-score).\n",
    "- ents_per_type: Scores per entity label. Keyed by label, mapped to a dict of p, r and f scores.\n",
    "- token_acc: Tokenization accuracy."
   ]
  },
  {
   "cell_type": "markdown",
   "metadata": {},
   "source": [
    "### 1) Scores on the Trained Data"
   ]
  },
  {
   "cell_type": "code",
   "execution_count": 33,
   "metadata": {},
   "outputs": [],
   "source": [
    "results = evaluate(nlp, TRAIN_DATA)"
   ]
  },
  {
   "cell_type": "code",
   "execution_count": 34,
   "metadata": {
    "scrolled": false
   },
   "outputs": [
    {
     "data": {
      "text/plain": [
       "{'uas': 0.0,\n",
       " 'las': 0.0,\n",
       " 'las_per_type': {'': {'p': 0.0, 'r': 0.0, 'f': 0.0}},\n",
       " 'ents_p': 99.86586574911063,\n",
       " 'ents_r': 99.9474697951322,\n",
       " 'ents_f': 99.90665110851809,\n",
       " 'ents_per_type': {'SIZE': {'p': 99.83510011778563,\n",
       "   'r': 99.95283018867924,\n",
       "   'f': 99.8939304655274},\n",
       "  'BRAND': {'p': 99.94297120045623,\n",
       "   'r': 99.9144811858609,\n",
       "   'f': 99.92872416250891},\n",
       "  'COLOR': {'p': 99.91847826086956,\n",
       "   'r': 99.97281131049483,\n",
       "   'f': 99.9456374014678},\n",
       "  'MATERIAL': {'p': 99.1566265060241, 'r': 100.0, 'f': 99.57652752571082},\n",
       "  'GENDER': {'p': 100.0, 'r': 100.0, 'f': 100.0},\n",
       "  'WEIGHT': {'p': 99.625468164794, 'r': 100.0, 'f': 99.812382739212},\n",
       "  'AGE_GROUP': {'p': 100.0, 'r': 100.0, 'f': 100.0}},\n",
       " 'tags_acc': 0.0,\n",
       " 'token_acc': 100.0,\n",
       " 'textcat_score': 0.0,\n",
       " 'textcats_per_cat': {}}"
      ]
     },
     "execution_count": 34,
     "metadata": {},
     "output_type": "execute_result"
    }
   ],
   "source": [
    "results"
   ]
  },
  {
   "cell_type": "markdown",
   "metadata": {},
   "source": [
    "### 2) Scores on the Unseen Data"
   ]
  },
  {
   "cell_type": "code",
   "execution_count": 35,
   "metadata": {},
   "outputs": [],
   "source": [
    "df_sample=df.sample(n=1000, random_state=1)"
   ]
  },
  {
   "cell_type": "code",
   "execution_count": 36,
   "metadata": {},
   "outputs": [],
   "source": [
    "test_data=[]\n",
    "for n in range(0,len(df_sample['title'])):\n",
    "    if df_sample['title'].iloc[n] not in titles_unique_brand:\n",
    "        annotation=obtain_annotation(df_sample['title'].iloc[n])\n",
    "        if annotation[1]['entities']!=[]:\n",
    "            test_data.append(annotation)"
   ]
  },
  {
   "cell_type": "code",
   "execution_count": 37,
   "metadata": {},
   "outputs": [],
   "source": [
    "for n in range(0,len(df_sample['description'])):\n",
    "    if type(df_sample['description'].iloc[n])==str:\n",
    "        if df_sample['description'].iloc[n] not in description_unique_brand:\n",
    "            if '<' not in df_sample['description'].iloc[n]:\n",
    "                if '&' not in df_sample['description'].iloc[n]:\n",
    "                    annotation=obtain_annotation(df_sample['description'].iloc[n])\n",
    "                    if annotation[1]['entities']!=[]:\n",
    "                        test_data.append(annotation)"
   ]
  },
  {
   "cell_type": "code",
   "execution_count": 38,
   "metadata": {},
   "outputs": [
    {
     "data": {
      "text/plain": [
       "1414"
      ]
     },
     "execution_count": 38,
     "metadata": {},
     "output_type": "execute_result"
    }
   ],
   "source": [
    "len(test_data)"
   ]
  },
  {
   "cell_type": "code",
   "execution_count": 39,
   "metadata": {},
   "outputs": [],
   "source": [
    "with open(\"test_data.txt\", \"wb\") as fp:   #Pickling\n",
    "    pickle.dump(test_data, fp)"
   ]
  },
  {
   "cell_type": "code",
   "execution_count": 40,
   "metadata": {},
   "outputs": [],
   "source": [
    "results = evaluate(nlp, test_data)"
   ]
  },
  {
   "cell_type": "code",
   "execution_count": 41,
   "metadata": {},
   "outputs": [
    {
     "data": {
      "text/plain": [
       "{'uas': 0.0,\n",
       " 'las': 0.0,\n",
       " 'las_per_type': {'': {'p': 0.0, 'r': 0.0, 'f': 0.0}},\n",
       " 'ents_p': 82.85446595877576,\n",
       " 'ents_r': 88.16882685277501,\n",
       " 'ents_f': 85.42907744324584,\n",
       " 'ents_per_type': {'BRAND': {'p': 80.19884009942005,\n",
       "   'r': 86.19768477292965,\n",
       "   'f': 83.09012875536482},\n",
       "  'GENDER': {'p': 97.85714285714285,\n",
       "   'r': 98.56115107913669,\n",
       "   'f': 98.2078853046595},\n",
       "  'SIZE': {'p': 80.65296251511487,\n",
       "   'r': 85.18518518518519,\n",
       "   'f': 82.85714285714286},\n",
       "  'COLOR': {'p': 86.49789029535864,\n",
       "   'r': 90.04392386530014,\n",
       "   'f': 88.23529411764706},\n",
       "  'AGE_GROUP': {'p': 100.0, 'r': 94.11764705882352, 'f': 96.96969696969697},\n",
       "  'MATERIAL': {'p': 85.17241379310346,\n",
       "   'r': 94.6360153256705,\n",
       "   'f': 89.65517241379311},\n",
       "  'WEIGHT': {'p': 27.27272727272727, 'r': 100.0, 'f': 42.857142857142854}},\n",
       " 'tags_acc': 0.0,\n",
       " 'token_acc': 100.0,\n",
       " 'textcat_score': 0.0,\n",
       " 'textcats_per_cat': {}}"
      ]
     },
     "execution_count": 41,
     "metadata": {},
     "output_type": "execute_result"
    }
   ],
   "source": [
    "results"
   ]
  },
  {
   "cell_type": "markdown",
   "metadata": {},
   "source": [
    "- The overall accuraries are above 80%.\n",
    "- The accuracies for each type are:\n",
    "    - The most accurate entity label is GENDER and AGE_GROUP (>99%) for all three types of accuracies.\n",
    "    - The second most accurate entity label is MATERIAL (approximately 90%) for all three types of accuracies.\n",
    "    - The accuraies of COLOR  label is above just below 90%.\n",
    "    - BRAND, SIZE have similar accuracies, which are above 80%.\n",
    "    - WEIGHT label gives quite a different values for three types of accuracies."
   ]
  },
  {
   "cell_type": "markdown",
   "metadata": {},
   "source": [
    "## 8. Conclusion\n",
    "\n",
    "The results for the trained data and unseen data are both good. Although the accuracy of the trained data is 100%, the accuracy on the unseen data is about 80%. This means the current model is overfitting. Future works should be focused on increasing the accuracy of the test data.\n",
    "\n",
    "Other issues are:\n",
    "- The problem on the accuracy of the WEIGHT label\n",
    "- More combined entities, Collection:Men \n",
    "- Other entity types (labels)? (Products…)"
   ]
  }
 ],
 "metadata": {
  "kernelspec": {
   "display_name": "Python3",
   "language": "python",
   "name": "python3"
  },
  "language_info": {
   "codemirror_mode": {
    "name": "ipython",
    "version": 3
   },
   "file_extension": ".py",
   "mimetype": "text/x-python",
   "name": "python",
   "nbconvert_exporter": "python",
   "pygments_lexer": "ipython3",
   "version": "3.8.2"
  },
  "latex_envs": {
   "LaTeX_envs_menu_present": true,
   "autoclose": false,
   "autocomplete": true,
   "bibliofile": "biblio.bib",
   "cite_by": "apalike",
   "current_citInitial": 1,
   "eqLabelWithNumbers": true,
   "eqNumInitial": 1,
   "hotkeys": {
    "equation": "Ctrl-E",
    "itemize": "Ctrl-I"
   },
   "labels_anchors": false,
   "latex_user_defs": false,
   "report_style_numbering": false,
   "user_envs_cfg": false
  },
  "varInspector": {
   "cols": {
    "lenName": 16,
    "lenType": 16,
    "lenVar": 40
   },
   "kernels_config": {
    "python": {
     "delete_cmd_postfix": "",
     "delete_cmd_prefix": "del ",
     "library": "var_list.py",
     "varRefreshCmd": "print(var_dic_list())"
    },
    "r": {
     "delete_cmd_postfix": ") ",
     "delete_cmd_prefix": "rm(",
     "library": "var_list.r",
     "varRefreshCmd": "cat(var_dic_list()) "
    }
   },
   "types_to_exclude": [
    "module",
    "function",
    "builtin_function_or_method",
    "instance",
    "_Feature"
   ],
   "window_display": false
  }
 },
 "nbformat": 4,
 "nbformat_minor": 2
}
